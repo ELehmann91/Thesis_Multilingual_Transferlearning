{
  "nbformat": 4,
  "nbformat_minor": 0,
  "metadata": {
    "colab": {
      "name": "Text_Annotation_Tool_AT.ipynb",
      "provenance": [],
      "collapsed_sections": [],
      "toc_visible": true,
      "authorship_tag": "ABX9TyMrtVu5TSWmdoJQbyW6wk1k",
      "include_colab_link": true
    },
    "kernelspec": {
      "name": "python3",
      "display_name": "Python 3"
    },
    "widgets": {
      "application/vnd.jupyter.widget-state+json": {
        "12f352dcd371437993e88426b152bc95": {
          "model_module": "@jupyter-widgets/controls",
          "model_name": "VBoxModel",
          "state": {
            "_view_name": "VBoxView",
            "_dom_classes": [],
            "_model_name": "VBoxModel",
            "_view_module": "@jupyter-widgets/controls",
            "_model_module_version": "1.5.0",
            "_view_count": null,
            "_view_module_version": "1.5.0",
            "box_style": "",
            "layout": "IPY_MODEL_016a93d8376d47319fb41c4d6ea8aa62",
            "_model_module": "@jupyter-widgets/controls",
            "children": [
              "IPY_MODEL_515f19741d544200805fc247a079d600",
              "IPY_MODEL_1c99ad5725ee440cb8f3e7785bb5d0e9",
              "IPY_MODEL_bc121ac7452c428da7bd11f8df7d3c0e",
              "IPY_MODEL_d4eb821852d144088a9ea00f6efc1a90",
              "IPY_MODEL_097fc4fa436047acb6b6f65ed54f3ba2"
            ]
          }
        },
        "016a93d8376d47319fb41c4d6ea8aa62": {
          "model_module": "@jupyter-widgets/base",
          "model_name": "LayoutModel",
          "state": {
            "_view_name": "LayoutView",
            "grid_template_rows": null,
            "right": null,
            "justify_content": null,
            "_view_module": "@jupyter-widgets/base",
            "overflow": null,
            "_model_module_version": "1.2.0",
            "_view_count": null,
            "flex_flow": null,
            "width": null,
            "min_width": null,
            "border": null,
            "align_items": null,
            "bottom": null,
            "_model_module": "@jupyter-widgets/base",
            "top": null,
            "grid_column": null,
            "overflow_y": null,
            "overflow_x": null,
            "grid_auto_flow": null,
            "grid_area": null,
            "grid_template_columns": null,
            "flex": null,
            "_model_name": "LayoutModel",
            "justify_items": null,
            "grid_row": null,
            "max_height": null,
            "align_content": null,
            "visibility": null,
            "align_self": null,
            "height": null,
            "min_height": null,
            "padding": null,
            "grid_auto_rows": null,
            "grid_gap": null,
            "max_width": null,
            "order": null,
            "_view_module_version": "1.2.0",
            "grid_template_areas": null,
            "object_position": null,
            "object_fit": null,
            "grid_auto_columns": null,
            "margin": null,
            "display": null,
            "left": null
          }
        },
        "515f19741d544200805fc247a079d600": {
          "model_module": "@jupyter-widgets/controls",
          "model_name": "TextModel",
          "state": {
            "_view_name": "TextView",
            "style": "IPY_MODEL_86709505cd4442fe947547c54e16d9b5",
            "_dom_classes": [],
            "description": "Text 1:",
            "_model_name": "TextModel",
            "placeholder": "​",
            "_view_module": "@jupyter-widgets/controls",
            "_model_module_version": "1.5.0",
            "value": "Iglo Erntefrisch Buntes Pusztagemüse",
            "_view_count": null,
            "disabled": false,
            "_view_module_version": "1.5.0",
            "continuous_update": true,
            "description_tooltip": null,
            "_model_module": "@jupyter-widgets/controls",
            "layout": "IPY_MODEL_5eb81635d6e74937828e75cbdc8afff9"
          }
        },
        "1c99ad5725ee440cb8f3e7785bb5d0e9": {
          "model_module": "@jupyter-widgets/controls",
          "model_name": "TextModel",
          "state": {
            "_view_name": "TextView",
            "style": "IPY_MODEL_fa2454484afd452999208071fe1fc5c5",
            "_dom_classes": [],
            "description": "Text 2:",
            "_model_name": "TextModel",
            "placeholder": "​",
            "_view_module": "@jupyter-widgets/controls",
            "_model_module_version": "1.5.0",
            "value": "Tiefkühlung   Gemüse, Obst & Kartoffelprodukte   Gemüse",
            "_view_count": null,
            "disabled": false,
            "_view_module_version": "1.5.0",
            "continuous_update": true,
            "description_tooltip": null,
            "_model_module": "@jupyter-widgets/controls",
            "layout": "IPY_MODEL_d946cda2209f47afafc5c4800cbdac65"
          }
        },
        "bc121ac7452c428da7bd11f8df7d3c0e": {
          "model_module": "@jupyter-widgets/controls",
          "model_name": "TextModel",
          "state": {
            "_view_name": "TextView",
            "style": "IPY_MODEL_a68df289f3a34f10a745848a49835c4a",
            "_dom_classes": [],
            "description": "Url:",
            "_model_name": "TextModel",
            "placeholder": "​",
            "_view_module": "@jupyter-widgets/controls",
            "_model_module_version": "1.5.0",
            "value": "https://www.interspar.at/shop/lebensmittel/iglo-erntefrisch-buntes-pusztagemuese/p/2551067",
            "_view_count": null,
            "disabled": false,
            "_view_module_version": "1.5.0",
            "continuous_update": true,
            "description_tooltip": null,
            "_model_module": "@jupyter-widgets/controls",
            "layout": "IPY_MODEL_8eb8f6c0450d456586e6f2b69f4a6b50"
          }
        },
        "d4eb821852d144088a9ea00f6efc1a90": {
          "model_module": "@jupyter-widgets/controls",
          "model_name": "BoxModel",
          "state": {
            "_view_name": "BoxView",
            "_dom_classes": [],
            "_model_name": "BoxModel",
            "_view_module": "@jupyter-widgets/controls",
            "_model_module_version": "1.5.0",
            "_view_count": null,
            "_view_module_version": "1.5.0",
            "box_style": "",
            "layout": "IPY_MODEL_7fdc8a0d180f4398a39837e2fa01912c",
            "_model_module": "@jupyter-widgets/controls",
            "children": [
              "IPY_MODEL_ca0f6481efc4407f902c50baacf0796f",
              "IPY_MODEL_d28093f45e4e438abffb8e6b4d4b317b"
            ]
          }
        },
        "097fc4fa436047acb6b6f65ed54f3ba2": {
          "model_module": "@jupyter-widgets/controls",
          "model_name": "BoxModel",
          "state": {
            "_view_name": "BoxView",
            "_dom_classes": [],
            "_model_name": "BoxModel",
            "_view_module": "@jupyter-widgets/controls",
            "_model_module_version": "1.5.0",
            "_view_count": null,
            "_view_module_version": "1.5.0",
            "box_style": "",
            "layout": "IPY_MODEL_dbb711f5d5154222a29fc7cb686b707b",
            "_model_module": "@jupyter-widgets/controls",
            "children": [
              "IPY_MODEL_2be6fde11c694025ab8195ffc43b8e69",
              "IPY_MODEL_c72f5c8dd6ca4fd191b0693981f73874",
              "IPY_MODEL_63c38b052e8744f9955326552c2abfbd",
              "IPY_MODEL_09bccd3fe2a042fcab3843b11d48a2be"
            ]
          }
        },
        "86709505cd4442fe947547c54e16d9b5": {
          "model_module": "@jupyter-widgets/controls",
          "model_name": "DescriptionStyleModel",
          "state": {
            "_view_name": "StyleView",
            "_model_name": "DescriptionStyleModel",
            "description_width": "",
            "_view_module": "@jupyter-widgets/base",
            "_model_module_version": "1.5.0",
            "_view_count": null,
            "_view_module_version": "1.2.0",
            "_model_module": "@jupyter-widgets/controls"
          }
        },
        "5eb81635d6e74937828e75cbdc8afff9": {
          "model_module": "@jupyter-widgets/base",
          "model_name": "LayoutModel",
          "state": {
            "_view_name": "LayoutView",
            "grid_template_rows": null,
            "right": null,
            "justify_content": null,
            "_view_module": "@jupyter-widgets/base",
            "overflow": null,
            "_model_module_version": "1.2.0",
            "_view_count": null,
            "flex_flow": null,
            "width": "80%",
            "min_width": null,
            "border": null,
            "align_items": null,
            "bottom": null,
            "_model_module": "@jupyter-widgets/base",
            "top": null,
            "grid_column": null,
            "overflow_y": null,
            "overflow_x": null,
            "grid_auto_flow": null,
            "grid_area": null,
            "grid_template_columns": null,
            "flex": null,
            "_model_name": "LayoutModel",
            "justify_items": null,
            "grid_row": null,
            "max_height": null,
            "align_content": null,
            "visibility": null,
            "align_self": null,
            "height": "40px",
            "min_height": null,
            "padding": null,
            "grid_auto_rows": null,
            "grid_gap": null,
            "max_width": null,
            "order": null,
            "_view_module_version": "1.2.0",
            "grid_template_areas": null,
            "object_position": null,
            "object_fit": null,
            "grid_auto_columns": null,
            "margin": null,
            "display": null,
            "left": null
          }
        },
        "fa2454484afd452999208071fe1fc5c5": {
          "model_module": "@jupyter-widgets/controls",
          "model_name": "DescriptionStyleModel",
          "state": {
            "_view_name": "StyleView",
            "_model_name": "DescriptionStyleModel",
            "description_width": "",
            "_view_module": "@jupyter-widgets/base",
            "_model_module_version": "1.5.0",
            "_view_count": null,
            "_view_module_version": "1.2.0",
            "_model_module": "@jupyter-widgets/controls"
          }
        },
        "d946cda2209f47afafc5c4800cbdac65": {
          "model_module": "@jupyter-widgets/base",
          "model_name": "LayoutModel",
          "state": {
            "_view_name": "LayoutView",
            "grid_template_rows": null,
            "right": null,
            "justify_content": null,
            "_view_module": "@jupyter-widgets/base",
            "overflow": null,
            "_model_module_version": "1.2.0",
            "_view_count": null,
            "flex_flow": null,
            "width": "80%",
            "min_width": null,
            "border": null,
            "align_items": null,
            "bottom": null,
            "_model_module": "@jupyter-widgets/base",
            "top": null,
            "grid_column": null,
            "overflow_y": null,
            "overflow_x": null,
            "grid_auto_flow": null,
            "grid_area": null,
            "grid_template_columns": null,
            "flex": null,
            "_model_name": "LayoutModel",
            "justify_items": null,
            "grid_row": null,
            "max_height": null,
            "align_content": null,
            "visibility": null,
            "align_self": null,
            "height": "40px",
            "min_height": null,
            "padding": null,
            "grid_auto_rows": null,
            "grid_gap": null,
            "max_width": null,
            "order": null,
            "_view_module_version": "1.2.0",
            "grid_template_areas": null,
            "object_position": null,
            "object_fit": null,
            "grid_auto_columns": null,
            "margin": null,
            "display": null,
            "left": null
          }
        },
        "a68df289f3a34f10a745848a49835c4a": {
          "model_module": "@jupyter-widgets/controls",
          "model_name": "DescriptionStyleModel",
          "state": {
            "_view_name": "StyleView",
            "_model_name": "DescriptionStyleModel",
            "description_width": "",
            "_view_module": "@jupyter-widgets/base",
            "_model_module_version": "1.5.0",
            "_view_count": null,
            "_view_module_version": "1.2.0",
            "_model_module": "@jupyter-widgets/controls"
          }
        },
        "8eb8f6c0450d456586e6f2b69f4a6b50": {
          "model_module": "@jupyter-widgets/base",
          "model_name": "LayoutModel",
          "state": {
            "_view_name": "LayoutView",
            "grid_template_rows": null,
            "right": null,
            "justify_content": null,
            "_view_module": "@jupyter-widgets/base",
            "overflow": null,
            "_model_module_version": "1.2.0",
            "_view_count": null,
            "flex_flow": null,
            "width": "80%",
            "min_width": null,
            "border": null,
            "align_items": null,
            "bottom": null,
            "_model_module": "@jupyter-widgets/base",
            "top": null,
            "grid_column": null,
            "overflow_y": null,
            "overflow_x": null,
            "grid_auto_flow": null,
            "grid_area": null,
            "grid_template_columns": null,
            "flex": null,
            "_model_name": "LayoutModel",
            "justify_items": null,
            "grid_row": null,
            "max_height": null,
            "align_content": null,
            "visibility": null,
            "align_self": null,
            "height": "40px",
            "min_height": null,
            "padding": null,
            "grid_auto_rows": null,
            "grid_gap": null,
            "max_width": null,
            "order": null,
            "_view_module_version": "1.2.0",
            "grid_template_areas": null,
            "object_position": null,
            "object_fit": null,
            "grid_auto_columns": null,
            "margin": null,
            "display": null,
            "left": null
          }
        },
        "7fdc8a0d180f4398a39837e2fa01912c": {
          "model_module": "@jupyter-widgets/base",
          "model_name": "LayoutModel",
          "state": {
            "_view_name": "LayoutView",
            "grid_template_rows": null,
            "right": null,
            "justify_content": null,
            "_view_module": "@jupyter-widgets/base",
            "overflow": null,
            "_model_module_version": "1.2.0",
            "_view_count": null,
            "flex_flow": "column",
            "width": "80%",
            "min_width": null,
            "border": null,
            "align_items": "stretch",
            "bottom": null,
            "_model_module": "@jupyter-widgets/base",
            "top": null,
            "grid_column": null,
            "overflow_y": null,
            "overflow_x": null,
            "grid_auto_flow": null,
            "grid_area": null,
            "grid_template_columns": null,
            "flex": null,
            "_model_name": "LayoutModel",
            "justify_items": null,
            "grid_row": null,
            "max_height": null,
            "align_content": "center",
            "visibility": null,
            "align_self": null,
            "height": null,
            "min_height": null,
            "padding": null,
            "grid_auto_rows": null,
            "grid_gap": null,
            "max_width": null,
            "order": null,
            "_view_module_version": "1.2.0",
            "grid_template_areas": null,
            "object_position": null,
            "object_fit": null,
            "grid_auto_columns": null,
            "margin": null,
            "display": "flex",
            "left": null
          }
        },
        "ca0f6481efc4407f902c50baacf0796f": {
          "model_module": "@jupyter-widgets/controls",
          "model_name": "DropdownModel",
          "state": {
            "_options_labels": [
              "1111_Rice",
              "1112_Flours and other cereals",
              "1113_Bread",
              "1114_Other bakery products",
              "1115_Pizza and quiche",
              "1116_Pasta products and couscous",
              "1117_Breakfast cereals",
              "1118_Other cereal products",
              "1121_Beef and veal",
              "1122_Pork",
              "1123_Lamb and goat",
              "1124_Poultry",
              "1125_Other meats",
              "1126_Edible offal",
              "1127_Dried, salted or smoked meat",
              "1128_Other meat preparations",
              "1131_Fresh or chilled fish",
              "1132_Frozen fish",
              "1133_Fresh or chilled seafood",
              "1134_Frozen seafood",
              "1135_Dried, smoked or salted fish and seafood",
              "1136_Other preserved or processed fish and seafood-based preparations",
              "1141_Fresh whole milk",
              "1142_Fresh low fat milk",
              "1143_Preserved milk",
              "1144_Yoghurt",
              "1145_Cheese and curd",
              "1146_Other milk products",
              "1147_Eggs",
              "1151_Butter",
              "1152_Margarine and other vegetable fats",
              "1153_Olive oil",
              "1154_Other edible oils",
              "1155_Other edible animal fats",
              "1161_Fresh or chilled fruit",
              "1162_Frozen fruit",
              "1163_Dried fruit and nuts",
              "1164_Preserved fruit and fruit-based products",
              "1171_Fresh or chilled vegetables other than potatoes and other tubers",
              "1172_Frozen vegetables other than potatoes and other tubers",
              "1173_Dried vegetables, other preserved or processed vegetables",
              "1174_Potatoes",
              "1175_Crisps",
              "1176_Other tubers and products of tuber vegetables",
              "1181_Sugar",
              "1182_Jams, marmalades and honey",
              "1183_Chocolate",
              "1184_Confectionery products",
              "1185_Edible ices and ice cream",
              "1186_Artificial sugar substitutes",
              "1191_Sauces, condiments",
              "1192_Salt, spices and culinary herbs",
              "1193_Baby food",
              "1194_Ready-made meals",
              "1199_Other food products n.e.c.",
              "1211_Coffee",
              "1212_Tea",
              "1213_Cocoa and powdered chocolate",
              "1221_Mineral or spring waters",
              "1222_Soft drinks",
              "1223_Fruit and vegetable juices",
              "2111_Spirits and liqueurs",
              "2112_Alcoholic soft drinks",
              "2121_Wine from grapes",
              "2122_Wine from other fruits",
              "2123_Fortified wines",
              "2124_Wine-based drinks",
              "2131_Lager beer",
              "2132_Other alcoholic beer",
              "2133_Low and non-alcoholic beer",
              "2134_Beer-based drinks",
              "2201_Cigarettes",
              "2202_Cigars",
              "2203_Other tobacco products",
              "9999_Non-Food"
            ],
            "_view_name": "DropdownView",
            "style": "IPY_MODEL_fac6fa4503884e829db30a5a7e64c91a",
            "_dom_classes": [],
            "description": "COICOP 5:",
            "_model_name": "DropdownModel",
            "index": 35,
            "_view_module": "@jupyter-widgets/controls",
            "_model_module_version": "1.5.0",
            "_view_count": null,
            "disabled": false,
            "_view_module_version": "1.5.0",
            "description_tooltip": null,
            "_model_module": "@jupyter-widgets/controls",
            "layout": "IPY_MODEL_e652ad53aad04f9cbb0c0307aa5f6eec"
          }
        },
        "d28093f45e4e438abffb8e6b4d4b317b": {
          "model_module": "@jupyter-widgets/output",
          "model_name": "OutputModel",
          "state": {
            "_view_name": "OutputView",
            "msg_id": "",
            "_dom_classes": [],
            "_model_name": "OutputModel",
            "outputs": [],
            "_view_module": "@jupyter-widgets/output",
            "_model_module_version": "1.0.0",
            "_view_count": null,
            "_view_module_version": "1.0.0",
            "layout": "IPY_MODEL_29a13b7f67bd4c78a66a0d681e970c5f",
            "_model_module": "@jupyter-widgets/output"
          }
        },
        "dbb711f5d5154222a29fc7cb686b707b": {
          "model_module": "@jupyter-widgets/base",
          "model_name": "LayoutModel",
          "state": {
            "_view_name": "LayoutView",
            "grid_template_rows": null,
            "right": null,
            "justify_content": null,
            "_view_module": "@jupyter-widgets/base",
            "overflow": null,
            "_model_module_version": "1.2.0",
            "_view_count": null,
            "flex_flow": "row",
            "width": "80%",
            "min_width": null,
            "border": null,
            "align_items": "stretch",
            "bottom": null,
            "_model_module": "@jupyter-widgets/base",
            "top": null,
            "grid_column": null,
            "overflow_y": null,
            "overflow_x": null,
            "grid_auto_flow": null,
            "grid_area": null,
            "grid_template_columns": null,
            "flex": null,
            "_model_name": "LayoutModel",
            "justify_items": null,
            "grid_row": null,
            "max_height": null,
            "align_content": "center",
            "visibility": null,
            "align_self": null,
            "height": null,
            "min_height": null,
            "padding": null,
            "grid_auto_rows": null,
            "grid_gap": null,
            "max_width": null,
            "order": null,
            "_view_module_version": "1.2.0",
            "grid_template_areas": null,
            "object_position": null,
            "object_fit": null,
            "grid_auto_columns": null,
            "margin": null,
            "display": "flex",
            "left": null
          }
        },
        "2be6fde11c694025ab8195ffc43b8e69": {
          "model_module": "@jupyter-widgets/controls",
          "model_name": "ButtonModel",
          "state": {
            "_view_name": "ButtonView",
            "style": "IPY_MODEL_f33c2f60ff8947d28d5afa75b0c2620f",
            "_dom_classes": [],
            "description": "Next",
            "_model_name": "ButtonModel",
            "button_style": "",
            "_view_module": "@jupyter-widgets/controls",
            "_model_module_version": "1.5.0",
            "tooltip": "",
            "_view_count": null,
            "disabled": false,
            "_view_module_version": "1.5.0",
            "layout": "IPY_MODEL_e0dde8a54366418fb30ef3f7c7b9d904",
            "_model_module": "@jupyter-widgets/controls",
            "icon": ""
          }
        },
        "c72f5c8dd6ca4fd191b0693981f73874": {
          "model_module": "@jupyter-widgets/output",
          "model_name": "OutputModel",
          "state": {
            "_view_name": "OutputView",
            "msg_id": "",
            "_dom_classes": [],
            "_model_name": "OutputModel",
            "outputs": [],
            "_view_module": "@jupyter-widgets/output",
            "_model_module_version": "1.0.0",
            "_view_count": null,
            "_view_module_version": "1.0.0",
            "layout": "IPY_MODEL_23cb3258308649ecb7df12669802b2da",
            "_model_module": "@jupyter-widgets/output"
          }
        },
        "63c38b052e8744f9955326552c2abfbd": {
          "model_module": "@jupyter-widgets/controls",
          "model_name": "ButtonModel",
          "state": {
            "_view_name": "ButtonView",
            "style": "IPY_MODEL_8e347300d96d4452a85ba5b99efc0903",
            "_dom_classes": [],
            "description": "Save",
            "_model_name": "ButtonModel",
            "button_style": "",
            "_view_module": "@jupyter-widgets/controls",
            "_model_module_version": "1.5.0",
            "tooltip": "",
            "_view_count": null,
            "disabled": false,
            "_view_module_version": "1.5.0",
            "layout": "IPY_MODEL_dbb1189372f4451cbbb818a335af5cce",
            "_model_module": "@jupyter-widgets/controls",
            "icon": ""
          }
        },
        "09bccd3fe2a042fcab3843b11d48a2be": {
          "model_module": "@jupyter-widgets/output",
          "model_name": "OutputModel",
          "state": {
            "_view_name": "OutputView",
            "msg_id": "",
            "_dom_classes": [],
            "_model_name": "OutputModel",
            "outputs": [],
            "_view_module": "@jupyter-widgets/output",
            "_model_module_version": "1.0.0",
            "_view_count": null,
            "_view_module_version": "1.0.0",
            "layout": "IPY_MODEL_a2d525e245d94bddba415c2fabc24040",
            "_model_module": "@jupyter-widgets/output"
          }
        },
        "fac6fa4503884e829db30a5a7e64c91a": {
          "model_module": "@jupyter-widgets/controls",
          "model_name": "DescriptionStyleModel",
          "state": {
            "_view_name": "StyleView",
            "_model_name": "DescriptionStyleModel",
            "description_width": "",
            "_view_module": "@jupyter-widgets/base",
            "_model_module_version": "1.5.0",
            "_view_count": null,
            "_view_module_version": "1.2.0",
            "_model_module": "@jupyter-widgets/controls"
          }
        },
        "e652ad53aad04f9cbb0c0307aa5f6eec": {
          "model_module": "@jupyter-widgets/base",
          "model_name": "LayoutModel",
          "state": {
            "_view_name": "LayoutView",
            "grid_template_rows": null,
            "right": null,
            "justify_content": null,
            "_view_module": "@jupyter-widgets/base",
            "overflow": null,
            "_model_module_version": "1.2.0",
            "_view_count": null,
            "flex_flow": null,
            "width": "80%",
            "min_width": null,
            "border": null,
            "align_items": null,
            "bottom": null,
            "_model_module": "@jupyter-widgets/base",
            "top": null,
            "grid_column": null,
            "overflow_y": null,
            "overflow_x": null,
            "grid_auto_flow": null,
            "grid_area": null,
            "grid_template_columns": null,
            "flex": null,
            "_model_name": "LayoutModel",
            "justify_items": null,
            "grid_row": null,
            "max_height": null,
            "align_content": null,
            "visibility": null,
            "align_self": null,
            "height": "40px",
            "min_height": null,
            "padding": null,
            "grid_auto_rows": null,
            "grid_gap": null,
            "max_width": null,
            "order": null,
            "_view_module_version": "1.2.0",
            "grid_template_areas": null,
            "object_position": null,
            "object_fit": null,
            "grid_auto_columns": null,
            "margin": null,
            "display": null,
            "left": null
          }
        },
        "f33c2f60ff8947d28d5afa75b0c2620f": {
          "model_module": "@jupyter-widgets/controls",
          "model_name": "ButtonStyleModel",
          "state": {
            "_view_name": "StyleView",
            "_model_name": "ButtonStyleModel",
            "_view_module": "@jupyter-widgets/base",
            "_model_module_version": "1.5.0",
            "_view_count": null,
            "button_color": null,
            "font_weight": "",
            "_view_module_version": "1.2.0",
            "_model_module": "@jupyter-widgets/controls"
          }
        },
        "e0dde8a54366418fb30ef3f7c7b9d904": {
          "model_module": "@jupyter-widgets/base",
          "model_name": "LayoutModel",
          "state": {
            "_view_name": "LayoutView",
            "grid_template_rows": null,
            "right": null,
            "justify_content": null,
            "_view_module": "@jupyter-widgets/base",
            "overflow": null,
            "_model_module_version": "1.2.0",
            "_view_count": null,
            "flex_flow": null,
            "width": null,
            "min_width": null,
            "border": null,
            "align_items": null,
            "bottom": null,
            "_model_module": "@jupyter-widgets/base",
            "top": null,
            "grid_column": null,
            "overflow_y": null,
            "overflow_x": null,
            "grid_auto_flow": null,
            "grid_area": null,
            "grid_template_columns": null,
            "flex": null,
            "_model_name": "LayoutModel",
            "justify_items": null,
            "grid_row": null,
            "max_height": null,
            "align_content": null,
            "visibility": null,
            "align_self": null,
            "height": null,
            "min_height": null,
            "padding": null,
            "grid_auto_rows": null,
            "grid_gap": null,
            "max_width": null,
            "order": null,
            "_view_module_version": "1.2.0",
            "grid_template_areas": null,
            "object_position": null,
            "object_fit": null,
            "grid_auto_columns": null,
            "margin": null,
            "display": null,
            "left": null
          }
        },
        "8e347300d96d4452a85ba5b99efc0903": {
          "model_module": "@jupyter-widgets/controls",
          "model_name": "ButtonStyleModel",
          "state": {
            "_view_name": "StyleView",
            "_model_name": "ButtonStyleModel",
            "_view_module": "@jupyter-widgets/base",
            "_model_module_version": "1.5.0",
            "_view_count": null,
            "button_color": null,
            "font_weight": "",
            "_view_module_version": "1.2.0",
            "_model_module": "@jupyter-widgets/controls"
          }
        },
        "dbb1189372f4451cbbb818a335af5cce": {
          "model_module": "@jupyter-widgets/base",
          "model_name": "LayoutModel",
          "state": {
            "_view_name": "LayoutView",
            "grid_template_rows": null,
            "right": null,
            "justify_content": null,
            "_view_module": "@jupyter-widgets/base",
            "overflow": null,
            "_model_module_version": "1.2.0",
            "_view_count": null,
            "flex_flow": null,
            "width": null,
            "min_width": null,
            "border": null,
            "align_items": null,
            "bottom": null,
            "_model_module": "@jupyter-widgets/base",
            "top": null,
            "grid_column": null,
            "overflow_y": null,
            "overflow_x": null,
            "grid_auto_flow": null,
            "grid_area": null,
            "grid_template_columns": null,
            "flex": null,
            "_model_name": "LayoutModel",
            "justify_items": null,
            "grid_row": null,
            "max_height": null,
            "align_content": null,
            "visibility": null,
            "align_self": null,
            "height": null,
            "min_height": null,
            "padding": null,
            "grid_auto_rows": null,
            "grid_gap": null,
            "max_width": null,
            "order": null,
            "_view_module_version": "1.2.0",
            "grid_template_areas": null,
            "object_position": null,
            "object_fit": null,
            "grid_auto_columns": null,
            "margin": null,
            "display": null,
            "left": null
          }
        },
        "29a13b7f67bd4c78a66a0d681e970c5f": {
          "model_module": "@jupyter-widgets/base",
          "model_name": "LayoutModel",
          "state": {
            "_view_name": "LayoutView",
            "grid_template_rows": null,
            "right": null,
            "justify_content": null,
            "_view_module": "@jupyter-widgets/base",
            "overflow": null,
            "_model_module_version": "1.2.0",
            "_view_count": null,
            "flex_flow": null,
            "width": null,
            "min_width": null,
            "border": null,
            "align_items": null,
            "bottom": null,
            "_model_module": "@jupyter-widgets/base",
            "top": null,
            "grid_column": null,
            "overflow_y": null,
            "overflow_x": null,
            "grid_auto_flow": null,
            "grid_area": null,
            "grid_template_columns": null,
            "flex": null,
            "_model_name": "LayoutModel",
            "justify_items": null,
            "grid_row": null,
            "max_height": null,
            "align_content": null,
            "visibility": null,
            "align_self": null,
            "height": null,
            "min_height": null,
            "padding": null,
            "grid_auto_rows": null,
            "grid_gap": null,
            "max_width": null,
            "order": null,
            "_view_module_version": "1.2.0",
            "grid_template_areas": null,
            "object_position": null,
            "object_fit": null,
            "grid_auto_columns": null,
            "margin": null,
            "display": null,
            "left": null
          }
        },
        "23cb3258308649ecb7df12669802b2da": {
          "model_module": "@jupyter-widgets/base",
          "model_name": "LayoutModel",
          "state": {
            "_view_name": "LayoutView",
            "grid_template_rows": null,
            "right": null,
            "justify_content": null,
            "_view_module": "@jupyter-widgets/base",
            "overflow": null,
            "_model_module_version": "1.2.0",
            "_view_count": null,
            "flex_flow": null,
            "width": null,
            "min_width": null,
            "border": null,
            "align_items": null,
            "bottom": null,
            "_model_module": "@jupyter-widgets/base",
            "top": null,
            "grid_column": null,
            "overflow_y": null,
            "overflow_x": null,
            "grid_auto_flow": null,
            "grid_area": null,
            "grid_template_columns": null,
            "flex": null,
            "_model_name": "LayoutModel",
            "justify_items": null,
            "grid_row": null,
            "max_height": null,
            "align_content": null,
            "visibility": null,
            "align_self": null,
            "height": null,
            "min_height": null,
            "padding": null,
            "grid_auto_rows": null,
            "grid_gap": null,
            "max_width": null,
            "order": null,
            "_view_module_version": "1.2.0",
            "grid_template_areas": null,
            "object_position": null,
            "object_fit": null,
            "grid_auto_columns": null,
            "margin": null,
            "display": null,
            "left": null
          }
        },
        "a2d525e245d94bddba415c2fabc24040": {
          "model_module": "@jupyter-widgets/base",
          "model_name": "LayoutModel",
          "state": {
            "_view_name": "LayoutView",
            "grid_template_rows": null,
            "right": null,
            "justify_content": null,
            "_view_module": "@jupyter-widgets/base",
            "overflow": null,
            "_model_module_version": "1.2.0",
            "_view_count": null,
            "flex_flow": null,
            "width": null,
            "min_width": null,
            "border": null,
            "align_items": null,
            "bottom": null,
            "_model_module": "@jupyter-widgets/base",
            "top": null,
            "grid_column": null,
            "overflow_y": null,
            "overflow_x": null,
            "grid_auto_flow": null,
            "grid_area": null,
            "grid_template_columns": null,
            "flex": null,
            "_model_name": "LayoutModel",
            "justify_items": null,
            "grid_row": null,
            "max_height": null,
            "align_content": null,
            "visibility": null,
            "align_self": null,
            "height": null,
            "min_height": null,
            "padding": null,
            "grid_auto_rows": null,
            "grid_gap": null,
            "max_width": null,
            "order": null,
            "_view_module_version": "1.2.0",
            "grid_template_areas": null,
            "object_position": null,
            "object_fit": null,
            "grid_auto_columns": null,
            "margin": null,
            "display": null,
            "left": null
          }
        }
      }
    }
  },
  "cells": [
    {
      "cell_type": "markdown",
      "metadata": {
        "id": "view-in-github",
        "colab_type": "text"
      },
      "source": [
        "<a href=\"https://colab.research.google.com/github/ELehmann91/Thesis_Multilingual_Transferlearning/blob/master/Text_Annotation_Tool_AT.ipynb\" target=\"_parent\"><img src=\"https://colab.research.google.com/assets/colab-badge.svg\" alt=\"Open In Colab\"/></a>"
      ]
    },
    {
      "cell_type": "markdown",
      "metadata": {
        "id": "c8aX4ibmIzSO",
        "colab_type": "text"
      },
      "source": [
        "<p><img alt=\"Colaboratory logo\" height=\"45px\" src=\"/img/colab_favicon.ico\" align=\"left\" hspace=\"10px\" vspace=\"0px\"></p>\n",
        "\n",
        "<h1>What is Colaboratory?</h1>\n",
        "\n",
        "Colaboratory, or \"Colab\" for short, allows you to write and execute Python in your browser, with \n",
        "- Zero configuration required\n",
        "- Free access to GPUs\n",
        "- Easy sharing\n",
        "\n",
        "Whether you're a **student**, a **data scientist** or an **AI researcher**, Colab can make your work easier. Watch [Introduction to Colab](https://www.youtube.com/watch?v=inN8seMm7UI) to learn more, or just get started below!"
      ]
    },
    {
      "cell_type": "markdown",
      "metadata": {
        "id": "j-9rGzn0Zki5",
        "colab_type": "text"
      },
      "source": [
        "# ECOICOP Annotation\n",
        "  \n",
        "Use this tool to annotate your product texts with the correspondant eCoiCop category. \n"
      ]
    },
    {
      "cell_type": "markdown",
      "metadata": {
        "id": "P8EyWQfdK9jR",
        "colab_type": "text"
      },
      "source": [
        "## Get code from GitHub\n",
        "  \n",
        "At first we need to download the code from Github to here."
      ]
    },
    {
      "cell_type": "code",
      "metadata": {
        "id": "ub8zb9s7v9QF",
        "colab_type": "code",
        "colab": {}
      },
      "source": [
        "%%capture\n",
        "!pip install eli5\n",
        "!git clone 'https://github.com/ELehmann91/Thesis_Multilingual_Transferlearning'\n",
        "\n",
        "%cd Thesis_Multilingual_Transferlearning\n",
        "import labeler_cc5\n",
        "import coicop_model\n",
        "import pandas as pd\n",
        "import numpy as np\n",
        "from tqdm import tqdm\n",
        "import io"
      ],
      "execution_count": 0,
      "outputs": []
    },
    {
      "cell_type": "markdown",
      "metadata": {
        "id": "40G3r2iHjpJT",
        "colab_type": "text"
      },
      "source": [
        "## Upload from Google Drive"
      ]
    },
    {
      "cell_type": "markdown",
      "metadata": {
        "id": "Q7HGsKGs9kTT",
        "colab_type": "text"
      },
      "source": [
        "Loading CSV files stored in your google drive."
      ]
    },
    {
      "cell_type": "code",
      "metadata": {
        "id": "hysvDAyEmMtJ",
        "colab_type": "code",
        "outputId": "c0548817-9c3a-45ef-c8ad-f3e1a18243e5",
        "colab": {
          "base_uri": "https://localhost:8080/",
          "height": 120
        }
      },
      "source": [
        "from google.colab import drive, files\n",
        "\n",
        "drive.mount('/content/gdrive')\n",
        "path ='/content/gdrive/My Drive/Thesis_ecb_ecoicop'"
      ],
      "execution_count": 2,
      "outputs": [
        {
          "output_type": "stream",
          "text": [
            "Go to this URL in a browser: https://accounts.google.com/o/oauth2/auth?client_id=947318989803-6bn6qk8qdgf4n4g3pfee6491hc0brc4i.apps.googleusercontent.com&redirect_uri=urn%3aietf%3awg%3aoauth%3a2.0%3aoob&response_type=code&scope=email%20https%3a%2f%2fwww.googleapis.com%2fauth%2fdocs.test%20https%3a%2f%2fwww.googleapis.com%2fauth%2fdrive%20https%3a%2f%2fwww.googleapis.com%2fauth%2fdrive.photos.readonly%20https%3a%2f%2fwww.googleapis.com%2fauth%2fpeopleapi.readonly\n",
            "\n",
            "Enter your authorization code:\n",
            "··········\n",
            "Mounted at /content/gdrive\n"
          ],
          "name": "stdout"
        }
      ]
    },
    {
      "cell_type": "markdown",
      "metadata": {
        "id": "koAL9Y0-9iha",
        "colab_type": "text"
      },
      "source": [
        "The commands will bring you to a Google Authentication step. You should see a screen with Google Drive File Stream wants to access your Google Account. After you allow permission, copy the given verification code and paste it in the box in Colab.\n",
        "In the notebook, click on the charcoal > on the top left of the notebook and click on Files. Locate the data folder you created earlier and find your data. Right-click on your data and select Copy Path. Store this copied path into a variable and you are ready to go."
      ]
    },
    {
      "cell_type": "markdown",
      "metadata": {
        "id": "hwfdFh_099X8",
        "colab_type": "text"
      },
      "source": [
        "Specify the exact path to your file and the seperator of your file to read it in."
      ]
    },
    {
      "cell_type": "code",
      "metadata": {
        "id": "YRfBjhSAZ5Jp",
        "colab_type": "code",
        "outputId": "70640e8d-ed53-4699-b238-0f51dbc36382",
        "colab": {
          "base_uri": "https://localhost:8080/",
          "height": 294
        }
      },
      "source": [
        "import pandas as pd\n",
        "\n",
        "data_path = '/data/'\n",
        "file_path = 'at/norm_at.csv'\n",
        "df = pd.read_csv(path+data_path+file_path,sep='|',index_col=False)\n",
        "df[:2]"
      ],
      "execution_count": 3,
      "outputs": [
        {
          "output_type": "execute_result",
          "data": {
            "text/html": [
              "<div>\n",
              "<style scoped>\n",
              "    .dataframe tbody tr th:only-of-type {\n",
              "        vertical-align: middle;\n",
              "    }\n",
              "\n",
              "    .dataframe tbody tr th {\n",
              "        vertical-align: top;\n",
              "    }\n",
              "\n",
              "    .dataframe thead th {\n",
              "        text-align: right;\n",
              "    }\n",
              "</style>\n",
              "<table border=\"1\" class=\"dataframe\">\n",
              "  <thead>\n",
              "    <tr style=\"text-align: right;\">\n",
              "      <th></th>\n",
              "      <th>Unnamed: 0</th>\n",
              "      <th>lang</th>\n",
              "      <th>name</th>\n",
              "      <th>categ</th>\n",
              "      <th>prod_desc</th>\n",
              "      <th>text_other</th>\n",
              "      <th>url</th>\n",
              "      <th>words_from_url</th>\n",
              "      <th>unit</th>\n",
              "      <th>cc3</th>\n",
              "      <th>cc4</th>\n",
              "      <th>cc5</th>\n",
              "      <th>cc3_pred</th>\n",
              "      <th>cc4_pred</th>\n",
              "      <th>cc5_pred</th>\n",
              "      <th>shop</th>\n",
              "      <th>brand</th>\n",
              "      <th>price</th>\n",
              "      <th>id</th>\n",
              "      <th>url_text</th>\n",
              "      <th>text</th>\n",
              "      <th>labeled_by</th>\n",
              "      <th>sort_columns</th>\n",
              "    </tr>\n",
              "  </thead>\n",
              "  <tbody>\n",
              "    <tr>\n",
              "      <th>0</th>\n",
              "      <td>0</td>\n",
              "      <td>de</td>\n",
              "      <td>Nativa Green Tea Lemon 0% Zucker</td>\n",
              "      <td>getraenke   alkoholfreie getraenke   eistee</td>\n",
              "      <td>None</td>\n",
              "      <td>NaN</td>\n",
              "      <td>https://www.billa.at/produkte/nativa-green-tea...</td>\n",
              "      <td>produkte nativa green tea lemon zucker</td>\n",
              "      <td>NaN</td>\n",
              "      <td>12_Non-alcoholic beverages</td>\n",
              "      <td>122_Mineral waters, soft drinks, fruit and veg...</td>\n",
              "      <td>1222_Soft drinks</td>\n",
              "      <td>21_Alcoholic beverages</td>\n",
              "      <td>211_Spirits</td>\n",
              "      <td>2112_Alcoholic soft drinks</td>\n",
              "      <td>Billa</td>\n",
              "      <td>NaN</td>\n",
              "      <td>1.29</td>\n",
              "      <td>00-293994</td>\n",
              "      <td>produkte nativa green tea lemon zucker</td>\n",
              "      <td>Nativa Green Tea Lemon 0% Zuckergetraenke   al...</td>\n",
              "      <td>Erik</td>\n",
              "      <td>70</td>\n",
              "    </tr>\n",
              "    <tr>\n",
              "      <th>1</th>\n",
              "      <td>1</td>\n",
              "      <td>de</td>\n",
              "      <td>Eskimo Cremissimo Himbeer, Zitrone &amp; Erdbeer</td>\n",
              "      <td>tiefkuehl   eis   eisbecher</td>\n",
              "      <td>Cremissimo Himbeer, Zitrone &amp; Erdbeer hat eine...</td>\n",
              "      <td>NaN</td>\n",
              "      <td>https://www.billa.at/produkte/eskimo-cremissim...</td>\n",
              "      <td>produkte eskimo cremissimo himbeer zitrone und...</td>\n",
              "      <td>NaN</td>\n",
              "      <td>11_Food</td>\n",
              "      <td>118_Sugar, jam, honey, chocolate and confectio...</td>\n",
              "      <td>1185_Edible ices and ice cream</td>\n",
              "      <td>21_Alcoholic beverages</td>\n",
              "      <td>211_Spirits</td>\n",
              "      <td>2112_Alcoholic soft drinks</td>\n",
              "      <td>Billa</td>\n",
              "      <td>NaN</td>\n",
              "      <td>3.99</td>\n",
              "      <td>00-503661</td>\n",
              "      <td>produkte eskimo cremissimo himbeer zitrone und...</td>\n",
              "      <td>Eskimo Cremissimo Himbeer, Zitrone &amp; Erdbeerti...</td>\n",
              "      <td>Erik</td>\n",
              "      <td>70</td>\n",
              "    </tr>\n",
              "  </tbody>\n",
              "</table>\n",
              "</div>"
            ],
            "text/plain": [
              "   Unnamed: 0 lang  ... labeled_by sort_columns\n",
              "0           0   de  ...       Erik           70\n",
              "1           1   de  ...       Erik           70\n",
              "\n",
              "[2 rows x 23 columns]"
            ]
          },
          "metadata": {
            "tags": []
          },
          "execution_count": 3
        }
      ]
    },
    {
      "cell_type": "markdown",
      "metadata": {
        "id": "bfjiyKlT-OdY",
        "colab_type": "text"
      },
      "source": [
        "Print out the dataframe to see if the import is correct."
      ]
    },
    {
      "cell_type": "markdown",
      "metadata": {
        "id": "0hvKTxOXGnlX",
        "colab_type": "text"
      },
      "source": [
        "## Predict CoiCop Level 4\n",
        "  \n",
        "How does it work? - Word Embeddings (left)\n",
        "* Words are translated in vectors which are learned represent the words\n",
        "* Embeddings are a multidimensional space (often 300+ dimesnsion) and words which relate to each other are closer in this space\n",
        "* Those spaces can be aligned for different languages\n",
        "* The example shows a three dimensional space with embeddings for three different languages, the translation are idealy close neighbours and the distance between milk and cheese is closer than the distance betwenn milk and potato  \n",
        "more information: https://towardsdatascience.com/introduction-to-word-embeddings-4cf857b12edc\n",
        "  \n",
        "How does it work? - Recurrent Neural Network (right)\n",
        "* Now every word is represented by a vector and the input to the model is a sequence of vectors\n",
        "* LSTM (Long Short Term Memory) Networks are good in solving sequential tasks, because they are able to remember information from previous states (words) and output a representation for the sentence \n",
        "* This representation is used to classify in to the coicop categories  \n",
        "more information: https://towardsdatascience.com/a-beginners-guide-on-sentiment-analysis-with-rnn-9e100627c02e \n",
        "\n",
        "\n"
      ]
    },
    {
      "cell_type": "markdown",
      "metadata": {
        "id": "q_kUPMnHLzyU",
        "colab_type": "text"
      },
      "source": [
        "![embed](https://drive.google.com/uc?id=1AoleK5q47ZTkPCtvxDD6icEpcnLc9viE)"
      ]
    },
    {
      "cell_type": "markdown",
      "metadata": {
        "id": "pFeMdvnl9_5n",
        "colab_type": "text"
      },
      "source": [
        "For the prediction you have to specify the names of certain columns in your dataframe which the tool will use.  \n",
        "* name_col is the column with the product name (mandatory)\n",
        "* category_col is the column with the category given by the supermarked (optional)\n",
        "* url_col is the column with  the url to the product (optional)\n",
        "* lang ist the language of the texts, supports 'de' and 'fr' (mandatory)\n",
        "* label_cat5 is the column with labels,if labeld (optional)\n",
        "\n"
      ]
    },
    {
      "cell_type": "code",
      "metadata": {
        "id": "1P-gtkLEGnwO",
        "colab_type": "code",
        "outputId": "c911b261-25d2-4656-d007-e177072b4bde",
        "colab": {
          "base_uri": "https://localhost:8080/",
          "height": 100
        }
      },
      "source": [
        "# init predictor\n",
        "\n",
        "new_prediction = True\n",
        "\n",
        "name_col = 'name'\n",
        "category_col = 'categ'\n",
        "url_col = 'url'\n",
        "lang = 'de'\n",
        "label_col = 'cc5'\n",
        "\n",
        "#coicop_model\n",
        "CoiCop_Predictor = coicop_model.predictor(df\n",
        "                                          , name_col\n",
        "                                          , category_col\n",
        "                                          , url_col\n",
        "                                          , label_col\n",
        "                                          , lang)\n",
        "    \n",
        "if new_prediction:\n",
        "    CoiCop_Predictor.predict()\n",
        "    df = CoiCop_Predictor.get_df()"
      ],
      "execution_count": 4,
      "outputs": [
        {
          "output_type": "stream",
          "text": [
            "using name, category and words in url as input\n",
            "using german embeddings\n"
          ],
          "name": "stdout"
        },
        {
          "output_type": "stream",
          "text": [
            "\r  0%|          | 0/303 [00:00<?, ?it/s]"
          ],
          "name": "stderr"
        },
        {
          "output_type": "stream",
          "text": [
            "95% quantile no. of words per row is 21 (trained on 39)\n"
          ],
          "name": "stdout"
        },
        {
          "output_type": "stream",
          "text": [
            "100%|██████████| 303/303 [00:25<00:00, 11.92it/s]"
          ],
          "name": "stderr"
        },
        {
          "output_type": "stream",
          "text": [
            "predictions ready\n"
          ],
          "name": "stdout"
        },
        {
          "output_type": "stream",
          "text": [
            "\n"
          ],
          "name": "stderr"
        }
      ]
    },
    {
      "cell_type": "markdown",
      "metadata": {
        "id": "0mc-zOEeAIO7",
        "colab_type": "text"
      },
      "source": [
        "## Explonation  \n",
        "  \n",
        "It shows the three best candidates for a product and highlights the words which contribute to the estimate (positiv: green, negative: red)\n",
        "If you leave the the brackets empty it will show a random product. If you want the explonation for a particular product, you can enter the text.  \n",
        "If you enter text it always needs to be in marks ''."
      ]
    },
    {
      "cell_type": "code",
      "metadata": {
        "id": "T1gClUgdwbfk",
        "colab_type": "code",
        "outputId": "d8abf6a3-1787-4b49-ae2b-a158964db9db",
        "colab": {
          "base_uri": "https://localhost:8080/",
          "height": 502
        }
      },
      "source": [
        "text = None\n",
        "#text = 'wurst spezialitäten produkte big power pork chip bites suess pikant'\n",
        "\n",
        "CoiCop_Predictor.tell_me_why(text)"
      ],
      "execution_count": 5,
      "outputs": [
        {
          "output_type": "stream",
          "text": [
            "prediction 9999_Non-Food\n",
            "label nan\n"
          ],
          "name": "stdout"
        },
        {
          "output_type": "execute_result",
          "data": {
            "text/html": [
              "\n",
              "    <style>\n",
              "    table.eli5-weights tr:hover {\n",
              "        filter: brightness(85%);\n",
              "    }\n",
              "</style>\n",
              "\n",
              "\n",
              "\n",
              "    \n",
              "\n",
              "    \n",
              "\n",
              "    \n",
              "\n",
              "    \n",
              "\n",
              "    \n",
              "\n",
              "    \n",
              "\n",
              "\n",
              "    \n",
              "\n",
              "    \n",
              "\n",
              "    \n",
              "\n",
              "    \n",
              "        \n",
              "\n",
              "    \n",
              "\n",
              "    \n",
              "        \n",
              "    \n",
              "        \n",
              "        \n",
              "    \n",
              "        <p style=\"margin-bottom: 0.5em; margin-top: 0em\">\n",
              "            <b>\n",
              "    \n",
              "        y=9999_Non-Food\n",
              "    \n",
              "</b>\n",
              "\n",
              "    \n",
              "    (probability <b>0.853</b>, score <b>2.023</b>)\n",
              "\n",
              "top features\n",
              "        </p>\n",
              "    \n",
              "    <table class=\"eli5-weights\"\n",
              "           style=\"border-collapse: collapse; border: none; margin-top: 0em; table-layout: auto; margin-bottom: 2em;\">\n",
              "        <thead>\n",
              "        <tr style=\"border: none;\">\n",
              "            \n",
              "                <th style=\"padding: 0 1em 0 0.5em; text-align: right; border: none;\" title=\"Feature contribution already accounts for the feature value (for linear models, contribution = weight * feature value), and the sum of feature contributions is equal to the score or, for some classifiers, to the probability. Feature values are shown if &quot;show_feature_values&quot; is True.\">\n",
              "                    Contribution<sup>?</sup>\n",
              "                </th>\n",
              "            \n",
              "            <th style=\"padding: 0 0.5em 0 0.5em; text-align: left; border: none;\">Feature</th>\n",
              "            \n",
              "        </tr>\n",
              "        </thead>\n",
              "        <tbody>\n",
              "        \n",
              "            <tr style=\"background-color: hsl(120, 100.00%, 83.44%); border: none;\">\n",
              "    <td style=\"padding: 0 1em 0 0.5em; text-align: right; border: none;\">\n",
              "        +7.935\n",
              "    </td>\n",
              "    <td style=\"padding: 0 0.5em 0 0.5em; text-align: left; border: none;\">\n",
              "        &lt;BIAS&gt;\n",
              "    </td>\n",
              "    \n",
              "</tr>\n",
              "        \n",
              "        \n",
              "\n",
              "        \n",
              "        \n",
              "            <tr style=\"background-color: hsl(0, 100.00%, 86.52%); border: none;\">\n",
              "    <td style=\"padding: 0 1em 0 0.5em; text-align: right; border: none;\">\n",
              "        -5.912\n",
              "    </td>\n",
              "    <td style=\"padding: 0 0.5em 0 0.5em; text-align: left; border: none;\">\n",
              "        Highlighted in text (sum)\n",
              "    </td>\n",
              "    \n",
              "</tr>\n",
              "        \n",
              "\n",
              "        </tbody>\n",
              "    </table>\n",
              "\n",
              "    \n",
              "\n",
              "\n",
              "\n",
              "    <p style=\"margin-bottom: 2.5em; margin-top:-0.5em;\">\n",
              "        <span style=\"background-color: hsl(0, 100.00%, 73.91%); opacity: 0.91\" title=\"-1.208\">Philips</span><span style=\"opacity: 0.80\"> </span><span style=\"background-color: hsl(120, 100.00%, 88.87%); opacity: 0.83\" title=\"0.358\">Sensitive</span><span style=\"opacity: 0.80\"> </span><span style=\"background-color: hsl(0, 100.00%, 89.58%); opacity: 0.83\" title=\"-0.326\">Aufsteckbürste</span><span style=\"opacity: 0.80\"> </span><span style=\"background-color: hsl(0, 100.00%, 88.18%); opacity: 0.84\" title=\"-0.390\">4</span><span style=\"opacity: 0.80\"> </span><span style=\"background-color: hsl(0, 100.00%, 88.98%); opacity: 0.83\" title=\"-0.353\">StückBeauty</span><span style=\"opacity: 0.80\">   </span><span style=\"background-color: hsl(120, 100.00%, 86.51%); opacity: 0.84\" title=\"0.471\">Mund</span><span style=\"opacity: 0.80\"> &amp; </span><span style=\"background-color: hsl(120, 100.00%, 95.83%); opacity: 0.81\" title=\"0.088\">Zahn</span><span style=\"opacity: 0.80\">   </span><span style=\"background-color: hsl(120, 100.00%, 88.57%); opacity: 0.83\" title=\"0.372\">Elektrische</span><span style=\"opacity: 0.80\"> </span><span style=\"background-color: hsl(120, 100.00%, 75.03%); opacity: 0.90\" title=\"1.135\">Zahnpflege</span><span style=\"opacity: 0.80\">   </span><span style=\"background-color: hsl(120, 100.00%, 73.66%); opacity: 0.91\" title=\"1.225\">Elektrozahnbürsten</span><span style=\"opacity: 0.80\"> </span><span style=\"background-color: hsl(0, 100.00%, 79.94%); opacity: 0.87\" title=\"-0.830\">Aufsätzeshop</span><span style=\"opacity: 0.80\"> </span><span style=\"background-color: hsl(0, 100.00%, 66.23%); opacity: 0.96\" title=\"-1.747\">lebensmittel</span><span style=\"opacity: 0.80\"> </span><span style=\"background-color: hsl(0, 100.00%, 71.62%); opacity: 0.92\" title=\"-1.363\">philips</span><span style=\"opacity: 0.80\"> </span><span style=\"background-color: hsl(0, 100.00%, 89.07%); opacity: 0.83\" title=\"-0.349\">sensitive</span><span style=\"opacity: 0.80\"> </span><span style=\"background-color: hsl(0, 100.00%, 79.65%); opacity: 0.88\" title=\"-0.847\">aufsteckbuerste</span><span style=\"opacity: 0.80\"> </span><span style=\"background-color: hsl(0, 100.00%, 60.96%); opacity: 0.99\" title=\"-2.149\">stueck</span>\n",
              "    </p>\n",
              "\n",
              "    \n",
              "        \n",
              "    \n",
              "        \n",
              "        \n",
              "    \n",
              "        <p style=\"margin-bottom: 0.5em; margin-top: 0em\">\n",
              "            <b>\n",
              "    \n",
              "        y=1184_Confectionery products\n",
              "    \n",
              "</b>\n",
              "\n",
              "    \n",
              "    (probability <b>0.135</b>, score <b>-1.821</b>)\n",
              "\n",
              "top features\n",
              "        </p>\n",
              "    \n",
              "    <table class=\"eli5-weights\"\n",
              "           style=\"border-collapse: collapse; border: none; margin-top: 0em; table-layout: auto; margin-bottom: 2em;\">\n",
              "        <thead>\n",
              "        <tr style=\"border: none;\">\n",
              "            \n",
              "                <th style=\"padding: 0 1em 0 0.5em; text-align: right; border: none;\" title=\"Feature contribution already accounts for the feature value (for linear models, contribution = weight * feature value), and the sum of feature contributions is equal to the score or, for some classifiers, to the probability. Feature values are shown if &quot;show_feature_values&quot; is True.\">\n",
              "                    Contribution<sup>?</sup>\n",
              "                </th>\n",
              "            \n",
              "            <th style=\"padding: 0 0.5em 0 0.5em; text-align: left; border: none;\">Feature</th>\n",
              "            \n",
              "        </tr>\n",
              "        </thead>\n",
              "        <tbody>\n",
              "        \n",
              "            <tr style=\"background-color: hsl(120, 100.00%, 82.52%); border: none;\">\n",
              "    <td style=\"padding: 0 1em 0 0.5em; text-align: right; border: none;\">\n",
              "        +8.567\n",
              "    </td>\n",
              "    <td style=\"padding: 0 0.5em 0 0.5em; text-align: left; border: none;\">\n",
              "        Highlighted in text (sum)\n",
              "    </td>\n",
              "    \n",
              "</tr>\n",
              "        \n",
              "        \n",
              "\n",
              "        \n",
              "        \n",
              "            <tr style=\"background-color: hsl(0, 100.00%, 80.00%); border: none;\">\n",
              "    <td style=\"padding: 0 1em 0 0.5em; text-align: right; border: none;\">\n",
              "        -10.388\n",
              "    </td>\n",
              "    <td style=\"padding: 0 0.5em 0 0.5em; text-align: left; border: none;\">\n",
              "        &lt;BIAS&gt;\n",
              "    </td>\n",
              "    \n",
              "</tr>\n",
              "        \n",
              "\n",
              "        </tbody>\n",
              "    </table>\n",
              "\n",
              "    \n",
              "\n",
              "\n",
              "\n",
              "    <p style=\"margin-bottom: 2.5em; margin-top:-0.5em;\">\n",
              "        <span style=\"background-color: hsl(120, 100.00%, 68.53%); opacity: 0.94\" title=\"1.579\">Philips</span><span style=\"opacity: 0.80\"> </span><span style=\"background-color: hsl(0, 100.00%, 93.61%); opacity: 0.81\" title=\"-0.162\">Sensitive</span><span style=\"opacity: 0.80\"> </span><span style=\"background-color: hsl(120, 100.00%, 88.68%); opacity: 0.83\" title=\"0.367\">Aufsteckbürste</span><span style=\"opacity: 0.80\"> </span><span style=\"background-color: hsl(120, 100.00%, 84.43%); opacity: 0.85\" title=\"0.578\">4</span><span style=\"opacity: 0.80\"> </span><span style=\"background-color: hsl(120, 100.00%, 86.10%); opacity: 0.84\" title=\"0.491\">StückBeauty</span><span style=\"opacity: 0.80\">   </span><span style=\"background-color: hsl(0, 100.00%, 86.93%); opacity: 0.84\" title=\"-0.450\">Mund</span><span style=\"opacity: 0.80\"> &amp; </span><span style=\"background-color: hsl(0, 100.00%, 95.07%); opacity: 0.81\" title=\"-0.112\">Zahn</span><span style=\"opacity: 0.80\">   </span><span style=\"background-color: hsl(0, 100.00%, 91.12%); opacity: 0.82\" title=\"-0.259\">Elektrische</span><span style=\"opacity: 0.80\"> </span><span style=\"background-color: hsl(0, 100.00%, 76.65%); opacity: 0.89\" title=\"-1.031\">Zahnpflege</span><span style=\"opacity: 0.80\">   </span><span style=\"background-color: hsl(0, 100.00%, 75.80%); opacity: 0.90\" title=\"-1.085\">Elektrozahnbürsten</span><span style=\"opacity: 0.80\"> </span><span style=\"background-color: hsl(120, 100.00%, 76.86%); opacity: 0.89\" title=\"1.018\">Aufsätzeshop</span><span style=\"opacity: 0.80\"> </span><span style=\"background-color: hsl(120, 100.00%, 60.00%); opacity: 1.00\" title=\"2.224\">lebensmittel</span><span style=\"opacity: 0.80\"> </span><span style=\"background-color: hsl(120, 100.00%, 66.56%); opacity: 0.95\" title=\"1.722\">philips</span><span style=\"opacity: 0.80\"> </span><span style=\"background-color: hsl(120, 100.00%, 85.36%); opacity: 0.85\" title=\"0.529\">sensitive</span><span style=\"opacity: 0.80\"> </span><span style=\"background-color: hsl(120, 100.00%, 76.88%); opacity: 0.89\" title=\"1.016\">aufsteckbuerste</span><span style=\"opacity: 0.80\"> </span><span style=\"background-color: hsl(120, 100.00%, 61.06%); opacity: 0.99\" title=\"2.141\">stueck</span>\n",
              "    </p>\n",
              "\n",
              "    \n",
              "        \n",
              "    \n",
              "        \n",
              "        \n",
              "    \n",
              "        <p style=\"margin-bottom: 0.5em; margin-top: 0em\">\n",
              "            <b>\n",
              "    \n",
              "        y=1183_Chocolate\n",
              "    \n",
              "</b>\n",
              "\n",
              "    \n",
              "    (probability <b>0.001</b>, score <b>-7.216</b>)\n",
              "\n",
              "top features\n",
              "        </p>\n",
              "    \n",
              "    <table class=\"eli5-weights\"\n",
              "           style=\"border-collapse: collapse; border: none; margin-top: 0em; table-layout: auto; margin-bottom: 2em;\">\n",
              "        <thead>\n",
              "        <tr style=\"border: none;\">\n",
              "            \n",
              "                <th style=\"padding: 0 1em 0 0.5em; text-align: right; border: none;\" title=\"Feature contribution already accounts for the feature value (for linear models, contribution = weight * feature value), and the sum of feature contributions is equal to the score or, for some classifiers, to the probability. Feature values are shown if &quot;show_feature_values&quot; is True.\">\n",
              "                    Contribution<sup>?</sup>\n",
              "                </th>\n",
              "            \n",
              "            <th style=\"padding: 0 0.5em 0 0.5em; text-align: left; border: none;\">Feature</th>\n",
              "            \n",
              "        </tr>\n",
              "        </thead>\n",
              "        <tbody>\n",
              "        \n",
              "        \n",
              "\n",
              "        \n",
              "        \n",
              "            <tr style=\"background-color: hsl(0, 100.00%, 96.56%); border: none;\">\n",
              "    <td style=\"padding: 0 1em 0 0.5em; text-align: right; border: none;\">\n",
              "        -0.842\n",
              "    </td>\n",
              "    <td style=\"padding: 0 0.5em 0 0.5em; text-align: left; border: none;\">\n",
              "        Highlighted in text (sum)\n",
              "    </td>\n",
              "    \n",
              "</tr>\n",
              "        \n",
              "            <tr style=\"background-color: hsl(0, 100.00%, 85.79%); border: none;\">\n",
              "    <td style=\"padding: 0 1em 0 0.5em; text-align: right; border: none;\">\n",
              "        -6.374\n",
              "    </td>\n",
              "    <td style=\"padding: 0 0.5em 0 0.5em; text-align: left; border: none;\">\n",
              "        &lt;BIAS&gt;\n",
              "    </td>\n",
              "    \n",
              "</tr>\n",
              "        \n",
              "\n",
              "        </tbody>\n",
              "    </table>\n",
              "\n",
              "    \n",
              "\n",
              "\n",
              "\n",
              "    <p style=\"margin-bottom: 2.5em; margin-top:-0.5em;\">\n",
              "        <span style=\"opacity: 0.80\">Philips </span><span style=\"background-color: hsl(0, 100.00%, 95.48%); opacity: 0.81\" title=\"-0.099\">Sensitive</span><span style=\"opacity: 0.80\"> </span><span style=\"background-color: hsl(0, 100.00%, 98.92%); opacity: 0.80\" title=\"-0.013\">Aufsteckbürste</span><span style=\"opacity: 0.80\"> </span><span style=\"background-color: hsl(0, 100.00%, 98.65%); opacity: 0.80\" title=\"-0.018\">4</span><span style=\"opacity: 0.80\"> </span><span style=\"background-color: hsl(0, 100.00%, 96.96%); opacity: 0.81\" title=\"-0.056\">StückBeauty</span><span style=\"opacity: 0.80\">   </span><span style=\"background-color: hsl(0, 100.00%, 95.92%); opacity: 0.81\" title=\"-0.085\">Mund</span><span style=\"opacity: 0.80\"> &amp; </span><span style=\"background-color: hsl(0, 100.00%, 98.40%); opacity: 0.80\" title=\"-0.022\">Zahn</span><span style=\"opacity: 0.80\">   </span><span style=\"background-color: hsl(0, 100.00%, 94.45%); opacity: 0.81\" title=\"-0.132\">Elektrische</span><span style=\"opacity: 0.80\"> </span><span style=\"background-color: hsl(0, 100.00%, 96.63%); opacity: 0.81\" title=\"-0.065\">Zahnpflege</span><span style=\"opacity: 0.80\">   </span><span style=\"background-color: hsl(0, 100.00%, 90.33%); opacity: 0.83\" title=\"-0.292\">Elektrozahnbürsten</span><span style=\"opacity: 0.80\"> </span><span style=\"background-color: hsl(0, 100.00%, 96.84%); opacity: 0.81\" title=\"-0.059\">Aufsätzeshop</span><span style=\"opacity: 0.80\"> lebensmittel philips sensitive aufsteckbuerste stueck</span>\n",
              "    </p>\n",
              "\n",
              "    \n",
              "\n",
              "\n",
              "    \n",
              "\n",
              "    \n",
              "\n",
              "    \n",
              "\n",
              "\n",
              "    \n",
              "\n",
              "    \n",
              "\n",
              "    \n",
              "\n",
              "    \n",
              "\n",
              "    \n",
              "\n",
              "    \n",
              "\n",
              "\n",
              "    \n",
              "\n",
              "    \n",
              "\n",
              "    \n",
              "\n",
              "    \n",
              "\n",
              "    \n",
              "\n",
              "    \n",
              "\n",
              "\n",
              "\n"
            ],
            "text/plain": [
              "Explanation(estimator=\"SGDClassifier(alpha=0.001, average=False, class_weight=None,\\n              early_stopping=False, epsilon=0.1, eta0=0.0, fit_intercept=True,\\n              l1_ratio=0.15, learning_rate='optimal', loss='log', max_iter=1000,\\n              n_iter_no_change=5, n_jobs=None, penalty='elasticnet',\\n              power_t=0.5, random_state=RandomState(MT19937) at 0x7FD868248BA0,\\n              shuffle=True, tol=0.001, validation_fraction=0.1, verbose=0,\\n              warm_start=False)\", description=None, error=None, method='linear model', is_regression=False, targets=[TargetExplanation(target='9999_Non-Food', feature_weights=FeatureWeights(pos=[FeatureWeight(feature='<BIAS>', weight=7.935194774677804, std=None, value=1.0), FeatureWeight(feature='[9] Elektrozahnbürsten', weight=1.2248883756296216, std=None, value=1.0), FeatureWeight(feature='[8] Zahnpflege', weight=1.1346705731742666, std=None, value=1.0), FeatureWeight(feature='[5] Mund', weight=0.4707609581213272, std=None, value=1.0), FeatureWeight(feature='[7] Elektrische', weight=0.371505671388394, std=None, value=1.0), FeatureWeight(feature='[1] Sensitive', weight=0.35786470198236714, std=None, value=1.0), FeatureWeight(feature='[6] Zahn', weight=0.08790834335846298, std=None, value=1.0)], neg=[FeatureWeight(feature='[15] stueck', weight=-2.1488725482359454, std=None, value=1.0), FeatureWeight(feature='[11] lebensmittel', weight=-1.7468210083422644, std=None, value=1.0), FeatureWeight(feature='[12] philips', weight=-1.362675933505831, std=None, value=1.0), FeatureWeight(feature='[0] Philips', weight=-1.207793529260142, std=None, value=1.0), FeatureWeight(feature='[14] aufsteckbuerste', weight=-0.8469725588111239, std=None, value=1.0), FeatureWeight(feature='[10] Aufsätzeshop', weight=-0.8299982759616117, std=None, value=1.0), FeatureWeight(feature='[3] 4', weight=-0.3896039778034, std=None, value=1.0), FeatureWeight(feature='[4] StückBeauty', weight=-0.3529172401212911, std=None, value=1.0), FeatureWeight(feature='[13] sensitive', weight=-0.34880334862034107, std=None, value=1.0), FeatureWeight(feature='[2] Aufsteckbürste', weight=-0.3255315185416226, std=None, value=1.0)], pos_remaining=0, neg_remaining=0), proba=0.8532694955085983, score=2.0228034591286708, weighted_spans=WeightedSpans(docs_weighted_spans=[DocWeightedSpans(document='Philips Sensitive Aufsteckbürste 4 StückBeauty   Mund & Zahn   Elektrische Zahnpflege   Elektrozahnbürsten Aufsätzeshop lebensmittel philips sensitive aufsteckbuerste stueck', spans=[('Philips', [(0, 7)], -1.207793529260142), ('Sensitive', [(8, 17)], 0.35786470198236714), ('Aufsteckbürste', [(18, 32)], -0.3255315185416226), ('4', [(33, 34)], -0.3896039778034), ('StückBeauty', [(35, 46)], -0.3529172401212911), ('Mund', [(49, 53)], 0.4707609581213272), ('Zahn', [(56, 60)], 0.08790834335846298), ('Elektrische', [(63, 74)], 0.371505671388394), ('Zahnpflege', [(75, 85)], 1.1346705731742666), ('Elektrozahnbürsten', [(88, 106)], 1.2248883756296216), ('Aufsätzeshop', [(107, 119)], -0.8299982759616117), ('lebensmittel', [(120, 132)], -1.7468210083422644), ('philips', [(133, 140)], -1.362675933505831), ('sensitive', [(141, 150)], -0.34880334862034107), ('aufsteckbuerste', [(151, 166)], -0.8469725588111239), ('stueck', [(167, 173)], -2.1488725482359454)], preserve_density=False, vec_name=None)], other=FeatureWeights(pos=[FeatureWeight(feature='<BIAS>', weight=7.935194774677804, std=None, value=1.0)], neg=[FeatureWeight(feature=<FormattedFeatureName 'Highlighted in text (sum)'>, weight=-5.912391315549134, std=None, value=None)], pos_remaining=0, neg_remaining=0)), heatmap=None), TargetExplanation(target='1184_Confectionery products', feature_weights=FeatureWeights(pos=[FeatureWeight(feature='[11] lebensmittel', weight=2.22446953323768, std=None, value=1.0), FeatureWeight(feature='[15] stueck', weight=2.1405186860271117, std=None, value=1.0), FeatureWeight(feature='[12] philips', weight=1.7222254029444364, std=None, value=1.0), FeatureWeight(feature='[0] Philips', weight=1.5789749091204988, std=None, value=1.0), FeatureWeight(feature='[10] Aufsätzeshop', weight=1.0180829517652066, std=None, value=1.0), FeatureWeight(feature='[14] aufsteckbuerste', weight=1.0162820983028904, std=None, value=1.0), FeatureWeight(feature='[3] 4', weight=0.5780639476936583, std=None, value=1.0), FeatureWeight(feature='[13] sensitive', weight=0.5289997421043935, std=None, value=1.0), FeatureWeight(feature='[4] StückBeauty', weight=0.4912391064245915, std=None, value=1.0), FeatureWeight(feature='[2] Aufsteckbürste', weight=0.36661012425211315, std=None, value=1.0)], neg=[FeatureWeight(feature='<BIAS>', weight=-10.38820521204373, std=None, value=1.0), FeatureWeight(feature='[9] Elektrozahnbürsten', weight=-1.084791592933545, std=None, value=1.0), FeatureWeight(feature='[8] Zahnpflege', weight=-1.0312108046303239, std=None, value=1.0), FeatureWeight(feature='[5] Mund', weight=-0.4500149373538116, std=None, value=1.0), FeatureWeight(feature='[7] Elektrische', weight=-0.2588962158576224, std=None, value=1.0), FeatureWeight(feature='[1] Sensitive', weight=-0.16208566271514555, std=None, value=1.0), FeatureWeight(feature='[6] Zahn', weight=-0.11168695628653538, std=None, value=1.0)], pos_remaining=0, neg_remaining=0), proba=0.1345480258090432, score=-1.8214248799481325, weighted_spans=WeightedSpans(docs_weighted_spans=[DocWeightedSpans(document='Philips Sensitive Aufsteckbürste 4 StückBeauty   Mund & Zahn   Elektrische Zahnpflege   Elektrozahnbürsten Aufsätzeshop lebensmittel philips sensitive aufsteckbuerste stueck', spans=[('Philips', [(0, 7)], 1.5789749091204988), ('Sensitive', [(8, 17)], -0.16208566271514555), ('Aufsteckbürste', [(18, 32)], 0.36661012425211315), ('4', [(33, 34)], 0.5780639476936583), ('StückBeauty', [(35, 46)], 0.4912391064245915), ('Mund', [(49, 53)], -0.4500149373538116), ('Zahn', [(56, 60)], -0.11168695628653538), ('Elektrische', [(63, 74)], -0.2588962158576224), ('Zahnpflege', [(75, 85)], -1.0312108046303239), ('Elektrozahnbürsten', [(88, 106)], -1.084791592933545), ('Aufsätzeshop', [(107, 119)], 1.0180829517652066), ('lebensmittel', [(120, 132)], 2.22446953323768), ('philips', [(133, 140)], 1.7222254029444364), ('sensitive', [(141, 150)], 0.5289997421043935), ('aufsteckbuerste', [(151, 166)], 1.0162820983028904), ('stueck', [(167, 173)], 2.1405186860271117)], preserve_density=False, vec_name=None)], other=FeatureWeights(pos=[FeatureWeight(feature=<FormattedFeatureName 'Highlighted in text (sum)'>, weight=8.566780332095597, std=None, value=None)], neg=[FeatureWeight(feature='<BIAS>', weight=-10.38820521204373, std=None, value=1.0)], pos_remaining=0, neg_remaining=0)), heatmap=None), TargetExplanation(target='1183_Chocolate', feature_weights=FeatureWeights(pos=[], neg=[FeatureWeight(feature='<BIAS>', weight=-6.373997562707869, std=None, value=1.0), FeatureWeight(feature='[9] Elektrozahnbürsten', weight=-0.29248254645333277, std=None, value=1.0), FeatureWeight(feature='[7] Elektrische', weight=-0.1324573388491626, std=None, value=1.0), FeatureWeight(feature='[1] Sensitive', weight=-0.0988042252291767, std=None, value=1.0), FeatureWeight(feature='[5] Mund', weight=-0.08544106607185707, std=None, value=1.0), FeatureWeight(feature='[8] Zahnpflege', weight=-0.06480064110375357, std=None, value=1.0), FeatureWeight(feature='[10] Aufsätzeshop', weight=-0.05917226048051063, std=None, value=1.0), FeatureWeight(feature='[4] StückBeauty', weight=-0.056062455587509614, std=None, value=1.0), FeatureWeight(feature='[6] Zahn', weight=-0.02243500340446045, std=None, value=1.0), FeatureWeight(feature='[3] 4', weight=-0.01757413529645424, std=None, value=1.0), FeatureWeight(feature='[2] Aufsteckbürste', weight=-0.012751691948015209, std=None, value=1.0)], pos_remaining=0, neg_remaining=0), proba=0.0007093536614456614, score=-7.2159789271321015, weighted_spans=WeightedSpans(docs_weighted_spans=[DocWeightedSpans(document='Philips Sensitive Aufsteckbürste 4 StückBeauty   Mund & Zahn   Elektrische Zahnpflege   Elektrozahnbürsten Aufsätzeshop lebensmittel philips sensitive aufsteckbuerste stueck', spans=[('Sensitive', [(8, 17)], -0.0988042252291767), ('Aufsteckbürste', [(18, 32)], -0.012751691948015209), ('4', [(33, 34)], -0.01757413529645424), ('StückBeauty', [(35, 46)], -0.056062455587509614), ('Mund', [(49, 53)], -0.08544106607185707), ('Zahn', [(56, 60)], -0.02243500340446045), ('Elektrische', [(63, 74)], -0.1324573388491626), ('Zahnpflege', [(75, 85)], -0.06480064110375357), ('Elektrozahnbürsten', [(88, 106)], -0.29248254645333277), ('Aufsätzeshop', [(107, 119)], -0.05917226048051063)], preserve_density=False, vec_name=None)], other=FeatureWeights(pos=[], neg=[FeatureWeight(feature='<BIAS>', weight=-6.373997562707869, std=None, value=1.0), FeatureWeight(feature=<FormattedFeatureName 'Highlighted in text (sum)'>, weight=-0.8419813644242328, std=None, value=None)], pos_remaining=0, neg_remaining=0)), heatmap=None)], feature_importances=None, decision_tree=None, highlight_spaces=None, transition_features=None, image=None)"
            ]
          },
          "metadata": {
            "tags": []
          },
          "execution_count": 5
        }
      ]
    },
    {
      "cell_type": "markdown",
      "metadata": {
        "id": "SMjTYrR87e4K",
        "colab_type": "text"
      },
      "source": [
        "# Annotation"
      ]
    },
    {
      "cell_type": "markdown",
      "metadata": {
        "id": "FGBoWMkJ_HPd",
        "colab_type": "text"
      },
      "source": [
        "For the annotation tool you have to specify the naes of certain columns in your dataframe which the tool will use.  \n",
        "* Labeled_by takes your name and stores it after every item you labeld.  \n",
        "* Text column 1 is the name of the column for the first line of text which will be displayed to help you labeling the product, usually this is the product name.  \n",
        "* Text column 2 is the name of the column for the second line of text which will be displayed to help you labeling the product, this could be the category or the translation.  \n",
        "* The URL column is the name of the column where the url of the scraped product is located (if it is in the dataframe). The url might be helpfull if you are unsure about the product nd want to look up the whole page on the website. If you do not have the url in your data you can leave it empty.  \n",
        "* CoiCop 5 prediction is the column where the prediction is stored. The prediction will appear preselected in the dropdown menu.   \n",
        "  \n",
        "The data are sorted in a way that catogies with few labels come first, if predictions of those label are available.\n"
      ]
    },
    {
      "cell_type": "code",
      "metadata": {
        "id": "1xmoZj7JdS0o",
        "colab_type": "code",
        "colab": {}
      },
      "source": [
        "# init labeler\n",
        "\n",
        "labeled_by = 'Erik'\n",
        "text_column_1 = 'name'\n",
        "text_column_2 = 'categ'\n",
        "url_column = 'url'\n",
        "CoiCop_5_pred_col = 'cc5_pred'\n",
        "\n",
        "CoiCop_Labeler = labeler_cc5.labeler( labeled_by\n",
        "                        , df\n",
        "                        , text_column_1\n",
        "                        , text_column_2\n",
        "                        , url_column\n",
        "                        , CoiCop_5_pred_col)"
      ],
      "execution_count": 0,
      "outputs": []
    },
    {
      "cell_type": "markdown",
      "metadata": {
        "id": "Ph_zFG30BeEn",
        "colab_type": "text"
      },
      "source": [
        "Now you are ready to label, after executing the next line you will see:\n",
        "* Text 1\n",
        "* Text 2\n",
        "* URL\n",
        "* Dropdown with one category which is the prediction for the product. If you are dissatisfied with it, you can click on the dropdown and select the right one.\n",
        "* Next-Button will skip this product\n",
        "* Save-Button will annotate the selected category to your dataframe\n",
        "  \n",
        "If you finished labeling just jump to the next line."
      ]
    },
    {
      "cell_type": "code",
      "metadata": {
        "id": "soYye5zedVXk",
        "colab_type": "code",
        "outputId": "e3487a91-625c-4133-d55c-8ce17e4d5be7",
        "colab": {
          "base_uri": "https://localhost:8080/",
          "height": 225,
          "referenced_widgets": [
            "12f352dcd371437993e88426b152bc95",
            "016a93d8376d47319fb41c4d6ea8aa62",
            "515f19741d544200805fc247a079d600",
            "1c99ad5725ee440cb8f3e7785bb5d0e9",
            "bc121ac7452c428da7bd11f8df7d3c0e",
            "d4eb821852d144088a9ea00f6efc1a90",
            "097fc4fa436047acb6b6f65ed54f3ba2",
            "86709505cd4442fe947547c54e16d9b5",
            "5eb81635d6e74937828e75cbdc8afff9",
            "fa2454484afd452999208071fe1fc5c5",
            "d946cda2209f47afafc5c4800cbdac65",
            "a68df289f3a34f10a745848a49835c4a",
            "8eb8f6c0450d456586e6f2b69f4a6b50",
            "7fdc8a0d180f4398a39837e2fa01912c",
            "ca0f6481efc4407f902c50baacf0796f",
            "d28093f45e4e438abffb8e6b4d4b317b",
            "dbb711f5d5154222a29fc7cb686b707b",
            "2be6fde11c694025ab8195ffc43b8e69",
            "c72f5c8dd6ca4fd191b0693981f73874",
            "63c38b052e8744f9955326552c2abfbd",
            "09bccd3fe2a042fcab3843b11d48a2be",
            "fac6fa4503884e829db30a5a7e64c91a",
            "e652ad53aad04f9cbb0c0307aa5f6eec",
            "f33c2f60ff8947d28d5afa75b0c2620f",
            "e0dde8a54366418fb30ef3f7c7b9d904",
            "8e347300d96d4452a85ba5b99efc0903",
            "dbb1189372f4451cbbb818a335af5cce",
            "29a13b7f67bd4c78a66a0d681e970c5f",
            "23cb3258308649ecb7df12669802b2da",
            "a2d525e245d94bddba415c2fabc24040"
          ]
        }
      },
      "source": [
        "CoiCop_Labeler.start_to_label()"
      ],
      "execution_count": 10,
      "outputs": [
        {
          "output_type": "display_data",
          "data": {
            "application/vnd.jupyter.widget-view+json": {
              "model_id": "12f352dcd371437993e88426b152bc95",
              "version_minor": 0,
              "version_major": 2
            },
            "text/plain": [
              "VBox(children=(Text(value=\"Kelly's Linsenchips mit Meersalz\", description='Text 1:', layout=Layout(height='40p…"
            ]
          },
          "metadata": {
            "tags": []
          }
        }
      ]
    },
    {
      "cell_type": "markdown",
      "metadata": {
        "id": "zlEm5YPfCff9",
        "colab_type": "text"
      },
      "source": [
        "The next line will print out your current progress of annotating the data."
      ]
    },
    {
      "cell_type": "code",
      "metadata": {
        "id": "kWzefcaMdXh9",
        "colab_type": "code",
        "outputId": "ca997805-5e45-4a8b-941b-8af3a8e19fef",
        "colab": {
          "base_uri": "https://localhost:8080/",
          "height": 50
        }
      },
      "source": [
        "CoiCop_Labeler.get_stats()"
      ],
      "execution_count": 11,
      "outputs": [
        {
          "output_type": "stream",
          "text": [
            "new labels: 20\n",
            "in total 1094 of 30360 labeled ( 4.0 %)\n"
          ],
          "name": "stdout"
        }
      ]
    },
    {
      "cell_type": "markdown",
      "metadata": {
        "id": "PGSEDm3EDSpT",
        "colab_type": "text"
      },
      "source": [
        "Output the data including annotation."
      ]
    },
    {
      "cell_type": "code",
      "metadata": {
        "id": "3051UrA5dZT0",
        "colab_type": "code",
        "outputId": "cc57da25-923c-4fa3-ae2d-5b94c1e8a4a4",
        "colab": {
          "base_uri": "https://localhost:8080/",
          "height": 181
        }
      },
      "source": [
        "df= CoiCop_Labeler.output_labels()\n",
        "df[:1]"
      ],
      "execution_count": 12,
      "outputs": [
        {
          "output_type": "execute_result",
          "data": {
            "text/html": [
              "<div>\n",
              "<style scoped>\n",
              "    .dataframe tbody tr th:only-of-type {\n",
              "        vertical-align: middle;\n",
              "    }\n",
              "\n",
              "    .dataframe tbody tr th {\n",
              "        vertical-align: top;\n",
              "    }\n",
              "\n",
              "    .dataframe thead th {\n",
              "        text-align: right;\n",
              "    }\n",
              "</style>\n",
              "<table border=\"1\" class=\"dataframe\">\n",
              "  <thead>\n",
              "    <tr style=\"text-align: right;\">\n",
              "      <th></th>\n",
              "      <th>lang</th>\n",
              "      <th>name</th>\n",
              "      <th>categ</th>\n",
              "      <th>prod_desc</th>\n",
              "      <th>text_other</th>\n",
              "      <th>url</th>\n",
              "      <th>words_from_url</th>\n",
              "      <th>unit</th>\n",
              "      <th>cc3</th>\n",
              "      <th>cc4</th>\n",
              "      <th>cc5</th>\n",
              "      <th>cc3_pred</th>\n",
              "      <th>cc4_pred</th>\n",
              "      <th>cc5_pred</th>\n",
              "      <th>shop</th>\n",
              "      <th>brand</th>\n",
              "      <th>price</th>\n",
              "      <th>id</th>\n",
              "      <th>url_text</th>\n",
              "      <th>text</th>\n",
              "      <th>labeled_by</th>\n",
              "      <th>sort_columns</th>\n",
              "    </tr>\n",
              "  </thead>\n",
              "  <tbody>\n",
              "    <tr>\n",
              "      <th>0</th>\n",
              "      <td>de</td>\n",
              "      <td>Kelly's Linsenchips mit Meersalz</td>\n",
              "      <td>suesses und salziges   chips und co   knabbereien</td>\n",
              "      <td>Die neue Generation Chips!Kelly's LinsenCHIPS ...</td>\n",
              "      <td>NaN</td>\n",
              "      <td>https://www.billa.at/produkte/kellys-linsenchi...</td>\n",
              "      <td>produkte kellys linsenchips mit meersalz</td>\n",
              "      <td>NaN</td>\n",
              "      <td>11_Food</td>\n",
              "      <td>117_Vegetables</td>\n",
              "      <td>1176_Other tubers and products of tuber vegeta...</td>\n",
              "      <td>11_Food</td>\n",
              "      <td>117_Vegetables</td>\n",
              "      <td>1176_Other tubers and products of tuber vegeta...</td>\n",
              "      <td>Billa</td>\n",
              "      <td>NaN</td>\n",
              "      <td>1.99</td>\n",
              "      <td>00-245459</td>\n",
              "      <td>produkte kellys linsenchips mit meersalz</td>\n",
              "      <td>Kelly's Linsenchips mit Meersalzsuesses und sa...</td>\n",
              "      <td>Erik</td>\n",
              "      <td>68</td>\n",
              "    </tr>\n",
              "  </tbody>\n",
              "</table>\n",
              "</div>"
            ],
            "text/plain": [
              "  lang                              name  ... labeled_by sort_columns\n",
              "0   de  Kelly's Linsenchips mit Meersalz  ...       Erik           68\n",
              "\n",
              "[1 rows x 22 columns]"
            ]
          },
          "metadata": {
            "tags": []
          },
          "execution_count": 12
        }
      ]
    },
    {
      "cell_type": "markdown",
      "metadata": {
        "id": "mP34Q9mpNBl1",
        "colab_type": "text"
      },
      "source": [
        "## Save data to Google Drive"
      ]
    },
    {
      "cell_type": "code",
      "metadata": {
        "id": "KhwdHI3lM_lt",
        "colab_type": "code",
        "outputId": "a29a87f1-fd7d-4610-91c8-dccacdb357be",
        "colab": {
          "base_uri": "https://localhost:8080/",
          "height": 33
        }
      },
      "source": [
        "if True:\n",
        "    print(path+data_path+file_path,'saved')\n",
        "    df.to_csv(path+data_path+file_path,sep='|')"
      ],
      "execution_count": 13,
      "outputs": [
        {
          "output_type": "stream",
          "text": [
            "/content/gdrive/My Drive/Thesis_ecb_ecoicop/data/at/norm_at.csv saved\n"
          ],
          "name": "stdout"
        }
      ]
    },
    {
      "cell_type": "code",
      "metadata": {
        "id": "lcMJvxQZyjsk",
        "colab_type": "code",
        "colab": {}
      },
      "source": [
        ""
      ],
      "execution_count": 0,
      "outputs": []
    }
  ]
}