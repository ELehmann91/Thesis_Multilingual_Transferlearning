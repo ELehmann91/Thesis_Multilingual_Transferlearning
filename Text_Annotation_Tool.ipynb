{
  "nbformat": 4,
  "nbformat_minor": 0,
  "metadata": {
    "colab": {
      "name": "Text_Annotation_Tool.ipynb",
      "provenance": [],
      "collapsed_sections": [
        "DIJ6I9wWjUyL",
        "mP34Q9mpNBl1"
      ],
      "toc_visible": true,
      "authorship_tag": "ABX9TyN9EGCHj2dUnwxYR5CshXf9",
      "include_colab_link": true
    },
    "kernelspec": {
      "name": "python3",
      "display_name": "Python 3"
    },
    "widgets": {
      "application/vnd.jupyter.widget-state+json": {
        "053ccd1747de4271b2322f35ee75d57a": {
          "model_module": "@jupyter-widgets/controls",
          "model_name": "VBoxModel",
          "state": {
            "_view_name": "VBoxView",
            "_dom_classes": [],
            "_model_name": "VBoxModel",
            "_view_module": "@jupyter-widgets/controls",
            "_model_module_version": "1.5.0",
            "_view_count": null,
            "_view_module_version": "1.5.0",
            "box_style": "",
            "layout": "IPY_MODEL_95eb59984c4e4e21b9598d6a7cd94cf4",
            "_model_module": "@jupyter-widgets/controls",
            "children": [
              "IPY_MODEL_fb8ed85e96ea45f98a697d84ecb9e18a",
              "IPY_MODEL_d1391c444ef04acbb77d80c7597c0041",
              "IPY_MODEL_595620ea04734d65b1e3bf5ef7b52c74",
              "IPY_MODEL_35c8dc6532c14e24b754dd6652e979b9",
              "IPY_MODEL_bb01bee2a56d4274b7112e216e4b35c5"
            ]
          }
        },
        "95eb59984c4e4e21b9598d6a7cd94cf4": {
          "model_module": "@jupyter-widgets/base",
          "model_name": "LayoutModel",
          "state": {
            "_view_name": "LayoutView",
            "grid_template_rows": null,
            "right": null,
            "justify_content": null,
            "_view_module": "@jupyter-widgets/base",
            "overflow": null,
            "_model_module_version": "1.2.0",
            "_view_count": null,
            "flex_flow": null,
            "width": null,
            "min_width": null,
            "border": null,
            "align_items": null,
            "bottom": null,
            "_model_module": "@jupyter-widgets/base",
            "top": null,
            "grid_column": null,
            "overflow_y": null,
            "overflow_x": null,
            "grid_auto_flow": null,
            "grid_area": null,
            "grid_template_columns": null,
            "flex": null,
            "_model_name": "LayoutModel",
            "justify_items": null,
            "grid_row": null,
            "max_height": null,
            "align_content": null,
            "visibility": null,
            "align_self": null,
            "height": null,
            "min_height": null,
            "padding": null,
            "grid_auto_rows": null,
            "grid_gap": null,
            "max_width": null,
            "order": null,
            "_view_module_version": "1.2.0",
            "grid_template_areas": null,
            "object_position": null,
            "object_fit": null,
            "grid_auto_columns": null,
            "margin": null,
            "display": null,
            "left": null
          }
        },
        "fb8ed85e96ea45f98a697d84ecb9e18a": {
          "model_module": "@jupyter-widgets/controls",
          "model_name": "TextModel",
          "state": {
            "_view_name": "TextView",
            "style": "IPY_MODEL_7ecff34a79884ab1aa744a02f986afca",
            "_dom_classes": [],
            "description": "Text 1:",
            "_model_name": "TextModel",
            "placeholder": "​",
            "_view_module": "@jupyter-widgets/controls",
            "_model_module_version": "1.5.0",
            "value": "Niemetz Schwedenbomben",
            "_view_count": null,
            "disabled": false,
            "_view_module_version": "1.5.0",
            "continuous_update": true,
            "description_tooltip": null,
            "_model_module": "@jupyter-widgets/controls",
            "layout": "IPY_MODEL_1505bd6e1ebc4fc38e5d94faf91ee87a"
          }
        },
        "d1391c444ef04acbb77d80c7597c0041": {
          "model_module": "@jupyter-widgets/controls",
          "model_name": "TextModel",
          "state": {
            "_view_name": "TextView",
            "style": "IPY_MODEL_571c4103ecc641edbdc63483f6d8ddd8",
            "_dom_classes": [],
            "description": "Text 2:",
            "_model_name": "TextModel",
            "placeholder": "​",
            "_view_module": "@jupyter-widgets/controls",
            "_model_module_version": "1.5.0",
            "value": "suesses und salziges | suesses | suesse spezialitaeten",
            "_view_count": null,
            "disabled": false,
            "_view_module_version": "1.5.0",
            "continuous_update": true,
            "description_tooltip": null,
            "_model_module": "@jupyter-widgets/controls",
            "layout": "IPY_MODEL_2e97b3e9960247feb15605b2b580d5b9"
          }
        },
        "595620ea04734d65b1e3bf5ef7b52c74": {
          "model_module": "@jupyter-widgets/controls",
          "model_name": "TextModel",
          "state": {
            "_view_name": "TextView",
            "style": "IPY_MODEL_9c9c4f71117841aba3c19d30b9588d0f",
            "_dom_classes": [],
            "description": "Url:",
            "_model_name": "TextModel",
            "placeholder": "​",
            "_view_module": "@jupyter-widgets/controls",
            "_model_module_version": "1.5.0",
            "value": "https://www.billa.at/produkte/niemetz-schwedenbomben/00-60230",
            "_view_count": null,
            "disabled": false,
            "_view_module_version": "1.5.0",
            "continuous_update": true,
            "description_tooltip": null,
            "_model_module": "@jupyter-widgets/controls",
            "layout": "IPY_MODEL_d757beeb257144bc87b4335aa0d365bd"
          }
        },
        "35c8dc6532c14e24b754dd6652e979b9": {
          "model_module": "@jupyter-widgets/controls",
          "model_name": "BoxModel",
          "state": {
            "_view_name": "BoxView",
            "_dom_classes": [],
            "_model_name": "BoxModel",
            "_view_module": "@jupyter-widgets/controls",
            "_model_module_version": "1.5.0",
            "_view_count": null,
            "_view_module_version": "1.5.0",
            "box_style": "",
            "layout": "IPY_MODEL_7fc0e559db334be8b2eb8024aa8f8352",
            "_model_module": "@jupyter-widgets/controls",
            "children": [
              "IPY_MODEL_fd606b26e550478ebd9fb73a141f2f96",
              "IPY_MODEL_6af7a0ea7033493780e0df5b23c9c20b"
            ]
          }
        },
        "bb01bee2a56d4274b7112e216e4b35c5": {
          "model_module": "@jupyter-widgets/controls",
          "model_name": "BoxModel",
          "state": {
            "_view_name": "BoxView",
            "_dom_classes": [],
            "_model_name": "BoxModel",
            "_view_module": "@jupyter-widgets/controls",
            "_model_module_version": "1.5.0",
            "_view_count": null,
            "_view_module_version": "1.5.0",
            "box_style": "",
            "layout": "IPY_MODEL_cd5c9528527b4d28abf9f42b5b442cdc",
            "_model_module": "@jupyter-widgets/controls",
            "children": [
              "IPY_MODEL_7dd1f82d76cc451eaaabc91b4d5844a5",
              "IPY_MODEL_13a1d492f0e849dea2695af433ef41ef",
              "IPY_MODEL_bda9451fc9c6453799e32f109e3c1516",
              "IPY_MODEL_99b31b08394a4d989f6b4494fe1a0138"
            ]
          }
        },
        "7ecff34a79884ab1aa744a02f986afca": {
          "model_module": "@jupyter-widgets/controls",
          "model_name": "DescriptionStyleModel",
          "state": {
            "_view_name": "StyleView",
            "_model_name": "DescriptionStyleModel",
            "description_width": "",
            "_view_module": "@jupyter-widgets/base",
            "_model_module_version": "1.5.0",
            "_view_count": null,
            "_view_module_version": "1.2.0",
            "_model_module": "@jupyter-widgets/controls"
          }
        },
        "1505bd6e1ebc4fc38e5d94faf91ee87a": {
          "model_module": "@jupyter-widgets/base",
          "model_name": "LayoutModel",
          "state": {
            "_view_name": "LayoutView",
            "grid_template_rows": null,
            "right": null,
            "justify_content": null,
            "_view_module": "@jupyter-widgets/base",
            "overflow": null,
            "_model_module_version": "1.2.0",
            "_view_count": null,
            "flex_flow": null,
            "width": "80%",
            "min_width": null,
            "border": null,
            "align_items": null,
            "bottom": null,
            "_model_module": "@jupyter-widgets/base",
            "top": null,
            "grid_column": null,
            "overflow_y": null,
            "overflow_x": null,
            "grid_auto_flow": null,
            "grid_area": null,
            "grid_template_columns": null,
            "flex": null,
            "_model_name": "LayoutModel",
            "justify_items": null,
            "grid_row": null,
            "max_height": null,
            "align_content": null,
            "visibility": null,
            "align_self": null,
            "height": "40px",
            "min_height": null,
            "padding": null,
            "grid_auto_rows": null,
            "grid_gap": null,
            "max_width": null,
            "order": null,
            "_view_module_version": "1.2.0",
            "grid_template_areas": null,
            "object_position": null,
            "object_fit": null,
            "grid_auto_columns": null,
            "margin": null,
            "display": null,
            "left": null
          }
        },
        "571c4103ecc641edbdc63483f6d8ddd8": {
          "model_module": "@jupyter-widgets/controls",
          "model_name": "DescriptionStyleModel",
          "state": {
            "_view_name": "StyleView",
            "_model_name": "DescriptionStyleModel",
            "description_width": "",
            "_view_module": "@jupyter-widgets/base",
            "_model_module_version": "1.5.0",
            "_view_count": null,
            "_view_module_version": "1.2.0",
            "_model_module": "@jupyter-widgets/controls"
          }
        },
        "2e97b3e9960247feb15605b2b580d5b9": {
          "model_module": "@jupyter-widgets/base",
          "model_name": "LayoutModel",
          "state": {
            "_view_name": "LayoutView",
            "grid_template_rows": null,
            "right": null,
            "justify_content": null,
            "_view_module": "@jupyter-widgets/base",
            "overflow": null,
            "_model_module_version": "1.2.0",
            "_view_count": null,
            "flex_flow": null,
            "width": "80%",
            "min_width": null,
            "border": null,
            "align_items": null,
            "bottom": null,
            "_model_module": "@jupyter-widgets/base",
            "top": null,
            "grid_column": null,
            "overflow_y": null,
            "overflow_x": null,
            "grid_auto_flow": null,
            "grid_area": null,
            "grid_template_columns": null,
            "flex": null,
            "_model_name": "LayoutModel",
            "justify_items": null,
            "grid_row": null,
            "max_height": null,
            "align_content": null,
            "visibility": null,
            "align_self": null,
            "height": "40px",
            "min_height": null,
            "padding": null,
            "grid_auto_rows": null,
            "grid_gap": null,
            "max_width": null,
            "order": null,
            "_view_module_version": "1.2.0",
            "grid_template_areas": null,
            "object_position": null,
            "object_fit": null,
            "grid_auto_columns": null,
            "margin": null,
            "display": null,
            "left": null
          }
        },
        "9c9c4f71117841aba3c19d30b9588d0f": {
          "model_module": "@jupyter-widgets/controls",
          "model_name": "DescriptionStyleModel",
          "state": {
            "_view_name": "StyleView",
            "_model_name": "DescriptionStyleModel",
            "description_width": "",
            "_view_module": "@jupyter-widgets/base",
            "_model_module_version": "1.5.0",
            "_view_count": null,
            "_view_module_version": "1.2.0",
            "_model_module": "@jupyter-widgets/controls"
          }
        },
        "d757beeb257144bc87b4335aa0d365bd": {
          "model_module": "@jupyter-widgets/base",
          "model_name": "LayoutModel",
          "state": {
            "_view_name": "LayoutView",
            "grid_template_rows": null,
            "right": null,
            "justify_content": null,
            "_view_module": "@jupyter-widgets/base",
            "overflow": null,
            "_model_module_version": "1.2.0",
            "_view_count": null,
            "flex_flow": null,
            "width": "80%",
            "min_width": null,
            "border": null,
            "align_items": null,
            "bottom": null,
            "_model_module": "@jupyter-widgets/base",
            "top": null,
            "grid_column": null,
            "overflow_y": null,
            "overflow_x": null,
            "grid_auto_flow": null,
            "grid_area": null,
            "grid_template_columns": null,
            "flex": null,
            "_model_name": "LayoutModel",
            "justify_items": null,
            "grid_row": null,
            "max_height": null,
            "align_content": null,
            "visibility": null,
            "align_self": null,
            "height": "40px",
            "min_height": null,
            "padding": null,
            "grid_auto_rows": null,
            "grid_gap": null,
            "max_width": null,
            "order": null,
            "_view_module_version": "1.2.0",
            "grid_template_areas": null,
            "object_position": null,
            "object_fit": null,
            "grid_auto_columns": null,
            "margin": null,
            "display": null,
            "left": null
          }
        },
        "7fc0e559db334be8b2eb8024aa8f8352": {
          "model_module": "@jupyter-widgets/base",
          "model_name": "LayoutModel",
          "state": {
            "_view_name": "LayoutView",
            "grid_template_rows": null,
            "right": null,
            "justify_content": null,
            "_view_module": "@jupyter-widgets/base",
            "overflow": null,
            "_model_module_version": "1.2.0",
            "_view_count": null,
            "flex_flow": "column",
            "width": "80%",
            "min_width": null,
            "border": null,
            "align_items": "stretch",
            "bottom": null,
            "_model_module": "@jupyter-widgets/base",
            "top": null,
            "grid_column": null,
            "overflow_y": null,
            "overflow_x": null,
            "grid_auto_flow": null,
            "grid_area": null,
            "grid_template_columns": null,
            "flex": null,
            "_model_name": "LayoutModel",
            "justify_items": null,
            "grid_row": null,
            "max_height": null,
            "align_content": "center",
            "visibility": null,
            "align_self": null,
            "height": null,
            "min_height": null,
            "padding": null,
            "grid_auto_rows": null,
            "grid_gap": null,
            "max_width": null,
            "order": null,
            "_view_module_version": "1.2.0",
            "grid_template_areas": null,
            "object_position": null,
            "object_fit": null,
            "grid_auto_columns": null,
            "margin": null,
            "display": "flex",
            "left": null
          }
        },
        "fd606b26e550478ebd9fb73a141f2f96": {
          "model_module": "@jupyter-widgets/controls",
          "model_name": "DropdownModel",
          "state": {
            "_options_labels": [
              "1111_Rice",
              "1112_Flours and other cereals",
              "1113_Bread",
              "1114_Other bakery products",
              "1115_Pizza and quiche",
              "1116_Pasta products and couscous",
              "1117_Breakfast cereals",
              "1118_Other cereal products",
              "1121_Beef and veal",
              "1122_Pork",
              "1123_Lamb and goat",
              "1124_Poultry",
              "1125_Other meats",
              "1126_Edible offal",
              "1127_Dried, salted or smoked meat",
              "1128_Other meat preparations",
              "1131_Fresh or chilled fish",
              "1132_Frozen fish",
              "1133_Fresh or chilled seafood",
              "1134_Frozen seafood",
              "1135_Dried, smoked or salted fish and seafood",
              "1136_Other preserved or processed fish and seafood-based preparations",
              "1141_Fresh whole milk",
              "1142_Fresh low fat milk",
              "1143_Preserved milk",
              "1144_Yoghurt",
              "1145_Cheese and curd",
              "1146_Other milk products",
              "1147_Eggs",
              "1151_Butter",
              "1152_Margarine and other vegetable fats",
              "1153_Olive oil",
              "1154_Other edible oils",
              "1155_Other edible animal fats",
              "1161_Fresh or chilled fruit",
              "1162_Frozen fruit",
              "1163_Dried fruit and nuts",
              "1164_Preserved fruit and fruit-based products",
              "1171_Fresh or chilled vegetables other than potatoes and other tubers",
              "1172_Frozen vegetables other than potatoes and other tubers",
              "1173_Dried vegetables, other preserved or processed vegetables",
              "1174_Potatoes",
              "1175_Crisps",
              "1176_Other tubers and products of tuber vegetables",
              "1181_Sugar",
              "1182_Jams, marmalades and honey",
              "1183_Chocolate",
              "1184_Confectionery products",
              "1185_Edible ices and ice cream",
              "1186_Artificial sugar substitutes",
              "1191_Sauces, condiments",
              "1192_Salt, spices and culinary herbs",
              "1193_Baby food",
              "1194_Ready-made meals",
              "1199_Other food products n.e.c.",
              "1211_Coffee",
              "1212_Tea",
              "1213_Cocoa and powdered chocolate",
              "1221_Mineral or spring waters",
              "1222_Soft drinks",
              "1223_Fruit and vegetable juices",
              "2111_Spirits and liqueurs",
              "2112_Alcoholic soft drinks",
              "2121_Wine from grapes",
              "2122_Wine from other fruits",
              "2123_Fortified wines",
              "2124_Wine-based drinks",
              "2131_Lager beer",
              "2132_Other alcoholic beer",
              "2133_Low and non-alcoholic beer",
              "2134_Beer-based drinks",
              "2201_Cigarettes",
              "2202_Cigars",
              "2203_Other tobacco products",
              "9999_Non-Food"
            ],
            "_view_name": "DropdownView",
            "style": "IPY_MODEL_b75ad24330e9423c8424549ae1fe45fc",
            "_dom_classes": [],
            "description": "COICOP 5:",
            "_model_name": "DropdownModel",
            "index": 58,
            "_view_module": "@jupyter-widgets/controls",
            "_model_module_version": "1.5.0",
            "_view_count": null,
            "disabled": false,
            "_view_module_version": "1.5.0",
            "description_tooltip": null,
            "_model_module": "@jupyter-widgets/controls",
            "layout": "IPY_MODEL_00e78fbbd5814e1caaa1efc914208260"
          }
        },
        "6af7a0ea7033493780e0df5b23c9c20b": {
          "model_module": "@jupyter-widgets/output",
          "model_name": "OutputModel",
          "state": {
            "_view_name": "OutputView",
            "msg_id": "",
            "_dom_classes": [],
            "_model_name": "OutputModel",
            "outputs": [],
            "_view_module": "@jupyter-widgets/output",
            "_model_module_version": "1.0.0",
            "_view_count": null,
            "_view_module_version": "1.0.0",
            "layout": "IPY_MODEL_9f5f56a736a84024a3e17ca5c8c67e89",
            "_model_module": "@jupyter-widgets/output"
          }
        },
        "cd5c9528527b4d28abf9f42b5b442cdc": {
          "model_module": "@jupyter-widgets/base",
          "model_name": "LayoutModel",
          "state": {
            "_view_name": "LayoutView",
            "grid_template_rows": null,
            "right": null,
            "justify_content": null,
            "_view_module": "@jupyter-widgets/base",
            "overflow": null,
            "_model_module_version": "1.2.0",
            "_view_count": null,
            "flex_flow": "row",
            "width": "80%",
            "min_width": null,
            "border": null,
            "align_items": "stretch",
            "bottom": null,
            "_model_module": "@jupyter-widgets/base",
            "top": null,
            "grid_column": null,
            "overflow_y": null,
            "overflow_x": null,
            "grid_auto_flow": null,
            "grid_area": null,
            "grid_template_columns": null,
            "flex": null,
            "_model_name": "LayoutModel",
            "justify_items": null,
            "grid_row": null,
            "max_height": null,
            "align_content": "center",
            "visibility": null,
            "align_self": null,
            "height": null,
            "min_height": null,
            "padding": null,
            "grid_auto_rows": null,
            "grid_gap": null,
            "max_width": null,
            "order": null,
            "_view_module_version": "1.2.0",
            "grid_template_areas": null,
            "object_position": null,
            "object_fit": null,
            "grid_auto_columns": null,
            "margin": null,
            "display": "flex",
            "left": null
          }
        },
        "7dd1f82d76cc451eaaabc91b4d5844a5": {
          "model_module": "@jupyter-widgets/controls",
          "model_name": "ButtonModel",
          "state": {
            "_view_name": "ButtonView",
            "style": "IPY_MODEL_efaaaa9fdf7f48c686f6170559f72808",
            "_dom_classes": [],
            "description": "Next",
            "_model_name": "ButtonModel",
            "button_style": "",
            "_view_module": "@jupyter-widgets/controls",
            "_model_module_version": "1.5.0",
            "tooltip": "",
            "_view_count": null,
            "disabled": false,
            "_view_module_version": "1.5.0",
            "layout": "IPY_MODEL_9be32588b00e46198e264423846e0154",
            "_model_module": "@jupyter-widgets/controls",
            "icon": ""
          }
        },
        "13a1d492f0e849dea2695af433ef41ef": {
          "model_module": "@jupyter-widgets/output",
          "model_name": "OutputModel",
          "state": {
            "_view_name": "OutputView",
            "msg_id": "",
            "_dom_classes": [],
            "_model_name": "OutputModel",
            "outputs": [],
            "_view_module": "@jupyter-widgets/output",
            "_model_module_version": "1.0.0",
            "_view_count": null,
            "_view_module_version": "1.0.0",
            "layout": "IPY_MODEL_0a550829b42e4f28bb12d7d254029f5f",
            "_model_module": "@jupyter-widgets/output"
          }
        },
        "bda9451fc9c6453799e32f109e3c1516": {
          "model_module": "@jupyter-widgets/controls",
          "model_name": "ButtonModel",
          "state": {
            "_view_name": "ButtonView",
            "style": "IPY_MODEL_938dbb363eca4a7aa842a2399b7fb4ce",
            "_dom_classes": [],
            "description": "Save",
            "_model_name": "ButtonModel",
            "button_style": "",
            "_view_module": "@jupyter-widgets/controls",
            "_model_module_version": "1.5.0",
            "tooltip": "",
            "_view_count": null,
            "disabled": false,
            "_view_module_version": "1.5.0",
            "layout": "IPY_MODEL_5d6579939f26415691d7f74a18ca7421",
            "_model_module": "@jupyter-widgets/controls",
            "icon": ""
          }
        },
        "99b31b08394a4d989f6b4494fe1a0138": {
          "model_module": "@jupyter-widgets/output",
          "model_name": "OutputModel",
          "state": {
            "_view_name": "OutputView",
            "msg_id": "",
            "_dom_classes": [],
            "_model_name": "OutputModel",
            "outputs": [],
            "_view_module": "@jupyter-widgets/output",
            "_model_module_version": "1.0.0",
            "_view_count": null,
            "_view_module_version": "1.0.0",
            "layout": "IPY_MODEL_d8b2d12948bb432eafd487e5399fe4ec",
            "_model_module": "@jupyter-widgets/output"
          }
        },
        "b75ad24330e9423c8424549ae1fe45fc": {
          "model_module": "@jupyter-widgets/controls",
          "model_name": "DescriptionStyleModel",
          "state": {
            "_view_name": "StyleView",
            "_model_name": "DescriptionStyleModel",
            "description_width": "",
            "_view_module": "@jupyter-widgets/base",
            "_model_module_version": "1.5.0",
            "_view_count": null,
            "_view_module_version": "1.2.0",
            "_model_module": "@jupyter-widgets/controls"
          }
        },
        "00e78fbbd5814e1caaa1efc914208260": {
          "model_module": "@jupyter-widgets/base",
          "model_name": "LayoutModel",
          "state": {
            "_view_name": "LayoutView",
            "grid_template_rows": null,
            "right": null,
            "justify_content": null,
            "_view_module": "@jupyter-widgets/base",
            "overflow": null,
            "_model_module_version": "1.2.0",
            "_view_count": null,
            "flex_flow": null,
            "width": "80%",
            "min_width": null,
            "border": null,
            "align_items": null,
            "bottom": null,
            "_model_module": "@jupyter-widgets/base",
            "top": null,
            "grid_column": null,
            "overflow_y": null,
            "overflow_x": null,
            "grid_auto_flow": null,
            "grid_area": null,
            "grid_template_columns": null,
            "flex": null,
            "_model_name": "LayoutModel",
            "justify_items": null,
            "grid_row": null,
            "max_height": null,
            "align_content": null,
            "visibility": null,
            "align_self": null,
            "height": "40px",
            "min_height": null,
            "padding": null,
            "grid_auto_rows": null,
            "grid_gap": null,
            "max_width": null,
            "order": null,
            "_view_module_version": "1.2.0",
            "grid_template_areas": null,
            "object_position": null,
            "object_fit": null,
            "grid_auto_columns": null,
            "margin": null,
            "display": null,
            "left": null
          }
        },
        "efaaaa9fdf7f48c686f6170559f72808": {
          "model_module": "@jupyter-widgets/controls",
          "model_name": "ButtonStyleModel",
          "state": {
            "_view_name": "StyleView",
            "_model_name": "ButtonStyleModel",
            "_view_module": "@jupyter-widgets/base",
            "_model_module_version": "1.5.0",
            "_view_count": null,
            "button_color": null,
            "font_weight": "",
            "_view_module_version": "1.2.0",
            "_model_module": "@jupyter-widgets/controls"
          }
        },
        "9be32588b00e46198e264423846e0154": {
          "model_module": "@jupyter-widgets/base",
          "model_name": "LayoutModel",
          "state": {
            "_view_name": "LayoutView",
            "grid_template_rows": null,
            "right": null,
            "justify_content": null,
            "_view_module": "@jupyter-widgets/base",
            "overflow": null,
            "_model_module_version": "1.2.0",
            "_view_count": null,
            "flex_flow": null,
            "width": null,
            "min_width": null,
            "border": null,
            "align_items": null,
            "bottom": null,
            "_model_module": "@jupyter-widgets/base",
            "top": null,
            "grid_column": null,
            "overflow_y": null,
            "overflow_x": null,
            "grid_auto_flow": null,
            "grid_area": null,
            "grid_template_columns": null,
            "flex": null,
            "_model_name": "LayoutModel",
            "justify_items": null,
            "grid_row": null,
            "max_height": null,
            "align_content": null,
            "visibility": null,
            "align_self": null,
            "height": null,
            "min_height": null,
            "padding": null,
            "grid_auto_rows": null,
            "grid_gap": null,
            "max_width": null,
            "order": null,
            "_view_module_version": "1.2.0",
            "grid_template_areas": null,
            "object_position": null,
            "object_fit": null,
            "grid_auto_columns": null,
            "margin": null,
            "display": null,
            "left": null
          }
        },
        "938dbb363eca4a7aa842a2399b7fb4ce": {
          "model_module": "@jupyter-widgets/controls",
          "model_name": "ButtonStyleModel",
          "state": {
            "_view_name": "StyleView",
            "_model_name": "ButtonStyleModel",
            "_view_module": "@jupyter-widgets/base",
            "_model_module_version": "1.5.0",
            "_view_count": null,
            "button_color": null,
            "font_weight": "",
            "_view_module_version": "1.2.0",
            "_model_module": "@jupyter-widgets/controls"
          }
        },
        "5d6579939f26415691d7f74a18ca7421": {
          "model_module": "@jupyter-widgets/base",
          "model_name": "LayoutModel",
          "state": {
            "_view_name": "LayoutView",
            "grid_template_rows": null,
            "right": null,
            "justify_content": null,
            "_view_module": "@jupyter-widgets/base",
            "overflow": null,
            "_model_module_version": "1.2.0",
            "_view_count": null,
            "flex_flow": null,
            "width": null,
            "min_width": null,
            "border": null,
            "align_items": null,
            "bottom": null,
            "_model_module": "@jupyter-widgets/base",
            "top": null,
            "grid_column": null,
            "overflow_y": null,
            "overflow_x": null,
            "grid_auto_flow": null,
            "grid_area": null,
            "grid_template_columns": null,
            "flex": null,
            "_model_name": "LayoutModel",
            "justify_items": null,
            "grid_row": null,
            "max_height": null,
            "align_content": null,
            "visibility": null,
            "align_self": null,
            "height": null,
            "min_height": null,
            "padding": null,
            "grid_auto_rows": null,
            "grid_gap": null,
            "max_width": null,
            "order": null,
            "_view_module_version": "1.2.0",
            "grid_template_areas": null,
            "object_position": null,
            "object_fit": null,
            "grid_auto_columns": null,
            "margin": null,
            "display": null,
            "left": null
          }
        },
        "9f5f56a736a84024a3e17ca5c8c67e89": {
          "model_module": "@jupyter-widgets/base",
          "model_name": "LayoutModel",
          "state": {
            "_view_name": "LayoutView",
            "grid_template_rows": null,
            "right": null,
            "justify_content": null,
            "_view_module": "@jupyter-widgets/base",
            "overflow": null,
            "_model_module_version": "1.2.0",
            "_view_count": null,
            "flex_flow": null,
            "width": null,
            "min_width": null,
            "border": null,
            "align_items": null,
            "bottom": null,
            "_model_module": "@jupyter-widgets/base",
            "top": null,
            "grid_column": null,
            "overflow_y": null,
            "overflow_x": null,
            "grid_auto_flow": null,
            "grid_area": null,
            "grid_template_columns": null,
            "flex": null,
            "_model_name": "LayoutModel",
            "justify_items": null,
            "grid_row": null,
            "max_height": null,
            "align_content": null,
            "visibility": null,
            "align_self": null,
            "height": null,
            "min_height": null,
            "padding": null,
            "grid_auto_rows": null,
            "grid_gap": null,
            "max_width": null,
            "order": null,
            "_view_module_version": "1.2.0",
            "grid_template_areas": null,
            "object_position": null,
            "object_fit": null,
            "grid_auto_columns": null,
            "margin": null,
            "display": null,
            "left": null
          }
        },
        "0a550829b42e4f28bb12d7d254029f5f": {
          "model_module": "@jupyter-widgets/base",
          "model_name": "LayoutModel",
          "state": {
            "_view_name": "LayoutView",
            "grid_template_rows": null,
            "right": null,
            "justify_content": null,
            "_view_module": "@jupyter-widgets/base",
            "overflow": null,
            "_model_module_version": "1.2.0",
            "_view_count": null,
            "flex_flow": null,
            "width": null,
            "min_width": null,
            "border": null,
            "align_items": null,
            "bottom": null,
            "_model_module": "@jupyter-widgets/base",
            "top": null,
            "grid_column": null,
            "overflow_y": null,
            "overflow_x": null,
            "grid_auto_flow": null,
            "grid_area": null,
            "grid_template_columns": null,
            "flex": null,
            "_model_name": "LayoutModel",
            "justify_items": null,
            "grid_row": null,
            "max_height": null,
            "align_content": null,
            "visibility": null,
            "align_self": null,
            "height": null,
            "min_height": null,
            "padding": null,
            "grid_auto_rows": null,
            "grid_gap": null,
            "max_width": null,
            "order": null,
            "_view_module_version": "1.2.0",
            "grid_template_areas": null,
            "object_position": null,
            "object_fit": null,
            "grid_auto_columns": null,
            "margin": null,
            "display": null,
            "left": null
          }
        },
        "d8b2d12948bb432eafd487e5399fe4ec": {
          "model_module": "@jupyter-widgets/base",
          "model_name": "LayoutModel",
          "state": {
            "_view_name": "LayoutView",
            "grid_template_rows": null,
            "right": null,
            "justify_content": null,
            "_view_module": "@jupyter-widgets/base",
            "overflow": null,
            "_model_module_version": "1.2.0",
            "_view_count": null,
            "flex_flow": null,
            "width": null,
            "min_width": null,
            "border": null,
            "align_items": null,
            "bottom": null,
            "_model_module": "@jupyter-widgets/base",
            "top": null,
            "grid_column": null,
            "overflow_y": null,
            "overflow_x": null,
            "grid_auto_flow": null,
            "grid_area": null,
            "grid_template_columns": null,
            "flex": null,
            "_model_name": "LayoutModel",
            "justify_items": null,
            "grid_row": null,
            "max_height": null,
            "align_content": null,
            "visibility": null,
            "align_self": null,
            "height": null,
            "min_height": null,
            "padding": null,
            "grid_auto_rows": null,
            "grid_gap": null,
            "max_width": null,
            "order": null,
            "_view_module_version": "1.2.0",
            "grid_template_areas": null,
            "object_position": null,
            "object_fit": null,
            "grid_auto_columns": null,
            "margin": null,
            "display": null,
            "left": null
          }
        }
      }
    }
  },
  "cells": [
    {
      "cell_type": "markdown",
      "metadata": {
        "id": "view-in-github",
        "colab_type": "text"
      },
      "source": [
        "<a href=\"https://colab.research.google.com/github/ELehmann91/Thesis_Multilingual_Transferlearning/blob/master/Text_Annotation_Tool.ipynb\" target=\"_parent\"><img src=\"https://colab.research.google.com/assets/colab-badge.svg\" alt=\"Open In Colab\"/></a>"
      ]
    },
    {
      "cell_type": "markdown",
      "metadata": {
        "id": "c8aX4ibmIzSO",
        "colab_type": "text"
      },
      "source": [
        "<p><img alt=\"Colaboratory logo\" height=\"45px\" src=\"/img/colab_favicon.ico\" align=\"left\" hspace=\"10px\" vspace=\"0px\"></p>\n",
        "\n",
        "<h1>What is Colaboratory?</h1>\n",
        "\n",
        "Colaboratory, or \"Colab\" for short, allows you to write and execute Python in your browser, with \n",
        "- Zero configuration required\n",
        "- Free access to GPUs\n",
        "- Easy sharing\n",
        "\n",
        "Whether you're a **student**, a **data scientist** or an **AI researcher**, Colab can make your work easier. Watch [Introduction to Colab](https://www.youtube.com/watch?v=inN8seMm7UI) to learn more, or just get started below!"
      ]
    },
    {
      "cell_type": "markdown",
      "metadata": {
        "id": "j-9rGzn0Zki5",
        "colab_type": "text"
      },
      "source": [
        "# ECOICOP Annotation\n",
        "  \n",
        "Use this tool to annotate your product texts with the correspondant eCoiCop category. \n"
      ]
    },
    {
      "cell_type": "markdown",
      "metadata": {
        "id": "P8EyWQfdK9jR",
        "colab_type": "text"
      },
      "source": [
        "## Get code from GitHub\n",
        "  \n",
        "At first we need to download the code from Github to here."
      ]
    },
    {
      "cell_type": "code",
      "metadata": {
        "id": "ub8zb9s7v9QF",
        "colab_type": "code",
        "colab": {}
      },
      "source": [
        "%%capture\n",
        "!pip install eli5\n",
        "!git clone 'https://github.com/ELehmann91/Thesis_Multilingual_Transferlearning'\n",
        "\n",
        "%cd Thesis_Multilingual_Transferlearning\n",
        "import labeler_cc5\n",
        "import coicop_model\n",
        "import pandas as pd\n",
        "import numpy as np\n",
        "from tqdm import tqdm\n",
        "import io"
      ],
      "execution_count": 0,
      "outputs": []
    },
    {
      "cell_type": "markdown",
      "metadata": {
        "id": "DIJ6I9wWjUyL",
        "colab_type": "text"
      },
      "source": [
        "## Upload CSV / Excel from Local Drive"
      ]
    },
    {
      "cell_type": "markdown",
      "metadata": {
        "id": "FYHE2mkbjdqq",
        "colab_type": "text"
      },
      "source": [
        "To upload from your local drive, start with the following code:"
      ]
    },
    {
      "cell_type": "code",
      "metadata": {
        "id": "Cv53M_9uibxg",
        "colab_type": "code",
        "outputId": "23a024b4-2130-4dc2-c56c-45c7501b8ccd",
        "colab": {
          "resources": {
            "http://localhost:8080/nbextensions/google.colab/files.js": {
              "data": "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",
              "ok": true,
              "headers": [
                [
                  "content-type",
                  "application/javascript"
                ]
              ],
              "status": 200,
              "status_text": ""
            }
          },
          "base_uri": "https://localhost:8080/",
          "height": 73
        }
      },
      "source": [
        "from google.colab import files\n",
        "uploaded = files.upload()"
      ],
      "execution_count": 2,
      "outputs": [
        {
          "output_type": "display_data",
          "data": {
            "text/html": [
              "\n",
              "     <input type=\"file\" id=\"files-4937ccb2-0bc1-4459-a786-e7de0fe97a6d\" name=\"files[]\" multiple disabled />\n",
              "     <output id=\"result-4937ccb2-0bc1-4459-a786-e7de0fe97a6d\">\n",
              "      Upload widget is only available when the cell has been executed in the\n",
              "      current browser session. Please rerun this cell to enable.\n",
              "      </output>\n",
              "      <script src=\"/nbextensions/google.colab/files.js\"></script> "
            ],
            "text/plain": [
              "<IPython.core.display.HTML object>"
            ]
          },
          "metadata": {
            "tags": []
          }
        },
        {
          "output_type": "stream",
          "text": [
            "Saving df_out_ezb.csv to df_out_ezb.csv\n"
          ],
          "name": "stdout"
        }
      ]
    },
    {
      "cell_type": "markdown",
      "metadata": {
        "id": "A7QkulHTjkyK",
        "colab_type": "text"
      },
      "source": [
        "It will prompt you to select a file. Click on “Choose Files” then select and upload the file. Wait for the file to be 100% uploaded. You should see the name of the file once Colab has uploaded it.\n",
        "Finally, type in the following code to import it into a dataframe (make sure the filename matches the name of the uploaded file)."
      ]
    },
    {
      "cell_type": "code",
      "metadata": {
        "id": "VmC0fPkzjstK",
        "colab_type": "code",
        "colab": {}
      },
      "source": [
        "df = pd.read_csv(io.BytesIO(uploaded['df_out_ezb.csv']),sep='|')\n",
        "#df = pd.read_excel(io.BytesIO(uploaded['carrfour_trans_pred.xlsx']),encoding='ANSI')\n",
        "#df = pd.read_excel(uploaded['carrfour_trans_pred.xlsx'],encoding='unicode')"
      ],
      "execution_count": 0,
      "outputs": []
    },
    {
      "cell_type": "code",
      "metadata": {
        "id": "w_8lIfRA-qul",
        "colab_type": "code",
        "outputId": "0b6a943d-5412-422b-a83d-4b915899cd19",
        "colab": {
          "base_uri": "https://localhost:8080/",
          "height": 261
        }
      },
      "source": [
        "# Dataset is now stored in a Pandas Dataframe\n",
        "#df['productCategory'] = df['productCategory'].apply(lambda x: str(x).replace('suesses','süßes').replace('ue','ü').replace('ae','ä').replace('oe','ö'))\n",
        "print(df.shape)\n",
        "df[:2]"
      ],
      "execution_count": 43,
      "outputs": [
        {
          "output_type": "stream",
          "text": [
            "(34976, 12)\n"
          ],
          "name": "stdout"
        },
        {
          "output_type": "execute_result",
          "data": {
            "text/html": [
              "<div>\n",
              "<style scoped>\n",
              "    .dataframe tbody tr th:only-of-type {\n",
              "        vertical-align: middle;\n",
              "    }\n",
              "\n",
              "    .dataframe tbody tr th {\n",
              "        vertical-align: top;\n",
              "    }\n",
              "\n",
              "    .dataframe thead th {\n",
              "        text-align: right;\n",
              "    }\n",
              "</style>\n",
              "<table border=\"1\" class=\"dataframe\">\n",
              "  <thead>\n",
              "    <tr style=\"text-align: right;\">\n",
              "      <th></th>\n",
              "      <th>Unnamed: 0</th>\n",
              "      <th>productID</th>\n",
              "      <th>productCategory</th>\n",
              "      <th>productName</th>\n",
              "      <th>productDescription</th>\n",
              "      <th>productURL</th>\n",
              "      <th>storeName</th>\n",
              "      <th>url_text</th>\n",
              "      <th>text</th>\n",
              "      <th>cc3_pred</th>\n",
              "      <th>cc4_pred</th>\n",
              "      <th>cc5_pred</th>\n",
              "    </tr>\n",
              "  </thead>\n",
              "  <tbody>\n",
              "    <tr>\n",
              "      <th>0</th>\n",
              "      <td>0</td>\n",
              "      <td>00-64304</td>\n",
              "      <td>süßes und salziges | chips und co | knabbereien</td>\n",
              "      <td>Soletti Salzstangerl</td>\n",
              "      <td>Knabberspaß aus 100 % österreichischen Rohstof...</td>\n",
              "      <td>https://www.billa.at/produkte/soletti-salzstan...</td>\n",
              "      <td>billa.at</td>\n",
              "      <td>produkte soletti salzstangerl</td>\n",
              "      <td>Soletti Salzstangerlsüßes und salziges | chips...</td>\n",
              "      <td>11_Food</td>\n",
              "      <td>117_Vegetables</td>\n",
              "      <td>1175_Crisps</td>\n",
              "    </tr>\n",
              "    <tr>\n",
              "      <th>1</th>\n",
              "      <td>1</td>\n",
              "      <td>00-427631</td>\n",
              "      <td>süßes und salziges | süßes | ostern</td>\n",
              "      <td>Lindt Goldhase Vollmilch</td>\n",
              "      <td>Seit nun über 50 Jahren versüßt er uns die Ost...</td>\n",
              "      <td>https://www.billa.at/produkte/lindt-goldhase-v...</td>\n",
              "      <td>billa.at</td>\n",
              "      <td>produkte lindt goldhase vollmilch</td>\n",
              "      <td>Lindt Goldhase Vollmilchsüßes und salziges | s...</td>\n",
              "      <td>11_Food</td>\n",
              "      <td>118_Sugar, jam, honey, chocolate and confectio...</td>\n",
              "      <td>1183_Chocolate</td>\n",
              "    </tr>\n",
              "  </tbody>\n",
              "</table>\n",
              "</div>"
            ],
            "text/plain": [
              "   Unnamed: 0  ...        cc5_pred\n",
              "0           0  ...     1175_Crisps\n",
              "1           1  ...  1183_Chocolate\n",
              "\n",
              "[2 rows x 12 columns]"
            ]
          },
          "metadata": {
            "tags": []
          },
          "execution_count": 43
        }
      ]
    },
    {
      "cell_type": "markdown",
      "metadata": {
        "id": "40G3r2iHjpJT",
        "colab_type": "text"
      },
      "source": [
        "## Upload from Google Drive"
      ]
    },
    {
      "cell_type": "markdown",
      "metadata": {
        "id": "Q7HGsKGs9kTT",
        "colab_type": "text"
      },
      "source": [
        "Loading CSV files stored in your google drive."
      ]
    },
    {
      "cell_type": "code",
      "metadata": {
        "id": "hysvDAyEmMtJ",
        "colab_type": "code",
        "outputId": "d2cd03dc-5670-4065-f1f2-832f7a9e2333",
        "colab": {
          "base_uri": "https://localhost:8080/",
          "height": 120
        }
      },
      "source": [
        "from google.colab import drive, files\n",
        "\n",
        "drive.mount('/content/gdrive')\n",
        "path ='/content/gdrive/My Drive/Thesis_ecb_ecoicop'"
      ],
      "execution_count": 2,
      "outputs": [
        {
          "output_type": "stream",
          "text": [
            "Go to this URL in a browser: https://accounts.google.com/o/oauth2/auth?client_id=947318989803-6bn6qk8qdgf4n4g3pfee6491hc0brc4i.apps.googleusercontent.com&redirect_uri=urn%3aietf%3awg%3aoauth%3a2.0%3aoob&response_type=code&scope=email%20https%3a%2f%2fwww.googleapis.com%2fauth%2fdocs.test%20https%3a%2f%2fwww.googleapis.com%2fauth%2fdrive%20https%3a%2f%2fwww.googleapis.com%2fauth%2fdrive.photos.readonly%20https%3a%2f%2fwww.googleapis.com%2fauth%2fpeopleapi.readonly\n",
            "\n",
            "Enter your authorization code:\n",
            "··········\n",
            "Mounted at /content/gdrive\n"
          ],
          "name": "stdout"
        }
      ]
    },
    {
      "cell_type": "markdown",
      "metadata": {
        "id": "koAL9Y0-9iha",
        "colab_type": "text"
      },
      "source": [
        "The commands will bring you to a Google Authentication step. You should see a screen with Google Drive File Stream wants to access your Google Account. After you allow permission, copy the given verification code and paste it in the box in Colab.\n",
        "In the notebook, click on the charcoal > on the top left of the notebook and click on Files. Locate the data folder you created earlier and find your data. Right-click on your data and select Copy Path. Store this copied path into a variable and you are ready to go."
      ]
    },
    {
      "cell_type": "markdown",
      "metadata": {
        "id": "hwfdFh_099X8",
        "colab_type": "text"
      },
      "source": [
        "Specify the exact path to your file and the seperator of your file to read it in."
      ]
    },
    {
      "cell_type": "code",
      "metadata": {
        "id": "YRfBjhSAZ5Jp",
        "colab_type": "code",
        "colab": {}
      },
      "source": [
        "import pandas as pd\n",
        "\n",
        "data_path = '/data/'#\n",
        "file_path = 'fra/carrfour_trans_pred.csv'\n",
        "file_path = 'normalized/norm_at.csv'\n",
        "df = pd.read_csv(path+data_path+file_path,sep='|',index_col=False)"
      ],
      "execution_count": 0,
      "outputs": []
    },
    {
      "cell_type": "markdown",
      "metadata": {
        "id": "bfjiyKlT-OdY",
        "colab_type": "text"
      },
      "source": [
        "Print out the dataframe to see if the import is correct."
      ]
    },
    {
      "cell_type": "code",
      "metadata": {
        "id": "4s2vY1KM-JVW",
        "colab_type": "code",
        "outputId": "61a16f9e-ae5d-4c56-e108-ce7da1a450ac",
        "colab": {
          "base_uri": "https://localhost:8080/",
          "height": 197
        }
      },
      "source": [
        "df[:1]"
      ],
      "execution_count": 4,
      "outputs": [
        {
          "output_type": "execute_result",
          "data": {
            "text/html": [
              "<div>\n",
              "<style scoped>\n",
              "    .dataframe tbody tr th:only-of-type {\n",
              "        vertical-align: middle;\n",
              "    }\n",
              "\n",
              "    .dataframe tbody tr th {\n",
              "        vertical-align: top;\n",
              "    }\n",
              "\n",
              "    .dataframe thead th {\n",
              "        text-align: right;\n",
              "    }\n",
              "</style>\n",
              "<table border=\"1\" class=\"dataframe\">\n",
              "  <thead>\n",
              "    <tr style=\"text-align: right;\">\n",
              "      <th></th>\n",
              "      <th>Unnamed: 0</th>\n",
              "      <th>lang</th>\n",
              "      <th>name</th>\n",
              "      <th>categ</th>\n",
              "      <th>prod_desc</th>\n",
              "      <th>text_other</th>\n",
              "      <th>url</th>\n",
              "      <th>words_from_url</th>\n",
              "      <th>unit</th>\n",
              "      <th>cc3</th>\n",
              "      <th>cc4</th>\n",
              "      <th>cc5</th>\n",
              "      <th>cc3_pred</th>\n",
              "      <th>cc4_pred</th>\n",
              "      <th>cc5_pred</th>\n",
              "      <th>shop</th>\n",
              "      <th>brand</th>\n",
              "      <th>price</th>\n",
              "      <th>id</th>\n",
              "      <th>labeld_by</th>\n",
              "    </tr>\n",
              "  </thead>\n",
              "  <tbody>\n",
              "    <tr>\n",
              "      <th>0</th>\n",
              "      <td>2749966</td>\n",
              "      <td>de</td>\n",
              "      <td>Ja! Natürlich Bananen aus Dominikanische Republik</td>\n",
              "      <td>obst und gemuese   obst   exotisches obst</td>\n",
              "      <td>Die Bananen haben den Apfel längst als beliebt...</td>\n",
              "      <td>NaN</td>\n",
              "      <td>https://www.billa.at/produkte/ja-natuerlich-ba...</td>\n",
              "      <td>produkte natuerlich bananen</td>\n",
              "      <td>NaN</td>\n",
              "      <td>NaN</td>\n",
              "      <td>NaN</td>\n",
              "      <td>NaN</td>\n",
              "      <td>NaN</td>\n",
              "      <td>NaN</td>\n",
              "      <td>NaN</td>\n",
              "      <td>Billa</td>\n",
              "      <td>NaN</td>\n",
              "      <td>1.99</td>\n",
              "      <td>00-402489</td>\n",
              "      <td>NaN</td>\n",
              "    </tr>\n",
              "  </tbody>\n",
              "</table>\n",
              "</div>"
            ],
            "text/plain": [
              "   Unnamed: 0 lang  ...         id labeld_by\n",
              "0     2749966   de  ...  00-402489       NaN\n",
              "\n",
              "[1 rows x 20 columns]"
            ]
          },
          "metadata": {
            "tags": []
          },
          "execution_count": 4
        }
      ]
    },
    {
      "cell_type": "markdown",
      "metadata": {
        "id": "0hvKTxOXGnlX",
        "colab_type": "text"
      },
      "source": [
        "## Predict CoiCop Level 4\n",
        "  \n",
        "How does it work? - Word Embeddings (left)\n",
        "* Words are translated in vectors which are learned represent the words\n",
        "* Embeddings are a multidimensional space (often 300+ dimesnsion) and words which relate to each other are closer in this space\n",
        "* Those spaces can be aligned for different languages\n",
        "* The example shows a three dimensional space with embeddings for three different languages, the translation are idealy close neighbours and the distance between milk and cheese is closer than the distance betwenn milk and potato  \n",
        "more information: https://towardsdatascience.com/introduction-to-word-embeddings-4cf857b12edc\n",
        "  \n",
        "How does it work? - Recurrent Neural Network (right)\n",
        "* Now every word is represented by a vector and the input to the model is a sequence of vectors\n",
        "* LSTM (Long Short Term Memory) Networks are good in solving sequential tasks, because they are able to remember information from previous states (words) and output a representation for the sentence \n",
        "* This representation is used to classify in to the coicop categories  \n",
        "more information: https://towardsdatascience.com/a-beginners-guide-on-sentiment-analysis-with-rnn-9e100627c02e \n",
        "\n",
        "\n"
      ]
    },
    {
      "cell_type": "markdown",
      "metadata": {
        "id": "q_kUPMnHLzyU",
        "colab_type": "text"
      },
      "source": [
        "![embed](https://drive.google.com/uc?id=1AoleK5q47ZTkPCtvxDD6icEpcnLc9viE)"
      ]
    },
    {
      "cell_type": "markdown",
      "metadata": {
        "id": "pFeMdvnl9_5n",
        "colab_type": "text"
      },
      "source": [
        "For the prediction you have to specify the names of certain columns in your dataframe which the tool will use.  \n",
        "* name_col is the column with the product name (mandatory)\n",
        "* category_col is the column with the category given by the supermarked (optional)\n",
        "* url_col is the column with  the url to the product (optional)\n",
        "* lang ist the language of the texts, supports 'de' and 'fr' (mandatory)\n",
        "* label_cat5 is the column with labels,if labeld (optional)\n",
        "\n"
      ]
    },
    {
      "cell_type": "code",
      "metadata": {
        "id": "1P-gtkLEGnwO",
        "colab_type": "code",
        "outputId": "0f38c39a-9265-4001-e6f2-1c563392c69a",
        "colab": {
          "base_uri": "https://localhost:8080/",
          "height": 67
        }
      },
      "source": [
        "# init predictor\n",
        "  \n",
        "name_col = 'productName'\n",
        "category_col = 'productCategory'\n",
        "url_col = 'productURL'\n",
        "lang = 'de'\n",
        "label_cat5 = ''\n",
        "\n",
        " #coicop_model\n",
        "CoiCop_Predictor = coicop_model.predictor(df\n",
        "                                          , name_col\n",
        "                                          , category_col\n",
        "                                          , url_col\n",
        "                                          , lang)"
      ],
      "execution_count": 26,
      "outputs": [
        {
          "output_type": "stream",
          "text": [
            "using name, category and words in url as input\n",
            "using german embeddings\n",
            "95% quantile no. of words per row is 30 (trained on 39)\n"
          ],
          "name": "stdout"
        }
      ]
    },
    {
      "cell_type": "code",
      "metadata": {
        "id": "ScTxi7eaG-rK",
        "colab_type": "code",
        "outputId": "ae1cb2ac-3e5e-4623-c52a-036ac0e41a06",
        "colab": {
          "base_uri": "https://localhost:8080/",
          "height": 50
        }
      },
      "source": [
        "# execute to create predictions and store them in the object\n",
        "CoiCop_Predictor.predict()"
      ],
      "execution_count": 27,
      "outputs": [
        {
          "output_type": "stream",
          "text": [
            "100%|██████████| 349/349 [00:50<00:00,  6.87it/s]"
          ],
          "name": "stderr"
        },
        {
          "output_type": "stream",
          "text": [
            "predictions ready\n"
          ],
          "name": "stdout"
        },
        {
          "output_type": "stream",
          "text": [
            "\n"
          ],
          "name": "stderr"
        }
      ]
    },
    {
      "cell_type": "markdown",
      "metadata": {
        "id": "Jbfz0JYO_yGj",
        "colab_type": "text"
      },
      "source": [
        "if products are already labeled you can test the consistency with the prediction.  \n",
        "label_cat5 is specified two lines above"
      ]
    },
    {
      "cell_type": "code",
      "metadata": {
        "id": "lXYd8owQ67GZ",
        "colab_type": "code",
        "outputId": "e2e2b928-5e70-4313-9641-d5dede48c345",
        "colab": {
          "base_uri": "https://localhost:8080/",
          "height": 100
        }
      },
      "source": [
        "CoiCop_Predictor.test_performance(label_cat5)\n",
        "#CoiCop_Predictor.confusion_matrix(label_cat5)"
      ],
      "execution_count": 56,
      "outputs": [
        {
          "output_type": "stream",
          "text": [
            "number of observation (labeled / all): 0 / 1003 consistency  nan %\n"
          ],
          "name": "stdout"
        },
        {
          "output_type": "stream",
          "text": [
            "/usr/local/lib/python3.6/dist-packages/numpy/lib/function_base.py:393: RuntimeWarning: Mean of empty slice.\n",
            "  avg = a.mean(axis)\n",
            "/usr/local/lib/python3.6/dist-packages/numpy/core/_methods.py:161: RuntimeWarning: invalid value encountered in double_scalars\n",
            "  ret = ret.dtype.type(ret / rcount)\n"
          ],
          "name": "stderr"
        }
      ]
    },
    {
      "cell_type": "markdown",
      "metadata": {
        "id": "PK3GlqBVAAEg",
        "colab_type": "text"
      },
      "source": [
        "If you need not only the predicted label, but the probabilities for every class:"
      ]
    },
    {
      "cell_type": "code",
      "metadata": {
        "id": "4gqDNqEB7NPH",
        "colab_type": "code",
        "outputId": "9dac237e-d92c-4e32-eff8-ab10ed0bd9f9",
        "colab": {
          "base_uri": "https://localhost:8080/",
          "height": 33
        }
      },
      "source": [
        "probs = CoiCop_Predictor.predict_proba()"
      ],
      "execution_count": 10,
      "outputs": [
        {
          "output_type": "stream",
          "text": [
            "100%|██████████| 4/4 [00:00<00:00,  7.17it/s]\n"
          ],
          "name": "stderr"
        }
      ]
    },
    {
      "cell_type": "markdown",
      "metadata": {
        "id": "0mc-zOEeAIO7",
        "colab_type": "text"
      },
      "source": [
        "## Explonation  \n",
        "  \n",
        "It shows the three best candidates for a product and highlights the words which contribute to the estimate (positiv: green, negative: red)\n",
        "If you leave the the brackets empty it will show a random product. If you want the explonation for a particular product, you can enter the text.  \n",
        "If you enter text it always needs to be in marks ''."
      ]
    },
    {
      "cell_type": "code",
      "metadata": {
        "id": "T1gClUgdwbfk",
        "colab_type": "code",
        "colab": {
          "base_uri": "https://localhost:8080/",
          "height": 468
        },
        "outputId": "1e8d47d7-7af7-4045-b3d2-a497d1040c6f"
      },
      "source": [
        "text = None\n",
        "#text = ''\n",
        "\n",
        "CoiCop_Predictor.tell_me_why(text)"
      ],
      "execution_count": 29,
      "outputs": [
        {
          "output_type": "execute_result",
          "data": {
            "text/html": [
              "\n",
              "    <style>\n",
              "    table.eli5-weights tr:hover {\n",
              "        filter: brightness(85%);\n",
              "    }\n",
              "</style>\n",
              "\n",
              "\n",
              "\n",
              "    \n",
              "\n",
              "    \n",
              "\n",
              "    \n",
              "\n",
              "    \n",
              "\n",
              "    \n",
              "\n",
              "    \n",
              "\n",
              "\n",
              "    \n",
              "\n",
              "    \n",
              "\n",
              "    \n",
              "\n",
              "    \n",
              "        \n",
              "\n",
              "    \n",
              "\n",
              "    \n",
              "        \n",
              "    \n",
              "        \n",
              "        \n",
              "    \n",
              "        <p style=\"margin-bottom: 0.5em; margin-top: 0em\">\n",
              "            <b>\n",
              "    \n",
              "        y=1127_Dried, salted or smoked meat\n",
              "    \n",
              "</b>\n",
              "\n",
              "    \n",
              "    (probability <b>0.834</b>, score <b>5.042</b>)\n",
              "\n",
              "top features\n",
              "        </p>\n",
              "    \n",
              "    <table class=\"eli5-weights\"\n",
              "           style=\"border-collapse: collapse; border: none; margin-top: 0em; table-layout: auto; margin-bottom: 2em;\">\n",
              "        <thead>\n",
              "        <tr style=\"border: none;\">\n",
              "            \n",
              "                <th style=\"padding: 0 1em 0 0.5em; text-align: right; border: none;\" title=\"Feature contribution already accounts for the feature value (for linear models, contribution = weight * feature value), and the sum of feature contributions is equal to the score or, for some classifiers, to the probability. Feature values are shown if &quot;show_feature_values&quot; is True.\">\n",
              "                    Contribution<sup>?</sup>\n",
              "                </th>\n",
              "            \n",
              "            <th style=\"padding: 0 0.5em 0 0.5em; text-align: left; border: none;\">Feature</th>\n",
              "            \n",
              "        </tr>\n",
              "        </thead>\n",
              "        <tbody>\n",
              "        \n",
              "            <tr style=\"background-color: hsl(120, 100.00%, 80.00%); border: none;\">\n",
              "    <td style=\"padding: 0 1em 0 0.5em; text-align: right; border: none;\">\n",
              "        +11.733\n",
              "    </td>\n",
              "    <td style=\"padding: 0 0.5em 0 0.5em; text-align: left; border: none;\">\n",
              "        Highlighted in text (sum)\n",
              "    </td>\n",
              "    \n",
              "</tr>\n",
              "        \n",
              "        \n",
              "\n",
              "        \n",
              "        \n",
              "            <tr style=\"background-color: hsl(0, 100.00%, 86.50%); border: none;\">\n",
              "    <td style=\"padding: 0 1em 0 0.5em; text-align: right; border: none;\">\n",
              "        -6.691\n",
              "    </td>\n",
              "    <td style=\"padding: 0 0.5em 0 0.5em; text-align: left; border: none;\">\n",
              "        &lt;BIAS&gt;\n",
              "    </td>\n",
              "    \n",
              "</tr>\n",
              "        \n",
              "\n",
              "        </tbody>\n",
              "    </table>\n",
              "\n",
              "    \n",
              "\n",
              "\n",
              "\n",
              "    <p style=\"margin-bottom: 2.5em; margin-top:-0.5em;\">\n",
              "        <span style=\"background-color: hsl(0, 100.00%, 97.12%); opacity: 0.80\" title=\"-0.127\">Big</span><span style=\"opacity: 0.80\"> </span><span style=\"background-color: hsl(0, 100.00%, 93.03%); opacity: 0.82\" title=\"-0.449\">Power</span><span style=\"opacity: 0.80\"> </span><span style=\"background-color: hsl(120, 100.00%, 88.28%); opacity: 0.83\" title=\"0.943\">Pork</span><span style=\"opacity: 0.80\">-</span><span style=\"background-color: hsl(0, 100.00%, 87.77%); opacity: 0.84\" title=\"-1.002\">Chip</span><span style=\"opacity: 0.80\"> </span><span style=\"background-color: hsl(0, 100.00%, 96.69%); opacity: 0.81\" title=\"-0.155\">Bites</span><span style=\"opacity: 0.80\"> </span><span style=\"background-color: hsl(0, 100.00%, 96.61%); opacity: 0.81\" title=\"-0.160\">Süß</span><span style=\"opacity: 0.80\">-</span><span style=\"background-color: hsl(120, 100.00%, 96.24%); opacity: 0.81\" title=\"0.186\">Pikantkühlwaren</span><span style=\"opacity: 0.80\"> | </span><span style=\"background-color: hsl(120, 100.00%, 60.00%); opacity: 1.00\" title=\"5.445\">wurst</span><span style=\"opacity: 0.80\"> </span><span style=\"background-color: hsl(120, 100.00%, 67.57%); opacity: 0.95\" title=\"4.036\">schinken</span><span style=\"opacity: 0.80\"> </span><span style=\"background-color: hsl(120, 100.00%, 95.67%); opacity: 0.81\" title=\"0.227\">und</span><span style=\"opacity: 0.80\"> </span><span style=\"background-color: hsl(120, 100.00%, 78.06%); opacity: 0.88\" title=\"2.308\">speck</span><span style=\"opacity: 0.80\"> | </span><span style=\"background-color: hsl(120, 100.00%, 92.43%); opacity: 0.82\" title=\"0.504\">wurstspezialitätenprodukte</span><span style=\"opacity: 0.80\"> </span><span style=\"background-color: hsl(120, 100.00%, 98.69%); opacity: 0.80\" title=\"0.041\">big</span><span style=\"opacity: 0.80\"> </span><span style=\"background-color: hsl(0, 100.00%, 97.36%); opacity: 0.80\" title=\"-0.112\">power</span><span style=\"opacity: 0.80\"> </span><span style=\"background-color: hsl(120, 100.00%, 93.52%); opacity: 0.81\" title=\"0.404\">pork</span><span style=\"opacity: 0.80\"> </span><span style=\"background-color: hsl(0, 100.00%, 95.52%); opacity: 0.81\" title=\"-0.239\">chip</span><span style=\"opacity: 0.80\"> </span><span style=\"background-color: hsl(120, 100.00%, 98.18%); opacity: 0.80\" title=\"0.066\">bites</span><span style=\"opacity: 0.80\"> suess </span><span style=\"background-color: hsl(0, 100.00%, 96.26%); opacity: 0.81\" title=\"-0.184\">pikant</span>\n",
              "    </p>\n",
              "\n",
              "    \n",
              "        \n",
              "    \n",
              "        \n",
              "        \n",
              "    \n",
              "        <p style=\"margin-bottom: 0.5em; margin-top: 0em\">\n",
              "            <b>\n",
              "    \n",
              "        y=1175_Crisps\n",
              "    \n",
              "</b>\n",
              "\n",
              "    \n",
              "    (probability <b>0.150</b>, score <b>-1.522</b>)\n",
              "\n",
              "top features\n",
              "        </p>\n",
              "    \n",
              "    <table class=\"eli5-weights\"\n",
              "           style=\"border-collapse: collapse; border: none; margin-top: 0em; table-layout: auto; margin-bottom: 2em;\">\n",
              "        <thead>\n",
              "        <tr style=\"border: none;\">\n",
              "            \n",
              "                <th style=\"padding: 0 1em 0 0.5em; text-align: right; border: none;\" title=\"Feature contribution already accounts for the feature value (for linear models, contribution = weight * feature value), and the sum of feature contributions is equal to the score or, for some classifiers, to the probability. Feature values are shown if &quot;show_feature_values&quot; is True.\">\n",
              "                    Contribution<sup>?</sup>\n",
              "                </th>\n",
              "            \n",
              "            <th style=\"padding: 0 0.5em 0 0.5em; text-align: left; border: none;\">Feature</th>\n",
              "            \n",
              "        </tr>\n",
              "        </thead>\n",
              "        <tbody>\n",
              "        \n",
              "            <tr style=\"background-color: hsl(120, 100.00%, 95.89%); border: none;\">\n",
              "    <td style=\"padding: 0 1em 0 0.5em; text-align: right; border: none;\">\n",
              "        +1.224\n",
              "    </td>\n",
              "    <td style=\"padding: 0 0.5em 0 0.5em; text-align: left; border: none;\">\n",
              "        Highlighted in text (sum)\n",
              "    </td>\n",
              "    \n",
              "</tr>\n",
              "        \n",
              "        \n",
              "\n",
              "        \n",
              "        \n",
              "            <tr style=\"background-color: hsl(0, 100.00%, 92.76%); border: none;\">\n",
              "    <td style=\"padding: 0 1em 0 0.5em; text-align: right; border: none;\">\n",
              "        -2.745\n",
              "    </td>\n",
              "    <td style=\"padding: 0 0.5em 0 0.5em; text-align: left; border: none;\">\n",
              "        &lt;BIAS&gt;\n",
              "    </td>\n",
              "    \n",
              "</tr>\n",
              "        \n",
              "\n",
              "        </tbody>\n",
              "    </table>\n",
              "\n",
              "    \n",
              "\n",
              "\n",
              "\n",
              "    <p style=\"margin-bottom: 2.5em; margin-top:-0.5em;\">\n",
              "        <span style=\"background-color: hsl(120, 100.00%, 98.96%); opacity: 0.80\" title=\"0.030\">Big</span><span style=\"opacity: 0.80\"> </span><span style=\"background-color: hsl(120, 100.00%, 91.87%); opacity: 0.82\" title=\"0.559\">Power</span><span style=\"opacity: 0.80\"> </span><span style=\"background-color: hsl(120, 100.00%, 97.03%); opacity: 0.80\" title=\"0.133\">Pork</span><span style=\"opacity: 0.80\">-</span><span style=\"background-color: hsl(120, 100.00%, 82.56%); opacity: 0.86\" title=\"1.664\">Chip</span><span style=\"opacity: 0.80\"> </span><span style=\"background-color: hsl(120, 100.00%, 94.09%); opacity: 0.81\" title=\"0.354\">Bites</span><span style=\"opacity: 0.80\"> </span><span style=\"background-color: hsl(120, 100.00%, 88.34%); opacity: 0.83\" title=\"0.936\">Süß</span><span style=\"opacity: 0.80\">-Pikantkühlwaren | </span><span style=\"background-color: hsl(0, 100.00%, 72.78%); opacity: 0.92\" title=\"-3.143\">wurst</span><span style=\"opacity: 0.80\"> </span><span style=\"background-color: hsl(0, 100.00%, 83.66%); opacity: 0.86\" title=\"-1.516\">schinken</span><span style=\"opacity: 0.80\"> </span><span style=\"background-color: hsl(120, 100.00%, 98.38%); opacity: 0.80\" title=\"0.056\">und</span><span style=\"opacity: 0.80\"> </span><span style=\"background-color: hsl(0, 100.00%, 89.70%); opacity: 0.83\" title=\"-0.784\">speck</span><span style=\"opacity: 0.80\"> | </span><span style=\"background-color: hsl(0, 100.00%, 96.04%); opacity: 0.81\" title=\"-0.200\">wurstspezialitätenprodukte</span><span style=\"opacity: 0.80\"> </span><span style=\"background-color: hsl(120, 100.00%, 95.37%); opacity: 0.81\" title=\"0.250\">big</span><span style=\"opacity: 0.80\"> </span><span style=\"background-color: hsl(120, 100.00%, 96.03%); opacity: 0.81\" title=\"0.201\">power</span><span style=\"opacity: 0.80\"> </span><span style=\"background-color: hsl(120, 100.00%, 92.51%); opacity: 0.82\" title=\"0.498\">pork</span><span style=\"opacity: 0.80\"> </span><span style=\"background-color: hsl(120, 100.00%, 94.14%); opacity: 0.81\" title=\"0.350\">chip</span><span style=\"opacity: 0.80\"> </span><span style=\"background-color: hsl(120, 100.00%, 94.87%); opacity: 0.81\" title=\"0.290\">bites</span><span style=\"opacity: 0.80\"> </span><span style=\"background-color: hsl(120, 100.00%, 93.57%); opacity: 0.81\" title=\"0.400\">suess</span><span style=\"opacity: 0.80\"> </span><span style=\"background-color: hsl(120, 100.00%, 86.56%); opacity: 0.84\" title=\"1.147\">pikant</span>\n",
              "    </p>\n",
              "\n",
              "    \n",
              "        \n",
              "    \n",
              "        \n",
              "        \n",
              "    \n",
              "        <p style=\"margin-bottom: 0.5em; margin-top: 0em\">\n",
              "            <b>\n",
              "    \n",
              "        y=1128_Other meat preparations\n",
              "    \n",
              "</b>\n",
              "\n",
              "    \n",
              "    (probability <b>0.005</b>, score <b>-5.142</b>)\n",
              "\n",
              "top features\n",
              "        </p>\n",
              "    \n",
              "    <table class=\"eli5-weights\"\n",
              "           style=\"border-collapse: collapse; border: none; margin-top: 0em; table-layout: auto; margin-bottom: 2em;\">\n",
              "        <thead>\n",
              "        <tr style=\"border: none;\">\n",
              "            \n",
              "                <th style=\"padding: 0 1em 0 0.5em; text-align: right; border: none;\" title=\"Feature contribution already accounts for the feature value (for linear models, contribution = weight * feature value), and the sum of feature contributions is equal to the score or, for some classifiers, to the probability. Feature values are shown if &quot;show_feature_values&quot; is True.\">\n",
              "                    Contribution<sup>?</sup>\n",
              "                </th>\n",
              "            \n",
              "            <th style=\"padding: 0 0.5em 0 0.5em; text-align: left; border: none;\">Feature</th>\n",
              "            \n",
              "        </tr>\n",
              "        </thead>\n",
              "        <tbody>\n",
              "        \n",
              "            <tr style=\"background-color: hsl(120, 100.00%, 98.10%); border: none;\">\n",
              "    <td style=\"padding: 0 1em 0 0.5em; text-align: right; border: none;\">\n",
              "        +0.408\n",
              "    </td>\n",
              "    <td style=\"padding: 0 0.5em 0 0.5em; text-align: left; border: none;\">\n",
              "        Highlighted in text (sum)\n",
              "    </td>\n",
              "    \n",
              "</tr>\n",
              "        \n",
              "        \n",
              "\n",
              "        \n",
              "        \n",
              "            <tr style=\"background-color: hsl(0, 100.00%, 88.16%); border: none;\">\n",
              "    <td style=\"padding: 0 1em 0 0.5em; text-align: right; border: none;\">\n",
              "        -5.550\n",
              "    </td>\n",
              "    <td style=\"padding: 0 0.5em 0 0.5em; text-align: left; border: none;\">\n",
              "        &lt;BIAS&gt;\n",
              "    </td>\n",
              "    \n",
              "</tr>\n",
              "        \n",
              "\n",
              "        </tbody>\n",
              "    </table>\n",
              "\n",
              "    \n",
              "\n",
              "\n",
              "\n",
              "    <p style=\"margin-bottom: 2.5em; margin-top:-0.5em;\">\n",
              "        <span style=\"background-color: hsl(120, 100.00%, 98.83%); opacity: 0.80\" title=\"0.035\">Big</span><span style=\"opacity: 0.80\"> Power </span><span style=\"background-color: hsl(120, 100.00%, 92.43%); opacity: 0.82\" title=\"0.505\">Pork</span><span style=\"opacity: 0.80\">-</span><span style=\"background-color: hsl(0, 100.00%, 97.76%); opacity: 0.80\" title=\"-0.089\">Chip</span><span style=\"opacity: 0.80\"> Bites </span><span style=\"background-color: hsl(120, 100.00%, 99.12%); opacity: 0.80\" title=\"0.023\">Süß</span><span style=\"opacity: 0.80\">-</span><span style=\"background-color: hsl(120, 100.00%, 95.95%); opacity: 0.81\" title=\"0.206\">Pikantkühlwaren</span><span style=\"opacity: 0.80\"> | </span><span style=\"background-color: hsl(0, 100.00%, 93.51%); opacity: 0.81\" title=\"-0.405\">wurst</span><span style=\"opacity: 0.80\"> schinken </span><span style=\"background-color: hsl(120, 100.00%, 97.09%); opacity: 0.80\" title=\"0.129\">und</span><span style=\"opacity: 0.80\"> </span><span style=\"background-color: hsl(120, 100.00%, 95.51%); opacity: 0.81\" title=\"0.240\">speck</span><span style=\"opacity: 0.80\"> | wurstspezialitätenprodukte big power pork chip bites suess </span><span style=\"background-color: hsl(0, 100.00%, 95.55%); opacity: 0.81\" title=\"-0.236\">pikant</span>\n",
              "    </p>\n",
              "\n",
              "    \n",
              "\n",
              "\n",
              "    \n",
              "\n",
              "    \n",
              "\n",
              "    \n",
              "\n",
              "\n",
              "    \n",
              "\n",
              "    \n",
              "\n",
              "    \n",
              "\n",
              "    \n",
              "\n",
              "    \n",
              "\n",
              "    \n",
              "\n",
              "\n",
              "    \n",
              "\n",
              "    \n",
              "\n",
              "    \n",
              "\n",
              "    \n",
              "\n",
              "    \n",
              "\n",
              "    \n",
              "\n",
              "\n",
              "\n"
            ],
            "text/plain": [
              "Explanation(estimator=\"SGDClassifier(alpha=0.001, average=False, class_weight=None,\\n              early_stopping=False, epsilon=0.1, eta0=0.0, fit_intercept=True,\\n              l1_ratio=0.15, learning_rate='optimal', loss='log', max_iter=1000,\\n              n_iter_no_change=5, n_jobs=None, penalty='elasticnet',\\n              power_t=0.5, random_state=RandomState(MT19937) at 0x7F0860016888,\\n              shuffle=True, tol=0.001, validation_fraction=0.1, verbose=0,\\n              warm_start=False)\", description=None, error=None, method='linear model', is_regression=False, targets=[TargetExplanation(target='1127_Dried, salted or smoked meat', feature_weights=FeatureWeights(pos=[FeatureWeight(feature='[7] wurst', weight=5.4451179010825195, std=None, value=1.0), FeatureWeight(feature='[8] schinken', weight=4.035508704448944, std=None, value=1.0), FeatureWeight(feature='[10] speck', weight=2.3084748585455173, std=None, value=1.0), FeatureWeight(feature='[2] Pork', weight=0.9426439378728925, std=None, value=1.0), FeatureWeight(feature='[11] wurstspezialitätenprodukte', weight=0.5044409578091782, std=None, value=1.0), FeatureWeight(feature='[14] pork', weight=0.4042385123020154, std=None, value=1.0), FeatureWeight(feature='[9] und', weight=0.2274016809075445, std=None, value=1.0), FeatureWeight(feature='[6] Pikantkühlwaren', weight=0.18569853712882656, std=None, value=1.0), FeatureWeight(feature='[16] bites', weight=0.06574907710195382, std=None, value=1.0), FeatureWeight(feature='[12] big', weight=0.04111218104730505, std=None, value=1.0)], neg=[FeatureWeight(feature='<BIAS>', weight=-6.691020120603696, std=None, value=1.0), FeatureWeight(feature='[3] Chip', weight=-1.0017496769514034, std=None, value=1.0), FeatureWeight(feature='[1] Power', weight=-0.4488803050825183, std=None, value=1.0), FeatureWeight(feature='[15] chip', weight=-0.23886734951979519, std=None, value=1.0), FeatureWeight(feature='[18] pikant', weight=-0.18409326635412612, std=None, value=1.0), FeatureWeight(feature='[5] Süß', weight=-0.16020247981035088, std=None, value=1.0), FeatureWeight(feature='[4] Bites', weight=-0.15469929424884454, std=None, value=1.0), FeatureWeight(feature='[0] Big', weight=-0.12715335082535437, std=None, value=1.0), FeatureWeight(feature='[13] power', weight=-0.11191809201207574, std=None, value=1.0)], pos_remaining=0, neg_remaining=0), proba=0.8341798787917538, score=5.041802412838534, weighted_spans=WeightedSpans(docs_weighted_spans=[DocWeightedSpans(document='Big Power Pork-Chip Bites Süß-Pikantkühlwaren | wurst schinken und speck | wurstspezialitätenprodukte big power pork chip bites suess pikant', spans=[('Big', [(0, 3)], -0.12715335082535437), ('Power', [(4, 9)], -0.4488803050825183), ('Pork', [(10, 14)], 0.9426439378728925), ('Chip', [(15, 19)], -1.0017496769514034), ('Bites', [(20, 25)], -0.15469929424884454), ('Süß', [(26, 29)], -0.16020247981035088), ('Pikantkühlwaren', [(30, 45)], 0.18569853712882656), ('wurst', [(48, 53)], 5.4451179010825195), ('schinken', [(54, 62)], 4.035508704448944), ('und', [(63, 66)], 0.2274016809075445), ('speck', [(67, 72)], 2.3084748585455173), ('wurstspezialitätenprodukte', [(75, 101)], 0.5044409578091782), ('big', [(102, 105)], 0.04111218104730505), ('power', [(106, 111)], -0.11191809201207574), ('pork', [(112, 116)], 0.4042385123020154), ('chip', [(117, 121)], -0.23886734951979519), ('bites', [(122, 127)], 0.06574907710195382), ('pikant', [(134, 140)], -0.18409326635412612)], preserve_density=False, vec_name=None)], other=FeatureWeights(pos=[FeatureWeight(feature=<FormattedFeatureName 'Highlighted in text (sum)'>, weight=11.73282253344223, std=None, value=None)], neg=[FeatureWeight(feature='<BIAS>', weight=-6.691020120603696, std=None, value=1.0)], pos_remaining=0, neg_remaining=0)), heatmap=None), TargetExplanation(target='1175_Crisps', feature_weights=FeatureWeights(pos=[FeatureWeight(feature='[3] Chip', weight=1.6639545522881036, std=None, value=1.0), FeatureWeight(feature='[18] pikant', weight=1.1465920369912908, std=None, value=1.0), FeatureWeight(feature='[5] Süß', weight=0.9361701061464001, std=None, value=1.0), FeatureWeight(feature='[1] Power', weight=0.5591693145149097, std=None, value=1.0), FeatureWeight(feature='[14] pork', weight=0.4976511112752961, std=None, value=1.0), FeatureWeight(feature='[17] suess', weight=0.39968007603490624, std=None, value=1.0), FeatureWeight(feature='[4] Bites', weight=0.3542804263496688, std=None, value=1.0), FeatureWeight(feature='[15] chip', weight=0.3499749678432308, std=None, value=1.0), FeatureWeight(feature='[16] bites', weight=0.2895623161695499, std=None, value=1.0), FeatureWeight(feature='[12] big', weight=0.24994142752473772, std=None, value=1.0), FeatureWeight(feature='[13] power', weight=0.20108426484761902, std=None, value=1.0), FeatureWeight(feature='[2] Pork', weight=0.1325358376897066, std=None, value=1.0), FeatureWeight(feature='[9] und', weight=0.05597783829157507, std=None, value=1.0), FeatureWeight(feature='[0] Big', weight=0.029719156182933176, std=None, value=1.0)], neg=[FeatureWeight(feature='[7] wurst', weight=-3.142551690970838, std=None, value=1.0), FeatureWeight(feature='<BIAS>', weight=-2.7454321463008755, std=None, value=1.0), FeatureWeight(feature='[8] schinken', weight=-1.5160075575917245, std=None, value=1.0), FeatureWeight(feature='[10] speck', weight=-0.7836566177198085, std=None, value=1.0), FeatureWeight(feature='[11] wurstspezialitätenprodukte', weight=-0.20027298452860126, std=None, value=1.0)], pos_remaining=0, neg_remaining=0), proba=0.15046947151407328, score=-1.5216275649619204, weighted_spans=WeightedSpans(docs_weighted_spans=[DocWeightedSpans(document='Big Power Pork-Chip Bites Süß-Pikantkühlwaren | wurst schinken und speck | wurstspezialitätenprodukte big power pork chip bites suess pikant', spans=[('Big', [(0, 3)], 0.029719156182933176), ('Power', [(4, 9)], 0.5591693145149097), ('Pork', [(10, 14)], 0.1325358376897066), ('Chip', [(15, 19)], 1.6639545522881036), ('Bites', [(20, 25)], 0.3542804263496688), ('Süß', [(26, 29)], 0.9361701061464001), ('wurst', [(48, 53)], -3.142551690970838), ('schinken', [(54, 62)], -1.5160075575917245), ('und', [(63, 66)], 0.05597783829157507), ('speck', [(67, 72)], -0.7836566177198085), ('wurstspezialitätenprodukte', [(75, 101)], -0.20027298452860126), ('big', [(102, 105)], 0.24994142752473772), ('power', [(106, 111)], 0.20108426484761902), ('pork', [(112, 116)], 0.4976511112752961), ('chip', [(117, 121)], 0.3499749678432308), ('bites', [(122, 127)], 0.2895623161695499), ('suess', [(128, 133)], 0.39968007603490624), ('pikant', [(134, 140)], 1.1465920369912908)], preserve_density=False, vec_name=None)], other=FeatureWeights(pos=[FeatureWeight(feature=<FormattedFeatureName 'Highlighted in text (sum)'>, weight=1.2238045813389555, std=None, value=None)], neg=[FeatureWeight(feature='<BIAS>', weight=-2.7454321463008755, std=None, value=1.0)], pos_remaining=0, neg_remaining=0)), heatmap=None), TargetExplanation(target='1128_Other meat preparations', feature_weights=FeatureWeights(pos=[FeatureWeight(feature='[2] Pork', weight=0.5046550033487631, std=None, value=1.0), FeatureWeight(feature='[10] speck', weight=0.23965841924970888, std=None, value=1.0), FeatureWeight(feature='[6] Pikantkühlwaren', weight=0.20637863755228905, std=None, value=1.0), FeatureWeight(feature='[9] und', weight=0.12909867531003666, std=None, value=1.0), FeatureWeight(feature='[0] Big', weight=0.034871675353091755, std=None, value=1.0), FeatureWeight(feature='[5] Süß', weight=0.023275064571340955, std=None, value=1.0)], neg=[FeatureWeight(feature='<BIAS>', weight=-5.549906117635515, std=None, value=1.0), FeatureWeight(feature='[7] wurst', weight=-0.4051343925814686, std=None, value=1.0), FeatureWeight(feature='[18] pikant', weight=-0.23641587802700934, std=None, value=1.0), FeatureWeight(feature='[3] Chip', weight=-0.0888423643611557, std=None, value=1.0)], pos_remaining=0, neg_remaining=0), proba=0.004877838636290136, score=-5.142361277219918, weighted_spans=WeightedSpans(docs_weighted_spans=[DocWeightedSpans(document='Big Power Pork-Chip Bites Süß-Pikantkühlwaren | wurst schinken und speck | wurstspezialitätenprodukte big power pork chip bites suess pikant', spans=[('Big', [(0, 3)], 0.034871675353091755), ('Pork', [(10, 14)], 0.5046550033487631), ('Chip', [(15, 19)], -0.0888423643611557), ('Süß', [(26, 29)], 0.023275064571340955), ('Pikantkühlwaren', [(30, 45)], 0.20637863755228905), ('wurst', [(48, 53)], -0.4051343925814686), ('und', [(63, 66)], 0.12909867531003666), ('speck', [(67, 72)], 0.23965841924970888), ('pikant', [(134, 140)], -0.23641587802700934)], preserve_density=False, vec_name=None)], other=FeatureWeights(pos=[FeatureWeight(feature=<FormattedFeatureName 'Highlighted in text (sum)'>, weight=0.4075448404155968, std=None, value=None)], neg=[FeatureWeight(feature='<BIAS>', weight=-5.549906117635515, std=None, value=1.0)], pos_remaining=0, neg_remaining=0)), heatmap=None)], feature_importances=None, decision_tree=None, highlight_spaces=None, transition_features=None, image=None)"
            ]
          },
          "metadata": {
            "tags": []
          },
          "execution_count": 29
        }
      ]
    },
    {
      "cell_type": "markdown",
      "metadata": {
        "id": "IY0AadWFCUj5",
        "colab_type": "text"
      },
      "source": [
        "Get the data bach from the predictor and find the new columns ['cc3_pred','cc4_pred','cc5_pred'] which store the predicted labels."
      ]
    },
    {
      "cell_type": "code",
      "metadata": {
        "id": "l1LdhBqYHebo",
        "colab_type": "code",
        "outputId": "649ecfaa-8ddd-4b41-8a76-dfa68e339406",
        "colab": {
          "base_uri": "https://localhost:8080/",
          "height": 147
        }
      },
      "source": [
        "df = CoiCop_Predictor.get_df()\n",
        "df[:1]"
      ],
      "execution_count": 39,
      "outputs": [
        {
          "output_type": "execute_result",
          "data": {
            "text/html": [
              "<div>\n",
              "<style scoped>\n",
              "    .dataframe tbody tr th:only-of-type {\n",
              "        vertical-align: middle;\n",
              "    }\n",
              "\n",
              "    .dataframe tbody tr th {\n",
              "        vertical-align: top;\n",
              "    }\n",
              "\n",
              "    .dataframe thead th {\n",
              "        text-align: right;\n",
              "    }\n",
              "</style>\n",
              "<table border=\"1\" class=\"dataframe\">\n",
              "  <thead>\n",
              "    <tr style=\"text-align: right;\">\n",
              "      <th></th>\n",
              "      <th>productID</th>\n",
              "      <th>productCategory</th>\n",
              "      <th>productName</th>\n",
              "      <th>productDescription</th>\n",
              "      <th>productURL</th>\n",
              "      <th>storeName</th>\n",
              "      <th>url_text</th>\n",
              "      <th>text</th>\n",
              "      <th>cc3_pred</th>\n",
              "      <th>cc4_pred</th>\n",
              "      <th>cc5_pred</th>\n",
              "    </tr>\n",
              "  </thead>\n",
              "  <tbody>\n",
              "    <tr>\n",
              "      <th>0</th>\n",
              "      <td>00-64304</td>\n",
              "      <td>süßes und salziges | chips und co | knabbereien</td>\n",
              "      <td>Soletti Salzstangerl</td>\n",
              "      <td>Knabberspaß aus 100 % österreichischen Rohstof...</td>\n",
              "      <td>https://www.billa.at/produkte/soletti-salzstan...</td>\n",
              "      <td>billa.at</td>\n",
              "      <td>produkte soletti salzstangerl</td>\n",
              "      <td>Soletti Salzstangerlsüßes und salziges | chips...</td>\n",
              "      <td>11_Food</td>\n",
              "      <td>117_Vegetables</td>\n",
              "      <td>1175_Crisps</td>\n",
              "    </tr>\n",
              "  </tbody>\n",
              "</table>\n",
              "</div>"
            ],
            "text/plain": [
              "  productID  ...     cc5_pred\n",
              "0  00-64304  ...  1175_Crisps\n",
              "\n",
              "[1 rows x 11 columns]"
            ]
          },
          "metadata": {
            "tags": []
          },
          "execution_count": 39
        }
      ]
    },
    {
      "cell_type": "markdown",
      "metadata": {
        "id": "SMjTYrR87e4K",
        "colab_type": "text"
      },
      "source": [
        "# Annotation"
      ]
    },
    {
      "cell_type": "markdown",
      "metadata": {
        "id": "FGBoWMkJ_HPd",
        "colab_type": "text"
      },
      "source": [
        "For the annotation tool you have to specify the naes of certain columns in your dataframe which the tool will use.  \n",
        "* Labeled_by takes your name and stores it after every item you labeld.  \n",
        "* Text column 1 is the name of the column for the first line of text which will be displayed to help you labeling the product, usually this is the product name.  \n",
        "* Text column 2 is the name of the column for the second line of text which will be displayed to help you labeling the product, this could be the category or the translation.  \n",
        "* The URL column is the name of the column where the url of the scraped product is located (if it is in the dataframe). The url might be helpfull if you are unsure about the product nd want to look up the whole page on the website. If you do not have the url in your data you can leave it empty.  \n",
        "* CoiCop 5 prediction is the column where the prediction is stored. The prediction will appear preselected in the dropdown menu.   \n",
        "  \n",
        "The data are sorted in a way that catogies with few labels come first, if predictions of those label are available.\n"
      ]
    },
    {
      "cell_type": "code",
      "metadata": {
        "id": "eKKzZPvkoMQc",
        "colab_type": "code",
        "colab": {
          "base_uri": "https://localhost:8080/",
          "height": 33
        },
        "outputId": "919b7e0c-477e-42ad-e5b1-875fdcd0248e"
      },
      "source": [
        "import importlib\n",
        "import labeler_cc5 #import the module here, so that it can be reloaded.\n",
        "importlib.reload(labeler_cc5)"
      ],
      "execution_count": 19,
      "outputs": [
        {
          "output_type": "execute_result",
          "data": {
            "text/plain": [
              "<module 'labeler_cc5' from '/content/Thesis_Multilingual_Transferlearning/Thesis_Multilingual_Transferlearning/labeler_cc5.py'>"
            ]
          },
          "metadata": {
            "tags": []
          },
          "execution_count": 19
        }
      ]
    },
    {
      "cell_type": "code",
      "metadata": {
        "id": "1xmoZj7JdS0o",
        "colab_type": "code",
        "colab": {}
      },
      "source": [
        "# init labeler\n",
        "\n",
        "labeled_by = 'Erik'\n",
        "text_column_1 = 'productName'\n",
        "text_column_2 = 'productCategory'\n",
        "url_column = 'productURL'\n",
        "CoiCop_5_pred_col = 'cc5_pred'\n",
        "\n",
        "CoiCop_Labeler = labeler_cc5.labeler( labeled_by\n",
        "                        , df\n",
        "                        , text_column_1\n",
        "                        , text_column_2\n",
        "                        , url_column\n",
        "                        , CoiCop_5_pred_col)"
      ],
      "execution_count": 0,
      "outputs": []
    },
    {
      "cell_type": "markdown",
      "metadata": {
        "id": "Ph_zFG30BeEn",
        "colab_type": "text"
      },
      "source": [
        "Now you are ready to label, after executing the next line you will see:\n",
        "* Text 1\n",
        "* Text 2\n",
        "* URL\n",
        "* Dropdown with one category which is the prediction for the product. If you are dissatisfied with it, you can click on the dropdown and select the right one.\n",
        "* Next-Button will skip this product\n",
        "* Save-Button will annotate the selected category to your dataframe\n",
        "  \n",
        "If you finished labeling just jump to the next line."
      ]
    },
    {
      "cell_type": "code",
      "metadata": {
        "id": "soYye5zedVXk",
        "colab_type": "code",
        "outputId": "9d26824a-73c1-4c68-e2d4-da8ac4bfcd91",
        "colab": {
          "base_uri": "https://localhost:8080/",
          "height": 225,
          "referenced_widgets": [
            "053ccd1747de4271b2322f35ee75d57a",
            "95eb59984c4e4e21b9598d6a7cd94cf4",
            "fb8ed85e96ea45f98a697d84ecb9e18a",
            "d1391c444ef04acbb77d80c7597c0041",
            "595620ea04734d65b1e3bf5ef7b52c74",
            "35c8dc6532c14e24b754dd6652e979b9",
            "bb01bee2a56d4274b7112e216e4b35c5",
            "7ecff34a79884ab1aa744a02f986afca",
            "1505bd6e1ebc4fc38e5d94faf91ee87a",
            "571c4103ecc641edbdc63483f6d8ddd8",
            "2e97b3e9960247feb15605b2b580d5b9",
            "9c9c4f71117841aba3c19d30b9588d0f",
            "d757beeb257144bc87b4335aa0d365bd",
            "7fc0e559db334be8b2eb8024aa8f8352",
            "fd606b26e550478ebd9fb73a141f2f96",
            "6af7a0ea7033493780e0df5b23c9c20b",
            "cd5c9528527b4d28abf9f42b5b442cdc",
            "7dd1f82d76cc451eaaabc91b4d5844a5",
            "13a1d492f0e849dea2695af433ef41ef",
            "bda9451fc9c6453799e32f109e3c1516",
            "99b31b08394a4d989f6b4494fe1a0138",
            "b75ad24330e9423c8424549ae1fe45fc",
            "00e78fbbd5814e1caaa1efc914208260",
            "efaaaa9fdf7f48c686f6170559f72808",
            "9be32588b00e46198e264423846e0154",
            "938dbb363eca4a7aa842a2399b7fb4ce",
            "5d6579939f26415691d7f74a18ca7421",
            "9f5f56a736a84024a3e17ca5c8c67e89",
            "0a550829b42e4f28bb12d7d254029f5f",
            "d8b2d12948bb432eafd487e5399fe4ec"
          ]
        }
      },
      "source": [
        "CoiCop_Labeler.start_to_label()"
      ],
      "execution_count": 21,
      "outputs": [
        {
          "output_type": "display_data",
          "data": {
            "application/vnd.jupyter.widget-view+json": {
              "model_id": "053ccd1747de4271b2322f35ee75d57a",
              "version_minor": 0,
              "version_major": 2
            },
            "text/plain": [
              "VBox(children=(Text(value='Soletti Salzstangerl', description='Text 1:', layout=Layout(height='40px', width='8…"
            ]
          },
          "metadata": {
            "tags": []
          }
        }
      ]
    },
    {
      "cell_type": "markdown",
      "metadata": {
        "id": "zlEm5YPfCff9",
        "colab_type": "text"
      },
      "source": [
        "The next line will print out your current progress of annotating the data."
      ]
    },
    {
      "cell_type": "code",
      "metadata": {
        "id": "kWzefcaMdXh9",
        "colab_type": "code",
        "outputId": "7e8230d1-68e6-4fcb-86dd-f0010dad5f4d",
        "colab": {
          "base_uri": "https://localhost:8080/",
          "height": 50
        }
      },
      "source": [
        "CoiCop_Labeler.get_stats()"
      ],
      "execution_count": 50,
      "outputs": [
        {
          "output_type": "stream",
          "text": [
            "new labels: 1003\n",
            "in total 1003 of 1003 labeled ( 100.0 %)\n"
          ],
          "name": "stdout"
        }
      ]
    },
    {
      "cell_type": "markdown",
      "metadata": {
        "id": "PGSEDm3EDSpT",
        "colab_type": "text"
      },
      "source": [
        "Output the data including annotation."
      ]
    },
    {
      "cell_type": "code",
      "metadata": {
        "id": "3051UrA5dZT0",
        "colab_type": "code",
        "outputId": "e515f517-2eee-4931-cb62-3bc131ff22df",
        "colab": {
          "base_uri": "https://localhost:8080/",
          "height": 147
        }
      },
      "source": [
        "df_new = CoiCop_Labeler.output_labels()\n",
        "df_new[:1]"
      ],
      "execution_count": 38,
      "outputs": [
        {
          "output_type": "execute_result",
          "data": {
            "text/html": [
              "<div>\n",
              "<style scoped>\n",
              "    .dataframe tbody tr th:only-of-type {\n",
              "        vertical-align: middle;\n",
              "    }\n",
              "\n",
              "    .dataframe tbody tr th {\n",
              "        vertical-align: top;\n",
              "    }\n",
              "\n",
              "    .dataframe thead th {\n",
              "        text-align: right;\n",
              "    }\n",
              "</style>\n",
              "<table border=\"1\" class=\"dataframe\">\n",
              "  <thead>\n",
              "    <tr style=\"text-align: right;\">\n",
              "      <th></th>\n",
              "      <th>productID</th>\n",
              "      <th>productCategory</th>\n",
              "      <th>productName</th>\n",
              "      <th>productDescription</th>\n",
              "      <th>productURL</th>\n",
              "      <th>storeName</th>\n",
              "      <th>url_text</th>\n",
              "      <th>text</th>\n",
              "      <th>cc3_pred</th>\n",
              "      <th>cc4_pred</th>\n",
              "      <th>cc5_pred</th>\n",
              "      <th>labeled_by</th>\n",
              "      <th>cc3</th>\n",
              "      <th>cc4</th>\n",
              "      <th>cc5</th>\n",
              "    </tr>\n",
              "  </thead>\n",
              "  <tbody>\n",
              "    <tr>\n",
              "      <th>0</th>\n",
              "      <td>00-64304</td>\n",
              "      <td>suesses und salziges | chips und co | knabbereien</td>\n",
              "      <td>Soletti Salzstangerl</td>\n",
              "      <td>Knabberspaß aus 100 % österreichischen Rohstof...</td>\n",
              "      <td>https://www.billa.at/produkte/soletti-salzstan...</td>\n",
              "      <td>billa.at</td>\n",
              "      <td>produkte soletti salzstangerl</td>\n",
              "      <td>Soletti Salzstangerlsuesses und salziges | chi...</td>\n",
              "      <td>11_Food</td>\n",
              "      <td>117_Vegetables</td>\n",
              "      <td>1175_Crisps</td>\n",
              "      <td>Erik</td>\n",
              "      <td>11_Food</td>\n",
              "      <td>111_Bread and cereals</td>\n",
              "      <td>1114_Other bakery products</td>\n",
              "    </tr>\n",
              "  </tbody>\n",
              "</table>\n",
              "</div>"
            ],
            "text/plain": [
              "  productID  ...                         cc5\n",
              "0  00-64304  ...  1114_Other bakery products\n",
              "\n",
              "[1 rows x 15 columns]"
            ]
          },
          "metadata": {
            "tags": []
          },
          "execution_count": 38
        }
      ]
    },
    {
      "cell_type": "markdown",
      "metadata": {
        "id": "5WGhgHO8EbTq",
        "colab_type": "text"
      },
      "source": [
        "## Save data to Local Drive"
      ]
    },
    {
      "cell_type": "code",
      "metadata": {
        "id": "KnQkARJggsWg",
        "colab_type": "code",
        "colab": {}
      },
      "source": [
        "from google.colab import files\n",
        "\n",
        "df.to_csv('df_out.csv',sep='|')\n",
        "files.download('df_out.csv')"
      ],
      "execution_count": 0,
      "outputs": []
    },
    {
      "cell_type": "markdown",
      "metadata": {
        "id": "mP34Q9mpNBl1",
        "colab_type": "text"
      },
      "source": [
        "## Save data to Google Drive"
      ]
    },
    {
      "cell_type": "code",
      "metadata": {
        "id": "KhwdHI3lM_lt",
        "colab_type": "code",
        "colab": {}
      },
      "source": [
        "if False:\n",
        "    print(path+data_path+file_path,'saved')\n",
        "    df_new.to_csv(path+data_path+file_path,sep='|')"
      ],
      "execution_count": 0,
      "outputs": []
    },
    {
      "cell_type": "code",
      "metadata": {
        "id": "CM7zWC7fDPNe",
        "colab_type": "code",
        "colab": {}
      },
      "source": [
        ""
      ],
      "execution_count": 0,
      "outputs": []
    }
  ]
}