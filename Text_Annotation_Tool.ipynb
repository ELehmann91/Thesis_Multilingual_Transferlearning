{
  "nbformat": 4,
  "nbformat_minor": 0,
  "metadata": {
    "colab": {
      "name": "Text_Annotation_Tool.ipynb",
      "provenance": [],
      "collapsed_sections": [
        "DIJ6I9wWjUyL",
        "mP34Q9mpNBl1"
      ],
      "toc_visible": true,
      "authorship_tag": "ABX9TyNwR2/N8OrYTWgDU1FsZQOD",
      "include_colab_link": true
    },
    "kernelspec": {
      "name": "python3",
      "display_name": "Python 3"
    },
    "widgets": {
      "application/vnd.jupyter.widget-state+json": {
        "7147a0f06d6f422c9a9383472881f8c8": {
          "model_module": "@jupyter-widgets/controls",
          "model_name": "VBoxModel",
          "state": {
            "_view_name": "VBoxView",
            "_dom_classes": [],
            "_model_name": "VBoxModel",
            "_view_module": "@jupyter-widgets/controls",
            "_model_module_version": "1.5.0",
            "_view_count": null,
            "_view_module_version": "1.5.0",
            "box_style": "",
            "layout": "IPY_MODEL_047dfdbbd37144f1a40545f7566ce3ac",
            "_model_module": "@jupyter-widgets/controls",
            "children": [
              "IPY_MODEL_d6cbf03d6dba4ef998ad29160b1a3bb3",
              "IPY_MODEL_daae8d618c25498093c9ab0147d32649",
              "IPY_MODEL_37c0b3cbbcee4914b3b197ee778b770f",
              "IPY_MODEL_8f9596a1a6d7429cb6afd76e9d204c11",
              "IPY_MODEL_3318ee2055dc4e5bb8868641a6401602"
            ]
          }
        },
        "047dfdbbd37144f1a40545f7566ce3ac": {
          "model_module": "@jupyter-widgets/base",
          "model_name": "LayoutModel",
          "state": {
            "_view_name": "LayoutView",
            "grid_template_rows": null,
            "right": null,
            "justify_content": null,
            "_view_module": "@jupyter-widgets/base",
            "overflow": null,
            "_model_module_version": "1.2.0",
            "_view_count": null,
            "flex_flow": null,
            "width": null,
            "min_width": null,
            "border": null,
            "align_items": null,
            "bottom": null,
            "_model_module": "@jupyter-widgets/base",
            "top": null,
            "grid_column": null,
            "overflow_y": null,
            "overflow_x": null,
            "grid_auto_flow": null,
            "grid_area": null,
            "grid_template_columns": null,
            "flex": null,
            "_model_name": "LayoutModel",
            "justify_items": null,
            "grid_row": null,
            "max_height": null,
            "align_content": null,
            "visibility": null,
            "align_self": null,
            "height": null,
            "min_height": null,
            "padding": null,
            "grid_auto_rows": null,
            "grid_gap": null,
            "max_width": null,
            "order": null,
            "_view_module_version": "1.2.0",
            "grid_template_areas": null,
            "object_position": null,
            "object_fit": null,
            "grid_auto_columns": null,
            "margin": null,
            "display": null,
            "left": null
          }
        },
        "d6cbf03d6dba4ef998ad29160b1a3bb3": {
          "model_module": "@jupyter-widgets/controls",
          "model_name": "TextModel",
          "state": {
            "_view_name": "TextView",
            "style": "IPY_MODEL_238ec235585a40acb484fb75e74a01a0",
            "_dom_classes": [],
            "description": "Text 1:",
            "_model_name": "TextModel",
            "placeholder": "​",
            "_view_module": "@jupyter-widgets/controls",
            "_model_module_version": "1.5.0",
            "value": "Lait nettoyant Age Perfect L'OREAL",
            "_view_count": null,
            "disabled": false,
            "_view_module_version": "1.5.0",
            "continuous_update": true,
            "description_tooltip": null,
            "_model_module": "@jupyter-widgets/controls",
            "layout": "IPY_MODEL_b5297bd187a84c6895941e98cfede6f7"
          }
        },
        "daae8d618c25498093c9ab0147d32649": {
          "model_module": "@jupyter-widgets/controls",
          "model_name": "TextModel",
          "state": {
            "_view_name": "TextView",
            "style": "IPY_MODEL_b012122124dd43e79c674d6cf436ebfe",
            "_dom_classes": [],
            "description": "Text 2:",
            "_model_name": "TextModel",
            "placeholder": "​",
            "_view_module": "@jupyter-widgets/controls",
            "_model_module_version": "1.5.0",
            "value": "hygiene-et-beaute",
            "_view_count": null,
            "disabled": false,
            "_view_module_version": "1.5.0",
            "continuous_update": true,
            "description_tooltip": null,
            "_model_module": "@jupyter-widgets/controls",
            "layout": "IPY_MODEL_f1225de4fa94441d9da08077e334d471"
          }
        },
        "37c0b3cbbcee4914b3b197ee778b770f": {
          "model_module": "@jupyter-widgets/controls",
          "model_name": "TextModel",
          "state": {
            "_view_name": "TextView",
            "style": "IPY_MODEL_cd8c6b71b0344a7fa0922239f9911871",
            "_dom_classes": [],
            "description": "Url:",
            "_model_name": "TextModel",
            "placeholder": "​",
            "_view_module": "@jupyter-widgets/controls",
            "_model_module_version": "1.5.0",
            "value": "https://www.carrefour.fr/p/lait-nettoyant-age-perfect-l-oreal-3054080074335?t=R13",
            "_view_count": null,
            "disabled": false,
            "_view_module_version": "1.5.0",
            "continuous_update": true,
            "description_tooltip": null,
            "_model_module": "@jupyter-widgets/controls",
            "layout": "IPY_MODEL_f2b1f29a445b4b63a61e0ffa82595e5c"
          }
        },
        "8f9596a1a6d7429cb6afd76e9d204c11": {
          "model_module": "@jupyter-widgets/controls",
          "model_name": "BoxModel",
          "state": {
            "_view_name": "BoxView",
            "_dom_classes": [],
            "_model_name": "BoxModel",
            "_view_module": "@jupyter-widgets/controls",
            "_model_module_version": "1.5.0",
            "_view_count": null,
            "_view_module_version": "1.5.0",
            "box_style": "",
            "layout": "IPY_MODEL_3475c83c7410429bb48b647386718d2d",
            "_model_module": "@jupyter-widgets/controls",
            "children": [
              "IPY_MODEL_63bb22865b3446c6b38516a899e9a358",
              "IPY_MODEL_122c993d7aec436b806d5b73ab4af981"
            ]
          }
        },
        "3318ee2055dc4e5bb8868641a6401602": {
          "model_module": "@jupyter-widgets/controls",
          "model_name": "BoxModel",
          "state": {
            "_view_name": "BoxView",
            "_dom_classes": [],
            "_model_name": "BoxModel",
            "_view_module": "@jupyter-widgets/controls",
            "_model_module_version": "1.5.0",
            "_view_count": null,
            "_view_module_version": "1.5.0",
            "box_style": "",
            "layout": "IPY_MODEL_758292347f6b443e8e479d8d525651e0",
            "_model_module": "@jupyter-widgets/controls",
            "children": [
              "IPY_MODEL_eea40faa867f40559a06575778391ef5",
              "IPY_MODEL_022aa63250a94fb8b467f4a2157ddc6b",
              "IPY_MODEL_bdf09a6330434163bb27b4fed3fae216",
              "IPY_MODEL_55e404b00a9c47238fbcbe1320378efc"
            ]
          }
        },
        "238ec235585a40acb484fb75e74a01a0": {
          "model_module": "@jupyter-widgets/controls",
          "model_name": "DescriptionStyleModel",
          "state": {
            "_view_name": "StyleView",
            "_model_name": "DescriptionStyleModel",
            "description_width": "",
            "_view_module": "@jupyter-widgets/base",
            "_model_module_version": "1.5.0",
            "_view_count": null,
            "_view_module_version": "1.2.0",
            "_model_module": "@jupyter-widgets/controls"
          }
        },
        "b5297bd187a84c6895941e98cfede6f7": {
          "model_module": "@jupyter-widgets/base",
          "model_name": "LayoutModel",
          "state": {
            "_view_name": "LayoutView",
            "grid_template_rows": null,
            "right": null,
            "justify_content": null,
            "_view_module": "@jupyter-widgets/base",
            "overflow": null,
            "_model_module_version": "1.2.0",
            "_view_count": null,
            "flex_flow": null,
            "width": "80%",
            "min_width": null,
            "border": null,
            "align_items": null,
            "bottom": null,
            "_model_module": "@jupyter-widgets/base",
            "top": null,
            "grid_column": null,
            "overflow_y": null,
            "overflow_x": null,
            "grid_auto_flow": null,
            "grid_area": null,
            "grid_template_columns": null,
            "flex": null,
            "_model_name": "LayoutModel",
            "justify_items": null,
            "grid_row": null,
            "max_height": null,
            "align_content": null,
            "visibility": null,
            "align_self": null,
            "height": "40px",
            "min_height": null,
            "padding": null,
            "grid_auto_rows": null,
            "grid_gap": null,
            "max_width": null,
            "order": null,
            "_view_module_version": "1.2.0",
            "grid_template_areas": null,
            "object_position": null,
            "object_fit": null,
            "grid_auto_columns": null,
            "margin": null,
            "display": null,
            "left": null
          }
        },
        "b012122124dd43e79c674d6cf436ebfe": {
          "model_module": "@jupyter-widgets/controls",
          "model_name": "DescriptionStyleModel",
          "state": {
            "_view_name": "StyleView",
            "_model_name": "DescriptionStyleModel",
            "description_width": "",
            "_view_module": "@jupyter-widgets/base",
            "_model_module_version": "1.5.0",
            "_view_count": null,
            "_view_module_version": "1.2.0",
            "_model_module": "@jupyter-widgets/controls"
          }
        },
        "f1225de4fa94441d9da08077e334d471": {
          "model_module": "@jupyter-widgets/base",
          "model_name": "LayoutModel",
          "state": {
            "_view_name": "LayoutView",
            "grid_template_rows": null,
            "right": null,
            "justify_content": null,
            "_view_module": "@jupyter-widgets/base",
            "overflow": null,
            "_model_module_version": "1.2.0",
            "_view_count": null,
            "flex_flow": null,
            "width": "80%",
            "min_width": null,
            "border": null,
            "align_items": null,
            "bottom": null,
            "_model_module": "@jupyter-widgets/base",
            "top": null,
            "grid_column": null,
            "overflow_y": null,
            "overflow_x": null,
            "grid_auto_flow": null,
            "grid_area": null,
            "grid_template_columns": null,
            "flex": null,
            "_model_name": "LayoutModel",
            "justify_items": null,
            "grid_row": null,
            "max_height": null,
            "align_content": null,
            "visibility": null,
            "align_self": null,
            "height": "40px",
            "min_height": null,
            "padding": null,
            "grid_auto_rows": null,
            "grid_gap": null,
            "max_width": null,
            "order": null,
            "_view_module_version": "1.2.0",
            "grid_template_areas": null,
            "object_position": null,
            "object_fit": null,
            "grid_auto_columns": null,
            "margin": null,
            "display": null,
            "left": null
          }
        },
        "cd8c6b71b0344a7fa0922239f9911871": {
          "model_module": "@jupyter-widgets/controls",
          "model_name": "DescriptionStyleModel",
          "state": {
            "_view_name": "StyleView",
            "_model_name": "DescriptionStyleModel",
            "description_width": "",
            "_view_module": "@jupyter-widgets/base",
            "_model_module_version": "1.5.0",
            "_view_count": null,
            "_view_module_version": "1.2.0",
            "_model_module": "@jupyter-widgets/controls"
          }
        },
        "f2b1f29a445b4b63a61e0ffa82595e5c": {
          "model_module": "@jupyter-widgets/base",
          "model_name": "LayoutModel",
          "state": {
            "_view_name": "LayoutView",
            "grid_template_rows": null,
            "right": null,
            "justify_content": null,
            "_view_module": "@jupyter-widgets/base",
            "overflow": null,
            "_model_module_version": "1.2.0",
            "_view_count": null,
            "flex_flow": null,
            "width": "80%",
            "min_width": null,
            "border": null,
            "align_items": null,
            "bottom": null,
            "_model_module": "@jupyter-widgets/base",
            "top": null,
            "grid_column": null,
            "overflow_y": null,
            "overflow_x": null,
            "grid_auto_flow": null,
            "grid_area": null,
            "grid_template_columns": null,
            "flex": null,
            "_model_name": "LayoutModel",
            "justify_items": null,
            "grid_row": null,
            "max_height": null,
            "align_content": null,
            "visibility": null,
            "align_self": null,
            "height": "40px",
            "min_height": null,
            "padding": null,
            "grid_auto_rows": null,
            "grid_gap": null,
            "max_width": null,
            "order": null,
            "_view_module_version": "1.2.0",
            "grid_template_areas": null,
            "object_position": null,
            "object_fit": null,
            "grid_auto_columns": null,
            "margin": null,
            "display": null,
            "left": null
          }
        },
        "3475c83c7410429bb48b647386718d2d": {
          "model_module": "@jupyter-widgets/base",
          "model_name": "LayoutModel",
          "state": {
            "_view_name": "LayoutView",
            "grid_template_rows": null,
            "right": null,
            "justify_content": null,
            "_view_module": "@jupyter-widgets/base",
            "overflow": null,
            "_model_module_version": "1.2.0",
            "_view_count": null,
            "flex_flow": "column",
            "width": "80%",
            "min_width": null,
            "border": null,
            "align_items": "stretch",
            "bottom": null,
            "_model_module": "@jupyter-widgets/base",
            "top": null,
            "grid_column": null,
            "overflow_y": null,
            "overflow_x": null,
            "grid_auto_flow": null,
            "grid_area": null,
            "grid_template_columns": null,
            "flex": null,
            "_model_name": "LayoutModel",
            "justify_items": null,
            "grid_row": null,
            "max_height": null,
            "align_content": "center",
            "visibility": null,
            "align_self": null,
            "height": null,
            "min_height": null,
            "padding": null,
            "grid_auto_rows": null,
            "grid_gap": null,
            "max_width": null,
            "order": null,
            "_view_module_version": "1.2.0",
            "grid_template_areas": null,
            "object_position": null,
            "object_fit": null,
            "grid_auto_columns": null,
            "margin": null,
            "display": "flex",
            "left": null
          }
        },
        "63bb22865b3446c6b38516a899e9a358": {
          "model_module": "@jupyter-widgets/controls",
          "model_name": "DropdownModel",
          "state": {
            "_options_labels": [
              "1111_Rice",
              "1112_Flours and other cereals",
              "1113_Bread",
              "1114_Other bakery products",
              "1115_Pizza and quiche",
              "1116_Pasta products and couscous",
              "1117_Breakfast cereals",
              "1118_Other cereal products",
              "1121_Beef and veal",
              "1122_Pork",
              "1123_Lamb and goat",
              "1124_Poultry",
              "1125_Other meats",
              "1126_Edible offal",
              "1127_Dried, salted or smoked meat",
              "1128_Other meat preparations",
              "1131_Fresh or chilled fish",
              "1132_Frozen fish",
              "1133_Fresh or chilled seafood",
              "1134_Frozen seafood",
              "1135_Dried, smoked or salted fish and seafood",
              "1136_Other preserved or processed fish and seafood-based preparations",
              "1141_Fresh whole milk",
              "1142_Fresh low fat milk",
              "1143_Preserved milk",
              "1144_Yoghurt",
              "1145_Cheese and curd",
              "1146_Other milk products",
              "1147_Eggs",
              "1151_Butter",
              "1152_Margarine and other vegetable fats",
              "1153_Olive oil",
              "1154_Other edible oils",
              "1155_Other edible animal fats",
              "1161_Fresh or chilled fruit",
              "1162_Frozen fruit",
              "1163_Dried fruit and nuts",
              "1164_Preserved fruit and fruit-based products",
              "1171_Fresh or chilled vegetables other than potatoes and other tubers",
              "1172_Frozen vegetables other than potatoes and other tubers",
              "1173_Dried vegetables, other preserved or processed vegetables",
              "1174_Potatoes",
              "1175_Crisps",
              "1176_Other tubers and products of tuber vegetables",
              "1181_Sugar",
              "1182_Jams, marmalades and honey",
              "1183_Chocolate",
              "1184_Confectionery products",
              "1185_Edible ices and ice cream",
              "1186_Artificial sugar substitutes",
              "1191_Sauces, condiments",
              "1192_Salt, spices and culinary herbs",
              "1193_Baby food",
              "1194_Ready-made meals",
              "1199_Other food products n.e.c.",
              "1211_Coffee",
              "1212_Tea",
              "1213_Cocoa and powdered chocolate",
              "1221_Mineral or spring waters",
              "1222_Soft drinks",
              "1223_Fruit and vegetable juices",
              "2111_Spirits and liqueurs",
              "2112_Alcoholic soft drinks",
              "2121_Wine from grapes",
              "2122_Wine from other fruits",
              "2123_Fortified wines",
              "2124_Wine-based drinks",
              "2131_Lager beer",
              "2132_Other alcoholic beer",
              "2133_Low and non-alcoholic beer",
              "2134_Beer-based drinks",
              "2201_Cigarettes",
              "2202_Cigars",
              "2203_Other tobacco products",
              "9999_Non-Food"
            ],
            "_view_name": "DropdownView",
            "style": "IPY_MODEL_f01eae5e9df24a778f3a8785b6b1c6b0",
            "_dom_classes": [],
            "description": "COICOP 5:",
            "_model_name": "DropdownModel",
            "index": 74,
            "_view_module": "@jupyter-widgets/controls",
            "_model_module_version": "1.5.0",
            "_view_count": null,
            "disabled": false,
            "_view_module_version": "1.5.0",
            "description_tooltip": null,
            "_model_module": "@jupyter-widgets/controls",
            "layout": "IPY_MODEL_6903d6b463454526891eb78f97fbda8e"
          }
        },
        "122c993d7aec436b806d5b73ab4af981": {
          "model_module": "@jupyter-widgets/output",
          "model_name": "OutputModel",
          "state": {
            "_view_name": "OutputView",
            "msg_id": "",
            "_dom_classes": [],
            "_model_name": "OutputModel",
            "outputs": [],
            "_view_module": "@jupyter-widgets/output",
            "_model_module_version": "1.0.0",
            "_view_count": null,
            "_view_module_version": "1.0.0",
            "layout": "IPY_MODEL_f316d0f654f045d991096e6608aa25a8",
            "_model_module": "@jupyter-widgets/output"
          }
        },
        "758292347f6b443e8e479d8d525651e0": {
          "model_module": "@jupyter-widgets/base",
          "model_name": "LayoutModel",
          "state": {
            "_view_name": "LayoutView",
            "grid_template_rows": null,
            "right": null,
            "justify_content": null,
            "_view_module": "@jupyter-widgets/base",
            "overflow": null,
            "_model_module_version": "1.2.0",
            "_view_count": null,
            "flex_flow": "row",
            "width": "80%",
            "min_width": null,
            "border": null,
            "align_items": "stretch",
            "bottom": null,
            "_model_module": "@jupyter-widgets/base",
            "top": null,
            "grid_column": null,
            "overflow_y": null,
            "overflow_x": null,
            "grid_auto_flow": null,
            "grid_area": null,
            "grid_template_columns": null,
            "flex": null,
            "_model_name": "LayoutModel",
            "justify_items": null,
            "grid_row": null,
            "max_height": null,
            "align_content": "center",
            "visibility": null,
            "align_self": null,
            "height": null,
            "min_height": null,
            "padding": null,
            "grid_auto_rows": null,
            "grid_gap": null,
            "max_width": null,
            "order": null,
            "_view_module_version": "1.2.0",
            "grid_template_areas": null,
            "object_position": null,
            "object_fit": null,
            "grid_auto_columns": null,
            "margin": null,
            "display": "flex",
            "left": null
          }
        },
        "eea40faa867f40559a06575778391ef5": {
          "model_module": "@jupyter-widgets/controls",
          "model_name": "ButtonModel",
          "state": {
            "_view_name": "ButtonView",
            "style": "IPY_MODEL_eb511fdd7bb54cbfa3034ce8da329bd2",
            "_dom_classes": [],
            "description": "Next",
            "_model_name": "ButtonModel",
            "button_style": "",
            "_view_module": "@jupyter-widgets/controls",
            "_model_module_version": "1.5.0",
            "tooltip": "",
            "_view_count": null,
            "disabled": false,
            "_view_module_version": "1.5.0",
            "layout": "IPY_MODEL_485b818eac7b437da4af7a34b355fdf8",
            "_model_module": "@jupyter-widgets/controls",
            "icon": ""
          }
        },
        "022aa63250a94fb8b467f4a2157ddc6b": {
          "model_module": "@jupyter-widgets/output",
          "model_name": "OutputModel",
          "state": {
            "_view_name": "OutputView",
            "msg_id": "",
            "_dom_classes": [],
            "_model_name": "OutputModel",
            "outputs": [],
            "_view_module": "@jupyter-widgets/output",
            "_model_module_version": "1.0.0",
            "_view_count": null,
            "_view_module_version": "1.0.0",
            "layout": "IPY_MODEL_185a4e38c60246c28a9eb21f5b9124b3",
            "_model_module": "@jupyter-widgets/output"
          }
        },
        "bdf09a6330434163bb27b4fed3fae216": {
          "model_module": "@jupyter-widgets/controls",
          "model_name": "ButtonModel",
          "state": {
            "_view_name": "ButtonView",
            "style": "IPY_MODEL_928f8c60efe747438debe9b1b70946c6",
            "_dom_classes": [],
            "description": "Save",
            "_model_name": "ButtonModel",
            "button_style": "",
            "_view_module": "@jupyter-widgets/controls",
            "_model_module_version": "1.5.0",
            "tooltip": "",
            "_view_count": null,
            "disabled": false,
            "_view_module_version": "1.5.0",
            "layout": "IPY_MODEL_255a750aa8f54b8aac6872b1864d7077",
            "_model_module": "@jupyter-widgets/controls",
            "icon": ""
          }
        },
        "55e404b00a9c47238fbcbe1320378efc": {
          "model_module": "@jupyter-widgets/output",
          "model_name": "OutputModel",
          "state": {
            "_view_name": "OutputView",
            "msg_id": "",
            "_dom_classes": [],
            "_model_name": "OutputModel",
            "outputs": [],
            "_view_module": "@jupyter-widgets/output",
            "_model_module_version": "1.0.0",
            "_view_count": null,
            "_view_module_version": "1.0.0",
            "layout": "IPY_MODEL_747c20eb63e04ee09257d09379a67081",
            "_model_module": "@jupyter-widgets/output"
          }
        },
        "f01eae5e9df24a778f3a8785b6b1c6b0": {
          "model_module": "@jupyter-widgets/controls",
          "model_name": "DescriptionStyleModel",
          "state": {
            "_view_name": "StyleView",
            "_model_name": "DescriptionStyleModel",
            "description_width": "",
            "_view_module": "@jupyter-widgets/base",
            "_model_module_version": "1.5.0",
            "_view_count": null,
            "_view_module_version": "1.2.0",
            "_model_module": "@jupyter-widgets/controls"
          }
        },
        "6903d6b463454526891eb78f97fbda8e": {
          "model_module": "@jupyter-widgets/base",
          "model_name": "LayoutModel",
          "state": {
            "_view_name": "LayoutView",
            "grid_template_rows": null,
            "right": null,
            "justify_content": null,
            "_view_module": "@jupyter-widgets/base",
            "overflow": null,
            "_model_module_version": "1.2.0",
            "_view_count": null,
            "flex_flow": null,
            "width": "80%",
            "min_width": null,
            "border": null,
            "align_items": null,
            "bottom": null,
            "_model_module": "@jupyter-widgets/base",
            "top": null,
            "grid_column": null,
            "overflow_y": null,
            "overflow_x": null,
            "grid_auto_flow": null,
            "grid_area": null,
            "grid_template_columns": null,
            "flex": null,
            "_model_name": "LayoutModel",
            "justify_items": null,
            "grid_row": null,
            "max_height": null,
            "align_content": null,
            "visibility": null,
            "align_self": null,
            "height": "40px",
            "min_height": null,
            "padding": null,
            "grid_auto_rows": null,
            "grid_gap": null,
            "max_width": null,
            "order": null,
            "_view_module_version": "1.2.0",
            "grid_template_areas": null,
            "object_position": null,
            "object_fit": null,
            "grid_auto_columns": null,
            "margin": null,
            "display": null,
            "left": null
          }
        },
        "eb511fdd7bb54cbfa3034ce8da329bd2": {
          "model_module": "@jupyter-widgets/controls",
          "model_name": "ButtonStyleModel",
          "state": {
            "_view_name": "StyleView",
            "_model_name": "ButtonStyleModel",
            "_view_module": "@jupyter-widgets/base",
            "_model_module_version": "1.5.0",
            "_view_count": null,
            "button_color": null,
            "font_weight": "",
            "_view_module_version": "1.2.0",
            "_model_module": "@jupyter-widgets/controls"
          }
        },
        "485b818eac7b437da4af7a34b355fdf8": {
          "model_module": "@jupyter-widgets/base",
          "model_name": "LayoutModel",
          "state": {
            "_view_name": "LayoutView",
            "grid_template_rows": null,
            "right": null,
            "justify_content": null,
            "_view_module": "@jupyter-widgets/base",
            "overflow": null,
            "_model_module_version": "1.2.0",
            "_view_count": null,
            "flex_flow": null,
            "width": null,
            "min_width": null,
            "border": null,
            "align_items": null,
            "bottom": null,
            "_model_module": "@jupyter-widgets/base",
            "top": null,
            "grid_column": null,
            "overflow_y": null,
            "overflow_x": null,
            "grid_auto_flow": null,
            "grid_area": null,
            "grid_template_columns": null,
            "flex": null,
            "_model_name": "LayoutModel",
            "justify_items": null,
            "grid_row": null,
            "max_height": null,
            "align_content": null,
            "visibility": null,
            "align_self": null,
            "height": null,
            "min_height": null,
            "padding": null,
            "grid_auto_rows": null,
            "grid_gap": null,
            "max_width": null,
            "order": null,
            "_view_module_version": "1.2.0",
            "grid_template_areas": null,
            "object_position": null,
            "object_fit": null,
            "grid_auto_columns": null,
            "margin": null,
            "display": null,
            "left": null
          }
        },
        "928f8c60efe747438debe9b1b70946c6": {
          "model_module": "@jupyter-widgets/controls",
          "model_name": "ButtonStyleModel",
          "state": {
            "_view_name": "StyleView",
            "_model_name": "ButtonStyleModel",
            "_view_module": "@jupyter-widgets/base",
            "_model_module_version": "1.5.0",
            "_view_count": null,
            "button_color": null,
            "font_weight": "",
            "_view_module_version": "1.2.0",
            "_model_module": "@jupyter-widgets/controls"
          }
        },
        "255a750aa8f54b8aac6872b1864d7077": {
          "model_module": "@jupyter-widgets/base",
          "model_name": "LayoutModel",
          "state": {
            "_view_name": "LayoutView",
            "grid_template_rows": null,
            "right": null,
            "justify_content": null,
            "_view_module": "@jupyter-widgets/base",
            "overflow": null,
            "_model_module_version": "1.2.0",
            "_view_count": null,
            "flex_flow": null,
            "width": null,
            "min_width": null,
            "border": null,
            "align_items": null,
            "bottom": null,
            "_model_module": "@jupyter-widgets/base",
            "top": null,
            "grid_column": null,
            "overflow_y": null,
            "overflow_x": null,
            "grid_auto_flow": null,
            "grid_area": null,
            "grid_template_columns": null,
            "flex": null,
            "_model_name": "LayoutModel",
            "justify_items": null,
            "grid_row": null,
            "max_height": null,
            "align_content": null,
            "visibility": null,
            "align_self": null,
            "height": null,
            "min_height": null,
            "padding": null,
            "grid_auto_rows": null,
            "grid_gap": null,
            "max_width": null,
            "order": null,
            "_view_module_version": "1.2.0",
            "grid_template_areas": null,
            "object_position": null,
            "object_fit": null,
            "grid_auto_columns": null,
            "margin": null,
            "display": null,
            "left": null
          }
        },
        "f316d0f654f045d991096e6608aa25a8": {
          "model_module": "@jupyter-widgets/base",
          "model_name": "LayoutModel",
          "state": {
            "_view_name": "LayoutView",
            "grid_template_rows": null,
            "right": null,
            "justify_content": null,
            "_view_module": "@jupyter-widgets/base",
            "overflow": null,
            "_model_module_version": "1.2.0",
            "_view_count": null,
            "flex_flow": null,
            "width": null,
            "min_width": null,
            "border": null,
            "align_items": null,
            "bottom": null,
            "_model_module": "@jupyter-widgets/base",
            "top": null,
            "grid_column": null,
            "overflow_y": null,
            "overflow_x": null,
            "grid_auto_flow": null,
            "grid_area": null,
            "grid_template_columns": null,
            "flex": null,
            "_model_name": "LayoutModel",
            "justify_items": null,
            "grid_row": null,
            "max_height": null,
            "align_content": null,
            "visibility": null,
            "align_self": null,
            "height": null,
            "min_height": null,
            "padding": null,
            "grid_auto_rows": null,
            "grid_gap": null,
            "max_width": null,
            "order": null,
            "_view_module_version": "1.2.0",
            "grid_template_areas": null,
            "object_position": null,
            "object_fit": null,
            "grid_auto_columns": null,
            "margin": null,
            "display": null,
            "left": null
          }
        },
        "185a4e38c60246c28a9eb21f5b9124b3": {
          "model_module": "@jupyter-widgets/base",
          "model_name": "LayoutModel",
          "state": {
            "_view_name": "LayoutView",
            "grid_template_rows": null,
            "right": null,
            "justify_content": null,
            "_view_module": "@jupyter-widgets/base",
            "overflow": null,
            "_model_module_version": "1.2.0",
            "_view_count": null,
            "flex_flow": null,
            "width": null,
            "min_width": null,
            "border": null,
            "align_items": null,
            "bottom": null,
            "_model_module": "@jupyter-widgets/base",
            "top": null,
            "grid_column": null,
            "overflow_y": null,
            "overflow_x": null,
            "grid_auto_flow": null,
            "grid_area": null,
            "grid_template_columns": null,
            "flex": null,
            "_model_name": "LayoutModel",
            "justify_items": null,
            "grid_row": null,
            "max_height": null,
            "align_content": null,
            "visibility": null,
            "align_self": null,
            "height": null,
            "min_height": null,
            "padding": null,
            "grid_auto_rows": null,
            "grid_gap": null,
            "max_width": null,
            "order": null,
            "_view_module_version": "1.2.0",
            "grid_template_areas": null,
            "object_position": null,
            "object_fit": null,
            "grid_auto_columns": null,
            "margin": null,
            "display": null,
            "left": null
          }
        },
        "747c20eb63e04ee09257d09379a67081": {
          "model_module": "@jupyter-widgets/base",
          "model_name": "LayoutModel",
          "state": {
            "_view_name": "LayoutView",
            "grid_template_rows": null,
            "right": null,
            "justify_content": null,
            "_view_module": "@jupyter-widgets/base",
            "overflow": null,
            "_model_module_version": "1.2.0",
            "_view_count": null,
            "flex_flow": null,
            "width": null,
            "min_width": null,
            "border": null,
            "align_items": null,
            "bottom": null,
            "_model_module": "@jupyter-widgets/base",
            "top": null,
            "grid_column": null,
            "overflow_y": null,
            "overflow_x": null,
            "grid_auto_flow": null,
            "grid_area": null,
            "grid_template_columns": null,
            "flex": null,
            "_model_name": "LayoutModel",
            "justify_items": null,
            "grid_row": null,
            "max_height": null,
            "align_content": null,
            "visibility": null,
            "align_self": null,
            "height": null,
            "min_height": null,
            "padding": null,
            "grid_auto_rows": null,
            "grid_gap": null,
            "max_width": null,
            "order": null,
            "_view_module_version": "1.2.0",
            "grid_template_areas": null,
            "object_position": null,
            "object_fit": null,
            "grid_auto_columns": null,
            "margin": null,
            "display": null,
            "left": null
          }
        }
      }
    }
  },
  "cells": [
    {
      "cell_type": "markdown",
      "metadata": {
        "id": "view-in-github",
        "colab_type": "text"
      },
      "source": [
        "<a href=\"https://colab.research.google.com/github/ELehmann91/Thesis_Multilingual_Transferlearning/blob/master/Text_Annotation_Tool.ipynb\" target=\"_parent\"><img src=\"https://colab.research.google.com/assets/colab-badge.svg\" alt=\"Open In Colab\"/></a>"
      ]
    },
    {
      "cell_type": "markdown",
      "metadata": {
        "id": "c8aX4ibmIzSO",
        "colab_type": "text"
      },
      "source": [
        "<p><img alt=\"Colaboratory logo\" height=\"45px\" src=\"/img/colab_favicon.ico\" align=\"left\" hspace=\"10px\" vspace=\"0px\"></p>\n",
        "\n",
        "<h1>What is Colaboratory?</h1>\n",
        "\n",
        "Colaboratory, or \"Colab\" for short, allows you to write and execute Python in your browser, with \n",
        "- Zero configuration required\n",
        "- Free access to GPUs\n",
        "- Easy sharing\n",
        "\n",
        "Whether you're a **student**, a **data scientist** or an **AI researcher**, Colab can make your work easier. Watch [Introduction to Colab](https://www.youtube.com/watch?v=inN8seMm7UI) to learn more, or just get started below!"
      ]
    },
    {
      "cell_type": "markdown",
      "metadata": {
        "id": "j-9rGzn0Zki5",
        "colab_type": "text"
      },
      "source": [
        "# ECOICOP Annotation\n",
        "  \n",
        "Use this tool to annotate your product texts with the correspondant eCoiCop category. \n"
      ]
    },
    {
      "cell_type": "markdown",
      "metadata": {
        "id": "P8EyWQfdK9jR",
        "colab_type": "text"
      },
      "source": [
        "## Get code from GitHub\n",
        "  \n",
        "At first we need to download the code from Github to here."
      ]
    },
    {
      "cell_type": "code",
      "metadata": {
        "id": "ub8zb9s7v9QF",
        "colab_type": "code",
        "colab": {}
      },
      "source": [
        "%%capture\n",
        "!pip install eli5\n",
        "!git clone 'https://github.com/ELehmann91/Thesis_Multilingual_Transferlearning'\n",
        "\n",
        "%cd Thesis_Multilingual_Transferlearning\n",
        "import labeler_cc5\n",
        "import coicop_model\n",
        "import pandas as pd\n",
        "import numpy as np\n",
        "from tqdm import tqdm\n",
        "import io"
      ],
      "execution_count": 0,
      "outputs": []
    },
    {
      "cell_type": "markdown",
      "metadata": {
        "id": "DIJ6I9wWjUyL",
        "colab_type": "text"
      },
      "source": [
        "## Upload CSV / Excel from Local Drive"
      ]
    },
    {
      "cell_type": "markdown",
      "metadata": {
        "id": "FYHE2mkbjdqq",
        "colab_type": "text"
      },
      "source": [
        "To upload from your local drive, start with the following code:"
      ]
    },
    {
      "cell_type": "code",
      "metadata": {
        "id": "Cv53M_9uibxg",
        "colab_type": "code",
        "outputId": "89c991f6-9251-40d9-ef52-ab8c8cf85575",
        "colab": {
          "resources": {
            "http://localhost:8080/nbextensions/google.colab/files.js": {
              "data": "Ly8gQ29weXJpZ2h0IDIwMTcgR29vZ2xlIExMQwovLwovLyBMaWNlbnNlZCB1bmRlciB0aGUgQXBhY2hlIExpY2Vuc2UsIFZlcnNpb24gMi4wICh0aGUgIkxpY2Vuc2UiKTsKLy8geW91IG1heSBub3QgdXNlIHRoaXMgZmlsZSBleGNlcHQgaW4gY29tcGxpYW5jZSB3aXRoIHRoZSBMaWNlbnNlLgovLyBZb3UgbWF5IG9idGFpbiBhIGNvcHkgb2YgdGhlIExpY2Vuc2UgYXQKLy8KLy8gICAgICBodHRwOi8vd3d3LmFwYWNoZS5vcmcvbGljZW5zZXMvTElDRU5TRS0yLjAKLy8KLy8gVW5sZXNzIHJlcXVpcmVkIGJ5IGFwcGxpY2FibGUgbGF3IG9yIGFncmVlZCB0byBpbiB3cml0aW5nLCBzb2Z0d2FyZQovLyBkaXN0cmlidXRlZCB1bmRlciB0aGUgTGljZW5zZSBpcyBkaXN0cmlidXRlZCBvbiBhbiAiQVMgSVMiIEJBU0lTLAovLyBXSVRIT1VUIFdBUlJBTlRJRVMgT1IgQ09ORElUSU9OUyBPRiBBTlkgS0lORCwgZWl0aGVyIGV4cHJlc3Mgb3IgaW1wbGllZC4KLy8gU2VlIHRoZSBMaWNlbnNlIGZvciB0aGUgc3BlY2lmaWMgbGFuZ3VhZ2UgZ292ZXJuaW5nIHBlcm1pc3Npb25zIGFuZAovLyBsaW1pdGF0aW9ucyB1bmRlciB0aGUgTGljZW5zZS4KCi8qKgogKiBAZmlsZW92ZXJ2aWV3IEhlbHBlcnMgZm9yIGdvb2dsZS5jb2xhYiBQeXRob24gbW9kdWxlLgogKi8KKGZ1bmN0aW9uKHNjb3BlKSB7CmZ1bmN0aW9uIHNwYW4odGV4dCwgc3R5bGVBdHRyaWJ1dGVzID0ge30pIHsKICBjb25zdCBlbGVtZW50ID0gZG9jdW1lbnQuY3JlYXRlRWxlbWVudCgnc3BhbicpOwogIGVsZW1lbnQudGV4dENvbnRlbnQgPSB0ZXh0OwogIGZvciAoY29uc3Qga2V5IG9mIE9iamVjdC5rZXlzKHN0eWxlQXR0cmlidXRlcykpIHsKICAgIGVsZW1lbnQuc3R5bGVba2V5XSA9IHN0eWxlQXR0cmlidXRlc1trZXldOwogIH0KICByZXR1cm4gZWxlbWVudDsKfQoKLy8gTWF4IG51bWJlciBvZiBieXRlcyB3aGljaCB3aWxsIGJlIHVwbG9hZGVkIGF0IGEgdGltZS4KY29uc3QgTUFYX1BBWUxPQURfU0laRSA9IDEwMCAqIDEwMjQ7Ci8vIE1heCBhbW91bnQgb2YgdGltZSB0byBibG9jayB3YWl0aW5nIGZvciB0aGUgdXNlci4KY29uc3QgRklMRV9DSEFOR0VfVElNRU9VVF9NUyA9IDMwICogMTAwMDsKCmZ1bmN0aW9uIF91cGxvYWRGaWxlcyhpbnB1dElkLCBvdXRwdXRJZCkgewogIGNvbnN0IHN0ZXBzID0gdXBsb2FkRmlsZXNTdGVwKGlucHV0SWQsIG91dHB1dElkKTsKICBjb25zdCBvdXRwdXRFbGVtZW50ID0gZG9jdW1lbnQuZ2V0RWxlbWVudEJ5SWQob3V0cHV0SWQpOwogIC8vIENhY2hlIHN0ZXBzIG9uIHRoZSBvdXRwdXRFbGVtZW50IHRvIG1ha2UgaXQgYXZhaWxhYmxlIGZvciB0aGUgbmV4dCBjYWxsCiAgLy8gdG8gdXBsb2FkRmlsZXNDb250aW51ZSBmcm9tIFB5dGhvbi4KICBvdXRwdXRFbGVtZW50LnN0ZXBzID0gc3RlcHM7CgogIHJldHVybiBfdXBsb2FkRmlsZXNDb250aW51ZShvdXRwdXRJZCk7Cn0KCi8vIFRoaXMgaXMgcm91Z2hseSBhbiBhc3luYyBnZW5lcmF0b3IgKG5vdCBzdXBwb3J0ZWQgaW4gdGhlIGJyb3dzZXIgeWV0KSwKLy8gd2hlcmUgdGhlcmUgYXJlIG11bHRpcGxlIGFzeW5jaHJvbm91cyBzdGVwcyBhbmQgdGhlIFB5dGhvbiBzaWRlIGlzIGdvaW5nCi8vIHRvIHBvbGwgZm9yIGNvbXBsZXRpb24gb2YgZWFjaCBzdGVwLgovLyBUaGlzIHVzZXMgYSBQcm9taXNlIHRvIGJsb2NrIHRoZSBweXRob24gc2lkZSBvbiBjb21wbGV0aW9uIG9mIGVhY2ggc3RlcCwKLy8gdGhlbiBwYXNzZXMgdGhlIHJlc3VsdCBvZiB0aGUgcHJldmlvdXMgc3RlcCBhcyB0aGUgaW5wdXQgdG8gdGhlIG5leHQgc3RlcC4KZnVuY3Rpb24gX3VwbG9hZEZpbGVzQ29udGludWUob3V0cHV0SWQpIHsKICBjb25zdCBvdXRwdXRFbGVtZW50ID0gZG9jdW1lbnQuZ2V0RWxlbWVudEJ5SWQob3V0cHV0SWQpOwogIGNvbnN0IHN0ZXBzID0gb3V0cHV0RWxlbWVudC5zdGVwczsKCiAgY29uc3QgbmV4dCA9IHN0ZXBzLm5leHQob3V0cHV0RWxlbWVudC5sYXN0UHJvbWlzZVZhbHVlKTsKICByZXR1cm4gUHJvbWlzZS5yZXNvbHZlKG5leHQudmFsdWUucHJvbWlzZSkudGhlbigodmFsdWUpID0+IHsKICAgIC8vIENhY2hlIHRoZSBsYXN0IHByb21pc2UgdmFsdWUgdG8gbWFrZSBpdCBhdmFpbGFibGUgdG8gdGhlIG5leHQKICAgIC8vIHN0ZXAgb2YgdGhlIGdlbmVyYXRvci4KICAgIG91dHB1dEVsZW1lbnQubGFzdFByb21pc2VWYWx1ZSA9IHZhbHVlOwogICAgcmV0dXJuIG5leHQudmFsdWUucmVzcG9uc2U7CiAgfSk7Cn0KCi8qKgogKiBHZW5lcmF0b3IgZnVuY3Rpb24gd2hpY2ggaXMgY2FsbGVkIGJldHdlZW4gZWFjaCBhc3luYyBzdGVwIG9mIHRoZSB1cGxvYWQKICogcHJvY2Vzcy4KICogQHBhcmFtIHtzdHJpbmd9IGlucHV0SWQgRWxlbWVudCBJRCBvZiB0aGUgaW5wdXQgZmlsZSBwaWNrZXIgZWxlbWVudC4KICogQHBhcmFtIHtzdHJpbmd9IG91dHB1dElkIEVsZW1lbnQgSUQgb2YgdGhlIG91dHB1dCBkaXNwbGF5LgogKiBAcmV0dXJuIHshSXRlcmFibGU8IU9iamVjdD59IEl0ZXJhYmxlIG9mIG5leHQgc3RlcHMuCiAqLwpmdW5jdGlvbiogdXBsb2FkRmlsZXNTdGVwKGlucHV0SWQsIG91dHB1dElkKSB7CiAgY29uc3QgaW5wdXRFbGVtZW50ID0gZG9jdW1lbnQuZ2V0RWxlbWVudEJ5SWQoaW5wdXRJZCk7CiAgaW5wdXRFbGVtZW50LmRpc2FibGVkID0gZmFsc2U7CgogIGNvbnN0IG91dHB1dEVsZW1lbnQgPSBkb2N1bWVudC5nZXRFbGVtZW50QnlJZChvdXRwdXRJZCk7CiAgb3V0cHV0RWxlbWVudC5pbm5lckhUTUwgPSAnJzsKCiAgY29uc3QgcGlja2VkUHJvbWlzZSA9IG5ldyBQcm9taXNlKChyZXNvbHZlKSA9PiB7CiAgICBpbnB1dEVsZW1lbnQuYWRkRXZlbnRMaXN0ZW5lcignY2hhbmdlJywgKGUpID0+IHsKICAgICAgcmVzb2x2ZShlLnRhcmdldC5maWxlcyk7CiAgICB9KTsKICB9KTsKCiAgY29uc3QgY2FuY2VsID0gZG9jdW1lbnQuY3JlYXRlRWxlbWVudCgnYnV0dG9uJyk7CiAgaW5wdXRFbGVtZW50LnBhcmVudEVsZW1lbnQuYXBwZW5kQ2hpbGQoY2FuY2VsKTsKICBjYW5jZWwudGV4dENvbnRlbnQgPSAnQ2FuY2VsIHVwbG9hZCc7CiAgY29uc3QgY2FuY2VsUHJvbWlzZSA9IG5ldyBQcm9taXNlKChyZXNvbHZlKSA9PiB7CiAgICBjYW5jZWwub25jbGljayA9ICgpID0+IHsKICAgICAgcmVzb2x2ZShudWxsKTsKICAgIH07CiAgfSk7CgogIC8vIENhbmNlbCB1cGxvYWQgaWYgdXNlciBoYXNuJ3QgcGlja2VkIGFueXRoaW5nIGluIHRpbWVvdXQuCiAgY29uc3QgdGltZW91dFByb21pc2UgPSBuZXcgUHJvbWlzZSgocmVzb2x2ZSkgPT4gewogICAgc2V0VGltZW91dCgoKSA9PiB7CiAgICAgIHJlc29sdmUobnVsbCk7CiAgICB9LCBGSUxFX0NIQU5HRV9USU1FT1VUX01TKTsKICB9KTsKCiAgLy8gV2FpdCBmb3IgdGhlIHVzZXIgdG8gcGljayB0aGUgZmlsZXMuCiAgY29uc3QgZmlsZXMgPSB5aWVsZCB7CiAgICBwcm9taXNlOiBQcm9taXNlLnJhY2UoW3BpY2tlZFByb21pc2UsIHRpbWVvdXRQcm9taXNlLCBjYW5jZWxQcm9taXNlXSksCiAgICByZXNwb25zZTogewogICAgICBhY3Rpb246ICdzdGFydGluZycsCiAgICB9CiAgfTsKCiAgaWYgKCFmaWxlcykgewogICAgcmV0dXJuIHsKICAgICAgcmVzcG9uc2U6IHsKICAgICAgICBhY3Rpb246ICdjb21wbGV0ZScsCiAgICAgIH0KICAgIH07CiAgfQoKICBjYW5jZWwucmVtb3ZlKCk7CgogIC8vIERpc2FibGUgdGhlIGlucHV0IGVsZW1lbnQgc2luY2UgZnVydGhlciBwaWNrcyBhcmUgbm90IGFsbG93ZWQuCiAgaW5wdXRFbGVtZW50LmRpc2FibGVkID0gdHJ1ZTsKCiAgZm9yIChjb25zdCBmaWxlIG9mIGZpbGVzKSB7CiAgICBjb25zdCBsaSA9IGRvY3VtZW50LmNyZWF0ZUVsZW1lbnQoJ2xpJyk7CiAgICBsaS5hcHBlbmQoc3BhbihmaWxlLm5hbWUsIHtmb250V2VpZ2h0OiAnYm9sZCd9KSk7CiAgICBsaS5hcHBlbmQoc3BhbigKICAgICAgICBgKCR7ZmlsZS50eXBlIHx8ICduL2EnfSkgLSAke2ZpbGUuc2l6ZX0gYnl0ZXMsIGAgKwogICAgICAgIGBsYXN0IG1vZGlmaWVkOiAkewogICAgICAgICAgICBmaWxlLmxhc3RNb2RpZmllZERhdGUgPyBmaWxlLmxhc3RNb2RpZmllZERhdGUudG9Mb2NhbGVEYXRlU3RyaW5nKCkgOgogICAgICAgICAgICAgICAgICAgICAgICAgICAgICAgICAgICAnbi9hJ30gLSBgKSk7CiAgICBjb25zdCBwZXJjZW50ID0gc3BhbignMCUgZG9uZScpOwogICAgbGkuYXBwZW5kQ2hpbGQocGVyY2VudCk7CgogICAgb3V0cHV0RWxlbWVudC5hcHBlbmRDaGlsZChsaSk7CgogICAgY29uc3QgZmlsZURhdGFQcm9taXNlID0gbmV3IFByb21pc2UoKHJlc29sdmUpID0+IHsKICAgICAgY29uc3QgcmVhZGVyID0gbmV3IEZpbGVSZWFkZXIoKTsKICAgICAgcmVhZGVyLm9ubG9hZCA9IChlKSA9PiB7CiAgICAgICAgcmVzb2x2ZShlLnRhcmdldC5yZXN1bHQpOwogICAgICB9OwogICAgICByZWFkZXIucmVhZEFzQXJyYXlCdWZmZXIoZmlsZSk7CiAgICB9KTsKICAgIC8vIFdhaXQgZm9yIHRoZSBkYXRhIHRvIGJlIHJlYWR5LgogICAgbGV0IGZpbGVEYXRhID0geWllbGQgewogICAgICBwcm9taXNlOiBmaWxlRGF0YVByb21pc2UsCiAgICAgIHJlc3BvbnNlOiB7CiAgICAgICAgYWN0aW9uOiAnY29udGludWUnLAogICAgICB9CiAgICB9OwoKICAgIC8vIFVzZSBhIGNodW5rZWQgc2VuZGluZyB0byBhdm9pZCBtZXNzYWdlIHNpemUgbGltaXRzLiBTZWUgYi82MjExNTY2MC4KICAgIGxldCBwb3NpdGlvbiA9IDA7CiAgICB3aGlsZSAocG9zaXRpb24gPCBmaWxlRGF0YS5ieXRlTGVuZ3RoKSB7CiAgICAgIGNvbnN0IGxlbmd0aCA9IE1hdGgubWluKGZpbGVEYXRhLmJ5dGVMZW5ndGggLSBwb3NpdGlvbiwgTUFYX1BBWUxPQURfU0laRSk7CiAgICAgIGNvbnN0IGNodW5rID0gbmV3IFVpbnQ4QXJyYXkoZmlsZURhdGEsIHBvc2l0aW9uLCBsZW5ndGgpOwogICAgICBwb3NpdGlvbiArPSBsZW5ndGg7CgogICAgICBjb25zdCBiYXNlNjQgPSBidG9hKFN0cmluZy5mcm9tQ2hhckNvZGUuYXBwbHkobnVsbCwgY2h1bmspKTsKICAgICAgeWllbGQgewogICAgICAgIHJlc3BvbnNlOiB7CiAgICAgICAgICBhY3Rpb246ICdhcHBlbmQnLAogICAgICAgICAgZmlsZTogZmlsZS5uYW1lLAogICAgICAgICAgZGF0YTogYmFzZTY0LAogICAgICAgIH0sCiAgICAgIH07CiAgICAgIHBlcmNlbnQudGV4dENvbnRlbnQgPQogICAgICAgICAgYCR7TWF0aC5yb3VuZCgocG9zaXRpb24gLyBmaWxlRGF0YS5ieXRlTGVuZ3RoKSAqIDEwMCl9JSBkb25lYDsKICAgIH0KICB9CgogIC8vIEFsbCBkb25lLgogIHlpZWxkIHsKICAgIHJlc3BvbnNlOiB7CiAgICAgIGFjdGlvbjogJ2NvbXBsZXRlJywKICAgIH0KICB9Owp9CgpzY29wZS5nb29nbGUgPSBzY29wZS5nb29nbGUgfHwge307CnNjb3BlLmdvb2dsZS5jb2xhYiA9IHNjb3BlLmdvb2dsZS5jb2xhYiB8fCB7fTsKc2NvcGUuZ29vZ2xlLmNvbGFiLl9maWxlcyA9IHsKICBfdXBsb2FkRmlsZXMsCiAgX3VwbG9hZEZpbGVzQ29udGludWUsCn07Cn0pKHNlbGYpOwo=",
              "ok": true,
              "headers": [
                [
                  "content-type",
                  "application/javascript"
                ]
              ],
              "status": 200,
              "status_text": ""
            }
          },
          "base_uri": "https://localhost:8080/",
          "height": 73
        }
      },
      "source": [
        "from google.colab import files\n",
        "uploaded = files.upload()"
      ],
      "execution_count": 81,
      "outputs": [
        {
          "output_type": "display_data",
          "data": {
            "text/html": [
              "\n",
              "     <input type=\"file\" id=\"files-8f06af3f-8154-42ff-a60d-32c2a1b4fbc2\" name=\"files[]\" multiple disabled />\n",
              "     <output id=\"result-8f06af3f-8154-42ff-a60d-32c2a1b4fbc2\">\n",
              "      Upload widget is only available when the cell has been executed in the\n",
              "      current browser session. Please rerun this cell to enable.\n",
              "      </output>\n",
              "      <script src=\"/nbextensions/google.colab/files.js\"></script> "
            ],
            "text/plain": [
              "<IPython.core.display.HTML object>"
            ]
          },
          "metadata": {
            "tags": []
          }
        },
        {
          "output_type": "stream",
          "text": [
            "Saving eantoclassifyECB.csv to eantoclassifyECB (1).csv\n"
          ],
          "name": "stdout"
        }
      ]
    },
    {
      "cell_type": "markdown",
      "metadata": {
        "id": "A7QkulHTjkyK",
        "colab_type": "text"
      },
      "source": [
        "It will prompt you to select a file. Click on “Choose Files” then select and upload the file. Wait for the file to be 100% uploaded. You should see the name of the file once Colab has uploaded it.\n",
        "Finally, type in the following code to import it into a dataframe (make sure the filename matches the name of the uploaded file)."
      ]
    },
    {
      "cell_type": "code",
      "metadata": {
        "id": "-bSqZRGhWSy8",
        "colab_type": "code",
        "colab": {}
      },
      "source": [
        "#stata\n",
        "df = pd.read_stata('table_BCE_finale.dta')"
      ],
      "execution_count": 0,
      "outputs": []
    },
    {
      "cell_type": "code",
      "metadata": {
        "id": "VmC0fPkzjstK",
        "colab_type": "code",
        "colab": {}
      },
      "source": [
        "df = pd.read_csv(io.BytesIO(uploaded['eantoclassifyECB.csv']),sep=',')\n",
        "#df = pd.read_excel(io.BytesIO(uploaded['carrfour_trans_pred.xlsx']),encoding='ANSI')\n",
        "#df = pd.read_excel(uploaded['carrfour_trans_pred.xlsx'],encoding='unicode')"
      ],
      "execution_count": 0,
      "outputs": []
    },
    {
      "cell_type": "code",
      "metadata": {
        "id": "w_8lIfRA-qul",
        "colab_type": "code",
        "outputId": "8815fd2a-e85d-41e2-e2b2-ec34b6da0b3f",
        "colab": {
          "base_uri": "https://localhost:8080/",
          "height": 124
        }
      },
      "source": [
        "# Dataset is now stored in a Pandas Dataframe\n",
        "#df['productCategory'] = df['productCategory'].apply(lambda x: str(x).replace('suesses','süßes').replace('ue','ü').replace('ae','ä').replace('oe','ö'))\n",
        "print(df.shape)\n",
        "df[:2]"
      ],
      "execution_count": 83,
      "outputs": [
        {
          "output_type": "stream",
          "text": [
            "(132639, 3)\n"
          ],
          "name": "stdout"
        },
        {
          "output_type": "execute_result",
          "data": {
            "text/html": [
              "<div>\n",
              "<style scoped>\n",
              "    .dataframe tbody tr th:only-of-type {\n",
              "        vertical-align: middle;\n",
              "    }\n",
              "\n",
              "    .dataframe tbody tr th {\n",
              "        vertical-align: top;\n",
              "    }\n",
              "\n",
              "    .dataframe thead th {\n",
              "        text-align: right;\n",
              "    }\n",
              "</style>\n",
              "<table border=\"1\" class=\"dataframe\">\n",
              "  <thead>\n",
              "    <tr style=\"text-align: right;\">\n",
              "      <th></th>\n",
              "      <th>ean</th>\n",
              "      <th>title_accent</th>\n",
              "      <th>id</th>\n",
              "    </tr>\n",
              "  </thead>\n",
              "  <tbody>\n",
              "    <tr>\n",
              "      <th>0</th>\n",
              "      <td>30080751</td>\n",
              "      <td>coolwave bonbons sans sucres avec édulcorants,...</td>\n",
              "      <td>1811805</td>\n",
              "    </tr>\n",
              "    <tr>\n",
              "      <th>1</th>\n",
              "      <td>30080768</td>\n",
              "      <td>cool wave fraise, sans sucres, la boite de 28g</td>\n",
              "      <td>1811806</td>\n",
              "    </tr>\n",
              "  </tbody>\n",
              "</table>\n",
              "</div>"
            ],
            "text/plain": [
              "        ean                                       title_accent       id\n",
              "0  30080751  coolwave bonbons sans sucres avec édulcorants,...  1811805\n",
              "1  30080768     cool wave fraise, sans sucres, la boite de 28g  1811806"
            ]
          },
          "metadata": {
            "tags": []
          },
          "execution_count": 83
        }
      ]
    },
    {
      "cell_type": "markdown",
      "metadata": {
        "id": "40G3r2iHjpJT",
        "colab_type": "text"
      },
      "source": [
        "## Upload from Google Drive"
      ]
    },
    {
      "cell_type": "markdown",
      "metadata": {
        "id": "Q7HGsKGs9kTT",
        "colab_type": "text"
      },
      "source": [
        "Loading CSV files stored in your google drive."
      ]
    },
    {
      "cell_type": "code",
      "metadata": {
        "id": "hysvDAyEmMtJ",
        "colab_type": "code",
        "outputId": "b691de06-1848-46c8-cf5e-62cd368b4751",
        "colab": {
          "base_uri": "https://localhost:8080/",
          "height": 120
        }
      },
      "source": [
        "from google.colab import drive, files\n",
        "\n",
        "drive.mount('/content/gdrive')\n",
        "path ='/content/gdrive/My Drive/Thesis_ecb_ecoicop'"
      ],
      "execution_count": 2,
      "outputs": [
        {
          "output_type": "stream",
          "text": [
            "Go to this URL in a browser: https://accounts.google.com/o/oauth2/auth?client_id=947318989803-6bn6qk8qdgf4n4g3pfee6491hc0brc4i.apps.googleusercontent.com&redirect_uri=urn%3aietf%3awg%3aoauth%3a2.0%3aoob&response_type=code&scope=email%20https%3a%2f%2fwww.googleapis.com%2fauth%2fdocs.test%20https%3a%2f%2fwww.googleapis.com%2fauth%2fdrive%20https%3a%2f%2fwww.googleapis.com%2fauth%2fdrive.photos.readonly%20https%3a%2f%2fwww.googleapis.com%2fauth%2fpeopleapi.readonly\n",
            "\n",
            "Enter your authorization code:\n",
            "··········\n",
            "Mounted at /content/gdrive\n"
          ],
          "name": "stdout"
        }
      ]
    },
    {
      "cell_type": "markdown",
      "metadata": {
        "id": "koAL9Y0-9iha",
        "colab_type": "text"
      },
      "source": [
        "The commands will bring you to a Google Authentication step. You should see a screen with Google Drive File Stream wants to access your Google Account. After you allow permission, copy the given verification code and paste it in the box in Colab.\n",
        "In the notebook, click on the charcoal > on the top left of the notebook and click on Files. Locate the data folder you created earlier and find your data. Right-click on your data and select Copy Path. Store this copied path into a variable and you are ready to go."
      ]
    },
    {
      "cell_type": "markdown",
      "metadata": {
        "id": "hwfdFh_099X8",
        "colab_type": "text"
      },
      "source": [
        "Specify the exact path to your file and the seperator of your file to read it in."
      ]
    },
    {
      "cell_type": "code",
      "metadata": {
        "id": "YRfBjhSAZ5Jp",
        "colab_type": "code",
        "colab": {
          "base_uri": "https://localhost:8080/",
          "height": 70
        },
        "outputId": "47df79ef-c2e9-4151-c5e8-6a4c7883329e"
      },
      "source": [
        "import pandas as pd\n",
        "\n",
        "data_path = '/data/'#\n",
        "#file_path = 'fra/carrfour_trans_pred.csv'\n",
        "file_path = 'normalized/norm_fr.csv'\n",
        "df = pd.read_csv(path+data_path+file_path,sep='|',index_col=False)"
      ],
      "execution_count": 3,
      "outputs": [
        {
          "output_type": "stream",
          "text": [
            "/usr/local/lib/python3.6/dist-packages/IPython/core/interactiveshell.py:2718: DtypeWarning: Columns (0,3,4,5,6,7,8,9,10,11,12,13,14,16,17,18,19) have mixed types.Specify dtype option on import or set low_memory=False.\n",
            "  interactivity=interactivity, compiler=compiler, result=result)\n"
          ],
          "name": "stderr"
        }
      ]
    },
    {
      "cell_type": "code",
      "metadata": {
        "id": "DiXWXY5Y-m4U",
        "colab_type": "code",
        "colab": {
          "base_uri": "https://localhost:8080/",
          "height": 133
        },
        "outputId": "a7bef01f-fbe4-407e-9733-19d5313a39bf"
      },
      "source": [
        "df.shop.value_counts()"
      ],
      "execution_count": 4,
      "outputs": [
        {
          "output_type": "execute_result",
          "data": {
            "text/plain": [
              "ecb                 133639\n",
              "Carrefour            90454\n",
              "Auchan               25511\n",
              "banque_de_france     14910\n",
              "carrefour             8610\n",
              "17.75                    2\n",
              "Name: shop, dtype: int64"
            ]
          },
          "metadata": {
            "tags": []
          },
          "execution_count": 4
        }
      ]
    },
    {
      "cell_type": "code",
      "metadata": {
        "id": "BawdO5ZeDAVw",
        "colab_type": "code",
        "colab": {}
      },
      "source": [
        "df = df[df['shop']=='banque_de_france']"
      ],
      "execution_count": 0,
      "outputs": []
    },
    {
      "cell_type": "markdown",
      "metadata": {
        "id": "bfjiyKlT-OdY",
        "colab_type": "text"
      },
      "source": [
        "Print out the dataframe to see if the import is correct."
      ]
    },
    {
      "cell_type": "code",
      "metadata": {
        "id": "4s2vY1KM-JVW",
        "colab_type": "code",
        "outputId": "42f7f335-c681-4738-d003-bfe26e03ad54",
        "colab": {
          "base_uri": "https://localhost:8080/",
          "height": 181
        }
      },
      "source": [
        "df[:1]"
      ],
      "execution_count": 6,
      "outputs": [
        {
          "output_type": "execute_result",
          "data": {
            "text/html": [
              "<div>\n",
              "<style scoped>\n",
              "    .dataframe tbody tr th:only-of-type {\n",
              "        vertical-align: middle;\n",
              "    }\n",
              "\n",
              "    .dataframe tbody tr th {\n",
              "        vertical-align: top;\n",
              "    }\n",
              "\n",
              "    .dataframe thead th {\n",
              "        text-align: right;\n",
              "    }\n",
              "</style>\n",
              "<table border=\"1\" class=\"dataframe\">\n",
              "  <thead>\n",
              "    <tr style=\"text-align: right;\">\n",
              "      <th></th>\n",
              "      <th>Unnamed: 0</th>\n",
              "      <th>lang</th>\n",
              "      <th>name</th>\n",
              "      <th>categ</th>\n",
              "      <th>prod_desc</th>\n",
              "      <th>text_other</th>\n",
              "      <th>url</th>\n",
              "      <th>words_from_url</th>\n",
              "      <th>unit</th>\n",
              "      <th>cc3</th>\n",
              "      <th>cc4</th>\n",
              "      <th>cc5</th>\n",
              "      <th>cc3_pred</th>\n",
              "      <th>cc4_pred</th>\n",
              "      <th>cc5_pred</th>\n",
              "      <th>shop</th>\n",
              "      <th>brand</th>\n",
              "      <th>price</th>\n",
              "      <th>id</th>\n",
              "      <th>labeld_by</th>\n",
              "    </tr>\n",
              "  </thead>\n",
              "  <tbody>\n",
              "    <tr>\n",
              "      <th>193227</th>\n",
              "      <td>186523</td>\n",
              "      <td>fr</td>\n",
              "      <td>Fromage de brebis crème à tartiner SOCIETE</td>\n",
              "      <td>cremerie</td>\n",
              "      <td>NaN</td>\n",
              "      <td>NaN</td>\n",
              "      <td>https://www.carrefour.fr/p/fromage-de-brebis-c...</td>\n",
              "      <td>fromage brebis creme tartiner societe</td>\n",
              "      <td>NaN</td>\n",
              "      <td>NaN</td>\n",
              "      <td>NaN</td>\n",
              "      <td>1145_Cheese and curd</td>\n",
              "      <td>11_Food</td>\n",
              "      <td>114_Milk, cheese and eggs</td>\n",
              "      <td>1145_Cheese and curd</td>\n",
              "      <td>banque_de_france</td>\n",
              "      <td>NaN</td>\n",
              "      <td>NaN</td>\n",
              "      <td>30005501</td>\n",
              "      <td>NaN</td>\n",
              "    </tr>\n",
              "  </tbody>\n",
              "</table>\n",
              "</div>"
            ],
            "text/plain": [
              "       Unnamed: 0 lang  ...        id labeld_by\n",
              "193227     186523   fr  ...  30005501       NaN\n",
              "\n",
              "[1 rows x 20 columns]"
            ]
          },
          "metadata": {
            "tags": []
          },
          "execution_count": 6
        }
      ]
    },
    {
      "cell_type": "markdown",
      "metadata": {
        "id": "0hvKTxOXGnlX",
        "colab_type": "text"
      },
      "source": [
        "# Predict CoiCop Level 4\n",
        "  \n",
        "How does it work? - Word Embeddings (left)\n",
        "* Words are translated in vectors which are learned represent the words\n",
        "* Embeddings are a multidimensional space (often 300+ dimesnsion) and words which relate to each other are closer in this space\n",
        "* Those spaces can be aligned for different languages\n",
        "* The example shows a three dimensional space with embeddings for three different languages, the translation are idealy close neighbours and the distance between milk and cheese is closer than the distance betwenn milk and potato  \n",
        "more information: https://towardsdatascience.com/introduction-to-word-embeddings-4cf857b12edc\n",
        "  \n",
        "How does it work? - Recurrent Neural Network (right)\n",
        "* Now every word is represented by a vector and the input to the model is a sequence of vectors\n",
        "* LSTM (Long Short Term Memory) Networks are good in solving sequential tasks, because they are able to remember information from previous states (words) and output a representation for the sentence \n",
        "* This representation is used to classify in to the coicop categories  \n",
        "more information: https://towardsdatascience.com/a-beginners-guide-on-sentiment-analysis-with-rnn-9e100627c02e \n",
        "\n",
        "\n"
      ]
    },
    {
      "cell_type": "markdown",
      "metadata": {
        "id": "q_kUPMnHLzyU",
        "colab_type": "text"
      },
      "source": [
        "![embed](https://drive.google.com/uc?id=1AoleK5q47ZTkPCtvxDD6icEpcnLc9viE)"
      ]
    },
    {
      "cell_type": "markdown",
      "metadata": {
        "id": "pFeMdvnl9_5n",
        "colab_type": "text"
      },
      "source": [
        "For the prediction you have to specify the names of certain columns in your dataframe which the tool will use.  \n",
        "* name_col is the column with the product name (mandatory)\n",
        "* category_col is the column with the category given by the supermarked (optional)\n",
        "* url_col is the column with  the url to the product (optional)\n",
        "* lang ist the language of the texts, supports 'de' and 'fr' (mandatory)\n",
        "* label_cat5 is the column with labels,if labeld (optional)\n",
        "\n"
      ]
    },
    {
      "cell_type": "code",
      "metadata": {
        "id": "1P-gtkLEGnwO",
        "colab_type": "code",
        "outputId": "56964f24-ff49-4722-9079-9c8da30a1196",
        "colab": {
          "base_uri": "https://localhost:8080/",
          "height": 67
        }
      },
      "source": [
        "# init predictor\n",
        "  \n",
        "name_col = 'name'\n",
        "category_col = 'categ'\n",
        "url_col = 'url'\n",
        "lang = 'fr'\n",
        "label_cat5 = 'cc5' #'coicop4_str'\n",
        "\n",
        " #coicop_model #\n",
        "CoiCop_Predictor = coicop_model.predictor(df\n",
        "                                          , name_col\n",
        "                                          , category_col\n",
        "                                          , url_col\n",
        "                                          , label_cat5\n",
        "                                          , lang)\n"
      ],
      "execution_count": 11,
      "outputs": [
        {
          "output_type": "stream",
          "text": [
            "using name, category and words in url as input\n",
            "using french embeddings\n",
            "95% quantile no. of words per row is 18 (trained on 39)\n"
          ],
          "name": "stdout"
        }
      ]
    },
    {
      "cell_type": "code",
      "metadata": {
        "id": "ScTxi7eaG-rK",
        "colab_type": "code",
        "outputId": "95e4293a-42d0-4820-ee62-464a63fde6b2",
        "colab": {
          "base_uri": "https://localhost:8080/",
          "height": 50
        }
      },
      "source": [
        "# execute to create predictions and store them in the object\n",
        "CoiCop_Predictor.predict()"
      ],
      "execution_count": 12,
      "outputs": [
        {
          "output_type": "stream",
          "text": [
            "100%|██████████| 149/149 [00:11<00:00, 13.07it/s]"
          ],
          "name": "stderr"
        },
        {
          "output_type": "stream",
          "text": [
            "predictions ready\n"
          ],
          "name": "stdout"
        },
        {
          "output_type": "stream",
          "text": [
            "\n"
          ],
          "name": "stderr"
        }
      ]
    },
    {
      "cell_type": "markdown",
      "metadata": {
        "id": "Jbfz0JYO_yGj",
        "colab_type": "text"
      },
      "source": [
        "if products are already labeled you can test the consistency with the prediction.  \n",
        "label_cat5 is specified two lines above"
      ]
    },
    {
      "cell_type": "code",
      "metadata": {
        "id": "lXYd8owQ67GZ",
        "colab_type": "code",
        "outputId": "ad3df781-9fd2-410d-f120-a56802967de0",
        "colab": {
          "base_uri": "https://localhost:8080/",
          "height": 1000
        }
      },
      "source": [
        "if label_cat5 is not None:\n",
        "    CoiCop_Predictor.test_performance()\n",
        "    CoiCop_Predictor.confusion_matrix()"
      ],
      "execution_count": 13,
      "outputs": [
        {
          "output_type": "stream",
          "text": [
            "number of observation (labeled / all): 14429 / 14910 consistency  98.0 %\n"
          ],
          "name": "stdout"
        },
        {
          "output_type": "stream",
          "text": [
            "/usr/local/lib/python3.6/dist-packages/sklearn/metrics/_classification.py:1272: UndefinedMetricWarning: Precision and F-score are ill-defined and being set to 0.0 in labels with no predicted samples. Use `zero_division` parameter to control this behavior.\n",
            "  _warn_prf(average, modifier, msg_start, len(result))\n",
            "/usr/local/lib/python3.6/dist-packages/sklearn/metrics/_classification.py:1272: UndefinedMetricWarning: Recall and F-score are ill-defined and being set to 0.0 in labels with no true samples. Use `zero_division` parameter to control this behavior.\n",
            "  _warn_prf(average, modifier, msg_start, len(result))\n"
          ],
          "name": "stderr"
        },
        {
          "output_type": "stream",
          "text": [
            "                                                                precision    recall  f1-score   support\n",
            "\n",
            "                                                     1111_Rice       1.00      1.00      1.00       244\n",
            "                                                    1113_Bread       0.99      0.97      0.98       285\n",
            "                                    1114_Other bakery products       0.88      0.98      0.93        65\n",
            "                                         1115_Pizza and quiche       1.00      1.00      1.00        16\n",
            "                              1116_Pasta products and couscous       1.00      1.00      1.00       770\n",
            "                                        1117_Breakfast cereals       0.98      0.99      0.99       395\n",
            "                                            1121_Beef and veal       0.98      0.96      0.97       179\n",
            "                                                     1122_Pork       0.87      1.00      0.93        20\n",
            "                                                  1124_Poultry       0.86      1.00      0.92         6\n",
            "                             1127_Dried, salted or smoked meat       0.57      0.67      0.62        12\n",
            "                                  1128_Other meat preparations       0.89      0.50      0.64        16\n",
            "                                              1132_Frozen fish       1.00      1.00      1.00         9\n",
            "                                 1133_Fresh or chilled seafood       0.00      0.00      0.00         6\n",
            "                                           1134_Frozen seafood       0.40      1.00      0.57         4\n",
            "                                         1141_Fresh whole milk       1.00      0.95      0.98       132\n",
            "                                       1142_Fresh low fat milk       1.00      1.00      1.00       508\n",
            "                                           1143_Preserved milk       1.00      0.89      0.94        55\n",
            "                                                  1144_Yoghurt       1.00      1.00      1.00       509\n",
            "                                          1145_Cheese and curd       0.99      1.00      0.99      2437\n",
            "                                      1146_Other milk products       1.00      1.00      1.00        80\n",
            "                                                     1147_Eggs       1.00      1.00      1.00        18\n",
            "                                                   1151_Butter       1.00      1.00      1.00       314\n",
            "                       1152_Margarine and other vegetable fats       1.00      1.00      1.00        91\n",
            "                                                1153_Olive oil       1.00      0.99      0.99       200\n",
            "                                        1154_Other edible oils       0.99      0.99      0.99       149\n",
            "                                   1161_Fresh or chilled fruit       1.00      0.33      0.50         9\n",
            "                                             1162_Frozen fruit       0.00      0.00      0.00         0\n",
            "                                     1163_Dried fruit and nuts       1.00      0.82      0.90        39\n",
            "                 1164_Preserved fruit and fruit-based products       1.00      1.00      1.00        76\n",
            "   1172_Frozen vegetables other than potatoes and other tubers       0.29      1.00      0.44         2\n",
            "1173_Dried vegetables, other preserved or processed vegetables       1.00      0.97      0.98        98\n",
            "                                                 1174_Potatoes       1.00      0.83      0.91        12\n",
            "                                                   1175_Crisps       1.00      1.00      1.00       495\n",
            "                                                    1181_Sugar       1.00      1.00      1.00       130\n",
            "                               1182_Jams, marmalades and honey       0.97      0.97      0.97        31\n",
            "                                                1183_Chocolate       1.00      1.00      1.00      1563\n",
            "                                   1184_Confectionery products       0.00      0.00      0.00         1\n",
            "                                       1191_Sauces, condiments       1.00      1.00      1.00        21\n",
            "                          1192_Salt, spices and culinary herbs       1.00      0.93      0.96       108\n",
            "                                                1193_Baby food       1.00      1.00      1.00       397\n",
            "                               1199_Other food products n.e.c.       0.00      0.00      0.00         2\n",
            "                                                   1211_Coffee       1.00      1.00      1.00      1878\n",
            "                             1213_Cocoa and powdered chocolate       1.00      1.00      1.00        82\n",
            "                               1223_Fruit and vegetable juices       1.00      1.00      1.00       637\n",
            "                                         2121_Wine from grapes       1.00      1.00      1.00      2128\n",
            "                                        4549_Other solid fuels       0.00      0.00      0.00         0\n",
            "                                      5324_Toasters and grills       0.00      0.00      0.00         0\n",
            "                                               7224_Lubricants       0.00      0.00      0.00         0\n",
            "                                8201_Fixed telephone equipment       0.00      0.00      0.00         0\n",
            "                                        9311_Games and hobbies       0.00      0.00      0.00         0\n",
            "                            9312_Toys and celebration articles       0.00      0.00      0.00         0\n",
            "                                        9342_Products for pets       0.00      0.00      0.00         0\n",
            "                                                 9999_Non-Food       0.00      0.00      0.00       200\n",
            "\n",
            "                                                      accuracy                           0.98     14429\n",
            "                                                     macro avg       0.73      0.73      0.72     14429\n",
            "                                                  weighted avg       0.98      0.98      0.98     14429\n",
            "\n"
          ],
          "name": "stdout"
        }
      ]
    },
    {
      "cell_type": "markdown",
      "metadata": {
        "id": "PK3GlqBVAAEg",
        "colab_type": "text"
      },
      "source": [
        "If you need not only the predicted label, but the probabilities for every class:"
      ]
    },
    {
      "cell_type": "code",
      "metadata": {
        "id": "4gqDNqEB7NPH",
        "colab_type": "code",
        "colab": {}
      },
      "source": [
        "if False:\n",
        "    probs = CoiCop_Predictor.predict_proba()"
      ],
      "execution_count": 0,
      "outputs": []
    },
    {
      "cell_type": "markdown",
      "metadata": {
        "id": "0mc-zOEeAIO7",
        "colab_type": "text"
      },
      "source": [
        "## Explonation  \n",
        "  \n",
        "It shows the three best candidates for a product and highlights the words which contribute to the estimate (positiv: green, negative: red)\n",
        "If you leave the the brackets empty it will show a random product. If you want the explonation for a particular product, you can enter the text.  \n",
        "If you enter text it always needs to be in marks ''."
      ]
    },
    {
      "cell_type": "code",
      "metadata": {
        "id": "T1gClUgdwbfk",
        "colab_type": "code",
        "outputId": "e0ce1743-4fc3-49dd-9d00-44233b81f893",
        "colab": {
          "base_uri": "https://localhost:8080/",
          "height": 502
        }
      },
      "source": [
        "text = None\n",
        "categ= '1211_Coffee'\n",
        "#text = ''\n",
        "\n",
        "CoiCop_Predictor.tell_me_why(text,categ)"
      ],
      "execution_count": 15,
      "outputs": [
        {
          "output_type": "stream",
          "text": [
            "prediction 1211_Coffee\n",
            "label 1211_Coffee\n"
          ],
          "name": "stdout"
        },
        {
          "output_type": "execute_result",
          "data": {
            "text/html": [
              "\n",
              "    <style>\n",
              "    table.eli5-weights tr:hover {\n",
              "        filter: brightness(85%);\n",
              "    }\n",
              "</style>\n",
              "\n",
              "\n",
              "\n",
              "    \n",
              "\n",
              "    \n",
              "\n",
              "    \n",
              "\n",
              "    \n",
              "\n",
              "    \n",
              "\n",
              "    \n",
              "\n",
              "\n",
              "    \n",
              "\n",
              "    \n",
              "\n",
              "    \n",
              "\n",
              "    \n",
              "        \n",
              "\n",
              "    \n",
              "\n",
              "    \n",
              "        \n",
              "    \n",
              "        \n",
              "        \n",
              "    \n",
              "        <p style=\"margin-bottom: 0.5em; margin-top: 0em\">\n",
              "            <b>\n",
              "    \n",
              "        y=1211_Coffee\n",
              "    \n",
              "</b>\n",
              "\n",
              "    \n",
              "    (probability <b>0.904</b>, score <b>4.446</b>)\n",
              "\n",
              "top features\n",
              "        </p>\n",
              "    \n",
              "    <table class=\"eli5-weights\"\n",
              "           style=\"border-collapse: collapse; border: none; margin-top: 0em; table-layout: auto; margin-bottom: 2em;\">\n",
              "        <thead>\n",
              "        <tr style=\"border: none;\">\n",
              "            \n",
              "                <th style=\"padding: 0 1em 0 0.5em; text-align: right; border: none;\" title=\"Feature contribution already accounts for the feature value (for linear models, contribution = weight * feature value), and the sum of feature contributions is equal to the score or, for some classifiers, to the probability. Feature values are shown if &quot;show_feature_values&quot; is True.\">\n",
              "                    Contribution<sup>?</sup>\n",
              "                </th>\n",
              "            \n",
              "            <th style=\"padding: 0 0.5em 0 0.5em; text-align: left; border: none;\">Feature</th>\n",
              "            \n",
              "        </tr>\n",
              "        </thead>\n",
              "        <tbody>\n",
              "        \n",
              "            <tr style=\"background-color: hsl(120, 100.00%, 80.00%); border: none;\">\n",
              "    <td style=\"padding: 0 1em 0 0.5em; text-align: right; border: none;\">\n",
              "        +8.381\n",
              "    </td>\n",
              "    <td style=\"padding: 0 0.5em 0 0.5em; text-align: left; border: none;\">\n",
              "        Highlighted in text (sum)\n",
              "    </td>\n",
              "    \n",
              "</tr>\n",
              "        \n",
              "        \n",
              "\n",
              "        \n",
              "        \n",
              "            <tr style=\"background-color: hsl(0, 100.00%, 88.22%); border: none;\">\n",
              "    <td style=\"padding: 0 1em 0 0.5em; text-align: right; border: none;\">\n",
              "        -3.934\n",
              "    </td>\n",
              "    <td style=\"padding: 0 0.5em 0 0.5em; text-align: left; border: none;\">\n",
              "        &lt;BIAS&gt;\n",
              "    </td>\n",
              "    \n",
              "</tr>\n",
              "        \n",
              "\n",
              "        </tbody>\n",
              "    </table>\n",
              "\n",
              "    \n",
              "\n",
              "\n",
              "\n",
              "    <p style=\"margin-bottom: 2.5em; margin-top:-0.5em;\">\n",
              "        <span style=\"background-color: hsl(120, 100.00%, 60.00%); opacity: 1.00\" title=\"7.598\">Café</span><span style=\"opacity: 0.80\"> </span><span style=\"background-color: hsl(120, 100.00%, 97.99%); opacity: 0.80\" title=\"0.106\">en</span><span style=\"opacity: 0.80\"> </span><span style=\"background-color: hsl(120, 100.00%, 98.85%); opacity: 0.80\" title=\"0.048\">grain</span><span style=\"opacity: 0.80\"> </span><span style=\"background-color: hsl(120, 100.00%, 98.88%); opacity: 0.80\" title=\"0.046\">bio</span><span style=\"opacity: 0.80\">  </span><span style=\"background-color: hsl(120, 100.00%, 98.33%); opacity: 0.80\" title=\"0.081\">NATURELAepicerie</span><span style=\"opacity: 0.80\">-</span><span style=\"background-color: hsl(120, 100.00%, 99.14%); opacity: 0.80\" title=\"0.031\">sucreecafe</span><span style=\"opacity: 0.80\"> </span><span style=\"background-color: hsl(120, 100.00%, 98.64%); opacity: 0.80\" title=\"0.061\">grain</span><span style=\"opacity: 0.80\"> </span><span style=\"background-color: hsl(120, 100.00%, 98.41%); opacity: 0.80\" title=\"0.076\">bio</span><span style=\"opacity: 0.80\"> </span><span style=\"background-color: hsl(120, 100.00%, 98.04%); opacity: 0.80\" title=\"0.102\">naturela</span>\n",
              "    </p>\n",
              "\n",
              "    \n",
              "        \n",
              "    \n",
              "        \n",
              "        \n",
              "    \n",
              "        <p style=\"margin-bottom: 0.5em; margin-top: 0em\">\n",
              "            <b>\n",
              "    \n",
              "        y=1152_Margarine and other vegetable fats\n",
              "    \n",
              "</b>\n",
              "\n",
              "    \n",
              "    (probability <b>0.013</b>, score <b>-4.268</b>)\n",
              "\n",
              "top features\n",
              "        </p>\n",
              "    \n",
              "    <table class=\"eli5-weights\"\n",
              "           style=\"border-collapse: collapse; border: none; margin-top: 0em; table-layout: auto; margin-bottom: 2em;\">\n",
              "        <thead>\n",
              "        <tr style=\"border: none;\">\n",
              "            \n",
              "                <th style=\"padding: 0 1em 0 0.5em; text-align: right; border: none;\" title=\"Feature contribution already accounts for the feature value (for linear models, contribution = weight * feature value), and the sum of feature contributions is equal to the score or, for some classifiers, to the probability. Feature values are shown if &quot;show_feature_values&quot; is True.\">\n",
              "                    Contribution<sup>?</sup>\n",
              "                </th>\n",
              "            \n",
              "            <th style=\"padding: 0 0.5em 0 0.5em; text-align: left; border: none;\">Feature</th>\n",
              "            \n",
              "        </tr>\n",
              "        </thead>\n",
              "        <tbody>\n",
              "        \n",
              "            <tr style=\"background-color: hsl(120, 100.00%, 93.82%); border: none;\">\n",
              "    <td style=\"padding: 0 1em 0 0.5em; text-align: right; border: none;\">\n",
              "        +1.566\n",
              "    </td>\n",
              "    <td style=\"padding: 0 0.5em 0 0.5em; text-align: left; border: none;\">\n",
              "        Highlighted in text (sum)\n",
              "    </td>\n",
              "    \n",
              "</tr>\n",
              "        \n",
              "        \n",
              "\n",
              "        \n",
              "        \n",
              "            <tr style=\"background-color: hsl(0, 100.00%, 84.48%); border: none;\">\n",
              "    <td style=\"padding: 0 1em 0 0.5em; text-align: right; border: none;\">\n",
              "        -5.834\n",
              "    </td>\n",
              "    <td style=\"padding: 0 0.5em 0 0.5em; text-align: left; border: none;\">\n",
              "        &lt;BIAS&gt;\n",
              "    </td>\n",
              "    \n",
              "</tr>\n",
              "        \n",
              "\n",
              "        </tbody>\n",
              "    </table>\n",
              "\n",
              "    \n",
              "\n",
              "\n",
              "\n",
              "    <p style=\"margin-bottom: 2.5em; margin-top:-0.5em;\">\n",
              "        <span style=\"background-color: hsl(0, 100.00%, 81.77%); opacity: 0.87\" title=\"-2.473\">Café</span><span style=\"opacity: 0.80\"> </span><span style=\"background-color: hsl(120, 100.00%, 95.35%); opacity: 0.81\" title=\"0.351\">en</span><span style=\"opacity: 0.80\"> </span><span style=\"background-color: hsl(120, 100.00%, 95.85%); opacity: 0.81\" title=\"0.298\">grain</span><span style=\"opacity: 0.80\"> </span><span style=\"background-color: hsl(120, 100.00%, 96.68%); opacity: 0.81\" title=\"0.217\">bio</span><span style=\"opacity: 0.80\">  </span><span style=\"background-color: hsl(120, 100.00%, 95.97%); opacity: 0.81\" title=\"0.287\">NATURELAepicerie</span><span style=\"opacity: 0.80\">-</span><span style=\"background-color: hsl(120, 100.00%, 96.31%); opacity: 0.81\" title=\"0.252\">sucreecafe</span><span style=\"opacity: 0.80\"> </span><span style=\"background-color: hsl(120, 100.00%, 95.72%); opacity: 0.81\" title=\"0.312\">grain</span><span style=\"opacity: 0.80\"> </span><span style=\"background-color: hsl(120, 100.00%, 94.44%); opacity: 0.81\" title=\"0.453\">bio</span><span style=\"opacity: 0.80\"> </span><span style=\"background-color: hsl(120, 100.00%, 93.32%); opacity: 0.82\" title=\"0.589\">naturela</span>\n",
              "    </p>\n",
              "\n",
              "    \n",
              "        \n",
              "    \n",
              "        \n",
              "        \n",
              "    \n",
              "        <p style=\"margin-bottom: 0.5em; margin-top: 0em\">\n",
              "            <b>\n",
              "    \n",
              "        y=1154_Other edible oils\n",
              "    \n",
              "</b>\n",
              "\n",
              "    \n",
              "    (probability <b>0.009</b>, score <b>-4.573</b>)\n",
              "\n",
              "top features\n",
              "        </p>\n",
              "    \n",
              "    <table class=\"eli5-weights\"\n",
              "           style=\"border-collapse: collapse; border: none; margin-top: 0em; table-layout: auto; margin-bottom: 2em;\">\n",
              "        <thead>\n",
              "        <tr style=\"border: none;\">\n",
              "            \n",
              "                <th style=\"padding: 0 1em 0 0.5em; text-align: right; border: none;\" title=\"Feature contribution already accounts for the feature value (for linear models, contribution = weight * feature value), and the sum of feature contributions is equal to the score or, for some classifiers, to the probability. Feature values are shown if &quot;show_feature_values&quot; is True.\">\n",
              "                    Contribution<sup>?</sup>\n",
              "                </th>\n",
              "            \n",
              "            <th style=\"padding: 0 0.5em 0 0.5em; text-align: left; border: none;\">Feature</th>\n",
              "            \n",
              "        </tr>\n",
              "        </thead>\n",
              "        <tbody>\n",
              "        \n",
              "            <tr style=\"background-color: hsl(120, 100.00%, 96.40%); border: none;\">\n",
              "    <td style=\"padding: 0 1em 0 0.5em; text-align: right; border: none;\">\n",
              "        +0.723\n",
              "    </td>\n",
              "    <td style=\"padding: 0 0.5em 0 0.5em; text-align: left; border: none;\">\n",
              "        Highlighted in text (sum)\n",
              "    </td>\n",
              "    \n",
              "</tr>\n",
              "        \n",
              "        \n",
              "\n",
              "        \n",
              "        \n",
              "            <tr style=\"background-color: hsl(0, 100.00%, 85.50%); border: none;\">\n",
              "    <td style=\"padding: 0 1em 0 0.5em; text-align: right; border: none;\">\n",
              "        -5.296\n",
              "    </td>\n",
              "    <td style=\"padding: 0 0.5em 0 0.5em; text-align: left; border: none;\">\n",
              "        &lt;BIAS&gt;\n",
              "    </td>\n",
              "    \n",
              "</tr>\n",
              "        \n",
              "\n",
              "        </tbody>\n",
              "    </table>\n",
              "\n",
              "    \n",
              "\n",
              "\n",
              "\n",
              "    <p style=\"margin-bottom: 2.5em; margin-top:-0.5em;\">\n",
              "        <span style=\"background-color: hsl(0, 100.00%, 83.02%); opacity: 0.86\" title=\"-2.235\">Café</span><span style=\"opacity: 0.80\"> </span><span style=\"background-color: hsl(120, 100.00%, 95.91%); opacity: 0.81\" title=\"0.292\">en</span><span style=\"opacity: 0.80\"> </span><span style=\"background-color: hsl(120, 100.00%, 96.96%); opacity: 0.81\" title=\"0.191\">grain</span><span style=\"opacity: 0.80\"> </span><span style=\"background-color: hsl(120, 100.00%, 97.90%); opacity: 0.80\" title=\"0.113\">bio</span><span style=\"opacity: 0.80\">  </span><span style=\"background-color: hsl(120, 100.00%, 96.70%); opacity: 0.81\" title=\"0.215\">NATURELAepicerie</span><span style=\"opacity: 0.80\">-</span><span style=\"background-color: hsl(120, 100.00%, 97.75%); opacity: 0.80\" title=\"0.125\">sucreecafe</span><span style=\"opacity: 0.80\"> </span><span style=\"background-color: hsl(120, 100.00%, 96.51%); opacity: 0.81\" title=\"0.233\">grain</span><span style=\"opacity: 0.80\"> </span><span style=\"background-color: hsl(120, 100.00%, 95.21%); opacity: 0.81\" title=\"0.366\">bio</span><span style=\"opacity: 0.80\"> </span><span style=\"background-color: hsl(120, 100.00%, 93.88%); opacity: 0.81\" title=\"0.519\">naturela</span>\n",
              "    </p>\n",
              "\n",
              "    \n",
              "\n",
              "\n",
              "    \n",
              "\n",
              "    \n",
              "\n",
              "    \n",
              "\n",
              "\n",
              "    \n",
              "\n",
              "    \n",
              "\n",
              "    \n",
              "\n",
              "    \n",
              "\n",
              "    \n",
              "\n",
              "    \n",
              "\n",
              "\n",
              "    \n",
              "\n",
              "    \n",
              "\n",
              "    \n",
              "\n",
              "    \n",
              "\n",
              "    \n",
              "\n",
              "    \n",
              "\n",
              "\n",
              "\n"
            ],
            "text/plain": [
              "Explanation(estimator=\"SGDClassifier(alpha=0.001, average=False, class_weight=None,\\n              early_stopping=False, epsilon=0.1, eta0=0.0, fit_intercept=True,\\n              l1_ratio=0.15, learning_rate='optimal', loss='log', max_iter=1000,\\n              n_iter_no_change=5, n_jobs=None, penalty='elasticnet',\\n              power_t=0.5, random_state=RandomState(MT19937) at 0x7FEF3DF56780,\\n              shuffle=True, tol=0.001, validation_fraction=0.1, verbose=0,\\n              warm_start=False)\", description=None, error=None, method='linear model', is_regression=False, targets=[TargetExplanation(target='1211_Coffee', feature_weights=FeatureWeights(pos=[FeatureWeight(feature='[0] Café', weight=7.59814837202199, std=None, value=1.0), FeatureWeight(feature='[7] bio', weight=0.15227010953343062, std=None, value=1.0), FeatureWeight(feature='[6] grain', weight=0.1217498341173934, std=None, value=1.0), FeatureWeight(feature='[1] en', weight=0.10625680153284472, std=None, value=1.0), FeatureWeight(feature='[8] naturela', weight=0.10247408545160125, std=None, value=1.0), FeatureWeight(feature='[2] grain', weight=0.09546987056613773, std=None, value=1.0), FeatureWeight(feature='[3] bio', weight=0.09197251371984028, std=None, value=1.0), FeatureWeight(feature='[4] NATURELAepicerie', weight=0.08117351735640266, std=None, value=1.0), FeatureWeight(feature='[5] sucreecafe', weight=0.03133860932317689, std=None, value=1.0)], neg=[FeatureWeight(feature='<BIAS>', weight=-3.9344130728877076, std=None, value=1.0)], pos_remaining=0, neg_remaining=0), proba=0.9038406066871352, score=4.44644064073511, weighted_spans=WeightedSpans(docs_weighted_spans=[DocWeightedSpans(document='Café en grain bio  NATURELAepicerie-sucreecafe grain bio naturela', spans=[('Café', [(0, 4)], 7.59814837202199), ('en', [(5, 7)], 0.10625680153284472), ('grain', [(8, 13)], 0.09546987056613773), ('bio', [(14, 17)], 0.09197251371984028), ('NATURELAepicerie', [(19, 35)], 0.08117351735640266), ('sucreecafe', [(36, 46)], 0.03133860932317689), ('grain', [(47, 52)], 0.1217498341173934), ('bio', [(53, 56)], 0.15227010953343062), ('naturela', [(57, 65)], 0.10247408545160125)], preserve_density=False, vec_name=None)], other=FeatureWeights(pos=[FeatureWeight(feature=<FormattedFeatureName 'Highlighted in text (sum)'>, weight=8.380853713622818, std=None, value=None)], neg=[FeatureWeight(feature='<BIAS>', weight=-3.9344130728877076, std=None, value=1.0)], pos_remaining=0, neg_remaining=0)), heatmap=None), TargetExplanation(target='1152_Margarine and other vegetable fats', feature_weights=FeatureWeights(pos=[FeatureWeight(feature='[7] bio', weight=0.9064999575647864, std=None, value=1.0), FeatureWeight(feature='[6] grain', weight=0.6230970635226597, std=None, value=1.0), FeatureWeight(feature='[2] grain', weight=0.596184411117542, std=None, value=1.0), FeatureWeight(feature='[8] naturela', weight=0.58911734750003, std=None, value=1.0), FeatureWeight(feature='[3] bio', weight=0.43421160123919544, std=None, value=1.0), FeatureWeight(feature='[1] en', weight=0.3509193721662078, std=None, value=1.0), FeatureWeight(feature='[4] NATURELAepicerie', weight=0.2865671904804051, std=None, value=1.0), FeatureWeight(feature='[5] sucreecafe', weight=0.2519345125618529, std=None, value=1.0)], neg=[FeatureWeight(feature='<BIAS>', weight=-5.834115587886433, std=None, value=1.0), FeatureWeight(feature='[0] Café', weight=-2.472589424349803, std=None, value=1.0)], pos_remaining=0, neg_remaining=0), proba=0.012631849732587686, score=-4.268173556083556, weighted_spans=WeightedSpans(docs_weighted_spans=[DocWeightedSpans(document='Café en grain bio  NATURELAepicerie-sucreecafe grain bio naturela', spans=[('Café', [(0, 4)], -2.472589424349803), ('en', [(5, 7)], 0.3509193721662078), ('grain', [(8, 13)], 0.596184411117542), ('bio', [(14, 17)], 0.43421160123919544), ('NATURELAepicerie', [(19, 35)], 0.2865671904804051), ('sucreecafe', [(36, 46)], 0.2519345125618529), ('grain', [(47, 52)], 0.6230970635226597), ('bio', [(53, 56)], 0.9064999575647864), ('naturela', [(57, 65)], 0.58911734750003)], preserve_density=False, vec_name=None)], other=FeatureWeights(pos=[FeatureWeight(feature=<FormattedFeatureName 'Highlighted in text (sum)'>, weight=1.565942031802876, std=None, value=None)], neg=[FeatureWeight(feature='<BIAS>', weight=-5.834115587886433, std=None, value=1.0)], pos_remaining=0, neg_remaining=0)), heatmap=None), TargetExplanation(target='1154_Other edible oils', feature_weights=FeatureWeights(pos=[FeatureWeight(feature='[7] bio', weight=0.7323816772079255, std=None, value=1.0), FeatureWeight(feature='[8] naturela', weight=0.5194147272701433, std=None, value=1.0), FeatureWeight(feature='[6] grain', weight=0.4665150943689567, std=None, value=1.0), FeatureWeight(feature='[2] grain', weight=0.382027755568963, std=None, value=1.0), FeatureWeight(feature='[1] en', weight=0.2921479307100982, std=None, value=1.0), FeatureWeight(feature='[3] bio', weight=0.22564903473110798, std=None, value=1.0), FeatureWeight(feature='[4] NATURELAepicerie', weight=0.21517137834631095, std=None, value=1.0), FeatureWeight(feature='[5] sucreecafe', weight=0.1245291161828021, std=None, value=1.0)], neg=[FeatureWeight(feature='<BIAS>', weight=-5.296043440136213, std=None, value=1.0), FeatureWeight(feature='[0] Café', weight=-2.23497036626831, std=None, value=1.0)], pos_remaining=0, neg_remaining=0), proba=0.009345134452103263, score=-4.5731770920182155, weighted_spans=WeightedSpans(docs_weighted_spans=[DocWeightedSpans(document='Café en grain bio  NATURELAepicerie-sucreecafe grain bio naturela', spans=[('Café', [(0, 4)], -2.23497036626831), ('en', [(5, 7)], 0.2921479307100982), ('grain', [(8, 13)], 0.382027755568963), ('bio', [(14, 17)], 0.22564903473110798), ('NATURELAepicerie', [(19, 35)], 0.21517137834631095), ('sucreecafe', [(36, 46)], 0.1245291161828021), ('grain', [(47, 52)], 0.4665150943689567), ('bio', [(53, 56)], 0.7323816772079255), ('naturela', [(57, 65)], 0.5194147272701433)], preserve_density=False, vec_name=None)], other=FeatureWeights(pos=[FeatureWeight(feature=<FormattedFeatureName 'Highlighted in text (sum)'>, weight=0.7228663481179978, std=None, value=None)], neg=[FeatureWeight(feature='<BIAS>', weight=-5.296043440136213, std=None, value=1.0)], pos_remaining=0, neg_remaining=0)), heatmap=None)], feature_importances=None, decision_tree=None, highlight_spaces=None, transition_features=None, image=None)"
            ]
          },
          "metadata": {
            "tags": []
          },
          "execution_count": 15
        }
      ]
    },
    {
      "cell_type": "markdown",
      "metadata": {
        "id": "IY0AadWFCUj5",
        "colab_type": "text"
      },
      "source": [
        "Get the data bach from the predictor and find the new columns ['cc3_pred','cc4_pred','cc5_pred'] which store the predicted labels."
      ]
    },
    {
      "cell_type": "code",
      "metadata": {
        "id": "l1LdhBqYHebo",
        "colab_type": "code",
        "outputId": "d189a4fa-7563-47fd-f278-cee997621b0a",
        "colab": {
          "base_uri": "https://localhost:8080/",
          "height": 181
        }
      },
      "source": [
        "df = CoiCop_Predictor.get_df()\n",
        "df[:1]"
      ],
      "execution_count": 16,
      "outputs": [
        {
          "output_type": "execute_result",
          "data": {
            "text/html": [
              "<div>\n",
              "<style scoped>\n",
              "    .dataframe tbody tr th:only-of-type {\n",
              "        vertical-align: middle;\n",
              "    }\n",
              "\n",
              "    .dataframe tbody tr th {\n",
              "        vertical-align: top;\n",
              "    }\n",
              "\n",
              "    .dataframe thead th {\n",
              "        text-align: right;\n",
              "    }\n",
              "</style>\n",
              "<table border=\"1\" class=\"dataframe\">\n",
              "  <thead>\n",
              "    <tr style=\"text-align: right;\">\n",
              "      <th></th>\n",
              "      <th>Unnamed: 0</th>\n",
              "      <th>lang</th>\n",
              "      <th>name</th>\n",
              "      <th>categ</th>\n",
              "      <th>prod_desc</th>\n",
              "      <th>text_other</th>\n",
              "      <th>url</th>\n",
              "      <th>words_from_url</th>\n",
              "      <th>unit</th>\n",
              "      <th>cc3</th>\n",
              "      <th>cc4</th>\n",
              "      <th>cc5</th>\n",
              "      <th>cc3_pred</th>\n",
              "      <th>cc4_pred</th>\n",
              "      <th>cc5_pred</th>\n",
              "      <th>shop</th>\n",
              "      <th>brand</th>\n",
              "      <th>price</th>\n",
              "      <th>id</th>\n",
              "      <th>labeld_by</th>\n",
              "      <th>url_text</th>\n",
              "      <th>text</th>\n",
              "    </tr>\n",
              "  </thead>\n",
              "  <tbody>\n",
              "    <tr>\n",
              "      <th>193227</th>\n",
              "      <td>186523</td>\n",
              "      <td>fr</td>\n",
              "      <td>Fromage de brebis crème à tartiner SOCIETE</td>\n",
              "      <td>cremerie</td>\n",
              "      <td>NaN</td>\n",
              "      <td>NaN</td>\n",
              "      <td>https://www.carrefour.fr/p/fromage-de-brebis-c...</td>\n",
              "      <td>fromage brebis creme tartiner societe</td>\n",
              "      <td>NaN</td>\n",
              "      <td>NaN</td>\n",
              "      <td>NaN</td>\n",
              "      <td>1145_Cheese and curd</td>\n",
              "      <td>11_Food</td>\n",
              "      <td>114_Milk, cheese and eggs</td>\n",
              "      <td>1145_Cheese and curd</td>\n",
              "      <td>banque_de_france</td>\n",
              "      <td>NaN</td>\n",
              "      <td>NaN</td>\n",
              "      <td>30005501</td>\n",
              "      <td>NaN</td>\n",
              "      <td>fromage brebis creme tartiner societe</td>\n",
              "      <td>Fromage de brebis crème à tartiner SOCIETEcrem...</td>\n",
              "    </tr>\n",
              "  </tbody>\n",
              "</table>\n",
              "</div>"
            ],
            "text/plain": [
              "       Unnamed: 0  ...                                               text\n",
              "193227     186523  ...  Fromage de brebis crème à tartiner SOCIETEcrem...\n",
              "\n",
              "[1 rows x 22 columns]"
            ]
          },
          "metadata": {
            "tags": []
          },
          "execution_count": 16
        }
      ]
    },
    {
      "cell_type": "markdown",
      "metadata": {
        "id": "SMjTYrR87e4K",
        "colab_type": "text"
      },
      "source": [
        "# Annotation"
      ]
    },
    {
      "cell_type": "markdown",
      "metadata": {
        "id": "FGBoWMkJ_HPd",
        "colab_type": "text"
      },
      "source": [
        "For the annotation tool you have to specify the naes of certain columns in your dataframe which the tool will use.  \n",
        "* Labeled_by takes your name and stores it after every item you labeld.  \n",
        "* Text column 1 is the name of the column for the first line of text which will be displayed to help you labeling the product, usually this is the product name.  \n",
        "* Text column 2 is the name of the column for the second line of text which will be displayed to help you labeling the product, this could be the category or the translation.  \n",
        "* The URL column is the name of the column where the url of the scraped product is located (if it is in the dataframe). The url might be helpfull if you are unsure about the product nd want to look up the whole page on the website. If you do not have the url in your data you can leave it empty.  \n",
        "* CoiCop 5 prediction is the column where the prediction is stored. The prediction will appear preselected in the dropdown menu.   \n",
        "  \n",
        "The data are sorted in a way that catogies with few labels come first, if predictions of those label are available.\n"
      ]
    },
    {
      "cell_type": "code",
      "metadata": {
        "id": "1xmoZj7JdS0o",
        "colab_type": "code",
        "colab": {}
      },
      "source": [
        "# init labeler\n",
        "\n",
        "labeled_by = 'Erik'\n",
        "text_column_1 = 'name'\n",
        "text_column_2 = 'categ'\n",
        "url_column = 'url'\n",
        "CoiCop_5_pred_col = 'cc5_pred'\n",
        "\n",
        "CoiCop_Labeler = labeler_cc5.labeler( labeled_by\n",
        "                        , df\n",
        "                        , text_column_1\n",
        "                        , text_column_2\n",
        "                        , url_column\n",
        "                        , CoiCop_5_pred_col)"
      ],
      "execution_count": 0,
      "outputs": []
    },
    {
      "cell_type": "markdown",
      "metadata": {
        "id": "Ph_zFG30BeEn",
        "colab_type": "text"
      },
      "source": [
        "Now you are ready to label, after executing the next line you will see:\n",
        "* Text 1\n",
        "* Text 2\n",
        "* URL\n",
        "* Dropdown with one category which is the prediction for the product. If you are dissatisfied with it, you can click on the dropdown and select the right one.\n",
        "* Next-Button will skip this product\n",
        "* Save-Button will annotate the selected category to your dataframe\n",
        "  \n",
        "If you finished labeling just jump to the next line."
      ]
    },
    {
      "cell_type": "code",
      "metadata": {
        "id": "soYye5zedVXk",
        "colab_type": "code",
        "outputId": "7d7a8cc4-8bfd-4a75-e4e3-6b1cd43e0472",
        "colab": {
          "base_uri": "https://localhost:8080/",
          "height": 225,
          "referenced_widgets": [
            "7147a0f06d6f422c9a9383472881f8c8",
            "047dfdbbd37144f1a40545f7566ce3ac",
            "d6cbf03d6dba4ef998ad29160b1a3bb3",
            "daae8d618c25498093c9ab0147d32649",
            "37c0b3cbbcee4914b3b197ee778b770f",
            "8f9596a1a6d7429cb6afd76e9d204c11",
            "3318ee2055dc4e5bb8868641a6401602",
            "238ec235585a40acb484fb75e74a01a0",
            "b5297bd187a84c6895941e98cfede6f7",
            "b012122124dd43e79c674d6cf436ebfe",
            "f1225de4fa94441d9da08077e334d471",
            "cd8c6b71b0344a7fa0922239f9911871",
            "f2b1f29a445b4b63a61e0ffa82595e5c",
            "3475c83c7410429bb48b647386718d2d",
            "63bb22865b3446c6b38516a899e9a358",
            "122c993d7aec436b806d5b73ab4af981",
            "758292347f6b443e8e479d8d525651e0",
            "eea40faa867f40559a06575778391ef5",
            "022aa63250a94fb8b467f4a2157ddc6b",
            "bdf09a6330434163bb27b4fed3fae216",
            "55e404b00a9c47238fbcbe1320378efc",
            "f01eae5e9df24a778f3a8785b6b1c6b0",
            "6903d6b463454526891eb78f97fbda8e",
            "eb511fdd7bb54cbfa3034ce8da329bd2",
            "485b818eac7b437da4af7a34b355fdf8",
            "928f8c60efe747438debe9b1b70946c6",
            "255a750aa8f54b8aac6872b1864d7077",
            "f316d0f654f045d991096e6608aa25a8",
            "185a4e38c60246c28a9eb21f5b9124b3",
            "747c20eb63e04ee09257d09379a67081"
          ]
        }
      },
      "source": [
        "CoiCop_Labeler.start_to_label()"
      ],
      "execution_count": 18,
      "outputs": [
        {
          "output_type": "display_data",
          "data": {
            "application/vnd.jupyter.widget-view+json": {
              "model_id": "7147a0f06d6f422c9a9383472881f8c8",
              "version_minor": 0,
              "version_major": 2
            },
            "text/plain": [
              "VBox(children=(Text(value='Huile soleil cheveux ULTRA DOUX', description='Text 1:', layout=Layout(height='40px…"
            ]
          },
          "metadata": {
            "tags": []
          }
        }
      ]
    },
    {
      "cell_type": "markdown",
      "metadata": {
        "id": "zlEm5YPfCff9",
        "colab_type": "text"
      },
      "source": [
        "The next line will print out your current progress of annotating the data."
      ]
    },
    {
      "cell_type": "code",
      "metadata": {
        "id": "kWzefcaMdXh9",
        "colab_type": "code",
        "outputId": "0fc68352-d236-4a4a-902a-21b039ac84e2",
        "colab": {
          "base_uri": "https://localhost:8080/",
          "height": 50
        }
      },
      "source": [
        "CoiCop_Labeler.get_stats()"
      ],
      "execution_count": 19,
      "outputs": [
        {
          "output_type": "stream",
          "text": [
            "new labels: 2\n",
            "in total 14431 of 14910 labeled ( 97.0 %)\n"
          ],
          "name": "stdout"
        }
      ]
    },
    {
      "cell_type": "markdown",
      "metadata": {
        "id": "PGSEDm3EDSpT",
        "colab_type": "text"
      },
      "source": [
        "Output the data including annotation."
      ]
    },
    {
      "cell_type": "code",
      "metadata": {
        "id": "3051UrA5dZT0",
        "colab_type": "code",
        "outputId": "413aed96-b41c-4f67-d89c-be1d756f2ff5",
        "colab": {
          "base_uri": "https://localhost:8080/",
          "height": 164
        }
      },
      "source": [
        "df_new = CoiCop_Labeler.output_labels()\n",
        "df_new[:1]"
      ],
      "execution_count": 20,
      "outputs": [
        {
          "output_type": "execute_result",
          "data": {
            "text/html": [
              "<div>\n",
              "<style scoped>\n",
              "    .dataframe tbody tr th:only-of-type {\n",
              "        vertical-align: middle;\n",
              "    }\n",
              "\n",
              "    .dataframe tbody tr th {\n",
              "        vertical-align: top;\n",
              "    }\n",
              "\n",
              "    .dataframe thead th {\n",
              "        text-align: right;\n",
              "    }\n",
              "</style>\n",
              "<table border=\"1\" class=\"dataframe\">\n",
              "  <thead>\n",
              "    <tr style=\"text-align: right;\">\n",
              "      <th></th>\n",
              "      <th>lang</th>\n",
              "      <th>name</th>\n",
              "      <th>categ</th>\n",
              "      <th>prod_desc</th>\n",
              "      <th>text_other</th>\n",
              "      <th>url</th>\n",
              "      <th>words_from_url</th>\n",
              "      <th>unit</th>\n",
              "      <th>cc3</th>\n",
              "      <th>cc4</th>\n",
              "      <th>cc5</th>\n",
              "      <th>cc3_pred</th>\n",
              "      <th>cc4_pred</th>\n",
              "      <th>cc5_pred</th>\n",
              "      <th>shop</th>\n",
              "      <th>brand</th>\n",
              "      <th>price</th>\n",
              "      <th>id</th>\n",
              "      <th>labeld_by</th>\n",
              "      <th>url_text</th>\n",
              "      <th>text</th>\n",
              "      <th>labeled_by</th>\n",
              "      <th>sort_columns</th>\n",
              "    </tr>\n",
              "  </thead>\n",
              "  <tbody>\n",
              "    <tr>\n",
              "      <th>0</th>\n",
              "      <td>fr</td>\n",
              "      <td>Huile soleil cheveux ULTRA DOUX</td>\n",
              "      <td>hygiene-et-beaute</td>\n",
              "      <td>NaN</td>\n",
              "      <td>NaN</td>\n",
              "      <td>https://www.carrefour.fr/p/huile-soleil-cheveu...</td>\n",
              "      <td>huile soleil cheveux ultra doux</td>\n",
              "      <td>NaN</td>\n",
              "      <td>NaN</td>\n",
              "      <td>NaN</td>\n",
              "      <td>NaN</td>\n",
              "      <td>99_Non-Food</td>\n",
              "      <td>999_Non-Food</td>\n",
              "      <td>9999_Non-Food</td>\n",
              "      <td>banque_de_france</td>\n",
              "      <td>NaN</td>\n",
              "      <td>NaN</td>\n",
              "      <td>3600541676596</td>\n",
              "      <td>NaN</td>\n",
              "      <td>huile soleil cheveux ultra doux</td>\n",
              "      <td>Huile soleil cheveux ULTRA DOUXhygiene-et-beau...</td>\n",
              "      <td>None</td>\n",
              "      <td>49</td>\n",
              "    </tr>\n",
              "  </tbody>\n",
              "</table>\n",
              "</div>"
            ],
            "text/plain": [
              "  lang                             name  ... labeled_by sort_columns\n",
              "0   fr  Huile soleil cheveux ULTRA DOUX  ...       None           49\n",
              "\n",
              "[1 rows x 23 columns]"
            ]
          },
          "metadata": {
            "tags": []
          },
          "execution_count": 20
        }
      ]
    },
    {
      "cell_type": "markdown",
      "metadata": {
        "id": "5WGhgHO8EbTq",
        "colab_type": "text"
      },
      "source": [
        "## Save data to Local Drive"
      ]
    },
    {
      "cell_type": "code",
      "metadata": {
        "id": "KnQkARJggsWg",
        "colab_type": "code",
        "colab": {}
      },
      "source": [
        "from google.colab import files\n",
        "\n",
        "df.to_csv('df_out.csv',sep='|')\n",
        "files.download('df_out.csv')"
      ],
      "execution_count": 0,
      "outputs": []
    },
    {
      "cell_type": "markdown",
      "metadata": {
        "id": "mP34Q9mpNBl1",
        "colab_type": "text"
      },
      "source": [
        "## Save data to Google Drive"
      ]
    },
    {
      "cell_type": "code",
      "metadata": {
        "id": "KhwdHI3lM_lt",
        "colab_type": "code",
        "colab": {
          "base_uri": "https://localhost:8080/",
          "height": 33
        },
        "outputId": "beffb4fd-e4ec-4586-e322-ddb098f22a99"
      },
      "source": [
        "\n",
        "if False:\n",
        "    print(path+data_path+file_path,'saved')\n",
        "    df.to_csv(path+data_path+file_path,sep='|')"
      ],
      "execution_count": 87,
      "outputs": [
        {
          "output_type": "stream",
          "text": [
            "/content/gdrive/My Drive/Thesis_ecb_ecoicop/data/fra/eantoclassifyECB.csv saved\n"
          ],
          "name": "stdout"
        }
      ]
    },
    {
      "cell_type": "code",
      "metadata": {
        "id": "CM7zWC7fDPNe",
        "colab_type": "code",
        "colab": {}
      },
      "source": [
        ""
      ],
      "execution_count": 0,
      "outputs": []
    }
  ]
}