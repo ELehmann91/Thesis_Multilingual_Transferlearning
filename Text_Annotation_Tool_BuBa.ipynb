{
  "nbformat": 4,
  "nbformat_minor": 0,
  "metadata": {
    "colab": {
      "name": "Text_Annotation_Tool.ipynb",
      "provenance": [],
      "collapsed_sections": [
        "DIJ6I9wWjUyL",
        "mP34Q9mpNBl1"
      ],
      "authorship_tag": "ABX9TyPEGNQTf9Oa7eNPdKRtadan",
      "include_colab_link": true
    },
    "kernelspec": {
      "name": "python3",
      "display_name": "Python 3"
    },
    "widgets": {
      "application/vnd.jupyter.widget-state+json": {
        "3238bcafb4334fe69a30b02eb4df001c": {
          "model_module": "@jupyter-widgets/controls",
          "model_name": "VBoxModel",
          "state": {
            "_view_name": "VBoxView",
            "_dom_classes": [],
            "_model_name": "VBoxModel",
            "_view_module": "@jupyter-widgets/controls",
            "_model_module_version": "1.5.0",
            "_view_count": null,
            "_view_module_version": "1.5.0",
            "box_style": "",
            "layout": "IPY_MODEL_eca7e8e92aeb4a96b7819a2f340cb152",
            "_model_module": "@jupyter-widgets/controls",
            "children": [
              "IPY_MODEL_844f5a85240f4b56b5c184fec5caf55c",
              "IPY_MODEL_9bfec0aed45a475093f328a07057b02f",
              "IPY_MODEL_3dfad39b0a7f42b9a77c8026d04cf97e",
              "IPY_MODEL_999c7773cc2248ff9a053b82a0caa5a1",
              "IPY_MODEL_8ba729a209bb482291683f96c8710468",
              "IPY_MODEL_b8982228880a4df9acd10cb0261dcdb8"
            ]
          }
        },
        "eca7e8e92aeb4a96b7819a2f340cb152": {
          "model_module": "@jupyter-widgets/base",
          "model_name": "LayoutModel",
          "state": {
            "_view_name": "LayoutView",
            "grid_template_rows": null,
            "right": null,
            "justify_content": null,
            "_view_module": "@jupyter-widgets/base",
            "overflow": null,
            "_model_module_version": "1.2.0",
            "_view_count": null,
            "flex_flow": null,
            "width": null,
            "min_width": null,
            "border": null,
            "align_items": null,
            "bottom": null,
            "_model_module": "@jupyter-widgets/base",
            "top": null,
            "grid_column": null,
            "overflow_y": null,
            "overflow_x": null,
            "grid_auto_flow": null,
            "grid_area": null,
            "grid_template_columns": null,
            "flex": null,
            "_model_name": "LayoutModel",
            "justify_items": null,
            "grid_row": null,
            "max_height": null,
            "align_content": null,
            "visibility": null,
            "align_self": null,
            "height": null,
            "min_height": null,
            "padding": null,
            "grid_auto_rows": null,
            "grid_gap": null,
            "max_width": null,
            "order": null,
            "_view_module_version": "1.2.0",
            "grid_template_areas": null,
            "object_position": null,
            "object_fit": null,
            "grid_auto_columns": null,
            "margin": null,
            "display": null,
            "left": null
          }
        },
        "844f5a85240f4b56b5c184fec5caf55c": {
          "model_module": "@jupyter-widgets/controls",
          "model_name": "BoxModel",
          "state": {
            "_view_name": "BoxView",
            "_dom_classes": [],
            "_model_name": "BoxModel",
            "_view_module": "@jupyter-widgets/controls",
            "_model_module_version": "1.5.0",
            "_view_count": null,
            "_view_module_version": "1.5.0",
            "box_style": "",
            "layout": "IPY_MODEL_ce24ca6928a4466fb8fe18587b65e197",
            "_model_module": "@jupyter-widgets/controls",
            "children": [
              "IPY_MODEL_3de281d8b04c44fd804b8859900ccf76",
              "IPY_MODEL_46654ba49b5046ea952173a3e73f1979"
            ]
          }
        },
        "9bfec0aed45a475093f328a07057b02f": {
          "model_module": "@jupyter-widgets/controls",
          "model_name": "TextModel",
          "state": {
            "_view_name": "TextView",
            "style": "IPY_MODEL_127815837ec744ad86d847499fdff9e9",
            "_dom_classes": [],
            "description": "Text 1:",
            "_model_name": "TextModel",
            "placeholder": "​",
            "_view_module": "@jupyter-widgets/controls",
            "_model_module_version": "1.5.0",
            "value": "BH's",
            "_view_count": null,
            "disabled": false,
            "_view_module_version": "1.5.0",
            "continuous_update": true,
            "description_tooltip": null,
            "_model_module": "@jupyter-widgets/controls",
            "layout": "IPY_MODEL_373eb713e27a45b78e0662de0a9a3bae"
          }
        },
        "3dfad39b0a7f42b9a77c8026d04cf97e": {
          "model_module": "@jupyter-widgets/controls",
          "model_name": "TextModel",
          "state": {
            "_view_name": "TextView",
            "style": "IPY_MODEL_f8f8df3a9db94c019a9a971a6b6a31f6",
            "_dom_classes": [],
            "description": "Text 2:",
            "_model_name": "TextModel",
            "placeholder": "​",
            "_view_module": "@jupyter-widgets/controls",
            "_model_module_version": "1.5.0",
            "value": "Miederwaren/Dessous-Damen",
            "_view_count": null,
            "disabled": false,
            "_view_module_version": "1.5.0",
            "continuous_update": true,
            "description_tooltip": null,
            "_model_module": "@jupyter-widgets/controls",
            "layout": "IPY_MODEL_449a8e0619444de7b32a77ed9217580f"
          }
        },
        "999c7773cc2248ff9a053b82a0caa5a1": {
          "model_module": "@jupyter-widgets/controls",
          "model_name": "TextModel",
          "state": {
            "_view_name": "TextView",
            "style": "IPY_MODEL_0eb33ebb094842eb8bdde400595d220f",
            "_dom_classes": [],
            "description": "Url:",
            "_model_name": "TextModel",
            "placeholder": "​",
            "_view_module": "@jupyter-widgets/controls",
            "_model_module_version": "1.5.0",
            "value": "unknown",
            "_view_count": null,
            "disabled": false,
            "_view_module_version": "1.5.0",
            "continuous_update": true,
            "description_tooltip": null,
            "_model_module": "@jupyter-widgets/controls",
            "layout": "IPY_MODEL_40cd13b1c5cd4b5186773a6db79a7712"
          }
        },
        "8ba729a209bb482291683f96c8710468": {
          "model_module": "@jupyter-widgets/controls",
          "model_name": "BoxModel",
          "state": {
            "_view_name": "BoxView",
            "_dom_classes": [],
            "_model_name": "BoxModel",
            "_view_module": "@jupyter-widgets/controls",
            "_model_module_version": "1.5.0",
            "_view_count": null,
            "_view_module_version": "1.5.0",
            "box_style": "",
            "layout": "IPY_MODEL_058a18ed028d4084a0a847dfcca1fecf",
            "_model_module": "@jupyter-widgets/controls",
            "children": [
              "IPY_MODEL_f449840b1b4845a5b18fa52fb9422c63",
              "IPY_MODEL_2939de08fc2c491eb19943bcb5239e5a"
            ]
          }
        },
        "b8982228880a4df9acd10cb0261dcdb8": {
          "model_module": "@jupyter-widgets/controls",
          "model_name": "BoxModel",
          "state": {
            "_view_name": "BoxView",
            "_dom_classes": [],
            "_model_name": "BoxModel",
            "_view_module": "@jupyter-widgets/controls",
            "_model_module_version": "1.5.0",
            "_view_count": null,
            "_view_module_version": "1.5.0",
            "box_style": "",
            "layout": "IPY_MODEL_01abb12678894383971517d6c328e4c2",
            "_model_module": "@jupyter-widgets/controls",
            "children": [
              "IPY_MODEL_42ad84a49fc24142a33f7c86b2b786a8",
              "IPY_MODEL_5c5e714c06f64a29887a9657dc017b8b",
              "IPY_MODEL_e93558bf03ad4bb4a2609fcb8bc3fdb1",
              "IPY_MODEL_4c01f2b2cac94741922f86617fc4cc04"
            ]
          }
        },
        "ce24ca6928a4466fb8fe18587b65e197": {
          "model_module": "@jupyter-widgets/base",
          "model_name": "LayoutModel",
          "state": {
            "_view_name": "LayoutView",
            "grid_template_rows": null,
            "right": null,
            "justify_content": null,
            "_view_module": "@jupyter-widgets/base",
            "overflow": null,
            "_model_module_version": "1.2.0",
            "_view_count": null,
            "flex_flow": "column",
            "width": "80%",
            "min_width": null,
            "border": null,
            "align_items": "stretch",
            "bottom": null,
            "_model_module": "@jupyter-widgets/base",
            "top": null,
            "grid_column": null,
            "overflow_y": null,
            "overflow_x": null,
            "grid_auto_flow": null,
            "grid_area": null,
            "grid_template_columns": null,
            "flex": null,
            "_model_name": "LayoutModel",
            "justify_items": null,
            "grid_row": null,
            "max_height": null,
            "align_content": "center",
            "visibility": null,
            "align_self": null,
            "height": null,
            "min_height": null,
            "padding": null,
            "grid_auto_rows": null,
            "grid_gap": null,
            "max_width": null,
            "order": null,
            "_view_module_version": "1.2.0",
            "grid_template_areas": null,
            "object_position": null,
            "object_fit": null,
            "grid_auto_columns": null,
            "margin": null,
            "display": "flex",
            "left": null
          }
        },
        "3de281d8b04c44fd804b8859900ccf76": {
          "model_module": "@jupyter-widgets/controls",
          "model_name": "DropdownModel",
          "state": {
            "_options_labels": [
              "9999_Non-Food",
              "1211_Coffee",
              "1117_Breakfast cereals",
              "1192_Salt, spices and culinary herbs",
              "1116_Pasta products and couscous",
              "1154_Other edible oils",
              "1128_Other meat preparations",
              "1125_Other meats",
              "2111_Spirits and liqueurs",
              "1193_Baby food",
              "1134_Frozen seafood",
              "1118_Other cereal products",
              "1194_Ready-made meals",
              "1112_Flours and other cereals",
              "1133_Fresh or chilled seafood",
              "1113_Bread",
              "1185_Edible ices and ice cream",
              "1114_Other bakery products",
              "1182_Jams, marmalades and honey",
              "1147_Eggs",
              "1174_Potatoes",
              "1145_Cheese and curd",
              "2202_Cigars",
              "1213_Cocoa and powdered chocolate",
              "2121_Wine from grapes",
              "1223_Fruit and vegetable juices",
              "2203_Other tobacco products",
              "1183_Chocolate",
              "1155_Other edible animal fats",
              "1162_Frozen fruit",
              "1146_Other milk products",
              "1176_Other tubers and products of tuber vegetables",
              "1184_Confectionery products",
              "2201_Cigarettes",
              "1141_Fresh whole milk",
              "2131_Lager beer",
              "1144_Yoghurt",
              "1181_Sugar",
              "1212_Tea",
              "1191_Sauces, condiments",
              "1173_Dried vegetables, other preserved or processed vegetables",
              "2132_Other alcoholic beer",
              "1131_Fresh or chilled fish",
              "1136_Other preserved or processed fish and seafood-based preparations"
            ],
            "_view_name": "DropdownView",
            "style": "IPY_MODEL_c61b20d5fc384d2daebc708a4850b5d0",
            "_dom_classes": [],
            "description": "Select category to label:",
            "_model_name": "DropdownModel",
            "index": 0,
            "_view_module": "@jupyter-widgets/controls",
            "_model_module_version": "1.5.0",
            "_view_count": null,
            "disabled": false,
            "_view_module_version": "1.5.0",
            "description_tooltip": null,
            "_model_module": "@jupyter-widgets/controls",
            "layout": "IPY_MODEL_fd8f968bb6ad492faf7b335517796537"
          }
        },
        "46654ba49b5046ea952173a3e73f1979": {
          "model_module": "@jupyter-widgets/output",
          "model_name": "OutputModel",
          "state": {
            "_view_name": "OutputView",
            "msg_id": "",
            "_dom_classes": [],
            "_model_name": "OutputModel",
            "outputs": [],
            "_view_module": "@jupyter-widgets/output",
            "_model_module_version": "1.0.0",
            "_view_count": null,
            "_view_module_version": "1.0.0",
            "layout": "IPY_MODEL_2314f13740d644aa9d4c1e4884b5b5bf",
            "_model_module": "@jupyter-widgets/output"
          }
        },
        "127815837ec744ad86d847499fdff9e9": {
          "model_module": "@jupyter-widgets/controls",
          "model_name": "DescriptionStyleModel",
          "state": {
            "_view_name": "StyleView",
            "_model_name": "DescriptionStyleModel",
            "description_width": "",
            "_view_module": "@jupyter-widgets/base",
            "_model_module_version": "1.5.0",
            "_view_count": null,
            "_view_module_version": "1.2.0",
            "_model_module": "@jupyter-widgets/controls"
          }
        },
        "373eb713e27a45b78e0662de0a9a3bae": {
          "model_module": "@jupyter-widgets/base",
          "model_name": "LayoutModel",
          "state": {
            "_view_name": "LayoutView",
            "grid_template_rows": null,
            "right": null,
            "justify_content": null,
            "_view_module": "@jupyter-widgets/base",
            "overflow": null,
            "_model_module_version": "1.2.0",
            "_view_count": null,
            "flex_flow": null,
            "width": "80%",
            "min_width": null,
            "border": null,
            "align_items": null,
            "bottom": null,
            "_model_module": "@jupyter-widgets/base",
            "top": null,
            "grid_column": null,
            "overflow_y": null,
            "overflow_x": null,
            "grid_auto_flow": null,
            "grid_area": null,
            "grid_template_columns": null,
            "flex": null,
            "_model_name": "LayoutModel",
            "justify_items": null,
            "grid_row": null,
            "max_height": null,
            "align_content": null,
            "visibility": null,
            "align_self": null,
            "height": "40px",
            "min_height": null,
            "padding": null,
            "grid_auto_rows": null,
            "grid_gap": null,
            "max_width": null,
            "order": null,
            "_view_module_version": "1.2.0",
            "grid_template_areas": null,
            "object_position": null,
            "object_fit": null,
            "grid_auto_columns": null,
            "margin": null,
            "display": null,
            "left": null
          }
        },
        "f8f8df3a9db94c019a9a971a6b6a31f6": {
          "model_module": "@jupyter-widgets/controls",
          "model_name": "DescriptionStyleModel",
          "state": {
            "_view_name": "StyleView",
            "_model_name": "DescriptionStyleModel",
            "description_width": "",
            "_view_module": "@jupyter-widgets/base",
            "_model_module_version": "1.5.0",
            "_view_count": null,
            "_view_module_version": "1.2.0",
            "_model_module": "@jupyter-widgets/controls"
          }
        },
        "449a8e0619444de7b32a77ed9217580f": {
          "model_module": "@jupyter-widgets/base",
          "model_name": "LayoutModel",
          "state": {
            "_view_name": "LayoutView",
            "grid_template_rows": null,
            "right": null,
            "justify_content": null,
            "_view_module": "@jupyter-widgets/base",
            "overflow": null,
            "_model_module_version": "1.2.0",
            "_view_count": null,
            "flex_flow": null,
            "width": "80%",
            "min_width": null,
            "border": null,
            "align_items": null,
            "bottom": null,
            "_model_module": "@jupyter-widgets/base",
            "top": null,
            "grid_column": null,
            "overflow_y": null,
            "overflow_x": null,
            "grid_auto_flow": null,
            "grid_area": null,
            "grid_template_columns": null,
            "flex": null,
            "_model_name": "LayoutModel",
            "justify_items": null,
            "grid_row": null,
            "max_height": null,
            "align_content": null,
            "visibility": null,
            "align_self": null,
            "height": "40px",
            "min_height": null,
            "padding": null,
            "grid_auto_rows": null,
            "grid_gap": null,
            "max_width": null,
            "order": null,
            "_view_module_version": "1.2.0",
            "grid_template_areas": null,
            "object_position": null,
            "object_fit": null,
            "grid_auto_columns": null,
            "margin": null,
            "display": null,
            "left": null
          }
        },
        "0eb33ebb094842eb8bdde400595d220f": {
          "model_module": "@jupyter-widgets/controls",
          "model_name": "DescriptionStyleModel",
          "state": {
            "_view_name": "StyleView",
            "_model_name": "DescriptionStyleModel",
            "description_width": "",
            "_view_module": "@jupyter-widgets/base",
            "_model_module_version": "1.5.0",
            "_view_count": null,
            "_view_module_version": "1.2.0",
            "_model_module": "@jupyter-widgets/controls"
          }
        },
        "40cd13b1c5cd4b5186773a6db79a7712": {
          "model_module": "@jupyter-widgets/base",
          "model_name": "LayoutModel",
          "state": {
            "_view_name": "LayoutView",
            "grid_template_rows": null,
            "right": null,
            "justify_content": null,
            "_view_module": "@jupyter-widgets/base",
            "overflow": null,
            "_model_module_version": "1.2.0",
            "_view_count": null,
            "flex_flow": null,
            "width": "80%",
            "min_width": null,
            "border": null,
            "align_items": null,
            "bottom": null,
            "_model_module": "@jupyter-widgets/base",
            "top": null,
            "grid_column": null,
            "overflow_y": null,
            "overflow_x": null,
            "grid_auto_flow": null,
            "grid_area": null,
            "grid_template_columns": null,
            "flex": null,
            "_model_name": "LayoutModel",
            "justify_items": null,
            "grid_row": null,
            "max_height": null,
            "align_content": null,
            "visibility": null,
            "align_self": null,
            "height": "40px",
            "min_height": null,
            "padding": null,
            "grid_auto_rows": null,
            "grid_gap": null,
            "max_width": null,
            "order": null,
            "_view_module_version": "1.2.0",
            "grid_template_areas": null,
            "object_position": null,
            "object_fit": null,
            "grid_auto_columns": null,
            "margin": null,
            "display": null,
            "left": null
          }
        },
        "058a18ed028d4084a0a847dfcca1fecf": {
          "model_module": "@jupyter-widgets/base",
          "model_name": "LayoutModel",
          "state": {
            "_view_name": "LayoutView",
            "grid_template_rows": null,
            "right": null,
            "justify_content": null,
            "_view_module": "@jupyter-widgets/base",
            "overflow": null,
            "_model_module_version": "1.2.0",
            "_view_count": null,
            "flex_flow": "column",
            "width": "80%",
            "min_width": null,
            "border": null,
            "align_items": "stretch",
            "bottom": null,
            "_model_module": "@jupyter-widgets/base",
            "top": null,
            "grid_column": null,
            "overflow_y": null,
            "overflow_x": null,
            "grid_auto_flow": null,
            "grid_area": null,
            "grid_template_columns": null,
            "flex": null,
            "_model_name": "LayoutModel",
            "justify_items": null,
            "grid_row": null,
            "max_height": null,
            "align_content": "center",
            "visibility": null,
            "align_self": null,
            "height": null,
            "min_height": null,
            "padding": null,
            "grid_auto_rows": null,
            "grid_gap": null,
            "max_width": null,
            "order": null,
            "_view_module_version": "1.2.0",
            "grid_template_areas": null,
            "object_position": null,
            "object_fit": null,
            "grid_auto_columns": null,
            "margin": null,
            "display": "flex",
            "left": null
          }
        },
        "f449840b1b4845a5b18fa52fb9422c63": {
          "model_module": "@jupyter-widgets/controls",
          "model_name": "DropdownModel",
          "state": {
            "_options_labels": [
              "06110 Pharmaceutical products",
              "06110 Pharmaceutical products",
              "06131 Corrective eye-glasses and contact lenses",
              "06139 Other therapeutic appliances and equipment",
              "1111_Rice",
              "1112_Flours and other cereals",
              "1113_Bread",
              "1114_Other bakery products",
              "1115_Pizza and quiche",
              "1116_Pasta products and couscous",
              "1117_Breakfast cereals",
              "1118_Other cereal products",
              "1121_Beef and veal",
              "1122_Pork",
              "1123_Lamb and goat",
              "1124_Poultry",
              "1125_Other meats",
              "1126_Edible offal",
              "1127_Dried, salted or smoked meat",
              "1128_Other meat preparations",
              "1131_Fresh or chilled fish",
              "1132_Frozen fish",
              "1133_Fresh or chilled seafood",
              "1134_Frozen seafood",
              "1135_Dried, smoked or salted fish and seafood",
              "1136_Other preserved or processed fish and seafood-based preparations",
              "1141_Fresh whole milk",
              "1142_Fresh low fat milk",
              "1143_Preserved milk",
              "1144_Yoghurt",
              "1145_Cheese and curd",
              "1146_Other milk products",
              "1147_Eggs",
              "1151_Butter",
              "1152_Margarine and other vegetable fats",
              "1153_Olive oil",
              "1154_Other edible oils",
              "1155_Other edible animal fats",
              "1161_Fresh or chilled fruit",
              "1162_Frozen fruit",
              "1163_Dried fruit and nuts",
              "1164_Preserved fruit and fruit-based products",
              "1171_Fresh or chilled vegetables other than potatoes and other tubers",
              "1172_Frozen vegetables other than potatoes and other tubers",
              "1173_Dried vegetables, other preserved or processed vegetables",
              "1174_Potatoes",
              "1175_Crisps",
              "1176_Other tubers and products of tuber vegetables",
              "1181_Sugar",
              "1182_Jams, marmalades and honey",
              "1183_Chocolate",
              "1184_Confectionery products",
              "1185_Edible ices and ice cream",
              "1186_Artificial sugar substitutes",
              "1191_Sauces, condiments",
              "1192_Salt, spices and culinary herbs",
              "1193_Baby food",
              "1194_Ready-made meals",
              "1199_Other food products n.e.c.",
              "12111 Hairdressing for men and children",
              "12112 Hairdressing for women",
              "12113 Personal grooming treatments",
              "1211_Coffee",
              "12121 Electric appliances for personal care",
              "1212_Tea",
              "12131 Non-electrical appliances",
              "12132 Articles for personal hygiene (wellness, esoteric beauty) ",
              "1213_Cocoa and powdered chocolate",
              "1221_Mineral or spring waters",
              "1222_Soft drinks",
              "1223_Fruit and vegetable juices",
              "2111_Spirits and liqueurs",
              "2112_Alcoholic soft drinks",
              "2121_Wine from grapes",
              "2122_Wine from other fruits",
              "2123_Fortified wines",
              "2124_Wine-based drinks",
              "2131_Lager beer",
              "2132_Other alcoholic beer",
              "2133_Low and non-alcoholic beer",
              "2134_Beer-based drinks",
              "2201_Cigarettes",
              "2202_Cigars",
              "2203_Other tobacco products",
              "5111_Household furniture",
              "5112_Garden furniture",
              "5113_Lighting equipment",
              "5119_Other furniture and furnishings",
              "5121_Carpets and rugs",
              "5122_Other floor coverings",
              "5123_Services of laying of fitted carpets and floor coverings",
              "5130_Repair of furniture, furnishings and floor coverings",
              "5201_Furnishing fabrics and curtains",
              "5202_Bed linen",
              "5203_Table linen and bathroom linen",
              "5204_Repair of household textiles",
              "5209_Other household textiles",
              "5311_Refrigerators, freezers and fridge-freezers",
              "5312_Clothes washing machines, clothes drying machines and dish washing machines",
              "5313_Cookers",
              "5314_Heaters, air conditioners",
              "5315_Cleaning equipment",
              "5319_Other major household appliances",
              "5321_Food processing appliances",
              "5322_Coffee machines, tea makers and similar appliances",
              "5323_Irons",
              "5324_Toasters and grills",
              "5329_Other small electric household appliances",
              "5330_Repair of household appliances",
              "5401_Glassware, crystal-ware, ceramic ware and chinaware",
              "5402_Cutlery, flatware and silverware",
              "5403_Non-electric kitchen utensils and articles",
              "5404_Repair of glassware, tableware and household utensils",
              "5511_Motorised major tools and equipment",
              "5512_Repair, leasing and rental of major tools and equipment",
              "5521_Non-motorised small tools",
              "5522_Miscellaneous small tool accessories",
              "5523_Repair of non-motorised small tools and miscellaneous accessories",
              "5611_Cleaning and maintenance products",
              "5612_Other non-durable small household articles",
              "5621_Domestic services by paid staff",
              "5622_Cleaning services",
              "5623_Hire of furniture and furnishings",
              "5629_Other domestic services and household services",
              "9999_Non-Food"
            ],
            "_view_name": "DropdownView",
            "style": "IPY_MODEL_52cd83e4900a49e096c4de249930b835",
            "_dom_classes": [],
            "description": "COICOP 5:",
            "_model_name": "DropdownModel",
            "index": 124,
            "_view_module": "@jupyter-widgets/controls",
            "_model_module_version": "1.5.0",
            "_view_count": null,
            "disabled": false,
            "_view_module_version": "1.5.0",
            "description_tooltip": null,
            "_model_module": "@jupyter-widgets/controls",
            "layout": "IPY_MODEL_eaa43029eb394dadb1267c197b0ecd85"
          }
        },
        "2939de08fc2c491eb19943bcb5239e5a": {
          "model_module": "@jupyter-widgets/output",
          "model_name": "OutputModel",
          "state": {
            "_view_name": "OutputView",
            "msg_id": "",
            "_dom_classes": [],
            "_model_name": "OutputModel",
            "outputs": [],
            "_view_module": "@jupyter-widgets/output",
            "_model_module_version": "1.0.0",
            "_view_count": null,
            "_view_module_version": "1.0.0",
            "layout": "IPY_MODEL_c2a4bf6b5e1e489181a20e11366e0847",
            "_model_module": "@jupyter-widgets/output"
          }
        },
        "01abb12678894383971517d6c328e4c2": {
          "model_module": "@jupyter-widgets/base",
          "model_name": "LayoutModel",
          "state": {
            "_view_name": "LayoutView",
            "grid_template_rows": null,
            "right": null,
            "justify_content": null,
            "_view_module": "@jupyter-widgets/base",
            "overflow": null,
            "_model_module_version": "1.2.0",
            "_view_count": null,
            "flex_flow": "row",
            "width": "80%",
            "min_width": null,
            "border": null,
            "align_items": "stretch",
            "bottom": null,
            "_model_module": "@jupyter-widgets/base",
            "top": null,
            "grid_column": null,
            "overflow_y": null,
            "overflow_x": null,
            "grid_auto_flow": null,
            "grid_area": null,
            "grid_template_columns": null,
            "flex": null,
            "_model_name": "LayoutModel",
            "justify_items": null,
            "grid_row": null,
            "max_height": null,
            "align_content": "center",
            "visibility": null,
            "align_self": null,
            "height": null,
            "min_height": null,
            "padding": null,
            "grid_auto_rows": null,
            "grid_gap": null,
            "max_width": null,
            "order": null,
            "_view_module_version": "1.2.0",
            "grid_template_areas": null,
            "object_position": null,
            "object_fit": null,
            "grid_auto_columns": null,
            "margin": null,
            "display": "flex",
            "left": null
          }
        },
        "42ad84a49fc24142a33f7c86b2b786a8": {
          "model_module": "@jupyter-widgets/controls",
          "model_name": "ButtonModel",
          "state": {
            "_view_name": "ButtonView",
            "style": "IPY_MODEL_6068c4d4f1764d4ea9d1b90e5615b7b2",
            "_dom_classes": [],
            "description": "Next",
            "_model_name": "ButtonModel",
            "button_style": "",
            "_view_module": "@jupyter-widgets/controls",
            "_model_module_version": "1.5.0",
            "tooltip": "",
            "_view_count": null,
            "disabled": false,
            "_view_module_version": "1.5.0",
            "layout": "IPY_MODEL_90e9884905654b1dbddf17131c208ad9",
            "_model_module": "@jupyter-widgets/controls",
            "icon": ""
          }
        },
        "5c5e714c06f64a29887a9657dc017b8b": {
          "model_module": "@jupyter-widgets/output",
          "model_name": "OutputModel",
          "state": {
            "_view_name": "OutputView",
            "msg_id": "",
            "_dom_classes": [],
            "_model_name": "OutputModel",
            "outputs": [],
            "_view_module": "@jupyter-widgets/output",
            "_model_module_version": "1.0.0",
            "_view_count": null,
            "_view_module_version": "1.0.0",
            "layout": "IPY_MODEL_08e96f7a7c714534a4e8d1459466c2b0",
            "_model_module": "@jupyter-widgets/output"
          }
        },
        "e93558bf03ad4bb4a2609fcb8bc3fdb1": {
          "model_module": "@jupyter-widgets/controls",
          "model_name": "ButtonModel",
          "state": {
            "_view_name": "ButtonView",
            "style": "IPY_MODEL_c792997d7c7844e2872e56514e3cabb6",
            "_dom_classes": [],
            "description": "Save",
            "_model_name": "ButtonModel",
            "button_style": "",
            "_view_module": "@jupyter-widgets/controls",
            "_model_module_version": "1.5.0",
            "tooltip": "",
            "_view_count": null,
            "disabled": false,
            "_view_module_version": "1.5.0",
            "layout": "IPY_MODEL_60ab169a221b4ff294e8084a7dcffad3",
            "_model_module": "@jupyter-widgets/controls",
            "icon": ""
          }
        },
        "4c01f2b2cac94741922f86617fc4cc04": {
          "model_module": "@jupyter-widgets/output",
          "model_name": "OutputModel",
          "state": {
            "_view_name": "OutputView",
            "msg_id": "",
            "_dom_classes": [],
            "_model_name": "OutputModel",
            "outputs": [],
            "_view_module": "@jupyter-widgets/output",
            "_model_module_version": "1.0.0",
            "_view_count": null,
            "_view_module_version": "1.0.0",
            "layout": "IPY_MODEL_20009d8aab484558968494bc25f93e27",
            "_model_module": "@jupyter-widgets/output"
          }
        },
        "c61b20d5fc384d2daebc708a4850b5d0": {
          "model_module": "@jupyter-widgets/controls",
          "model_name": "DescriptionStyleModel",
          "state": {
            "_view_name": "StyleView",
            "_model_name": "DescriptionStyleModel",
            "description_width": "",
            "_view_module": "@jupyter-widgets/base",
            "_model_module_version": "1.5.0",
            "_view_count": null,
            "_view_module_version": "1.2.0",
            "_model_module": "@jupyter-widgets/controls"
          }
        },
        "fd8f968bb6ad492faf7b335517796537": {
          "model_module": "@jupyter-widgets/base",
          "model_name": "LayoutModel",
          "state": {
            "_view_name": "LayoutView",
            "grid_template_rows": null,
            "right": null,
            "justify_content": null,
            "_view_module": "@jupyter-widgets/base",
            "overflow": null,
            "_model_module_version": "1.2.0",
            "_view_count": null,
            "flex_flow": null,
            "width": "50%",
            "min_width": null,
            "border": null,
            "align_items": null,
            "bottom": null,
            "_model_module": "@jupyter-widgets/base",
            "top": null,
            "grid_column": null,
            "overflow_y": null,
            "overflow_x": null,
            "grid_auto_flow": null,
            "grid_area": null,
            "grid_template_columns": null,
            "flex": null,
            "_model_name": "LayoutModel",
            "justify_items": null,
            "grid_row": null,
            "max_height": null,
            "align_content": null,
            "visibility": null,
            "align_self": null,
            "height": "60px",
            "min_height": null,
            "padding": null,
            "grid_auto_rows": null,
            "grid_gap": null,
            "max_width": null,
            "order": null,
            "_view_module_version": "1.2.0",
            "grid_template_areas": null,
            "object_position": null,
            "object_fit": null,
            "grid_auto_columns": null,
            "margin": null,
            "display": null,
            "left": null
          }
        },
        "52cd83e4900a49e096c4de249930b835": {
          "model_module": "@jupyter-widgets/controls",
          "model_name": "DescriptionStyleModel",
          "state": {
            "_view_name": "StyleView",
            "_model_name": "DescriptionStyleModel",
            "description_width": "",
            "_view_module": "@jupyter-widgets/base",
            "_model_module_version": "1.5.0",
            "_view_count": null,
            "_view_module_version": "1.2.0",
            "_model_module": "@jupyter-widgets/controls"
          }
        },
        "eaa43029eb394dadb1267c197b0ecd85": {
          "model_module": "@jupyter-widgets/base",
          "model_name": "LayoutModel",
          "state": {
            "_view_name": "LayoutView",
            "grid_template_rows": null,
            "right": null,
            "justify_content": null,
            "_view_module": "@jupyter-widgets/base",
            "overflow": null,
            "_model_module_version": "1.2.0",
            "_view_count": null,
            "flex_flow": null,
            "width": "80%",
            "min_width": null,
            "border": null,
            "align_items": null,
            "bottom": null,
            "_model_module": "@jupyter-widgets/base",
            "top": null,
            "grid_column": null,
            "overflow_y": null,
            "overflow_x": null,
            "grid_auto_flow": null,
            "grid_area": null,
            "grid_template_columns": null,
            "flex": null,
            "_model_name": "LayoutModel",
            "justify_items": null,
            "grid_row": null,
            "max_height": null,
            "align_content": null,
            "visibility": null,
            "align_self": null,
            "height": "40px",
            "min_height": null,
            "padding": null,
            "grid_auto_rows": null,
            "grid_gap": null,
            "max_width": null,
            "order": null,
            "_view_module_version": "1.2.0",
            "grid_template_areas": null,
            "object_position": null,
            "object_fit": null,
            "grid_auto_columns": null,
            "margin": null,
            "display": null,
            "left": null
          }
        },
        "6068c4d4f1764d4ea9d1b90e5615b7b2": {
          "model_module": "@jupyter-widgets/controls",
          "model_name": "ButtonStyleModel",
          "state": {
            "_view_name": "StyleView",
            "_model_name": "ButtonStyleModel",
            "_view_module": "@jupyter-widgets/base",
            "_model_module_version": "1.5.0",
            "_view_count": null,
            "button_color": null,
            "font_weight": "",
            "_view_module_version": "1.2.0",
            "_model_module": "@jupyter-widgets/controls"
          }
        },
        "90e9884905654b1dbddf17131c208ad9": {
          "model_module": "@jupyter-widgets/base",
          "model_name": "LayoutModel",
          "state": {
            "_view_name": "LayoutView",
            "grid_template_rows": null,
            "right": null,
            "justify_content": null,
            "_view_module": "@jupyter-widgets/base",
            "overflow": null,
            "_model_module_version": "1.2.0",
            "_view_count": null,
            "flex_flow": null,
            "width": null,
            "min_width": null,
            "border": null,
            "align_items": null,
            "bottom": null,
            "_model_module": "@jupyter-widgets/base",
            "top": null,
            "grid_column": null,
            "overflow_y": null,
            "overflow_x": null,
            "grid_auto_flow": null,
            "grid_area": null,
            "grid_template_columns": null,
            "flex": null,
            "_model_name": "LayoutModel",
            "justify_items": null,
            "grid_row": null,
            "max_height": null,
            "align_content": null,
            "visibility": null,
            "align_self": null,
            "height": null,
            "min_height": null,
            "padding": null,
            "grid_auto_rows": null,
            "grid_gap": null,
            "max_width": null,
            "order": null,
            "_view_module_version": "1.2.0",
            "grid_template_areas": null,
            "object_position": null,
            "object_fit": null,
            "grid_auto_columns": null,
            "margin": null,
            "display": null,
            "left": null
          }
        },
        "c792997d7c7844e2872e56514e3cabb6": {
          "model_module": "@jupyter-widgets/controls",
          "model_name": "ButtonStyleModel",
          "state": {
            "_view_name": "StyleView",
            "_model_name": "ButtonStyleModel",
            "_view_module": "@jupyter-widgets/base",
            "_model_module_version": "1.5.0",
            "_view_count": null,
            "button_color": null,
            "font_weight": "",
            "_view_module_version": "1.2.0",
            "_model_module": "@jupyter-widgets/controls"
          }
        },
        "60ab169a221b4ff294e8084a7dcffad3": {
          "model_module": "@jupyter-widgets/base",
          "model_name": "LayoutModel",
          "state": {
            "_view_name": "LayoutView",
            "grid_template_rows": null,
            "right": null,
            "justify_content": null,
            "_view_module": "@jupyter-widgets/base",
            "overflow": null,
            "_model_module_version": "1.2.0",
            "_view_count": null,
            "flex_flow": null,
            "width": null,
            "min_width": null,
            "border": null,
            "align_items": null,
            "bottom": null,
            "_model_module": "@jupyter-widgets/base",
            "top": null,
            "grid_column": null,
            "overflow_y": null,
            "overflow_x": null,
            "grid_auto_flow": null,
            "grid_area": null,
            "grid_template_columns": null,
            "flex": null,
            "_model_name": "LayoutModel",
            "justify_items": null,
            "grid_row": null,
            "max_height": null,
            "align_content": null,
            "visibility": null,
            "align_self": null,
            "height": null,
            "min_height": null,
            "padding": null,
            "grid_auto_rows": null,
            "grid_gap": null,
            "max_width": null,
            "order": null,
            "_view_module_version": "1.2.0",
            "grid_template_areas": null,
            "object_position": null,
            "object_fit": null,
            "grid_auto_columns": null,
            "margin": null,
            "display": null,
            "left": null
          }
        },
        "2314f13740d644aa9d4c1e4884b5b5bf": {
          "model_module": "@jupyter-widgets/base",
          "model_name": "LayoutModel",
          "state": {
            "_view_name": "LayoutView",
            "grid_template_rows": null,
            "right": null,
            "justify_content": null,
            "_view_module": "@jupyter-widgets/base",
            "overflow": null,
            "_model_module_version": "1.2.0",
            "_view_count": null,
            "flex_flow": null,
            "width": null,
            "min_width": null,
            "border": null,
            "align_items": null,
            "bottom": null,
            "_model_module": "@jupyter-widgets/base",
            "top": null,
            "grid_column": null,
            "overflow_y": null,
            "overflow_x": null,
            "grid_auto_flow": null,
            "grid_area": null,
            "grid_template_columns": null,
            "flex": null,
            "_model_name": "LayoutModel",
            "justify_items": null,
            "grid_row": null,
            "max_height": null,
            "align_content": null,
            "visibility": null,
            "align_self": null,
            "height": null,
            "min_height": null,
            "padding": null,
            "grid_auto_rows": null,
            "grid_gap": null,
            "max_width": null,
            "order": null,
            "_view_module_version": "1.2.0",
            "grid_template_areas": null,
            "object_position": null,
            "object_fit": null,
            "grid_auto_columns": null,
            "margin": null,
            "display": null,
            "left": null
          }
        },
        "c2a4bf6b5e1e489181a20e11366e0847": {
          "model_module": "@jupyter-widgets/base",
          "model_name": "LayoutModel",
          "state": {
            "_view_name": "LayoutView",
            "grid_template_rows": null,
            "right": null,
            "justify_content": null,
            "_view_module": "@jupyter-widgets/base",
            "overflow": null,
            "_model_module_version": "1.2.0",
            "_view_count": null,
            "flex_flow": null,
            "width": null,
            "min_width": null,
            "border": null,
            "align_items": null,
            "bottom": null,
            "_model_module": "@jupyter-widgets/base",
            "top": null,
            "grid_column": null,
            "overflow_y": null,
            "overflow_x": null,
            "grid_auto_flow": null,
            "grid_area": null,
            "grid_template_columns": null,
            "flex": null,
            "_model_name": "LayoutModel",
            "justify_items": null,
            "grid_row": null,
            "max_height": null,
            "align_content": null,
            "visibility": null,
            "align_self": null,
            "height": null,
            "min_height": null,
            "padding": null,
            "grid_auto_rows": null,
            "grid_gap": null,
            "max_width": null,
            "order": null,
            "_view_module_version": "1.2.0",
            "grid_template_areas": null,
            "object_position": null,
            "object_fit": null,
            "grid_auto_columns": null,
            "margin": null,
            "display": null,
            "left": null
          }
        },
        "08e96f7a7c714534a4e8d1459466c2b0": {
          "model_module": "@jupyter-widgets/base",
          "model_name": "LayoutModel",
          "state": {
            "_view_name": "LayoutView",
            "grid_template_rows": null,
            "right": null,
            "justify_content": null,
            "_view_module": "@jupyter-widgets/base",
            "overflow": null,
            "_model_module_version": "1.2.0",
            "_view_count": null,
            "flex_flow": null,
            "width": null,
            "min_width": null,
            "border": null,
            "align_items": null,
            "bottom": null,
            "_model_module": "@jupyter-widgets/base",
            "top": null,
            "grid_column": null,
            "overflow_y": null,
            "overflow_x": null,
            "grid_auto_flow": null,
            "grid_area": null,
            "grid_template_columns": null,
            "flex": null,
            "_model_name": "LayoutModel",
            "justify_items": null,
            "grid_row": null,
            "max_height": null,
            "align_content": null,
            "visibility": null,
            "align_self": null,
            "height": null,
            "min_height": null,
            "padding": null,
            "grid_auto_rows": null,
            "grid_gap": null,
            "max_width": null,
            "order": null,
            "_view_module_version": "1.2.0",
            "grid_template_areas": null,
            "object_position": null,
            "object_fit": null,
            "grid_auto_columns": null,
            "margin": null,
            "display": null,
            "left": null
          }
        },
        "20009d8aab484558968494bc25f93e27": {
          "model_module": "@jupyter-widgets/base",
          "model_name": "LayoutModel",
          "state": {
            "_view_name": "LayoutView",
            "grid_template_rows": null,
            "right": null,
            "justify_content": null,
            "_view_module": "@jupyter-widgets/base",
            "overflow": null,
            "_model_module_version": "1.2.0",
            "_view_count": null,
            "flex_flow": null,
            "width": null,
            "min_width": null,
            "border": null,
            "align_items": null,
            "bottom": null,
            "_model_module": "@jupyter-widgets/base",
            "top": null,
            "grid_column": null,
            "overflow_y": null,
            "overflow_x": null,
            "grid_auto_flow": null,
            "grid_area": null,
            "grid_template_columns": null,
            "flex": null,
            "_model_name": "LayoutModel",
            "justify_items": null,
            "grid_row": null,
            "max_height": null,
            "align_content": null,
            "visibility": null,
            "align_self": null,
            "height": null,
            "min_height": null,
            "padding": null,
            "grid_auto_rows": null,
            "grid_gap": null,
            "max_width": null,
            "order": null,
            "_view_module_version": "1.2.0",
            "grid_template_areas": null,
            "object_position": null,
            "object_fit": null,
            "grid_auto_columns": null,
            "margin": null,
            "display": null,
            "left": null
          }
        }
      }
    }
  },
  "cells": [
    {
      "cell_type": "markdown",
      "metadata": {
        "id": "view-in-github",
        "colab_type": "text"
      },
      "source": [
        "<a href=\"https://colab.research.google.com/github/ELehmann91/Thesis_Multilingual_Transferlearning/blob/master/Text_Annotation_Tool_BuBa.ipynb\" target=\"_parent\"><img src=\"https://colab.research.google.com/assets/colab-badge.svg\" alt=\"Open In Colab\"/></a>"
      ]
    },
    {
      "cell_type": "markdown",
      "metadata": {
        "id": "c8aX4ibmIzSO",
        "colab_type": "text"
      },
      "source": [
        "<p><img alt=\"Colaboratory logo\" height=\"45px\" src=\"/img/colab_favicon.ico\" align=\"left\" hspace=\"10px\" vspace=\"0px\"></p>\n",
        "\n",
        "<h1>What is Colaboratory?</h1>\n",
        "\n",
        "Colaboratory, or \"Colab\" for short, allows you to write and execute Python in your browser, with \n",
        "- Zero configuration required\n",
        "- Free access to GPUs\n",
        "- Easy sharing\n",
        "\n",
        "Whether you're a **student**, a **data scientist** or an **AI researcher**, Colab can make your work easier. Watch [Introduction to Colab](https://www.youtube.com/watch?v=inN8seMm7UI) to learn more, or just get started below!"
      ]
    },
    {
      "cell_type": "markdown",
      "metadata": {
        "id": "j-9rGzn0Zki5",
        "colab_type": "text"
      },
      "source": [
        "# ECOICOP Annotation\n",
        "  \n",
        "Use this tool to annotate your product texts with the correspondant eCoiCop category. \n"
      ]
    },
    {
      "cell_type": "markdown",
      "metadata": {
        "id": "P8EyWQfdK9jR",
        "colab_type": "text"
      },
      "source": [
        "## Get code from GitHub\n",
        "  \n",
        "At first we need to download the code from Github to here."
      ]
    },
    {
      "cell_type": "code",
      "metadata": {
        "id": "ub8zb9s7v9QF",
        "colab_type": "code",
        "colab": {}
      },
      "source": [
        "%%capture\n",
        "!pip install eli5\n",
        "!git clone 'https://github.com/ELehmann91/Thesis_Multilingual_Transferlearning'\n",
        " \n",
        "%cd Thesis_Multilingual_Transferlearning\n",
        "import labeler_cc5\n",
        "import coicop_model\n",
        "import pandas as pd\n",
        "import numpy as np\n",
        "from tqdm import tqdm\n",
        "import io"
      ],
      "execution_count": 15,
      "outputs": []
    },
    {
      "cell_type": "markdown",
      "metadata": {
        "id": "YsRdXwsf-1Tv",
        "colab_type": "text"
      },
      "source": [
        "Now you see the data from Github in your temp folder at colab"
      ]
    },
    {
      "cell_type": "code",
      "metadata": {
        "id": "NXh0WH5t-0sF",
        "colab_type": "code",
        "colab": {
          "base_uri": "https://localhost:8080/",
          "height": 180
        },
        "outputId": "7c2b1bfb-8d2d-4eeb-af17-d05ae8fcb65a"
      },
      "source": [
        "!ls"
      ],
      "execution_count": 34,
      "outputs": [
        {
          "output_type": "stream",
          "text": [
            "coicop_5_3.txt\t  Match_DE_Galeria_small.xlsx\n",
            "coicop_5_4.txt\t  model_helper.py\n",
            "coicop_model.py   Multilingual_Embeddings.ipynb\n",
            "data\t\t  README.md\n",
            "de_fr_mod_cc5.h5  Results_Thesis.ipynb\n",
            "de_mod_cc5.h5\t  Text_Annotation_Tool_AT.ipynb\n",
            "img\t\t  Text_Annotation_Tool_BdF.ipynb\n",
            "__init.py__\t  Text_Annotation_Tool_BuBa.ipynb\n",
            "labeler_cc5.py\t  Text_Annotation_Tool.ipynb\n",
            "labeler.py\t  Text_Annotation_Tool_Italy.ipynb\n"
          ],
          "name": "stdout"
        }
      ]
    },
    {
      "cell_type": "markdown",
      "metadata": {
        "id": "DIJ6I9wWjUyL",
        "colab_type": "text"
      },
      "source": [
        "## Upload CSV / Excel from Local Drive"
      ]
    },
    {
      "cell_type": "markdown",
      "metadata": {
        "id": "FYHE2mkbjdqq",
        "colab_type": "text"
      },
      "source": [
        "To upload from your local drive, start with the following code:"
      ]
    },
    {
      "cell_type": "code",
      "metadata": {
        "id": "Cv53M_9uibxg",
        "colab_type": "code",
        "colab": {
          "resources": {
            "http://localhost:8080/nbextensions/google.colab/files.js": {
              "data": "Ly8gQ29weXJpZ2h0IDIwMTcgR29vZ2xlIExMQwovLwovLyBMaWNlbnNlZCB1bmRlciB0aGUgQXBhY2hlIExpY2Vuc2UsIFZlcnNpb24gMi4wICh0aGUgIkxpY2Vuc2UiKTsKLy8geW91IG1heSBub3QgdXNlIHRoaXMgZmlsZSBleGNlcHQgaW4gY29tcGxpYW5jZSB3aXRoIHRoZSBMaWNlbnNlLgovLyBZb3UgbWF5IG9idGFpbiBhIGNvcHkgb2YgdGhlIExpY2Vuc2UgYXQKLy8KLy8gICAgICBodHRwOi8vd3d3LmFwYWNoZS5vcmcvbGljZW5zZXMvTElDRU5TRS0yLjAKLy8KLy8gVW5sZXNzIHJlcXVpcmVkIGJ5IGFwcGxpY2FibGUgbGF3IG9yIGFncmVlZCB0byBpbiB3cml0aW5nLCBzb2Z0d2FyZQovLyBkaXN0cmlidXRlZCB1bmRlciB0aGUgTGljZW5zZSBpcyBkaXN0cmlidXRlZCBvbiBhbiAiQVMgSVMiIEJBU0lTLAovLyBXSVRIT1VUIFdBUlJBTlRJRVMgT1IgQ09ORElUSU9OUyBPRiBBTlkgS0lORCwgZWl0aGVyIGV4cHJlc3Mgb3IgaW1wbGllZC4KLy8gU2VlIHRoZSBMaWNlbnNlIGZvciB0aGUgc3BlY2lmaWMgbGFuZ3VhZ2UgZ292ZXJuaW5nIHBlcm1pc3Npb25zIGFuZAovLyBsaW1pdGF0aW9ucyB1bmRlciB0aGUgTGljZW5zZS4KCi8qKgogKiBAZmlsZW92ZXJ2aWV3IEhlbHBlcnMgZm9yIGdvb2dsZS5jb2xhYiBQeXRob24gbW9kdWxlLgogKi8KKGZ1bmN0aW9uKHNjb3BlKSB7CmZ1bmN0aW9uIHNwYW4odGV4dCwgc3R5bGVBdHRyaWJ1dGVzID0ge30pIHsKICBjb25zdCBlbGVtZW50ID0gZG9jdW1lbnQuY3JlYXRlRWxlbWVudCgnc3BhbicpOwogIGVsZW1lbnQudGV4dENvbnRlbnQgPSB0ZXh0OwogIGZvciAoY29uc3Qga2V5IG9mIE9iamVjdC5rZXlzKHN0eWxlQXR0cmlidXRlcykpIHsKICAgIGVsZW1lbnQuc3R5bGVba2V5XSA9IHN0eWxlQXR0cmlidXRlc1trZXldOwogIH0KICByZXR1cm4gZWxlbWVudDsKfQoKLy8gTWF4IG51bWJlciBvZiBieXRlcyB3aGljaCB3aWxsIGJlIHVwbG9hZGVkIGF0IGEgdGltZS4KY29uc3QgTUFYX1BBWUxPQURfU0laRSA9IDEwMCAqIDEwMjQ7CgpmdW5jdGlvbiBfdXBsb2FkRmlsZXMoaW5wdXRJZCwgb3V0cHV0SWQpIHsKICBjb25zdCBzdGVwcyA9IHVwbG9hZEZpbGVzU3RlcChpbnB1dElkLCBvdXRwdXRJZCk7CiAgY29uc3Qgb3V0cHV0RWxlbWVudCA9IGRvY3VtZW50LmdldEVsZW1lbnRCeUlkKG91dHB1dElkKTsKICAvLyBDYWNoZSBzdGVwcyBvbiB0aGUgb3V0cHV0RWxlbWVudCB0byBtYWtlIGl0IGF2YWlsYWJsZSBmb3IgdGhlIG5leHQgY2FsbAogIC8vIHRvIHVwbG9hZEZpbGVzQ29udGludWUgZnJvbSBQeXRob24uCiAgb3V0cHV0RWxlbWVudC5zdGVwcyA9IHN0ZXBzOwoKICByZXR1cm4gX3VwbG9hZEZpbGVzQ29udGludWUob3V0cHV0SWQpOwp9CgovLyBUaGlzIGlzIHJvdWdobHkgYW4gYXN5bmMgZ2VuZXJhdG9yIChub3Qgc3VwcG9ydGVkIGluIHRoZSBicm93c2VyIHlldCksCi8vIHdoZXJlIHRoZXJlIGFyZSBtdWx0aXBsZSBhc3luY2hyb25vdXMgc3RlcHMgYW5kIHRoZSBQeXRob24gc2lkZSBpcyBnb2luZwovLyB0byBwb2xsIGZvciBjb21wbGV0aW9uIG9mIGVhY2ggc3RlcC4KLy8gVGhpcyB1c2VzIGEgUHJvbWlzZSB0byBibG9jayB0aGUgcHl0aG9uIHNpZGUgb24gY29tcGxldGlvbiBvZiBlYWNoIHN0ZXAsCi8vIHRoZW4gcGFzc2VzIHRoZSByZXN1bHQgb2YgdGhlIHByZXZpb3VzIHN0ZXAgYXMgdGhlIGlucHV0IHRvIHRoZSBuZXh0IHN0ZXAuCmZ1bmN0aW9uIF91cGxvYWRGaWxlc0NvbnRpbnVlKG91dHB1dElkKSB7CiAgY29uc3Qgb3V0cHV0RWxlbWVudCA9IGRvY3VtZW50LmdldEVsZW1lbnRCeUlkKG91dHB1dElkKTsKICBjb25zdCBzdGVwcyA9IG91dHB1dEVsZW1lbnQuc3RlcHM7CgogIGNvbnN0IG5leHQgPSBzdGVwcy5uZXh0KG91dHB1dEVsZW1lbnQubGFzdFByb21pc2VWYWx1ZSk7CiAgcmV0dXJuIFByb21pc2UucmVzb2x2ZShuZXh0LnZhbHVlLnByb21pc2UpLnRoZW4oKHZhbHVlKSA9PiB7CiAgICAvLyBDYWNoZSB0aGUgbGFzdCBwcm9taXNlIHZhbHVlIHRvIG1ha2UgaXQgYXZhaWxhYmxlIHRvIHRoZSBuZXh0CiAgICAvLyBzdGVwIG9mIHRoZSBnZW5lcmF0b3IuCiAgICBvdXRwdXRFbGVtZW50Lmxhc3RQcm9taXNlVmFsdWUgPSB2YWx1ZTsKICAgIHJldHVybiBuZXh0LnZhbHVlLnJlc3BvbnNlOwogIH0pOwp9CgovKioKICogR2VuZXJhdG9yIGZ1bmN0aW9uIHdoaWNoIGlzIGNhbGxlZCBiZXR3ZWVuIGVhY2ggYXN5bmMgc3RlcCBvZiB0aGUgdXBsb2FkCiAqIHByb2Nlc3MuCiAqIEBwYXJhbSB7c3RyaW5nfSBpbnB1dElkIEVsZW1lbnQgSUQgb2YgdGhlIGlucHV0IGZpbGUgcGlja2VyIGVsZW1lbnQuCiAqIEBwYXJhbSB7c3RyaW5nfSBvdXRwdXRJZCBFbGVtZW50IElEIG9mIHRoZSBvdXRwdXQgZGlzcGxheS4KICogQHJldHVybiB7IUl0ZXJhYmxlPCFPYmplY3Q+fSBJdGVyYWJsZSBvZiBuZXh0IHN0ZXBzLgogKi8KZnVuY3Rpb24qIHVwbG9hZEZpbGVzU3RlcChpbnB1dElkLCBvdXRwdXRJZCkgewogIGNvbnN0IGlucHV0RWxlbWVudCA9IGRvY3VtZW50LmdldEVsZW1lbnRCeUlkKGlucHV0SWQpOwogIGlucHV0RWxlbWVudC5kaXNhYmxlZCA9IGZhbHNlOwoKICBjb25zdCBvdXRwdXRFbGVtZW50ID0gZG9jdW1lbnQuZ2V0RWxlbWVudEJ5SWQob3V0cHV0SWQpOwogIG91dHB1dEVsZW1lbnQuaW5uZXJIVE1MID0gJyc7CgogIGNvbnN0IHBpY2tlZFByb21pc2UgPSBuZXcgUHJvbWlzZSgocmVzb2x2ZSkgPT4gewogICAgaW5wdXRFbGVtZW50LmFkZEV2ZW50TGlzdGVuZXIoJ2NoYW5nZScsIChlKSA9PiB7CiAgICAgIHJlc29sdmUoZS50YXJnZXQuZmlsZXMpOwogICAgfSk7CiAgfSk7CgogIGNvbnN0IGNhbmNlbCA9IGRvY3VtZW50LmNyZWF0ZUVsZW1lbnQoJ2J1dHRvbicpOwogIGlucHV0RWxlbWVudC5wYXJlbnRFbGVtZW50LmFwcGVuZENoaWxkKGNhbmNlbCk7CiAgY2FuY2VsLnRleHRDb250ZW50ID0gJ0NhbmNlbCB1cGxvYWQnOwogIGNvbnN0IGNhbmNlbFByb21pc2UgPSBuZXcgUHJvbWlzZSgocmVzb2x2ZSkgPT4gewogICAgY2FuY2VsLm9uY2xpY2sgPSAoKSA9PiB7CiAgICAgIHJlc29sdmUobnVsbCk7CiAgICB9OwogIH0pOwoKICAvLyBXYWl0IGZvciB0aGUgdXNlciB0byBwaWNrIHRoZSBmaWxlcy4KICBjb25zdCBmaWxlcyA9IHlpZWxkIHsKICAgIHByb21pc2U6IFByb21pc2UucmFjZShbcGlja2VkUHJvbWlzZSwgY2FuY2VsUHJvbWlzZV0pLAogICAgcmVzcG9uc2U6IHsKICAgICAgYWN0aW9uOiAnc3RhcnRpbmcnLAogICAgfQogIH07CgogIGNhbmNlbC5yZW1vdmUoKTsKCiAgLy8gRGlzYWJsZSB0aGUgaW5wdXQgZWxlbWVudCBzaW5jZSBmdXJ0aGVyIHBpY2tzIGFyZSBub3QgYWxsb3dlZC4KICBpbnB1dEVsZW1lbnQuZGlzYWJsZWQgPSB0cnVlOwoKICBpZiAoIWZpbGVzKSB7CiAgICByZXR1cm4gewogICAgICByZXNwb25zZTogewogICAgICAgIGFjdGlvbjogJ2NvbXBsZXRlJywKICAgICAgfQogICAgfTsKICB9CgogIGZvciAoY29uc3QgZmlsZSBvZiBmaWxlcykgewogICAgY29uc3QgbGkgPSBkb2N1bWVudC5jcmVhdGVFbGVtZW50KCdsaScpOwogICAgbGkuYXBwZW5kKHNwYW4oZmlsZS5uYW1lLCB7Zm9udFdlaWdodDogJ2JvbGQnfSkpOwogICAgbGkuYXBwZW5kKHNwYW4oCiAgICAgICAgYCgke2ZpbGUudHlwZSB8fCAnbi9hJ30pIC0gJHtmaWxlLnNpemV9IGJ5dGVzLCBgICsKICAgICAgICBgbGFzdCBtb2RpZmllZDogJHsKICAgICAgICAgICAgZmlsZS5sYXN0TW9kaWZpZWREYXRlID8gZmlsZS5sYXN0TW9kaWZpZWREYXRlLnRvTG9jYWxlRGF0ZVN0cmluZygpIDoKICAgICAgICAgICAgICAgICAgICAgICAgICAgICAgICAgICAgJ24vYSd9IC0gYCkpOwogICAgY29uc3QgcGVyY2VudCA9IHNwYW4oJzAlIGRvbmUnKTsKICAgIGxpLmFwcGVuZENoaWxkKHBlcmNlbnQpOwoKICAgIG91dHB1dEVsZW1lbnQuYXBwZW5kQ2hpbGQobGkpOwoKICAgIGNvbnN0IGZpbGVEYXRhUHJvbWlzZSA9IG5ldyBQcm9taXNlKChyZXNvbHZlKSA9PiB7CiAgICAgIGNvbnN0IHJlYWRlciA9IG5ldyBGaWxlUmVhZGVyKCk7CiAgICAgIHJlYWRlci5vbmxvYWQgPSAoZSkgPT4gewogICAgICAgIHJlc29sdmUoZS50YXJnZXQucmVzdWx0KTsKICAgICAgfTsKICAgICAgcmVhZGVyLnJlYWRBc0FycmF5QnVmZmVyKGZpbGUpOwogICAgfSk7CiAgICAvLyBXYWl0IGZvciB0aGUgZGF0YSB0byBiZSByZWFkeS4KICAgIGxldCBmaWxlRGF0YSA9IHlpZWxkIHsKICAgICAgcHJvbWlzZTogZmlsZURhdGFQcm9taXNlLAogICAgICByZXNwb25zZTogewogICAgICAgIGFjdGlvbjogJ2NvbnRpbnVlJywKICAgICAgfQogICAgfTsKCiAgICAvLyBVc2UgYSBjaHVua2VkIHNlbmRpbmcgdG8gYXZvaWQgbWVzc2FnZSBzaXplIGxpbWl0cy4gU2VlIGIvNjIxMTU2NjAuCiAgICBsZXQgcG9zaXRpb24gPSAwOwogICAgd2hpbGUgKHBvc2l0aW9uIDwgZmlsZURhdGEuYnl0ZUxlbmd0aCkgewogICAgICBjb25zdCBsZW5ndGggPSBNYXRoLm1pbihmaWxlRGF0YS5ieXRlTGVuZ3RoIC0gcG9zaXRpb24sIE1BWF9QQVlMT0FEX1NJWkUpOwogICAgICBjb25zdCBjaHVuayA9IG5ldyBVaW50OEFycmF5KGZpbGVEYXRhLCBwb3NpdGlvbiwgbGVuZ3RoKTsKICAgICAgcG9zaXRpb24gKz0gbGVuZ3RoOwoKICAgICAgY29uc3QgYmFzZTY0ID0gYnRvYShTdHJpbmcuZnJvbUNoYXJDb2RlLmFwcGx5KG51bGwsIGNodW5rKSk7CiAgICAgIHlpZWxkIHsKICAgICAgICByZXNwb25zZTogewogICAgICAgICAgYWN0aW9uOiAnYXBwZW5kJywKICAgICAgICAgIGZpbGU6IGZpbGUubmFtZSwKICAgICAgICAgIGRhdGE6IGJhc2U2NCwKICAgICAgICB9LAogICAgICB9OwogICAgICBwZXJjZW50LnRleHRDb250ZW50ID0KICAgICAgICAgIGAke01hdGgucm91bmQoKHBvc2l0aW9uIC8gZmlsZURhdGEuYnl0ZUxlbmd0aCkgKiAxMDApfSUgZG9uZWA7CiAgICB9CiAgfQoKICAvLyBBbGwgZG9uZS4KICB5aWVsZCB7CiAgICByZXNwb25zZTogewogICAgICBhY3Rpb246ICdjb21wbGV0ZScsCiAgICB9CiAgfTsKfQoKc2NvcGUuZ29vZ2xlID0gc2NvcGUuZ29vZ2xlIHx8IHt9OwpzY29wZS5nb29nbGUuY29sYWIgPSBzY29wZS5nb29nbGUuY29sYWIgfHwge307CnNjb3BlLmdvb2dsZS5jb2xhYi5fZmlsZXMgPSB7CiAgX3VwbG9hZEZpbGVzLAogIF91cGxvYWRGaWxlc0NvbnRpbnVlLAp9Owp9KShzZWxmKTsK",
              "ok": true,
              "headers": [
                [
                  "content-type",
                  "application/javascript"
                ]
              ],
              "status": 200,
              "status_text": ""
            }
          },
          "base_uri": "https://localhost:8080/",
          "height": 70
        },
        "outputId": "eb041e73-9c8a-425e-ef9d-000c058a22df"
      },
      "source": [
        "from google.colab import files\n",
        "uploaded = files.upload()"
      ],
      "execution_count": 16,
      "outputs": [
        {
          "output_type": "display_data",
          "data": {
            "text/html": [
              "\n",
              "     <input type=\"file\" id=\"files-fd9c4141-c653-46d8-b934-b6982e249b99\" name=\"files[]\" multiple disabled\n",
              "        style=\"border:none\" />\n",
              "     <output id=\"result-fd9c4141-c653-46d8-b934-b6982e249b99\">\n",
              "      Upload widget is only available when the cell has been executed in the\n",
              "      current browser session. Please rerun this cell to enable.\n",
              "      </output>\n",
              "      <script src=\"/nbextensions/google.colab/files.js\"></script> "
            ],
            "text/plain": [
              "<IPython.core.display.HTML object>"
            ]
          },
          "metadata": {
            "tags": []
          }
        },
        {
          "output_type": "stream",
          "text": [
            "Saving Match_DE_Galeria_small.xlsx to Match_DE_Galeria_small.xlsx\n"
          ],
          "name": "stdout"
        }
      ]
    },
    {
      "cell_type": "markdown",
      "metadata": {
        "id": "A7QkulHTjkyK",
        "colab_type": "text"
      },
      "source": [
        "It will prompt you to select a file. Click on “Choose Files” then select and upload the file. Wait for the file to be 100% uploaded. You should see the name of the file once Colab has uploaded it.\n",
        "Finally, type in the following code to import it into a dataframe (make sure the filename matches the name of the uploaded file)."
      ]
    },
    {
      "cell_type": "code",
      "metadata": {
        "id": "VmC0fPkzjstK",
        "colab_type": "code",
        "colab": {
          "base_uri": "https://localhost:8080/",
          "height": 121
        },
        "outputId": "d5f40eb7-2a78-47c5-839e-0e700e7726e5"
      },
      "source": [
        "#df = pd.read_csv(io.BytesIO(uploaded['eantoclassifyECB.csv']),sep=',')\n",
        "#df = pd.read_excel(io.BytesIO(uploaded['carrfour_trans_pred.xlsx']),encoding='ANSI')\n",
        "df = pd.read_excel(uploaded['Match_DE_Galeria_small.xlsx'],encoding='unicode')\n",
        "print(df.shape)\n",
        "df[:2]"
      ],
      "execution_count": 17,
      "outputs": [
        {
          "output_type": "stream",
          "text": [
            "(1999, 7)\n"
          ],
          "name": "stdout"
        },
        {
          "output_type": "execute_result",
          "data": {
            "text/html": [
              "<div>\n",
              "<style scoped>\n",
              "    .dataframe tbody tr th:only-of-type {\n",
              "        vertical-align: middle;\n",
              "    }\n",
              "\n",
              "    .dataframe tbody tr th {\n",
              "        vertical-align: top;\n",
              "    }\n",
              "\n",
              "    .dataframe thead th {\n",
              "        text-align: right;\n",
              "    }\n",
              "</style>\n",
              "<table border=\"1\" class=\"dataframe\">\n",
              "  <thead>\n",
              "    <tr style=\"text-align: right;\">\n",
              "      <th></th>\n",
              "      <th>PRODUKTART_BEZ</th>\n",
              "      <th>ABTEILUNG_BEZ</th>\n",
              "      <th>GESCHLECHT</th>\n",
              "      <th>WARENGRUPPE_BESCHREIBUNG1</th>\n",
              "      <th>category</th>\n",
              "      <th>url</th>\n",
              "      <th>label_cat5</th>\n",
              "    </tr>\n",
              "  </thead>\n",
              "  <tbody>\n",
              "    <tr>\n",
              "      <th>0</th>\n",
              "      <td>DAMENWAESCHE</td>\n",
              "      <td>DA.-TAGW.</td>\n",
              "      <td>Damen</td>\n",
              "      <td>D-Slips</td>\n",
              "      <td>Tageswäsche-Damen</td>\n",
              "      <td>https://www.galeria.de/Schoeller-Damen-Hueftsl...</td>\n",
              "      <td>9999_Non-Food</td>\n",
              "    </tr>\n",
              "    <tr>\n",
              "      <th>1</th>\n",
              "      <td>OUTDOOR</td>\n",
              "      <td>OUTDOORBKL.</td>\n",
              "      <td>-</td>\n",
              "      <td>kurzarm He/Uni</td>\n",
              "      <td>Hemden - Bergsport / Wandern</td>\n",
              "      <td>NaN</td>\n",
              "      <td>NaN</td>\n",
              "    </tr>\n",
              "  </tbody>\n",
              "</table>\n",
              "</div>"
            ],
            "text/plain": [
              "                             PRODUKTART_BEZ  ...     label_cat5\n",
              "0  DAMENWAESCHE                              ...  9999_Non-Food\n",
              "1  OUTDOOR                                   ...            NaN\n",
              "\n",
              "[2 rows x 7 columns]"
            ]
          },
          "metadata": {
            "tags": []
          },
          "execution_count": 17
        }
      ]
    },
    {
      "cell_type": "markdown",
      "metadata": {
        "id": "40G3r2iHjpJT",
        "colab_type": "text"
      },
      "source": [
        "## Upload from Google Drive"
      ]
    },
    {
      "cell_type": "markdown",
      "metadata": {
        "id": "Q7HGsKGs9kTT",
        "colab_type": "text"
      },
      "source": [
        "Loading CSV files stored in your google drive."
      ]
    },
    {
      "cell_type": "code",
      "metadata": {
        "id": "hysvDAyEmMtJ",
        "colab_type": "code",
        "colab": {
          "base_uri": "https://localhost:8080/",
          "height": 118
        },
        "outputId": "33825a99-d518-4317-83bc-b6a4acbe0625"
      },
      "source": [
        "from google.colab import drive, files\n",
        " \n",
        "drive.mount('/content/gdrive')\n",
        "path ='/content/gdrive/My Drive/Thesis_ecb_ecoicop'"
      ],
      "execution_count": 29,
      "outputs": [
        {
          "output_type": "stream",
          "text": [
            "Go to this URL in a browser: https://accounts.google.com/o/oauth2/auth?client_id=947318989803-6bn6qk8qdgf4n4g3pfee6491hc0brc4i.apps.googleusercontent.com&redirect_uri=urn%3aietf%3awg%3aoauth%3a2.0%3aoob&response_type=code&scope=email%20https%3a%2f%2fwww.googleapis.com%2fauth%2fdocs.test%20https%3a%2f%2fwww.googleapis.com%2fauth%2fdrive%20https%3a%2f%2fwww.googleapis.com%2fauth%2fdrive.photos.readonly%20https%3a%2f%2fwww.googleapis.com%2fauth%2fpeopleapi.readonly\n",
            "\n",
            "Enter your authorization code:\n",
            "··········\n",
            "Mounted at /content/gdrive\n"
          ],
          "name": "stdout"
        }
      ]
    },
    {
      "cell_type": "markdown",
      "metadata": {
        "id": "NEJIDPpC_IiN",
        "colab_type": "text"
      },
      "source": [
        "You can now also see your drive folders"
      ]
    },
    {
      "cell_type": "code",
      "metadata": {
        "id": "oSqxKPtA_H0m",
        "colab_type": "code",
        "colab": {}
      },
      "source": [
        "!ls '/content/gdrive/My Drive/'"
      ],
      "execution_count": null,
      "outputs": []
    },
    {
      "cell_type": "markdown",
      "metadata": {
        "id": "9kj6I2Zi_feE",
        "colab_type": "text"
      },
      "source": [
        "and the data available in your  (my) buba folder"
      ]
    },
    {
      "cell_type": "code",
      "metadata": {
        "id": "7WWWlQrP_H8V",
        "colab_type": "code",
        "colab": {
          "base_uri": "https://localhost:8080/",
          "height": 33
        },
        "outputId": "20627b6a-dd57-4c12-c5ef-71ca9625d1e6"
      },
      "source": [
        "!ls '/content/gdrive/My Drive/Thesis_ecb_ecoicop/data/buba'"
      ],
      "execution_count": 36,
      "outputs": [
        {
          "output_type": "stream",
          "text": [
            "Match_DE_Galeria_small.xlsx  training.csv\n"
          ],
          "name": "stdout"
        }
      ]
    },
    {
      "cell_type": "code",
      "metadata": {
        "id": "NXlzOCLP-dkq",
        "colab_type": "code",
        "colab": {
          "base_uri": "https://localhost:8080/",
          "height": 121
        },
        "outputId": "dfaa3ad8-1c2f-49d1-9818-cfecb25928e0"
      },
      "source": [
        "#load same from drive\n",
        "df = pd.read_excel(path+'/data/buba/Match_DE_Galeria_small.xlsx',encoding='unicode')\n",
        "print(df.shape)\n",
        "df[:2]"
      ],
      "execution_count": 33,
      "outputs": [
        {
          "output_type": "stream",
          "text": [
            "(1999, 7)\n"
          ],
          "name": "stdout"
        },
        {
          "output_type": "execute_result",
          "data": {
            "text/html": [
              "<div>\n",
              "<style scoped>\n",
              "    .dataframe tbody tr th:only-of-type {\n",
              "        vertical-align: middle;\n",
              "    }\n",
              "\n",
              "    .dataframe tbody tr th {\n",
              "        vertical-align: top;\n",
              "    }\n",
              "\n",
              "    .dataframe thead th {\n",
              "        text-align: right;\n",
              "    }\n",
              "</style>\n",
              "<table border=\"1\" class=\"dataframe\">\n",
              "  <thead>\n",
              "    <tr style=\"text-align: right;\">\n",
              "      <th></th>\n",
              "      <th>PRODUKTART_BEZ</th>\n",
              "      <th>ABTEILUNG_BEZ</th>\n",
              "      <th>GESCHLECHT</th>\n",
              "      <th>WARENGRUPPE_BESCHREIBUNG1</th>\n",
              "      <th>category</th>\n",
              "      <th>url</th>\n",
              "      <th>label_cat5</th>\n",
              "    </tr>\n",
              "  </thead>\n",
              "  <tbody>\n",
              "    <tr>\n",
              "      <th>0</th>\n",
              "      <td>DAMENWAESCHE</td>\n",
              "      <td>DA.-TAGW.</td>\n",
              "      <td>Damen</td>\n",
              "      <td>D-Slips</td>\n",
              "      <td>Tageswäsche-Damen</td>\n",
              "      <td>https://www.galeria.de/Schoeller-Damen-Hueftsl...</td>\n",
              "      <td>9999_Non-Food</td>\n",
              "    </tr>\n",
              "    <tr>\n",
              "      <th>1</th>\n",
              "      <td>OUTDOOR</td>\n",
              "      <td>OUTDOORBKL.</td>\n",
              "      <td>-</td>\n",
              "      <td>kurzarm He/Uni</td>\n",
              "      <td>Hemden - Bergsport / Wandern</td>\n",
              "      <td>NaN</td>\n",
              "      <td>NaN</td>\n",
              "    </tr>\n",
              "  </tbody>\n",
              "</table>\n",
              "</div>"
            ],
            "text/plain": [
              "                             PRODUKTART_BEZ  ...     label_cat5\n",
              "0  DAMENWAESCHE                              ...  9999_Non-Food\n",
              "1  OUTDOOR                                   ...            NaN\n",
              "\n",
              "[2 rows x 7 columns]"
            ]
          },
          "metadata": {
            "tags": []
          },
          "execution_count": 33
        }
      ]
    },
    {
      "cell_type": "markdown",
      "metadata": {
        "id": "koAL9Y0-9iha",
        "colab_type": "text"
      },
      "source": [
        "The commands will bring you to a Google Authentication step. You should see a screen with Google Drive File Stream wants to access your Google Account. After you allow permission, copy the given verification code and paste it in the box in Colab.\n",
        "In the notebook, click on the charcoal > on the top left of the notebook and click on Files. Locate the data folder you created earlier and find your data. Right-click on your data and select Copy Path. Store this copied path into a variable and you are ready to go."
      ]
    },
    {
      "cell_type": "markdown",
      "metadata": {
        "id": "hwfdFh_099X8",
        "colab_type": "text"
      },
      "source": [
        "Specify the exact path to your file and the seperator of your file to read it in."
      ]
    },
    {
      "cell_type": "markdown",
      "metadata": {
        "id": "bfjiyKlT-OdY",
        "colab_type": "text"
      },
      "source": [
        "Print out the dataframe to see if the import is correct."
      ]
    },
    {
      "cell_type": "markdown",
      "metadata": {
        "id": "0hvKTxOXGnlX",
        "colab_type": "text"
      },
      "source": [
        "# Predict CoiCop Level 4\n",
        "  \n",
        "How does it work? - Word Embeddings (left)\n",
        "* Words are translated in vectors which are learned representations\n",
        "* Embeddings are a multidimensional space (often 300+ dimesnsion) and words which relate to each other are closer in this space\n",
        "* Those spaces can be aligned for different languages\n",
        "* The example shows a three dimensional space with embeddings for three different languages, the translation are idealy close neighbours and the distance between milk and cheese is closer than the distance betwenn milk and potato  \n",
        "more information: https://towardsdatascience.com/introduction-to-word-embeddings-4cf857b12edc\n",
        "  \n",
        "How does it work? - Recurrent Neural Network (right)\n",
        "* Now every word is represented by a vector and the input to the model is a sequence of vectors\n",
        "* LSTM (Long Short Term Memory) Networks are good in solving sequential tasks, because they are able to remember information from previous states (words) and output a representation for the sentence \n",
        "* This representation is used to classify in to the coicop categories  \n",
        "more information: https://towardsdatascience.com/a-beginners-guide-on-sentiment-analysis-with-rnn-9e100627c02e \n",
        "\n",
        "\n"
      ]
    },
    {
      "cell_type": "markdown",
      "metadata": {
        "id": "q_kUPMnHLzyU",
        "colab_type": "text"
      },
      "source": [
        "![embed](https://drive.google.com/uc?id=1AoleK5q47ZTkPCtvxDD6icEpcnLc9viE)"
      ]
    },
    {
      "cell_type": "markdown",
      "metadata": {
        "id": "pFeMdvnl9_5n",
        "colab_type": "text"
      },
      "source": [
        "For the prediction you have to specify the names of certain columns in your dataframe which the tool will use.  \n",
        "* name_col is the column with the product name (mandatory)\n",
        "* category_col is the column with the category given by the supermarked (optional)\n",
        "* url_col is the column with  the url to the product (optional)\n",
        "* lang ist the language of the texts, supports 'de' and 'fr' (mandatory)\n",
        "* label_cat5 is the column with labels,if labeld (optional)\n",
        "\n"
      ]
    },
    {
      "cell_type": "code",
      "metadata": {
        "id": "1P-gtkLEGnwO",
        "colab_type": "code",
        "colab": {
          "base_uri": "https://localhost:8080/",
          "height": 66
        },
        "outputId": "1b4bcbad-8666-4eb2-beae-edc87954c786"
      },
      "source": [
        "# init predictor\n",
        "  \n",
        "name_col = 'WARENGRUPPE_BESCHREIBUNG1'\n",
        "category_col = 'category'\n",
        "url_col = 'url'\n",
        "lang = 'de'\n",
        "label_cat5 = None #'cc5' #'coicop4_str'\n",
        "\n",
        " #coicop_model #\n",
        "CoiCop_Predictor = coicop_model.predictor(df\n",
        "                                          , name_col\n",
        "                                          , category_col\n",
        "                                          , url_col\n",
        "                                          , label_cat5\n",
        "                                          , lang)\n"
      ],
      "execution_count": 18,
      "outputs": [
        {
          "output_type": "stream",
          "text": [
            "using name, category and words in url as input\n",
            "using german embeddings\n",
            "95% quantile no. of words per row is 11 (trained on 39)\n"
          ],
          "name": "stdout"
        }
      ]
    },
    {
      "cell_type": "code",
      "metadata": {
        "id": "4gqDNqEB7NPH",
        "colab_type": "code",
        "colab": {
          "base_uri": "https://localhost:8080/",
          "height": 33
        },
        "outputId": "9de0a17b-c346-49bc-8e15-4b3d9510928e"
      },
      "source": [
        "df = CoiCop_Predictor.predict_proba()"
      ],
      "execution_count": 19,
      "outputs": [
        {
          "output_type": "stream",
          "text": [
            "100%|██████████| 19/19 [00:01<00:00, 18.67it/s]\n"
          ],
          "name": "stderr"
        }
      ]
    },
    {
      "cell_type": "code",
      "metadata": {
        "id": "7RKD3DldVHmb",
        "colab_type": "code",
        "colab": {
          "base_uri": "https://localhost:8080/",
          "height": 228
        },
        "outputId": "4ac246a2-7138-4e37-a71b-1ef8465fef7f"
      },
      "source": [
        "df.iloc[111][:12]"
      ],
      "execution_count": null,
      "outputs": [
        {
          "output_type": "execute_result",
          "data": {
            "text/plain": [
              "PRODUKTART_BEZ                      STRUEMPFE                               \n",
              "ABTEILUNG_BEZ                       STRUEMPFE                               \n",
              "GESCHLECHT                                                                 -\n",
              "WARENGRUPPE_BESCHREIBUNG1                                   Feinstrumpfhosen\n",
              "category                                                   Neue WG verwenden\n",
              "url                                                                      NaN\n",
              "label_cat5                                                               NaN\n",
              "url_text                                                                    \n",
              "text                         Feinstrumpfhosen <sep> Neue WG verwenden <sep> \n",
              "cc3_pred                                                         99_Non-Food\n",
              "cc4_pred                                                        999_Non-Food\n",
              "cc5_pred                                                       9999_Non-Food\n",
              "Name: 111, dtype: object"
            ]
          },
          "metadata": {
            "tags": []
          },
          "execution_count": 10
        }
      ]
    },
    {
      "cell_type": "code",
      "metadata": {
        "id": "_H74YY4bFQot",
        "colab_type": "code",
        "colab": {
          "base_uri": "https://localhost:8080/",
          "height": 748
        },
        "outputId": "71ae0209-5af9-48b6-ada3-f9e172914f77"
      },
      "source": [
        "# Predicted ECOICOP Categories:\n",
        "df['cc5_pred'].value_counts()"
      ],
      "execution_count": 20,
      "outputs": [
        {
          "output_type": "execute_result",
          "data": {
            "text/plain": [
              "9999_Non-Food                                                            760\n",
              "1211_Coffee                                                              144\n",
              "1117_Breakfast cereals                                                   138\n",
              "1192_Salt, spices and culinary herbs                                     128\n",
              "1116_Pasta products and couscous                                         108\n",
              "1154_Other edible oils                                                    96\n",
              "1128_Other meat preparations                                              80\n",
              "1125_Other meats                                                          62\n",
              "2111_Spirits and liqueurs                                                 46\n",
              "1193_Baby food                                                            46\n",
              "1134_Frozen seafood                                                       41\n",
              "1118_Other cereal products                                                31\n",
              "1194_Ready-made meals                                                     31\n",
              "1112_Flours and other cereals                                             26\n",
              "1133_Fresh or chilled seafood                                             25\n",
              "1113_Bread                                                                25\n",
              "1185_Edible ices and ice cream                                            23\n",
              "1114_Other bakery products                                                17\n",
              "1182_Jams, marmalades and honey                                           16\n",
              "1147_Eggs                                                                 13\n",
              "1174_Potatoes                                                             13\n",
              "1145_Cheese and curd                                                      12\n",
              "2202_Cigars                                                               12\n",
              "1213_Cocoa and powdered chocolate                                         12\n",
              "2121_Wine from grapes                                                     12\n",
              "1223_Fruit and vegetable juices                                           11\n",
              "2203_Other tobacco products                                                9\n",
              "1183_Chocolate                                                             9\n",
              "1155_Other edible animal fats                                              8\n",
              "1162_Frozen fruit                                                          6\n",
              "1146_Other milk products                                                   6\n",
              "1176_Other tubers and products of tuber vegetables                         6\n",
              "1184_Confectionery products                                                5\n",
              "2201_Cigarettes                                                            4\n",
              "1141_Fresh whole milk                                                      4\n",
              "2131_Lager beer                                                            3\n",
              "1144_Yoghurt                                                               2\n",
              "1181_Sugar                                                                 2\n",
              "1212_Tea                                                                   2\n",
              "1191_Sauces, condiments                                                    1\n",
              "1173_Dried vegetables, other preserved or processed vegetables             1\n",
              "2132_Other alcoholic beer                                                  1\n",
              "1131_Fresh or chilled fish                                                 1\n",
              "1136_Other preserved or processed fish and seafood-based preparations      1\n",
              "Name: cc5_pred, dtype: int64"
            ]
          },
          "metadata": {
            "tags": []
          },
          "execution_count": 20
        }
      ]
    },
    {
      "cell_type": "code",
      "metadata": {
        "id": "cAHI1bNrk713",
        "colab_type": "code",
        "colab": {}
      },
      "source": [
        "if label_cat5 is not None:\n",
        "    CoiCop_Predictor.test_performance()\n",
        "    #CoiCop_Predictor.confusion_matrix()"
      ],
      "execution_count": 21,
      "outputs": []
    },
    {
      "cell_type": "markdown",
      "metadata": {
        "id": "0mc-zOEeAIO7",
        "colab_type": "text"
      },
      "source": [
        "## Explonation  \n",
        "  \n",
        "It shows the three best candidates for a product and highlights the words which contribute to the estimate (positiv: green, negative: red)\n",
        "If you leave the the brackets empty it will show a random product. If you want the explonation for a particular product, you can enter the text.  \n",
        "If you enter text it always needs to be in marks ''."
      ]
    },
    {
      "cell_type": "code",
      "metadata": {
        "id": "T1gClUgdwbfk",
        "colab_type": "code",
        "colab": {
          "base_uri": "https://localhost:8080/",
          "height": 461
        },
        "outputId": "fd2eb14b-11b2-47c1-b27c-7b016eb16822"
      },
      "source": [
        "text = 'Feinstrumpfhosen <sep> Neue WG verwenden <sep>  '\n",
        "categ= None #'1134_Frozen seafood'\n",
        "\n",
        "CoiCop_Predictor.tell_me_why(text,categ)"
      ],
      "execution_count": null,
      "outputs": [
        {
          "output_type": "execute_result",
          "data": {
            "text/html": [
              "\n",
              "    <style>\n",
              "    table.eli5-weights tr:hover {\n",
              "        filter: brightness(85%);\n",
              "    }\n",
              "</style>\n",
              "\n",
              "\n",
              "\n",
              "    \n",
              "\n",
              "    \n",
              "\n",
              "    \n",
              "\n",
              "    \n",
              "\n",
              "    \n",
              "\n",
              "    \n",
              "\n",
              "\n",
              "    \n",
              "\n",
              "    \n",
              "\n",
              "    \n",
              "\n",
              "    \n",
              "        \n",
              "\n",
              "    \n",
              "\n",
              "    \n",
              "        \n",
              "    \n",
              "        \n",
              "        \n",
              "    \n",
              "        <p style=\"margin-bottom: 0.5em; margin-top: 0em\">\n",
              "            <b>\n",
              "    \n",
              "        y=9999_Non-Food\n",
              "    \n",
              "</b>\n",
              "\n",
              "    \n",
              "    (probability <b>0.134</b>, score <b>-1.828</b>)\n",
              "\n",
              "top features\n",
              "        </p>\n",
              "    \n",
              "    <table class=\"eli5-weights\"\n",
              "           style=\"border-collapse: collapse; border: none; margin-top: 0em; table-layout: auto; margin-bottom: 2em;\">\n",
              "        <thead>\n",
              "        <tr style=\"border: none;\">\n",
              "            \n",
              "                <th style=\"padding: 0 1em 0 0.5em; text-align: right; border: none;\" title=\"Feature contribution already accounts for the feature value (for linear models, contribution = weight * feature value), and the sum of feature contributions is equal to the score or, for some classifiers, to the probability. Feature values are shown if &quot;show_feature_values&quot; is True.\">\n",
              "                    Contribution<sup>?</sup>\n",
              "                </th>\n",
              "            \n",
              "            <th style=\"padding: 0 0.5em 0 0.5em; text-align: left; border: none;\">Feature</th>\n",
              "            \n",
              "        </tr>\n",
              "        </thead>\n",
              "        <tbody>\n",
              "        \n",
              "            <tr style=\"background-color: hsl(120, 100.00%, 85.55%); border: none;\">\n",
              "    <td style=\"padding: 0 1em 0 0.5em; text-align: right; border: none;\">\n",
              "        +3.095\n",
              "    </td>\n",
              "    <td style=\"padding: 0 0.5em 0 0.5em; text-align: left; border: none;\">\n",
              "        Highlighted in text (sum)\n",
              "    </td>\n",
              "    \n",
              "</tr>\n",
              "        \n",
              "        \n",
              "\n",
              "        \n",
              "        \n",
              "            <tr style=\"background-color: hsl(0, 100.00%, 80.00%); border: none;\">\n",
              "    <td style=\"padding: 0 1em 0 0.5em; text-align: right; border: none;\">\n",
              "        -4.923\n",
              "    </td>\n",
              "    <td style=\"padding: 0 0.5em 0 0.5em; text-align: left; border: none;\">\n",
              "        &lt;BIAS&gt;\n",
              "    </td>\n",
              "    \n",
              "</tr>\n",
              "        \n",
              "\n",
              "        </tbody>\n",
              "    </table>\n",
              "\n",
              "    \n",
              "\n",
              "\n",
              "\n",
              "    <p style=\"margin-bottom: 2.5em; margin-top:-0.5em;\">\n",
              "        <span style=\"background-color: hsl(120, 100.00%, 60.00%); opacity: 1.00\" title=\"1.235\">Feinstrumpfhosen</span><span style=\"opacity: 0.80\"> &lt;</span><span style=\"background-color: hsl(120, 100.00%, 88.08%); opacity: 0.84\" title=\"0.219\">sep</span><span style=\"opacity: 0.80\">&gt; </span><span style=\"background-color: hsl(120, 100.00%, 80.06%); opacity: 0.87\" title=\"0.457\">Neue</span><span style=\"opacity: 0.80\"> </span><span style=\"background-color: hsl(120, 100.00%, 89.46%); opacity: 0.83\" title=\"0.184\">WG</span><span style=\"opacity: 0.80\"> </span><span style=\"background-color: hsl(120, 100.00%, 87.71%); opacity: 0.84\" title=\"0.229\">verwenden</span><span style=\"opacity: 0.80\"> &lt;</span><span style=\"background-color: hsl(120, 100.00%, 85.99%); opacity: 0.84\" title=\"0.276\">sep</span><span style=\"opacity: 0.80\">&gt;  </span>\n",
              "    </p>\n",
              "\n",
              "    \n",
              "        \n",
              "    \n",
              "        \n",
              "        \n",
              "    \n",
              "        <p style=\"margin-bottom: 0.5em; margin-top: 0em\">\n",
              "            <b>\n",
              "    \n",
              "        y=1141_Fresh whole milk\n",
              "    \n",
              "</b>\n",
              "\n",
              "    \n",
              "    (probability <b>0.045</b>, score <b>-3.027</b>)\n",
              "\n",
              "top features\n",
              "        </p>\n",
              "    \n",
              "    <table class=\"eli5-weights\"\n",
              "           style=\"border-collapse: collapse; border: none; margin-top: 0em; table-layout: auto; margin-bottom: 2em;\">\n",
              "        <thead>\n",
              "        <tr style=\"border: none;\">\n",
              "            \n",
              "                <th style=\"padding: 0 1em 0 0.5em; text-align: right; border: none;\" title=\"Feature contribution already accounts for the feature value (for linear models, contribution = weight * feature value), and the sum of feature contributions is equal to the score or, for some classifiers, to the probability. Feature values are shown if &quot;show_feature_values&quot; is True.\">\n",
              "                    Contribution<sup>?</sup>\n",
              "                </th>\n",
              "            \n",
              "            <th style=\"padding: 0 0.5em 0 0.5em; text-align: left; border: none;\">Feature</th>\n",
              "            \n",
              "        </tr>\n",
              "        </thead>\n",
              "        <tbody>\n",
              "        \n",
              "        \n",
              "\n",
              "        \n",
              "        \n",
              "            <tr style=\"background-color: hsl(0, 100.00%, 95.85%); border: none;\">\n",
              "    <td style=\"padding: 0 1em 0 0.5em; text-align: right; border: none;\">\n",
              "        -0.521\n",
              "    </td>\n",
              "    <td style=\"padding: 0 0.5em 0 0.5em; text-align: left; border: none;\">\n",
              "        Highlighted in text (sum)\n",
              "    </td>\n",
              "    \n",
              "</tr>\n",
              "        \n",
              "            <tr style=\"background-color: hsl(0, 100.00%, 87.53%); border: none;\">\n",
              "    <td style=\"padding: 0 1em 0 0.5em; text-align: right; border: none;\">\n",
              "        -2.506\n",
              "    </td>\n",
              "    <td style=\"padding: 0 0.5em 0 0.5em; text-align: left; border: none;\">\n",
              "        &lt;BIAS&gt;\n",
              "    </td>\n",
              "    \n",
              "</tr>\n",
              "        \n",
              "\n",
              "        </tbody>\n",
              "    </table>\n",
              "\n",
              "    \n",
              "\n",
              "\n",
              "\n",
              "    <p style=\"margin-bottom: 2.5em; margin-top:-0.5em;\">\n",
              "        <span style=\"background-color: hsl(120, 100.00%, 96.05%); opacity: 0.81\" title=\"0.045\">Feinstrumpfhosen</span><span style=\"opacity: 0.80\"> &lt;</span><span style=\"background-color: hsl(120, 100.00%, 95.62%); opacity: 0.81\" title=\"0.052\">sep</span><span style=\"opacity: 0.80\">&gt; </span><span style=\"background-color: hsl(0, 100.00%, 81.54%); opacity: 0.87\" title=\"-0.409\">Neue</span><span style=\"opacity: 0.80\"> </span><span style=\"background-color: hsl(0, 100.00%, 95.52%); opacity: 0.81\" title=\"-0.054\">WG</span><span style=\"opacity: 0.80\"> </span><span style=\"background-color: hsl(0, 100.00%, 76.87%); opacity: 0.89\" title=\"-0.565\">verwenden</span><span style=\"opacity: 0.80\"> &lt;</span><span style=\"background-color: hsl(120, 100.00%, 89.67%); opacity: 0.83\" title=\"0.179\">sep</span><span style=\"opacity: 0.80\">&gt;  </span>\n",
              "    </p>\n",
              "\n",
              "    \n",
              "        \n",
              "    \n",
              "        \n",
              "        \n",
              "    \n",
              "        <p style=\"margin-bottom: 0.5em; margin-top: 0em\">\n",
              "            <b>\n",
              "    \n",
              "        y=1143_Preserved milk\n",
              "    \n",
              "</b>\n",
              "\n",
              "    \n",
              "    (probability <b>0.036</b>, score <b>-3.253</b>)\n",
              "\n",
              "top features\n",
              "        </p>\n",
              "    \n",
              "    <table class=\"eli5-weights\"\n",
              "           style=\"border-collapse: collapse; border: none; margin-top: 0em; table-layout: auto; margin-bottom: 2em;\">\n",
              "        <thead>\n",
              "        <tr style=\"border: none;\">\n",
              "            \n",
              "                <th style=\"padding: 0 1em 0 0.5em; text-align: right; border: none;\" title=\"Feature contribution already accounts for the feature value (for linear models, contribution = weight * feature value), and the sum of feature contributions is equal to the score or, for some classifiers, to the probability. Feature values are shown if &quot;show_feature_values&quot; is True.\">\n",
              "                    Contribution<sup>?</sup>\n",
              "                </th>\n",
              "            \n",
              "            <th style=\"padding: 0 0.5em 0 0.5em; text-align: left; border: none;\">Feature</th>\n",
              "            \n",
              "        </tr>\n",
              "        </thead>\n",
              "        <tbody>\n",
              "        \n",
              "            <tr style=\"background-color: hsl(120, 100.00%, 93.39%); border: none;\">\n",
              "    <td style=\"padding: 0 1em 0 0.5em; text-align: right; border: none;\">\n",
              "        +1.012\n",
              "    </td>\n",
              "    <td style=\"padding: 0 0.5em 0 0.5em; text-align: left; border: none;\">\n",
              "        Highlighted in text (sum)\n",
              "    </td>\n",
              "    \n",
              "</tr>\n",
              "        \n",
              "        \n",
              "\n",
              "        \n",
              "        \n",
              "            <tr style=\"background-color: hsl(0, 100.00%, 81.91%); border: none;\">\n",
              "    <td style=\"padding: 0 1em 0 0.5em; text-align: right; border: none;\">\n",
              "        -4.265\n",
              "    </td>\n",
              "    <td style=\"padding: 0 0.5em 0 0.5em; text-align: left; border: none;\">\n",
              "        &lt;BIAS&gt;\n",
              "    </td>\n",
              "    \n",
              "</tr>\n",
              "        \n",
              "\n",
              "        </tbody>\n",
              "    </table>\n",
              "\n",
              "    \n",
              "\n",
              "\n",
              "\n",
              "    <p style=\"margin-bottom: 2.5em; margin-top:-0.5em;\">\n",
              "        <span style=\"background-color: hsl(120, 100.00%, 70.66%); opacity: 0.93\" title=\"0.793\">Feinstrumpfhosen</span><span style=\"opacity: 0.80\"> &lt;</span><span style=\"background-color: hsl(120, 100.00%, 95.10%); opacity: 0.81\" title=\"0.061\">sep</span><span style=\"opacity: 0.80\">&gt; </span><span style=\"background-color: hsl(0, 100.00%, 86.82%); opacity: 0.84\" title=\"-0.253\">Neue</span><span style=\"opacity: 0.80\"> WG </span><span style=\"background-color: hsl(120, 100.00%, 89.90%); opacity: 0.83\" title=\"0.173\">verwenden</span><span style=\"opacity: 0.80\"> &lt;</span><span style=\"background-color: hsl(120, 100.00%, 93.71%); opacity: 0.81\" title=\"0.088\">sep</span><span style=\"opacity: 0.80\">&gt;  </span>\n",
              "    </p>\n",
              "\n",
              "    \n",
              "\n",
              "\n",
              "    \n",
              "\n",
              "    \n",
              "\n",
              "    \n",
              "\n",
              "\n",
              "    \n",
              "\n",
              "    \n",
              "\n",
              "    \n",
              "\n",
              "    \n",
              "\n",
              "    \n",
              "\n",
              "    \n",
              "\n",
              "\n",
              "    \n",
              "\n",
              "    \n",
              "\n",
              "    \n",
              "\n",
              "    \n",
              "\n",
              "    \n",
              "\n",
              "    \n",
              "\n",
              "\n",
              "\n"
            ],
            "text/plain": [
              "Explanation(estimator=\"SGDClassifier(alpha=0.001, average=False, class_weight=None,\\n              early_stopping=False, epsilon=0.1, eta0=0.0, fit_intercept=True,\\n              l1_ratio=0.15, learning_rate='optimal', loss='log', max_iter=1000,\\n              n_iter_no_change=5, n_jobs=None, penalty='elasticnet',\\n              power_t=0.5, random_state=RandomState(MT19937) at 0x7F7805DBC048,\\n              shuffle=True, tol=0.001, validation_fraction=0.1, verbose=0,\\n              warm_start=False)\", description=None, error=None, method='linear model', is_regression=False, targets=[TargetExplanation(target='9999_Non-Food', feature_weights=FeatureWeights(pos=[FeatureWeight(feature='[0] Feinstrumpfhosen', weight=1.235251966905317, std=None, value=1.0), FeatureWeight(feature='[5] sep', weight=0.5521560220846907, std=None, value=1.0), FeatureWeight(feature='[2] Neue', weight=0.4567805721618953, std=None, value=1.0), FeatureWeight(feature='[1] sep', weight=0.4382840742449622, std=None, value=1.0), FeatureWeight(feature='[4] verwenden', weight=0.22881065532395695, std=None, value=1.0), FeatureWeight(feature='[3] WG', weight=0.1838363791881941, std=None, value=1.0)], neg=[FeatureWeight(feature='<BIAS>', weight=-4.92333466621069, std=None, value=1.0)], pos_remaining=0, neg_remaining=0), proba=0.1342689311090794, score=-1.8282149963016736, weighted_spans=WeightedSpans(docs_weighted_spans=[DocWeightedSpans(document='Feinstrumpfhosen <sep> Neue WG verwenden <sep>  ', spans=[('Feinstrumpfhosen', [(0, 16)], 1.235251966905317), ('sep', [(18, 21)], 0.4382840742449622), ('Neue', [(23, 27)], 0.4567805721618953), ('WG', [(28, 30)], 0.1838363791881941), ('verwenden', [(31, 40)], 0.22881065532395695), ('sep', [(42, 45)], 0.5521560220846907)], preserve_density=False, vec_name=None)], other=FeatureWeights(pos=[FeatureWeight(feature=<FormattedFeatureName 'Highlighted in text (sum)'>, weight=3.095119669909016, std=None, value=None)], neg=[FeatureWeight(feature='<BIAS>', weight=-4.92333466621069, std=None, value=1.0)], pos_remaining=0, neg_remaining=0)), heatmap=None), TargetExplanation(target='1141_Fresh whole milk', feature_weights=FeatureWeights(pos=[FeatureWeight(feature='[5] sep', weight=0.3572171777647049, std=None, value=1.0), FeatureWeight(feature='[1] sep', weight=0.10469107811091977, std=None, value=1.0), FeatureWeight(feature='[0] Feinstrumpfhosen', weight=0.045213468434299846, std=None, value=1.0)], neg=[FeatureWeight(feature='<BIAS>', weight=-2.5063673125919754, std=None, value=1.0), FeatureWeight(feature='[4] verwenden', weight=-0.5648256433877491, std=None, value=1.0), FeatureWeight(feature='[2] Neue', weight=-0.40923137761063483, std=None, value=1.0), FeatureWeight(feature='[3] WG', weight=-0.05416460968591055, std=None, value=1.0)], pos_remaining=0, neg_remaining=0), proba=0.04480475758372302, score=-3.027467218966345, weighted_spans=WeightedSpans(docs_weighted_spans=[DocWeightedSpans(document='Feinstrumpfhosen <sep> Neue WG verwenden <sep>  ', spans=[('Feinstrumpfhosen', [(0, 16)], 0.045213468434299846), ('sep', [(18, 21)], 0.10469107811091977), ('Neue', [(23, 27)], -0.40923137761063483), ('WG', [(28, 30)], -0.05416460968591055), ('verwenden', [(31, 40)], -0.5648256433877491), ('sep', [(42, 45)], 0.3572171777647049)], preserve_density=False, vec_name=None)], other=FeatureWeights(pos=[], neg=[FeatureWeight(feature='<BIAS>', weight=-2.5063673125919754, std=None, value=1.0), FeatureWeight(feature=<FormattedFeatureName 'Highlighted in text (sum)'>, weight=-0.52109990637437, std=None, value=None)], pos_remaining=0, neg_remaining=0)), heatmap=None), TargetExplanation(target='1143_Preserved milk', feature_weights=FeatureWeights(pos=[FeatureWeight(feature='[0] Feinstrumpfhosen', weight=0.79343753690751, std=None, value=1.0), FeatureWeight(feature='[5] sep', weight=0.1758206537883063, std=None, value=1.0), FeatureWeight(feature='[4] verwenden', weight=0.17284866093774054, std=None, value=1.0), FeatureWeight(feature='[1] sep', weight=0.12293360582301516, std=None, value=1.0)], neg=[FeatureWeight(feature='<BIAS>', weight=-4.265097936946824, std=None, value=1.0), FeatureWeight(feature='[2] Neue', weight=-0.2528615582355712, std=None, value=1.0)], pos_remaining=0, neg_remaining=0), proba=0.03609778626074858, score=-3.2529190377258232, weighted_spans=WeightedSpans(docs_weighted_spans=[DocWeightedSpans(document='Feinstrumpfhosen <sep> Neue WG verwenden <sep>  ', spans=[('Feinstrumpfhosen', [(0, 16)], 0.79343753690751), ('sep', [(18, 21)], 0.12293360582301516), ('Neue', [(23, 27)], -0.2528615582355712), ('verwenden', [(31, 40)], 0.17284866093774054), ('sep', [(42, 45)], 0.1758206537883063)], preserve_density=False, vec_name=None)], other=FeatureWeights(pos=[FeatureWeight(feature=<FormattedFeatureName 'Highlighted in text (sum)'>, weight=1.0121788992210008, std=None, value=None)], neg=[FeatureWeight(feature='<BIAS>', weight=-4.265097936946824, std=None, value=1.0)], pos_remaining=0, neg_remaining=0)), heatmap=None)], feature_importances=None, decision_tree=None, highlight_spaces=None, transition_features=None, image=None)"
            ]
          },
          "metadata": {
            "tags": []
          },
          "execution_count": 11
        }
      ]
    },
    {
      "cell_type": "markdown",
      "metadata": {
        "id": "SMjTYrR87e4K",
        "colab_type": "text"
      },
      "source": [
        "# Annotation"
      ]
    },
    {
      "cell_type": "markdown",
      "metadata": {
        "id": "FGBoWMkJ_HPd",
        "colab_type": "text"
      },
      "source": [
        "For the annotation tool you have to specify the naes of certain columns in your dataframe which the tool will use.  \n",
        "* Labeled_by takes your name and stores it after every item you labeld.  \n",
        "* Text column 1 is the name of the column for the first line of text which will be displayed to help you labeling the product, usually this is the product name.  \n",
        "* Text column 2 is the name of the column for the second line of text which will be displayed to help you labeling the product, this could be the category or the translation.  \n",
        "* The URL column is the name of the column where the url of the scraped product is located (if it is in the dataframe). The url might be helpfull if you are unsure about the product nd want to look up the whole page on the website. If you do not have the url in your data you can leave it empty.  \n",
        "* CoiCop 5 prediction is the column where the prediction is stored. The prediction will appear preselected in the dropdown menu.   \n",
        "  \n",
        "The data are sorted in a way that catogies with few labels come first, if predictions of those label are available.\n"
      ]
    },
    {
      "cell_type": "code",
      "metadata": {
        "id": "PQS_e0NMYge2",
        "colab_type": "code",
        "colab": {}
      },
      "source": [
        " add_categories = ['12111 Hairdressing for men and children',\n",
        "                   '12112 Hairdressing for women',\n",
        "                   '12113 Personal grooming treatments',\n",
        "                   '12121 Electric appliances for personal care',\n",
        "                   '12131 Non-electrical appliances',\n",
        "                   '12132 Articles for personal hygiene (wellness, esoteric beauty) ',\n",
        "                   '06110 Pharmaceutical products',\n",
        "                   '06131 Corrective eye-glasses and contact lenses',\n",
        "                   '06110 Pharmaceutical products',\n",
        "                   '06139 Other therapeutic appliances and equipment' ,\n",
        "                   '5111_Household furniture',\n",
        "                    '5112_Garden furniture',\n",
        "                    '5113_Lighting equipment',\n",
        "                    '5119_Other furniture and furnishings',\n",
        "                    '5121_Carpets and rugs',\n",
        "                    '5122_Other floor coverings',\n",
        "                    '5123_Services of laying of fitted carpets and floor coverings',\n",
        "                    '5130_Repair of furniture, furnishings and floor coverings',\n",
        "                    '5201_Furnishing fabrics and curtains',\n",
        "                    '5202_Bed linen',\n",
        "                    '5203_Table linen and bathroom linen',\n",
        "                    '5204_Repair of household textiles',\n",
        "                    '5209_Other household textiles',\n",
        "                    '5311_Refrigerators, freezers and fridge-freezers',\n",
        "                    '5312_Clothes washing machines, clothes drying machines and dish washing machines',\n",
        "                    '5313_Cookers',\n",
        "                    '5314_Heaters, air conditioners',\n",
        "                    '5315_Cleaning equipment',\n",
        "                    '5319_Other major household appliances',\n",
        "                    '5321_Food processing appliances',\n",
        "                    '5322_Coffee machines, tea makers and similar appliances',\n",
        "                    '5323_Irons',\n",
        "                    '5324_Toasters and grills',\n",
        "                    '5329_Other small electric household appliances',\n",
        "                    '5330_Repair of household appliances',\n",
        "                    '5401_Glassware, crystal-ware, ceramic ware and chinaware',\n",
        "                    '5402_Cutlery, flatware and silverware',\n",
        "                    '5403_Non-electric kitchen utensils and articles',\n",
        "                    '5404_Repair of glassware, tableware and household utensils',\n",
        "                    '5511_Motorised major tools and equipment',\n",
        "                    '5512_Repair, leasing and rental of major tools and equipment',\n",
        "                    '5521_Non-motorised small tools',\n",
        "                    '5522_Miscellaneous small tool accessories',\n",
        "                    '5523_Repair of non-motorised small tools and miscellaneous accessories',\n",
        "                    '5611_Cleaning and maintenance products',\n",
        "                    '5612_Other non-durable small household articles',\n",
        "                    '5621_Domestic services by paid staff',\n",
        "                    '5622_Cleaning services',\n",
        "                    '5623_Hire of furniture and furnishings',\n",
        "                    '5629_Other domestic services and household services'\n",
        "                   ]"
      ],
      "execution_count": 22,
      "outputs": []
    },
    {
      "cell_type": "code",
      "metadata": {
        "id": "1xmoZj7JdS0o",
        "colab_type": "code",
        "colab": {}
      },
      "source": [
        "# init labeler\n",
        "\n",
        "labeled_by = 'Erik'\n",
        "text_column_1 = 'WARENGRUPPE_BESCHREIBUNG1'\n",
        "text_column_2 = 'category'\n",
        "url_column = 'url'\n",
        "CoiCop_5_pred_col = 'cc5_pred'\n",
        "Use_probabilities = False\n",
        "\n",
        "#labeler_cc5\n",
        "CoiCop_Labeler = labeler_cc5.labeler( labeled_by\n",
        "                        , df\n",
        "                        , text_column_1\n",
        "                        , text_column_2\n",
        "                        , url_column\n",
        "                        , CoiCop_5_pred_col\n",
        "                        , Use_probabilities\n",
        "                        , add_categories)"
      ],
      "execution_count": 25,
      "outputs": []
    },
    {
      "cell_type": "markdown",
      "metadata": {
        "id": "Ph_zFG30BeEn",
        "colab_type": "text"
      },
      "source": [
        "Now you are ready to label, after executing the next line you will see:\n",
        "* Select category you want to label\n",
        "* Text 1\n",
        "* Text 2\n",
        "* URL\n",
        "* Dropdown with one category which is the prediction for the product. If you are dissatisfied with it, you can click on the dropdown and select the right one.\n",
        "* Next-Button will skip this product\n",
        "* Save-Button will annotate the selected category to your dataframe\n",
        "  \n",
        "If you finished labeling just jump to the next line."
      ]
    },
    {
      "cell_type": "code",
      "metadata": {
        "id": "soYye5zedVXk",
        "colab_type": "code",
        "colab": {
          "base_uri": "https://localhost:8080/",
          "height": 288,
          "referenced_widgets": [
            "3238bcafb4334fe69a30b02eb4df001c",
            "eca7e8e92aeb4a96b7819a2f340cb152",
            "844f5a85240f4b56b5c184fec5caf55c",
            "9bfec0aed45a475093f328a07057b02f",
            "3dfad39b0a7f42b9a77c8026d04cf97e",
            "999c7773cc2248ff9a053b82a0caa5a1",
            "8ba729a209bb482291683f96c8710468",
            "b8982228880a4df9acd10cb0261dcdb8",
            "ce24ca6928a4466fb8fe18587b65e197",
            "3de281d8b04c44fd804b8859900ccf76",
            "46654ba49b5046ea952173a3e73f1979",
            "127815837ec744ad86d847499fdff9e9",
            "373eb713e27a45b78e0662de0a9a3bae",
            "f8f8df3a9db94c019a9a971a6b6a31f6",
            "449a8e0619444de7b32a77ed9217580f",
            "0eb33ebb094842eb8bdde400595d220f",
            "40cd13b1c5cd4b5186773a6db79a7712",
            "058a18ed028d4084a0a847dfcca1fecf",
            "f449840b1b4845a5b18fa52fb9422c63",
            "2939de08fc2c491eb19943bcb5239e5a",
            "01abb12678894383971517d6c328e4c2",
            "42ad84a49fc24142a33f7c86b2b786a8",
            "5c5e714c06f64a29887a9657dc017b8b",
            "e93558bf03ad4bb4a2609fcb8bc3fdb1",
            "4c01f2b2cac94741922f86617fc4cc04",
            "c61b20d5fc384d2daebc708a4850b5d0",
            "fd8f968bb6ad492faf7b335517796537",
            "52cd83e4900a49e096c4de249930b835",
            "eaa43029eb394dadb1267c197b0ecd85",
            "6068c4d4f1764d4ea9d1b90e5615b7b2",
            "90e9884905654b1dbddf17131c208ad9",
            "c792997d7c7844e2872e56514e3cabb6",
            "60ab169a221b4ff294e8084a7dcffad3",
            "2314f13740d644aa9d4c1e4884b5b5bf",
            "c2a4bf6b5e1e489181a20e11366e0847",
            "08e96f7a7c714534a4e8d1459466c2b0",
            "20009d8aab484558968494bc25f93e27"
          ]
        },
        "outputId": "3da7a234-f0be-4792-c124-abab1f8b34e4"
      },
      "source": [
        "CoiCop_Labeler.start_to_label()"
      ],
      "execution_count": 26,
      "outputs": [
        {
          "output_type": "display_data",
          "data": {
            "application/vnd.jupyter.widget-view+json": {
              "model_id": "3238bcafb4334fe69a30b02eb4df001c",
              "version_minor": 0,
              "version_major": 2
            },
            "text/plain": [
              "VBox(children=(Box(children=(Dropdown(description='Select category to label:', layout=Layout(height='60px', wi…"
            ]
          },
          "metadata": {
            "tags": []
          }
        }
      ]
    },
    {
      "cell_type": "markdown",
      "metadata": {
        "id": "zlEm5YPfCff9",
        "colab_type": "text"
      },
      "source": [
        "The next line will print out your current progress of annotating the data."
      ]
    },
    {
      "cell_type": "code",
      "metadata": {
        "id": "kWzefcaMdXh9",
        "colab_type": "code",
        "colab": {
          "base_uri": "https://localhost:8080/",
          "height": 50
        },
        "outputId": "b8579203-4888-4a01-e606-5178f47f601b"
      },
      "source": [
        "CoiCop_Labeler.get_stats()"
      ],
      "execution_count": 27,
      "outputs": [
        {
          "output_type": "stream",
          "text": [
            "new labels: -1239\n",
            "in total 0 of 1999 labeled ( 0.0 %)\n"
          ],
          "name": "stdout"
        }
      ]
    },
    {
      "cell_type": "markdown",
      "metadata": {
        "id": "PGSEDm3EDSpT",
        "colab_type": "text"
      },
      "source": [
        "Output the data including annotation."
      ]
    },
    {
      "cell_type": "code",
      "metadata": {
        "id": "3051UrA5dZT0",
        "colab_type": "code",
        "colab": {
          "base_uri": "https://localhost:8080/",
          "height": 286
        },
        "outputId": "c28d953e-76be-4104-8cb7-b92fa9a87533"
      },
      "source": [
        "df= CoiCop_Labeler.output_labels()\n",
        "df[:1]"
      ],
      "execution_count": 28,
      "outputs": [
        {
          "output_type": "execute_result",
          "data": {
            "text/html": [
              "<div>\n",
              "<style scoped>\n",
              "    .dataframe tbody tr th:only-of-type {\n",
              "        vertical-align: middle;\n",
              "    }\n",
              "\n",
              "    .dataframe tbody tr th {\n",
              "        vertical-align: top;\n",
              "    }\n",
              "\n",
              "    .dataframe thead th {\n",
              "        text-align: right;\n",
              "    }\n",
              "</style>\n",
              "<table border=\"1\" class=\"dataframe\">\n",
              "  <thead>\n",
              "    <tr style=\"text-align: right;\">\n",
              "      <th></th>\n",
              "      <th>PRODUKTART_BEZ</th>\n",
              "      <th>ABTEILUNG_BEZ</th>\n",
              "      <th>GESCHLECHT</th>\n",
              "      <th>WARENGRUPPE_BESCHREIBUNG1</th>\n",
              "      <th>category</th>\n",
              "      <th>url</th>\n",
              "      <th>label_cat5</th>\n",
              "      <th>url_text</th>\n",
              "      <th>text</th>\n",
              "      <th>cc3_pred</th>\n",
              "      <th>cc4_pred</th>\n",
              "      <th>cc5_pred</th>\n",
              "      <th>1111_Rice</th>\n",
              "      <th>1112_Flours and other cereals</th>\n",
              "      <th>1113_Bread</th>\n",
              "      <th>1114_Other bakery products</th>\n",
              "      <th>1115_Pizza and quiche</th>\n",
              "      <th>1116_Pasta products and couscous</th>\n",
              "      <th>1117_Breakfast cereals</th>\n",
              "      <th>1118_Other cereal products</th>\n",
              "      <th>1121_Beef and veal</th>\n",
              "      <th>1122_Pork</th>\n",
              "      <th>1123_Lamb and goat</th>\n",
              "      <th>1124_Poultry</th>\n",
              "      <th>1125_Other meats</th>\n",
              "      <th>1126_Edible offal</th>\n",
              "      <th>1127_Dried, salted or smoked meat</th>\n",
              "      <th>1128_Other meat preparations</th>\n",
              "      <th>1131_Fresh or chilled fish</th>\n",
              "      <th>1132_Frozen fish</th>\n",
              "      <th>1133_Fresh or chilled seafood</th>\n",
              "      <th>1134_Frozen seafood</th>\n",
              "      <th>1135_Dried, smoked or salted fish and seafood</th>\n",
              "      <th>1136_Other preserved or processed fish and seafood-based preparations</th>\n",
              "      <th>1141_Fresh whole milk</th>\n",
              "      <th>1142_Fresh low fat milk</th>\n",
              "      <th>1143_Preserved milk</th>\n",
              "      <th>1144_Yoghurt</th>\n",
              "      <th>1145_Cheese and curd</th>\n",
              "      <th>1146_Other milk products</th>\n",
              "      <th>...</th>\n",
              "      <th>1173_Dried vegetables, other preserved or processed vegetables</th>\n",
              "      <th>1174_Potatoes</th>\n",
              "      <th>1175_Crisps</th>\n",
              "      <th>1176_Other tubers and products of tuber vegetables</th>\n",
              "      <th>1181_Sugar</th>\n",
              "      <th>1182_Jams, marmalades and honey</th>\n",
              "      <th>1183_Chocolate</th>\n",
              "      <th>1184_Confectionery products</th>\n",
              "      <th>1185_Edible ices and ice cream</th>\n",
              "      <th>1186_Artificial sugar substitutes</th>\n",
              "      <th>1191_Sauces, condiments</th>\n",
              "      <th>1192_Salt, spices and culinary herbs</th>\n",
              "      <th>1193_Baby food</th>\n",
              "      <th>1194_Ready-made meals</th>\n",
              "      <th>1199_Other food products n.e.c.</th>\n",
              "      <th>1211_Coffee</th>\n",
              "      <th>1212_Tea</th>\n",
              "      <th>1213_Cocoa and powdered chocolate</th>\n",
              "      <th>1221_Mineral or spring waters</th>\n",
              "      <th>1222_Soft drinks</th>\n",
              "      <th>1223_Fruit and vegetable juices</th>\n",
              "      <th>2111_Spirits and liqueurs</th>\n",
              "      <th>2112_Alcoholic soft drinks</th>\n",
              "      <th>2121_Wine from grapes</th>\n",
              "      <th>2122_Wine from other fruits</th>\n",
              "      <th>2123_Fortified wines</th>\n",
              "      <th>2124_Wine-based drinks</th>\n",
              "      <th>2131_Lager beer</th>\n",
              "      <th>2132_Other alcoholic beer</th>\n",
              "      <th>2133_Low and non-alcoholic beer</th>\n",
              "      <th>2134_Beer-based drinks</th>\n",
              "      <th>2201_Cigarettes</th>\n",
              "      <th>2202_Cigars</th>\n",
              "      <th>2203_Other tobacco products</th>\n",
              "      <th>9999_Non-Food</th>\n",
              "      <th>max_score</th>\n",
              "      <th>labeled_by</th>\n",
              "      <th>cc3</th>\n",
              "      <th>cc4</th>\n",
              "      <th>cc5</th>\n",
              "    </tr>\n",
              "  </thead>\n",
              "  <tbody>\n",
              "    <tr>\n",
              "      <th>0</th>\n",
              "      <td>DAMENWAESCHE</td>\n",
              "      <td>DA.-TAGW.</td>\n",
              "      <td>Damen</td>\n",
              "      <td>D-Slips</td>\n",
              "      <td>Tageswäsche-Damen</td>\n",
              "      <td>https://www.galeria.de/Schoeller-Damen-Hueftsl...</td>\n",
              "      <td>9999_Non-Food</td>\n",
              "      <td>schoeller damen hueftslip pack html src</td>\n",
              "      <td>D-Slips &lt;sep&gt; Tageswäsche-Damen &lt;sep&gt; schoelle...</td>\n",
              "      <td>11_Food</td>\n",
              "      <td>111_Bread and cereals</td>\n",
              "      <td>1116_Pasta products and couscous</td>\n",
              "      <td>0.001608</td>\n",
              "      <td>0.001574</td>\n",
              "      <td>0.022974</td>\n",
              "      <td>0.017038</td>\n",
              "      <td>0.000169</td>\n",
              "      <td>0.268262</td>\n",
              "      <td>0.002265</td>\n",
              "      <td>0.000798</td>\n",
              "      <td>0.000073</td>\n",
              "      <td>0.000375</td>\n",
              "      <td>0.000002</td>\n",
              "      <td>0.000767</td>\n",
              "      <td>0.000007</td>\n",
              "      <td>0.000051</td>\n",
              "      <td>0.000606</td>\n",
              "      <td>0.008287</td>\n",
              "      <td>0.000105</td>\n",
              "      <td>0.000817</td>\n",
              "      <td>0.002088</td>\n",
              "      <td>0.000758</td>\n",
              "      <td>0.000366</td>\n",
              "      <td>0.002999</td>\n",
              "      <td>0.00037</td>\n",
              "      <td>0.001108</td>\n",
              "      <td>0.000475</td>\n",
              "      <td>0.000645</td>\n",
              "      <td>0.031194</td>\n",
              "      <td>0.00221</td>\n",
              "      <td>...</td>\n",
              "      <td>0.031773</td>\n",
              "      <td>0.002507</td>\n",
              "      <td>0.000253</td>\n",
              "      <td>0.001993</td>\n",
              "      <td>0.000004</td>\n",
              "      <td>0.00821</td>\n",
              "      <td>0.001788</td>\n",
              "      <td>0.00237</td>\n",
              "      <td>0.000032</td>\n",
              "      <td>0.000509</td>\n",
              "      <td>0.007687</td>\n",
              "      <td>0.216767</td>\n",
              "      <td>0.00374</td>\n",
              "      <td>0.020162</td>\n",
              "      <td>0.002495</td>\n",
              "      <td>0.012391</td>\n",
              "      <td>0.012769</td>\n",
              "      <td>0.000417</td>\n",
              "      <td>0.000659</td>\n",
              "      <td>0.000386</td>\n",
              "      <td>0.000442</td>\n",
              "      <td>0.002778</td>\n",
              "      <td>0.000054</td>\n",
              "      <td>0.001995</td>\n",
              "      <td>0.000027</td>\n",
              "      <td>0.000408</td>\n",
              "      <td>0.000481</td>\n",
              "      <td>0.000096</td>\n",
              "      <td>0.001152</td>\n",
              "      <td>0.000011</td>\n",
              "      <td>0.001057</td>\n",
              "      <td>0.000176</td>\n",
              "      <td>0.000775</td>\n",
              "      <td>0.000079</td>\n",
              "      <td>0.232724</td>\n",
              "      <td>0.268262</td>\n",
              "      <td>None</td>\n",
              "      <td>None</td>\n",
              "      <td>None</td>\n",
              "      <td>None</td>\n",
              "    </tr>\n",
              "  </tbody>\n",
              "</table>\n",
              "<p>1 rows × 92 columns</p>\n",
              "</div>"
            ],
            "text/plain": [
              "                             PRODUKTART_BEZ  ...   cc5\n",
              "0  DAMENWAESCHE                              ...  None\n",
              "\n",
              "[1 rows x 92 columns]"
            ]
          },
          "metadata": {
            "tags": []
          },
          "execution_count": 28
        }
      ]
    },
    {
      "cell_type": "markdown",
      "metadata": {
        "id": "5WGhgHO8EbTq",
        "colab_type": "text"
      },
      "source": [
        "## Save data to Local Drive"
      ]
    },
    {
      "cell_type": "code",
      "metadata": {
        "id": "KnQkARJggsWg",
        "colab_type": "code",
        "colab": {}
      },
      "source": [
        "from google.colab import files\n",
        "\n",
        "df.to_csv('df_out.csv',sep='|')\n",
        "files.download('df_out.csv')"
      ],
      "execution_count": null,
      "outputs": []
    },
    {
      "cell_type": "markdown",
      "metadata": {
        "id": "mP34Q9mpNBl1",
        "colab_type": "text"
      },
      "source": [
        "## Save data to Google Drive"
      ]
    },
    {
      "cell_type": "code",
      "metadata": {
        "id": "5uVxlDBDTbUa",
        "colab_type": "code",
        "colab": {
          "base_uri": "https://localhost:8080/",
          "height": 35
        },
        "outputId": "f52f7c49-8fbc-4593-b38f-ee47453c79bd"
      },
      "source": [
        "df.to_csv(path+data_path+file_path,sep='|')\n",
        "print(file_path,'saved',len(df),'observation',sum(df.cc5.isna()==False),'labeled')"
      ],
      "execution_count": null,
      "outputs": [
        {
          "output_type": "stream",
          "text": [
            "training.csv saved 9584 observation 8473 labeled\n"
          ],
          "name": "stdout"
        }
      ]
    },
    {
      "cell_type": "code",
      "metadata": {
        "id": "sTstS8YdTyEi",
        "colab_type": "code",
        "colab": {}
      },
      "source": [
        ""
      ],
      "execution_count": null,
      "outputs": []
    }
  ]
}