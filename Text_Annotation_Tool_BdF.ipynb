{
  "nbformat": 4,
  "nbformat_minor": 0,
  "metadata": {
    "colab": {
      "name": "Text_Annotation_Tool.ipynb",
      "provenance": [],
      "collapsed_sections": [
        "DIJ6I9wWjUyL",
        "mP34Q9mpNBl1"
      ],
      "toc_visible": true,
      "authorship_tag": "ABX9TyNj0PLLBY63f8FCCRJSw05U",
      "include_colab_link": true
    },
    "kernelspec": {
      "name": "python3",
      "display_name": "Python 3"
    },
    "widgets": {
      "application/vnd.jupyter.widget-state+json": {
        "05b8e9130d91471c925122d730ee6b55": {
          "model_module": "@jupyter-widgets/controls",
          "model_name": "VBoxModel",
          "state": {
            "_view_name": "VBoxView",
            "_dom_classes": [],
            "_model_name": "VBoxModel",
            "_view_module": "@jupyter-widgets/controls",
            "_model_module_version": "1.5.0",
            "_view_count": null,
            "_view_module_version": "1.5.0",
            "box_style": "",
            "layout": "IPY_MODEL_2b050e17071046aa8683cdea63b684ea",
            "_model_module": "@jupyter-widgets/controls",
            "children": [
              "IPY_MODEL_68c3f8aa1b0a4b8db1590a07dad6267a",
              "IPY_MODEL_505625e6f59c4e6bb87e80f5334f862e",
              "IPY_MODEL_85a61dcfc0fe4daaa83e43943ddfd5d3",
              "IPY_MODEL_dc3ebafded164ec9a16e357a9bbf0414",
              "IPY_MODEL_84d3a310e7ea4ecf80a13b6cc53ea892",
              "IPY_MODEL_6485ff7333b440f58561581c2fe1e579"
            ]
          }
        },
        "2b050e17071046aa8683cdea63b684ea": {
          "model_module": "@jupyter-widgets/base",
          "model_name": "LayoutModel",
          "state": {
            "_view_name": "LayoutView",
            "grid_template_rows": null,
            "right": null,
            "justify_content": null,
            "_view_module": "@jupyter-widgets/base",
            "overflow": null,
            "_model_module_version": "1.2.0",
            "_view_count": null,
            "flex_flow": null,
            "width": null,
            "min_width": null,
            "border": null,
            "align_items": null,
            "bottom": null,
            "_model_module": "@jupyter-widgets/base",
            "top": null,
            "grid_column": null,
            "overflow_y": null,
            "overflow_x": null,
            "grid_auto_flow": null,
            "grid_area": null,
            "grid_template_columns": null,
            "flex": null,
            "_model_name": "LayoutModel",
            "justify_items": null,
            "grid_row": null,
            "max_height": null,
            "align_content": null,
            "visibility": null,
            "align_self": null,
            "height": null,
            "min_height": null,
            "padding": null,
            "grid_auto_rows": null,
            "grid_gap": null,
            "max_width": null,
            "order": null,
            "_view_module_version": "1.2.0",
            "grid_template_areas": null,
            "object_position": null,
            "object_fit": null,
            "grid_auto_columns": null,
            "margin": null,
            "display": null,
            "left": null
          }
        },
        "68c3f8aa1b0a4b8db1590a07dad6267a": {
          "model_module": "@jupyter-widgets/controls",
          "model_name": "BoxModel",
          "state": {
            "_view_name": "BoxView",
            "_dom_classes": [],
            "_model_name": "BoxModel",
            "_view_module": "@jupyter-widgets/controls",
            "_model_module_version": "1.5.0",
            "_view_count": null,
            "_view_module_version": "1.5.0",
            "box_style": "",
            "layout": "IPY_MODEL_c651b1e91c744b52acac7614bcbab21c",
            "_model_module": "@jupyter-widgets/controls",
            "children": [
              "IPY_MODEL_5c6daba8b6b54ef1b82e5e3975992613",
              "IPY_MODEL_6118a0e151ed42a09c44acad619ad381"
            ]
          }
        },
        "505625e6f59c4e6bb87e80f5334f862e": {
          "model_module": "@jupyter-widgets/controls",
          "model_name": "TextModel",
          "state": {
            "_view_name": "TextView",
            "style": "IPY_MODEL_ad935b790f004ec7972f405d9066f8d5",
            "_dom_classes": [],
            "description": "Text 1:",
            "_model_name": "TextModel",
            "placeholder": "​",
            "_view_module": "@jupyter-widgets/controls",
            "_model_module_version": "1.5.0",
            "value": "Carrefour Brasserie Boulettes Sauce Tomate et Purée de Pommes de Terre 450 g",
            "_view_count": null,
            "disabled": false,
            "_view_module_version": "1.5.0",
            "continuous_update": true,
            "description_tooltip": null,
            "_model_module": "@jupyter-widgets/controls",
            "layout": "IPY_MODEL_cb4198779072402c943fa568881d601f"
          }
        },
        "85a61dcfc0fe4daaa83e43943ddfd5d3": {
          "model_module": "@jupyter-widgets/controls",
          "model_name": "TextModel",
          "state": {
            "_view_name": "TextView",
            "style": "IPY_MODEL_7de88cd02b3f48ef97e0a7c3a6dbed2a",
            "_dom_classes": [],
            "description": "Text 2:",
            "_model_name": "TextModel",
            "placeholder": "​",
            "_view_module": "@jupyter-widgets/controls",
            "_model_module_version": "1.5.0",
            "value": "Drive Produits frais Traiteur & plats cuisinés Plats préparés Cuisine traditionnelle Plats 1 personne",
            "_view_count": null,
            "disabled": false,
            "_view_module_version": "1.5.0",
            "continuous_update": true,
            "description_tooltip": null,
            "_model_module": "@jupyter-widgets/controls",
            "layout": "IPY_MODEL_3bb3ea1a62d7413da2dc43ff15001b82"
          }
        },
        "dc3ebafded164ec9a16e357a9bbf0414": {
          "model_module": "@jupyter-widgets/controls",
          "model_name": "TextModel",
          "state": {
            "_view_name": "TextView",
            "style": "IPY_MODEL_77a3660552ad4207b6b120955636cd31",
            "_dom_classes": [],
            "description": "Url:",
            "_model_name": "TextModel",
            "placeholder": "​",
            "_view_module": "@jupyter-widgets/controls",
            "_model_module_version": "1.5.0",
            "value": "https://drive.carrefour.eu/fr/Traiteur-%26-plats-cuisin%C3%A9s/Plats-pr%C3%A9par%C3%A9s/Cuisine-traditionnelle/Plats-1-personne/Carrefour-Brasserie-Boulettes-Sauce-Tomate-et-Pur%C3%A9e-de-Pommes-de-Terre-450-g/p/04834826",
            "_view_count": null,
            "disabled": false,
            "_view_module_version": "1.5.0",
            "continuous_update": true,
            "description_tooltip": null,
            "_model_module": "@jupyter-widgets/controls",
            "layout": "IPY_MODEL_3ff0ec75b47c4c9fa7a0e4c6cc62af0d"
          }
        },
        "84d3a310e7ea4ecf80a13b6cc53ea892": {
          "model_module": "@jupyter-widgets/controls",
          "model_name": "BoxModel",
          "state": {
            "_view_name": "BoxView",
            "_dom_classes": [],
            "_model_name": "BoxModel",
            "_view_module": "@jupyter-widgets/controls",
            "_model_module_version": "1.5.0",
            "_view_count": null,
            "_view_module_version": "1.5.0",
            "box_style": "",
            "layout": "IPY_MODEL_c03f0a665fe04fe2a5c89098790bfc1f",
            "_model_module": "@jupyter-widgets/controls",
            "children": [
              "IPY_MODEL_48e109afb1a74e39ad26db05a477a514",
              "IPY_MODEL_36ec8a658747465699bdac90fd8b52d6"
            ]
          }
        },
        "6485ff7333b440f58561581c2fe1e579": {
          "model_module": "@jupyter-widgets/controls",
          "model_name": "BoxModel",
          "state": {
            "_view_name": "BoxView",
            "_dom_classes": [],
            "_model_name": "BoxModel",
            "_view_module": "@jupyter-widgets/controls",
            "_model_module_version": "1.5.0",
            "_view_count": null,
            "_view_module_version": "1.5.0",
            "box_style": "",
            "layout": "IPY_MODEL_4b865f20df5e4567bf8d2dd03acdc34a",
            "_model_module": "@jupyter-widgets/controls",
            "children": [
              "IPY_MODEL_4bd7486edc9348159ce534dcfacf40b9",
              "IPY_MODEL_66f285abd71048008ad96b5bee38de9e",
              "IPY_MODEL_d2d8276f41794233b42cf53e1cb3aeb0",
              "IPY_MODEL_0352adcfe885413dbcb0d2fd96f9d39d"
            ]
          }
        },
        "c651b1e91c744b52acac7614bcbab21c": {
          "model_module": "@jupyter-widgets/base",
          "model_name": "LayoutModel",
          "state": {
            "_view_name": "LayoutView",
            "grid_template_rows": null,
            "right": null,
            "justify_content": null,
            "_view_module": "@jupyter-widgets/base",
            "overflow": null,
            "_model_module_version": "1.2.0",
            "_view_count": null,
            "flex_flow": "column",
            "width": "80%",
            "min_width": null,
            "border": null,
            "align_items": "stretch",
            "bottom": null,
            "_model_module": "@jupyter-widgets/base",
            "top": null,
            "grid_column": null,
            "overflow_y": null,
            "overflow_x": null,
            "grid_auto_flow": null,
            "grid_area": null,
            "grid_template_columns": null,
            "flex": null,
            "_model_name": "LayoutModel",
            "justify_items": null,
            "grid_row": null,
            "max_height": null,
            "align_content": "center",
            "visibility": null,
            "align_self": null,
            "height": null,
            "min_height": null,
            "padding": null,
            "grid_auto_rows": null,
            "grid_gap": null,
            "max_width": null,
            "order": null,
            "_view_module_version": "1.2.0",
            "grid_template_areas": null,
            "object_position": null,
            "object_fit": null,
            "grid_auto_columns": null,
            "margin": null,
            "display": "flex",
            "left": null
          }
        },
        "5c6daba8b6b54ef1b82e5e3975992613": {
          "model_module": "@jupyter-widgets/controls",
          "model_name": "DropdownModel",
          "state": {
            "_options_labels": [
              "1155_Other edible animal fats",
              "2201_Cigarettes",
              "2202_Cigars",
              "2203_Other tobacco products",
              "9999_Non-Food",
              "1222_Soft drinks",
              "1184_Confectionery products",
              "1114_Other bakery products",
              "1183_Chocolate",
              "1194_Ready-made meals",
              "1223_Fruit and vegetable juices",
              "1185_Edible ices and ice cream",
              "2121_Wine from grapes",
              "1191_Sauces, condiments",
              "1212_Tea",
              "1117_Breakfast cereals",
              "1121_Beef and veal",
              "1199_Other food products n.e.c.",
              "1182_Jams, marmalades and honey",
              "1163_Dried fruit and nuts",
              "1173_Dried vegetables, other preserved or processed vegetables",
              "1127_Dried, salted or smoked meat",
              "1211_Coffee",
              "2132_Other alcoholic beer",
              "2111_Spirits and liqueurs",
              "1136_Other preserved or processed fish and seafood-based preparations",
              "1115_Pizza and quiche",
              "1221_Mineral or spring waters",
              "1145_Cheese and curd",
              "2131_Lager beer",
              "1133_Fresh or chilled seafood",
              "1193_Baby food",
              "1192_Salt, spices and culinary herbs",
              "1174_Potatoes",
              "1161_Fresh or chilled fruit",
              "1116_Pasta products and couscous",
              "1152_Margarine and other vegetable fats",
              "1146_Other milk products",
              "1164_Preserved fruit and fruit-based products",
              "1122_Pork",
              "1151_Butter",
              "1111_Rice",
              "1171_Fresh or chilled vegetables other than potatoes and other tubers",
              "1154_Other edible oils",
              "1144_Yoghurt",
              "1113_Bread",
              "1172_Frozen vegetables other than potatoes and other tubers",
              "1175_Crisps",
              "1142_Fresh low fat milk",
              "1135_Dried, smoked or salted fish and seafood",
              "1124_Poultry",
              "1112_Flours and other cereals",
              "1186_Artificial sugar substitutes",
              "1128_Other meat preparations",
              "1118_Other cereal products",
              "1123_Lamb and goat",
              "2134_Beer-based drinks",
              "1213_Cocoa and powdered chocolate",
              "1131_Fresh or chilled fish",
              "1181_Sugar",
              "1134_Frozen seafood",
              "1132_Frozen fish",
              "2112_Alcoholic soft drinks",
              "1141_Fresh whole milk",
              "2122_Wine from other fruits",
              "2133_Low and non-alcoholic beer",
              "2124_Wine-based drinks",
              "1126_Edible offal",
              "1153_Olive oil",
              "1125_Other meats",
              "1176_Other tubers and products of tuber vegetables",
              "1162_Frozen fruit",
              "2123_Fortified wines",
              "1147_Eggs",
              "1143_Preserved milk"
            ],
            "_view_name": "DropdownView",
            "style": "IPY_MODEL_df42bb551b50472fbce87298f94b508e",
            "_dom_classes": [],
            "description": "Select category to label:",
            "_model_name": "DropdownModel",
            "index": 9,
            "_view_module": "@jupyter-widgets/controls",
            "_model_module_version": "1.5.0",
            "_view_count": null,
            "disabled": false,
            "_view_module_version": "1.5.0",
            "description_tooltip": null,
            "_model_module": "@jupyter-widgets/controls",
            "layout": "IPY_MODEL_14003b9d5a4341d3be1322356628a8ab"
          }
        },
        "6118a0e151ed42a09c44acad619ad381": {
          "model_module": "@jupyter-widgets/output",
          "model_name": "OutputModel",
          "state": {
            "_view_name": "OutputView",
            "msg_id": "",
            "_dom_classes": [],
            "_model_name": "OutputModel",
            "outputs": [],
            "_view_module": "@jupyter-widgets/output",
            "_model_module_version": "1.0.0",
            "_view_count": null,
            "_view_module_version": "1.0.0",
            "layout": "IPY_MODEL_6fad774d98d345a0a4fd4a974a0cab8e",
            "_model_module": "@jupyter-widgets/output"
          }
        },
        "ad935b790f004ec7972f405d9066f8d5": {
          "model_module": "@jupyter-widgets/controls",
          "model_name": "DescriptionStyleModel",
          "state": {
            "_view_name": "StyleView",
            "_model_name": "DescriptionStyleModel",
            "description_width": "",
            "_view_module": "@jupyter-widgets/base",
            "_model_module_version": "1.5.0",
            "_view_count": null,
            "_view_module_version": "1.2.0",
            "_model_module": "@jupyter-widgets/controls"
          }
        },
        "cb4198779072402c943fa568881d601f": {
          "model_module": "@jupyter-widgets/base",
          "model_name": "LayoutModel",
          "state": {
            "_view_name": "LayoutView",
            "grid_template_rows": null,
            "right": null,
            "justify_content": null,
            "_view_module": "@jupyter-widgets/base",
            "overflow": null,
            "_model_module_version": "1.2.0",
            "_view_count": null,
            "flex_flow": null,
            "width": "80%",
            "min_width": null,
            "border": null,
            "align_items": null,
            "bottom": null,
            "_model_module": "@jupyter-widgets/base",
            "top": null,
            "grid_column": null,
            "overflow_y": null,
            "overflow_x": null,
            "grid_auto_flow": null,
            "grid_area": null,
            "grid_template_columns": null,
            "flex": null,
            "_model_name": "LayoutModel",
            "justify_items": null,
            "grid_row": null,
            "max_height": null,
            "align_content": null,
            "visibility": null,
            "align_self": null,
            "height": "40px",
            "min_height": null,
            "padding": null,
            "grid_auto_rows": null,
            "grid_gap": null,
            "max_width": null,
            "order": null,
            "_view_module_version": "1.2.0",
            "grid_template_areas": null,
            "object_position": null,
            "object_fit": null,
            "grid_auto_columns": null,
            "margin": null,
            "display": null,
            "left": null
          }
        },
        "7de88cd02b3f48ef97e0a7c3a6dbed2a": {
          "model_module": "@jupyter-widgets/controls",
          "model_name": "DescriptionStyleModel",
          "state": {
            "_view_name": "StyleView",
            "_model_name": "DescriptionStyleModel",
            "description_width": "",
            "_view_module": "@jupyter-widgets/base",
            "_model_module_version": "1.5.0",
            "_view_count": null,
            "_view_module_version": "1.2.0",
            "_model_module": "@jupyter-widgets/controls"
          }
        },
        "3bb3ea1a62d7413da2dc43ff15001b82": {
          "model_module": "@jupyter-widgets/base",
          "model_name": "LayoutModel",
          "state": {
            "_view_name": "LayoutView",
            "grid_template_rows": null,
            "right": null,
            "justify_content": null,
            "_view_module": "@jupyter-widgets/base",
            "overflow": null,
            "_model_module_version": "1.2.0",
            "_view_count": null,
            "flex_flow": null,
            "width": "80%",
            "min_width": null,
            "border": null,
            "align_items": null,
            "bottom": null,
            "_model_module": "@jupyter-widgets/base",
            "top": null,
            "grid_column": null,
            "overflow_y": null,
            "overflow_x": null,
            "grid_auto_flow": null,
            "grid_area": null,
            "grid_template_columns": null,
            "flex": null,
            "_model_name": "LayoutModel",
            "justify_items": null,
            "grid_row": null,
            "max_height": null,
            "align_content": null,
            "visibility": null,
            "align_self": null,
            "height": "40px",
            "min_height": null,
            "padding": null,
            "grid_auto_rows": null,
            "grid_gap": null,
            "max_width": null,
            "order": null,
            "_view_module_version": "1.2.0",
            "grid_template_areas": null,
            "object_position": null,
            "object_fit": null,
            "grid_auto_columns": null,
            "margin": null,
            "display": null,
            "left": null
          }
        },
        "77a3660552ad4207b6b120955636cd31": {
          "model_module": "@jupyter-widgets/controls",
          "model_name": "DescriptionStyleModel",
          "state": {
            "_view_name": "StyleView",
            "_model_name": "DescriptionStyleModel",
            "description_width": "",
            "_view_module": "@jupyter-widgets/base",
            "_model_module_version": "1.5.0",
            "_view_count": null,
            "_view_module_version": "1.2.0",
            "_model_module": "@jupyter-widgets/controls"
          }
        },
        "3ff0ec75b47c4c9fa7a0e4c6cc62af0d": {
          "model_module": "@jupyter-widgets/base",
          "model_name": "LayoutModel",
          "state": {
            "_view_name": "LayoutView",
            "grid_template_rows": null,
            "right": null,
            "justify_content": null,
            "_view_module": "@jupyter-widgets/base",
            "overflow": null,
            "_model_module_version": "1.2.0",
            "_view_count": null,
            "flex_flow": null,
            "width": "80%",
            "min_width": null,
            "border": null,
            "align_items": null,
            "bottom": null,
            "_model_module": "@jupyter-widgets/base",
            "top": null,
            "grid_column": null,
            "overflow_y": null,
            "overflow_x": null,
            "grid_auto_flow": null,
            "grid_area": null,
            "grid_template_columns": null,
            "flex": null,
            "_model_name": "LayoutModel",
            "justify_items": null,
            "grid_row": null,
            "max_height": null,
            "align_content": null,
            "visibility": null,
            "align_self": null,
            "height": "40px",
            "min_height": null,
            "padding": null,
            "grid_auto_rows": null,
            "grid_gap": null,
            "max_width": null,
            "order": null,
            "_view_module_version": "1.2.0",
            "grid_template_areas": null,
            "object_position": null,
            "object_fit": null,
            "grid_auto_columns": null,
            "margin": null,
            "display": null,
            "left": null
          }
        },
        "c03f0a665fe04fe2a5c89098790bfc1f": {
          "model_module": "@jupyter-widgets/base",
          "model_name": "LayoutModel",
          "state": {
            "_view_name": "LayoutView",
            "grid_template_rows": null,
            "right": null,
            "justify_content": null,
            "_view_module": "@jupyter-widgets/base",
            "overflow": null,
            "_model_module_version": "1.2.0",
            "_view_count": null,
            "flex_flow": "column",
            "width": "80%",
            "min_width": null,
            "border": null,
            "align_items": "stretch",
            "bottom": null,
            "_model_module": "@jupyter-widgets/base",
            "top": null,
            "grid_column": null,
            "overflow_y": null,
            "overflow_x": null,
            "grid_auto_flow": null,
            "grid_area": null,
            "grid_template_columns": null,
            "flex": null,
            "_model_name": "LayoutModel",
            "justify_items": null,
            "grid_row": null,
            "max_height": null,
            "align_content": "center",
            "visibility": null,
            "align_self": null,
            "height": null,
            "min_height": null,
            "padding": null,
            "grid_auto_rows": null,
            "grid_gap": null,
            "max_width": null,
            "order": null,
            "_view_module_version": "1.2.0",
            "grid_template_areas": null,
            "object_position": null,
            "object_fit": null,
            "grid_auto_columns": null,
            "margin": null,
            "display": "flex",
            "left": null
          }
        },
        "48e109afb1a74e39ad26db05a477a514": {
          "model_module": "@jupyter-widgets/controls",
          "model_name": "DropdownModel",
          "state": {
            "_options_labels": [
              "1111_Rice",
              "1112_Flours and other cereals",
              "1113_Bread",
              "1114_Other bakery products",
              "1115_Pizza and quiche",
              "1116_Pasta products and couscous",
              "1117_Breakfast cereals",
              "1118_Other cereal products",
              "1121_Beef and veal",
              "1122_Pork",
              "1123_Lamb and goat",
              "1124_Poultry",
              "1125_Other meats",
              "1126_Edible offal",
              "1127_Dried, salted or smoked meat",
              "1128_Other meat preparations",
              "1131_Fresh or chilled fish",
              "1132_Frozen fish",
              "1133_Fresh or chilled seafood",
              "1134_Frozen seafood",
              "1135_Dried, smoked or salted fish and seafood",
              "1136_Other preserved or processed fish and seafood-based preparations",
              "1141_Fresh whole milk",
              "1142_Fresh low fat milk",
              "1143_Preserved milk",
              "1144_Yoghurt",
              "1145_Cheese and curd",
              "1146_Other milk products",
              "1147_Eggs",
              "1151_Butter",
              "1152_Margarine and other vegetable fats",
              "1153_Olive oil",
              "1154_Other edible oils",
              "1155_Other edible animal fats",
              "1161_Fresh or chilled fruit",
              "1162_Frozen fruit",
              "1163_Dried fruit and nuts",
              "1164_Preserved fruit and fruit-based products",
              "1171_Fresh or chilled vegetables other than potatoes and other tubers",
              "1172_Frozen vegetables other than potatoes and other tubers",
              "1173_Dried vegetables, other preserved or processed vegetables",
              "1174_Potatoes",
              "1175_Crisps",
              "1176_Other tubers and products of tuber vegetables",
              "1181_Sugar",
              "1182_Jams, marmalades and honey",
              "1183_Chocolate",
              "1184_Confectionery products",
              "1185_Edible ices and ice cream",
              "1186_Artificial sugar substitutes",
              "1191_Sauces, condiments",
              "1192_Salt, spices and culinary herbs",
              "1193_Baby food",
              "1194_Ready-made meals",
              "1199_Other food products n.e.c.",
              "1211_Coffee",
              "1212_Tea",
              "1213_Cocoa and powdered chocolate",
              "1221_Mineral or spring waters",
              "1222_Soft drinks",
              "1223_Fruit and vegetable juices",
              "2111_Spirits and liqueurs",
              "2112_Alcoholic soft drinks",
              "2121_Wine from grapes",
              "2122_Wine from other fruits",
              "2123_Fortified wines",
              "2124_Wine-based drinks",
              "2131_Lager beer",
              "2132_Other alcoholic beer",
              "2133_Low and non-alcoholic beer",
              "2134_Beer-based drinks",
              "2201_Cigarettes",
              "2202_Cigars",
              "2203_Other tobacco products",
              "9999_Non-Food"
            ],
            "_view_name": "DropdownView",
            "style": "IPY_MODEL_b4010ffd29634be28ad6f5b3eded13c1",
            "_dom_classes": [],
            "description": "COICOP 5:",
            "_model_name": "DropdownModel",
            "index": 53,
            "_view_module": "@jupyter-widgets/controls",
            "_model_module_version": "1.5.0",
            "_view_count": null,
            "disabled": false,
            "_view_module_version": "1.5.0",
            "description_tooltip": null,
            "_model_module": "@jupyter-widgets/controls",
            "layout": "IPY_MODEL_bfe2fd4c62b84fada58386be7562467f"
          }
        },
        "36ec8a658747465699bdac90fd8b52d6": {
          "model_module": "@jupyter-widgets/output",
          "model_name": "OutputModel",
          "state": {
            "_view_name": "OutputView",
            "msg_id": "",
            "_dom_classes": [],
            "_model_name": "OutputModel",
            "outputs": [],
            "_view_module": "@jupyter-widgets/output",
            "_model_module_version": "1.0.0",
            "_view_count": null,
            "_view_module_version": "1.0.0",
            "layout": "IPY_MODEL_68b1a95a9fc047beb2620397fadae335",
            "_model_module": "@jupyter-widgets/output"
          }
        },
        "4b865f20df5e4567bf8d2dd03acdc34a": {
          "model_module": "@jupyter-widgets/base",
          "model_name": "LayoutModel",
          "state": {
            "_view_name": "LayoutView",
            "grid_template_rows": null,
            "right": null,
            "justify_content": null,
            "_view_module": "@jupyter-widgets/base",
            "overflow": null,
            "_model_module_version": "1.2.0",
            "_view_count": null,
            "flex_flow": "row",
            "width": "80%",
            "min_width": null,
            "border": null,
            "align_items": "stretch",
            "bottom": null,
            "_model_module": "@jupyter-widgets/base",
            "top": null,
            "grid_column": null,
            "overflow_y": null,
            "overflow_x": null,
            "grid_auto_flow": null,
            "grid_area": null,
            "grid_template_columns": null,
            "flex": null,
            "_model_name": "LayoutModel",
            "justify_items": null,
            "grid_row": null,
            "max_height": null,
            "align_content": "center",
            "visibility": null,
            "align_self": null,
            "height": null,
            "min_height": null,
            "padding": null,
            "grid_auto_rows": null,
            "grid_gap": null,
            "max_width": null,
            "order": null,
            "_view_module_version": "1.2.0",
            "grid_template_areas": null,
            "object_position": null,
            "object_fit": null,
            "grid_auto_columns": null,
            "margin": null,
            "display": "flex",
            "left": null
          }
        },
        "4bd7486edc9348159ce534dcfacf40b9": {
          "model_module": "@jupyter-widgets/controls",
          "model_name": "ButtonModel",
          "state": {
            "_view_name": "ButtonView",
            "style": "IPY_MODEL_a5eb17c8341c4e32827f909af360c4b5",
            "_dom_classes": [],
            "description": "Next",
            "_model_name": "ButtonModel",
            "button_style": "",
            "_view_module": "@jupyter-widgets/controls",
            "_model_module_version": "1.5.0",
            "tooltip": "",
            "_view_count": null,
            "disabled": false,
            "_view_module_version": "1.5.0",
            "layout": "IPY_MODEL_fde51c10fc8f4cc7a256ebb4c62c359c",
            "_model_module": "@jupyter-widgets/controls",
            "icon": ""
          }
        },
        "66f285abd71048008ad96b5bee38de9e": {
          "model_module": "@jupyter-widgets/output",
          "model_name": "OutputModel",
          "state": {
            "_view_name": "OutputView",
            "msg_id": "",
            "_dom_classes": [],
            "_model_name": "OutputModel",
            "outputs": [],
            "_view_module": "@jupyter-widgets/output",
            "_model_module_version": "1.0.0",
            "_view_count": null,
            "_view_module_version": "1.0.0",
            "layout": "IPY_MODEL_78eae7697c2e4db3945d978b7a80bc42",
            "_model_module": "@jupyter-widgets/output"
          }
        },
        "d2d8276f41794233b42cf53e1cb3aeb0": {
          "model_module": "@jupyter-widgets/controls",
          "model_name": "ButtonModel",
          "state": {
            "_view_name": "ButtonView",
            "style": "IPY_MODEL_a28e9cf4915343ee86e6dc67837c5b06",
            "_dom_classes": [],
            "description": "Save",
            "_model_name": "ButtonModel",
            "button_style": "",
            "_view_module": "@jupyter-widgets/controls",
            "_model_module_version": "1.5.0",
            "tooltip": "",
            "_view_count": null,
            "disabled": false,
            "_view_module_version": "1.5.0",
            "layout": "IPY_MODEL_32535b5157474340ae412a1aa9cca924",
            "_model_module": "@jupyter-widgets/controls",
            "icon": ""
          }
        },
        "0352adcfe885413dbcb0d2fd96f9d39d": {
          "model_module": "@jupyter-widgets/output",
          "model_name": "OutputModel",
          "state": {
            "_view_name": "OutputView",
            "msg_id": "",
            "_dom_classes": [],
            "_model_name": "OutputModel",
            "outputs": [],
            "_view_module": "@jupyter-widgets/output",
            "_model_module_version": "1.0.0",
            "_view_count": null,
            "_view_module_version": "1.0.0",
            "layout": "IPY_MODEL_733ad38b3e2843b0ae3cb124a75e0850",
            "_model_module": "@jupyter-widgets/output"
          }
        },
        "df42bb551b50472fbce87298f94b508e": {
          "model_module": "@jupyter-widgets/controls",
          "model_name": "DescriptionStyleModel",
          "state": {
            "_view_name": "StyleView",
            "_model_name": "DescriptionStyleModel",
            "description_width": "",
            "_view_module": "@jupyter-widgets/base",
            "_model_module_version": "1.5.0",
            "_view_count": null,
            "_view_module_version": "1.2.0",
            "_model_module": "@jupyter-widgets/controls"
          }
        },
        "14003b9d5a4341d3be1322356628a8ab": {
          "model_module": "@jupyter-widgets/base",
          "model_name": "LayoutModel",
          "state": {
            "_view_name": "LayoutView",
            "grid_template_rows": null,
            "right": null,
            "justify_content": null,
            "_view_module": "@jupyter-widgets/base",
            "overflow": null,
            "_model_module_version": "1.2.0",
            "_view_count": null,
            "flex_flow": null,
            "width": "50%",
            "min_width": null,
            "border": null,
            "align_items": null,
            "bottom": null,
            "_model_module": "@jupyter-widgets/base",
            "top": null,
            "grid_column": null,
            "overflow_y": null,
            "overflow_x": null,
            "grid_auto_flow": null,
            "grid_area": null,
            "grid_template_columns": null,
            "flex": null,
            "_model_name": "LayoutModel",
            "justify_items": null,
            "grid_row": null,
            "max_height": null,
            "align_content": null,
            "visibility": null,
            "align_self": null,
            "height": "60px",
            "min_height": null,
            "padding": null,
            "grid_auto_rows": null,
            "grid_gap": null,
            "max_width": null,
            "order": null,
            "_view_module_version": "1.2.0",
            "grid_template_areas": null,
            "object_position": null,
            "object_fit": null,
            "grid_auto_columns": null,
            "margin": null,
            "display": null,
            "left": null
          }
        },
        "b4010ffd29634be28ad6f5b3eded13c1": {
          "model_module": "@jupyter-widgets/controls",
          "model_name": "DescriptionStyleModel",
          "state": {
            "_view_name": "StyleView",
            "_model_name": "DescriptionStyleModel",
            "description_width": "",
            "_view_module": "@jupyter-widgets/base",
            "_model_module_version": "1.5.0",
            "_view_count": null,
            "_view_module_version": "1.2.0",
            "_model_module": "@jupyter-widgets/controls"
          }
        },
        "bfe2fd4c62b84fada58386be7562467f": {
          "model_module": "@jupyter-widgets/base",
          "model_name": "LayoutModel",
          "state": {
            "_view_name": "LayoutView",
            "grid_template_rows": null,
            "right": null,
            "justify_content": null,
            "_view_module": "@jupyter-widgets/base",
            "overflow": null,
            "_model_module_version": "1.2.0",
            "_view_count": null,
            "flex_flow": null,
            "width": "80%",
            "min_width": null,
            "border": null,
            "align_items": null,
            "bottom": null,
            "_model_module": "@jupyter-widgets/base",
            "top": null,
            "grid_column": null,
            "overflow_y": null,
            "overflow_x": null,
            "grid_auto_flow": null,
            "grid_area": null,
            "grid_template_columns": null,
            "flex": null,
            "_model_name": "LayoutModel",
            "justify_items": null,
            "grid_row": null,
            "max_height": null,
            "align_content": null,
            "visibility": null,
            "align_self": null,
            "height": "40px",
            "min_height": null,
            "padding": null,
            "grid_auto_rows": null,
            "grid_gap": null,
            "max_width": null,
            "order": null,
            "_view_module_version": "1.2.0",
            "grid_template_areas": null,
            "object_position": null,
            "object_fit": null,
            "grid_auto_columns": null,
            "margin": null,
            "display": null,
            "left": null
          }
        },
        "a5eb17c8341c4e32827f909af360c4b5": {
          "model_module": "@jupyter-widgets/controls",
          "model_name": "ButtonStyleModel",
          "state": {
            "_view_name": "StyleView",
            "_model_name": "ButtonStyleModel",
            "_view_module": "@jupyter-widgets/base",
            "_model_module_version": "1.5.0",
            "_view_count": null,
            "button_color": null,
            "font_weight": "",
            "_view_module_version": "1.2.0",
            "_model_module": "@jupyter-widgets/controls"
          }
        },
        "fde51c10fc8f4cc7a256ebb4c62c359c": {
          "model_module": "@jupyter-widgets/base",
          "model_name": "LayoutModel",
          "state": {
            "_view_name": "LayoutView",
            "grid_template_rows": null,
            "right": null,
            "justify_content": null,
            "_view_module": "@jupyter-widgets/base",
            "overflow": null,
            "_model_module_version": "1.2.0",
            "_view_count": null,
            "flex_flow": null,
            "width": null,
            "min_width": null,
            "border": null,
            "align_items": null,
            "bottom": null,
            "_model_module": "@jupyter-widgets/base",
            "top": null,
            "grid_column": null,
            "overflow_y": null,
            "overflow_x": null,
            "grid_auto_flow": null,
            "grid_area": null,
            "grid_template_columns": null,
            "flex": null,
            "_model_name": "LayoutModel",
            "justify_items": null,
            "grid_row": null,
            "max_height": null,
            "align_content": null,
            "visibility": null,
            "align_self": null,
            "height": null,
            "min_height": null,
            "padding": null,
            "grid_auto_rows": null,
            "grid_gap": null,
            "max_width": null,
            "order": null,
            "_view_module_version": "1.2.0",
            "grid_template_areas": null,
            "object_position": null,
            "object_fit": null,
            "grid_auto_columns": null,
            "margin": null,
            "display": null,
            "left": null
          }
        },
        "a28e9cf4915343ee86e6dc67837c5b06": {
          "model_module": "@jupyter-widgets/controls",
          "model_name": "ButtonStyleModel",
          "state": {
            "_view_name": "StyleView",
            "_model_name": "ButtonStyleModel",
            "_view_module": "@jupyter-widgets/base",
            "_model_module_version": "1.5.0",
            "_view_count": null,
            "button_color": null,
            "font_weight": "",
            "_view_module_version": "1.2.0",
            "_model_module": "@jupyter-widgets/controls"
          }
        },
        "32535b5157474340ae412a1aa9cca924": {
          "model_module": "@jupyter-widgets/base",
          "model_name": "LayoutModel",
          "state": {
            "_view_name": "LayoutView",
            "grid_template_rows": null,
            "right": null,
            "justify_content": null,
            "_view_module": "@jupyter-widgets/base",
            "overflow": null,
            "_model_module_version": "1.2.0",
            "_view_count": null,
            "flex_flow": null,
            "width": null,
            "min_width": null,
            "border": null,
            "align_items": null,
            "bottom": null,
            "_model_module": "@jupyter-widgets/base",
            "top": null,
            "grid_column": null,
            "overflow_y": null,
            "overflow_x": null,
            "grid_auto_flow": null,
            "grid_area": null,
            "grid_template_columns": null,
            "flex": null,
            "_model_name": "LayoutModel",
            "justify_items": null,
            "grid_row": null,
            "max_height": null,
            "align_content": null,
            "visibility": null,
            "align_self": null,
            "height": null,
            "min_height": null,
            "padding": null,
            "grid_auto_rows": null,
            "grid_gap": null,
            "max_width": null,
            "order": null,
            "_view_module_version": "1.2.0",
            "grid_template_areas": null,
            "object_position": null,
            "object_fit": null,
            "grid_auto_columns": null,
            "margin": null,
            "display": null,
            "left": null
          }
        },
        "6fad774d98d345a0a4fd4a974a0cab8e": {
          "model_module": "@jupyter-widgets/base",
          "model_name": "LayoutModel",
          "state": {
            "_view_name": "LayoutView",
            "grid_template_rows": null,
            "right": null,
            "justify_content": null,
            "_view_module": "@jupyter-widgets/base",
            "overflow": null,
            "_model_module_version": "1.2.0",
            "_view_count": null,
            "flex_flow": null,
            "width": null,
            "min_width": null,
            "border": null,
            "align_items": null,
            "bottom": null,
            "_model_module": "@jupyter-widgets/base",
            "top": null,
            "grid_column": null,
            "overflow_y": null,
            "overflow_x": null,
            "grid_auto_flow": null,
            "grid_area": null,
            "grid_template_columns": null,
            "flex": null,
            "_model_name": "LayoutModel",
            "justify_items": null,
            "grid_row": null,
            "max_height": null,
            "align_content": null,
            "visibility": null,
            "align_self": null,
            "height": null,
            "min_height": null,
            "padding": null,
            "grid_auto_rows": null,
            "grid_gap": null,
            "max_width": null,
            "order": null,
            "_view_module_version": "1.2.0",
            "grid_template_areas": null,
            "object_position": null,
            "object_fit": null,
            "grid_auto_columns": null,
            "margin": null,
            "display": null,
            "left": null
          }
        },
        "68b1a95a9fc047beb2620397fadae335": {
          "model_module": "@jupyter-widgets/base",
          "model_name": "LayoutModel",
          "state": {
            "_view_name": "LayoutView",
            "grid_template_rows": null,
            "right": null,
            "justify_content": null,
            "_view_module": "@jupyter-widgets/base",
            "overflow": null,
            "_model_module_version": "1.2.0",
            "_view_count": null,
            "flex_flow": null,
            "width": null,
            "min_width": null,
            "border": null,
            "align_items": null,
            "bottom": null,
            "_model_module": "@jupyter-widgets/base",
            "top": null,
            "grid_column": null,
            "overflow_y": null,
            "overflow_x": null,
            "grid_auto_flow": null,
            "grid_area": null,
            "grid_template_columns": null,
            "flex": null,
            "_model_name": "LayoutModel",
            "justify_items": null,
            "grid_row": null,
            "max_height": null,
            "align_content": null,
            "visibility": null,
            "align_self": null,
            "height": null,
            "min_height": null,
            "padding": null,
            "grid_auto_rows": null,
            "grid_gap": null,
            "max_width": null,
            "order": null,
            "_view_module_version": "1.2.0",
            "grid_template_areas": null,
            "object_position": null,
            "object_fit": null,
            "grid_auto_columns": null,
            "margin": null,
            "display": null,
            "left": null
          }
        },
        "78eae7697c2e4db3945d978b7a80bc42": {
          "model_module": "@jupyter-widgets/base",
          "model_name": "LayoutModel",
          "state": {
            "_view_name": "LayoutView",
            "grid_template_rows": null,
            "right": null,
            "justify_content": null,
            "_view_module": "@jupyter-widgets/base",
            "overflow": null,
            "_model_module_version": "1.2.0",
            "_view_count": null,
            "flex_flow": null,
            "width": null,
            "min_width": null,
            "border": null,
            "align_items": null,
            "bottom": null,
            "_model_module": "@jupyter-widgets/base",
            "top": null,
            "grid_column": null,
            "overflow_y": null,
            "overflow_x": null,
            "grid_auto_flow": null,
            "grid_area": null,
            "grid_template_columns": null,
            "flex": null,
            "_model_name": "LayoutModel",
            "justify_items": null,
            "grid_row": null,
            "max_height": null,
            "align_content": null,
            "visibility": null,
            "align_self": null,
            "height": null,
            "min_height": null,
            "padding": null,
            "grid_auto_rows": null,
            "grid_gap": null,
            "max_width": null,
            "order": null,
            "_view_module_version": "1.2.0",
            "grid_template_areas": null,
            "object_position": null,
            "object_fit": null,
            "grid_auto_columns": null,
            "margin": null,
            "display": null,
            "left": null
          }
        },
        "733ad38b3e2843b0ae3cb124a75e0850": {
          "model_module": "@jupyter-widgets/base",
          "model_name": "LayoutModel",
          "state": {
            "_view_name": "LayoutView",
            "grid_template_rows": null,
            "right": null,
            "justify_content": null,
            "_view_module": "@jupyter-widgets/base",
            "overflow": null,
            "_model_module_version": "1.2.0",
            "_view_count": null,
            "flex_flow": null,
            "width": null,
            "min_width": null,
            "border": null,
            "align_items": null,
            "bottom": null,
            "_model_module": "@jupyter-widgets/base",
            "top": null,
            "grid_column": null,
            "overflow_y": null,
            "overflow_x": null,
            "grid_auto_flow": null,
            "grid_area": null,
            "grid_template_columns": null,
            "flex": null,
            "_model_name": "LayoutModel",
            "justify_items": null,
            "grid_row": null,
            "max_height": null,
            "align_content": null,
            "visibility": null,
            "align_self": null,
            "height": null,
            "min_height": null,
            "padding": null,
            "grid_auto_rows": null,
            "grid_gap": null,
            "max_width": null,
            "order": null,
            "_view_module_version": "1.2.0",
            "grid_template_areas": null,
            "object_position": null,
            "object_fit": null,
            "grid_auto_columns": null,
            "margin": null,
            "display": null,
            "left": null
          }
        }
      }
    }
  },
  "cells": [
    {
      "cell_type": "markdown",
      "metadata": {
        "id": "view-in-github",
        "colab_type": "text"
      },
      "source": [
        "<a href=\"https://colab.research.google.com/github/ELehmann91/Thesis_Multilingual_Transferlearning/blob/master/Text_Annotation_Tool_BdF.ipynb\" target=\"_parent\"><img src=\"https://colab.research.google.com/assets/colab-badge.svg\" alt=\"Open In Colab\"/></a>"
      ]
    },
    {
      "cell_type": "markdown",
      "metadata": {
        "id": "c8aX4ibmIzSO",
        "colab_type": "text"
      },
      "source": [
        "<p><img alt=\"Colaboratory logo\" height=\"45px\" src=\"/img/colab_favicon.ico\" align=\"left\" hspace=\"10px\" vspace=\"0px\"></p>\n",
        "\n",
        "<h1>What is Colaboratory?</h1>\n",
        "\n",
        "Colaboratory, or \"Colab\" for short, allows you to write and execute Python in your browser, with \n",
        "- Zero configuration required\n",
        "- Free access to GPUs\n",
        "- Easy sharing\n",
        "\n",
        "Whether you're a **student**, a **data scientist** or an **AI researcher**, Colab can make your work easier. Watch [Introduction to Colab](https://www.youtube.com/watch?v=inN8seMm7UI) to learn more, or just get started below!"
      ]
    },
    {
      "cell_type": "markdown",
      "metadata": {
        "id": "j-9rGzn0Zki5",
        "colab_type": "text"
      },
      "source": [
        "# ECOICOP Annotation\n",
        "  \n",
        "Use this tool to annotate your product texts with the correspondant eCoiCop category. \n"
      ]
    },
    {
      "cell_type": "markdown",
      "metadata": {
        "id": "P8EyWQfdK9jR",
        "colab_type": "text"
      },
      "source": [
        "## Get code from GitHub\n",
        "  \n",
        "At first we need to download the code from Github to here."
      ]
    },
    {
      "cell_type": "code",
      "metadata": {
        "id": "ub8zb9s7v9QF",
        "colab_type": "code",
        "colab": {}
      },
      "source": [
        "%%capture\n",
        "!pip install eli5\n",
        "!git clone 'https://github.com/ELehmann91/Thesis_Multilingual_Transferlearning'\n",
        "\n",
        "%cd Thesis_Multilingual_Transferlearning\n",
        "import labeler_cc5\n",
        "import coicop_model\n",
        "import pandas as pd\n",
        "import numpy as np\n",
        "from tqdm import tqdm\n",
        "import io"
      ],
      "execution_count": 0,
      "outputs": []
    },
    {
      "cell_type": "markdown",
      "metadata": {
        "id": "DIJ6I9wWjUyL",
        "colab_type": "text"
      },
      "source": [
        "## Upload CSV / Excel from Local Drive"
      ]
    },
    {
      "cell_type": "markdown",
      "metadata": {
        "id": "FYHE2mkbjdqq",
        "colab_type": "text"
      },
      "source": [
        "To upload from your local drive, start with the following code:"
      ]
    },
    {
      "cell_type": "code",
      "metadata": {
        "id": "Cv53M_9uibxg",
        "colab_type": "code",
        "outputId": "89c991f6-9251-40d9-ef52-ab8c8cf85575",
        "colab": {
          "resources": {
            "http://localhost:8080/nbextensions/google.colab/files.js": {
              "data": "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",
              "ok": true,
              "headers": [
                [
                  "content-type",
                  "application/javascript"
                ]
              ],
              "status": 200,
              "status_text": ""
            }
          },
          "base_uri": "https://localhost:8080/",
          "height": 73
        }
      },
      "source": [
        "from google.colab import files\n",
        "uploaded = files.upload()"
      ],
      "execution_count": 0,
      "outputs": [
        {
          "output_type": "display_data",
          "data": {
            "text/html": [
              "\n",
              "     <input type=\"file\" id=\"files-8f06af3f-8154-42ff-a60d-32c2a1b4fbc2\" name=\"files[]\" multiple disabled />\n",
              "     <output id=\"result-8f06af3f-8154-42ff-a60d-32c2a1b4fbc2\">\n",
              "      Upload widget is only available when the cell has been executed in the\n",
              "      current browser session. Please rerun this cell to enable.\n",
              "      </output>\n",
              "      <script src=\"/nbextensions/google.colab/files.js\"></script> "
            ],
            "text/plain": [
              "<IPython.core.display.HTML object>"
            ]
          },
          "metadata": {
            "tags": []
          }
        },
        {
          "output_type": "stream",
          "text": [
            "Saving eantoclassifyECB.csv to eantoclassifyECB (1).csv\n"
          ],
          "name": "stdout"
        }
      ]
    },
    {
      "cell_type": "markdown",
      "metadata": {
        "id": "A7QkulHTjkyK",
        "colab_type": "text"
      },
      "source": [
        "It will prompt you to select a file. Click on “Choose Files” then select and upload the file. Wait for the file to be 100% uploaded. You should see the name of the file once Colab has uploaded it.\n",
        "Finally, type in the following code to import it into a dataframe (make sure the filename matches the name of the uploaded file)."
      ]
    },
    {
      "cell_type": "code",
      "metadata": {
        "id": "-bSqZRGhWSy8",
        "colab_type": "code",
        "colab": {}
      },
      "source": [
        "#stata\n",
        "df = pd.read_stata('table_BCE_finale.dta')"
      ],
      "execution_count": 0,
      "outputs": []
    },
    {
      "cell_type": "code",
      "metadata": {
        "id": "VmC0fPkzjstK",
        "colab_type": "code",
        "colab": {}
      },
      "source": [
        "df = pd.read_csv(io.BytesIO(uploaded['eantoclassifyECB.csv']),sep=',')\n",
        "#df = pd.read_excel(io.BytesIO(uploaded['carrfour_trans_pred.xlsx']),encoding='ANSI')\n",
        "#df = pd.read_excel(uploaded['carrfour_trans_pred.xlsx'],encoding='unicode')"
      ],
      "execution_count": 0,
      "outputs": []
    },
    {
      "cell_type": "code",
      "metadata": {
        "id": "w_8lIfRA-qul",
        "colab_type": "code",
        "outputId": "8815fd2a-e85d-41e2-e2b2-ec34b6da0b3f",
        "colab": {
          "base_uri": "https://localhost:8080/",
          "height": 124
        }
      },
      "source": [
        "# Dataset is now stored in a Pandas Dataframe\n",
        "#df['productCategory'] = df['productCategory'].apply(lambda x: str(x).replace('suesses','süßes').replace('ue','ü').replace('ae','ä').replace('oe','ö'))\n",
        "print(df.shape)\n",
        "df[:2]"
      ],
      "execution_count": 0,
      "outputs": [
        {
          "output_type": "stream",
          "text": [
            "(132639, 3)\n"
          ],
          "name": "stdout"
        },
        {
          "output_type": "execute_result",
          "data": {
            "text/html": [
              "<div>\n",
              "<style scoped>\n",
              "    .dataframe tbody tr th:only-of-type {\n",
              "        vertical-align: middle;\n",
              "    }\n",
              "\n",
              "    .dataframe tbody tr th {\n",
              "        vertical-align: top;\n",
              "    }\n",
              "\n",
              "    .dataframe thead th {\n",
              "        text-align: right;\n",
              "    }\n",
              "</style>\n",
              "<table border=\"1\" class=\"dataframe\">\n",
              "  <thead>\n",
              "    <tr style=\"text-align: right;\">\n",
              "      <th></th>\n",
              "      <th>ean</th>\n",
              "      <th>title_accent</th>\n",
              "      <th>id</th>\n",
              "    </tr>\n",
              "  </thead>\n",
              "  <tbody>\n",
              "    <tr>\n",
              "      <th>0</th>\n",
              "      <td>30080751</td>\n",
              "      <td>coolwave bonbons sans sucres avec édulcorants,...</td>\n",
              "      <td>1811805</td>\n",
              "    </tr>\n",
              "    <tr>\n",
              "      <th>1</th>\n",
              "      <td>30080768</td>\n",
              "      <td>cool wave fraise, sans sucres, la boite de 28g</td>\n",
              "      <td>1811806</td>\n",
              "    </tr>\n",
              "  </tbody>\n",
              "</table>\n",
              "</div>"
            ],
            "text/plain": [
              "        ean                                       title_accent       id\n",
              "0  30080751  coolwave bonbons sans sucres avec édulcorants,...  1811805\n",
              "1  30080768     cool wave fraise, sans sucres, la boite de 28g  1811806"
            ]
          },
          "metadata": {
            "tags": []
          },
          "execution_count": 83
        }
      ]
    },
    {
      "cell_type": "markdown",
      "metadata": {
        "id": "40G3r2iHjpJT",
        "colab_type": "text"
      },
      "source": [
        "## Upload from Google Drive"
      ]
    },
    {
      "cell_type": "markdown",
      "metadata": {
        "id": "Q7HGsKGs9kTT",
        "colab_type": "text"
      },
      "source": [
        "Loading CSV files stored in your google drive."
      ]
    },
    {
      "cell_type": "code",
      "metadata": {
        "id": "hysvDAyEmMtJ",
        "colab_type": "code",
        "outputId": "80ad1ad2-e4be-4d15-d16d-0782a89d8b9f",
        "colab": {
          "base_uri": "https://localhost:8080/",
          "height": 120
        }
      },
      "source": [
        "from google.colab import drive, files\n",
        "\n",
        "drive.mount('/content/gdrive')\n",
        "path ='/content/gdrive/My Drive/Thesis_ecb_ecoicop'"
      ],
      "execution_count": 2,
      "outputs": [
        {
          "output_type": "stream",
          "text": [
            "Go to this URL in a browser: https://accounts.google.com/o/oauth2/auth?client_id=947318989803-6bn6qk8qdgf4n4g3pfee6491hc0brc4i.apps.googleusercontent.com&redirect_uri=urn%3aietf%3awg%3aoauth%3a2.0%3aoob&response_type=code&scope=email%20https%3a%2f%2fwww.googleapis.com%2fauth%2fdocs.test%20https%3a%2f%2fwww.googleapis.com%2fauth%2fdrive%20https%3a%2f%2fwww.googleapis.com%2fauth%2fdrive.photos.readonly%20https%3a%2f%2fwww.googleapis.com%2fauth%2fpeopleapi.readonly\n",
            "\n",
            "Enter your authorization code:\n",
            "··········\n",
            "Mounted at /content/gdrive\n"
          ],
          "name": "stdout"
        }
      ]
    },
    {
      "cell_type": "markdown",
      "metadata": {
        "id": "koAL9Y0-9iha",
        "colab_type": "text"
      },
      "source": [
        "The commands will bring you to a Google Authentication step. You should see a screen with Google Drive File Stream wants to access your Google Account. After you allow permission, copy the given verification code and paste it in the box in Colab.\n",
        "In the notebook, click on the charcoal > on the top left of the notebook and click on Files. Locate the data folder you created earlier and find your data. Right-click on your data and select Copy Path. Store this copied path into a variable and you are ready to go."
      ]
    },
    {
      "cell_type": "markdown",
      "metadata": {
        "id": "hwfdFh_099X8",
        "colab_type": "text"
      },
      "source": [
        "Specify the exact path to your file and the seperator of your file to read it in."
      ]
    },
    {
      "cell_type": "code",
      "metadata": {
        "id": "5mJofN83LgpC",
        "colab_type": "code",
        "cellView": "form",
        "colab": {}
      },
      "source": [
        "#@title Which data do you want to use?\n",
        "file_path = \"carrefour.csv\" #@param [\"auchan.csv\",\"ecb_data.csv\", \"carrefour.csv\",\"banque_de_france\"] {allow-input: true}"
      ],
      "execution_count": 0,
      "outputs": []
    },
    {
      "cell_type": "code",
      "metadata": {
        "id": "zmjzvOdNOpRA",
        "colab_type": "code",
        "outputId": "ba8c9c9e-60c2-4154-bb46-e1243eda1a82",
        "colab": {
          "base_uri": "https://localhost:8080/",
          "height": 33
        }
      },
      "source": [
        "import pandas as pd\n",
        "data_path = '/data/bdf/'#\n",
        "df = pd.read_csv(path+data_path+file_path,sep='|',index_col=False)\n",
        "print(file_path,'loaded',len(df),'observation')"
      ],
      "execution_count": 4,
      "outputs": [
        {
          "output_type": "stream",
          "text": [
            "carrefour.csv loaded 8610 observation\n"
          ],
          "name": "stdout"
        }
      ]
    },
    {
      "cell_type": "markdown",
      "metadata": {
        "id": "bfjiyKlT-OdY",
        "colab_type": "text"
      },
      "source": [
        "Print out the dataframe to see if the import is correct."
      ]
    },
    {
      "cell_type": "markdown",
      "metadata": {
        "id": "0hvKTxOXGnlX",
        "colab_type": "text"
      },
      "source": [
        "# Predict CoiCop Level 4\n",
        "  \n",
        "How does it work? - Word Embeddings (left)\n",
        "* Words are translated in vectors which are learned representations\n",
        "* Embeddings are a multidimensional space (often 300+ dimesnsion) and words which relate to each other are closer in this space\n",
        "* Those spaces can be aligned for different languages\n",
        "* The example shows a three dimensional space with embeddings for three different languages, the translation are idealy close neighbours and the distance between milk and cheese is closer than the distance betwenn milk and potato  \n",
        "more information: https://towardsdatascience.com/introduction-to-word-embeddings-4cf857b12edc\n",
        "  \n",
        "How does it work? - Recurrent Neural Network (right)\n",
        "* Now every word is represented by a vector and the input to the model is a sequence of vectors\n",
        "* LSTM (Long Short Term Memory) Networks are good in solving sequential tasks, because they are able to remember information from previous states (words) and output a representation for the sentence \n",
        "* This representation is used to classify in to the coicop categories  \n",
        "more information: https://towardsdatascience.com/a-beginners-guide-on-sentiment-analysis-with-rnn-9e100627c02e \n",
        "\n",
        "\n"
      ]
    },
    {
      "cell_type": "markdown",
      "metadata": {
        "id": "q_kUPMnHLzyU",
        "colab_type": "text"
      },
      "source": [
        "![embed](https://drive.google.com/uc?id=1AoleK5q47ZTkPCtvxDD6icEpcnLc9viE)"
      ]
    },
    {
      "cell_type": "markdown",
      "metadata": {
        "id": "pFeMdvnl9_5n",
        "colab_type": "text"
      },
      "source": [
        "For the prediction you have to specify the names of certain columns in your dataframe which the tool will use.  \n",
        "* name_col is the column with the product name (mandatory)\n",
        "* category_col is the column with the category given by the supermarked (optional)\n",
        "* url_col is the column with  the url to the product (optional)\n",
        "* lang ist the language of the texts, supports 'de' and 'fr' (mandatory)\n",
        "* label_cat5 is the column with labels,if labeld (optional)\n",
        "\n"
      ]
    },
    {
      "cell_type": "code",
      "metadata": {
        "id": "1P-gtkLEGnwO",
        "colab_type": "code",
        "outputId": "6ee32070-cf87-464d-e843-e802499ef947",
        "colab": {
          "base_uri": "https://localhost:8080/",
          "height": 67
        }
      },
      "source": [
        "# init predictor\n",
        "  \n",
        "name_col = 'name'\n",
        "category_col = 'categ'\n",
        "url_col = 'url'\n",
        "lang = 'fr'\n",
        "label_cat5 = 'cc5' #'coicop4_str'\n",
        "\n",
        " #coicop_model #\n",
        "CoiCop_Predictor = coicop_model.predictor(df\n",
        "                                          , name_col\n",
        "                                          , category_col\n",
        "                                          , url_col\n",
        "                                          , label_cat5\n",
        "                                          , lang)\n"
      ],
      "execution_count": 5,
      "outputs": [
        {
          "output_type": "stream",
          "text": [
            "using name, category and words in url as input\n",
            "using french embeddings\n",
            "95% quantile no. of words per row is 34 (trained on 39)\n"
          ],
          "name": "stdout"
        }
      ]
    },
    {
      "cell_type": "code",
      "metadata": {
        "id": "4gqDNqEB7NPH",
        "colab_type": "code",
        "outputId": "4307def4-0da0-4eb0-cec5-db14ae6056fd",
        "colab": {
          "base_uri": "https://localhost:8080/",
          "height": 33
        }
      },
      "source": [
        "df_probs = CoiCop_Predictor.predict_proba()"
      ],
      "execution_count": 6,
      "outputs": [
        {
          "output_type": "stream",
          "text": [
            "100%|██████████| 86/86 [00:11<00:00,  7.54it/s]\n"
          ],
          "name": "stderr"
        }
      ]
    },
    {
      "cell_type": "markdown",
      "metadata": {
        "id": "pvjl5zLFk-RM",
        "colab_type": "text"
      },
      "source": [
        "if products are already labeled you can test the consistency with the prediction.\n",
        "label_cat5 is specified two lines above"
      ]
    },
    {
      "cell_type": "code",
      "metadata": {
        "id": "cAHI1bNrk713",
        "colab_type": "code",
        "colab": {
          "base_uri": "https://localhost:8080/",
          "height": 33
        },
        "outputId": "a59fa83a-db7b-4d8c-de7e-6096cca41b59"
      },
      "source": [
        "if label_cat5 is not None:\n",
        "    CoiCop_Predictor.test_performance()\n",
        "    #CoiCop_Predictor.confusion_matrix()"
      ],
      "execution_count": 7,
      "outputs": [
        {
          "output_type": "stream",
          "text": [
            "number of observation (labeled / all): 3812 / 8610 consistency  84.86 %\n"
          ],
          "name": "stdout"
        }
      ]
    },
    {
      "cell_type": "markdown",
      "metadata": {
        "id": "0mc-zOEeAIO7",
        "colab_type": "text"
      },
      "source": [
        "## Explonation  \n",
        "  \n",
        "It shows the three best candidates for a product and highlights the words which contribute to the estimate (positiv: green, negative: red)\n",
        "If you leave the the brackets empty it will show a random product. If you want the explonation for a particular product, you can enter the text.  \n",
        "If you enter text it always needs to be in marks ''."
      ]
    },
    {
      "cell_type": "code",
      "metadata": {
        "id": "T1gClUgdwbfk",
        "colab_type": "code",
        "outputId": "73b741fe-0e15-414c-d658-12a339ccc657",
        "colab": {
          "base_uri": "https://localhost:8080/",
          "height": 502
        }
      },
      "source": [
        "text = None\n",
        "categ= '1134_Frozen seafood'\n",
        "#text = ''\n",
        "\n",
        "CoiCop_Predictor.tell_me_why(text,categ)"
      ],
      "execution_count": 8,
      "outputs": [
        {
          "output_type": "stream",
          "text": [
            "prediction 1134_Frozen seafood\n",
            "label nan\n"
          ],
          "name": "stdout"
        },
        {
          "output_type": "execute_result",
          "data": {
            "text/html": [
              "\n",
              "    <style>\n",
              "    table.eli5-weights tr:hover {\n",
              "        filter: brightness(85%);\n",
              "    }\n",
              "</style>\n",
              "\n",
              "\n",
              "\n",
              "    \n",
              "\n",
              "    \n",
              "\n",
              "    \n",
              "\n",
              "    \n",
              "\n",
              "    \n",
              "\n",
              "    \n",
              "\n",
              "\n",
              "    \n",
              "\n",
              "    \n",
              "\n",
              "    \n",
              "\n",
              "    \n",
              "        \n",
              "\n",
              "    \n",
              "\n",
              "    \n",
              "        \n",
              "    \n",
              "        \n",
              "        \n",
              "    \n",
              "        <p style=\"margin-bottom: 0.5em; margin-top: 0em\">\n",
              "            <b>\n",
              "    \n",
              "        y=1134_Frozen seafood\n",
              "    \n",
              "</b>\n",
              "\n",
              "    \n",
              "    (probability <b>0.289</b>, score <b>0.297</b>)\n",
              "\n",
              "top features\n",
              "        </p>\n",
              "    \n",
              "    <table class=\"eli5-weights\"\n",
              "           style=\"border-collapse: collapse; border: none; margin-top: 0em; table-layout: auto; margin-bottom: 2em;\">\n",
              "        <thead>\n",
              "        <tr style=\"border: none;\">\n",
              "            \n",
              "                <th style=\"padding: 0 1em 0 0.5em; text-align: right; border: none;\" title=\"Feature contribution already accounts for the feature value (for linear models, contribution = weight * feature value), and the sum of feature contributions is equal to the score or, for some classifiers, to the probability. Feature values are shown if &quot;show_feature_values&quot; is True.\">\n",
              "                    Contribution<sup>?</sup>\n",
              "                </th>\n",
              "            \n",
              "            <th style=\"padding: 0 0.5em 0 0.5em; text-align: left; border: none;\">Feature</th>\n",
              "            \n",
              "        </tr>\n",
              "        </thead>\n",
              "        <tbody>\n",
              "        \n",
              "            <tr style=\"background-color: hsl(120, 100.00%, 80.00%); border: none;\">\n",
              "    <td style=\"padding: 0 1em 0 0.5em; text-align: right; border: none;\">\n",
              "        +15.638\n",
              "    </td>\n",
              "    <td style=\"padding: 0 0.5em 0 0.5em; text-align: left; border: none;\">\n",
              "        Highlighted in text (sum)\n",
              "    </td>\n",
              "    \n",
              "</tr>\n",
              "        \n",
              "        \n",
              "\n",
              "        \n",
              "        \n",
              "            <tr style=\"background-color: hsl(0, 100.00%, 80.27%); border: none;\">\n",
              "    <td style=\"padding: 0 1em 0 0.5em; text-align: right; border: none;\">\n",
              "        -15.341\n",
              "    </td>\n",
              "    <td style=\"padding: 0 0.5em 0 0.5em; text-align: left; border: none;\">\n",
              "        &lt;BIAS&gt;\n",
              "    </td>\n",
              "    \n",
              "</tr>\n",
              "        \n",
              "\n",
              "        </tbody>\n",
              "    </table>\n",
              "\n",
              "    \n",
              "\n",
              "\n",
              "\n",
              "    <p style=\"margin-bottom: 2.5em; margin-top:-0.5em;\">\n",
              "        <span style=\"background-color: hsl(120, 100.00%, 84.45%); opacity: 0.85\" title=\"0.559\">Thai</span><span style=\"opacity: 0.80\"> </span><span style=\"background-color: hsl(120, 100.00%, 87.47%); opacity: 0.84\" title=\"0.411\">Heritage</span><span style=\"opacity: 0.80\"> </span><span style=\"background-color: hsl(120, 100.00%, 69.93%); opacity: 0.93\" title=\"1.434\">Oyster</span><span style=\"opacity: 0.80\"> </span><span style=\"background-color: hsl(0, 100.00%, 87.31%); opacity: 0.84\" title=\"-0.418\">Sauce</span><span style=\"opacity: 0.80\"> </span><span style=\"background-color: hsl(120, 100.00%, 87.75%); opacity: 0.84\" title=\"0.398\">250</span><span style=\"opacity: 0.80\"> </span><span style=\"background-color: hsl(120, 100.00%, 89.38%); opacity: 0.83\" title=\"0.324\">gDrive</span><span style=\"opacity: 0.80\"> </span><span style=\"background-color: hsl(120, 100.00%, 84.70%); opacity: 0.85\" title=\"0.546\">Epicerie</span><span style=\"opacity: 0.80\"> </span><span style=\"background-color: hsl(120, 100.00%, 70.94%); opacity: 0.93\" title=\"1.366\">Produits</span><span style=\"opacity: 0.80\"> </span><span style=\"background-color: hsl(120, 100.00%, 90.20%); opacity: 0.83\" title=\"0.289\">du</span><span style=\"opacity: 0.80\"> </span><span style=\"background-color: hsl(120, 100.00%, 94.32%); opacity: 0.81\" title=\"0.133\">monde</span><span style=\"opacity: 0.80\"> </span><span style=\"background-color: hsl(120, 100.00%, 78.53%); opacity: 0.88\" title=\"0.886\">Asie</span><span style=\"opacity: 0.80\"> </span><span style=\"background-color: hsl(120, 100.00%, 83.99%); opacity: 0.85\" title=\"0.583\">Thailandeproduits</span><span style=\"opacity: 0.80\"> </span><span style=\"background-color: hsl(120, 100.00%, 92.60%); opacity: 0.82\" title=\"0.194\">monde</span><span style=\"opacity: 0.80\"> </span><span style=\"background-color: hsl(120, 100.00%, 70.51%); opacity: 0.93\" title=\"1.395\">asie</span><span style=\"opacity: 0.80\"> </span><span style=\"background-color: hsl(120, 100.00%, 60.00%); opacity: 1.00\" title=\"2.156\">thailande</span><span style=\"opacity: 0.80\"> </span><span style=\"background-color: hsl(120, 100.00%, 69.40%); opacity: 0.94\" title=\"1.471\">thai</span><span style=\"opacity: 0.80\"> </span><span style=\"background-color: hsl(120, 100.00%, 73.43%); opacity: 0.91\" title=\"1.202\">heritage</span><span style=\"opacity: 0.80\"> </span><span style=\"background-color: hsl(120, 100.00%, 69.94%); opacity: 0.93\" title=\"1.434\">oyster</span><span style=\"opacity: 0.80\"> </span><span style=\"background-color: hsl(120, 100.00%, 77.50%); opacity: 0.89\" title=\"0.948\">sauce</span>\n",
              "    </p>\n",
              "\n",
              "    \n",
              "        \n",
              "    \n",
              "        \n",
              "        \n",
              "    \n",
              "        <p style=\"margin-bottom: 0.5em; margin-top: 0em\">\n",
              "            <b>\n",
              "    \n",
              "        y=1194_Ready-made meals\n",
              "    \n",
              "</b>\n",
              "\n",
              "    \n",
              "    (probability <b>0.236</b>, score <b>-0.127</b>)\n",
              "\n",
              "top features\n",
              "        </p>\n",
              "    \n",
              "    <table class=\"eli5-weights\"\n",
              "           style=\"border-collapse: collapse; border: none; margin-top: 0em; table-layout: auto; margin-bottom: 2em;\">\n",
              "        <thead>\n",
              "        <tr style=\"border: none;\">\n",
              "            \n",
              "                <th style=\"padding: 0 1em 0 0.5em; text-align: right; border: none;\" title=\"Feature contribution already accounts for the feature value (for linear models, contribution = weight * feature value), and the sum of feature contributions is equal to the score or, for some classifiers, to the probability. Feature values are shown if &quot;show_feature_values&quot; is True.\">\n",
              "                    Contribution<sup>?</sup>\n",
              "                </th>\n",
              "            \n",
              "            <th style=\"padding: 0 0.5em 0 0.5em; text-align: left; border: none;\">Feature</th>\n",
              "            \n",
              "        </tr>\n",
              "        </thead>\n",
              "        <tbody>\n",
              "        \n",
              "            <tr style=\"background-color: hsl(120, 100.00%, 85.02%); border: none;\">\n",
              "    <td style=\"padding: 0 1em 0 0.5em; text-align: right; border: none;\">\n",
              "        +10.353\n",
              "    </td>\n",
              "    <td style=\"padding: 0 0.5em 0 0.5em; text-align: left; border: none;\">\n",
              "        Highlighted in text (sum)\n",
              "    </td>\n",
              "    \n",
              "</tr>\n",
              "        \n",
              "        \n",
              "\n",
              "        \n",
              "        \n",
              "            <tr style=\"background-color: hsl(0, 100.00%, 84.89%); border: none;\">\n",
              "    <td style=\"padding: 0 1em 0 0.5em; text-align: right; border: none;\">\n",
              "        -10.479\n",
              "    </td>\n",
              "    <td style=\"padding: 0 0.5em 0 0.5em; text-align: left; border: none;\">\n",
              "        &lt;BIAS&gt;\n",
              "    </td>\n",
              "    \n",
              "</tr>\n",
              "        \n",
              "\n",
              "        </tbody>\n",
              "    </table>\n",
              "\n",
              "    \n",
              "\n",
              "\n",
              "\n",
              "    <p style=\"margin-bottom: 2.5em; margin-top:-0.5em;\">\n",
              "        <span style=\"background-color: hsl(120, 100.00%, 87.15%); opacity: 0.84\" title=\"0.426\">Thai</span><span style=\"opacity: 0.80\"> </span><span style=\"background-color: hsl(120, 100.00%, 86.03%); opacity: 0.84\" title=\"0.480\">Heritage</span><span style=\"opacity: 0.80\"> </span><span style=\"background-color: hsl(120, 100.00%, 74.18%); opacity: 0.91\" title=\"1.154\">Oyster</span><span style=\"opacity: 0.80\"> </span><span style=\"background-color: hsl(120, 100.00%, 79.26%); opacity: 0.88\" title=\"0.844\">Sauce</span><span style=\"opacity: 0.80\"> </span><span style=\"background-color: hsl(120, 100.00%, 84.93%); opacity: 0.85\" title=\"0.535\">250</span><span style=\"opacity: 0.80\"> </span><span style=\"background-color: hsl(120, 100.00%, 89.63%); opacity: 0.83\" title=\"0.314\">gDrive</span><span style=\"opacity: 0.80\"> </span><span style=\"background-color: hsl(120, 100.00%, 92.10%); opacity: 0.82\" title=\"0.212\">Epicerie</span><span style=\"opacity: 0.80\"> </span><span style=\"background-color: hsl(0, 100.00%, 94.92%); opacity: 0.81\" title=\"-0.113\">Produits</span><span style=\"opacity: 0.80\"> </span><span style=\"background-color: hsl(120, 100.00%, 87.59%); opacity: 0.84\" title=\"0.405\">du</span><span style=\"opacity: 0.80\"> </span><span style=\"background-color: hsl(120, 100.00%, 94.69%); opacity: 0.81\" title=\"0.120\">monde</span><span style=\"opacity: 0.80\"> </span><span style=\"background-color: hsl(120, 100.00%, 89.25%); opacity: 0.83\" title=\"0.330\">Asie</span><span style=\"opacity: 0.80\"> </span><span style=\"background-color: hsl(120, 100.00%, 90.31%); opacity: 0.83\" title=\"0.285\">Thailandeproduits</span><span style=\"opacity: 0.80\"> </span><span style=\"background-color: hsl(120, 100.00%, 93.83%); opacity: 0.81\" title=\"0.149\">monde</span><span style=\"opacity: 0.80\"> </span><span style=\"background-color: hsl(120, 100.00%, 91.48%); opacity: 0.82\" title=\"0.237\">asie</span><span style=\"opacity: 0.80\"> </span><span style=\"background-color: hsl(120, 100.00%, 70.30%); opacity: 0.93\" title=\"1.410\">thailande</span><span style=\"opacity: 0.80\"> </span><span style=\"background-color: hsl(120, 100.00%, 89.90%); opacity: 0.83\" title=\"0.302\">thai</span><span style=\"opacity: 0.80\"> </span><span style=\"background-color: hsl(120, 100.00%, 96.77%); opacity: 0.81\" title=\"0.059\">heritage</span><span style=\"opacity: 0.80\"> </span><span style=\"background-color: hsl(120, 100.00%, 79.78%); opacity: 0.88\" title=\"0.814\">oyster</span><span style=\"opacity: 0.80\"> </span><span style=\"background-color: hsl(120, 100.00%, 60.46%); opacity: 1.00\" title=\"2.121\">sauce</span>\n",
              "    </p>\n",
              "\n",
              "    \n",
              "        \n",
              "    \n",
              "        \n",
              "        \n",
              "    \n",
              "        <p style=\"margin-bottom: 0.5em; margin-top: 0em\">\n",
              "            <b>\n",
              "    \n",
              "        y=1191_Sauces, condiments\n",
              "    \n",
              "</b>\n",
              "\n",
              "    \n",
              "    (probability <b>0.220</b>, score <b>-0.252</b>)\n",
              "\n",
              "top features\n",
              "        </p>\n",
              "    \n",
              "    <table class=\"eli5-weights\"\n",
              "           style=\"border-collapse: collapse; border: none; margin-top: 0em; table-layout: auto; margin-bottom: 2em;\">\n",
              "        <thead>\n",
              "        <tr style=\"border: none;\">\n",
              "            \n",
              "                <th style=\"padding: 0 1em 0 0.5em; text-align: right; border: none;\" title=\"Feature contribution already accounts for the feature value (for linear models, contribution = weight * feature value), and the sum of feature contributions is equal to the score or, for some classifiers, to the probability. Feature values are shown if &quot;show_feature_values&quot; is True.\">\n",
              "                    Contribution<sup>?</sup>\n",
              "                </th>\n",
              "            \n",
              "            <th style=\"padding: 0 0.5em 0 0.5em; text-align: left; border: none;\">Feature</th>\n",
              "            \n",
              "        </tr>\n",
              "        </thead>\n",
              "        <tbody>\n",
              "        \n",
              "            <tr style=\"background-color: hsl(120, 100.00%, 94.14%); border: none;\">\n",
              "    <td style=\"padding: 0 1em 0 0.5em; text-align: right; border: none;\">\n",
              "        +2.708\n",
              "    </td>\n",
              "    <td style=\"padding: 0 0.5em 0 0.5em; text-align: left; border: none;\">\n",
              "        Highlighted in text (sum)\n",
              "    </td>\n",
              "    \n",
              "</tr>\n",
              "        \n",
              "        \n",
              "\n",
              "        \n",
              "        \n",
              "            <tr style=\"background-color: hsl(0, 100.00%, 93.76%); border: none;\">\n",
              "    <td style=\"padding: 0 1em 0 0.5em; text-align: right; border: none;\">\n",
              "        -2.960\n",
              "    </td>\n",
              "    <td style=\"padding: 0 0.5em 0 0.5em; text-align: left; border: none;\">\n",
              "        &lt;BIAS&gt;\n",
              "    </td>\n",
              "    \n",
              "</tr>\n",
              "        \n",
              "\n",
              "        </tbody>\n",
              "    </table>\n",
              "\n",
              "    \n",
              "\n",
              "\n",
              "\n",
              "    <p style=\"margin-bottom: 2.5em; margin-top:-0.5em;\">\n",
              "        <span style=\"background-color: hsl(120, 100.00%, 93.73%); opacity: 0.81\" title=\"0.153\">Thai</span><span style=\"opacity: 0.80\"> </span><span style=\"background-color: hsl(0, 100.00%, 96.91%); opacity: 0.81\" title=\"-0.056\">Heritage</span><span style=\"opacity: 0.80\"> </span><span style=\"background-color: hsl(0, 100.00%, 87.84%); opacity: 0.84\" title=\"-0.393\">Oyster</span><span style=\"opacity: 0.80\"> </span><span style=\"background-color: hsl(120, 100.00%, 78.13%); opacity: 0.88\" title=\"0.910\">Sauce</span><span style=\"opacity: 0.80\"> </span><span style=\"background-color: hsl(0, 100.00%, 86.27%); opacity: 0.84\" title=\"-0.468\">250</span><span style=\"opacity: 0.80\"> </span><span style=\"background-color: hsl(120, 100.00%, 97.19%); opacity: 0.80\" title=\"0.048\">gDrive</span><span style=\"opacity: 0.80\"> </span><span style=\"background-color: hsl(120, 100.00%, 87.05%); opacity: 0.84\" title=\"0.431\">Epicerie</span><span style=\"opacity: 0.80\"> Produits du </span><span style=\"background-color: hsl(120, 100.00%, 89.36%); opacity: 0.83\" title=\"0.325\">monde</span><span style=\"opacity: 0.80\"> </span><span style=\"background-color: hsl(120, 100.00%, 94.81%); opacity: 0.81\" title=\"0.117\">Asie</span><span style=\"opacity: 0.80\"> </span><span style=\"background-color: hsl(120, 100.00%, 96.34%); opacity: 0.81\" title=\"0.071\">Thailandeproduits</span><span style=\"opacity: 0.80\"> </span><span style=\"background-color: hsl(120, 100.00%, 89.60%); opacity: 0.83\" title=\"0.315\">monde</span><span style=\"opacity: 0.80\"> </span><span style=\"background-color: hsl(120, 100.00%, 92.41%); opacity: 0.82\" title=\"0.201\">asie</span><span style=\"opacity: 0.80\"> </span><span style=\"background-color: hsl(0, 100.00%, 86.82%); opacity: 0.84\" title=\"-0.442\">thailande</span><span style=\"opacity: 0.80\"> </span><span style=\"background-color: hsl(0, 100.00%, 95.91%); opacity: 0.81\" title=\"-0.083\">thai</span><span style=\"opacity: 0.80\"> </span><span style=\"background-color: hsl(120, 100.00%, 95.40%); opacity: 0.81\" title=\"0.098\">heritage</span><span style=\"opacity: 0.80\"> </span><span style=\"background-color: hsl(0, 100.00%, 87.14%); opacity: 0.84\" title=\"-0.426\">oyster</span><span style=\"opacity: 0.80\"> </span><span style=\"background-color: hsl(120, 100.00%, 72.41%); opacity: 0.92\" title=\"1.269\">sauce</span>\n",
              "    </p>\n",
              "\n",
              "    \n",
              "\n",
              "\n",
              "    \n",
              "\n",
              "    \n",
              "\n",
              "    \n",
              "\n",
              "\n",
              "    \n",
              "\n",
              "    \n",
              "\n",
              "    \n",
              "\n",
              "    \n",
              "\n",
              "    \n",
              "\n",
              "    \n",
              "\n",
              "\n",
              "    \n",
              "\n",
              "    \n",
              "\n",
              "    \n",
              "\n",
              "    \n",
              "\n",
              "    \n",
              "\n",
              "    \n",
              "\n",
              "\n",
              "\n"
            ],
            "text/plain": [
              "Explanation(estimator=\"SGDClassifier(alpha=0.001, average=False, class_weight=None,\\n              early_stopping=False, epsilon=0.1, eta0=0.0, fit_intercept=True,\\n              l1_ratio=0.15, learning_rate='optimal', loss='log', max_iter=1000,\\n              n_iter_no_change=5, n_jobs=None, penalty='elasticnet',\\n              power_t=0.5, random_state=RandomState(MT19937) at 0x7FE0E85B0780,\\n              shuffle=True, tol=0.001, validation_fraction=0.1, verbose=0,\\n              warm_start=False)\", description=None, error=None, method='linear model', is_regression=False, targets=[TargetExplanation(target='1134_Frozen seafood', feature_weights=FeatureWeights(pos=[FeatureWeight(feature='[14] thailande', weight=2.1564366869889713, std=None, value=1.0), FeatureWeight(feature='[15] thai', weight=1.4707200744596338, std=None, value=1.0), FeatureWeight(feature='[2] Oyster', weight=1.4343675044810118, std=None, value=1.0), FeatureWeight(feature='[17] oyster', weight=1.4335157981097708, std=None, value=1.0), FeatureWeight(feature='[13] asie', weight=1.3952889781578675, std=None, value=1.0), FeatureWeight(feature='[7] Produits', weight=1.36606357140266, std=None, value=1.0), FeatureWeight(feature='[16] heritage', weight=1.2021260651208743, std=None, value=1.0), FeatureWeight(feature='[18] sauce', weight=0.947797900110209, std=None, value=1.0), FeatureWeight(feature='[10] Asie', weight=0.8864498659011626, std=None, value=1.0), FeatureWeight(feature='[11] Thailandeproduits', weight=0.5827254173742383, std=None, value=1.0), FeatureWeight(feature='[0] Thai', weight=0.559293502871122, std=None, value=1.0), FeatureWeight(feature='[6] Epicerie', weight=0.5463521271188132, std=None, value=1.0), FeatureWeight(feature='[1] Heritage', weight=0.410939192511943, std=None, value=1.0), FeatureWeight(feature='[4] 250', weight=0.39755134252656477, std=None, value=1.0), FeatureWeight(feature='[12] monde', weight=0.38715350762133405, std=None, value=1.0), FeatureWeight(feature='[5] gDrive', weight=0.32449210945190365, std=None, value=1.0), FeatureWeight(feature='[8] du', weight=0.2893164294236628, std=None, value=1.0), FeatureWeight(feature='[9] monde', weight=0.26544396050782715, std=None, value=1.0)], neg=[FeatureWeight(feature='<BIAS>', weight=-15.341327878179058, std=None, value=1.0), FeatureWeight(feature='[3] Sauce', weight=-0.4182019374216791, std=None, value=1.0)], pos_remaining=0, neg_remaining=0), proba=0.2885789719709021, score=0.296504218538832, weighted_spans=WeightedSpans(docs_weighted_spans=[DocWeightedSpans(document='Thai Heritage Oyster Sauce 250 gDrive Epicerie Produits du monde Asie Thailandeproduits monde asie thailande thai heritage oyster sauce', spans=[('Thai', [(0, 4)], 0.559293502871122), ('Heritage', [(5, 13)], 0.410939192511943), ('Oyster', [(14, 20)], 1.4343675044810118), ('Sauce', [(21, 26)], -0.4182019374216791), ('250', [(27, 30)], 0.39755134252656477), ('gDrive', [(31, 37)], 0.32449210945190365), ('Epicerie', [(38, 46)], 0.5463521271188132), ('Produits', [(47, 55)], 1.36606357140266), ('du', [(56, 58)], 0.2893164294236628), ('monde', [(59, 64)], 0.26544396050782715), ('Asie', [(65, 69)], 0.8864498659011626), ('Thailandeproduits', [(70, 87)], 0.5827254173742383), ('monde', [(88, 93)], 0.38715350762133405), ('asie', [(94, 98)], 1.3952889781578675), ('thailande', [(99, 108)], 2.1564366869889713), ('thai', [(109, 113)], 1.4707200744596338), ('heritage', [(114, 122)], 1.2021260651208743), ('oyster', [(123, 129)], 1.4335157981097708), ('sauce', [(130, 135)], 0.947797900110209)], preserve_density=False, vec_name=None)], other=FeatureWeights(pos=[FeatureWeight(feature=<FormattedFeatureName 'Highlighted in text (sum)'>, weight=15.63783209671789, std=None, value=None)], neg=[FeatureWeight(feature='<BIAS>', weight=-15.341327878179058, std=None, value=1.0)], pos_remaining=0, neg_remaining=0)), heatmap=None), TargetExplanation(target='1194_Ready-made meals', feature_weights=FeatureWeights(pos=[FeatureWeight(feature='[18] sauce', weight=2.1211504836447257, std=None, value=1.0), FeatureWeight(feature='[14] thailande', weight=1.4095905907773436, std=None, value=1.0), FeatureWeight(feature='[2] Oyster', weight=1.1537058602883483, std=None, value=1.0), FeatureWeight(feature='[3] Sauce', weight=0.8436618149501499, std=None, value=1.0), FeatureWeight(feature='[17] oyster', weight=0.8139571796290629, std=None, value=1.0), FeatureWeight(feature='[4] 250', weight=0.5348119685870618, std=None, value=1.0), FeatureWeight(feature='[1] Heritage', weight=0.4796755048214709, std=None, value=1.0), FeatureWeight(feature='[0] Thai', weight=0.42603872471375054, std=None, value=1.0), FeatureWeight(feature='[8] du', weight=0.4050775760581743, std=None, value=1.0), FeatureWeight(feature='[10] Asie', weight=0.32985564271450907, std=None, value=1.0), FeatureWeight(feature='[5] gDrive', weight=0.31364254264968344, std=None, value=1.0), FeatureWeight(feature='[15] thai', weight=0.3020234653113236, std=None, value=1.0), FeatureWeight(feature='[12] monde', weight=0.2989238713296247, std=None, value=1.0), FeatureWeight(feature='[11] Thailandeproduits', weight=0.28459321450721076, std=None, value=1.0), FeatureWeight(feature='[9] monde', weight=0.24072910647079687, std=None, value=1.0), FeatureWeight(feature='[13] asie', weight=0.2367761131032647, std=None, value=1.0), FeatureWeight(feature='[6] Epicerie', weight=0.2124132351947625, std=None, value=1.0), FeatureWeight(feature='[16] heritage', weight=0.05915567807138843, std=None, value=1.0)], neg=[FeatureWeight(feature='<BIAS>', weight=-10.479402163356145, std=None, value=1.0), FeatureWeight(feature='[7] Produits', weight=-0.11310259618296935, std=None, value=1.0)], pos_remaining=0, neg_remaining=0), proba=0.23563851851205617, score=-0.12672218671646363, weighted_spans=WeightedSpans(docs_weighted_spans=[DocWeightedSpans(document='Thai Heritage Oyster Sauce 250 gDrive Epicerie Produits du monde Asie Thailandeproduits monde asie thailande thai heritage oyster sauce', spans=[('Thai', [(0, 4)], 0.42603872471375054), ('Heritage', [(5, 13)], 0.4796755048214709), ('Oyster', [(14, 20)], 1.1537058602883483), ('Sauce', [(21, 26)], 0.8436618149501499), ('250', [(27, 30)], 0.5348119685870618), ('gDrive', [(31, 37)], 0.31364254264968344), ('Epicerie', [(38, 46)], 0.2124132351947625), ('Produits', [(47, 55)], -0.11310259618296935), ('du', [(56, 58)], 0.4050775760581743), ('monde', [(59, 64)], 0.24072910647079687), ('Asie', [(65, 69)], 0.32985564271450907), ('Thailandeproduits', [(70, 87)], 0.28459321450721076), ('monde', [(88, 93)], 0.2989238713296247), ('asie', [(94, 98)], 0.2367761131032647), ('thailande', [(99, 108)], 1.4095905907773436), ('thai', [(109, 113)], 0.3020234653113236), ('heritage', [(114, 122)], 0.05915567807138843), ('oyster', [(123, 129)], 0.8139571796290629), ('sauce', [(130, 135)], 2.1211504836447257)], preserve_density=False, vec_name=None)], other=FeatureWeights(pos=[FeatureWeight(feature=<FormattedFeatureName 'Highlighted in text (sum)'>, weight=10.352679976639683, std=None, value=None)], neg=[FeatureWeight(feature='<BIAS>', weight=-10.479402163356145, std=None, value=1.0)], pos_remaining=0, neg_remaining=0)), heatmap=None), TargetExplanation(target='1191_Sauces, condiments', feature_weights=FeatureWeights(pos=[FeatureWeight(feature='[18] sauce', weight=1.2685784881991136, std=None, value=1.0), FeatureWeight(feature='[3] Sauce', weight=0.910141762987351, std=None, value=1.0), FeatureWeight(feature='[9] monde', weight=0.6500515010126954, std=None, value=1.0), FeatureWeight(feature='[12] monde', weight=0.6291604307330072, std=None, value=1.0), FeatureWeight(feature='[6] Epicerie', weight=0.4305617021690293, std=None, value=1.0), FeatureWeight(feature='[13] asie', weight=0.20067132500421953, std=None, value=1.0), FeatureWeight(feature='[0] Thai', weight=0.15265246699980067, std=None, value=1.0), FeatureWeight(feature='[10] Asie', weight=0.11670712658239514, std=None, value=1.0), FeatureWeight(feature='[16] heritage', weight=0.0980191384878978, std=None, value=1.0), FeatureWeight(feature='[11] Thailandeproduits', weight=0.07070216390734069, std=None, value=1.0), FeatureWeight(feature='[5] gDrive', weight=0.048417584734225055, std=None, value=1.0)], neg=[FeatureWeight(feature='<BIAS>', weight=-2.959532557502541, std=None, value=1.0), FeatureWeight(feature='[4] 250', weight=-0.46795102368699953, std=None, value=1.0), FeatureWeight(feature='[14] thailande', weight=-0.4417662117638845, std=None, value=1.0), FeatureWeight(feature='[17] oyster', weight=-0.42620877911968585, std=None, value=1.0), FeatureWeight(feature='[2] Oyster', weight=-0.3934382277794519, std=None, value=1.0), FeatureWeight(feature='[15] thai', weight=-0.08289237985637693, std=None, value=1.0), FeatureWeight(feature='[1] Heritage', weight=-0.055501671613755375, std=None, value=1.0)], pos_remaining=0, neg_remaining=0), proba=0.22007286119762892, score=-0.25162716050561995, weighted_spans=WeightedSpans(docs_weighted_spans=[DocWeightedSpans(document='Thai Heritage Oyster Sauce 250 gDrive Epicerie Produits du monde Asie Thailandeproduits monde asie thailande thai heritage oyster sauce', spans=[('Thai', [(0, 4)], 0.15265246699980067), ('Heritage', [(5, 13)], -0.055501671613755375), ('Oyster', [(14, 20)], -0.3934382277794519), ('Sauce', [(21, 26)], 0.910141762987351), ('250', [(27, 30)], -0.46795102368699953), ('gDrive', [(31, 37)], 0.048417584734225055), ('Epicerie', [(38, 46)], 0.4305617021690293), ('monde', [(59, 64)], 0.6500515010126954), ('Asie', [(65, 69)], 0.11670712658239514), ('Thailandeproduits', [(70, 87)], 0.07070216390734069), ('monde', [(88, 93)], 0.6291604307330072), ('asie', [(94, 98)], 0.20067132500421953), ('thailande', [(99, 108)], -0.4417662117638845), ('thai', [(109, 113)], -0.08289237985637693), ('heritage', [(114, 122)], 0.0980191384878978), ('oyster', [(123, 129)], -0.42620877911968585), ('sauce', [(130, 135)], 1.2685784881991136)], preserve_density=False, vec_name=None)], other=FeatureWeights(pos=[FeatureWeight(feature=<FormattedFeatureName 'Highlighted in text (sum)'>, weight=2.707905396996921, std=None, value=None)], neg=[FeatureWeight(feature='<BIAS>', weight=-2.959532557502541, std=None, value=1.0)], pos_remaining=0, neg_remaining=0)), heatmap=None)], feature_importances=None, decision_tree=None, highlight_spaces=None, transition_features=None, image=None)"
            ]
          },
          "metadata": {
            "tags": []
          },
          "execution_count": 8
        }
      ]
    },
    {
      "cell_type": "markdown",
      "metadata": {
        "id": "SMjTYrR87e4K",
        "colab_type": "text"
      },
      "source": [
        "# Annotation"
      ]
    },
    {
      "cell_type": "markdown",
      "metadata": {
        "id": "FGBoWMkJ_HPd",
        "colab_type": "text"
      },
      "source": [
        "For the annotation tool you have to specify the naes of certain columns in your dataframe which the tool will use.  \n",
        "* Labeled_by takes your name and stores it after every item you labeld.  \n",
        "* Text column 1 is the name of the column for the first line of text which will be displayed to help you labeling the product, usually this is the product name.  \n",
        "* Text column 2 is the name of the column for the second line of text which will be displayed to help you labeling the product, this could be the category or the translation.  \n",
        "* The URL column is the name of the column where the url of the scraped product is located (if it is in the dataframe). The url might be helpfull if you are unsure about the product nd want to look up the whole page on the website. If you do not have the url in your data you can leave it empty.  \n",
        "* CoiCop 5 prediction is the column where the prediction is stored. The prediction will appear preselected in the dropdown menu.   \n",
        "  \n",
        "The data are sorted in a way that catogies with few labels come first, if predictions of those label are available.\n"
      ]
    },
    {
      "cell_type": "code",
      "metadata": {
        "id": "1xmoZj7JdS0o",
        "colab_type": "code",
        "colab": {}
      },
      "source": [
        "# init labeler\n",
        "\n",
        "labeled_by = 'Erik'\n",
        "text_column_1 = 'name'\n",
        "text_column_2 = 'categ'\n",
        "url_column = 'url'\n",
        "CoiCop_5_pred_col = 'cc5_pred'\n",
        "Use_probabilities = True\n",
        "\n",
        "#labeler_cc5\n",
        "CoiCop_Labeler = labeler_cc5.labeler( labeled_by\n",
        "                        , df_probs\n",
        "                        , text_column_1\n",
        "                        , text_column_2\n",
        "                        , url_column\n",
        "                        , CoiCop_5_pred_col\n",
        "                        , Use_probabilities)"
      ],
      "execution_count": 0,
      "outputs": []
    },
    {
      "cell_type": "markdown",
      "metadata": {
        "id": "Ph_zFG30BeEn",
        "colab_type": "text"
      },
      "source": [
        "Now you are ready to label, after executing the next line you will see:\n",
        "* Select category you want to label\n",
        "* Text 1\n",
        "* Text 2\n",
        "* URL\n",
        "* Dropdown with one category which is the prediction for the product. If you are dissatisfied with it, you can click on the dropdown and select the right one.\n",
        "* Next-Button will skip this product\n",
        "* Save-Button will annotate the selected category to your dataframe\n",
        "  \n",
        "If you finished labeling just jump to the next line."
      ]
    },
    {
      "cell_type": "code",
      "metadata": {
        "id": "soYye5zedVXk",
        "colab_type": "code",
        "outputId": "b41252c2-7762-4093-c29d-a351b8490161",
        "colab": {
          "base_uri": "https://localhost:8080/",
          "height": 289,
          "referenced_widgets": [
            "05b8e9130d91471c925122d730ee6b55",
            "2b050e17071046aa8683cdea63b684ea",
            "68c3f8aa1b0a4b8db1590a07dad6267a",
            "505625e6f59c4e6bb87e80f5334f862e",
            "85a61dcfc0fe4daaa83e43943ddfd5d3",
            "dc3ebafded164ec9a16e357a9bbf0414",
            "84d3a310e7ea4ecf80a13b6cc53ea892",
            "6485ff7333b440f58561581c2fe1e579",
            "c651b1e91c744b52acac7614bcbab21c",
            "5c6daba8b6b54ef1b82e5e3975992613",
            "6118a0e151ed42a09c44acad619ad381",
            "ad935b790f004ec7972f405d9066f8d5",
            "cb4198779072402c943fa568881d601f",
            "7de88cd02b3f48ef97e0a7c3a6dbed2a",
            "3bb3ea1a62d7413da2dc43ff15001b82",
            "77a3660552ad4207b6b120955636cd31",
            "3ff0ec75b47c4c9fa7a0e4c6cc62af0d",
            "c03f0a665fe04fe2a5c89098790bfc1f",
            "48e109afb1a74e39ad26db05a477a514",
            "36ec8a658747465699bdac90fd8b52d6",
            "4b865f20df5e4567bf8d2dd03acdc34a",
            "4bd7486edc9348159ce534dcfacf40b9",
            "66f285abd71048008ad96b5bee38de9e",
            "d2d8276f41794233b42cf53e1cb3aeb0",
            "0352adcfe885413dbcb0d2fd96f9d39d",
            "df42bb551b50472fbce87298f94b508e",
            "14003b9d5a4341d3be1322356628a8ab",
            "b4010ffd29634be28ad6f5b3eded13c1",
            "bfe2fd4c62b84fada58386be7562467f",
            "a5eb17c8341c4e32827f909af360c4b5",
            "fde51c10fc8f4cc7a256ebb4c62c359c",
            "a28e9cf4915343ee86e6dc67837c5b06",
            "32535b5157474340ae412a1aa9cca924",
            "6fad774d98d345a0a4fd4a974a0cab8e",
            "68b1a95a9fc047beb2620397fadae335",
            "78eae7697c2e4db3945d978b7a80bc42",
            "733ad38b3e2843b0ae3cb124a75e0850"
          ]
        }
      },
      "source": [
        "CoiCop_Labeler.start_to_label()"
      ],
      "execution_count": 11,
      "outputs": [
        {
          "output_type": "display_data",
          "data": {
            "application/vnd.jupyter.widget-view+json": {
              "model_id": "05b8e9130d91471c925122d730ee6b55",
              "version_minor": 0,
              "version_major": 2
            },
            "text/plain": [
              "VBox(children=(Box(children=(Dropdown(description='Select category to label:', layout=Layout(height='60px', wi…"
            ]
          },
          "metadata": {
            "tags": []
          }
        }
      ]
    },
    {
      "cell_type": "markdown",
      "metadata": {
        "id": "zlEm5YPfCff9",
        "colab_type": "text"
      },
      "source": [
        "The next line will print out your current progress of annotating the data."
      ]
    },
    {
      "cell_type": "code",
      "metadata": {
        "id": "kWzefcaMdXh9",
        "colab_type": "code",
        "outputId": "f9920001-422d-45a5-a65c-372711d34c66",
        "colab": {
          "base_uri": "https://localhost:8080/",
          "height": 50
        }
      },
      "source": [
        "CoiCop_Labeler.get_stats()"
      ],
      "execution_count": 12,
      "outputs": [
        {
          "output_type": "stream",
          "text": [
            "new labels: 1\n",
            "in total 3813 of 8610 labeled ( 44.0 %)\n"
          ],
          "name": "stdout"
        }
      ]
    },
    {
      "cell_type": "markdown",
      "metadata": {
        "id": "PGSEDm3EDSpT",
        "colab_type": "text"
      },
      "source": [
        "Output the data including annotation."
      ]
    },
    {
      "cell_type": "code",
      "metadata": {
        "id": "3051UrA5dZT0",
        "colab_type": "code",
        "outputId": "2fe3db12-c02e-4e87-8b85-89de97d236ee",
        "colab": {
          "base_uri": "https://localhost:8080/",
          "height": 147
        }
      },
      "source": [
        "df= CoiCop_Labeler.output_labels()\n",
        "df[:1]"
      ],
      "execution_count": 0,
      "outputs": [
        {
          "output_type": "execute_result",
          "data": {
            "text/html": [
              "<div>\n",
              "<style scoped>\n",
              "    .dataframe tbody tr th:only-of-type {\n",
              "        vertical-align: middle;\n",
              "    }\n",
              "\n",
              "    .dataframe tbody tr th {\n",
              "        vertical-align: top;\n",
              "    }\n",
              "\n",
              "    .dataframe thead th {\n",
              "        text-align: right;\n",
              "    }\n",
              "</style>\n",
              "<table border=\"1\" class=\"dataframe\">\n",
              "  <thead>\n",
              "    <tr style=\"text-align: right;\">\n",
              "      <th></th>\n",
              "      <th>lang</th>\n",
              "      <th>name</th>\n",
              "      <th>categ</th>\n",
              "      <th>prod_desc</th>\n",
              "      <th>text_other</th>\n",
              "      <th>url</th>\n",
              "      <th>words_from_url</th>\n",
              "      <th>unit</th>\n",
              "      <th>cc3</th>\n",
              "      <th>cc4</th>\n",
              "      <th>cc5</th>\n",
              "      <th>cc3_pred</th>\n",
              "      <th>cc4_pred</th>\n",
              "      <th>cc5_pred</th>\n",
              "      <th>shop</th>\n",
              "      <th>brand</th>\n",
              "      <th>price</th>\n",
              "      <th>id</th>\n",
              "      <th>labeld_by</th>\n",
              "      <th>url_text</th>\n",
              "      <th>text</th>\n",
              "      <th>labeled_by</th>\n",
              "      <th>sort_columns</th>\n",
              "    </tr>\n",
              "  </thead>\n",
              "  <tbody>\n",
              "    <tr>\n",
              "      <th>0</th>\n",
              "      <td>fr</td>\n",
              "      <td>pomme chp bq 6 frt golden</td>\n",
              "      <td>unknown</td>\n",
              "      <td>NaN</td>\n",
              "      <td>NaN</td>\n",
              "      <td>unknown</td>\n",
              "      <td>NaN</td>\n",
              "      <td>NaN</td>\n",
              "      <td>NaN</td>\n",
              "      <td>NaN</td>\n",
              "      <td>NaN</td>\n",
              "      <td>11_Food</td>\n",
              "      <td>115_Oils and fats</td>\n",
              "      <td>1155_Other edible animal fats</td>\n",
              "      <td>ecb</td>\n",
              "      <td>NaN</td>\n",
              "      <td>NaN</td>\n",
              "      <td>1807326</td>\n",
              "      <td>NaN</td>\n",
              "      <td></td>\n",
              "      <td>pomme chp bq 6 frt goldenunknown</td>\n",
              "      <td>None</td>\n",
              "      <td>78</td>\n",
              "    </tr>\n",
              "  </tbody>\n",
              "</table>\n",
              "</div>"
            ],
            "text/plain": [
              "  lang                       name  ... labeled_by sort_columns\n",
              "0   fr  pomme chp bq 6 frt golden  ...       None           78\n",
              "\n",
              "[1 rows x 23 columns]"
            ]
          },
          "metadata": {
            "tags": []
          },
          "execution_count": 70
        }
      ]
    },
    {
      "cell_type": "markdown",
      "metadata": {
        "id": "5WGhgHO8EbTq",
        "colab_type": "text"
      },
      "source": [
        "## Save data to Local Drive"
      ]
    },
    {
      "cell_type": "code",
      "metadata": {
        "id": "KnQkARJggsWg",
        "colab_type": "code",
        "colab": {}
      },
      "source": [
        "from google.colab import files\n",
        "\n",
        "df.to_csv('df_out.csv',sep='|')\n",
        "files.download('df_out.csv')"
      ],
      "execution_count": 0,
      "outputs": []
    },
    {
      "cell_type": "markdown",
      "metadata": {
        "id": "mP34Q9mpNBl1",
        "colab_type": "text"
      },
      "source": [
        "## Save data to Google Drive"
      ]
    },
    {
      "cell_type": "code",
      "metadata": {
        "id": "5uVxlDBDTbUa",
        "colab_type": "code",
        "outputId": "bf8afeb9-15f1-4d0a-8106-33ff01fea8a8",
        "colab": {
          "base_uri": "https://localhost:8080/",
          "height": 33
        }
      },
      "source": [
        "df.to_csv(path+data_path+file_path,sep='|')\n",
        "print(file_path,'saved',len(df),'observation',sum(df.cc5.isna()==False),'labeled')"
      ],
      "execution_count": 0,
      "outputs": [
        {
          "output_type": "stream",
          "text": [
            "banque_de_france.csv saved 14910 observation 14910 labeled\n"
          ],
          "name": "stdout"
        }
      ]
    },
    {
      "cell_type": "code",
      "metadata": {
        "id": "sTstS8YdTyEi",
        "colab_type": "code",
        "colab": {}
      },
      "source": [
        ""
      ],
      "execution_count": 0,
      "outputs": []
    }
  ]
}