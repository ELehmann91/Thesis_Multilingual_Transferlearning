{
  "nbformat": 4,
  "nbformat_minor": 0,
  "metadata": {
    "colab": {
      "name": "Text_Annotation_Tool.ipynb",
      "provenance": [],
      "collapsed_sections": [
        "DIJ6I9wWjUyL",
        "mP34Q9mpNBl1"
      ],
      "toc_visible": true,
      "authorship_tag": "ABX9TyMNYuWeNFZtiXhpU4jWWgk2",
      "include_colab_link": true
    },
    "kernelspec": {
      "name": "python3",
      "display_name": "Python 3"
    },
    "widgets": {
      "application/vnd.jupyter.widget-state+json": {
        "c02a2e0a43fd4f1491beba755dbf7c9c": {
          "model_module": "@jupyter-widgets/controls",
          "model_name": "VBoxModel",
          "state": {
            "_view_name": "VBoxView",
            "_dom_classes": [],
            "_model_name": "VBoxModel",
            "_view_module": "@jupyter-widgets/controls",
            "_model_module_version": "1.5.0",
            "_view_count": null,
            "_view_module_version": "1.5.0",
            "box_style": "",
            "layout": "IPY_MODEL_9a1f1d7ce3ff4d52a90247ed91b01bb4",
            "_model_module": "@jupyter-widgets/controls",
            "children": [
              "IPY_MODEL_05a1b2400aef4c2b8fb0270404821d1a",
              "IPY_MODEL_b8eb76d6f0c14932a61ebe120fe931f7",
              "IPY_MODEL_f240479db89b4cd88c23e42dd46741e8",
              "IPY_MODEL_f0bb5cac500a4f2c8b35ea175c16a909",
              "IPY_MODEL_18f7444a0f3c4d25a0ef5aafb41cc272",
              "IPY_MODEL_f95772c5e2eb47daab6c77357700939d"
            ]
          }
        },
        "9a1f1d7ce3ff4d52a90247ed91b01bb4": {
          "model_module": "@jupyter-widgets/base",
          "model_name": "LayoutModel",
          "state": {
            "_view_name": "LayoutView",
            "grid_template_rows": null,
            "right": null,
            "justify_content": null,
            "_view_module": "@jupyter-widgets/base",
            "overflow": null,
            "_model_module_version": "1.2.0",
            "_view_count": null,
            "flex_flow": null,
            "width": null,
            "min_width": null,
            "border": null,
            "align_items": null,
            "bottom": null,
            "_model_module": "@jupyter-widgets/base",
            "top": null,
            "grid_column": null,
            "overflow_y": null,
            "overflow_x": null,
            "grid_auto_flow": null,
            "grid_area": null,
            "grid_template_columns": null,
            "flex": null,
            "_model_name": "LayoutModel",
            "justify_items": null,
            "grid_row": null,
            "max_height": null,
            "align_content": null,
            "visibility": null,
            "align_self": null,
            "height": null,
            "min_height": null,
            "padding": null,
            "grid_auto_rows": null,
            "grid_gap": null,
            "max_width": null,
            "order": null,
            "_view_module_version": "1.2.0",
            "grid_template_areas": null,
            "object_position": null,
            "object_fit": null,
            "grid_auto_columns": null,
            "margin": null,
            "display": null,
            "left": null
          }
        },
        "05a1b2400aef4c2b8fb0270404821d1a": {
          "model_module": "@jupyter-widgets/controls",
          "model_name": "BoxModel",
          "state": {
            "_view_name": "BoxView",
            "_dom_classes": [],
            "_model_name": "BoxModel",
            "_view_module": "@jupyter-widgets/controls",
            "_model_module_version": "1.5.0",
            "_view_count": null,
            "_view_module_version": "1.5.0",
            "box_style": "",
            "layout": "IPY_MODEL_36d6b31a74584a1f9bca57b6b2d749f9",
            "_model_module": "@jupyter-widgets/controls",
            "children": [
              "IPY_MODEL_4c1cf73546a843098fb6e0baf44960c3",
              "IPY_MODEL_68f696f6ed8040cd86c6759925620d28"
            ]
          }
        },
        "b8eb76d6f0c14932a61ebe120fe931f7": {
          "model_module": "@jupyter-widgets/controls",
          "model_name": "TextModel",
          "state": {
            "_view_name": "TextView",
            "style": "IPY_MODEL_ff2cda91122c4510a42ed09b543bcc39",
            "_dom_classes": [],
            "description": "Text 1:",
            "_model_name": "TextModel",
            "placeholder": "​",
            "_view_module": "@jupyter-widgets/controls",
            "_model_module_version": "1.5.0",
            "value": "Carrefour Carrés Gourmands Chocolat au Lait Amandes Caramélisées & Sel 200 g",
            "_view_count": null,
            "disabled": false,
            "_view_module_version": "1.5.0",
            "continuous_update": true,
            "description_tooltip": null,
            "_model_module": "@jupyter-widgets/controls",
            "layout": "IPY_MODEL_a82f46201db247079a3446c64087590a"
          }
        },
        "f240479db89b4cd88c23e42dd46741e8": {
          "model_module": "@jupyter-widgets/controls",
          "model_name": "TextModel",
          "state": {
            "_view_name": "TextView",
            "style": "IPY_MODEL_828dbaf3edbc44478431cc38cbb9e8ab",
            "_dom_classes": [],
            "description": "Text 2:",
            "_model_name": "TextModel",
            "placeholder": "​",
            "_view_module": "@jupyter-widgets/controls",
            "_model_module_version": "1.5.0",
            "value": "Drive Acheter par intérêt Notre marque propre",
            "_view_count": null,
            "disabled": false,
            "_view_module_version": "1.5.0",
            "continuous_update": true,
            "description_tooltip": null,
            "_model_module": "@jupyter-widgets/controls",
            "layout": "IPY_MODEL_7d8663dcf1a445618f28e64d916cf2a8"
          }
        },
        "f0bb5cac500a4f2c8b35ea175c16a909": {
          "model_module": "@jupyter-widgets/controls",
          "model_name": "TextModel",
          "state": {
            "_view_name": "TextView",
            "style": "IPY_MODEL_c57e66bf2e3f4e92b3d408fa8e48707c",
            "_dom_classes": [],
            "description": "Url:",
            "_model_name": "TextModel",
            "placeholder": "​",
            "_view_module": "@jupyter-widgets/controls",
            "_model_module_version": "1.5.0",
            "value": "https://drive.carrefour.eu/fr/Acheter-par-int%C3%A9r%C3%AAt/Notre-marque-propre/Carrefour-Carr%C3%A9s-Gourmands-Chocolat-au-Lait-Amandes-Caram%C3%A9lis%C3%A9es-%26-Sel-200-g/p/05488085",
            "_view_count": null,
            "disabled": false,
            "_view_module_version": "1.5.0",
            "continuous_update": true,
            "description_tooltip": null,
            "_model_module": "@jupyter-widgets/controls",
            "layout": "IPY_MODEL_712bd19c24724586891ce2b4e28d2bdc"
          }
        },
        "18f7444a0f3c4d25a0ef5aafb41cc272": {
          "model_module": "@jupyter-widgets/controls",
          "model_name": "BoxModel",
          "state": {
            "_view_name": "BoxView",
            "_dom_classes": [],
            "_model_name": "BoxModel",
            "_view_module": "@jupyter-widgets/controls",
            "_model_module_version": "1.5.0",
            "_view_count": null,
            "_view_module_version": "1.5.0",
            "box_style": "",
            "layout": "IPY_MODEL_78241dca141348ff8c9237782e2754a0",
            "_model_module": "@jupyter-widgets/controls",
            "children": [
              "IPY_MODEL_db08e1c0314a414aaf24e5fe8fa90b7d",
              "IPY_MODEL_f9deb7ffdcaa45d4a0d2399b3001639b"
            ]
          }
        },
        "f95772c5e2eb47daab6c77357700939d": {
          "model_module": "@jupyter-widgets/controls",
          "model_name": "BoxModel",
          "state": {
            "_view_name": "BoxView",
            "_dom_classes": [],
            "_model_name": "BoxModel",
            "_view_module": "@jupyter-widgets/controls",
            "_model_module_version": "1.5.0",
            "_view_count": null,
            "_view_module_version": "1.5.0",
            "box_style": "",
            "layout": "IPY_MODEL_5d2eebe961b94e0186bdec28517c0d63",
            "_model_module": "@jupyter-widgets/controls",
            "children": [
              "IPY_MODEL_3e5e867216b9474e90095a1bc7cc23a4",
              "IPY_MODEL_caf0a2a727294e29b80eeaf4f5314e04",
              "IPY_MODEL_dd9de752287648b38f38556182dc3fde",
              "IPY_MODEL_778a5dc785eb41db87f3229da2b693bc"
            ]
          }
        },
        "36d6b31a74584a1f9bca57b6b2d749f9": {
          "model_module": "@jupyter-widgets/base",
          "model_name": "LayoutModel",
          "state": {
            "_view_name": "LayoutView",
            "grid_template_rows": null,
            "right": null,
            "justify_content": null,
            "_view_module": "@jupyter-widgets/base",
            "overflow": null,
            "_model_module_version": "1.2.0",
            "_view_count": null,
            "flex_flow": "column",
            "width": "80%",
            "min_width": null,
            "border": null,
            "align_items": "stretch",
            "bottom": null,
            "_model_module": "@jupyter-widgets/base",
            "top": null,
            "grid_column": null,
            "overflow_y": null,
            "overflow_x": null,
            "grid_auto_flow": null,
            "grid_area": null,
            "grid_template_columns": null,
            "flex": null,
            "_model_name": "LayoutModel",
            "justify_items": null,
            "grid_row": null,
            "max_height": null,
            "align_content": "center",
            "visibility": null,
            "align_self": null,
            "height": null,
            "min_height": null,
            "padding": null,
            "grid_auto_rows": null,
            "grid_gap": null,
            "max_width": null,
            "order": null,
            "_view_module_version": "1.2.0",
            "grid_template_areas": null,
            "object_position": null,
            "object_fit": null,
            "grid_auto_columns": null,
            "margin": null,
            "display": "flex",
            "left": null
          }
        },
        "4c1cf73546a843098fb6e0baf44960c3": {
          "model_module": "@jupyter-widgets/controls",
          "model_name": "DropdownModel",
          "state": {
            "_options_labels": [
              "1155_Other edible animal fats",
              "2201_Cigarettes",
              "2202_Cigars",
              "2203_Other tobacco products",
              "9999_Non-Food",
              "1222_Soft drinks",
              "1184_Confectionery products",
              "1114_Other bakery products",
              "1183_Chocolate",
              "1194_Ready-made meals",
              "1223_Fruit and vegetable juices",
              "1185_Edible ices and ice cream",
              "2121_Wine from grapes",
              "1191_Sauces, condiments",
              "1212_Tea",
              "1117_Breakfast cereals",
              "1121_Beef and veal",
              "1182_Jams, marmalades and honey",
              "1199_Other food products n.e.c.",
              "1163_Dried fruit and nuts",
              "1173_Dried vegetables, other preserved or processed vegetables",
              "1127_Dried, salted or smoked meat",
              "1211_Coffee",
              "2132_Other alcoholic beer",
              "2111_Spirits and liqueurs",
              "1136_Other preserved or processed fish and seafood-based preparations",
              "1115_Pizza and quiche",
              "1221_Mineral or spring waters",
              "1145_Cheese and curd",
              "2131_Lager beer",
              "1133_Fresh or chilled seafood",
              "1193_Baby food",
              "1192_Salt, spices and culinary herbs",
              "1161_Fresh or chilled fruit",
              "1174_Potatoes",
              "1116_Pasta products and couscous",
              "1152_Margarine and other vegetable fats",
              "1164_Preserved fruit and fruit-based products",
              "1146_Other milk products",
              "1122_Pork",
              "1111_Rice",
              "1171_Fresh or chilled vegetables other than potatoes and other tubers",
              "1151_Butter",
              "1154_Other edible oils",
              "1113_Bread",
              "1144_Yoghurt",
              "1172_Frozen vegetables other than potatoes and other tubers",
              "1175_Crisps",
              "1142_Fresh low fat milk",
              "1135_Dried, smoked or salted fish and seafood",
              "1124_Poultry",
              "1186_Artificial sugar substitutes",
              "1112_Flours and other cereals",
              "1128_Other meat preparations",
              "1118_Other cereal products",
              "1123_Lamb and goat",
              "2134_Beer-based drinks",
              "1213_Cocoa and powdered chocolate",
              "1131_Fresh or chilled fish",
              "1181_Sugar",
              "2112_Alcoholic soft drinks",
              "1132_Frozen fish",
              "1134_Frozen seafood",
              "1141_Fresh whole milk",
              "2122_Wine from other fruits",
              "2133_Low and non-alcoholic beer",
              "2124_Wine-based drinks",
              "1126_Edible offal",
              "1153_Olive oil",
              "1125_Other meats",
              "1176_Other tubers and products of tuber vegetables",
              "1162_Frozen fruit",
              "2123_Fortified wines",
              "1147_Eggs",
              "1143_Preserved milk"
            ],
            "_view_name": "DropdownView",
            "style": "IPY_MODEL_c819927a23a24c5abfd12ae5782d1d10",
            "_dom_classes": [],
            "description": "Select category to label:",
            "_model_name": "DropdownModel",
            "index": 8,
            "_view_module": "@jupyter-widgets/controls",
            "_model_module_version": "1.5.0",
            "_view_count": null,
            "disabled": false,
            "_view_module_version": "1.5.0",
            "description_tooltip": null,
            "_model_module": "@jupyter-widgets/controls",
            "layout": "IPY_MODEL_62180474cc914127a55e6cb9255dc281"
          }
        },
        "68f696f6ed8040cd86c6759925620d28": {
          "model_module": "@jupyter-widgets/output",
          "model_name": "OutputModel",
          "state": {
            "_view_name": "OutputView",
            "msg_id": "",
            "_dom_classes": [],
            "_model_name": "OutputModel",
            "outputs": [],
            "_view_module": "@jupyter-widgets/output",
            "_model_module_version": "1.0.0",
            "_view_count": null,
            "_view_module_version": "1.0.0",
            "layout": "IPY_MODEL_dac87ff8b70f4797ba3c03f6b7c8ef33",
            "_model_module": "@jupyter-widgets/output"
          }
        },
        "ff2cda91122c4510a42ed09b543bcc39": {
          "model_module": "@jupyter-widgets/controls",
          "model_name": "DescriptionStyleModel",
          "state": {
            "_view_name": "StyleView",
            "_model_name": "DescriptionStyleModel",
            "description_width": "",
            "_view_module": "@jupyter-widgets/base",
            "_model_module_version": "1.5.0",
            "_view_count": null,
            "_view_module_version": "1.2.0",
            "_model_module": "@jupyter-widgets/controls"
          }
        },
        "a82f46201db247079a3446c64087590a": {
          "model_module": "@jupyter-widgets/base",
          "model_name": "LayoutModel",
          "state": {
            "_view_name": "LayoutView",
            "grid_template_rows": null,
            "right": null,
            "justify_content": null,
            "_view_module": "@jupyter-widgets/base",
            "overflow": null,
            "_model_module_version": "1.2.0",
            "_view_count": null,
            "flex_flow": null,
            "width": "80%",
            "min_width": null,
            "border": null,
            "align_items": null,
            "bottom": null,
            "_model_module": "@jupyter-widgets/base",
            "top": null,
            "grid_column": null,
            "overflow_y": null,
            "overflow_x": null,
            "grid_auto_flow": null,
            "grid_area": null,
            "grid_template_columns": null,
            "flex": null,
            "_model_name": "LayoutModel",
            "justify_items": null,
            "grid_row": null,
            "max_height": null,
            "align_content": null,
            "visibility": null,
            "align_self": null,
            "height": "40px",
            "min_height": null,
            "padding": null,
            "grid_auto_rows": null,
            "grid_gap": null,
            "max_width": null,
            "order": null,
            "_view_module_version": "1.2.0",
            "grid_template_areas": null,
            "object_position": null,
            "object_fit": null,
            "grid_auto_columns": null,
            "margin": null,
            "display": null,
            "left": null
          }
        },
        "828dbaf3edbc44478431cc38cbb9e8ab": {
          "model_module": "@jupyter-widgets/controls",
          "model_name": "DescriptionStyleModel",
          "state": {
            "_view_name": "StyleView",
            "_model_name": "DescriptionStyleModel",
            "description_width": "",
            "_view_module": "@jupyter-widgets/base",
            "_model_module_version": "1.5.0",
            "_view_count": null,
            "_view_module_version": "1.2.0",
            "_model_module": "@jupyter-widgets/controls"
          }
        },
        "7d8663dcf1a445618f28e64d916cf2a8": {
          "model_module": "@jupyter-widgets/base",
          "model_name": "LayoutModel",
          "state": {
            "_view_name": "LayoutView",
            "grid_template_rows": null,
            "right": null,
            "justify_content": null,
            "_view_module": "@jupyter-widgets/base",
            "overflow": null,
            "_model_module_version": "1.2.0",
            "_view_count": null,
            "flex_flow": null,
            "width": "80%",
            "min_width": null,
            "border": null,
            "align_items": null,
            "bottom": null,
            "_model_module": "@jupyter-widgets/base",
            "top": null,
            "grid_column": null,
            "overflow_y": null,
            "overflow_x": null,
            "grid_auto_flow": null,
            "grid_area": null,
            "grid_template_columns": null,
            "flex": null,
            "_model_name": "LayoutModel",
            "justify_items": null,
            "grid_row": null,
            "max_height": null,
            "align_content": null,
            "visibility": null,
            "align_self": null,
            "height": "40px",
            "min_height": null,
            "padding": null,
            "grid_auto_rows": null,
            "grid_gap": null,
            "max_width": null,
            "order": null,
            "_view_module_version": "1.2.0",
            "grid_template_areas": null,
            "object_position": null,
            "object_fit": null,
            "grid_auto_columns": null,
            "margin": null,
            "display": null,
            "left": null
          }
        },
        "c57e66bf2e3f4e92b3d408fa8e48707c": {
          "model_module": "@jupyter-widgets/controls",
          "model_name": "DescriptionStyleModel",
          "state": {
            "_view_name": "StyleView",
            "_model_name": "DescriptionStyleModel",
            "description_width": "",
            "_view_module": "@jupyter-widgets/base",
            "_model_module_version": "1.5.0",
            "_view_count": null,
            "_view_module_version": "1.2.0",
            "_model_module": "@jupyter-widgets/controls"
          }
        },
        "712bd19c24724586891ce2b4e28d2bdc": {
          "model_module": "@jupyter-widgets/base",
          "model_name": "LayoutModel",
          "state": {
            "_view_name": "LayoutView",
            "grid_template_rows": null,
            "right": null,
            "justify_content": null,
            "_view_module": "@jupyter-widgets/base",
            "overflow": null,
            "_model_module_version": "1.2.0",
            "_view_count": null,
            "flex_flow": null,
            "width": "80%",
            "min_width": null,
            "border": null,
            "align_items": null,
            "bottom": null,
            "_model_module": "@jupyter-widgets/base",
            "top": null,
            "grid_column": null,
            "overflow_y": null,
            "overflow_x": null,
            "grid_auto_flow": null,
            "grid_area": null,
            "grid_template_columns": null,
            "flex": null,
            "_model_name": "LayoutModel",
            "justify_items": null,
            "grid_row": null,
            "max_height": null,
            "align_content": null,
            "visibility": null,
            "align_self": null,
            "height": "40px",
            "min_height": null,
            "padding": null,
            "grid_auto_rows": null,
            "grid_gap": null,
            "max_width": null,
            "order": null,
            "_view_module_version": "1.2.0",
            "grid_template_areas": null,
            "object_position": null,
            "object_fit": null,
            "grid_auto_columns": null,
            "margin": null,
            "display": null,
            "left": null
          }
        },
        "78241dca141348ff8c9237782e2754a0": {
          "model_module": "@jupyter-widgets/base",
          "model_name": "LayoutModel",
          "state": {
            "_view_name": "LayoutView",
            "grid_template_rows": null,
            "right": null,
            "justify_content": null,
            "_view_module": "@jupyter-widgets/base",
            "overflow": null,
            "_model_module_version": "1.2.0",
            "_view_count": null,
            "flex_flow": "column",
            "width": "80%",
            "min_width": null,
            "border": null,
            "align_items": "stretch",
            "bottom": null,
            "_model_module": "@jupyter-widgets/base",
            "top": null,
            "grid_column": null,
            "overflow_y": null,
            "overflow_x": null,
            "grid_auto_flow": null,
            "grid_area": null,
            "grid_template_columns": null,
            "flex": null,
            "_model_name": "LayoutModel",
            "justify_items": null,
            "grid_row": null,
            "max_height": null,
            "align_content": "center",
            "visibility": null,
            "align_self": null,
            "height": null,
            "min_height": null,
            "padding": null,
            "grid_auto_rows": null,
            "grid_gap": null,
            "max_width": null,
            "order": null,
            "_view_module_version": "1.2.0",
            "grid_template_areas": null,
            "object_position": null,
            "object_fit": null,
            "grid_auto_columns": null,
            "margin": null,
            "display": "flex",
            "left": null
          }
        },
        "db08e1c0314a414aaf24e5fe8fa90b7d": {
          "model_module": "@jupyter-widgets/controls",
          "model_name": "DropdownModel",
          "state": {
            "_options_labels": [
              "1111_Rice",
              "1112_Flours and other cereals",
              "1113_Bread",
              "1114_Other bakery products",
              "1115_Pizza and quiche",
              "1116_Pasta products and couscous",
              "1117_Breakfast cereals",
              "1118_Other cereal products",
              "1121_Beef and veal",
              "1122_Pork",
              "1123_Lamb and goat",
              "1124_Poultry",
              "1125_Other meats",
              "1126_Edible offal",
              "1127_Dried, salted or smoked meat",
              "1128_Other meat preparations",
              "1131_Fresh or chilled fish",
              "1132_Frozen fish",
              "1133_Fresh or chilled seafood",
              "1134_Frozen seafood",
              "1135_Dried, smoked or salted fish and seafood",
              "1136_Other preserved or processed fish and seafood-based preparations",
              "1141_Fresh whole milk",
              "1142_Fresh low fat milk",
              "1143_Preserved milk",
              "1144_Yoghurt",
              "1145_Cheese and curd",
              "1146_Other milk products",
              "1147_Eggs",
              "1151_Butter",
              "1152_Margarine and other vegetable fats",
              "1153_Olive oil",
              "1154_Other edible oils",
              "1155_Other edible animal fats",
              "1161_Fresh or chilled fruit",
              "1162_Frozen fruit",
              "1163_Dried fruit and nuts",
              "1164_Preserved fruit and fruit-based products",
              "1171_Fresh or chilled vegetables other than potatoes and other tubers",
              "1172_Frozen vegetables other than potatoes and other tubers",
              "1173_Dried vegetables, other preserved or processed vegetables",
              "1174_Potatoes",
              "1175_Crisps",
              "1176_Other tubers and products of tuber vegetables",
              "1181_Sugar",
              "1182_Jams, marmalades and honey",
              "1183_Chocolate",
              "1184_Confectionery products",
              "1185_Edible ices and ice cream",
              "1186_Artificial sugar substitutes",
              "1191_Sauces, condiments",
              "1192_Salt, spices and culinary herbs",
              "1193_Baby food",
              "1194_Ready-made meals",
              "1199_Other food products n.e.c.",
              "1211_Coffee",
              "1212_Tea",
              "1213_Cocoa and powdered chocolate",
              "1221_Mineral or spring waters",
              "1222_Soft drinks",
              "1223_Fruit and vegetable juices",
              "2111_Spirits and liqueurs",
              "2112_Alcoholic soft drinks",
              "2121_Wine from grapes",
              "2122_Wine from other fruits",
              "2123_Fortified wines",
              "2124_Wine-based drinks",
              "2131_Lager beer",
              "2132_Other alcoholic beer",
              "2133_Low and non-alcoholic beer",
              "2134_Beer-based drinks",
              "2201_Cigarettes",
              "2202_Cigars",
              "2203_Other tobacco products",
              "9999_Non-Food"
            ],
            "_view_name": "DropdownView",
            "style": "IPY_MODEL_e697e8f8252b4e6d862184f46d213cfd",
            "_dom_classes": [],
            "description": "COICOP 5:",
            "_model_name": "DropdownModel",
            "index": 46,
            "_view_module": "@jupyter-widgets/controls",
            "_model_module_version": "1.5.0",
            "_view_count": null,
            "disabled": false,
            "_view_module_version": "1.5.0",
            "description_tooltip": null,
            "_model_module": "@jupyter-widgets/controls",
            "layout": "IPY_MODEL_bd3320ea801d44bd97e3e320ea1d8110"
          }
        },
        "f9deb7ffdcaa45d4a0d2399b3001639b": {
          "model_module": "@jupyter-widgets/output",
          "model_name": "OutputModel",
          "state": {
            "_view_name": "OutputView",
            "msg_id": "",
            "_dom_classes": [],
            "_model_name": "OutputModel",
            "outputs": [],
            "_view_module": "@jupyter-widgets/output",
            "_model_module_version": "1.0.0",
            "_view_count": null,
            "_view_module_version": "1.0.0",
            "layout": "IPY_MODEL_f0e694f2f53840bb9a0480209493ef2b",
            "_model_module": "@jupyter-widgets/output"
          }
        },
        "5d2eebe961b94e0186bdec28517c0d63": {
          "model_module": "@jupyter-widgets/base",
          "model_name": "LayoutModel",
          "state": {
            "_view_name": "LayoutView",
            "grid_template_rows": null,
            "right": null,
            "justify_content": null,
            "_view_module": "@jupyter-widgets/base",
            "overflow": null,
            "_model_module_version": "1.2.0",
            "_view_count": null,
            "flex_flow": "row",
            "width": "80%",
            "min_width": null,
            "border": null,
            "align_items": "stretch",
            "bottom": null,
            "_model_module": "@jupyter-widgets/base",
            "top": null,
            "grid_column": null,
            "overflow_y": null,
            "overflow_x": null,
            "grid_auto_flow": null,
            "grid_area": null,
            "grid_template_columns": null,
            "flex": null,
            "_model_name": "LayoutModel",
            "justify_items": null,
            "grid_row": null,
            "max_height": null,
            "align_content": "center",
            "visibility": null,
            "align_self": null,
            "height": null,
            "min_height": null,
            "padding": null,
            "grid_auto_rows": null,
            "grid_gap": null,
            "max_width": null,
            "order": null,
            "_view_module_version": "1.2.0",
            "grid_template_areas": null,
            "object_position": null,
            "object_fit": null,
            "grid_auto_columns": null,
            "margin": null,
            "display": "flex",
            "left": null
          }
        },
        "3e5e867216b9474e90095a1bc7cc23a4": {
          "model_module": "@jupyter-widgets/controls",
          "model_name": "ButtonModel",
          "state": {
            "_view_name": "ButtonView",
            "style": "IPY_MODEL_3a8fafba342b4790b782325624443684",
            "_dom_classes": [],
            "description": "Next",
            "_model_name": "ButtonModel",
            "button_style": "",
            "_view_module": "@jupyter-widgets/controls",
            "_model_module_version": "1.5.0",
            "tooltip": "",
            "_view_count": null,
            "disabled": false,
            "_view_module_version": "1.5.0",
            "layout": "IPY_MODEL_2c32790424b54b57ba283fa6ec5a4c02",
            "_model_module": "@jupyter-widgets/controls",
            "icon": ""
          }
        },
        "caf0a2a727294e29b80eeaf4f5314e04": {
          "model_module": "@jupyter-widgets/output",
          "model_name": "OutputModel",
          "state": {
            "_view_name": "OutputView",
            "msg_id": "",
            "_dom_classes": [],
            "_model_name": "OutputModel",
            "outputs": [],
            "_view_module": "@jupyter-widgets/output",
            "_model_module_version": "1.0.0",
            "_view_count": null,
            "_view_module_version": "1.0.0",
            "layout": "IPY_MODEL_436b2f023df34ba6876df5aeb2ce00da",
            "_model_module": "@jupyter-widgets/output"
          }
        },
        "dd9de752287648b38f38556182dc3fde": {
          "model_module": "@jupyter-widgets/controls",
          "model_name": "ButtonModel",
          "state": {
            "_view_name": "ButtonView",
            "style": "IPY_MODEL_7a6c50124a974d07be436c5fd3ff03f4",
            "_dom_classes": [],
            "description": "Save",
            "_model_name": "ButtonModel",
            "button_style": "",
            "_view_module": "@jupyter-widgets/controls",
            "_model_module_version": "1.5.0",
            "tooltip": "",
            "_view_count": null,
            "disabled": false,
            "_view_module_version": "1.5.0",
            "layout": "IPY_MODEL_06a56a3f0d3848c6b870cf65fe4120e8",
            "_model_module": "@jupyter-widgets/controls",
            "icon": ""
          }
        },
        "778a5dc785eb41db87f3229da2b693bc": {
          "model_module": "@jupyter-widgets/output",
          "model_name": "OutputModel",
          "state": {
            "_view_name": "OutputView",
            "msg_id": "",
            "_dom_classes": [],
            "_model_name": "OutputModel",
            "outputs": [],
            "_view_module": "@jupyter-widgets/output",
            "_model_module_version": "1.0.0",
            "_view_count": null,
            "_view_module_version": "1.0.0",
            "layout": "IPY_MODEL_fac28c5d68cb4fe0938ea7d151e232a5",
            "_model_module": "@jupyter-widgets/output"
          }
        },
        "c819927a23a24c5abfd12ae5782d1d10": {
          "model_module": "@jupyter-widgets/controls",
          "model_name": "DescriptionStyleModel",
          "state": {
            "_view_name": "StyleView",
            "_model_name": "DescriptionStyleModel",
            "description_width": "",
            "_view_module": "@jupyter-widgets/base",
            "_model_module_version": "1.5.0",
            "_view_count": null,
            "_view_module_version": "1.2.0",
            "_model_module": "@jupyter-widgets/controls"
          }
        },
        "62180474cc914127a55e6cb9255dc281": {
          "model_module": "@jupyter-widgets/base",
          "model_name": "LayoutModel",
          "state": {
            "_view_name": "LayoutView",
            "grid_template_rows": null,
            "right": null,
            "justify_content": null,
            "_view_module": "@jupyter-widgets/base",
            "overflow": null,
            "_model_module_version": "1.2.0",
            "_view_count": null,
            "flex_flow": null,
            "width": "50%",
            "min_width": null,
            "border": null,
            "align_items": null,
            "bottom": null,
            "_model_module": "@jupyter-widgets/base",
            "top": null,
            "grid_column": null,
            "overflow_y": null,
            "overflow_x": null,
            "grid_auto_flow": null,
            "grid_area": null,
            "grid_template_columns": null,
            "flex": null,
            "_model_name": "LayoutModel",
            "justify_items": null,
            "grid_row": null,
            "max_height": null,
            "align_content": null,
            "visibility": null,
            "align_self": null,
            "height": "60px",
            "min_height": null,
            "padding": null,
            "grid_auto_rows": null,
            "grid_gap": null,
            "max_width": null,
            "order": null,
            "_view_module_version": "1.2.0",
            "grid_template_areas": null,
            "object_position": null,
            "object_fit": null,
            "grid_auto_columns": null,
            "margin": null,
            "display": null,
            "left": null
          }
        },
        "e697e8f8252b4e6d862184f46d213cfd": {
          "model_module": "@jupyter-widgets/controls",
          "model_name": "DescriptionStyleModel",
          "state": {
            "_view_name": "StyleView",
            "_model_name": "DescriptionStyleModel",
            "description_width": "",
            "_view_module": "@jupyter-widgets/base",
            "_model_module_version": "1.5.0",
            "_view_count": null,
            "_view_module_version": "1.2.0",
            "_model_module": "@jupyter-widgets/controls"
          }
        },
        "bd3320ea801d44bd97e3e320ea1d8110": {
          "model_module": "@jupyter-widgets/base",
          "model_name": "LayoutModel",
          "state": {
            "_view_name": "LayoutView",
            "grid_template_rows": null,
            "right": null,
            "justify_content": null,
            "_view_module": "@jupyter-widgets/base",
            "overflow": null,
            "_model_module_version": "1.2.0",
            "_view_count": null,
            "flex_flow": null,
            "width": "80%",
            "min_width": null,
            "border": null,
            "align_items": null,
            "bottom": null,
            "_model_module": "@jupyter-widgets/base",
            "top": null,
            "grid_column": null,
            "overflow_y": null,
            "overflow_x": null,
            "grid_auto_flow": null,
            "grid_area": null,
            "grid_template_columns": null,
            "flex": null,
            "_model_name": "LayoutModel",
            "justify_items": null,
            "grid_row": null,
            "max_height": null,
            "align_content": null,
            "visibility": null,
            "align_self": null,
            "height": "40px",
            "min_height": null,
            "padding": null,
            "grid_auto_rows": null,
            "grid_gap": null,
            "max_width": null,
            "order": null,
            "_view_module_version": "1.2.0",
            "grid_template_areas": null,
            "object_position": null,
            "object_fit": null,
            "grid_auto_columns": null,
            "margin": null,
            "display": null,
            "left": null
          }
        },
        "3a8fafba342b4790b782325624443684": {
          "model_module": "@jupyter-widgets/controls",
          "model_name": "ButtonStyleModel",
          "state": {
            "_view_name": "StyleView",
            "_model_name": "ButtonStyleModel",
            "_view_module": "@jupyter-widgets/base",
            "_model_module_version": "1.5.0",
            "_view_count": null,
            "button_color": null,
            "font_weight": "",
            "_view_module_version": "1.2.0",
            "_model_module": "@jupyter-widgets/controls"
          }
        },
        "2c32790424b54b57ba283fa6ec5a4c02": {
          "model_module": "@jupyter-widgets/base",
          "model_name": "LayoutModel",
          "state": {
            "_view_name": "LayoutView",
            "grid_template_rows": null,
            "right": null,
            "justify_content": null,
            "_view_module": "@jupyter-widgets/base",
            "overflow": null,
            "_model_module_version": "1.2.0",
            "_view_count": null,
            "flex_flow": null,
            "width": null,
            "min_width": null,
            "border": null,
            "align_items": null,
            "bottom": null,
            "_model_module": "@jupyter-widgets/base",
            "top": null,
            "grid_column": null,
            "overflow_y": null,
            "overflow_x": null,
            "grid_auto_flow": null,
            "grid_area": null,
            "grid_template_columns": null,
            "flex": null,
            "_model_name": "LayoutModel",
            "justify_items": null,
            "grid_row": null,
            "max_height": null,
            "align_content": null,
            "visibility": null,
            "align_self": null,
            "height": null,
            "min_height": null,
            "padding": null,
            "grid_auto_rows": null,
            "grid_gap": null,
            "max_width": null,
            "order": null,
            "_view_module_version": "1.2.0",
            "grid_template_areas": null,
            "object_position": null,
            "object_fit": null,
            "grid_auto_columns": null,
            "margin": null,
            "display": null,
            "left": null
          }
        },
        "7a6c50124a974d07be436c5fd3ff03f4": {
          "model_module": "@jupyter-widgets/controls",
          "model_name": "ButtonStyleModel",
          "state": {
            "_view_name": "StyleView",
            "_model_name": "ButtonStyleModel",
            "_view_module": "@jupyter-widgets/base",
            "_model_module_version": "1.5.0",
            "_view_count": null,
            "button_color": null,
            "font_weight": "",
            "_view_module_version": "1.2.0",
            "_model_module": "@jupyter-widgets/controls"
          }
        },
        "06a56a3f0d3848c6b870cf65fe4120e8": {
          "model_module": "@jupyter-widgets/base",
          "model_name": "LayoutModel",
          "state": {
            "_view_name": "LayoutView",
            "grid_template_rows": null,
            "right": null,
            "justify_content": null,
            "_view_module": "@jupyter-widgets/base",
            "overflow": null,
            "_model_module_version": "1.2.0",
            "_view_count": null,
            "flex_flow": null,
            "width": null,
            "min_width": null,
            "border": null,
            "align_items": null,
            "bottom": null,
            "_model_module": "@jupyter-widgets/base",
            "top": null,
            "grid_column": null,
            "overflow_y": null,
            "overflow_x": null,
            "grid_auto_flow": null,
            "grid_area": null,
            "grid_template_columns": null,
            "flex": null,
            "_model_name": "LayoutModel",
            "justify_items": null,
            "grid_row": null,
            "max_height": null,
            "align_content": null,
            "visibility": null,
            "align_self": null,
            "height": null,
            "min_height": null,
            "padding": null,
            "grid_auto_rows": null,
            "grid_gap": null,
            "max_width": null,
            "order": null,
            "_view_module_version": "1.2.0",
            "grid_template_areas": null,
            "object_position": null,
            "object_fit": null,
            "grid_auto_columns": null,
            "margin": null,
            "display": null,
            "left": null
          }
        },
        "dac87ff8b70f4797ba3c03f6b7c8ef33": {
          "model_module": "@jupyter-widgets/base",
          "model_name": "LayoutModel",
          "state": {
            "_view_name": "LayoutView",
            "grid_template_rows": null,
            "right": null,
            "justify_content": null,
            "_view_module": "@jupyter-widgets/base",
            "overflow": null,
            "_model_module_version": "1.2.0",
            "_view_count": null,
            "flex_flow": null,
            "width": null,
            "min_width": null,
            "border": null,
            "align_items": null,
            "bottom": null,
            "_model_module": "@jupyter-widgets/base",
            "top": null,
            "grid_column": null,
            "overflow_y": null,
            "overflow_x": null,
            "grid_auto_flow": null,
            "grid_area": null,
            "grid_template_columns": null,
            "flex": null,
            "_model_name": "LayoutModel",
            "justify_items": null,
            "grid_row": null,
            "max_height": null,
            "align_content": null,
            "visibility": null,
            "align_self": null,
            "height": null,
            "min_height": null,
            "padding": null,
            "grid_auto_rows": null,
            "grid_gap": null,
            "max_width": null,
            "order": null,
            "_view_module_version": "1.2.0",
            "grid_template_areas": null,
            "object_position": null,
            "object_fit": null,
            "grid_auto_columns": null,
            "margin": null,
            "display": null,
            "left": null
          }
        },
        "f0e694f2f53840bb9a0480209493ef2b": {
          "model_module": "@jupyter-widgets/base",
          "model_name": "LayoutModel",
          "state": {
            "_view_name": "LayoutView",
            "grid_template_rows": null,
            "right": null,
            "justify_content": null,
            "_view_module": "@jupyter-widgets/base",
            "overflow": null,
            "_model_module_version": "1.2.0",
            "_view_count": null,
            "flex_flow": null,
            "width": null,
            "min_width": null,
            "border": null,
            "align_items": null,
            "bottom": null,
            "_model_module": "@jupyter-widgets/base",
            "top": null,
            "grid_column": null,
            "overflow_y": null,
            "overflow_x": null,
            "grid_auto_flow": null,
            "grid_area": null,
            "grid_template_columns": null,
            "flex": null,
            "_model_name": "LayoutModel",
            "justify_items": null,
            "grid_row": null,
            "max_height": null,
            "align_content": null,
            "visibility": null,
            "align_self": null,
            "height": null,
            "min_height": null,
            "padding": null,
            "grid_auto_rows": null,
            "grid_gap": null,
            "max_width": null,
            "order": null,
            "_view_module_version": "1.2.0",
            "grid_template_areas": null,
            "object_position": null,
            "object_fit": null,
            "grid_auto_columns": null,
            "margin": null,
            "display": null,
            "left": null
          }
        },
        "436b2f023df34ba6876df5aeb2ce00da": {
          "model_module": "@jupyter-widgets/base",
          "model_name": "LayoutModel",
          "state": {
            "_view_name": "LayoutView",
            "grid_template_rows": null,
            "right": null,
            "justify_content": null,
            "_view_module": "@jupyter-widgets/base",
            "overflow": null,
            "_model_module_version": "1.2.0",
            "_view_count": null,
            "flex_flow": null,
            "width": null,
            "min_width": null,
            "border": null,
            "align_items": null,
            "bottom": null,
            "_model_module": "@jupyter-widgets/base",
            "top": null,
            "grid_column": null,
            "overflow_y": null,
            "overflow_x": null,
            "grid_auto_flow": null,
            "grid_area": null,
            "grid_template_columns": null,
            "flex": null,
            "_model_name": "LayoutModel",
            "justify_items": null,
            "grid_row": null,
            "max_height": null,
            "align_content": null,
            "visibility": null,
            "align_self": null,
            "height": null,
            "min_height": null,
            "padding": null,
            "grid_auto_rows": null,
            "grid_gap": null,
            "max_width": null,
            "order": null,
            "_view_module_version": "1.2.0",
            "grid_template_areas": null,
            "object_position": null,
            "object_fit": null,
            "grid_auto_columns": null,
            "margin": null,
            "display": null,
            "left": null
          }
        },
        "fac28c5d68cb4fe0938ea7d151e232a5": {
          "model_module": "@jupyter-widgets/base",
          "model_name": "LayoutModel",
          "state": {
            "_view_name": "LayoutView",
            "grid_template_rows": null,
            "right": null,
            "justify_content": null,
            "_view_module": "@jupyter-widgets/base",
            "overflow": null,
            "_model_module_version": "1.2.0",
            "_view_count": null,
            "flex_flow": null,
            "width": null,
            "min_width": null,
            "border": null,
            "align_items": null,
            "bottom": null,
            "_model_module": "@jupyter-widgets/base",
            "top": null,
            "grid_column": null,
            "overflow_y": null,
            "overflow_x": null,
            "grid_auto_flow": null,
            "grid_area": null,
            "grid_template_columns": null,
            "flex": null,
            "_model_name": "LayoutModel",
            "justify_items": null,
            "grid_row": null,
            "max_height": null,
            "align_content": null,
            "visibility": null,
            "align_self": null,
            "height": null,
            "min_height": null,
            "padding": null,
            "grid_auto_rows": null,
            "grid_gap": null,
            "max_width": null,
            "order": null,
            "_view_module_version": "1.2.0",
            "grid_template_areas": null,
            "object_position": null,
            "object_fit": null,
            "grid_auto_columns": null,
            "margin": null,
            "display": null,
            "left": null
          }
        }
      }
    }
  },
  "cells": [
    {
      "cell_type": "markdown",
      "metadata": {
        "id": "view-in-github",
        "colab_type": "text"
      },
      "source": [
        "<a href=\"https://colab.research.google.com/github/ELehmann91/Thesis_Multilingual_Transferlearning/blob/master/Text_Annotation_Tool_BdF.ipynb\" target=\"_parent\"><img src=\"https://colab.research.google.com/assets/colab-badge.svg\" alt=\"Open In Colab\"/></a>"
      ]
    },
    {
      "cell_type": "markdown",
      "metadata": {
        "id": "c8aX4ibmIzSO",
        "colab_type": "text"
      },
      "source": [
        "<p><img alt=\"Colaboratory logo\" height=\"45px\" src=\"/img/colab_favicon.ico\" align=\"left\" hspace=\"10px\" vspace=\"0px\"></p>\n",
        "\n",
        "<h1>What is Colaboratory?</h1>\n",
        "\n",
        "Colaboratory, or \"Colab\" for short, allows you to write and execute Python in your browser, with \n",
        "- Zero configuration required\n",
        "- Free access to GPUs\n",
        "- Easy sharing\n",
        "\n",
        "Whether you're a **student**, a **data scientist** or an **AI researcher**, Colab can make your work easier. Watch [Introduction to Colab](https://www.youtube.com/watch?v=inN8seMm7UI) to learn more, or just get started below!"
      ]
    },
    {
      "cell_type": "markdown",
      "metadata": {
        "id": "j-9rGzn0Zki5",
        "colab_type": "text"
      },
      "source": [
        "# ECOICOP Annotation\n",
        "  \n",
        "Use this tool to annotate your product texts with the correspondant eCoiCop category. \n"
      ]
    },
    {
      "cell_type": "markdown",
      "metadata": {
        "id": "P8EyWQfdK9jR",
        "colab_type": "text"
      },
      "source": [
        "## Get code from GitHub\n",
        "  \n",
        "At first we need to download the code from Github to here."
      ]
    },
    {
      "cell_type": "code",
      "metadata": {
        "id": "ub8zb9s7v9QF",
        "colab_type": "code",
        "colab": {}
      },
      "source": [
        "%%capture\n",
        "!pip install eli5\n",
        "!git clone 'https://github.com/ELehmann91/Thesis_Multilingual_Transferlearning'\n",
        "\n",
        "%cd Thesis_Multilingual_Transferlearning\n",
        "import labeler_cc5\n",
        "import coicop_model\n",
        "import pandas as pd\n",
        "import numpy as np\n",
        "from tqdm import tqdm\n",
        "import io"
      ],
      "execution_count": 0,
      "outputs": []
    },
    {
      "cell_type": "markdown",
      "metadata": {
        "id": "DIJ6I9wWjUyL",
        "colab_type": "text"
      },
      "source": [
        "## Upload CSV / Excel from Local Drive"
      ]
    },
    {
      "cell_type": "markdown",
      "metadata": {
        "id": "FYHE2mkbjdqq",
        "colab_type": "text"
      },
      "source": [
        "To upload from your local drive, start with the following code:"
      ]
    },
    {
      "cell_type": "code",
      "metadata": {
        "id": "Cv53M_9uibxg",
        "colab_type": "code",
        "outputId": "89c991f6-9251-40d9-ef52-ab8c8cf85575",
        "colab": {
          "resources": {
            "http://localhost:8080/nbextensions/google.colab/files.js": {
              "data": "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",
              "ok": true,
              "headers": [
                [
                  "content-type",
                  "application/javascript"
                ]
              ],
              "status": 200,
              "status_text": ""
            }
          },
          "base_uri": "https://localhost:8080/",
          "height": 73
        }
      },
      "source": [
        "from google.colab import files\n",
        "uploaded = files.upload()"
      ],
      "execution_count": 0,
      "outputs": [
        {
          "output_type": "display_data",
          "data": {
            "text/html": [
              "\n",
              "     <input type=\"file\" id=\"files-8f06af3f-8154-42ff-a60d-32c2a1b4fbc2\" name=\"files[]\" multiple disabled />\n",
              "     <output id=\"result-8f06af3f-8154-42ff-a60d-32c2a1b4fbc2\">\n",
              "      Upload widget is only available when the cell has been executed in the\n",
              "      current browser session. Please rerun this cell to enable.\n",
              "      </output>\n",
              "      <script src=\"/nbextensions/google.colab/files.js\"></script> "
            ],
            "text/plain": [
              "<IPython.core.display.HTML object>"
            ]
          },
          "metadata": {
            "tags": []
          }
        },
        {
          "output_type": "stream",
          "text": [
            "Saving eantoclassifyECB.csv to eantoclassifyECB (1).csv\n"
          ],
          "name": "stdout"
        }
      ]
    },
    {
      "cell_type": "markdown",
      "metadata": {
        "id": "A7QkulHTjkyK",
        "colab_type": "text"
      },
      "source": [
        "It will prompt you to select a file. Click on “Choose Files” then select and upload the file. Wait for the file to be 100% uploaded. You should see the name of the file once Colab has uploaded it.\n",
        "Finally, type in the following code to import it into a dataframe (make sure the filename matches the name of the uploaded file)."
      ]
    },
    {
      "cell_type": "code",
      "metadata": {
        "id": "-bSqZRGhWSy8",
        "colab_type": "code",
        "colab": {}
      },
      "source": [
        "#stata\n",
        "df = pd.read_stata('table_BCE_finale.dta')"
      ],
      "execution_count": 0,
      "outputs": []
    },
    {
      "cell_type": "code",
      "metadata": {
        "id": "VmC0fPkzjstK",
        "colab_type": "code",
        "colab": {}
      },
      "source": [
        "df = pd.read_csv(io.BytesIO(uploaded['eantoclassifyECB.csv']),sep=',')\n",
        "#df = pd.read_excel(io.BytesIO(uploaded['carrfour_trans_pred.xlsx']),encoding='ANSI')\n",
        "#df = pd.read_excel(uploaded['carrfour_trans_pred.xlsx'],encoding='unicode')"
      ],
      "execution_count": 0,
      "outputs": []
    },
    {
      "cell_type": "code",
      "metadata": {
        "id": "w_8lIfRA-qul",
        "colab_type": "code",
        "outputId": "8815fd2a-e85d-41e2-e2b2-ec34b6da0b3f",
        "colab": {
          "base_uri": "https://localhost:8080/",
          "height": 124
        }
      },
      "source": [
        "# Dataset is now stored in a Pandas Dataframe\n",
        "#df['productCategory'] = df['productCategory'].apply(lambda x: str(x).replace('suesses','süßes').replace('ue','ü').replace('ae','ä').replace('oe','ö'))\n",
        "print(df.shape)\n",
        "df[:2]"
      ],
      "execution_count": 0,
      "outputs": [
        {
          "output_type": "stream",
          "text": [
            "(132639, 3)\n"
          ],
          "name": "stdout"
        },
        {
          "output_type": "execute_result",
          "data": {
            "text/html": [
              "<div>\n",
              "<style scoped>\n",
              "    .dataframe tbody tr th:only-of-type {\n",
              "        vertical-align: middle;\n",
              "    }\n",
              "\n",
              "    .dataframe tbody tr th {\n",
              "        vertical-align: top;\n",
              "    }\n",
              "\n",
              "    .dataframe thead th {\n",
              "        text-align: right;\n",
              "    }\n",
              "</style>\n",
              "<table border=\"1\" class=\"dataframe\">\n",
              "  <thead>\n",
              "    <tr style=\"text-align: right;\">\n",
              "      <th></th>\n",
              "      <th>ean</th>\n",
              "      <th>title_accent</th>\n",
              "      <th>id</th>\n",
              "    </tr>\n",
              "  </thead>\n",
              "  <tbody>\n",
              "    <tr>\n",
              "      <th>0</th>\n",
              "      <td>30080751</td>\n",
              "      <td>coolwave bonbons sans sucres avec édulcorants,...</td>\n",
              "      <td>1811805</td>\n",
              "    </tr>\n",
              "    <tr>\n",
              "      <th>1</th>\n",
              "      <td>30080768</td>\n",
              "      <td>cool wave fraise, sans sucres, la boite de 28g</td>\n",
              "      <td>1811806</td>\n",
              "    </tr>\n",
              "  </tbody>\n",
              "</table>\n",
              "</div>"
            ],
            "text/plain": [
              "        ean                                       title_accent       id\n",
              "0  30080751  coolwave bonbons sans sucres avec édulcorants,...  1811805\n",
              "1  30080768     cool wave fraise, sans sucres, la boite de 28g  1811806"
            ]
          },
          "metadata": {
            "tags": []
          },
          "execution_count": 83
        }
      ]
    },
    {
      "cell_type": "markdown",
      "metadata": {
        "id": "40G3r2iHjpJT",
        "colab_type": "text"
      },
      "source": [
        "## Upload from Google Drive"
      ]
    },
    {
      "cell_type": "markdown",
      "metadata": {
        "id": "Q7HGsKGs9kTT",
        "colab_type": "text"
      },
      "source": [
        "Loading CSV files stored in your google drive."
      ]
    },
    {
      "cell_type": "code",
      "metadata": {
        "id": "hysvDAyEmMtJ",
        "colab_type": "code",
        "outputId": "427cd4f5-6659-472e-9c3e-5002da738a4c",
        "colab": {
          "base_uri": "https://localhost:8080/",
          "height": 120
        }
      },
      "source": [
        "from google.colab import drive, files\n",
        "\n",
        "drive.mount('/content/gdrive')\n",
        "path ='/content/gdrive/My Drive/Thesis_ecb_ecoicop'"
      ],
      "execution_count": 2,
      "outputs": [
        {
          "output_type": "stream",
          "text": [
            "Go to this URL in a browser: https://accounts.google.com/o/oauth2/auth?client_id=947318989803-6bn6qk8qdgf4n4g3pfee6491hc0brc4i.apps.googleusercontent.com&redirect_uri=urn%3aietf%3awg%3aoauth%3a2.0%3aoob&response_type=code&scope=email%20https%3a%2f%2fwww.googleapis.com%2fauth%2fdocs.test%20https%3a%2f%2fwww.googleapis.com%2fauth%2fdrive%20https%3a%2f%2fwww.googleapis.com%2fauth%2fdrive.photos.readonly%20https%3a%2f%2fwww.googleapis.com%2fauth%2fpeopleapi.readonly\n",
            "\n",
            "Enter your authorization code:\n",
            "··········\n",
            "Mounted at /content/gdrive\n"
          ],
          "name": "stdout"
        }
      ]
    },
    {
      "cell_type": "markdown",
      "metadata": {
        "id": "koAL9Y0-9iha",
        "colab_type": "text"
      },
      "source": [
        "The commands will bring you to a Google Authentication step. You should see a screen with Google Drive File Stream wants to access your Google Account. After you allow permission, copy the given verification code and paste it in the box in Colab.\n",
        "In the notebook, click on the charcoal > on the top left of the notebook and click on Files. Locate the data folder you created earlier and find your data. Right-click on your data and select Copy Path. Store this copied path into a variable and you are ready to go."
      ]
    },
    {
      "cell_type": "markdown",
      "metadata": {
        "id": "hwfdFh_099X8",
        "colab_type": "text"
      },
      "source": [
        "Specify the exact path to your file and the seperator of your file to read it in."
      ]
    },
    {
      "cell_type": "code",
      "metadata": {
        "id": "5mJofN83LgpC",
        "colab_type": "code",
        "colab": {},
        "cellView": "form"
      },
      "source": [
        "#@title Which data do you want to use?\n",
        "file_path = \"carrefour.csv\" #@param [\"auchan.csv\",\"ecb_data.csv\", \"carrefour.csv\",\"banque_de_france\"] {allow-input: true}"
      ],
      "execution_count": 0,
      "outputs": []
    },
    {
      "cell_type": "code",
      "metadata": {
        "id": "zmjzvOdNOpRA",
        "colab_type": "code",
        "colab": {
          "base_uri": "https://localhost:8080/",
          "height": 33
        },
        "outputId": "7393b88b-3bd9-46cc-c90e-aa2bbcf49d1f"
      },
      "source": [
        "import pandas as pd\n",
        "data_path = '/data/bdf/'#\n",
        "df = pd.read_csv(path+data_path+file_path,sep='|',index_col=False)\n",
        "print(file_path,'loaded',len(df),'observation')"
      ],
      "execution_count": 4,
      "outputs": [
        {
          "output_type": "stream",
          "text": [
            "carrefour.csv loaded 8610 observation\n"
          ],
          "name": "stdout"
        }
      ]
    },
    {
      "cell_type": "markdown",
      "metadata": {
        "id": "bfjiyKlT-OdY",
        "colab_type": "text"
      },
      "source": [
        "Print out the dataframe to see if the import is correct."
      ]
    },
    {
      "cell_type": "markdown",
      "metadata": {
        "id": "0hvKTxOXGnlX",
        "colab_type": "text"
      },
      "source": [
        "# Predict CoiCop Level 4\n",
        "  \n",
        "How does it work? - Word Embeddings (left)\n",
        "* Words are translated in vectors which are learned representations\n",
        "* Embeddings are a multidimensional space (often 300+ dimesnsion) and words which relate to each other are closer in this space\n",
        "* Those spaces can be aligned for different languages\n",
        "* The example shows a three dimensional space with embeddings for three different languages, the translation are idealy close neighbours and the distance between milk and cheese is closer than the distance betwenn milk and potato  \n",
        "more information: https://towardsdatascience.com/introduction-to-word-embeddings-4cf857b12edc\n",
        "  \n",
        "How does it work? - Recurrent Neural Network (right)\n",
        "* Now every word is represented by a vector and the input to the model is a sequence of vectors\n",
        "* LSTM (Long Short Term Memory) Networks are good in solving sequential tasks, because they are able to remember information from previous states (words) and output a representation for the sentence \n",
        "* This representation is used to classify in to the coicop categories  \n",
        "more information: https://towardsdatascience.com/a-beginners-guide-on-sentiment-analysis-with-rnn-9e100627c02e \n",
        "\n",
        "\n"
      ]
    },
    {
      "cell_type": "markdown",
      "metadata": {
        "id": "q_kUPMnHLzyU",
        "colab_type": "text"
      },
      "source": [
        "![embed](https://drive.google.com/uc?id=1AoleK5q47ZTkPCtvxDD6icEpcnLc9viE)"
      ]
    },
    {
      "cell_type": "markdown",
      "metadata": {
        "id": "pFeMdvnl9_5n",
        "colab_type": "text"
      },
      "source": [
        "For the prediction you have to specify the names of certain columns in your dataframe which the tool will use.  \n",
        "* name_col is the column with the product name (mandatory)\n",
        "* category_col is the column with the category given by the supermarked (optional)\n",
        "* url_col is the column with  the url to the product (optional)\n",
        "* lang ist the language of the texts, supports 'de' and 'fr' (mandatory)\n",
        "* label_cat5 is the column with labels,if labeld (optional)\n",
        "\n"
      ]
    },
    {
      "cell_type": "code",
      "metadata": {
        "id": "1P-gtkLEGnwO",
        "colab_type": "code",
        "outputId": "4174d639-8630-45e3-a507-7c34c05bdbc6",
        "colab": {
          "base_uri": "https://localhost:8080/",
          "height": 67
        }
      },
      "source": [
        "# init predictor\n",
        "  \n",
        "name_col = 'name'\n",
        "category_col = 'categ'\n",
        "url_col = 'url'\n",
        "lang = 'fr'\n",
        "label_cat5 = 'cc5' #'coicop4_str'\n",
        "\n",
        " #coicop_model #\n",
        "CoiCop_Predictor = coicop_model.predictor(df\n",
        "                                          , name_col\n",
        "                                          , category_col\n",
        "                                          , url_col\n",
        "                                          , label_cat5\n",
        "                                          , lang)\n"
      ],
      "execution_count": 33,
      "outputs": [
        {
          "output_type": "stream",
          "text": [
            "using name, category and words in url as input\n",
            "using french embeddings\n",
            "95% quantile no. of words per row is 34 (trained on 39)\n"
          ],
          "name": "stdout"
        }
      ]
    },
    {
      "cell_type": "code",
      "metadata": {
        "id": "4gqDNqEB7NPH",
        "colab_type": "code",
        "colab": {
          "base_uri": "https://localhost:8080/",
          "height": 33
        },
        "outputId": "97ec80b4-ac79-4d2b-8a22-7cbcc911f877"
      },
      "source": [
        "df_probs = CoiCop_Predictor.predict_proba()"
      ],
      "execution_count": 34,
      "outputs": [
        {
          "output_type": "stream",
          "text": [
            "100%|██████████| 86/86 [00:10<00:00,  8.56it/s]\n"
          ],
          "name": "stderr"
        }
      ]
    },
    {
      "cell_type": "markdown",
      "metadata": {
        "id": "pvjl5zLFk-RM",
        "colab_type": "text"
      },
      "source": [
        "if products are already labeled you can test the consistency with the prediction.\n",
        "label_cat5 is specified two lines above"
      ]
    },
    {
      "cell_type": "code",
      "metadata": {
        "id": "cAHI1bNrk713",
        "colab_type": "code",
        "colab": {}
      },
      "source": [
        "if label_cat5 is not None:\n",
        "    CoiCop_Predictor.test_performance()\n",
        "    #CoiCop_Predictor.confusion_matrix()"
      ],
      "execution_count": 0,
      "outputs": []
    },
    {
      "cell_type": "markdown",
      "metadata": {
        "id": "0mc-zOEeAIO7",
        "colab_type": "text"
      },
      "source": [
        "## Explonation  \n",
        "  \n",
        "It shows the three best candidates for a product and highlights the words which contribute to the estimate (positiv: green, negative: red)\n",
        "If you leave the the brackets empty it will show a random product. If you want the explonation for a particular product, you can enter the text.  \n",
        "If you enter text it always needs to be in marks ''."
      ]
    },
    {
      "cell_type": "code",
      "metadata": {
        "id": "T1gClUgdwbfk",
        "colab_type": "code",
        "outputId": "3e087234-dd75-41eb-b6e7-adecdcea0229",
        "colab": {
          "base_uri": "https://localhost:8080/",
          "height": 502
        }
      },
      "source": [
        "text = None\n",
        "categ= '1134_Frozen seafood'\n",
        "#text = ''\n",
        "\n",
        "CoiCop_Predictor.tell_me_why(text,categ)"
      ],
      "execution_count": 36,
      "outputs": [
        {
          "output_type": "stream",
          "text": [
            "prediction 1134_Frozen seafood\n",
            "label 1134_Frozen seafood\n"
          ],
          "name": "stdout"
        },
        {
          "output_type": "execute_result",
          "data": {
            "text/html": [
              "\n",
              "    <style>\n",
              "    table.eli5-weights tr:hover {\n",
              "        filter: brightness(85%);\n",
              "    }\n",
              "</style>\n",
              "\n",
              "\n",
              "\n",
              "    \n",
              "\n",
              "    \n",
              "\n",
              "    \n",
              "\n",
              "    \n",
              "\n",
              "    \n",
              "\n",
              "    \n",
              "\n",
              "\n",
              "    \n",
              "\n",
              "    \n",
              "\n",
              "    \n",
              "\n",
              "    \n",
              "        \n",
              "\n",
              "    \n",
              "\n",
              "    \n",
              "        \n",
              "    \n",
              "        \n",
              "        \n",
              "    \n",
              "        <p style=\"margin-bottom: 0.5em; margin-top: 0em\">\n",
              "            <b>\n",
              "    \n",
              "        y=1134_Frozen seafood\n",
              "    \n",
              "</b>\n",
              "\n",
              "    \n",
              "    (probability <b>0.934</b>, score <b>6.114</b>)\n",
              "\n",
              "top features\n",
              "        </p>\n",
              "    \n",
              "    <table class=\"eli5-weights\"\n",
              "           style=\"border-collapse: collapse; border: none; margin-top: 0em; table-layout: auto; margin-bottom: 2em;\">\n",
              "        <thead>\n",
              "        <tr style=\"border: none;\">\n",
              "            \n",
              "                <th style=\"padding: 0 1em 0 0.5em; text-align: right; border: none;\" title=\"Feature contribution already accounts for the feature value (for linear models, contribution = weight * feature value), and the sum of feature contributions is equal to the score or, for some classifiers, to the probability. Feature values are shown if &quot;show_feature_values&quot; is True.\">\n",
              "                    Contribution<sup>?</sup>\n",
              "                </th>\n",
              "            \n",
              "            <th style=\"padding: 0 0.5em 0 0.5em; text-align: left; border: none;\">Feature</th>\n",
              "            \n",
              "        </tr>\n",
              "        </thead>\n",
              "        <tbody>\n",
              "        \n",
              "            <tr style=\"background-color: hsl(120, 100.00%, 80.00%); border: none;\">\n",
              "    <td style=\"padding: 0 1em 0 0.5em; text-align: right; border: none;\">\n",
              "        +15.115\n",
              "    </td>\n",
              "    <td style=\"padding: 0 0.5em 0 0.5em; text-align: left; border: none;\">\n",
              "        Highlighted in text (sum)\n",
              "    </td>\n",
              "    \n",
              "</tr>\n",
              "        \n",
              "        \n",
              "\n",
              "        \n",
              "        \n",
              "            <tr style=\"background-color: hsl(0, 100.00%, 86.09%); border: none;\">\n",
              "    <td style=\"padding: 0 1em 0 0.5em; text-align: right; border: none;\">\n",
              "        -9.002\n",
              "    </td>\n",
              "    <td style=\"padding: 0 0.5em 0 0.5em; text-align: left; border: none;\">\n",
              "        &lt;BIAS&gt;\n",
              "    </td>\n",
              "    \n",
              "</tr>\n",
              "        \n",
              "\n",
              "        </tbody>\n",
              "    </table>\n",
              "\n",
              "    \n",
              "\n",
              "\n",
              "\n",
              "    <p style=\"margin-bottom: 2.5em; margin-top:-0.5em;\">\n",
              "        <span style=\"background-color: hsl(120, 100.00%, 95.14%); opacity: 0.81\" title=\"0.357\">Escal</span><span style=\"opacity: 0.80\"> </span><span style=\"background-color: hsl(0, 100.00%, 98.60%); opacity: 0.80\" title=\"-0.061\">Cocktail</span><span style=\"opacity: 0.80\"> </span><span style=\"background-color: hsl(120, 100.00%, 98.04%); opacity: 0.80\" title=\"0.098\">de</span><span style=\"opacity: 0.80\"> </span><span style=\"background-color: hsl(120, 100.00%, 95.31%); opacity: 0.81\" title=\"0.339\">Fruits</span><span style=\"opacity: 0.80\"> </span><span style=\"background-color: hsl(120, 100.00%, 98.85%); opacity: 0.80\" title=\"0.046\">de</span><span style=\"opacity: 0.80\"> </span><span style=\"background-color: hsl(120, 100.00%, 96.39%); opacity: 0.81\" title=\"0.233\">Mer</span><span style=\"opacity: 0.80\"> 900 </span><span style=\"background-color: hsl(120, 100.00%, 98.00%); opacity: 0.80\" title=\"0.100\">gDrive</span><span style=\"opacity: 0.80\"> </span><span style=\"background-color: hsl(120, 100.00%, 61.45%); opacity: 0.99\" title=\"6.888\">Surgelés</span><span style=\"opacity: 0.80\"> </span><span style=\"background-color: hsl(120, 100.00%, 90.65%); opacity: 0.83\" title=\"0.911\">Poissons</span><span style=\"opacity: 0.80\"> </span><span style=\"background-color: hsl(120, 100.00%, 88.20%); opacity: 0.83\" title=\"1.269\">Crevettes</span><span style=\"opacity: 0.80\"> &amp; </span><span style=\"background-color: hsl(120, 100.00%, 96.71%); opacity: 0.81\" title=\"0.204\">fruits</span><span style=\"opacity: 0.80\"> </span><span style=\"background-color: hsl(120, 100.00%, 98.07%); opacity: 0.80\" title=\"0.095\">de</span><span style=\"opacity: 0.80\"> </span><span style=\"background-color: hsl(120, 100.00%, 96.77%); opacity: 0.81\" title=\"0.199\">merpoissons</span><span style=\"opacity: 0.80\"> </span><span style=\"background-color: hsl(120, 100.00%, 88.79%); opacity: 0.83\" title=\"1.181\">crevettes</span><span style=\"opacity: 0.80\"> </span><span style=\"background-color: hsl(120, 100.00%, 97.22%); opacity: 0.80\" title=\"0.161\">fruits</span><span style=\"opacity: 0.80\"> </span><span style=\"background-color: hsl(120, 100.00%, 97.88%); opacity: 0.80\" title=\"0.109\">mer</span><span style=\"opacity: 0.80\"> </span><span style=\"background-color: hsl(120, 100.00%, 96.39%); opacity: 0.81\" title=\"0.234\">escal</span><span style=\"opacity: 0.80\"> </span><span style=\"background-color: hsl(120, 100.00%, 96.46%); opacity: 0.81\" title=\"0.228\">cocktail</span><span style=\"opacity: 0.80\"> </span><span style=\"background-color: hsl(120, 100.00%, 96.37%); opacity: 0.81\" title=\"0.236\">fruits</span><span style=\"opacity: 0.80\"> </span><span style=\"background-color: hsl(120, 100.00%, 96.22%); opacity: 0.81\" title=\"0.250\">mer</span>\n",
              "    </p>\n",
              "\n",
              "    \n",
              "        \n",
              "    \n",
              "        \n",
              "        \n",
              "    \n",
              "        <p style=\"margin-bottom: 0.5em; margin-top: 0em\">\n",
              "            <b>\n",
              "    \n",
              "        y=1133_Fresh or chilled seafood\n",
              "    \n",
              "</b>\n",
              "\n",
              "    \n",
              "    (probability <b>0.053</b>, score <b>-2.806</b>)\n",
              "\n",
              "top features\n",
              "        </p>\n",
              "    \n",
              "    <table class=\"eli5-weights\"\n",
              "           style=\"border-collapse: collapse; border: none; margin-top: 0em; table-layout: auto; margin-bottom: 2em;\">\n",
              "        <thead>\n",
              "        <tr style=\"border: none;\">\n",
              "            \n",
              "                <th style=\"padding: 0 1em 0 0.5em; text-align: right; border: none;\" title=\"Feature contribution already accounts for the feature value (for linear models, contribution = weight * feature value), and the sum of feature contributions is equal to the score or, for some classifiers, to the probability. Feature values are shown if &quot;show_feature_values&quot; is True.\">\n",
              "                    Contribution<sup>?</sup>\n",
              "                </th>\n",
              "            \n",
              "            <th style=\"padding: 0 0.5em 0 0.5em; text-align: left; border: none;\">Feature</th>\n",
              "            \n",
              "        </tr>\n",
              "        </thead>\n",
              "        <tbody>\n",
              "        \n",
              "            <tr style=\"background-color: hsl(120, 100.00%, 93.47%); border: none;\">\n",
              "    <td style=\"padding: 0 1em 0 0.5em; text-align: right; border: none;\">\n",
              "        +3.054\n",
              "    </td>\n",
              "    <td style=\"padding: 0 0.5em 0 0.5em; text-align: left; border: none;\">\n",
              "        Highlighted in text (sum)\n",
              "    </td>\n",
              "    \n",
              "</tr>\n",
              "        \n",
              "        \n",
              "\n",
              "        \n",
              "        \n",
              "            <tr style=\"background-color: hsl(0, 100.00%, 89.70%); border: none;\">\n",
              "    <td style=\"padding: 0 1em 0 0.5em; text-align: right; border: none;\">\n",
              "        -5.860\n",
              "    </td>\n",
              "    <td style=\"padding: 0 0.5em 0 0.5em; text-align: left; border: none;\">\n",
              "        &lt;BIAS&gt;\n",
              "    </td>\n",
              "    \n",
              "</tr>\n",
              "        \n",
              "\n",
              "        </tbody>\n",
              "    </table>\n",
              "\n",
              "    \n",
              "\n",
              "\n",
              "\n",
              "    <p style=\"margin-bottom: 2.5em; margin-top:-0.5em;\">\n",
              "        <span style=\"background-color: hsl(120, 100.00%, 92.92%); opacity: 0.82\" title=\"0.612\">Escal</span><span style=\"opacity: 0.80\"> </span><span style=\"background-color: hsl(0, 100.00%, 97.25%); opacity: 0.80\" title=\"-0.159\">Cocktail</span><span style=\"opacity: 0.80\"> </span><span style=\"background-color: hsl(120, 100.00%, 99.50%); opacity: 0.80\" title=\"0.014\">de</span><span style=\"opacity: 0.80\"> </span><span style=\"background-color: hsl(120, 100.00%, 96.18%); opacity: 0.81\" title=\"0.254\">Fruits</span><span style=\"opacity: 0.80\"> </span><span style=\"background-color: hsl(120, 100.00%, 98.68%); opacity: 0.80\" title=\"0.056\">de</span><span style=\"opacity: 0.80\"> </span><span style=\"background-color: hsl(120, 100.00%, 94.00%); opacity: 0.81\" title=\"0.483\">Mer</span><span style=\"opacity: 0.80\"> </span><span style=\"background-color: hsl(120, 100.00%, 99.19%); opacity: 0.80\" title=\"0.028\">900</span><span style=\"opacity: 0.80\"> </span><span style=\"background-color: hsl(120, 100.00%, 97.74%); opacity: 0.80\" title=\"0.120\">gDrive</span><span style=\"opacity: 0.80\"> </span><span style=\"background-color: hsl(0, 100.00%, 60.00%); opacity: 1.00\" title=\"-7.262\">Surgelés</span><span style=\"opacity: 0.80\"> </span><span style=\"background-color: hsl(120, 100.00%, 90.00%); opacity: 0.83\" title=\"1.002\">Poissons</span><span style=\"opacity: 0.80\"> </span><span style=\"background-color: hsl(120, 100.00%, 86.62%); opacity: 0.84\" title=\"1.519\">Crevettes</span><span style=\"opacity: 0.80\"> &amp; </span><span style=\"background-color: hsl(120, 100.00%, 97.79%); opacity: 0.80\" title=\"0.116\">fruits</span><span style=\"opacity: 0.80\"> </span><span style=\"background-color: hsl(120, 100.00%, 97.92%); opacity: 0.80\" title=\"0.106\">de</span><span style=\"opacity: 0.80\"> </span><span style=\"background-color: hsl(120, 100.00%, 96.32%); opacity: 0.81\" title=\"0.240\">merpoissons</span><span style=\"opacity: 0.80\"> </span><span style=\"background-color: hsl(120, 100.00%, 86.76%); opacity: 0.84\" title=\"1.496\">crevettes</span><span style=\"opacity: 0.80\"> </span><span style=\"background-color: hsl(120, 100.00%, 97.59%); opacity: 0.80\" title=\"0.131\">fruits</span><span style=\"opacity: 0.80\"> </span><span style=\"background-color: hsl(120, 100.00%, 93.31%); opacity: 0.82\" title=\"0.564\">mer</span><span style=\"opacity: 0.80\"> </span><span style=\"background-color: hsl(120, 100.00%, 93.74%); opacity: 0.81\" title=\"0.514\">escal</span><span style=\"opacity: 0.80\"> cocktail </span><span style=\"background-color: hsl(120, 100.00%, 97.84%); opacity: 0.80\" title=\"0.112\">fruits</span><span style=\"opacity: 0.80\"> </span><span style=\"background-color: hsl(120, 100.00%, 91.94%); opacity: 0.82\" title=\"0.736\">mer</span>\n",
              "    </p>\n",
              "\n",
              "    \n",
              "        \n",
              "    \n",
              "        \n",
              "        \n",
              "    \n",
              "        <p style=\"margin-bottom: 0.5em; margin-top: 0em\">\n",
              "            <b>\n",
              "    \n",
              "        y=1161_Fresh or chilled fruit\n",
              "    \n",
              "</b>\n",
              "\n",
              "    \n",
              "    (probability <b>0.001</b>, score <b>-6.728</b>)\n",
              "\n",
              "top features\n",
              "        </p>\n",
              "    \n",
              "    <table class=\"eli5-weights\"\n",
              "           style=\"border-collapse: collapse; border: none; margin-top: 0em; table-layout: auto; margin-bottom: 2em;\">\n",
              "        <thead>\n",
              "        <tr style=\"border: none;\">\n",
              "            \n",
              "                <th style=\"padding: 0 1em 0 0.5em; text-align: right; border: none;\" title=\"Feature contribution already accounts for the feature value (for linear models, contribution = weight * feature value), and the sum of feature contributions is equal to the score or, for some classifiers, to the probability. Feature values are shown if &quot;show_feature_values&quot; is True.\">\n",
              "                    Contribution<sup>?</sup>\n",
              "                </th>\n",
              "            \n",
              "            <th style=\"padding: 0 0.5em 0 0.5em; text-align: left; border: none;\">Feature</th>\n",
              "            \n",
              "        </tr>\n",
              "        </thead>\n",
              "        <tbody>\n",
              "        \n",
              "        \n",
              "\n",
              "        \n",
              "        \n",
              "            <tr style=\"background-color: hsl(0, 100.00%, 93.17%); border: none;\">\n",
              "    <td style=\"padding: 0 1em 0 0.5em; text-align: right; border: none;\">\n",
              "        -3.256\n",
              "    </td>\n",
              "    <td style=\"padding: 0 0.5em 0 0.5em; text-align: left; border: none;\">\n",
              "        &lt;BIAS&gt;\n",
              "    </td>\n",
              "    \n",
              "</tr>\n",
              "        \n",
              "            <tr style=\"background-color: hsl(0, 100.00%, 92.86%); border: none;\">\n",
              "    <td style=\"padding: 0 1em 0 0.5em; text-align: right; border: none;\">\n",
              "        -3.472\n",
              "    </td>\n",
              "    <td style=\"padding: 0 0.5em 0 0.5em; text-align: left; border: none;\">\n",
              "        Highlighted in text (sum)\n",
              "    </td>\n",
              "    \n",
              "</tr>\n",
              "        \n",
              "\n",
              "        </tbody>\n",
              "    </table>\n",
              "\n",
              "    \n",
              "\n",
              "\n",
              "\n",
              "    <p style=\"margin-bottom: 2.5em; margin-top:-0.5em;\">\n",
              "        <span style=\"background-color: hsl(0, 100.00%, 95.57%); opacity: 0.81\" title=\"-0.313\">Escal</span><span style=\"opacity: 0.80\"> </span><span style=\"background-color: hsl(0, 100.00%, 97.97%); opacity: 0.80\" title=\"-0.103\">Cocktail</span><span style=\"opacity: 0.80\"> </span><span style=\"background-color: hsl(0, 100.00%, 98.73%); opacity: 0.80\" title=\"-0.053\">de</span><span style=\"opacity: 0.80\"> Fruits </span><span style=\"background-color: hsl(0, 100.00%, 98.90%); opacity: 0.80\" title=\"-0.043\">de</span><span style=\"opacity: 0.80\"> </span><span style=\"background-color: hsl(0, 100.00%, 98.68%); opacity: 0.80\" title=\"-0.055\">Mer</span><span style=\"opacity: 0.80\"> </span><span style=\"background-color: hsl(120, 100.00%, 98.11%); opacity: 0.80\" title=\"0.093\">900</span><span style=\"opacity: 0.80\"> </span><span style=\"background-color: hsl(0, 100.00%, 96.61%); opacity: 0.81\" title=\"-0.213\">gDrive</span><span style=\"opacity: 0.80\"> </span><span style=\"background-color: hsl(0, 100.00%, 88.27%); opacity: 0.83\" title=\"-1.258\">Surgelés</span><span style=\"opacity: 0.80\"> </span><span style=\"background-color: hsl(0, 100.00%, 91.08%); opacity: 0.82\" title=\"-0.851\">Poissons</span><span style=\"opacity: 0.80\"> </span><span style=\"background-color: hsl(0, 100.00%, 94.40%); opacity: 0.81\" title=\"-0.438\">Crevettes</span><span style=\"opacity: 0.80\"> &amp; </span><span style=\"background-color: hsl(120, 100.00%, 98.25%); opacity: 0.80\" title=\"0.083\">fruits</span><span style=\"opacity: 0.80\"> </span><span style=\"background-color: hsl(0, 100.00%, 98.15%); opacity: 0.80\" title=\"-0.090\">de</span><span style=\"opacity: 0.80\"> </span><span style=\"background-color: hsl(0, 100.00%, 98.54%); opacity: 0.80\" title=\"-0.064\">merpoissons</span><span style=\"opacity: 0.80\"> </span><span style=\"background-color: hsl(0, 100.00%, 92.46%); opacity: 0.82\" title=\"-0.669\">crevettes</span><span style=\"opacity: 0.80\"> </span><span style=\"background-color: hsl(120, 100.00%, 97.71%); opacity: 0.80\" title=\"0.122\">fruits</span><span style=\"opacity: 0.80\"> </span><span style=\"background-color: hsl(0, 100.00%, 97.62%); opacity: 0.80\" title=\"-0.129\">mer</span><span style=\"opacity: 0.80\"> </span><span style=\"background-color: hsl(0, 100.00%, 98.13%); opacity: 0.80\" title=\"-0.091\">escal</span><span style=\"opacity: 0.80\"> </span><span style=\"background-color: hsl(120, 100.00%, 96.17%); opacity: 0.81\" title=\"0.254\">cocktail</span><span style=\"opacity: 0.80\"> </span><span style=\"background-color: hsl(120, 100.00%, 95.99%); opacity: 0.81\" title=\"0.272\">fruits</span><span style=\"opacity: 0.80\"> </span><span style=\"background-color: hsl(0, 100.00%, 96.89%); opacity: 0.81\" title=\"-0.189\">mer</span>\n",
              "    </p>\n",
              "\n",
              "    \n",
              "\n",
              "\n",
              "    \n",
              "\n",
              "    \n",
              "\n",
              "    \n",
              "\n",
              "\n",
              "    \n",
              "\n",
              "    \n",
              "\n",
              "    \n",
              "\n",
              "    \n",
              "\n",
              "    \n",
              "\n",
              "    \n",
              "\n",
              "\n",
              "    \n",
              "\n",
              "    \n",
              "\n",
              "    \n",
              "\n",
              "    \n",
              "\n",
              "    \n",
              "\n",
              "    \n",
              "\n",
              "\n",
              "\n"
            ],
            "text/plain": [
              "Explanation(estimator=\"SGDClassifier(alpha=0.001, average=False, class_weight=None,\\n              early_stopping=False, epsilon=0.1, eta0=0.0, fit_intercept=True,\\n              l1_ratio=0.15, learning_rate='optimal', loss='log', max_iter=1000,\\n              n_iter_no_change=5, n_jobs=None, penalty='elasticnet',\\n              power_t=0.5, random_state=RandomState(MT19937) at 0x7F53E1EDF990,\\n              shuffle=True, tol=0.001, validation_fraction=0.1, verbose=0,\\n              warm_start=False)\", description=None, error=None, method='linear model', is_regression=False, targets=[TargetExplanation(target='1134_Frozen seafood', feature_weights=FeatureWeights(pos=[FeatureWeight(feature='[8] Surgelés', weight=6.887891801641737, std=None, value=1.0), FeatureWeight(feature='[10] Crevettes', weight=1.2689854701099004, std=None, value=1.0), FeatureWeight(feature='[14] crevettes', weight=1.180610430391429, std=None, value=1.0), FeatureWeight(feature='[9] Poissons', weight=0.9109195921367998, std=None, value=1.0), FeatureWeight(feature='[19] fruits', weight=0.7065459366494791, std=None, value=1.0), FeatureWeight(feature='[11] fruits', weight=0.6131796059398131, std=None, value=1.0), FeatureWeight(feature='[20] mer', weight=0.49903680143123685, std=None, value=1.0), FeatureWeight(feature='[15] fruits', weight=0.4834086157361258, std=None, value=1.0), FeatureWeight(feature='[0] Escal', weight=0.3572454002340996, std=None, value=1.0), FeatureWeight(feature='[3] Fruits', weight=0.33931590187552485, std=None, value=1.0), FeatureWeight(feature='[2] de', weight=0.29283577434763103, std=None, value=1.0), FeatureWeight(feature='[12] de', weight=0.2860487378453517, std=None, value=1.0), FeatureWeight(feature='[17] escal', weight=0.23360604409451832, std=None, value=1.0), FeatureWeight(feature='[5] Mer', weight=0.23346318308244404, std=None, value=1.0), FeatureWeight(feature='[18] cocktail', weight=0.22765899616763052, std=None, value=1.0), FeatureWeight(feature='[16] mer', weight=0.21814674571927217, std=None, value=1.0), FeatureWeight(feature='[13] merpoissons', weight=0.19924718977905095, std=None, value=1.0), FeatureWeight(feature='[4] de', weight=0.1375283827349989, std=None, value=1.0), FeatureWeight(feature='[7] gDrive', weight=0.10022315041860523, std=None, value=1.0)], neg=[FeatureWeight(feature='<BIAS>', weight=-9.001711420443392, std=None, value=1.0), FeatureWeight(feature='[1] Cocktail', weight=-0.06052393319776309, std=None, value=1.0)], pos_remaining=0, neg_remaining=0), proba=0.9337374929759631, score=6.113662406694493, weighted_spans=WeightedSpans(docs_weighted_spans=[DocWeightedSpans(document='Escal Cocktail de Fruits de Mer 900 gDrive Surgelés Poissons Crevettes & fruits de merpoissons crevettes fruits mer escal cocktail fruits mer', spans=[('Escal', [(0, 5)], 0.3572454002340996), ('Cocktail', [(6, 14)], -0.06052393319776309), ('de', [(15, 17)], 0.29283577434763103), ('Fruits', [(18, 24)], 0.33931590187552485), ('de', [(25, 27)], 0.1375283827349989), ('Mer', [(28, 31)], 0.23346318308244404), ('gDrive', [(36, 42)], 0.10022315041860523), ('Surgelés', [(43, 51)], 6.887891801641737), ('Poissons', [(52, 60)], 0.9109195921367998), ('Crevettes', [(61, 70)], 1.2689854701099004), ('fruits', [(73, 79)], 0.6131796059398131), ('de', [(80, 82)], 0.2860487378453517), ('merpoissons', [(83, 94)], 0.19924718977905095), ('crevettes', [(95, 104)], 1.180610430391429), ('fruits', [(105, 111)], 0.4834086157361258), ('mer', [(112, 115)], 0.21814674571927217), ('escal', [(116, 121)], 0.23360604409451832), ('cocktail', [(122, 130)], 0.22765899616763052), ('fruits', [(131, 137)], 0.7065459366494791), ('mer', [(138, 141)], 0.49903680143123685)], preserve_density=False, vec_name=None)], other=FeatureWeights(pos=[FeatureWeight(feature=<FormattedFeatureName 'Highlighted in text (sum)'>, weight=15.115373827137885, std=None, value=None)], neg=[FeatureWeight(feature='<BIAS>', weight=-9.001711420443392, std=None, value=1.0)], pos_remaining=0, neg_remaining=0)), heatmap=None), TargetExplanation(target='1133_Fresh or chilled seafood', feature_weights=FeatureWeights(pos=[FeatureWeight(feature='[10] Crevettes', weight=1.5192789192520155, std=None, value=1.0), FeatureWeight(feature='[14] crevettes', weight=1.4959989407358332, std=None, value=1.0), FeatureWeight(feature='[20] mer', weight=1.4726478460672119, std=None, value=1.0), FeatureWeight(feature='[16] mer', weight=1.128639206909693, std=None, value=1.0), FeatureWeight(feature='[9] Poissons', weight=1.0022350484491032, std=None, value=1.0), FeatureWeight(feature='[0] Escal', weight=0.6117235891506816, std=None, value=1.0), FeatureWeight(feature='[17] escal', weight=0.5137910499750407, std=None, value=1.0), FeatureWeight(feature='[5] Mer', weight=0.4834501851841713, std=None, value=1.0), FeatureWeight(feature='[15] fruits', weight=0.3942136368123437, std=None, value=1.0), FeatureWeight(feature='[11] fruits', weight=0.3473995752851552, std=None, value=1.0), FeatureWeight(feature='[19] fruits', weight=0.3367415882731496, std=None, value=1.0), FeatureWeight(feature='[12] de', weight=0.31886581590365254, std=None, value=1.0), FeatureWeight(feature='[3] Fruits', weight=0.25375563140053903, std=None, value=1.0), FeatureWeight(feature='[13] merpoissons', weight=0.24035133126998856, std=None, value=1.0), FeatureWeight(feature='[4] de', weight=0.1667201721681115, std=None, value=1.0), FeatureWeight(feature='[7] gDrive', weight=0.11954568136985261, std=None, value=1.0), FeatureWeight(feature='[2] de', weight=0.0420027532283079, std=None, value=1.0), FeatureWeight(feature='[6] 900', weight=0.027669317138423705, std=None, value=1.0)], neg=[FeatureWeight(feature='[8] Surgelés', weight=-7.262172619118526, std=None, value=1.0), FeatureWeight(feature='<BIAS>', weight=-5.86041201219183, std=None, value=1.0), FeatureWeight(feature='[1] Cocktail', weight=-0.15861980368814527, std=None, value=1.0)], pos_remaining=0, neg_remaining=0), proba=0.053332785695459996, score=-2.806174146425227, weighted_spans=WeightedSpans(docs_weighted_spans=[DocWeightedSpans(document='Escal Cocktail de Fruits de Mer 900 gDrive Surgelés Poissons Crevettes & fruits de merpoissons crevettes fruits mer escal cocktail fruits mer', spans=[('Escal', [(0, 5)], 0.6117235891506816), ('Cocktail', [(6, 14)], -0.15861980368814527), ('de', [(15, 17)], 0.0420027532283079), ('Fruits', [(18, 24)], 0.25375563140053903), ('de', [(25, 27)], 0.1667201721681115), ('Mer', [(28, 31)], 0.4834501851841713), ('900', [(32, 35)], 0.027669317138423705), ('gDrive', [(36, 42)], 0.11954568136985261), ('Surgelés', [(43, 51)], -7.262172619118526), ('Poissons', [(52, 60)], 1.0022350484491032), ('Crevettes', [(61, 70)], 1.5192789192520155), ('fruits', [(73, 79)], 0.3473995752851552), ('de', [(80, 82)], 0.31886581590365254), ('merpoissons', [(83, 94)], 0.24035133126998856), ('crevettes', [(95, 104)], 1.4959989407358332), ('fruits', [(105, 111)], 0.3942136368123437), ('mer', [(112, 115)], 1.128639206909693), ('escal', [(116, 121)], 0.5137910499750407), ('fruits', [(131, 137)], 0.3367415882731496), ('mer', [(138, 141)], 1.4726478460672119)], preserve_density=False, vec_name=None)], other=FeatureWeights(pos=[FeatureWeight(feature=<FormattedFeatureName 'Highlighted in text (sum)'>, weight=3.054237865766604, std=None, value=None)], neg=[FeatureWeight(feature='<BIAS>', weight=-5.86041201219183, std=None, value=1.0)], pos_remaining=0, neg_remaining=0)), heatmap=None), TargetExplanation(target='1161_Fresh or chilled fruit', feature_weights=FeatureWeights(pos=[FeatureWeight(feature='[19] fruits', weight=0.8148420468777199, std=None, value=1.0), FeatureWeight(feature='[15] fruits', weight=0.3654470260330764, std=None, value=1.0), FeatureWeight(feature='[18] cocktail', weight=0.2543696228632405, std=None, value=1.0), FeatureWeight(feature='[11] fruits', weight=0.24908303994613923, std=None, value=1.0), FeatureWeight(feature='[6] 900', weight=0.09281852480159955, std=None, value=1.0)], neg=[FeatureWeight(feature='<BIAS>', weight=-3.256326303441327, std=None, value=1.0), FeatureWeight(feature='[8] Surgelés', weight=-1.2584048631480518, std=None, value=1.0), FeatureWeight(feature='[9] Poissons', weight=-0.8507504960463528, std=None, value=1.0), FeatureWeight(feature='[14] crevettes', weight=-0.6691986721653711, std=None, value=1.0), FeatureWeight(feature='[10] Crevettes', weight=-0.4380918007059043, std=None, value=1.0), FeatureWeight(feature='[20] mer', weight=-0.37867670777828516, std=None, value=1.0), FeatureWeight(feature='[0] Escal', weight=-0.3127141019652198, std=None, value=1.0), FeatureWeight(feature='[12] de', weight=-0.2698488608983843, std=None, value=1.0), FeatureWeight(feature='[16] mer', weight=-0.2583088626036088, std=None, value=1.0), FeatureWeight(feature='[7] gDrive', weight=-0.2133794990127485, std=None, value=1.0), FeatureWeight(feature='[2] de', weight=-0.15776515151802917, std=None, value=1.0), FeatureWeight(feature='[4] de', weight=-0.1279026279543064, std=None, value=1.0), FeatureWeight(feature='[1] Cocktail', weight=-0.10278018713714472, std=None, value=1.0), FeatureWeight(feature='[17] escal', weight=-0.09129755866144255, std=None, value=1.0), FeatureWeight(feature='[13] merpoissons', weight=-0.06407060776926957, std=None, value=1.0), FeatureWeight(feature='[5] Mer', weight=-0.05532076430285525, std=None, value=1.0)], pos_remaining=0, neg_remaining=0), proba=0.0011184375300753026, score=-6.7282768045865256, weighted_spans=WeightedSpans(docs_weighted_spans=[DocWeightedSpans(document='Escal Cocktail de Fruits de Mer 900 gDrive Surgelés Poissons Crevettes & fruits de merpoissons crevettes fruits mer escal cocktail fruits mer', spans=[('Escal', [(0, 5)], -0.3127141019652198), ('Cocktail', [(6, 14)], -0.10278018713714472), ('de', [(15, 17)], -0.15776515151802917), ('de', [(25, 27)], -0.1279026279543064), ('Mer', [(28, 31)], -0.05532076430285525), ('900', [(32, 35)], 0.09281852480159955), ('gDrive', [(36, 42)], -0.2133794990127485), ('Surgelés', [(43, 51)], -1.2584048631480518), ('Poissons', [(52, 60)], -0.8507504960463528), ('Crevettes', [(61, 70)], -0.4380918007059043), ('fruits', [(73, 79)], 0.24908303994613923), ('de', [(80, 82)], -0.2698488608983843), ('merpoissons', [(83, 94)], -0.06407060776926957), ('crevettes', [(95, 104)], -0.6691986721653711), ('fruits', [(105, 111)], 0.3654470260330764), ('mer', [(112, 115)], -0.2583088626036088), ('escal', [(116, 121)], -0.09129755866144255), ('cocktail', [(122, 130)], 0.2543696228632405), ('fruits', [(131, 137)], 0.8148420468777199), ('mer', [(138, 141)], -0.37867670777828516)], preserve_density=False, vec_name=None)], other=FeatureWeights(pos=[], neg=[FeatureWeight(feature=<FormattedFeatureName 'Highlighted in text (sum)'>, weight=-3.4719505011451988, std=None, value=None), FeatureWeight(feature='<BIAS>', weight=-3.256326303441327, std=None, value=1.0)], pos_remaining=0, neg_remaining=0)), heatmap=None)], feature_importances=None, decision_tree=None, highlight_spaces=None, transition_features=None, image=None)"
            ]
          },
          "metadata": {
            "tags": []
          },
          "execution_count": 36
        }
      ]
    },
    {
      "cell_type": "markdown",
      "metadata": {
        "id": "SMjTYrR87e4K",
        "colab_type": "text"
      },
      "source": [
        "# Annotation"
      ]
    },
    {
      "cell_type": "markdown",
      "metadata": {
        "id": "FGBoWMkJ_HPd",
        "colab_type": "text"
      },
      "source": [
        "For the annotation tool you have to specify the naes of certain columns in your dataframe which the tool will use.  \n",
        "* Labeled_by takes your name and stores it after every item you labeld.  \n",
        "* Text column 1 is the name of the column for the first line of text which will be displayed to help you labeling the product, usually this is the product name.  \n",
        "* Text column 2 is the name of the column for the second line of text which will be displayed to help you labeling the product, this could be the category or the translation.  \n",
        "* The URL column is the name of the column where the url of the scraped product is located (if it is in the dataframe). The url might be helpfull if you are unsure about the product nd want to look up the whole page on the website. If you do not have the url in your data you can leave it empty.  \n",
        "* CoiCop 5 prediction is the column where the prediction is stored. The prediction will appear preselected in the dropdown menu.   \n",
        "  \n",
        "The data are sorted in a way that catogies with few labels come first, if predictions of those label are available.\n"
      ]
    },
    {
      "cell_type": "code",
      "metadata": {
        "id": "1xmoZj7JdS0o",
        "colab_type": "code",
        "colab": {
          "base_uri": "https://localhost:8080/",
          "height": 50
        },
        "outputId": "690bc0f7-e03d-41c2-bb6c-2f19caff47ad"
      },
      "source": [
        "# init labeler\n",
        "\n",
        "labeled_by = 'Erik'\n",
        "text_column_1 = 'name'\n",
        "text_column_2 = 'categ'\n",
        "url_column = 'url'\n",
        "CoiCop_5_pred_col = 'cc5_pred'\n",
        "Use_probabilities = True\n",
        "\n",
        "#labeler_cc5\n",
        "CoiCop_Labeler = labeler( labeled_by\n",
        "                        , df_probs\n",
        "                        , text_column_1\n",
        "                        , text_column_2\n",
        "                        , url_column\n",
        "                        , CoiCop_5_pred_col\n",
        "                        , Use_probabilities)"
      ],
      "execution_count": 37,
      "outputs": [
        {
          "output_type": "stream",
          "text": [
            "4798\n"
          ],
          "name": "stdout"
        },
        {
          "output_type": "stream",
          "text": [
            "/usr/local/lib/python3.6/dist-packages/ipykernel_launcher.py:90: UserWarning: Boolean Series key will be reindexed to match DataFrame index.\n"
          ],
          "name": "stderr"
        }
      ]
    },
    {
      "cell_type": "markdown",
      "metadata": {
        "id": "Ph_zFG30BeEn",
        "colab_type": "text"
      },
      "source": [
        "Now you are ready to label, after executing the next line you will see:\n",
        "* Select category you want to label\n",
        "* Text 1\n",
        "* Text 2\n",
        "* URL\n",
        "* Dropdown with one category which is the prediction for the product. If you are dissatisfied with it, you can click on the dropdown and select the right one.\n",
        "* Next-Button will skip this product\n",
        "* Save-Button will annotate the selected category to your dataframe\n",
        "  \n",
        "If you finished labeling just jump to the next line."
      ]
    },
    {
      "cell_type": "code",
      "metadata": {
        "id": "soYye5zedVXk",
        "colab_type": "code",
        "outputId": "0714c7b1-e3d9-4032-e7b8-13d9807ae6c2",
        "colab": {
          "base_uri": "https://localhost:8080/",
          "height": 356,
          "referenced_widgets": [
            "c02a2e0a43fd4f1491beba755dbf7c9c",
            "9a1f1d7ce3ff4d52a90247ed91b01bb4",
            "05a1b2400aef4c2b8fb0270404821d1a",
            "b8eb76d6f0c14932a61ebe120fe931f7",
            "f240479db89b4cd88c23e42dd46741e8",
            "f0bb5cac500a4f2c8b35ea175c16a909",
            "18f7444a0f3c4d25a0ef5aafb41cc272",
            "f95772c5e2eb47daab6c77357700939d",
            "36d6b31a74584a1f9bca57b6b2d749f9",
            "4c1cf73546a843098fb6e0baf44960c3",
            "68f696f6ed8040cd86c6759925620d28",
            "ff2cda91122c4510a42ed09b543bcc39",
            "a82f46201db247079a3446c64087590a",
            "828dbaf3edbc44478431cc38cbb9e8ab",
            "7d8663dcf1a445618f28e64d916cf2a8",
            "c57e66bf2e3f4e92b3d408fa8e48707c",
            "712bd19c24724586891ce2b4e28d2bdc",
            "78241dca141348ff8c9237782e2754a0",
            "db08e1c0314a414aaf24e5fe8fa90b7d",
            "f9deb7ffdcaa45d4a0d2399b3001639b",
            "5d2eebe961b94e0186bdec28517c0d63",
            "3e5e867216b9474e90095a1bc7cc23a4",
            "caf0a2a727294e29b80eeaf4f5314e04",
            "dd9de752287648b38f38556182dc3fde",
            "778a5dc785eb41db87f3229da2b693bc",
            "c819927a23a24c5abfd12ae5782d1d10",
            "62180474cc914127a55e6cb9255dc281",
            "e697e8f8252b4e6d862184f46d213cfd",
            "bd3320ea801d44bd97e3e320ea1d8110",
            "3a8fafba342b4790b782325624443684",
            "2c32790424b54b57ba283fa6ec5a4c02",
            "7a6c50124a974d07be436c5fd3ff03f4",
            "06a56a3f0d3848c6b870cf65fe4120e8",
            "dac87ff8b70f4797ba3c03f6b7c8ef33",
            "f0e694f2f53840bb9a0480209493ef2b",
            "436b2f023df34ba6876df5aeb2ce00da",
            "fac28c5d68cb4fe0938ea7d151e232a5"
          ]
        }
      },
      "source": [
        "CoiCop_Labeler.start_to_label()"
      ],
      "execution_count": 38,
      "outputs": [
        {
          "output_type": "display_data",
          "data": {
            "application/vnd.jupyter.widget-view+json": {
              "model_id": "c02a2e0a43fd4f1491beba755dbf7c9c",
              "version_minor": 0,
              "version_major": 2
            },
            "text/plain": [
              "VBox(children=(Box(children=(Dropdown(description='Select category to label:', layout=Layout(height='60px', wi…"
            ]
          },
          "metadata": {
            "tags": []
          }
        },
        {
          "output_type": "stream",
          "text": [
            "4798\n"
          ],
          "name": "stdout"
        },
        {
          "output_type": "stream",
          "text": [
            "/usr/local/lib/python3.6/dist-packages/ipykernel_launcher.py:90: UserWarning: Boolean Series key will be reindexed to match DataFrame index.\n"
          ],
          "name": "stderr"
        },
        {
          "output_type": "stream",
          "text": [
            "4798\n"
          ],
          "name": "stdout"
        },
        {
          "output_type": "stream",
          "text": [
            "/usr/local/lib/python3.6/dist-packages/ipykernel_launcher.py:90: UserWarning: Boolean Series key will be reindexed to match DataFrame index.\n"
          ],
          "name": "stderr"
        }
      ]
    },
    {
      "cell_type": "markdown",
      "metadata": {
        "id": "zlEm5YPfCff9",
        "colab_type": "text"
      },
      "source": [
        "The next line will print out your current progress of annotating the data."
      ]
    },
    {
      "cell_type": "code",
      "metadata": {
        "id": "kWzefcaMdXh9",
        "colab_type": "code",
        "outputId": "b8fb103e-ac6c-4270-db0c-3209a4601d67",
        "colab": {
          "base_uri": "https://localhost:8080/",
          "height": 50
        }
      },
      "source": [
        "CoiCop_Labeler.get_stats()"
      ],
      "execution_count": 0,
      "outputs": [
        {
          "output_type": "stream",
          "text": [
            "new labels: 1\n",
            "in total 19242 of 303638 labeled ( 6.0 %)\n"
          ],
          "name": "stdout"
        }
      ]
    },
    {
      "cell_type": "markdown",
      "metadata": {
        "id": "PGSEDm3EDSpT",
        "colab_type": "text"
      },
      "source": [
        "Output the data including annotation."
      ]
    },
    {
      "cell_type": "code",
      "metadata": {
        "id": "3051UrA5dZT0",
        "colab_type": "code",
        "outputId": "2fe3db12-c02e-4e87-8b85-89de97d236ee",
        "colab": {
          "base_uri": "https://localhost:8080/",
          "height": 147
        }
      },
      "source": [
        "df= CoiCop_Labeler.output_labels()\n",
        "df[:1]"
      ],
      "execution_count": 0,
      "outputs": [
        {
          "output_type": "execute_result",
          "data": {
            "text/html": [
              "<div>\n",
              "<style scoped>\n",
              "    .dataframe tbody tr th:only-of-type {\n",
              "        vertical-align: middle;\n",
              "    }\n",
              "\n",
              "    .dataframe tbody tr th {\n",
              "        vertical-align: top;\n",
              "    }\n",
              "\n",
              "    .dataframe thead th {\n",
              "        text-align: right;\n",
              "    }\n",
              "</style>\n",
              "<table border=\"1\" class=\"dataframe\">\n",
              "  <thead>\n",
              "    <tr style=\"text-align: right;\">\n",
              "      <th></th>\n",
              "      <th>lang</th>\n",
              "      <th>name</th>\n",
              "      <th>categ</th>\n",
              "      <th>prod_desc</th>\n",
              "      <th>text_other</th>\n",
              "      <th>url</th>\n",
              "      <th>words_from_url</th>\n",
              "      <th>unit</th>\n",
              "      <th>cc3</th>\n",
              "      <th>cc4</th>\n",
              "      <th>cc5</th>\n",
              "      <th>cc3_pred</th>\n",
              "      <th>cc4_pred</th>\n",
              "      <th>cc5_pred</th>\n",
              "      <th>shop</th>\n",
              "      <th>brand</th>\n",
              "      <th>price</th>\n",
              "      <th>id</th>\n",
              "      <th>labeld_by</th>\n",
              "      <th>url_text</th>\n",
              "      <th>text</th>\n",
              "      <th>labeled_by</th>\n",
              "      <th>sort_columns</th>\n",
              "    </tr>\n",
              "  </thead>\n",
              "  <tbody>\n",
              "    <tr>\n",
              "      <th>0</th>\n",
              "      <td>fr</td>\n",
              "      <td>pomme chp bq 6 frt golden</td>\n",
              "      <td>unknown</td>\n",
              "      <td>NaN</td>\n",
              "      <td>NaN</td>\n",
              "      <td>unknown</td>\n",
              "      <td>NaN</td>\n",
              "      <td>NaN</td>\n",
              "      <td>NaN</td>\n",
              "      <td>NaN</td>\n",
              "      <td>NaN</td>\n",
              "      <td>11_Food</td>\n",
              "      <td>115_Oils and fats</td>\n",
              "      <td>1155_Other edible animal fats</td>\n",
              "      <td>ecb</td>\n",
              "      <td>NaN</td>\n",
              "      <td>NaN</td>\n",
              "      <td>1807326</td>\n",
              "      <td>NaN</td>\n",
              "      <td></td>\n",
              "      <td>pomme chp bq 6 frt goldenunknown</td>\n",
              "      <td>None</td>\n",
              "      <td>78</td>\n",
              "    </tr>\n",
              "  </tbody>\n",
              "</table>\n",
              "</div>"
            ],
            "text/plain": [
              "  lang                       name  ... labeled_by sort_columns\n",
              "0   fr  pomme chp bq 6 frt golden  ...       None           78\n",
              "\n",
              "[1 rows x 23 columns]"
            ]
          },
          "metadata": {
            "tags": []
          },
          "execution_count": 70
        }
      ]
    },
    {
      "cell_type": "markdown",
      "metadata": {
        "id": "5WGhgHO8EbTq",
        "colab_type": "text"
      },
      "source": [
        "## Save data to Local Drive"
      ]
    },
    {
      "cell_type": "code",
      "metadata": {
        "id": "KnQkARJggsWg",
        "colab_type": "code",
        "colab": {}
      },
      "source": [
        "from google.colab import files\n",
        "\n",
        "df.to_csv('df_out.csv',sep='|')\n",
        "files.download('df_out.csv')"
      ],
      "execution_count": 0,
      "outputs": []
    },
    {
      "cell_type": "markdown",
      "metadata": {
        "id": "mP34Q9mpNBl1",
        "colab_type": "text"
      },
      "source": [
        "## Save data to Google Drive"
      ]
    },
    {
      "cell_type": "code",
      "metadata": {
        "id": "5uVxlDBDTbUa",
        "colab_type": "code",
        "colab": {
          "base_uri": "https://localhost:8080/",
          "height": 33
        },
        "outputId": "bf8afeb9-15f1-4d0a-8106-33ff01fea8a8"
      },
      "source": [
        "df.to_csv(path+data_path+file_path,sep='|')\n",
        "print(file_path,'saved',len(df),'observation',sum(df.cc5.isna()==False),'labeled')"
      ],
      "execution_count": 45,
      "outputs": [
        {
          "output_type": "stream",
          "text": [
            "banque_de_france.csv saved 14910 observation 14910 labeled\n"
          ],
          "name": "stdout"
        }
      ]
    },
    {
      "cell_type": "code",
      "metadata": {
        "id": "sTstS8YdTyEi",
        "colab_type": "code",
        "colab": {}
      },
      "source": [
        ""
      ],
      "execution_count": 0,
      "outputs": []
    }
  ]
}