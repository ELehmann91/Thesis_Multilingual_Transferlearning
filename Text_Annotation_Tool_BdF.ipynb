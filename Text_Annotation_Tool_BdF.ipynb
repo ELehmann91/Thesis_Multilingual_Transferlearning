{
  "nbformat": 4,
  "nbformat_minor": 0,
  "metadata": {
    "colab": {
      "name": "Text_Annotation_Tool.ipynb",
      "provenance": [],
      "collapsed_sections": [
        "DIJ6I9wWjUyL",
        "mP34Q9mpNBl1"
      ],
      "authorship_tag": "ABX9TyOY8dVTtM0yd5l1irTILFiL",
      "include_colab_link": true
    },
    "kernelspec": {
      "name": "python3",
      "display_name": "Python 3"
    },
    "widgets": {
      "application/vnd.jupyter.widget-state+json": {
        "29d3ab5229634ef39cd6ba8309b3c206": {
          "model_module": "@jupyter-widgets/controls",
          "model_name": "VBoxModel",
          "state": {
            "_view_name": "VBoxView",
            "_dom_classes": [],
            "_model_name": "VBoxModel",
            "_view_module": "@jupyter-widgets/controls",
            "_model_module_version": "1.5.0",
            "_view_count": null,
            "_view_module_version": "1.5.0",
            "box_style": "",
            "layout": "IPY_MODEL_d9ca677538c844a69dd7b17aeaf82c3a",
            "_model_module": "@jupyter-widgets/controls",
            "children": [
              "IPY_MODEL_6318e4492ec146df8fb0e67aa4d28afb",
              "IPY_MODEL_a380e131fcfe4df3b044ee0ab774cc98",
              "IPY_MODEL_ccfc0228faee4eb3a7cdc06c3e0aba87",
              "IPY_MODEL_e34b3dffc1e94678a22821428915d48c",
              "IPY_MODEL_a18bdae0e5184413b0a8eeda4cbd4553",
              "IPY_MODEL_7d526281184e4ccfb3b9b9d0c0483aec"
            ]
          }
        },
        "d9ca677538c844a69dd7b17aeaf82c3a": {
          "model_module": "@jupyter-widgets/base",
          "model_name": "LayoutModel",
          "state": {
            "_view_name": "LayoutView",
            "grid_template_rows": null,
            "right": null,
            "justify_content": null,
            "_view_module": "@jupyter-widgets/base",
            "overflow": null,
            "_model_module_version": "1.2.0",
            "_view_count": null,
            "flex_flow": null,
            "width": null,
            "min_width": null,
            "border": null,
            "align_items": null,
            "bottom": null,
            "_model_module": "@jupyter-widgets/base",
            "top": null,
            "grid_column": null,
            "overflow_y": null,
            "overflow_x": null,
            "grid_auto_flow": null,
            "grid_area": null,
            "grid_template_columns": null,
            "flex": null,
            "_model_name": "LayoutModel",
            "justify_items": null,
            "grid_row": null,
            "max_height": null,
            "align_content": null,
            "visibility": null,
            "align_self": null,
            "height": null,
            "min_height": null,
            "padding": null,
            "grid_auto_rows": null,
            "grid_gap": null,
            "max_width": null,
            "order": null,
            "_view_module_version": "1.2.0",
            "grid_template_areas": null,
            "object_position": null,
            "object_fit": null,
            "grid_auto_columns": null,
            "margin": null,
            "display": null,
            "left": null
          }
        },
        "6318e4492ec146df8fb0e67aa4d28afb": {
          "model_module": "@jupyter-widgets/controls",
          "model_name": "BoxModel",
          "state": {
            "_view_name": "BoxView",
            "_dom_classes": [],
            "_model_name": "BoxModel",
            "_view_module": "@jupyter-widgets/controls",
            "_model_module_version": "1.5.0",
            "_view_count": null,
            "_view_module_version": "1.5.0",
            "box_style": "",
            "layout": "IPY_MODEL_a27258f76eb8449d971712ae5f777e0d",
            "_model_module": "@jupyter-widgets/controls",
            "children": [
              "IPY_MODEL_980ef3228b5d4f368b771751c21cf508",
              "IPY_MODEL_3ab591c8ea9244bdb3aadde68f1a8160"
            ]
          }
        },
        "a380e131fcfe4df3b044ee0ab774cc98": {
          "model_module": "@jupyter-widgets/controls",
          "model_name": "TextModel",
          "state": {
            "_view_name": "TextView",
            "style": "IPY_MODEL_327db03e60ab453d8c33e97ba9ab1843",
            "_dom_classes": [],
            "description": "Text 1:",
            "_model_name": "TextModel",
            "placeholder": "​",
            "_view_module": "@jupyter-widgets/controls",
            "_model_module_version": "1.5.0",
            "value": "Pavé de truite filière responsable x2 - 240g",
            "_view_count": null,
            "disabled": false,
            "_view_module_version": "1.5.0",
            "continuous_update": true,
            "description_tooltip": null,
            "_model_module": "@jupyter-widgets/controls",
            "layout": "IPY_MODEL_7e20b4f054b74c0fab294b880b0cdb9a"
          }
        },
        "ccfc0228faee4eb3a7cdc06c3e0aba87": {
          "model_module": "@jupyter-widgets/controls",
          "model_name": "TextModel",
          "state": {
            "_view_name": "TextView",
            "style": "IPY_MODEL_dd2afaa4bbff40569e86efdf79281142",
            "_dom_classes": [],
            "description": "Text 2:",
            "_model_name": "TextModel",
            "placeholder": "​",
            "_view_module": "@jupyter-widgets/controls",
            "_model_module_version": "1.5.0",
            "value": "Accueil Boucherie, volaille, poissonnerie Poissons, crustacés Filets, pavés de poisson Saumon, truite",
            "_view_count": null,
            "disabled": false,
            "_view_module_version": "1.5.0",
            "continuous_update": true,
            "description_tooltip": null,
            "_model_module": "@jupyter-widgets/controls",
            "layout": "IPY_MODEL_1a4cc0d93d7a4c16b22d9ec204663700"
          }
        },
        "e34b3dffc1e94678a22821428915d48c": {
          "model_module": "@jupyter-widgets/controls",
          "model_name": "TextModel",
          "state": {
            "_view_name": "TextView",
            "style": "IPY_MODEL_b8e5a4aabc234099a939a518effcd580",
            "_dom_classes": [],
            "description": "Url:",
            "_model_name": "TextModel",
            "placeholder": "​",
            "_view_module": "@jupyter-widgets/controls",
            "_model_module_version": "1.5.0",
            "value": "https://www.auchan.fr/pave-de-truite-filiere-responsable-x2-240g/pr-31274",
            "_view_count": null,
            "disabled": false,
            "_view_module_version": "1.5.0",
            "continuous_update": true,
            "description_tooltip": null,
            "_model_module": "@jupyter-widgets/controls",
            "layout": "IPY_MODEL_8a903389867149afbebd8e667aff2ff9"
          }
        },
        "a18bdae0e5184413b0a8eeda4cbd4553": {
          "model_module": "@jupyter-widgets/controls",
          "model_name": "BoxModel",
          "state": {
            "_view_name": "BoxView",
            "_dom_classes": [],
            "_model_name": "BoxModel",
            "_view_module": "@jupyter-widgets/controls",
            "_model_module_version": "1.5.0",
            "_view_count": null,
            "_view_module_version": "1.5.0",
            "box_style": "",
            "layout": "IPY_MODEL_41d2dad7f2c649e88399d5720c29b194",
            "_model_module": "@jupyter-widgets/controls",
            "children": [
              "IPY_MODEL_dfa270dbda874a71ba15bd70ae013f50",
              "IPY_MODEL_c3b7a6c658f54983885aac38a64abc09"
            ]
          }
        },
        "7d526281184e4ccfb3b9b9d0c0483aec": {
          "model_module": "@jupyter-widgets/controls",
          "model_name": "BoxModel",
          "state": {
            "_view_name": "BoxView",
            "_dom_classes": [],
            "_model_name": "BoxModel",
            "_view_module": "@jupyter-widgets/controls",
            "_model_module_version": "1.5.0",
            "_view_count": null,
            "_view_module_version": "1.5.0",
            "box_style": "",
            "layout": "IPY_MODEL_cf6622c8206442a59df0fb08eb039ae5",
            "_model_module": "@jupyter-widgets/controls",
            "children": [
              "IPY_MODEL_ce2c9795e37f408f87ad93aa4f2e5264",
              "IPY_MODEL_2f8a8c2b09c94ce58ded835a3dc595b9",
              "IPY_MODEL_182d0536caeb402394c3d2d3e0531dad",
              "IPY_MODEL_21e4a8b035514d2c99d7aa25b6dbbc09"
            ]
          }
        },
        "a27258f76eb8449d971712ae5f777e0d": {
          "model_module": "@jupyter-widgets/base",
          "model_name": "LayoutModel",
          "state": {
            "_view_name": "LayoutView",
            "grid_template_rows": null,
            "right": null,
            "justify_content": null,
            "_view_module": "@jupyter-widgets/base",
            "overflow": null,
            "_model_module_version": "1.2.0",
            "_view_count": null,
            "flex_flow": "column",
            "width": "80%",
            "min_width": null,
            "border": null,
            "align_items": "stretch",
            "bottom": null,
            "_model_module": "@jupyter-widgets/base",
            "top": null,
            "grid_column": null,
            "overflow_y": null,
            "overflow_x": null,
            "grid_auto_flow": null,
            "grid_area": null,
            "grid_template_columns": null,
            "flex": null,
            "_model_name": "LayoutModel",
            "justify_items": null,
            "grid_row": null,
            "max_height": null,
            "align_content": "center",
            "visibility": null,
            "align_self": null,
            "height": null,
            "min_height": null,
            "padding": null,
            "grid_auto_rows": null,
            "grid_gap": null,
            "max_width": null,
            "order": null,
            "_view_module_version": "1.2.0",
            "grid_template_areas": null,
            "object_position": null,
            "object_fit": null,
            "grid_auto_columns": null,
            "margin": null,
            "display": "flex",
            "left": null
          }
        },
        "980ef3228b5d4f368b771751c21cf508": {
          "model_module": "@jupyter-widgets/controls",
          "model_name": "DropdownModel",
          "state": {
            "_options_labels": [
              "1114_Other bakery products",
              "1117_Breakfast cereals",
              "1118_Other cereal products",
              "1123_Lamb and goat",
              "1125_Other meats",
              "1126_Edible offal",
              "1128_Other meat preparations",
              "1131_Fresh or chilled fish",
              "1132_Frozen fish",
              "1133_Fresh or chilled seafood",
              "1134_Frozen seafood",
              "1135_Dried, smoked or salted fish and seafood",
              "1136_Other preserved or processed fish and seafood-based preparations",
              "1141_Fresh whole milk",
              "1142_Fresh low fat milk",
              "1143_Preserved milk",
              "1144_Yoghurt",
              "1145_Cheese and curd",
              "1146_Other milk products",
              "1147_Eggs",
              "1151_Butter",
              "1152_Margarine and other vegetable fats",
              "1153_Olive oil",
              "1154_Other edible oils",
              "1155_Other edible animal fats",
              "1162_Frozen fruit",
              "1163_Dried fruit and nuts",
              "1164_Preserved fruit and fruit-based products",
              "1172_Frozen vegetables other than potatoes and other tubers",
              "1173_Dried vegetables, other preserved or processed vegetables",
              "1174_Potatoes",
              "1175_Crisps",
              "1176_Other tubers and products of tuber vegetables",
              "1181_Sugar",
              "1182_Jams, marmalades and honey",
              "1183_Chocolate",
              "1184_Confectionery products",
              "1185_Edible ices and ice cream",
              "1186_Artificial sugar substitutes",
              "1191_Sauces, condiments",
              "1192_Salt, spices and culinary herbs",
              "1193_Baby food",
              "1194_Ready-made meals",
              "1199_Other food products n.e.c.",
              "1211_Coffee",
              "1212_Tea",
              "1213_Cocoa and powdered chocolate",
              "1221_Mineral or spring waters",
              "1222_Soft drinks",
              "1223_Fruit and vegetable juices",
              "2111_Spirits and liqueurs",
              "2112_Alcoholic soft drinks",
              "2121_Wine from grapes",
              "2122_Wine from other fruits",
              "2123_Fortified wines",
              "2124_Wine-based drinks",
              "2131_Lager beer",
              "2132_Other alcoholic beer",
              "2133_Low and non-alcoholic beer",
              "2134_Beer-based drinks",
              "2201_Cigarettes",
              "2202_Cigars",
              "2203_Other tobacco products",
              "9999_Non-Food",
              "1116_Pasta products and couscous",
              "1122_Pork",
              "1171_Fresh or chilled vegetables other than potatoes and other tubers",
              "1161_Fresh or chilled fruit",
              "1115_Pizza and quiche",
              "1111_Rice",
              "1112_Flours and other cereals",
              "1121_Beef and veal",
              "1113_Bread",
              "1124_Poultry",
              "1127_Dried, salted or smoked meat"
            ],
            "_view_name": "DropdownView",
            "style": "IPY_MODEL_bddc44013bf34fdeaa731eca1c1b9665",
            "_dom_classes": [],
            "description": "Select category to label:",
            "_model_name": "DropdownModel",
            "index": 7,
            "_view_module": "@jupyter-widgets/controls",
            "_model_module_version": "1.5.0",
            "_view_count": null,
            "disabled": false,
            "_view_module_version": "1.5.0",
            "description_tooltip": null,
            "_model_module": "@jupyter-widgets/controls",
            "layout": "IPY_MODEL_030338dbe8e343738fa27f85cc2ec936"
          }
        },
        "3ab591c8ea9244bdb3aadde68f1a8160": {
          "model_module": "@jupyter-widgets/output",
          "model_name": "OutputModel",
          "state": {
            "_view_name": "OutputView",
            "msg_id": "",
            "_dom_classes": [],
            "_model_name": "OutputModel",
            "outputs": [],
            "_view_module": "@jupyter-widgets/output",
            "_model_module_version": "1.0.0",
            "_view_count": null,
            "_view_module_version": "1.0.0",
            "layout": "IPY_MODEL_ec9b9791ba3f4987b70e0601c4db5420",
            "_model_module": "@jupyter-widgets/output"
          }
        },
        "327db03e60ab453d8c33e97ba9ab1843": {
          "model_module": "@jupyter-widgets/controls",
          "model_name": "DescriptionStyleModel",
          "state": {
            "_view_name": "StyleView",
            "_model_name": "DescriptionStyleModel",
            "description_width": "",
            "_view_module": "@jupyter-widgets/base",
            "_model_module_version": "1.5.0",
            "_view_count": null,
            "_view_module_version": "1.2.0",
            "_model_module": "@jupyter-widgets/controls"
          }
        },
        "7e20b4f054b74c0fab294b880b0cdb9a": {
          "model_module": "@jupyter-widgets/base",
          "model_name": "LayoutModel",
          "state": {
            "_view_name": "LayoutView",
            "grid_template_rows": null,
            "right": null,
            "justify_content": null,
            "_view_module": "@jupyter-widgets/base",
            "overflow": null,
            "_model_module_version": "1.2.0",
            "_view_count": null,
            "flex_flow": null,
            "width": "80%",
            "min_width": null,
            "border": null,
            "align_items": null,
            "bottom": null,
            "_model_module": "@jupyter-widgets/base",
            "top": null,
            "grid_column": null,
            "overflow_y": null,
            "overflow_x": null,
            "grid_auto_flow": null,
            "grid_area": null,
            "grid_template_columns": null,
            "flex": null,
            "_model_name": "LayoutModel",
            "justify_items": null,
            "grid_row": null,
            "max_height": null,
            "align_content": null,
            "visibility": null,
            "align_self": null,
            "height": "40px",
            "min_height": null,
            "padding": null,
            "grid_auto_rows": null,
            "grid_gap": null,
            "max_width": null,
            "order": null,
            "_view_module_version": "1.2.0",
            "grid_template_areas": null,
            "object_position": null,
            "object_fit": null,
            "grid_auto_columns": null,
            "margin": null,
            "display": null,
            "left": null
          }
        },
        "dd2afaa4bbff40569e86efdf79281142": {
          "model_module": "@jupyter-widgets/controls",
          "model_name": "DescriptionStyleModel",
          "state": {
            "_view_name": "StyleView",
            "_model_name": "DescriptionStyleModel",
            "description_width": "",
            "_view_module": "@jupyter-widgets/base",
            "_model_module_version": "1.5.0",
            "_view_count": null,
            "_view_module_version": "1.2.0",
            "_model_module": "@jupyter-widgets/controls"
          }
        },
        "1a4cc0d93d7a4c16b22d9ec204663700": {
          "model_module": "@jupyter-widgets/base",
          "model_name": "LayoutModel",
          "state": {
            "_view_name": "LayoutView",
            "grid_template_rows": null,
            "right": null,
            "justify_content": null,
            "_view_module": "@jupyter-widgets/base",
            "overflow": null,
            "_model_module_version": "1.2.0",
            "_view_count": null,
            "flex_flow": null,
            "width": "80%",
            "min_width": null,
            "border": null,
            "align_items": null,
            "bottom": null,
            "_model_module": "@jupyter-widgets/base",
            "top": null,
            "grid_column": null,
            "overflow_y": null,
            "overflow_x": null,
            "grid_auto_flow": null,
            "grid_area": null,
            "grid_template_columns": null,
            "flex": null,
            "_model_name": "LayoutModel",
            "justify_items": null,
            "grid_row": null,
            "max_height": null,
            "align_content": null,
            "visibility": null,
            "align_self": null,
            "height": "40px",
            "min_height": null,
            "padding": null,
            "grid_auto_rows": null,
            "grid_gap": null,
            "max_width": null,
            "order": null,
            "_view_module_version": "1.2.0",
            "grid_template_areas": null,
            "object_position": null,
            "object_fit": null,
            "grid_auto_columns": null,
            "margin": null,
            "display": null,
            "left": null
          }
        },
        "b8e5a4aabc234099a939a518effcd580": {
          "model_module": "@jupyter-widgets/controls",
          "model_name": "DescriptionStyleModel",
          "state": {
            "_view_name": "StyleView",
            "_model_name": "DescriptionStyleModel",
            "description_width": "",
            "_view_module": "@jupyter-widgets/base",
            "_model_module_version": "1.5.0",
            "_view_count": null,
            "_view_module_version": "1.2.0",
            "_model_module": "@jupyter-widgets/controls"
          }
        },
        "8a903389867149afbebd8e667aff2ff9": {
          "model_module": "@jupyter-widgets/base",
          "model_name": "LayoutModel",
          "state": {
            "_view_name": "LayoutView",
            "grid_template_rows": null,
            "right": null,
            "justify_content": null,
            "_view_module": "@jupyter-widgets/base",
            "overflow": null,
            "_model_module_version": "1.2.0",
            "_view_count": null,
            "flex_flow": null,
            "width": "80%",
            "min_width": null,
            "border": null,
            "align_items": null,
            "bottom": null,
            "_model_module": "@jupyter-widgets/base",
            "top": null,
            "grid_column": null,
            "overflow_y": null,
            "overflow_x": null,
            "grid_auto_flow": null,
            "grid_area": null,
            "grid_template_columns": null,
            "flex": null,
            "_model_name": "LayoutModel",
            "justify_items": null,
            "grid_row": null,
            "max_height": null,
            "align_content": null,
            "visibility": null,
            "align_self": null,
            "height": "40px",
            "min_height": null,
            "padding": null,
            "grid_auto_rows": null,
            "grid_gap": null,
            "max_width": null,
            "order": null,
            "_view_module_version": "1.2.0",
            "grid_template_areas": null,
            "object_position": null,
            "object_fit": null,
            "grid_auto_columns": null,
            "margin": null,
            "display": null,
            "left": null
          }
        },
        "41d2dad7f2c649e88399d5720c29b194": {
          "model_module": "@jupyter-widgets/base",
          "model_name": "LayoutModel",
          "state": {
            "_view_name": "LayoutView",
            "grid_template_rows": null,
            "right": null,
            "justify_content": null,
            "_view_module": "@jupyter-widgets/base",
            "overflow": null,
            "_model_module_version": "1.2.0",
            "_view_count": null,
            "flex_flow": "column",
            "width": "80%",
            "min_width": null,
            "border": null,
            "align_items": "stretch",
            "bottom": null,
            "_model_module": "@jupyter-widgets/base",
            "top": null,
            "grid_column": null,
            "overflow_y": null,
            "overflow_x": null,
            "grid_auto_flow": null,
            "grid_area": null,
            "grid_template_columns": null,
            "flex": null,
            "_model_name": "LayoutModel",
            "justify_items": null,
            "grid_row": null,
            "max_height": null,
            "align_content": "center",
            "visibility": null,
            "align_self": null,
            "height": null,
            "min_height": null,
            "padding": null,
            "grid_auto_rows": null,
            "grid_gap": null,
            "max_width": null,
            "order": null,
            "_view_module_version": "1.2.0",
            "grid_template_areas": null,
            "object_position": null,
            "object_fit": null,
            "grid_auto_columns": null,
            "margin": null,
            "display": "flex",
            "left": null
          }
        },
        "dfa270dbda874a71ba15bd70ae013f50": {
          "model_module": "@jupyter-widgets/controls",
          "model_name": "DropdownModel",
          "state": {
            "_options_labels": [
              "1111_Rice",
              "1112_Flours and other cereals",
              "1113_Bread",
              "1114_Other bakery products",
              "1115_Pizza and quiche",
              "1116_Pasta products and couscous",
              "1117_Breakfast cereals",
              "1118_Other cereal products",
              "1121_Beef and veal",
              "1122_Pork",
              "1123_Lamb and goat",
              "1124_Poultry",
              "1125_Other meats",
              "1126_Edible offal",
              "1127_Dried, salted or smoked meat",
              "1128_Other meat preparations",
              "1131_Fresh or chilled fish",
              "1132_Frozen fish",
              "1133_Fresh or chilled seafood",
              "1134_Frozen seafood",
              "1135_Dried, smoked or salted fish and seafood",
              "1136_Other preserved or processed fish and seafood-based preparations",
              "1141_Fresh whole milk",
              "1142_Fresh low fat milk",
              "1143_Preserved milk",
              "1144_Yoghurt",
              "1145_Cheese and curd",
              "1146_Other milk products",
              "1147_Eggs",
              "1151_Butter",
              "1152_Margarine and other vegetable fats",
              "1153_Olive oil",
              "1154_Other edible oils",
              "1155_Other edible animal fats",
              "1161_Fresh or chilled fruit",
              "1162_Frozen fruit",
              "1163_Dried fruit and nuts",
              "1164_Preserved fruit and fruit-based products",
              "1171_Fresh or chilled vegetables other than potatoes and other tubers",
              "1172_Frozen vegetables other than potatoes and other tubers",
              "1173_Dried vegetables, other preserved or processed vegetables",
              "1174_Potatoes",
              "1175_Crisps",
              "1176_Other tubers and products of tuber vegetables",
              "1181_Sugar",
              "1182_Jams, marmalades and honey",
              "1183_Chocolate",
              "1184_Confectionery products",
              "1185_Edible ices and ice cream",
              "1186_Artificial sugar substitutes",
              "1191_Sauces, condiments",
              "1192_Salt, spices and culinary herbs",
              "1193_Baby food",
              "1194_Ready-made meals",
              "1199_Other food products n.e.c.",
              "1211_Coffee",
              "1212_Tea",
              "1213_Cocoa and powdered chocolate",
              "1221_Mineral or spring waters",
              "1222_Soft drinks",
              "1223_Fruit and vegetable juices",
              "2111_Spirits and liqueurs",
              "2112_Alcoholic soft drinks",
              "2121_Wine from grapes",
              "2122_Wine from other fruits",
              "2123_Fortified wines",
              "2124_Wine-based drinks",
              "2131_Lager beer",
              "2132_Other alcoholic beer",
              "2133_Low and non-alcoholic beer",
              "2134_Beer-based drinks",
              "2201_Cigarettes",
              "2202_Cigars",
              "2203_Other tobacco products",
              "9999_Non-Food"
            ],
            "_view_name": "DropdownView",
            "style": "IPY_MODEL_eb2bf7ae2241425089d9f93282733f13",
            "_dom_classes": [],
            "description": "COICOP 5:",
            "_model_name": "DropdownModel",
            "index": 16,
            "_view_module": "@jupyter-widgets/controls",
            "_model_module_version": "1.5.0",
            "_view_count": null,
            "disabled": false,
            "_view_module_version": "1.5.0",
            "description_tooltip": null,
            "_model_module": "@jupyter-widgets/controls",
            "layout": "IPY_MODEL_c9e773c5d59f4c899d60f778dbfa9200"
          }
        },
        "c3b7a6c658f54983885aac38a64abc09": {
          "model_module": "@jupyter-widgets/output",
          "model_name": "OutputModel",
          "state": {
            "_view_name": "OutputView",
            "msg_id": "",
            "_dom_classes": [],
            "_model_name": "OutputModel",
            "outputs": [],
            "_view_module": "@jupyter-widgets/output",
            "_model_module_version": "1.0.0",
            "_view_count": null,
            "_view_module_version": "1.0.0",
            "layout": "IPY_MODEL_aa2335b4266b4c5c9fd6f2b334a2861d",
            "_model_module": "@jupyter-widgets/output"
          }
        },
        "cf6622c8206442a59df0fb08eb039ae5": {
          "model_module": "@jupyter-widgets/base",
          "model_name": "LayoutModel",
          "state": {
            "_view_name": "LayoutView",
            "grid_template_rows": null,
            "right": null,
            "justify_content": null,
            "_view_module": "@jupyter-widgets/base",
            "overflow": null,
            "_model_module_version": "1.2.0",
            "_view_count": null,
            "flex_flow": "row",
            "width": "80%",
            "min_width": null,
            "border": null,
            "align_items": "stretch",
            "bottom": null,
            "_model_module": "@jupyter-widgets/base",
            "top": null,
            "grid_column": null,
            "overflow_y": null,
            "overflow_x": null,
            "grid_auto_flow": null,
            "grid_area": null,
            "grid_template_columns": null,
            "flex": null,
            "_model_name": "LayoutModel",
            "justify_items": null,
            "grid_row": null,
            "max_height": null,
            "align_content": "center",
            "visibility": null,
            "align_self": null,
            "height": null,
            "min_height": null,
            "padding": null,
            "grid_auto_rows": null,
            "grid_gap": null,
            "max_width": null,
            "order": null,
            "_view_module_version": "1.2.0",
            "grid_template_areas": null,
            "object_position": null,
            "object_fit": null,
            "grid_auto_columns": null,
            "margin": null,
            "display": "flex",
            "left": null
          }
        },
        "ce2c9795e37f408f87ad93aa4f2e5264": {
          "model_module": "@jupyter-widgets/controls",
          "model_name": "ButtonModel",
          "state": {
            "_view_name": "ButtonView",
            "style": "IPY_MODEL_8e1b0229639f4990856ec3148d71a2d4",
            "_dom_classes": [],
            "description": "Next",
            "_model_name": "ButtonModel",
            "button_style": "",
            "_view_module": "@jupyter-widgets/controls",
            "_model_module_version": "1.5.0",
            "tooltip": "",
            "_view_count": null,
            "disabled": false,
            "_view_module_version": "1.5.0",
            "layout": "IPY_MODEL_d81946bf5b7b47119439b81cd9abf369",
            "_model_module": "@jupyter-widgets/controls",
            "icon": ""
          }
        },
        "2f8a8c2b09c94ce58ded835a3dc595b9": {
          "model_module": "@jupyter-widgets/output",
          "model_name": "OutputModel",
          "state": {
            "_view_name": "OutputView",
            "msg_id": "",
            "_dom_classes": [],
            "_model_name": "OutputModel",
            "outputs": [],
            "_view_module": "@jupyter-widgets/output",
            "_model_module_version": "1.0.0",
            "_view_count": null,
            "_view_module_version": "1.0.0",
            "layout": "IPY_MODEL_bb7924d7417b4e8e8f9abfa25b8d2938",
            "_model_module": "@jupyter-widgets/output"
          }
        },
        "182d0536caeb402394c3d2d3e0531dad": {
          "model_module": "@jupyter-widgets/controls",
          "model_name": "ButtonModel",
          "state": {
            "_view_name": "ButtonView",
            "style": "IPY_MODEL_6668e600d222482889cdadec5f6fc0f1",
            "_dom_classes": [],
            "description": "Save",
            "_model_name": "ButtonModel",
            "button_style": "",
            "_view_module": "@jupyter-widgets/controls",
            "_model_module_version": "1.5.0",
            "tooltip": "",
            "_view_count": null,
            "disabled": false,
            "_view_module_version": "1.5.0",
            "layout": "IPY_MODEL_75bfc21c8a7d4977bb9f594412604e2d",
            "_model_module": "@jupyter-widgets/controls",
            "icon": ""
          }
        },
        "21e4a8b035514d2c99d7aa25b6dbbc09": {
          "model_module": "@jupyter-widgets/output",
          "model_name": "OutputModel",
          "state": {
            "_view_name": "OutputView",
            "msg_id": "",
            "_dom_classes": [],
            "_model_name": "OutputModel",
            "outputs": [],
            "_view_module": "@jupyter-widgets/output",
            "_model_module_version": "1.0.0",
            "_view_count": null,
            "_view_module_version": "1.0.0",
            "layout": "IPY_MODEL_234fde6f1c5a48b99d5e0a9010febe92",
            "_model_module": "@jupyter-widgets/output"
          }
        },
        "bddc44013bf34fdeaa731eca1c1b9665": {
          "model_module": "@jupyter-widgets/controls",
          "model_name": "DescriptionStyleModel",
          "state": {
            "_view_name": "StyleView",
            "_model_name": "DescriptionStyleModel",
            "description_width": "",
            "_view_module": "@jupyter-widgets/base",
            "_model_module_version": "1.5.0",
            "_view_count": null,
            "_view_module_version": "1.2.0",
            "_model_module": "@jupyter-widgets/controls"
          }
        },
        "030338dbe8e343738fa27f85cc2ec936": {
          "model_module": "@jupyter-widgets/base",
          "model_name": "LayoutModel",
          "state": {
            "_view_name": "LayoutView",
            "grid_template_rows": null,
            "right": null,
            "justify_content": null,
            "_view_module": "@jupyter-widgets/base",
            "overflow": null,
            "_model_module_version": "1.2.0",
            "_view_count": null,
            "flex_flow": null,
            "width": "50%",
            "min_width": null,
            "border": null,
            "align_items": null,
            "bottom": null,
            "_model_module": "@jupyter-widgets/base",
            "top": null,
            "grid_column": null,
            "overflow_y": null,
            "overflow_x": null,
            "grid_auto_flow": null,
            "grid_area": null,
            "grid_template_columns": null,
            "flex": null,
            "_model_name": "LayoutModel",
            "justify_items": null,
            "grid_row": null,
            "max_height": null,
            "align_content": null,
            "visibility": null,
            "align_self": null,
            "height": "60px",
            "min_height": null,
            "padding": null,
            "grid_auto_rows": null,
            "grid_gap": null,
            "max_width": null,
            "order": null,
            "_view_module_version": "1.2.0",
            "grid_template_areas": null,
            "object_position": null,
            "object_fit": null,
            "grid_auto_columns": null,
            "margin": null,
            "display": null,
            "left": null
          }
        },
        "eb2bf7ae2241425089d9f93282733f13": {
          "model_module": "@jupyter-widgets/controls",
          "model_name": "DescriptionStyleModel",
          "state": {
            "_view_name": "StyleView",
            "_model_name": "DescriptionStyleModel",
            "description_width": "",
            "_view_module": "@jupyter-widgets/base",
            "_model_module_version": "1.5.0",
            "_view_count": null,
            "_view_module_version": "1.2.0",
            "_model_module": "@jupyter-widgets/controls"
          }
        },
        "c9e773c5d59f4c899d60f778dbfa9200": {
          "model_module": "@jupyter-widgets/base",
          "model_name": "LayoutModel",
          "state": {
            "_view_name": "LayoutView",
            "grid_template_rows": null,
            "right": null,
            "justify_content": null,
            "_view_module": "@jupyter-widgets/base",
            "overflow": null,
            "_model_module_version": "1.2.0",
            "_view_count": null,
            "flex_flow": null,
            "width": "80%",
            "min_width": null,
            "border": null,
            "align_items": null,
            "bottom": null,
            "_model_module": "@jupyter-widgets/base",
            "top": null,
            "grid_column": null,
            "overflow_y": null,
            "overflow_x": null,
            "grid_auto_flow": null,
            "grid_area": null,
            "grid_template_columns": null,
            "flex": null,
            "_model_name": "LayoutModel",
            "justify_items": null,
            "grid_row": null,
            "max_height": null,
            "align_content": null,
            "visibility": null,
            "align_self": null,
            "height": "40px",
            "min_height": null,
            "padding": null,
            "grid_auto_rows": null,
            "grid_gap": null,
            "max_width": null,
            "order": null,
            "_view_module_version": "1.2.0",
            "grid_template_areas": null,
            "object_position": null,
            "object_fit": null,
            "grid_auto_columns": null,
            "margin": null,
            "display": null,
            "left": null
          }
        },
        "8e1b0229639f4990856ec3148d71a2d4": {
          "model_module": "@jupyter-widgets/controls",
          "model_name": "ButtonStyleModel",
          "state": {
            "_view_name": "StyleView",
            "_model_name": "ButtonStyleModel",
            "_view_module": "@jupyter-widgets/base",
            "_model_module_version": "1.5.0",
            "_view_count": null,
            "button_color": null,
            "font_weight": "",
            "_view_module_version": "1.2.0",
            "_model_module": "@jupyter-widgets/controls"
          }
        },
        "d81946bf5b7b47119439b81cd9abf369": {
          "model_module": "@jupyter-widgets/base",
          "model_name": "LayoutModel",
          "state": {
            "_view_name": "LayoutView",
            "grid_template_rows": null,
            "right": null,
            "justify_content": null,
            "_view_module": "@jupyter-widgets/base",
            "overflow": null,
            "_model_module_version": "1.2.0",
            "_view_count": null,
            "flex_flow": null,
            "width": null,
            "min_width": null,
            "border": null,
            "align_items": null,
            "bottom": null,
            "_model_module": "@jupyter-widgets/base",
            "top": null,
            "grid_column": null,
            "overflow_y": null,
            "overflow_x": null,
            "grid_auto_flow": null,
            "grid_area": null,
            "grid_template_columns": null,
            "flex": null,
            "_model_name": "LayoutModel",
            "justify_items": null,
            "grid_row": null,
            "max_height": null,
            "align_content": null,
            "visibility": null,
            "align_self": null,
            "height": null,
            "min_height": null,
            "padding": null,
            "grid_auto_rows": null,
            "grid_gap": null,
            "max_width": null,
            "order": null,
            "_view_module_version": "1.2.0",
            "grid_template_areas": null,
            "object_position": null,
            "object_fit": null,
            "grid_auto_columns": null,
            "margin": null,
            "display": null,
            "left": null
          }
        },
        "6668e600d222482889cdadec5f6fc0f1": {
          "model_module": "@jupyter-widgets/controls",
          "model_name": "ButtonStyleModel",
          "state": {
            "_view_name": "StyleView",
            "_model_name": "ButtonStyleModel",
            "_view_module": "@jupyter-widgets/base",
            "_model_module_version": "1.5.0",
            "_view_count": null,
            "button_color": null,
            "font_weight": "",
            "_view_module_version": "1.2.0",
            "_model_module": "@jupyter-widgets/controls"
          }
        },
        "75bfc21c8a7d4977bb9f594412604e2d": {
          "model_module": "@jupyter-widgets/base",
          "model_name": "LayoutModel",
          "state": {
            "_view_name": "LayoutView",
            "grid_template_rows": null,
            "right": null,
            "justify_content": null,
            "_view_module": "@jupyter-widgets/base",
            "overflow": null,
            "_model_module_version": "1.2.0",
            "_view_count": null,
            "flex_flow": null,
            "width": null,
            "min_width": null,
            "border": null,
            "align_items": null,
            "bottom": null,
            "_model_module": "@jupyter-widgets/base",
            "top": null,
            "grid_column": null,
            "overflow_y": null,
            "overflow_x": null,
            "grid_auto_flow": null,
            "grid_area": null,
            "grid_template_columns": null,
            "flex": null,
            "_model_name": "LayoutModel",
            "justify_items": null,
            "grid_row": null,
            "max_height": null,
            "align_content": null,
            "visibility": null,
            "align_self": null,
            "height": null,
            "min_height": null,
            "padding": null,
            "grid_auto_rows": null,
            "grid_gap": null,
            "max_width": null,
            "order": null,
            "_view_module_version": "1.2.0",
            "grid_template_areas": null,
            "object_position": null,
            "object_fit": null,
            "grid_auto_columns": null,
            "margin": null,
            "display": null,
            "left": null
          }
        },
        "ec9b9791ba3f4987b70e0601c4db5420": {
          "model_module": "@jupyter-widgets/base",
          "model_name": "LayoutModel",
          "state": {
            "_view_name": "LayoutView",
            "grid_template_rows": null,
            "right": null,
            "justify_content": null,
            "_view_module": "@jupyter-widgets/base",
            "overflow": null,
            "_model_module_version": "1.2.0",
            "_view_count": null,
            "flex_flow": null,
            "width": null,
            "min_width": null,
            "border": null,
            "align_items": null,
            "bottom": null,
            "_model_module": "@jupyter-widgets/base",
            "top": null,
            "grid_column": null,
            "overflow_y": null,
            "overflow_x": null,
            "grid_auto_flow": null,
            "grid_area": null,
            "grid_template_columns": null,
            "flex": null,
            "_model_name": "LayoutModel",
            "justify_items": null,
            "grid_row": null,
            "max_height": null,
            "align_content": null,
            "visibility": null,
            "align_self": null,
            "height": null,
            "min_height": null,
            "padding": null,
            "grid_auto_rows": null,
            "grid_gap": null,
            "max_width": null,
            "order": null,
            "_view_module_version": "1.2.0",
            "grid_template_areas": null,
            "object_position": null,
            "object_fit": null,
            "grid_auto_columns": null,
            "margin": null,
            "display": null,
            "left": null
          }
        },
        "aa2335b4266b4c5c9fd6f2b334a2861d": {
          "model_module": "@jupyter-widgets/base",
          "model_name": "LayoutModel",
          "state": {
            "_view_name": "LayoutView",
            "grid_template_rows": null,
            "right": null,
            "justify_content": null,
            "_view_module": "@jupyter-widgets/base",
            "overflow": null,
            "_model_module_version": "1.2.0",
            "_view_count": null,
            "flex_flow": null,
            "width": null,
            "min_width": null,
            "border": null,
            "align_items": null,
            "bottom": null,
            "_model_module": "@jupyter-widgets/base",
            "top": null,
            "grid_column": null,
            "overflow_y": null,
            "overflow_x": null,
            "grid_auto_flow": null,
            "grid_area": null,
            "grid_template_columns": null,
            "flex": null,
            "_model_name": "LayoutModel",
            "justify_items": null,
            "grid_row": null,
            "max_height": null,
            "align_content": null,
            "visibility": null,
            "align_self": null,
            "height": null,
            "min_height": null,
            "padding": null,
            "grid_auto_rows": null,
            "grid_gap": null,
            "max_width": null,
            "order": null,
            "_view_module_version": "1.2.0",
            "grid_template_areas": null,
            "object_position": null,
            "object_fit": null,
            "grid_auto_columns": null,
            "margin": null,
            "display": null,
            "left": null
          }
        },
        "bb7924d7417b4e8e8f9abfa25b8d2938": {
          "model_module": "@jupyter-widgets/base",
          "model_name": "LayoutModel",
          "state": {
            "_view_name": "LayoutView",
            "grid_template_rows": null,
            "right": null,
            "justify_content": null,
            "_view_module": "@jupyter-widgets/base",
            "overflow": null,
            "_model_module_version": "1.2.0",
            "_view_count": null,
            "flex_flow": null,
            "width": null,
            "min_width": null,
            "border": null,
            "align_items": null,
            "bottom": null,
            "_model_module": "@jupyter-widgets/base",
            "top": null,
            "grid_column": null,
            "overflow_y": null,
            "overflow_x": null,
            "grid_auto_flow": null,
            "grid_area": null,
            "grid_template_columns": null,
            "flex": null,
            "_model_name": "LayoutModel",
            "justify_items": null,
            "grid_row": null,
            "max_height": null,
            "align_content": null,
            "visibility": null,
            "align_self": null,
            "height": null,
            "min_height": null,
            "padding": null,
            "grid_auto_rows": null,
            "grid_gap": null,
            "max_width": null,
            "order": null,
            "_view_module_version": "1.2.0",
            "grid_template_areas": null,
            "object_position": null,
            "object_fit": null,
            "grid_auto_columns": null,
            "margin": null,
            "display": null,
            "left": null
          }
        },
        "234fde6f1c5a48b99d5e0a9010febe92": {
          "model_module": "@jupyter-widgets/base",
          "model_name": "LayoutModel",
          "state": {
            "_view_name": "LayoutView",
            "grid_template_rows": null,
            "right": null,
            "justify_content": null,
            "_view_module": "@jupyter-widgets/base",
            "overflow": null,
            "_model_module_version": "1.2.0",
            "_view_count": null,
            "flex_flow": null,
            "width": null,
            "min_width": null,
            "border": null,
            "align_items": null,
            "bottom": null,
            "_model_module": "@jupyter-widgets/base",
            "top": null,
            "grid_column": null,
            "overflow_y": null,
            "overflow_x": null,
            "grid_auto_flow": null,
            "grid_area": null,
            "grid_template_columns": null,
            "flex": null,
            "_model_name": "LayoutModel",
            "justify_items": null,
            "grid_row": null,
            "max_height": null,
            "align_content": null,
            "visibility": null,
            "align_self": null,
            "height": null,
            "min_height": null,
            "padding": null,
            "grid_auto_rows": null,
            "grid_gap": null,
            "max_width": null,
            "order": null,
            "_view_module_version": "1.2.0",
            "grid_template_areas": null,
            "object_position": null,
            "object_fit": null,
            "grid_auto_columns": null,
            "margin": null,
            "display": null,
            "left": null
          }
        }
      }
    }
  },
  "cells": [
    {
      "cell_type": "markdown",
      "metadata": {
        "id": "view-in-github",
        "colab_type": "text"
      },
      "source": [
        "<a href=\"https://colab.research.google.com/github/ELehmann91/Thesis_Multilingual_Transferlearning/blob/master/Text_Annotation_Tool_BdF.ipynb\" target=\"_parent\"><img src=\"https://colab.research.google.com/assets/colab-badge.svg\" alt=\"Open In Colab\"/></a>"
      ]
    },
    {
      "cell_type": "markdown",
      "metadata": {
        "id": "c8aX4ibmIzSO",
        "colab_type": "text"
      },
      "source": [
        "<p><img alt=\"Colaboratory logo\" height=\"45px\" src=\"/img/colab_favicon.ico\" align=\"left\" hspace=\"10px\" vspace=\"0px\"></p>\n",
        "\n",
        "<h1>What is Colaboratory?</h1>\n",
        "\n",
        "Colaboratory, or \"Colab\" for short, allows you to write and execute Python in your browser, with \n",
        "- Zero configuration required\n",
        "- Free access to GPUs\n",
        "- Easy sharing\n",
        "\n",
        "Whether you're a **student**, a **data scientist** or an **AI researcher**, Colab can make your work easier. Watch [Introduction to Colab](https://www.youtube.com/watch?v=inN8seMm7UI) to learn more, or just get started below!"
      ]
    },
    {
      "cell_type": "markdown",
      "metadata": {
        "id": "j-9rGzn0Zki5",
        "colab_type": "text"
      },
      "source": [
        "# ECOICOP Annotation\n",
        "  \n",
        "Use this tool to annotate your product texts with the correspondant eCoiCop category. \n"
      ]
    },
    {
      "cell_type": "markdown",
      "metadata": {
        "id": "P8EyWQfdK9jR",
        "colab_type": "text"
      },
      "source": [
        "## Get code from GitHub\n",
        "  \n",
        "At first we need to download the code from Github to here."
      ]
    },
    {
      "cell_type": "code",
      "metadata": {
        "id": "ub8zb9s7v9QF",
        "colab_type": "code",
        "colab": {}
      },
      "source": [
        "%%capture\n",
        "!pip install eli5\n",
        "!git clone 'https://github.com/ELehmann91/Thesis_Multilingual_Transferlearning'\n",
        " \n",
        "%cd Thesis_Multilingual_Transferlearning\n",
        "import labeler_cc5\n",
        "import coicop_model\n",
        "import pandas as pd\n",
        "import numpy as np\n",
        "from tqdm import tqdm\n",
        "import io"
      ],
      "execution_count": 1,
      "outputs": []
    },
    {
      "cell_type": "markdown",
      "metadata": {
        "id": "DIJ6I9wWjUyL",
        "colab_type": "text"
      },
      "source": [
        "## Upload CSV / Excel from Local Drive"
      ]
    },
    {
      "cell_type": "markdown",
      "metadata": {
        "id": "FYHE2mkbjdqq",
        "colab_type": "text"
      },
      "source": [
        "To upload from your local drive, start with the following code:"
      ]
    },
    {
      "cell_type": "code",
      "metadata": {
        "id": "Cv53M_9uibxg",
        "colab_type": "code",
        "colab": {
          "resources": {
            "http://localhost:8080/nbextensions/google.colab/files.js": {
              "data": "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",
              "ok": true,
              "headers": [
                [
                  "content-type",
                  "application/javascript"
                ]
              ],
              "status": 200,
              "status_text": ""
            }
          },
          "base_uri": "https://localhost:8080/",
          "height": 73
        },
        "outputId": "89c991f6-9251-40d9-ef52-ab8c8cf85575"
      },
      "source": [
        "from google.colab import files\n",
        "uploaded = files.upload()"
      ],
      "execution_count": null,
      "outputs": [
        {
          "output_type": "display_data",
          "data": {
            "text/html": [
              "\n",
              "     <input type=\"file\" id=\"files-8f06af3f-8154-42ff-a60d-32c2a1b4fbc2\" name=\"files[]\" multiple disabled />\n",
              "     <output id=\"result-8f06af3f-8154-42ff-a60d-32c2a1b4fbc2\">\n",
              "      Upload widget is only available when the cell has been executed in the\n",
              "      current browser session. Please rerun this cell to enable.\n",
              "      </output>\n",
              "      <script src=\"/nbextensions/google.colab/files.js\"></script> "
            ],
            "text/plain": [
              "<IPython.core.display.HTML object>"
            ]
          },
          "metadata": {
            "tags": []
          }
        },
        {
          "output_type": "stream",
          "text": [
            "Saving eantoclassifyECB.csv to eantoclassifyECB (1).csv\n"
          ],
          "name": "stdout"
        }
      ]
    },
    {
      "cell_type": "markdown",
      "metadata": {
        "id": "A7QkulHTjkyK",
        "colab_type": "text"
      },
      "source": [
        "It will prompt you to select a file. Click on “Choose Files” then select and upload the file. Wait for the file to be 100% uploaded. You should see the name of the file once Colab has uploaded it.\n",
        "Finally, type in the following code to import it into a dataframe (make sure the filename matches the name of the uploaded file)."
      ]
    },
    {
      "cell_type": "code",
      "metadata": {
        "id": "-bSqZRGhWSy8",
        "colab_type": "code",
        "colab": {}
      },
      "source": [
        "#stata\n",
        "df = pd.read_stata('table_BCE_finale.dta')"
      ],
      "execution_count": null,
      "outputs": []
    },
    {
      "cell_type": "code",
      "metadata": {
        "id": "VmC0fPkzjstK",
        "colab_type": "code",
        "colab": {}
      },
      "source": [
        "df = pd.read_csv(io.BytesIO(uploaded['eantoclassifyECB.csv']),sep=',')\n",
        "#df = pd.read_excel(io.BytesIO(uploaded['carrfour_trans_pred.xlsx']),encoding='ANSI')\n",
        "#df = pd.read_excel(uploaded['carrfour_trans_pred.xlsx'],encoding='unicode')"
      ],
      "execution_count": null,
      "outputs": []
    },
    {
      "cell_type": "code",
      "metadata": {
        "id": "w_8lIfRA-qul",
        "colab_type": "code",
        "colab": {
          "base_uri": "https://localhost:8080/",
          "height": 124
        },
        "outputId": "8815fd2a-e85d-41e2-e2b2-ec34b6da0b3f"
      },
      "source": [
        "# Dataset is now stored in a Pandas Dataframe\n",
        "#df['productCategory'] = df['productCategory'].apply(lambda x: str(x).replace('suesses','süßes').replace('ue','ü').replace('ae','ä').replace('oe','ö'))\n",
        "print(df.shape)\n",
        "df[:2]"
      ],
      "execution_count": null,
      "outputs": [
        {
          "output_type": "stream",
          "text": [
            "(132639, 3)\n"
          ],
          "name": "stdout"
        },
        {
          "output_type": "execute_result",
          "data": {
            "text/html": [
              "<div>\n",
              "<style scoped>\n",
              "    .dataframe tbody tr th:only-of-type {\n",
              "        vertical-align: middle;\n",
              "    }\n",
              "\n",
              "    .dataframe tbody tr th {\n",
              "        vertical-align: top;\n",
              "    }\n",
              "\n",
              "    .dataframe thead th {\n",
              "        text-align: right;\n",
              "    }\n",
              "</style>\n",
              "<table border=\"1\" class=\"dataframe\">\n",
              "  <thead>\n",
              "    <tr style=\"text-align: right;\">\n",
              "      <th></th>\n",
              "      <th>ean</th>\n",
              "      <th>title_accent</th>\n",
              "      <th>id</th>\n",
              "    </tr>\n",
              "  </thead>\n",
              "  <tbody>\n",
              "    <tr>\n",
              "      <th>0</th>\n",
              "      <td>30080751</td>\n",
              "      <td>coolwave bonbons sans sucres avec édulcorants,...</td>\n",
              "      <td>1811805</td>\n",
              "    </tr>\n",
              "    <tr>\n",
              "      <th>1</th>\n",
              "      <td>30080768</td>\n",
              "      <td>cool wave fraise, sans sucres, la boite de 28g</td>\n",
              "      <td>1811806</td>\n",
              "    </tr>\n",
              "  </tbody>\n",
              "</table>\n",
              "</div>"
            ],
            "text/plain": [
              "        ean                                       title_accent       id\n",
              "0  30080751  coolwave bonbons sans sucres avec édulcorants,...  1811805\n",
              "1  30080768     cool wave fraise, sans sucres, la boite de 28g  1811806"
            ]
          },
          "metadata": {
            "tags": []
          },
          "execution_count": 83
        }
      ]
    },
    {
      "cell_type": "markdown",
      "metadata": {
        "id": "40G3r2iHjpJT",
        "colab_type": "text"
      },
      "source": [
        "## Upload from Google Drive"
      ]
    },
    {
      "cell_type": "markdown",
      "metadata": {
        "id": "Q7HGsKGs9kTT",
        "colab_type": "text"
      },
      "source": [
        "Loading CSV files stored in your google drive."
      ]
    },
    {
      "cell_type": "code",
      "metadata": {
        "id": "hysvDAyEmMtJ",
        "colab_type": "code",
        "colab": {
          "base_uri": "https://localhost:8080/",
          "height": 124
        },
        "outputId": "96219c8f-670b-4dbe-9dce-36ab260187dc"
      },
      "source": [
        "from google.colab import drive, files\n",
        " \n",
        "drive.mount('/content/gdrive')\n",
        "path ='/content/gdrive/My Drive/Thesis_ecb_ecoicop'"
      ],
      "execution_count": 2,
      "outputs": [
        {
          "output_type": "stream",
          "text": [
            "Go to this URL in a browser: https://accounts.google.com/o/oauth2/auth?client_id=947318989803-6bn6qk8qdgf4n4g3pfee6491hc0brc4i.apps.googleusercontent.com&redirect_uri=urn%3aietf%3awg%3aoauth%3a2.0%3aoob&response_type=code&scope=email%20https%3a%2f%2fwww.googleapis.com%2fauth%2fdocs.test%20https%3a%2f%2fwww.googleapis.com%2fauth%2fdrive%20https%3a%2f%2fwww.googleapis.com%2fauth%2fdrive.photos.readonly%20https%3a%2f%2fwww.googleapis.com%2fauth%2fpeopleapi.readonly\n",
            "\n",
            "Enter your authorization code:\n",
            "··········\n",
            "Mounted at /content/gdrive\n"
          ],
          "name": "stdout"
        }
      ]
    },
    {
      "cell_type": "markdown",
      "metadata": {
        "id": "koAL9Y0-9iha",
        "colab_type": "text"
      },
      "source": [
        "The commands will bring you to a Google Authentication step. You should see a screen with Google Drive File Stream wants to access your Google Account. After you allow permission, copy the given verification code and paste it in the box in Colab.\n",
        "In the notebook, click on the charcoal > on the top left of the notebook and click on Files. Locate the data folder you created earlier and find your data. Right-click on your data and select Copy Path. Store this copied path into a variable and you are ready to go."
      ]
    },
    {
      "cell_type": "markdown",
      "metadata": {
        "id": "hwfdFh_099X8",
        "colab_type": "text"
      },
      "source": [
        "Specify the exact path to your file and the seperator of your file to read it in."
      ]
    },
    {
      "cell_type": "code",
      "metadata": {
        "id": "5mJofN83LgpC",
        "colab_type": "code",
        "cellView": "form",
        "colab": {}
      },
      "source": [
        "#@title Which data do you want to use?\n",
        "file_path = \"auchan.csv\" #@param [\"auchan.csv\", \"ecb_data.csv\", \"carrefour.csv\", \"banque_de_france.csv\"] {allow-input: true}"
      ],
      "execution_count": 14,
      "outputs": []
    },
    {
      "cell_type": "code",
      "metadata": {
        "id": "zmjzvOdNOpRA",
        "colab_type": "code",
        "colab": {
          "base_uri": "https://localhost:8080/",
          "height": 35
        },
        "outputId": "bc0bf634-9df1-422f-a1f8-0653987ccada"
      },
      "source": [
        "import pandas as pd\n",
        "data_path = '/data/bdf/'#\n",
        "df = pd.read_csv(path+data_path+file_path,sep='|',index_col=False)\n",
        "print(file_path,'loaded',len(df),'observation')"
      ],
      "execution_count": 15,
      "outputs": [
        {
          "output_type": "stream",
          "text": [
            "auchan.csv loaded 25511 observation\n"
          ],
          "name": "stdout"
        }
      ]
    },
    {
      "cell_type": "markdown",
      "metadata": {
        "id": "bfjiyKlT-OdY",
        "colab_type": "text"
      },
      "source": [
        "Print out the dataframe to see if the import is correct."
      ]
    },
    {
      "cell_type": "markdown",
      "metadata": {
        "id": "0hvKTxOXGnlX",
        "colab_type": "text"
      },
      "source": [
        "# Predict CoiCop Level 4\n",
        "  \n",
        "How does it work? - Word Embeddings (left)\n",
        "* Words are translated in vectors which are learned representations\n",
        "* Embeddings are a multidimensional space (often 300+ dimesnsion) and words which relate to each other are closer in this space\n",
        "* Those spaces can be aligned for different languages\n",
        "* The example shows a three dimensional space with embeddings for three different languages, the translation are idealy close neighbours and the distance between milk and cheese is closer than the distance betwenn milk and potato  \n",
        "more information: https://towardsdatascience.com/introduction-to-word-embeddings-4cf857b12edc\n",
        "  \n",
        "How does it work? - Recurrent Neural Network (right)\n",
        "* Now every word is represented by a vector and the input to the model is a sequence of vectors\n",
        "* LSTM (Long Short Term Memory) Networks are good in solving sequential tasks, because they are able to remember information from previous states (words) and output a representation for the sentence \n",
        "* This representation is used to classify in to the coicop categories  \n",
        "more information: https://towardsdatascience.com/a-beginners-guide-on-sentiment-analysis-with-rnn-9e100627c02e \n",
        "\n",
        "\n"
      ]
    },
    {
      "cell_type": "markdown",
      "metadata": {
        "id": "q_kUPMnHLzyU",
        "colab_type": "text"
      },
      "source": [
        "![embed](https://drive.google.com/uc?id=1AoleK5q47ZTkPCtvxDD6icEpcnLc9viE)"
      ]
    },
    {
      "cell_type": "markdown",
      "metadata": {
        "id": "pFeMdvnl9_5n",
        "colab_type": "text"
      },
      "source": [
        "For the prediction you have to specify the names of certain columns in your dataframe which the tool will use.  \n",
        "* name_col is the column with the product name (mandatory)\n",
        "* category_col is the column with the category given by the supermarked (optional)\n",
        "* url_col is the column with  the url to the product (optional)\n",
        "* lang ist the language of the texts, supports 'de' and 'fr' (mandatory)\n",
        "* label_cat5 is the column with labels,if labeld (optional)\n",
        "\n"
      ]
    },
    {
      "cell_type": "code",
      "metadata": {
        "id": "vuY9MjYOspmd",
        "colab_type": "code",
        "colab": {
          "base_uri": "https://localhost:8080/",
          "height": 319
        },
        "outputId": "16d9a246-94d3-4bef-dec1-3f73ece74c5c"
      },
      "source": [
        "df[:1]"
      ],
      "execution_count": 16,
      "outputs": [
        {
          "output_type": "execute_result",
          "data": {
            "text/html": [
              "<div>\n",
              "<style scoped>\n",
              "    .dataframe tbody tr th:only-of-type {\n",
              "        vertical-align: middle;\n",
              "    }\n",
              "\n",
              "    .dataframe tbody tr th {\n",
              "        vertical-align: top;\n",
              "    }\n",
              "\n",
              "    .dataframe thead th {\n",
              "        text-align: right;\n",
              "    }\n",
              "</style>\n",
              "<table border=\"1\" class=\"dataframe\">\n",
              "  <thead>\n",
              "    <tr style=\"text-align: right;\">\n",
              "      <th></th>\n",
              "      <th>Unnamed: 0</th>\n",
              "      <th>Unnamed: 0.1</th>\n",
              "      <th>Unnamed: 0.1.1</th>\n",
              "      <th>Unnamed: 0.1.1.1</th>\n",
              "      <th>lang</th>\n",
              "      <th>name</th>\n",
              "      <th>categ</th>\n",
              "      <th>prod_desc</th>\n",
              "      <th>text_other</th>\n",
              "      <th>url</th>\n",
              "      <th>words_from_url</th>\n",
              "      <th>unit</th>\n",
              "      <th>cc3</th>\n",
              "      <th>cc4</th>\n",
              "      <th>cc5</th>\n",
              "      <th>cc3_pred</th>\n",
              "      <th>cc4_pred</th>\n",
              "      <th>cc5_pred</th>\n",
              "      <th>shop</th>\n",
              "      <th>brand</th>\n",
              "      <th>price</th>\n",
              "      <th>id</th>\n",
              "      <th>labeld_by</th>\n",
              "      <th>url_text</th>\n",
              "      <th>text</th>\n",
              "      <th>labeled_by</th>\n",
              "      <th>sort_columns</th>\n",
              "      <th>1111_Rice</th>\n",
              "      <th>1112_Flours and other cereals</th>\n",
              "      <th>1113_Bread</th>\n",
              "      <th>1114_Other bakery products</th>\n",
              "      <th>1115_Pizza and quiche</th>\n",
              "      <th>1116_Pasta products and couscous</th>\n",
              "      <th>1117_Breakfast cereals</th>\n",
              "      <th>1118_Other cereal products</th>\n",
              "      <th>1121_Beef and veal</th>\n",
              "      <th>1122_Pork</th>\n",
              "      <th>1123_Lamb and goat</th>\n",
              "      <th>1124_Poultry</th>\n",
              "      <th>1125_Other meats</th>\n",
              "      <th>...</th>\n",
              "      <th>1163_Dried fruit and nuts</th>\n",
              "      <th>1164_Preserved fruit and fruit-based products</th>\n",
              "      <th>1171_Fresh or chilled vegetables other than potatoes and other tubers</th>\n",
              "      <th>1172_Frozen vegetables other than potatoes and other tubers</th>\n",
              "      <th>1173_Dried vegetables, other preserved or processed vegetables</th>\n",
              "      <th>1174_Potatoes</th>\n",
              "      <th>1175_Crisps</th>\n",
              "      <th>1176_Other tubers and products of tuber vegetables</th>\n",
              "      <th>1181_Sugar</th>\n",
              "      <th>1182_Jams, marmalades and honey</th>\n",
              "      <th>1183_Chocolate</th>\n",
              "      <th>1184_Confectionery products</th>\n",
              "      <th>1185_Edible ices and ice cream</th>\n",
              "      <th>1186_Artificial sugar substitutes</th>\n",
              "      <th>1191_Sauces, condiments</th>\n",
              "      <th>1192_Salt, spices and culinary herbs</th>\n",
              "      <th>1193_Baby food</th>\n",
              "      <th>1194_Ready-made meals</th>\n",
              "      <th>1199_Other food products n.e.c.</th>\n",
              "      <th>1211_Coffee</th>\n",
              "      <th>1212_Tea</th>\n",
              "      <th>1213_Cocoa and powdered chocolate</th>\n",
              "      <th>1221_Mineral or spring waters</th>\n",
              "      <th>1222_Soft drinks</th>\n",
              "      <th>1223_Fruit and vegetable juices</th>\n",
              "      <th>2111_Spirits and liqueurs</th>\n",
              "      <th>2112_Alcoholic soft drinks</th>\n",
              "      <th>2121_Wine from grapes</th>\n",
              "      <th>2122_Wine from other fruits</th>\n",
              "      <th>2123_Fortified wines</th>\n",
              "      <th>2124_Wine-based drinks</th>\n",
              "      <th>2131_Lager beer</th>\n",
              "      <th>2132_Other alcoholic beer</th>\n",
              "      <th>2133_Low and non-alcoholic beer</th>\n",
              "      <th>2134_Beer-based drinks</th>\n",
              "      <th>2201_Cigarettes</th>\n",
              "      <th>2202_Cigars</th>\n",
              "      <th>2203_Other tobacco products</th>\n",
              "      <th>9999_Non-Food</th>\n",
              "      <th>max_score</th>\n",
              "    </tr>\n",
              "  </thead>\n",
              "  <tbody>\n",
              "    <tr>\n",
              "      <th>0</th>\n",
              "      <td>0</td>\n",
              "      <td>22406</td>\n",
              "      <td>2555</td>\n",
              "      <td>27915</td>\n",
              "      <td>fr</td>\n",
              "      <td>Rôti filet de porc 700g</td>\n",
              "      <td>Accueil Boucherie, volaille, poissonnerie Bouc...</td>\n",
              "      <td>Rôti de viande de porc ficelé. Cette viande es...</td>\n",
              "      <td>NaN</td>\n",
              "      <td>https://www.auchan.fr/roti-filet-de-porc-700g/...</td>\n",
              "      <td>roti filet porc</td>\n",
              "      <td>NaN</td>\n",
              "      <td>11_Food</td>\n",
              "      <td>112_Meat</td>\n",
              "      <td>1122_Pork</td>\n",
              "      <td>11_Food</td>\n",
              "      <td>112_Meat</td>\n",
              "      <td>1122_Pork</td>\n",
              "      <td>Auchan</td>\n",
              "      <td>NaN</td>\n",
              "      <td>unknown</td>\n",
              "      <td>[24188]</td>\n",
              "      <td>NaN</td>\n",
              "      <td>roti filet porc</td>\n",
              "      <td>Rôti filet de porc 700gAccueil Boucherie, vola...</td>\n",
              "      <td>Lukas</td>\n",
              "      <td>44</td>\n",
              "      <td>1.356779e-10</td>\n",
              "      <td>6.192233e-15</td>\n",
              "      <td>4.717900e-10</td>\n",
              "      <td>1.079738e-10</td>\n",
              "      <td>8.015436e-12</td>\n",
              "      <td>2.101298e-12</td>\n",
              "      <td>2.295424e-15</td>\n",
              "      <td>1.498002e-17</td>\n",
              "      <td>0.000692</td>\n",
              "      <td>0.997314</td>\n",
              "      <td>0.000008</td>\n",
              "      <td>0.001153</td>\n",
              "      <td>0.00002</td>\n",
              "      <td>...</td>\n",
              "      <td>3.738550e-25</td>\n",
              "      <td>2.804867e-24</td>\n",
              "      <td>8.589847e-16</td>\n",
              "      <td>2.136560e-16</td>\n",
              "      <td>6.284986e-11</td>\n",
              "      <td>6.745654e-13</td>\n",
              "      <td>1.000561e-15</td>\n",
              "      <td>6.201404e-15</td>\n",
              "      <td>3.120115e-17</td>\n",
              "      <td>7.741413e-17</td>\n",
              "      <td>7.948463e-16</td>\n",
              "      <td>5.204252e-21</td>\n",
              "      <td>3.597820e-20</td>\n",
              "      <td>1.067667e-22</td>\n",
              "      <td>2.292552e-09</td>\n",
              "      <td>4.433889e-15</td>\n",
              "      <td>8.144385e-14</td>\n",
              "      <td>2.501014e-08</td>\n",
              "      <td>4.582998e-09</td>\n",
              "      <td>3.660202e-18</td>\n",
              "      <td>1.552436e-26</td>\n",
              "      <td>2.501573e-23</td>\n",
              "      <td>1.453540e-20</td>\n",
              "      <td>1.593799e-25</td>\n",
              "      <td>1.188169e-14</td>\n",
              "      <td>4.136259e-16</td>\n",
              "      <td>8.050178e-21</td>\n",
              "      <td>3.981738e-14</td>\n",
              "      <td>1.190504e-17</td>\n",
              "      <td>2.182963e-20</td>\n",
              "      <td>9.761882e-21</td>\n",
              "      <td>3.286936e-13</td>\n",
              "      <td>6.027602e-14</td>\n",
              "      <td>1.807706e-18</td>\n",
              "      <td>2.622885e-16</td>\n",
              "      <td>2.957929e-20</td>\n",
              "      <td>2.205907e-21</td>\n",
              "      <td>4.400288e-16</td>\n",
              "      <td>1.940416e-09</td>\n",
              "      <td>0.997314</td>\n",
              "    </tr>\n",
              "  </tbody>\n",
              "</table>\n",
              "<p>1 rows × 103 columns</p>\n",
              "</div>"
            ],
            "text/plain": [
              "   Unnamed: 0  Unnamed: 0.1  ...  9999_Non-Food  max_score\n",
              "0           0         22406  ...   1.940416e-09   0.997314\n",
              "\n",
              "[1 rows x 103 columns]"
            ]
          },
          "metadata": {
            "tags": []
          },
          "execution_count": 16
        }
      ]
    },
    {
      "cell_type": "code",
      "metadata": {
        "id": "1P-gtkLEGnwO",
        "colab_type": "code",
        "colab": {
          "base_uri": "https://localhost:8080/",
          "height": 69
        },
        "outputId": "64c075d9-b235-4322-a9ea-9ec1087ac2a0"
      },
      "source": [
        "# init predictor\n",
        "  \n",
        "name_col = 'name'\n",
        "category_col = 'categ'\n",
        "url_col = 'url'\n",
        "lang = 'fr'\n",
        "label_cat5 = 'cc5' #'coicop4_str'\n",
        "\n",
        " #coicop_model #\n",
        "CoiCop_Predictor = coicop_model.predictor(df\n",
        "                                          , name_col\n",
        "                                          , category_col\n",
        "                                          , url_col\n",
        "                                          , label_cat5\n",
        "                                          , lang)\n"
      ],
      "execution_count": 17,
      "outputs": [
        {
          "output_type": "stream",
          "text": [
            "using name, category and words in url as input\n",
            "using french embeddings\n",
            "95% quantile no. of words per row is 35 (trained on 39)\n"
          ],
          "name": "stdout"
        }
      ]
    },
    {
      "cell_type": "code",
      "metadata": {
        "id": "4gqDNqEB7NPH",
        "colab_type": "code",
        "colab": {
          "base_uri": "https://localhost:8080/",
          "height": 35
        },
        "outputId": "81331ed1-3fa4-4927-dee9-9ef66c5043c8"
      },
      "source": [
        "df_probs = CoiCop_Predictor.predict_proba()"
      ],
      "execution_count": 18,
      "outputs": [
        {
          "output_type": "stream",
          "text": [
            "100%|██████████| 255/255 [00:32<00:00,  7.77it/s]\n"
          ],
          "name": "stderr"
        }
      ]
    },
    {
      "cell_type": "markdown",
      "metadata": {
        "id": "pvjl5zLFk-RM",
        "colab_type": "text"
      },
      "source": [
        "if products are already labeled you can test the consistency with the prediction.\n",
        "label_cat5 is specified two lines above"
      ]
    },
    {
      "cell_type": "code",
      "metadata": {
        "id": "cAHI1bNrk713",
        "colab_type": "code",
        "colab": {
          "base_uri": "https://localhost:8080/",
          "height": 35
        },
        "outputId": "91ddee14-d75f-4bf6-b2f5-7338c2e80837"
      },
      "source": [
        "if label_cat5 is not None:\n",
        "    CoiCop_Predictor.test_performance()\n",
        "    #CoiCop_Predictor.confusion_matrix()"
      ],
      "execution_count": 20,
      "outputs": [
        {
          "output_type": "stream",
          "text": [
            "number of observation (labeled / all): 189 / 25511 consistency  98.94 %\n"
          ],
          "name": "stdout"
        }
      ]
    },
    {
      "cell_type": "markdown",
      "metadata": {
        "id": "0mc-zOEeAIO7",
        "colab_type": "text"
      },
      "source": [
        "## Explonation  \n",
        "  \n",
        "It shows the three best candidates for a product and highlights the words which contribute to the estimate (positiv: green, negative: red)\n",
        "If you leave the the brackets empty it will show a random product. If you want the explonation for a particular product, you can enter the text.  \n",
        "If you enter text it always needs to be in marks ''."
      ]
    },
    {
      "cell_type": "code",
      "metadata": {
        "id": "T1gClUgdwbfk",
        "colab_type": "code",
        "colab": {
          "base_uri": "https://localhost:8080/",
          "height": 509
        },
        "outputId": "dd412295-afcc-4358-aa7d-643e70d292d9"
      },
      "source": [
        "text = None\n",
        "categ= '1134_Frozen seafood'\n",
        "#text = ''\n",
        "\n",
        "CoiCop_Predictor.tell_me_why(text,categ)"
      ],
      "execution_count": 21,
      "outputs": [
        {
          "output_type": "stream",
          "text": [
            "prediction 1134_Frozen seafood\n",
            "label nan\n"
          ],
          "name": "stdout"
        },
        {
          "output_type": "execute_result",
          "data": {
            "text/html": [
              "\n",
              "    <style>\n",
              "    table.eli5-weights tr:hover {\n",
              "        filter: brightness(85%);\n",
              "    }\n",
              "</style>\n",
              "\n",
              "\n",
              "\n",
              "    \n",
              "\n",
              "    \n",
              "\n",
              "    \n",
              "\n",
              "    \n",
              "\n",
              "    \n",
              "\n",
              "    \n",
              "\n",
              "\n",
              "    \n",
              "\n",
              "    \n",
              "\n",
              "    \n",
              "\n",
              "    \n",
              "        \n",
              "\n",
              "    \n",
              "\n",
              "    \n",
              "        \n",
              "    \n",
              "        \n",
              "        \n",
              "    \n",
              "        <p style=\"margin-bottom: 0.5em; margin-top: 0em\">\n",
              "            <b>\n",
              "    \n",
              "        y=1121_Beef and veal\n",
              "    \n",
              "</b>\n",
              "\n",
              "    \n",
              "    (probability <b>0.364</b>, score <b>-0.484</b>)\n",
              "\n",
              "top features\n",
              "        </p>\n",
              "    \n",
              "    <table class=\"eli5-weights\"\n",
              "           style=\"border-collapse: collapse; border: none; margin-top: 0em; table-layout: auto; margin-bottom: 2em;\">\n",
              "        <thead>\n",
              "        <tr style=\"border: none;\">\n",
              "            \n",
              "                <th style=\"padding: 0 1em 0 0.5em; text-align: right; border: none;\" title=\"Feature contribution already accounts for the feature value (for linear models, contribution = weight * feature value), and the sum of feature contributions is equal to the score or, for some classifiers, to the probability. Feature values are shown if &quot;show_feature_values&quot; is True.\">\n",
              "                    Contribution<sup>?</sup>\n",
              "                </th>\n",
              "            \n",
              "            <th style=\"padding: 0 0.5em 0 0.5em; text-align: left; border: none;\">Feature</th>\n",
              "            \n",
              "        </tr>\n",
              "        </thead>\n",
              "        <tbody>\n",
              "        \n",
              "            <tr style=\"background-color: hsl(120, 100.00%, 85.97%); border: none;\">\n",
              "    <td style=\"padding: 0 1em 0 0.5em; text-align: right; border: none;\">\n",
              "        +3.779\n",
              "    </td>\n",
              "    <td style=\"padding: 0 0.5em 0 0.5em; text-align: left; border: none;\">\n",
              "        Highlighted in text (sum)\n",
              "    </td>\n",
              "    \n",
              "</tr>\n",
              "        \n",
              "        \n",
              "\n",
              "        \n",
              "        \n",
              "            <tr style=\"background-color: hsl(0, 100.00%, 84.74%); border: none;\">\n",
              "    <td style=\"padding: 0 1em 0 0.5em; text-align: right; border: none;\">\n",
              "        -4.264\n",
              "    </td>\n",
              "    <td style=\"padding: 0 0.5em 0 0.5em; text-align: left; border: none;\">\n",
              "        &lt;BIAS&gt;\n",
              "    </td>\n",
              "    \n",
              "</tr>\n",
              "        \n",
              "\n",
              "        </tbody>\n",
              "    </table>\n",
              "\n",
              "    \n",
              "\n",
              "\n",
              "\n",
              "    <p style=\"margin-bottom: 2.5em; margin-top:-0.5em;\">\n",
              "        <span style=\"background-color: hsl(120, 100.00%, 94.79%); opacity: 0.81\" title=\"0.125\">Auchan</span><span style=\"opacity: 0.80\"> </span><span style=\"background-color: hsl(120, 100.00%, 94.35%); opacity: 0.81\" title=\"0.141\">Steaks</span><span style=\"opacity: 0.80\"> </span><span style=\"background-color: hsl(0, 100.00%, 96.88%); opacity: 0.81\" title=\"-0.060\">hachés</span><span style=\"opacity: 0.80\"> </span><span style=\"background-color: hsl(120, 100.00%, 98.19%); opacity: 0.80\" title=\"0.028\">pur</span><span style=\"opacity: 0.80\"> </span><span style=\"background-color: hsl(120, 100.00%, 96.24%); opacity: 0.81\" title=\"0.079\">boeuf</span><span style=\"opacity: 0.80\">, </span><span style=\"background-color: hsl(120, 100.00%, 98.43%); opacity: 0.80\" title=\"0.023\">5</span><span style=\"opacity: 0.80\">% </span><span style=\"background-color: hsl(120, 100.00%, 90.34%); opacity: 0.83\" title=\"0.302\">M</span><span style=\"opacity: 0.80\">.</span><span style=\"background-color: hsl(120, 100.00%, 95.44%); opacity: 0.81\" title=\"0.103\">G</span><span style=\"opacity: 0.80\"> </span><span style=\"background-color: hsl(0, 100.00%, 76.01%); opacity: 0.90\" title=\"-1.110\">400g</span><span style=\"opacity: 0.80\"> &lt;</span><span style=\"background-color: hsl(120, 100.00%, 94.17%); opacity: 0.81\" title=\"0.147\">sep</span><span style=\"opacity: 0.80\">&gt; </span><span style=\"background-color: hsl(120, 100.00%, 93.09%); opacity: 0.82\" title=\"0.187\">Accueil</span><span style=\"opacity: 0.80\"> </span><span style=\"background-color: hsl(120, 100.00%, 85.72%); opacity: 0.85\" title=\"0.529\">Surgelés</span><span style=\"opacity: 0.80\"> </span><span style=\"background-color: hsl(120, 100.00%, 60.77%); opacity: 0.99\" title=\"2.240\">Viandes</span><span style=\"opacity: 0.80\">, </span><span style=\"background-color: hsl(0, 100.00%, 74.49%); opacity: 0.91\" title=\"-1.211\">poissons</span><span style=\"opacity: 0.80\"> </span><span style=\"background-color: hsl(120, 100.00%, 92.58%); opacity: 0.82\" title=\"0.207\">Steaks</span><span style=\"opacity: 0.80\">, </span><span style=\"background-color: hsl(120, 100.00%, 86.73%); opacity: 0.84\" title=\"0.476\">hâchés</span><span style=\"opacity: 0.80\">, </span><span style=\"background-color: hsl(0, 100.00%, 87.69%); opacity: 0.84\" title=\"-0.428\">boulettes</span><span style=\"opacity: 0.80\"> &lt;</span><span style=\"background-color: hsl(120, 100.00%, 96.05%); opacity: 0.81\" title=\"0.084\">sep</span><span style=\"opacity: 0.80\">&gt; </span><span style=\"background-color: hsl(0, 100.00%, 81.24%); opacity: 0.87\" title=\"-0.781\">auchan</span><span style=\"opacity: 0.80\"> </span><span style=\"background-color: hsl(120, 100.00%, 86.03%); opacity: 0.84\" title=\"0.512\">steaks</span><span style=\"opacity: 0.80\"> </span><span style=\"background-color: hsl(120, 100.00%, 96.88%); opacity: 0.81\" title=\"0.060\">haches</span><span style=\"opacity: 0.80\"> </span><span style=\"background-color: hsl(120, 100.00%, 89.40%); opacity: 0.83\" title=\"0.345\">pur</span><span style=\"opacity: 0.80\"> </span><span style=\"background-color: hsl(120, 100.00%, 88.80%); opacity: 0.83\" title=\"0.374\">boeuf</span>\n",
              "    </p>\n",
              "\n",
              "    \n",
              "        \n",
              "    \n",
              "        \n",
              "        \n",
              "    \n",
              "        <p style=\"margin-bottom: 0.5em; margin-top: 0em\">\n",
              "            <b>\n",
              "    \n",
              "        y=1134_Frozen seafood\n",
              "    \n",
              "</b>\n",
              "\n",
              "    \n",
              "    (probability <b>0.227</b>, score <b>-1.164</b>)\n",
              "\n",
              "top features\n",
              "        </p>\n",
              "    \n",
              "    <table class=\"eli5-weights\"\n",
              "           style=\"border-collapse: collapse; border: none; margin-top: 0em; table-layout: auto; margin-bottom: 2em;\">\n",
              "        <thead>\n",
              "        <tr style=\"border: none;\">\n",
              "            \n",
              "                <th style=\"padding: 0 1em 0 0.5em; text-align: right; border: none;\" title=\"Feature contribution already accounts for the feature value (for linear models, contribution = weight * feature value), and the sum of feature contributions is equal to the score or, for some classifiers, to the probability. Feature values are shown if &quot;show_feature_values&quot; is True.\">\n",
              "                    Contribution<sup>?</sup>\n",
              "                </th>\n",
              "            \n",
              "            <th style=\"padding: 0 0.5em 0 0.5em; text-align: left; border: none;\">Feature</th>\n",
              "            \n",
              "        </tr>\n",
              "        </thead>\n",
              "        <tbody>\n",
              "        \n",
              "            <tr style=\"background-color: hsl(120, 100.00%, 82.68%); border: none;\">\n",
              "    <td style=\"padding: 0 1em 0 0.5em; text-align: right; border: none;\">\n",
              "        +5.109\n",
              "    </td>\n",
              "    <td style=\"padding: 0 0.5em 0 0.5em; text-align: left; border: none;\">\n",
              "        Highlighted in text (sum)\n",
              "    </td>\n",
              "    \n",
              "</tr>\n",
              "        \n",
              "        \n",
              "\n",
              "        \n",
              "        \n",
              "            <tr style=\"background-color: hsl(0, 100.00%, 80.00%); border: none;\">\n",
              "    <td style=\"padding: 0 1em 0 0.5em; text-align: right; border: none;\">\n",
              "        -6.273\n",
              "    </td>\n",
              "    <td style=\"padding: 0 0.5em 0 0.5em; text-align: left; border: none;\">\n",
              "        &lt;BIAS&gt;\n",
              "    </td>\n",
              "    \n",
              "</tr>\n",
              "        \n",
              "\n",
              "        </tbody>\n",
              "    </table>\n",
              "\n",
              "    \n",
              "\n",
              "\n",
              "\n",
              "    <p style=\"margin-bottom: 2.5em; margin-top:-0.5em;\">\n",
              "        <span style=\"background-color: hsl(120, 100.00%, 95.50%); opacity: 0.81\" title=\"0.102\">Auchan</span><span style=\"opacity: 0.80\"> </span><span style=\"background-color: hsl(0, 100.00%, 97.59%); opacity: 0.80\" title=\"-0.042\">Steaks</span><span style=\"opacity: 0.80\"> hachés </span><span style=\"background-color: hsl(120, 100.00%, 95.81%); opacity: 0.81\" title=\"0.092\">pur</span><span style=\"opacity: 0.80\"> </span><span style=\"background-color: hsl(0, 100.00%, 94.93%); opacity: 0.81\" title=\"-0.120\">boeuf</span><span style=\"opacity: 0.80\">, </span><span style=\"background-color: hsl(120, 100.00%, 95.34%); opacity: 0.81\" title=\"0.107\">5</span><span style=\"opacity: 0.80\">% M.</span><span style=\"background-color: hsl(120, 100.00%, 93.82%); opacity: 0.81\" title=\"0.160\">G</span><span style=\"opacity: 0.80\"> </span><span style=\"background-color: hsl(120, 100.00%, 81.37%); opacity: 0.87\" title=\"0.773\">400g</span><span style=\"opacity: 0.80\"> &lt;</span><span style=\"background-color: hsl(0, 100.00%, 96.46%); opacity: 0.81\" title=\"-0.072\">sep</span><span style=\"opacity: 0.80\">&gt; </span><span style=\"background-color: hsl(120, 100.00%, 94.48%); opacity: 0.81\" title=\"0.136\">Accueil</span><span style=\"opacity: 0.80\"> </span><span style=\"background-color: hsl(120, 100.00%, 83.08%); opacity: 0.86\" title=\"0.674\">Surgelés</span><span style=\"opacity: 0.80\"> </span><span style=\"background-color: hsl(120, 100.00%, 77.74%); opacity: 0.89\" title=\"0.997\">Viandes</span><span style=\"opacity: 0.80\">, </span><span style=\"background-color: hsl(120, 100.00%, 61.67%); opacity: 0.99\" title=\"2.167\">poissons</span><span style=\"opacity: 0.80\"> </span><span style=\"background-color: hsl(0, 100.00%, 97.28%); opacity: 0.80\" title=\"-0.050\">Steaks</span><span style=\"opacity: 0.80\">, </span><span style=\"background-color: hsl(0, 100.00%, 81.32%); opacity: 0.87\" title=\"-0.776\">hâchés</span><span style=\"opacity: 0.80\">, </span><span style=\"background-color: hsl(120, 100.00%, 86.39%); opacity: 0.84\" title=\"0.494\">boulettes</span><span style=\"opacity: 0.80\"> &lt;</span><span style=\"background-color: hsl(120, 100.00%, 94.49%); opacity: 0.81\" title=\"0.136\">sep</span><span style=\"opacity: 0.80\">&gt; </span><span style=\"background-color: hsl(120, 100.00%, 84.93%); opacity: 0.85\" title=\"0.571\">auchan</span><span style=\"opacity: 0.80\"> </span><span style=\"background-color: hsl(0, 100.00%, 84.17%); opacity: 0.85\" title=\"-0.613\">steaks</span><span style=\"opacity: 0.80\"> </span><span style=\"background-color: hsl(0, 100.00%, 88.48%); opacity: 0.83\" title=\"-0.389\">haches</span><span style=\"opacity: 0.80\"> </span><span style=\"background-color: hsl(120, 100.00%, 88.19%); opacity: 0.84\" title=\"0.403\">pur</span><span style=\"opacity: 0.80\"> </span><span style=\"background-color: hsl(120, 100.00%, 99.33%); opacity: 0.80\" title=\"0.007\">boeuf</span>\n",
              "    </p>\n",
              "\n",
              "    \n",
              "        \n",
              "    \n",
              "        \n",
              "        \n",
              "    \n",
              "        <p style=\"margin-bottom: 0.5em; margin-top: 0em\">\n",
              "            <b>\n",
              "    \n",
              "        y=1194_Ready-made meals\n",
              "    \n",
              "</b>\n",
              "\n",
              "    \n",
              "    (probability <b>0.220</b>, score <b>-1.206</b>)\n",
              "\n",
              "top features\n",
              "        </p>\n",
              "    \n",
              "    <table class=\"eli5-weights\"\n",
              "           style=\"border-collapse: collapse; border: none; margin-top: 0em; table-layout: auto; margin-bottom: 2em;\">\n",
              "        <thead>\n",
              "        <tr style=\"border: none;\">\n",
              "            \n",
              "                <th style=\"padding: 0 1em 0 0.5em; text-align: right; border: none;\" title=\"Feature contribution already accounts for the feature value (for linear models, contribution = weight * feature value), and the sum of feature contributions is equal to the score or, for some classifiers, to the probability. Feature values are shown if &quot;show_feature_values&quot; is True.\">\n",
              "                    Contribution<sup>?</sup>\n",
              "                </th>\n",
              "            \n",
              "            <th style=\"padding: 0 0.5em 0 0.5em; text-align: left; border: none;\">Feature</th>\n",
              "            \n",
              "        </tr>\n",
              "        </thead>\n",
              "        <tbody>\n",
              "        \n",
              "            <tr style=\"background-color: hsl(120, 100.00%, 88.92%); border: none;\">\n",
              "    <td style=\"padding: 0 1em 0 0.5em; text-align: right; border: none;\">\n",
              "        +2.697\n",
              "    </td>\n",
              "    <td style=\"padding: 0 0.5em 0 0.5em; text-align: left; border: none;\">\n",
              "        Highlighted in text (sum)\n",
              "    </td>\n",
              "    \n",
              "</tr>\n",
              "        \n",
              "        \n",
              "\n",
              "        \n",
              "        \n",
              "            <tr style=\"background-color: hsl(0, 100.00%, 85.65%); border: none;\">\n",
              "    <td style=\"padding: 0 1em 0 0.5em; text-align: right; border: none;\">\n",
              "        -3.903\n",
              "    </td>\n",
              "    <td style=\"padding: 0 0.5em 0 0.5em; text-align: left; border: none;\">\n",
              "        &lt;BIAS&gt;\n",
              "    </td>\n",
              "    \n",
              "</tr>\n",
              "        \n",
              "\n",
              "        </tbody>\n",
              "    </table>\n",
              "\n",
              "    \n",
              "\n",
              "\n",
              "\n",
              "    <p style=\"margin-bottom: 2.5em; margin-top:-0.5em;\">\n",
              "        <span style=\"background-color: hsl(0, 100.00%, 93.56%); opacity: 0.81\" title=\"-0.169\">Auchan</span><span style=\"opacity: 0.80\"> </span><span style=\"background-color: hsl(120, 100.00%, 99.67%); opacity: 0.80\" title=\"0.002\">Steaks</span><span style=\"opacity: 0.80\"> </span><span style=\"background-color: hsl(120, 100.00%, 95.59%); opacity: 0.81\" title=\"0.099\">hachés</span><span style=\"opacity: 0.80\"> </span><span style=\"background-color: hsl(120, 100.00%, 93.95%); opacity: 0.81\" title=\"0.155\">pur</span><span style=\"opacity: 0.80\"> </span><span style=\"background-color: hsl(120, 100.00%, 97.71%); opacity: 0.80\" title=\"0.039\">boeuf</span><span style=\"opacity: 0.80\">, </span><span style=\"background-color: hsl(120, 100.00%, 99.23%); opacity: 0.80\" title=\"0.008\">5</span><span style=\"opacity: 0.80\">% </span><span style=\"background-color: hsl(0, 100.00%, 94.53%); opacity: 0.81\" title=\"-0.134\">M</span><span style=\"opacity: 0.80\">.</span><span style=\"background-color: hsl(120, 100.00%, 95.47%); opacity: 0.81\" title=\"0.103\">G</span><span style=\"opacity: 0.80\"> </span><span style=\"background-color: hsl(120, 100.00%, 83.23%); opacity: 0.86\" title=\"0.665\">400g</span><span style=\"opacity: 0.80\"> &lt;</span><span style=\"background-color: hsl(120, 100.00%, 97.70%); opacity: 0.80\" title=\"0.039\">sep</span><span style=\"opacity: 0.80\">&gt; </span><span style=\"background-color: hsl(120, 100.00%, 90.14%); opacity: 0.83\" title=\"0.311\">Accueil</span><span style=\"opacity: 0.80\"> </span><span style=\"background-color: hsl(120, 100.00%, 93.75%); opacity: 0.81\" title=\"0.162\">Surgelés</span><span style=\"opacity: 0.80\"> </span><span style=\"background-color: hsl(0, 100.00%, 60.00%); opacity: 1.00\" title=\"-2.303\">Viandes</span><span style=\"opacity: 0.80\">, </span><span style=\"background-color: hsl(120, 100.00%, 90.34%); opacity: 0.83\" title=\"0.303\">poissons</span><span style=\"opacity: 0.80\"> </span><span style=\"background-color: hsl(120, 100.00%, 91.84%); opacity: 0.82\" title=\"0.238\">Steaks</span><span style=\"opacity: 0.80\">, </span><span style=\"background-color: hsl(120, 100.00%, 89.02%); opacity: 0.83\" title=\"0.363\">hâchés</span><span style=\"opacity: 0.80\">, </span><span style=\"background-color: hsl(120, 100.00%, 63.10%); opacity: 0.98\" title=\"2.052\">boulettes</span><span style=\"opacity: 0.80\"> &lt;</span><span style=\"background-color: hsl(0, 100.00%, 95.93%); opacity: 0.81\" title=\"-0.088\">sep</span><span style=\"opacity: 0.80\">&gt; </span><span style=\"background-color: hsl(120, 100.00%, 86.11%); opacity: 0.84\" title=\"0.508\">auchan</span><span style=\"opacity: 0.80\"> </span><span style=\"background-color: hsl(120, 100.00%, 88.38%); opacity: 0.83\" title=\"0.394\">steaks</span><span style=\"opacity: 0.80\"> </span><span style=\"background-color: hsl(120, 100.00%, 97.94%); opacity: 0.80\" title=\"0.033\">haches</span><span style=\"opacity: 0.80\"> pur </span><span style=\"background-color: hsl(0, 100.00%, 93.93%); opacity: 0.81\" title=\"-0.156\">boeuf</span>\n",
              "    </p>\n",
              "\n",
              "    \n",
              "\n",
              "\n",
              "    \n",
              "\n",
              "    \n",
              "\n",
              "    \n",
              "\n",
              "\n",
              "    \n",
              "\n",
              "    \n",
              "\n",
              "    \n",
              "\n",
              "    \n",
              "\n",
              "    \n",
              "\n",
              "    \n",
              "\n",
              "\n",
              "    \n",
              "\n",
              "    \n",
              "\n",
              "    \n",
              "\n",
              "    \n",
              "\n",
              "    \n",
              "\n",
              "    \n",
              "\n",
              "\n",
              "\n"
            ],
            "text/plain": [
              "Explanation(estimator=\"SGDClassifier(alpha=0.001, average=False, class_weight=None,\\n              early_stopping=False, epsilon=0.1, eta0=0.0, fit_intercept=True,\\n              l1_ratio=0.15, learning_rate='optimal', loss='log', max_iter=1000,\\n              n_iter_no_change=5, n_jobs=None, penalty='elasticnet',\\n              power_t=0.5, random_state=RandomState(MT19937) at 0x7F9E72648360,\\n              shuffle=True, tol=0.001, validation_fraction=0.1, verbose=0,\\n              warm_start=False)\", description=None, error=None, method='linear model', is_regression=False, targets=[TargetExplanation(target='1121_Beef and veal', feature_weights=FeatureWeights(pos=[FeatureWeight(feature='[12] Viandes', weight=2.2398827872650657, std=None, value=1.0), FeatureWeight(feature='[22] boeuf', weight=0.7478673655825449, std=None, value=1.0), FeatureWeight(feature='[21] pur', weight=0.6906650118234442, std=None, value=1.0), FeatureWeight(feature='[11] Surgelés', weight=0.5287424856091106, std=None, value=1.0), FeatureWeight(feature='[19] steaks', weight=0.5123003708284393, std=None, value=1.0), FeatureWeight(feature='[15] hâchés', weight=0.47627093871234444, std=None, value=1.0), FeatureWeight(feature='[14] Steaks', weight=0.4149055736812394, std=None, value=1.0), FeatureWeight(feature='[6] M', weight=0.3024585431795384, std=None, value=1.0), FeatureWeight(feature='[9] sep', weight=0.29431807088696793, std=None, value=1.0), FeatureWeight(feature='[1] Steaks', weight=0.2811975463355808, std=None, value=1.0), FeatureWeight(feature='[10] Accueil', weight=0.1874281051188207, std=None, value=1.0), FeatureWeight(feature='[17] sep', weight=0.16892535049890237, std=None, value=1.0), FeatureWeight(feature='[4] boeuf', weight=0.15726111338657114, std=None, value=1.0), FeatureWeight(feature='[0] Auchan', weight=0.12506123740543393, std=None, value=1.0), FeatureWeight(feature='[7] G', weight=0.10339780253840361, std=None, value=1.0), FeatureWeight(feature='[20] haches', weight=0.060135392529484064, std=None, value=1.0), FeatureWeight(feature='[3] pur', weight=0.055413616923059336, std=None, value=1.0), FeatureWeight(feature='[5] 5', weight=0.022640543755718025, std=None, value=1.0)], neg=[FeatureWeight(feature='<BIAS>', weight=-4.263533656179359, std=None, value=1.0), FeatureWeight(feature='[13] poissons', weight=-1.2113834546694269, std=None, value=1.0), FeatureWeight(feature='[8] 400g', weight=-1.1095709504135736, std=None, value=1.0), FeatureWeight(feature='[18] auchan', weight=-0.7810173180381645, std=None, value=1.0), FeatureWeight(feature='[16] boulettes', weight=-0.42750749968511786, std=None, value=1.0), FeatureWeight(feature='[2] hachés', weight=-0.06024032494823452, std=None, value=1.0)], pos_remaining=0, neg_remaining=0), proba=0.3641278233097478, score=-0.48438134787320664, weighted_spans=WeightedSpans(docs_weighted_spans=[DocWeightedSpans(document='Auchan Steaks hachés pur boeuf, 5% M.G 400g <sep> Accueil Surgelés Viandes, poissons Steaks, hâchés, boulettes <sep> auchan steaks haches pur boeuf', spans=[('Auchan', [(0, 6)], 0.12506123740543393), ('Steaks', [(7, 13)], 0.2811975463355808), ('hachés', [(14, 20)], -0.06024032494823452), ('pur', [(21, 24)], 0.055413616923059336), ('boeuf', [(25, 30)], 0.15726111338657114), ('5', [(32, 33)], 0.022640543755718025), ('M', [(35, 36)], 0.3024585431795384), ('G', [(37, 38)], 0.10339780253840361), ('400g', [(39, 43)], -1.1095709504135736), ('sep', [(45, 48)], 0.29431807088696793), ('Accueil', [(50, 57)], 0.1874281051188207), ('Surgelés', [(58, 66)], 0.5287424856091106), ('Viandes', [(67, 74)], 2.2398827872650657), ('poissons', [(76, 84)], -1.2113834546694269), ('Steaks', [(85, 91)], 0.4149055736812394), ('hâchés', [(93, 99)], 0.47627093871234444), ('boulettes', [(101, 110)], -0.42750749968511786), ('sep', [(112, 115)], 0.16892535049890237), ('auchan', [(117, 123)], -0.7810173180381645), ('steaks', [(124, 130)], 0.5123003708284393), ('haches', [(131, 137)], 0.060135392529484064), ('pur', [(138, 141)], 0.6906650118234442), ('boeuf', [(142, 147)], 0.7478673655825449)], preserve_density=False, vec_name=None)], other=FeatureWeights(pos=[FeatureWeight(feature=<FormattedFeatureName 'Highlighted in text (sum)'>, weight=3.779152308306151, std=None, value=None)], neg=[FeatureWeight(feature='<BIAS>', weight=-4.263533656179359, std=None, value=1.0)], pos_remaining=0, neg_remaining=0)), heatmap=None), TargetExplanation(target='1134_Frozen seafood', feature_weights=FeatureWeights(pos=[FeatureWeight(feature='[13] poissons', weight=2.1672606843479643, std=None, value=1.0), FeatureWeight(feature='[12] Viandes', weight=0.9969613750906464, std=None, value=1.0), FeatureWeight(feature='[21] pur', weight=0.8063586404308031, std=None, value=1.0), FeatureWeight(feature='[8] 400g', weight=0.7731038722237814, std=None, value=1.0), FeatureWeight(feature='[11] Surgelés', weight=0.673501427993837, std=None, value=1.0), FeatureWeight(feature='[18] auchan', weight=0.5711006251747877, std=None, value=1.0), FeatureWeight(feature='[16] boulettes', weight=0.493755188332724, std=None, value=1.0), FeatureWeight(feature='[17] sep', weight=0.2712578498387517, std=None, value=1.0), FeatureWeight(feature='[3] pur', weight=0.18321215711661964, std=None, value=1.0), FeatureWeight(feature='[7] G', weight=0.15996780011347028, std=None, value=1.0), FeatureWeight(feature='[10] Accueil', weight=0.13611299602554677, std=None, value=1.0), FeatureWeight(feature='[5] 5', weight=0.10674233001790999, std=None, value=1.0), FeatureWeight(feature='[0] Auchan', weight=0.10168594483042788, std=None, value=1.0), FeatureWeight(feature='[22] boeuf', weight=0.013435379324043923, std=None, value=1.0)], neg=[FeatureWeight(feature='<BIAS>', weight=-6.273206422809131, std=None, value=1.0), FeatureWeight(feature='[15] hâchés', weight=-0.7761617466724852, std=None, value=1.0), FeatureWeight(feature='[19] steaks', weight=-0.6125767997235861, std=None, value=1.0), FeatureWeight(feature='[20] haches', weight=-0.3888731314405588, std=None, value=1.0), FeatureWeight(feature='[4] boeuf', weight=-0.2407828807277975, std=None, value=1.0), FeatureWeight(feature='[9] sep', weight=-0.14413150315284246, std=None, value=1.0), FeatureWeight(feature='[14] Steaks', weight=-0.09913141643268923, std=None, value=1.0), FeatureWeight(feature='[1] Steaks', weight=-0.0834018972031902, std=None, value=1.0)], pos_remaining=0, neg_remaining=0), proba=0.227307160481128, score=-1.163809527300966, weighted_spans=WeightedSpans(docs_weighted_spans=[DocWeightedSpans(document='Auchan Steaks hachés pur boeuf, 5% M.G 400g <sep> Accueil Surgelés Viandes, poissons Steaks, hâchés, boulettes <sep> auchan steaks haches pur boeuf', spans=[('Auchan', [(0, 6)], 0.10168594483042788), ('Steaks', [(7, 13)], -0.0834018972031902), ('pur', [(21, 24)], 0.18321215711661964), ('boeuf', [(25, 30)], -0.2407828807277975), ('5', [(32, 33)], 0.10674233001790999), ('G', [(37, 38)], 0.15996780011347028), ('400g', [(39, 43)], 0.7731038722237814), ('sep', [(45, 48)], -0.14413150315284246), ('Accueil', [(50, 57)], 0.13611299602554677), ('Surgelés', [(58, 66)], 0.673501427993837), ('Viandes', [(67, 74)], 0.9969613750906464), ('poissons', [(76, 84)], 2.1672606843479643), ('Steaks', [(85, 91)], -0.09913141643268923), ('hâchés', [(93, 99)], -0.7761617466724852), ('boulettes', [(101, 110)], 0.493755188332724), ('sep', [(112, 115)], 0.2712578498387517), ('auchan', [(117, 123)], 0.5711006251747877), ('steaks', [(124, 130)], -0.6125767997235861), ('haches', [(131, 137)], -0.3888731314405588), ('pur', [(138, 141)], 0.8063586404308031), ('boeuf', [(142, 147)], 0.013435379324043923)], preserve_density=False, vec_name=None)], other=FeatureWeights(pos=[FeatureWeight(feature=<FormattedFeatureName 'Highlighted in text (sum)'>, weight=5.109396895508165, std=None, value=None)], neg=[FeatureWeight(feature='<BIAS>', weight=-6.273206422809131, std=None, value=1.0)], pos_remaining=0, neg_remaining=0)), heatmap=None), TargetExplanation(target='1194_Ready-made meals', feature_weights=FeatureWeights(pos=[FeatureWeight(feature='[16] boulettes', weight=2.052065510523246, std=None, value=1.0), FeatureWeight(feature='[8] 400g', weight=0.6650152381610261, std=None, value=1.0), FeatureWeight(feature='[18] auchan', weight=0.5082941006291569, std=None, value=1.0), FeatureWeight(feature='[14] Steaks', weight=0.4753919766684576, std=None, value=1.0), FeatureWeight(feature='[19] steaks', weight=0.3941184463744808, std=None, value=1.0), FeatureWeight(feature='[15] hâchés', weight=0.36331944291990065, std=None, value=1.0), FeatureWeight(feature='[10] Accueil', weight=0.3114339947536223, std=None, value=1.0), FeatureWeight(feature='[13] poissons', weight=0.3026721526031907, std=None, value=1.0), FeatureWeight(feature='[11] Surgelés', weight=0.1624419790641084, std=None, value=1.0), FeatureWeight(feature='[3] pur', weight=0.1548941262549453, std=None, value=1.0), FeatureWeight(feature='[7] G', weight=0.10270214831608779, std=None, value=1.0), FeatureWeight(feature='[2] hachés', weight=0.09856567738449203, std=None, value=1.0), FeatureWeight(feature='[9] sep', weight=0.07777284158237105, std=None, value=1.0), FeatureWeight(feature='[4] boeuf', weight=0.07740334014925543, std=None, value=1.0), FeatureWeight(feature='[20] haches', weight=0.03315620715544885, std=None, value=1.0), FeatureWeight(feature='[5] 5', weight=0.00815723840638297, std=None, value=1.0), FeatureWeight(feature='[1] Steaks', weight=0.004774829606086406, std=None, value=1.0)], neg=[FeatureWeight(feature='<BIAS>', weight=-3.903308864123139, std=None, value=1.0), FeatureWeight(feature='[12] Viandes', weight=-2.303143081555692, std=None, value=1.0), FeatureWeight(feature='[22] boeuf', weight=-0.3117561795012466, std=None, value=1.0), FeatureWeight(feature='[17] sep', weight=-0.17618124496133034, std=None, value=1.0), FeatureWeight(feature='[0] Auchan', weight=-0.16947654939463858, std=None, value=1.0), FeatureWeight(feature='[6] M', weight=-0.1341325964374309, std=None, value=1.0)], pos_remaining=0, neg_remaining=0), proba=0.22011077697867884, score=-1.2058192654212179, weighted_spans=WeightedSpans(docs_weighted_spans=[DocWeightedSpans(document='Auchan Steaks hachés pur boeuf, 5% M.G 400g <sep> Accueil Surgelés Viandes, poissons Steaks, hâchés, boulettes <sep> auchan steaks haches pur boeuf', spans=[('Auchan', [(0, 6)], -0.16947654939463858), ('Steaks', [(7, 13)], 0.004774829606086406), ('hachés', [(14, 20)], 0.09856567738449203), ('pur', [(21, 24)], 0.1548941262549453), ('boeuf', [(25, 30)], 0.07740334014925543), ('5', [(32, 33)], 0.00815723840638297), ('M', [(35, 36)], -0.1341325964374309), ('G', [(37, 38)], 0.10270214831608779), ('400g', [(39, 43)], 0.6650152381610261), ('sep', [(45, 48)], 0.07777284158237105), ('Accueil', [(50, 57)], 0.3114339947536223), ('Surgelés', [(58, 66)], 0.1624419790641084), ('Viandes', [(67, 74)], -2.303143081555692), ('poissons', [(76, 84)], 0.3026721526031907), ('Steaks', [(85, 91)], 0.4753919766684576), ('hâchés', [(93, 99)], 0.36331944291990065), ('boulettes', [(101, 110)], 2.052065510523246), ('sep', [(112, 115)], -0.17618124496133034), ('auchan', [(117, 123)], 0.5082941006291569), ('steaks', [(124, 130)], 0.3941184463744808), ('haches', [(131, 137)], 0.03315620715544885), ('boeuf', [(142, 147)], -0.3117561795012466)], preserve_density=False, vec_name=None)], other=FeatureWeights(pos=[FeatureWeight(feature=<FormattedFeatureName 'Highlighted in text (sum)'>, weight=2.697489598701921, std=None, value=None)], neg=[FeatureWeight(feature='<BIAS>', weight=-3.903308864123139, std=None, value=1.0)], pos_remaining=0, neg_remaining=0)), heatmap=None)], feature_importances=None, decision_tree=None, highlight_spaces=None, transition_features=None, image=None)"
            ]
          },
          "metadata": {
            "tags": []
          },
          "execution_count": 21
        }
      ]
    },
    {
      "cell_type": "markdown",
      "metadata": {
        "id": "SMjTYrR87e4K",
        "colab_type": "text"
      },
      "source": [
        "# Annotation"
      ]
    },
    {
      "cell_type": "markdown",
      "metadata": {
        "id": "FGBoWMkJ_HPd",
        "colab_type": "text"
      },
      "source": [
        "For the annotation tool you have to specify the naes of certain columns in your dataframe which the tool will use.  \n",
        "* Labeled_by takes your name and stores it after every item you labeld.  \n",
        "* Text column 1 is the name of the column for the first line of text which will be displayed to help you labeling the product, usually this is the product name.  \n",
        "* Text column 2 is the name of the column for the second line of text which will be displayed to help you labeling the product, this could be the category or the translation.  \n",
        "* The URL column is the name of the column where the url of the scraped product is located (if it is in the dataframe). The url might be helpfull if you are unsure about the product nd want to look up the whole page on the website. If you do not have the url in your data you can leave it empty.  \n",
        "* CoiCop 5 prediction is the column where the prediction is stored. The prediction will appear preselected in the dropdown menu.   \n",
        "  \n",
        "The data are sorted in a way that catogies with few labels come first, if predictions of those label are available.\n"
      ]
    },
    {
      "cell_type": "code",
      "metadata": {
        "id": "1xmoZj7JdS0o",
        "colab_type": "code",
        "colab": {}
      },
      "source": [
        "# init labeler\n",
        "\n",
        "labeled_by = 'Erik'\n",
        "text_column_1 = 'name'\n",
        "text_column_2 = 'categ'\n",
        "url_column = 'url'\n",
        "CoiCop_5_pred_col = 'cc5_pred'\n",
        "Use_probabilities = True\n",
        "\n",
        "#labeler_cc5\n",
        "CoiCop_Labeler = labeler_cc5.labeler( labeled_by\n",
        "                        , df_probs\n",
        "                        , text_column_1\n",
        "                        , text_column_2\n",
        "                        , url_column\n",
        "                        , CoiCop_5_pred_col\n",
        "                        , Use_probabilities)"
      ],
      "execution_count": 22,
      "outputs": []
    },
    {
      "cell_type": "markdown",
      "metadata": {
        "id": "Ph_zFG30BeEn",
        "colab_type": "text"
      },
      "source": [
        "Now you are ready to label, after executing the next line you will see:\n",
        "* Select category you want to label\n",
        "* Text 1\n",
        "* Text 2\n",
        "* URL\n",
        "* Dropdown with one category which is the prediction for the product. If you are dissatisfied with it, you can click on the dropdown and select the right one.\n",
        "* Next-Button will skip this product\n",
        "* Save-Button will annotate the selected category to your dataframe\n",
        "  \n",
        "If you finished labeling just jump to the next line."
      ]
    },
    {
      "cell_type": "code",
      "metadata": {
        "id": "soYye5zedVXk",
        "colab_type": "code",
        "colab": {
          "base_uri": "https://localhost:8080/",
          "height": 289,
          "referenced_widgets": [
            "29d3ab5229634ef39cd6ba8309b3c206",
            "d9ca677538c844a69dd7b17aeaf82c3a",
            "6318e4492ec146df8fb0e67aa4d28afb",
            "a380e131fcfe4df3b044ee0ab774cc98",
            "ccfc0228faee4eb3a7cdc06c3e0aba87",
            "e34b3dffc1e94678a22821428915d48c",
            "a18bdae0e5184413b0a8eeda4cbd4553",
            "7d526281184e4ccfb3b9b9d0c0483aec",
            "a27258f76eb8449d971712ae5f777e0d",
            "980ef3228b5d4f368b771751c21cf508",
            "3ab591c8ea9244bdb3aadde68f1a8160",
            "327db03e60ab453d8c33e97ba9ab1843",
            "7e20b4f054b74c0fab294b880b0cdb9a",
            "dd2afaa4bbff40569e86efdf79281142",
            "1a4cc0d93d7a4c16b22d9ec204663700",
            "b8e5a4aabc234099a939a518effcd580",
            "8a903389867149afbebd8e667aff2ff9",
            "41d2dad7f2c649e88399d5720c29b194",
            "dfa270dbda874a71ba15bd70ae013f50",
            "c3b7a6c658f54983885aac38a64abc09",
            "cf6622c8206442a59df0fb08eb039ae5",
            "ce2c9795e37f408f87ad93aa4f2e5264",
            "2f8a8c2b09c94ce58ded835a3dc595b9",
            "182d0536caeb402394c3d2d3e0531dad",
            "21e4a8b035514d2c99d7aa25b6dbbc09",
            "bddc44013bf34fdeaa731eca1c1b9665",
            "030338dbe8e343738fa27f85cc2ec936",
            "eb2bf7ae2241425089d9f93282733f13",
            "c9e773c5d59f4c899d60f778dbfa9200",
            "8e1b0229639f4990856ec3148d71a2d4",
            "d81946bf5b7b47119439b81cd9abf369",
            "6668e600d222482889cdadec5f6fc0f1",
            "75bfc21c8a7d4977bb9f594412604e2d",
            "ec9b9791ba3f4987b70e0601c4db5420",
            "aa2335b4266b4c5c9fd6f2b334a2861d",
            "bb7924d7417b4e8e8f9abfa25b8d2938",
            "234fde6f1c5a48b99d5e0a9010febe92"
          ]
        },
        "outputId": "b3c0e930-8cee-4983-8169-58a09e3aa63f"
      },
      "source": [
        "CoiCop_Labeler.start_to_label()"
      ],
      "execution_count": 23,
      "outputs": [
        {
          "output_type": "display_data",
          "data": {
            "application/vnd.jupyter.widget-view+json": {
              "model_id": "29d3ab5229634ef39cd6ba8309b3c206",
              "version_minor": 0,
              "version_major": 2
            },
            "text/plain": [
              "VBox(children=(Box(children=(Dropdown(description='Select category to label:', layout=Layout(height='60px', wi…"
            ]
          },
          "metadata": {
            "tags": []
          }
        }
      ]
    },
    {
      "cell_type": "markdown",
      "metadata": {
        "id": "zlEm5YPfCff9",
        "colab_type": "text"
      },
      "source": [
        "The next line will print out your current progress of annotating the data."
      ]
    },
    {
      "cell_type": "code",
      "metadata": {
        "id": "kWzefcaMdXh9",
        "colab_type": "code",
        "colab": {
          "base_uri": "https://localhost:8080/",
          "height": 52
        },
        "outputId": "d2f0adbf-9a73-4b98-dab0-aab562946015"
      },
      "source": [
        "CoiCop_Labeler.get_stats()"
      ],
      "execution_count": 24,
      "outputs": [
        {
          "output_type": "stream",
          "text": [
            "new labels: 2\n",
            "in total 191 of 25511 labeled ( 1.0 %)\n"
          ],
          "name": "stdout"
        }
      ]
    },
    {
      "cell_type": "markdown",
      "metadata": {
        "id": "PGSEDm3EDSpT",
        "colab_type": "text"
      },
      "source": [
        "Output the data including annotation."
      ]
    },
    {
      "cell_type": "code",
      "metadata": {
        "id": "3051UrA5dZT0",
        "colab_type": "code",
        "colab": {
          "base_uri": "https://localhost:8080/",
          "height": 319
        },
        "outputId": "88a5976b-7453-4aa4-8c4f-3edbe3236fee"
      },
      "source": [
        "df= CoiCop_Labeler.output_labels()\n",
        "df[:1]"
      ],
      "execution_count": 25,
      "outputs": [
        {
          "output_type": "execute_result",
          "data": {
            "text/html": [
              "<div>\n",
              "<style scoped>\n",
              "    .dataframe tbody tr th:only-of-type {\n",
              "        vertical-align: middle;\n",
              "    }\n",
              "\n",
              "    .dataframe tbody tr th {\n",
              "        vertical-align: top;\n",
              "    }\n",
              "\n",
              "    .dataframe thead th {\n",
              "        text-align: right;\n",
              "    }\n",
              "</style>\n",
              "<table border=\"1\" class=\"dataframe\">\n",
              "  <thead>\n",
              "    <tr style=\"text-align: right;\">\n",
              "      <th></th>\n",
              "      <th>Unnamed: 0.1</th>\n",
              "      <th>Unnamed: 0.1.1</th>\n",
              "      <th>Unnamed: 0.1.1.1</th>\n",
              "      <th>lang</th>\n",
              "      <th>name</th>\n",
              "      <th>categ</th>\n",
              "      <th>prod_desc</th>\n",
              "      <th>text_other</th>\n",
              "      <th>url</th>\n",
              "      <th>words_from_url</th>\n",
              "      <th>unit</th>\n",
              "      <th>cc3</th>\n",
              "      <th>cc4</th>\n",
              "      <th>cc5</th>\n",
              "      <th>cc3_pred</th>\n",
              "      <th>cc4_pred</th>\n",
              "      <th>cc5_pred</th>\n",
              "      <th>shop</th>\n",
              "      <th>brand</th>\n",
              "      <th>price</th>\n",
              "      <th>id</th>\n",
              "      <th>labeld_by</th>\n",
              "      <th>url_text</th>\n",
              "      <th>text</th>\n",
              "      <th>labeled_by</th>\n",
              "      <th>sort_columns</th>\n",
              "      <th>1111_Rice</th>\n",
              "      <th>1112_Flours and other cereals</th>\n",
              "      <th>1113_Bread</th>\n",
              "      <th>1114_Other bakery products</th>\n",
              "      <th>1115_Pizza and quiche</th>\n",
              "      <th>1116_Pasta products and couscous</th>\n",
              "      <th>1117_Breakfast cereals</th>\n",
              "      <th>1118_Other cereal products</th>\n",
              "      <th>1121_Beef and veal</th>\n",
              "      <th>1122_Pork</th>\n",
              "      <th>1123_Lamb and goat</th>\n",
              "      <th>1124_Poultry</th>\n",
              "      <th>1125_Other meats</th>\n",
              "      <th>1126_Edible offal</th>\n",
              "      <th>...</th>\n",
              "      <th>1163_Dried fruit and nuts</th>\n",
              "      <th>1164_Preserved fruit and fruit-based products</th>\n",
              "      <th>1171_Fresh or chilled vegetables other than potatoes and other tubers</th>\n",
              "      <th>1172_Frozen vegetables other than potatoes and other tubers</th>\n",
              "      <th>1173_Dried vegetables, other preserved or processed vegetables</th>\n",
              "      <th>1174_Potatoes</th>\n",
              "      <th>1175_Crisps</th>\n",
              "      <th>1176_Other tubers and products of tuber vegetables</th>\n",
              "      <th>1181_Sugar</th>\n",
              "      <th>1182_Jams, marmalades and honey</th>\n",
              "      <th>1183_Chocolate</th>\n",
              "      <th>1184_Confectionery products</th>\n",
              "      <th>1185_Edible ices and ice cream</th>\n",
              "      <th>1186_Artificial sugar substitutes</th>\n",
              "      <th>1191_Sauces, condiments</th>\n",
              "      <th>1192_Salt, spices and culinary herbs</th>\n",
              "      <th>1193_Baby food</th>\n",
              "      <th>1194_Ready-made meals</th>\n",
              "      <th>1199_Other food products n.e.c.</th>\n",
              "      <th>1211_Coffee</th>\n",
              "      <th>1212_Tea</th>\n",
              "      <th>1213_Cocoa and powdered chocolate</th>\n",
              "      <th>1221_Mineral or spring waters</th>\n",
              "      <th>1222_Soft drinks</th>\n",
              "      <th>1223_Fruit and vegetable juices</th>\n",
              "      <th>2111_Spirits and liqueurs</th>\n",
              "      <th>2112_Alcoholic soft drinks</th>\n",
              "      <th>2121_Wine from grapes</th>\n",
              "      <th>2122_Wine from other fruits</th>\n",
              "      <th>2123_Fortified wines</th>\n",
              "      <th>2124_Wine-based drinks</th>\n",
              "      <th>2131_Lager beer</th>\n",
              "      <th>2132_Other alcoholic beer</th>\n",
              "      <th>2133_Low and non-alcoholic beer</th>\n",
              "      <th>2134_Beer-based drinks</th>\n",
              "      <th>2201_Cigarettes</th>\n",
              "      <th>2202_Cigars</th>\n",
              "      <th>2203_Other tobacco products</th>\n",
              "      <th>9999_Non-Food</th>\n",
              "      <th>max_score</th>\n",
              "    </tr>\n",
              "  </thead>\n",
              "  <tbody>\n",
              "    <tr>\n",
              "      <th>4543</th>\n",
              "      <td>21023</td>\n",
              "      <td>964</td>\n",
              "      <td>10791</td>\n",
              "      <td>fr</td>\n",
              "      <td>Pavés de saumon d'Ecosse filière responsable x...</td>\n",
              "      <td>Accueil Boucherie, volaille, poissonnerie Pois...</td>\n",
              "      <td>4 pavés de saumon avec peau et sans arêtes. Ma...</td>\n",
              "      <td>NaN</td>\n",
              "      <td>https://www.auchan.fr/paves-de-saumon-d-ecosse...</td>\n",
              "      <td>paves saumon ecosse filiere responsable</td>\n",
              "      <td>NaN</td>\n",
              "      <td>NaN</td>\n",
              "      <td>NaN</td>\n",
              "      <td>NaN</td>\n",
              "      <td>11_Food</td>\n",
              "      <td>113_Fish and seafood</td>\n",
              "      <td>1131_Fresh or chilled fish</td>\n",
              "      <td>Auchan</td>\n",
              "      <td>NaN</td>\n",
              "      <td>13.99</td>\n",
              "      <td>862017</td>\n",
              "      <td>NaN</td>\n",
              "      <td>paves saumon ecosse filiere responsable</td>\n",
              "      <td>Pavés de saumon d'Ecosse filière responsable x...</td>\n",
              "      <td>NaN</td>\n",
              "      <td>56</td>\n",
              "      <td>6.315510e-12</td>\n",
              "      <td>1.096988e-11</td>\n",
              "      <td>2.024923e-10</td>\n",
              "      <td>2.799689e-10</td>\n",
              "      <td>6.841676e-13</td>\n",
              "      <td>1.827027e-09</td>\n",
              "      <td>1.007096e-13</td>\n",
              "      <td>6.922135e-14</td>\n",
              "      <td>2.118212e-07</td>\n",
              "      <td>3.766295e-09</td>\n",
              "      <td>7.130180e-09</td>\n",
              "      <td>5.511939e-10</td>\n",
              "      <td>3.413446e-09</td>\n",
              "      <td>6.249634e-10</td>\n",
              "      <td>...</td>\n",
              "      <td>8.848409e-15</td>\n",
              "      <td>1.197810e-11</td>\n",
              "      <td>1.150949e-09</td>\n",
              "      <td>8.268149e-07</td>\n",
              "      <td>3.087571e-08</td>\n",
              "      <td>8.744443e-10</td>\n",
              "      <td>1.851336e-13</td>\n",
              "      <td>4.086762e-07</td>\n",
              "      <td>1.055068e-14</td>\n",
              "      <td>6.467982e-15</td>\n",
              "      <td>2.691449e-13</td>\n",
              "      <td>1.378857e-16</td>\n",
              "      <td>4.122532e-13</td>\n",
              "      <td>3.571318e-15</td>\n",
              "      <td>2.904277e-10</td>\n",
              "      <td>6.157712e-09</td>\n",
              "      <td>1.890226e-08</td>\n",
              "      <td>9.670295e-08</td>\n",
              "      <td>1.511618e-10</td>\n",
              "      <td>2.201905e-15</td>\n",
              "      <td>2.944557e-12</td>\n",
              "      <td>2.369656e-14</td>\n",
              "      <td>2.118141e-07</td>\n",
              "      <td>5.688365e-12</td>\n",
              "      <td>7.780102e-12</td>\n",
              "      <td>1.159642e-09</td>\n",
              "      <td>1.067876e-13</td>\n",
              "      <td>1.433147e-09</td>\n",
              "      <td>1.557186e-10</td>\n",
              "      <td>8.798209e-11</td>\n",
              "      <td>1.368490e-12</td>\n",
              "      <td>4.395232e-09</td>\n",
              "      <td>1.329559e-09</td>\n",
              "      <td>1.662149e-14</td>\n",
              "      <td>5.573373e-13</td>\n",
              "      <td>3.310350e-13</td>\n",
              "      <td>1.734929e-12</td>\n",
              "      <td>6.127578e-09</td>\n",
              "      <td>2.252896e-08</td>\n",
              "      <td>0.771309</td>\n",
              "    </tr>\n",
              "  </tbody>\n",
              "</table>\n",
              "<p>1 rows × 102 columns</p>\n",
              "</div>"
            ],
            "text/plain": [
              "      Unnamed: 0.1  Unnamed: 0.1.1  ...  9999_Non-Food max_score\n",
              "4543         21023             964  ...   2.252896e-08  0.771309\n",
              "\n",
              "[1 rows x 102 columns]"
            ]
          },
          "metadata": {
            "tags": []
          },
          "execution_count": 25
        }
      ]
    },
    {
      "cell_type": "markdown",
      "metadata": {
        "id": "5WGhgHO8EbTq",
        "colab_type": "text"
      },
      "source": [
        "## Save data to Local Drive"
      ]
    },
    {
      "cell_type": "code",
      "metadata": {
        "id": "KnQkARJggsWg",
        "colab_type": "code",
        "colab": {}
      },
      "source": [
        "from google.colab import files\n",
        "\n",
        "df.to_csv('df_out.csv',sep='|')\n",
        "files.download('df_out.csv')"
      ],
      "execution_count": null,
      "outputs": []
    },
    {
      "cell_type": "markdown",
      "metadata": {
        "id": "mP34Q9mpNBl1",
        "colab_type": "text"
      },
      "source": [
        "## Save data to Google Drive"
      ]
    },
    {
      "cell_type": "code",
      "metadata": {
        "id": "5uVxlDBDTbUa",
        "colab_type": "code",
        "colab": {
          "base_uri": "https://localhost:8080/",
          "height": 35
        },
        "outputId": "b4d0c14d-6160-4da5-9c2c-0478a4a66882"
      },
      "source": [
        "df.to_csv(path+data_path+file_path,sep='|')\n",
        "print(file_path,'saved',len(df),'observation',sum(df.cc5.isna()==False),'labeled')"
      ],
      "execution_count": 26,
      "outputs": [
        {
          "output_type": "stream",
          "text": [
            "auchan.csv saved 25511 observation 191 labeled\n"
          ],
          "name": "stdout"
        }
      ]
    },
    {
      "cell_type": "code",
      "metadata": {
        "id": "sTstS8YdTyEi",
        "colab_type": "code",
        "colab": {}
      },
      "source": [
        ""
      ],
      "execution_count": null,
      "outputs": []
    }
  ]
}