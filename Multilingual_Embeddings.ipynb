{
  "nbformat": 4,
  "nbformat_minor": 0,
  "metadata": {
    "colab": {
      "name": "Multilingual_Embeddings.ipynb",
      "provenance": [],
      "collapsed_sections": [
        "J-HL27XLAVFo",
        "12gYRQI9TLoy"
      ],
      "toc_visible": true,
      "machine_shape": "hm",
      "include_colab_link": true
    },
    "kernelspec": {
      "name": "python3",
      "display_name": "Python 3"
    }
  },
  "cells": [
    {
      "cell_type": "markdown",
      "metadata": {
        "id": "view-in-github",
        "colab_type": "text"
      },
      "source": [
        "<a href=\"https://colab.research.google.com/github/ELehmann91/Thesis_Multilingual_Transferlearning/blob/master/Multilingual_Embeddings.ipynb\" target=\"_parent\"><img src=\"https://colab.research.google.com/assets/colab-badge.svg\" alt=\"Open In Colab\"/></a>"
      ]
    },
    {
      "cell_type": "markdown",
      "metadata": {
        "id": "0nxMDHTuaNU-",
        "colab_type": "text"
      },
      "source": [
        "# Download"
      ]
    },
    {
      "cell_type": "code",
      "metadata": {
        "id": "kPmxTTHUsMQx",
        "colab_type": "code",
        "colab": {
          "base_uri": "https://localhost:8080/",
          "height": 34
        },
        "outputId": "a6be6eee-ab02-430a-eb7d-12855f3b988e"
      },
      "source": [
        "from google.colab import drive, files\n",
        "import pickle\n",
        "\n",
        "drive.mount('/content/gdrive')\n",
        "path ='/content/gdrive/My Drive/Thesis_ecb_ecoicop'"
      ],
      "execution_count": 2,
      "outputs": [
        {
          "output_type": "stream",
          "text": [
            "Drive already mounted at /content/gdrive; to attempt to forcibly remount, call drive.mount(\"/content/gdrive\", force_remount=True).\n"
          ],
          "name": "stdout"
        }
      ]
    },
    {
      "cell_type": "markdown",
      "metadata": {
        "id": "i-ZknJaRrjQX",
        "colab_type": "text"
      },
      "source": [
        "## French Facebook Muse Embeddings\n",
        "download from facebbok and copy to drive"
      ]
    },
    {
      "cell_type": "code",
      "metadata": {
        "id": "bLbFfNewaHf7",
        "colab_type": "code",
        "colab": {
          "base_uri": "https://localhost:8080/",
          "height": 51
        },
        "outputId": "f7ef380b-bd79-4b51-978c-080fd0d68a34"
      },
      "source": [
        "%%time\n",
        "\n",
        "french = True\n",
        "\n",
        "if french:\n",
        "\n",
        "    # subset of MUSE Embedding\n",
        "    fr_muse = pickle.load( open(path + '/embeddings/fr_slim_embed.p', \"rb\" ) )\n",
        "    # subset of MUSE Embedding extendet by oov \n",
        "    fr_muse_ext = pickle.load( open(path + '/embeddings/fr_slim_embed_ext.p', \"rb\" ) )\n",
        "    # Embedding trained on supermarket data\n",
        "    fr_own_ft = pickle.load( open(path + '/embeddings/fr_embed_trained.p', \"rb\" ) )\n",
        "    #original MUSE Embedding (takes 5-10 min to load)\n",
        "    #fr_model = KeyedVectors.load_word2vec_format('/content/gdrive/My Drive/Thesis_ecb_ecoicop/embeddings/wiki.fr.vec')\n"
      ],
      "execution_count": 9,
      "outputs": [
        {
          "output_type": "stream",
          "text": [
            "CPU times: user 447 ms, sys: 111 ms, total: 558 ms\n",
            "Wall time: 3.96 s\n"
          ],
          "name": "stdout"
        }
      ]
    },
    {
      "cell_type": "markdown",
      "metadata": {
        "id": "dOgJ8t4brzG0",
        "colab_type": "text"
      },
      "source": [
        "## German Facebook Muse Embeddings\n",
        "download from facebook and copy to drive"
      ]
    },
    {
      "cell_type": "code",
      "metadata": {
        "id": "3L6oHWV7aMGD",
        "colab_type": "code",
        "colab": {
          "base_uri": "https://localhost:8080/",
          "height": 51
        },
        "outputId": "8cf4ab3a-bc53-4268-aa18-6f2c9c9189a6"
      },
      "source": [
        "%%time\n",
        "\n",
        "german = True\n",
        "if german:\n",
        "    # subset of MUSE Embedding\n",
        "    de_muse = pickle.load( open(path + '/embeddings/de_slim_embed.p', \"rb\" ) )\n",
        "    # subset of MUSE Embedding extendet by oov \n",
        "    de_muse_ext = pickle.load( open(path + '/embeddings/de_slim_embed_ext.p', \"rb\" ) )\n",
        "    # Embedding trained on supermarket data\n",
        "    de_own_ft = pickle.load( open(path + '/embeddings/de_embed_trained.p', \"rb\" ) )\n",
        "    #original MUSE Embedding (takes 5-10 min to load)\n",
        "    #de_model = KeyedVectors.load_word2vec_format('/content/gdrive/My Drive/Thesis_ecb_ecoicop/embeddings/wiki.de.vec')"
      ],
      "execution_count": 11,
      "outputs": [
        {
          "output_type": "stream",
          "text": [
            "CPU times: user 762 ms, sys: 228 ms, total: 990 ms\n",
            "Wall time: 6.12 s\n"
          ],
          "name": "stdout"
        }
      ]
    },
    {
      "cell_type": "markdown",
      "metadata": {
        "id": "Afrk_bn4tser",
        "colab_type": "text"
      },
      "source": [
        "# Test Similarity of Embeddings"
      ]
    },
    {
      "cell_type": "code",
      "metadata": {
        "id": "AZiDxP1LTSHZ",
        "colab_type": "code",
        "colab": {}
      },
      "source": [
        "import numpy as np\n",
        "\n",
        "def cosine_similarity( vec_a, vec_b):\n",
        "    \"\"\"Compute cosine similarity between vec_a and vec_b\"\"\"\n",
        "    return np.dot(vec_a, vec_b) / \\\n",
        "        (np.linalg.norm(vec_a) * np.linalg.norm(vec_b))\n",
        "\n",
        "def repla(w):\n",
        "    \"\"\" multi-replace by dict \"\"\"\n",
        "    for a,b in rep_dict.items():\n",
        "        w = w.replace(a,b)\n",
        "    return w\n",
        "  \n",
        "rep_dict = {'.':' ',\n",
        "                ',': ' ',\n",
        "                '&': ' ',\n",
        "                '-': ' ',\n",
        "                '/': ' ',\n",
        "                'ü': 'ue',\n",
        "                'ä': 'ae',\n",
        "                'ö': 'oe',\n",
        "                'ß': 'ss',\n",
        "                'ê': 'e',\n",
        "                'é': 'e',\n",
        "                'è': 'e',\n",
        "                'â': 'a',\n",
        "                'á': 'a',\n",
        "                'à': 'a',\n",
        "                'œ': 'ae',\n",
        "                'î': 'i',\n",
        "                'ç':'c',\n",
        "                'ô':'o',\n",
        "                '%': ' percent ',\n",
        "                '1': ' one ',\n",
        "                '2': ' two ',\n",
        "                '3': ' three ',\n",
        "                '4': ' four ',\n",
        "                '5': ' five ',\n",
        "                '6': ' six ',\n",
        "                '7': ' seven ',\n",
        "                '8': ' eigth ',\n",
        "                '9': ' nine ',\n",
        "                '0': ' zero ',\n",
        "                ' l ':' liter ',\n",
        "                ' ml ':' liter '\n",
        "                }"
      ],
      "execution_count": null,
      "outputs": []
    },
    {
      "cell_type": "markdown",
      "metadata": {
        "id": "8B6O8oe0S7zq",
        "colab_type": "text"
      },
      "source": [
        "### test dict"
      ]
    },
    {
      "cell_type": "code",
      "metadata": {
        "id": "ff8lj0qe4jUp",
        "colab_type": "code",
        "colab": {
          "base_uri": "https://localhost:8080/",
          "height": 34
        },
        "outputId": "762a40cc-6999-40ec-df6e-5db23179c4ed"
      },
      "source": [
        "de_fr_dict = {\n",
        "    'lebensmittel':'aliments',\n",
        "    'getränke':'boissons',\n",
        "    'obst':'fruit',\n",
        "    'gemüse':'légume',\n",
        "    'reis':'riz',\n",
        "    'nuss':'noix',\n",
        "    #'kartoffel':'pomme de terre',\n",
        "    'apfel':'pomme',\n",
        "    'erdbeere':'fraise',\n",
        "    'banane':'banane',\n",
        "    'salat':'salade',\n",
        "    'garnelen':'crevettes',\n",
        "    'muscheln':'coquilles',\n",
        "    'getreide':'céréales',\n",
        "    'mehl':'mer',\n",
        "    'wurzel':'racine',\n",
        "    'fleisch':'viande',\n",
        "    'innereien':'abats',\n",
        "    #'süßigkeiten':'friandise',\n",
        "    #'quark':'quark',\n",
        "    'salz':'sel',\n",
        "    'pfeffer':'poivre',\n",
        "    'erdnuss':'arachide',\n",
        "    'frühstück':'déjeuner',\n",
        "    #'abendessen':'dîner',\n",
        "    'nudeln':'nouilles',\n",
        "    'soße':'sauce',\n",
        "    'zucker':'sucre',\n",
        "    'schokolade':'chocolat',\n",
        "    'kakao':'cacao',\n",
        "    'fett':'graisse',\n",
        "    'pizza':'pizza',\n",
        "    'gewürze':'épices',\n",
        "    'eis':'glace',\n",
        "    'eier':'œufs',\n",
        "    'baby':'bébé',\n",
        "    #'alkohol':' alcool',\n",
        "    'honig':'miel',\n",
        "    'senf':'moutarde',\n",
        "    'tomate':'tomate',\n",
        "    'saft':'jus',\n",
        "    'oliven':'olive',\n",
        "    'pilze':'champignons',\n",
        "    'kaffee': 'café',\n",
        "    'tee': 'thé',\n",
        "    'wurst' : 'saucisse',\n",
        "    #'konfitüre': 'confiture',\n",
        "    'käse': 'fromage',\n",
        "    'gebäck':  'biscuits',\n",
        "    'eis' : 'glace',\n",
        "    'milch': 'lait',\n",
        "    'brot':  'pain',\n",
        "    'suppe': 'soupe',\n",
        "    'huhn':  'poulet',\n",
        "    'fisch':  'poisson',\n",
        "    'butter': 'beurre',\n",
        "    #'kuchen': 'gâteau',\n",
        "    'schinken':  'jambon',\n",
        "    'saft': 'jus',\n",
        "    'fleisch': 'viande',\n",
        "    'zucker': 'sucre',\n",
        "    'schwein': 'porc',\n",
        "    #   'rind': 'bétail',\n",
        "    'pizza': 'pizza',\n",
        "    #   'öl': 'huile', \n",
        "    'eier': 'oeufs',\n",
        "    'wasser': 'eau',\n",
        "    'bier': 'bière',\n",
        "    'getrocknet':'séché',\n",
        "    'gefroren':'gelé',\n",
        "    'frisch':'frais',\n",
        "    'zero':'zero',\n",
        "    'one':'one',\n",
        "    'two':'two',\n",
        "    'three':'three',\n",
        "    'four':'four',\n",
        "    'five':'five',\n",
        "    'six':'six',\n",
        "    'seven':'seven',\n",
        "    'eight':'eight',\n",
        "    'nine':'nine',\n",
        "    'verpackung':'emballage',\n",
        "    'sorten':'variétés',\n",
        "    'alkoholische':'alcoolique',\n",
        "    'milcherzeugnisse':'laitiers',\n",
        "    'pfand':'dépôt',\n",
        "    'zutaten':'ingrédients',\n",
        "    'flasche':'bouteille',\n",
        "    'kauf':'achat',\n",
        "    'weine':'vins',\n",
        "    'fruechte':'fruits',\n",
        "    'spirituosen':'spiritueux',\n",
        "    'aufstriche':'tartiner',\n",
        "    #'tiefkuehlkost':'surgelés',\n",
        "    'fertiggerichte':'préparés',\n",
        "    'bio':'bio',\n",
        "    'liter':'liter',\n",
        "    'hygiene':'hygiene',\n",
        "    'haus':'maison',\n",
        "    'textilien':'textile',\n",
        "    'schön':'beaute'\n",
        "}\n",
        "len(de_fr_dict)"
      ],
      "execution_count": null,
      "outputs": [
        {
          "output_type": "execute_result",
          "data": {
            "text/plain": [
              "85"
            ]
          },
          "metadata": {
            "tags": []
          },
          "execution_count": 3
        }
      ]
    },
    {
      "cell_type": "code",
      "metadata": {
        "id": "iVPsdXcJt317",
        "colab_type": "code",
        "colab": {
          "base_uri": "https://localhost:8080/",
          "height": 214
        },
        "outputId": "157b8b86-36cf-4528-ae3e-74587bb4e255"
      },
      "source": [
        "similar = []\n",
        "for de,fr in de_fr_dict.items():\n",
        "    fr = repla(fr)\n",
        "    de = repla(de)\n",
        "    similar.append(cosine_similarity(fr_muse[fr],de_muse[de]))\n",
        "np.mean(similar)"
      ],
      "execution_count": null,
      "outputs": [
        {
          "output_type": "error",
          "ename": "NameError",
          "evalue": "ignored",
          "traceback": [
            "\u001b[0;31m---------------------------------------------------------------------------\u001b[0m",
            "\u001b[0;31mNameError\u001b[0m                                 Traceback (most recent call last)",
            "\u001b[0;32m<ipython-input-4-4c343b33dd2d>\u001b[0m in \u001b[0;36m<module>\u001b[0;34m()\u001b[0m\n\u001b[1;32m      3\u001b[0m     \u001b[0mfr\u001b[0m \u001b[0;34m=\u001b[0m \u001b[0mrepla\u001b[0m\u001b[0;34m(\u001b[0m\u001b[0mfr\u001b[0m\u001b[0;34m)\u001b[0m\u001b[0;34m\u001b[0m\u001b[0;34m\u001b[0m\u001b[0m\n\u001b[1;32m      4\u001b[0m     \u001b[0mde\u001b[0m \u001b[0;34m=\u001b[0m \u001b[0mrepla\u001b[0m\u001b[0;34m(\u001b[0m\u001b[0mde\u001b[0m\u001b[0;34m)\u001b[0m\u001b[0;34m\u001b[0m\u001b[0;34m\u001b[0m\u001b[0m\n\u001b[0;32m----> 5\u001b[0;31m     \u001b[0msimilar\u001b[0m\u001b[0;34m.\u001b[0m\u001b[0mappend\u001b[0m\u001b[0;34m(\u001b[0m\u001b[0mcosine_similarity\u001b[0m\u001b[0;34m(\u001b[0m\u001b[0mfr_muse\u001b[0m\u001b[0;34m[\u001b[0m\u001b[0mfr\u001b[0m\u001b[0;34m]\u001b[0m\u001b[0;34m,\u001b[0m\u001b[0mde_muse\u001b[0m\u001b[0;34m[\u001b[0m\u001b[0mde\u001b[0m\u001b[0;34m]\u001b[0m\u001b[0;34m)\u001b[0m\u001b[0;34m)\u001b[0m\u001b[0;34m\u001b[0m\u001b[0;34m\u001b[0m\u001b[0m\n\u001b[0m\u001b[1;32m      6\u001b[0m \u001b[0mnp\u001b[0m\u001b[0;34m.\u001b[0m\u001b[0mmean\u001b[0m\u001b[0;34m(\u001b[0m\u001b[0msimilar\u001b[0m\u001b[0;34m)\u001b[0m\u001b[0;34m\u001b[0m\u001b[0;34m\u001b[0m\u001b[0m\n",
            "\u001b[0;31mNameError\u001b[0m: name 'fr_muse' is not defined"
          ]
        }
      ]
    },
    {
      "cell_type": "markdown",
      "metadata": {
        "id": "3yJdm2SdTAE4",
        "colab_type": "text"
      },
      "source": [
        "### fucntions"
      ]
    },
    {
      "cell_type": "code",
      "metadata": {
        "id": "DjXwV9TFoDvO",
        "colab_type": "code",
        "colab": {}
      },
      "source": [
        "def similar(word,embed,no=5):\n",
        "    mean =  np.array(embed[word])\n",
        "    limited = np.array(list(embed.values()))\n",
        "    dists = np.dot(limited, mean)\n",
        "    w2d = dict(zip(list(embed.keys()),list(dists)))\n",
        "    dist_milch = [(k,v) for k, v in sorted(w2d.items(), key=lambda item: item[1], reverse=True)]\n",
        "    return dist_milch[1:no+1]\n",
        "\n",
        "def similar_v(v,embed,no=5):\n",
        "    limited = np.array(list(embed.values()))\n",
        "    dists = np.dot(limited, v)\n",
        "    w2d = dict(zip(list(embed.keys()),list(dists)))\n",
        "    dist_milch = [(k,v) for k, v in sorted(w2d.items(), key=lambda item: item[1], reverse=True)]\n",
        "    return dist_milch[1:no+1]\n",
        "  \n",
        "def shared_dict(embed_src,embed_tgt):\n",
        "    in_both_words = [w for w in embed_src if w in embed_tgt]\n",
        "    im_both_dict = {}\n",
        "    for w in in_both_words:\n",
        "        im_both_dict[w] = embed_src[w]\n",
        "    return im_both_dict\n",
        "\n",
        "def similar_both(word,embed_src,embed_tgt,im_both_dict,no=5):\n",
        "    \n",
        "    mean =  np.array(embed_src[word])\n",
        "    limited = np.array(list(im_both_dict.values()))\n",
        "    dists = np.dot(limited, mean)\n",
        "    w2d = dict(zip(list(im_both_dict.keys()),list(dists)))\n",
        "    dist_milch = [[k,v] for k, v in sorted(w2d.items(), key=lambda item: item[1], reverse=True)]\n",
        "\n",
        "    new_vec = np.zeros(mean.shape[0])\n",
        "    v_sum = 0\n",
        "    for k,v in dist_milch[:no]:\n",
        "        new_vec += embed_tgt[k] * v\n",
        "        v_sum += v\n",
        "    new_vec = new_vec / v_sum\n",
        "    new_vec /= np.linalg.norm(new_vec)\n",
        "    return new_vec"
      ],
      "execution_count": null,
      "outputs": []
    },
    {
      "cell_type": "markdown",
      "metadata": {
        "id": "THY4vm3fcl0q",
        "colab_type": "text"
      },
      "source": [
        "# Train own embeddings"
      ]
    },
    {
      "cell_type": "code",
      "metadata": {
        "id": "CrCdt3Hacour",
        "colab_type": "code",
        "colab": {}
      },
      "source": [
        "import gensim"
      ],
      "execution_count": 3,
      "outputs": []
    },
    {
      "cell_type": "code",
      "metadata": {
        "id": "5YFJGF4Ehv4L",
        "colab_type": "code",
        "colab": {
          "base_uri": "https://localhost:8080/",
          "height": 204
        },
        "outputId": "04a653d2-1299-4109-df28-da92079b9097"
      },
      "source": [
        "!wget 'https://raw.githubusercontent.com/ELehmann91/Thesis_Multilingual_Transferlearning/master/model_helper.py'\n",
        "import model_helper"
      ],
      "execution_count": 4,
      "outputs": [
        {
          "output_type": "stream",
          "text": [
            "--2020-06-26 19:05:25--  https://raw.githubusercontent.com/ELehmann91/Thesis_Multilingual_Transferlearning/master/model_helper.py\n",
            "Resolving raw.githubusercontent.com (raw.githubusercontent.com)... 151.101.0.133, 151.101.64.133, 151.101.128.133, ...\n",
            "Connecting to raw.githubusercontent.com (raw.githubusercontent.com)|151.101.0.133|:443... connected.\n",
            "HTTP request sent, awaiting response... 200 OK\n",
            "Length: 11797 (12K) [text/plain]\n",
            "Saving to: ‘model_helper.py’\n",
            "\n",
            "\rmodel_helper.py       0%[                    ]       0  --.-KB/s               \rmodel_helper.py     100%[===================>]  11.52K  --.-KB/s    in 0s      \n",
            "\n",
            "2020-06-26 19:05:25 (117 MB/s) - ‘model_helper.py’ saved [11797/11797]\n",
            "\n"
          ],
          "name": "stdout"
        }
      ]
    },
    {
      "cell_type": "markdown",
      "metadata": {
        "id": "0_jgSYGamO0k",
        "colab_type": "text"
      },
      "source": [
        "## German"
      ]
    },
    {
      "cell_type": "code",
      "metadata": {
        "id": "yKLHSXiGhL0y",
        "colab_type": "code",
        "colab": {
          "base_uri": "https://localhost:8080/",
          "height": 51
        },
        "outputId": "3d748b58-dd9c-4638-fea9-b3d6edf06792"
      },
      "source": [
        "import pandas as pd\n",
        "import numpy as np\n",
        "\n",
        "data_path = '/data/'#\n",
        "file_path = 'normalized/norm_de.csv'\n",
        "\n",
        "if True:\n",
        "    # german data\n",
        "    df_de = pd.read_csv(path+data_path+file_path,sep='|',index_col=False)\n",
        "    df_at = pd.read_csv(path+data_path+'normalized/norm_at.csv',sep='|',index_col=False)\n",
        "    df_de.append(df_at)\n",
        "    len(df_de)\n",
        "\n",
        "    de_voc = model_helper.vocab(df_in=df_de)\n",
        "    de_documents = de_voc.get_list(token=True)\n",
        "    de_voc_count = de_voc.get_vocab(count=True)"
      ],
      "execution_count": 5,
      "outputs": [
        {
          "output_type": "stream",
          "text": [
            "/usr/local/lib/python3.6/dist-packages/IPython/core/interactiveshell.py:2718: DtypeWarning: Columns (5,8,17,18,98) have mixed types.Specify dtype option on import or set low_memory=False.\n",
            "  interactivity=interactivity, compiler=compiler, result=result)\n"
          ],
          "name": "stderr"
        }
      ]
    },
    {
      "cell_type": "code",
      "metadata": {
        "id": "tDNLkmX4BUP9",
        "colab_type": "code",
        "colab": {
          "base_uri": "https://localhost:8080/",
          "height": 34
        },
        "outputId": "f18a3525-060d-4375-91a1-7f72f6ad75e9"
      },
      "source": [
        "len(df_de)"
      ],
      "execution_count": 6,
      "outputs": [
        {
          "output_type": "execute_result",
          "data": {
            "text/plain": [
              "505395"
            ]
          },
          "metadata": {
            "tags": []
          },
          "execution_count": 6
        }
      ]
    },
    {
      "cell_type": "code",
      "metadata": {
        "id": "fb3WjeYTJ3OH",
        "colab_type": "code",
        "colab": {
          "base_uri": "https://localhost:8080/",
          "height": 34
        },
        "outputId": "6259fc5e-cffd-4cc1-faca-e0f0b415cd59"
      },
      "source": [
        "i=0\n",
        "for word in de_voc_count.keys():\n",
        "    if word in de_muse_ext.keys():\n",
        "        i+=1\n",
        "print(i,len(de_voc_count),i/len(de_voc_count))"
      ],
      "execution_count": 12,
      "outputs": [
        {
          "output_type": "stream",
          "text": [
            "60667 114056 0.531905379813425\n"
          ],
          "name": "stdout"
        }
      ]
    },
    {
      "cell_type": "markdown",
      "metadata": {
        "id": "7TdadNIZ8KEh",
        "colab_type": "text"
      },
      "source": [
        "### W2V"
      ]
    },
    {
      "cell_type": "code",
      "metadata": {
        "id": "zL2kWt0GhMHV",
        "colab_type": "code",
        "colab": {
          "base_uri": "https://localhost:8080/",
          "height": 51
        },
        "outputId": "76b8ef71-6336-4339-f5a5-5e78aae4529d"
      },
      "source": [
        "%%time\n",
        "if False:\n",
        "    w2v_de = gensim.models.Word2Vec (de_documents, size=150, window=10, min_count=2, workers=10)\n",
        "    w2v_de.train(de_documents,total_examples=len(de_documents),epochs=10)\n",
        "    w1 = \"milch\"\n",
        "    print(w2v_de.wv.most_similar (positive=w1))\n",
        "\n",
        "    de_own_ft_w2v = {} \n",
        "    for word in [k for k, v in sorted(de_voc_count.items(), key=lambda item: item[1],reverse=True)]:\n",
        "        try: de_own_ft_w2v[word] = w2v_de.wv[word]\n",
        "        except:\n",
        "          print(word)\n",
        "    x_tgt = list(de_own_ft_w2v.values())\n",
        "    x_tgt /= np.linalg.norm(x_tgt, axis=1)[:, np.newaxis] + 1e-8\n",
        "    de_own_ft = dict(zip(list(de_own_ft.keys()),x_tgt))"
      ],
      "execution_count": null,
      "outputs": [
        {
          "output_type": "stream",
          "text": [
            "CPU times: user 4 µs, sys: 0 ns, total: 4 µs\n",
            "Wall time: 7.15 µs\n"
          ],
          "name": "stdout"
        }
      ]
    },
    {
      "cell_type": "markdown",
      "metadata": {
        "id": "SqGn6lt88N41",
        "colab_type": "text"
      },
      "source": [
        "### Fasttext"
      ]
    },
    {
      "cell_type": "code",
      "metadata": {
        "id": "OhMCGaXW_KAl",
        "colab_type": "code",
        "colab": {}
      },
      "source": [
        "from gensim.corpora.wikicorpus import WikiCorpus\n",
        "from gensim.corpora import MmCorpus\n",
        "import gensim\n",
        "import multiprocessing\n",
        "from gensim.models.word2vec import Word2Vec"
      ],
      "execution_count": null,
      "outputs": []
    },
    {
      "cell_type": "code",
      "metadata": {
        "id": "FoxU0e9E3zeV",
        "colab_type": "code",
        "colab": {
          "base_uri": "https://localhost:8080/",
          "height": 204
        },
        "outputId": "c50f5f79-c1da-4a91-8418-d29ddfcad093"
      },
      "source": [
        "if False:\n",
        "#!wget https://dumps.wikimedia.org/dewiki/latest/dewiki-latest-pages-articles1.xml-p1p262468.bz2 #dewiki-latest-pages-articles.xml.bz2\n",
        "    %time wiki = WikiCorpus('dewiki-latest-pages-articles1.xml-p1p262468.bz2')\n",
        "\n",
        "    class MySentences(object): \n",
        "        def __iter__(self): \n",
        "            for text in wiki.get_texts(): \n",
        "                #yield [word.decode() for word in text] \n",
        "                yield [word.lower() for word in text] \n",
        "    sentences = MySentences()\n",
        "\n",
        "    import multiprocessing\n",
        "    from gensim.models import FastText\n",
        "    sentences = MySentences()\n",
        "    params = {'size': 300, 'window': 6, 'iter':5,'word_ngrams':0,'sg':1,'min_count':10,'sorted_vocab':1, \n",
        "              'workers': max(1, multiprocessing.cpu_count()), 'sample': 1e-3,}\n",
        "\n",
        "    ft_de = FastText(**params)\n",
        "    ft_de.build_vocab(sentences)\n",
        "    ft_de.train(sentences, total_examples=ft_de.corpus_count, epochs=20)\n",
        "\n",
        "    #ft_de.save('wiki.ft_300.model')\n",
        "    ft_de.build_vocab(de_documents, update=True)\n",
        "    ft_de.train(de_documents,len(de_documents),epochs=40)\n",
        "\n",
        "    ft_de.most_similar('banane')"
      ],
      "execution_count": null,
      "outputs": [
        {
          "output_type": "stream",
          "text": [
            "--2020-06-22 18:14:43--  https://dumps.wikimedia.org/dewiki/latest/dewiki-latest-pages-articles1.xml-p1p262468.bz2\n",
            "Resolving dumps.wikimedia.org (dumps.wikimedia.org)... 208.80.154.7, 2620:0:861:1:208:80:154:7\n",
            "Connecting to dumps.wikimedia.org (dumps.wikimedia.org)|208.80.154.7|:443... connected.\n",
            "HTTP request sent, awaiting response... 200 OK\n",
            "Length: 473042912 (451M) [application/octet-stream]\n",
            "Saving to: ‘dewiki-latest-pages-articles1.xml-p1p262468.bz2’\n",
            "\n",
            "dewiki-latest-pages 100%[===================>] 451.13M  4.55MB/s    in 1m 43s  \n",
            "\n",
            "2020-06-22 18:16:26 (4.36 MB/s) - ‘dewiki-latest-pages-articles1.xml-p1p262468.bz2’ saved [473042912/473042912]\n",
            "\n"
          ],
          "name": "stdout"
        }
      ]
    },
    {
      "cell_type": "code",
      "metadata": {
        "id": "TqGH36bA8P1u",
        "colab_type": "code",
        "colab": {
          "base_uri": "https://localhost:8080/",
          "height": 105
        },
        "outputId": "defa613d-123f-424b-d848-b54e3f66c3bd"
      },
      "source": [
        "%%time\n",
        "import multiprocessing\n",
        "from gensim.models import FastText\n",
        "import pickle\n",
        "\n",
        "if True:\n",
        "    params = {'size': 300, 'window': 6, 'iter':20,'word_ngrams':1,'sg':1,'min_count':20,'sorted_vocab':1, \n",
        "              'workers': max(1, multiprocessing.cpu_count()), 'sample': 1e-3,}\n",
        "\n",
        "    ft_de = FastText(**params)\n",
        "    ft_de.build_vocab(de_documents)\n",
        "    ft_de.train(de_documents, total_examples=ft_de.corpus_count, epochs=20)\n",
        "\n",
        "    ft_de.wv.most_similar('milch')\n"
      ],
      "execution_count": null,
      "outputs": [
        {
          "output_type": "stream",
          "text": [
            "CPU times: user 2h 51min 10s, sys: 13.1 s, total: 2h 51min 24s\n",
            "Wall time: 43min 45s\n"
          ],
          "name": "stdout"
        },
        {
          "output_type": "stream",
          "text": [
            "/usr/local/lib/python3.6/dist-packages/gensim/matutils.py:737: FutureWarning: Conversion of the second argument of issubdtype from `int` to `np.signedinteger` is deprecated. In future, it will be treated as `np.int64 == np.dtype(int).type`.\n",
            "  if np.issubdtype(vec.dtype, np.int):\n"
          ],
          "name": "stderr"
        }
      ]
    },
    {
      "cell_type": "code",
      "metadata": {
        "id": "8ZI-FQfFpVP-",
        "colab_type": "code",
        "colab": {}
      },
      "source": [
        "voc_sub = []\n",
        "for word in ft_de.vocab:\n",
        "    for i in range (len(word)-2):\n",
        "        voc_sub.append(word[i:i+3])"
      ],
      "execution_count": null,
      "outputs": []
    },
    {
      "cell_type": "code",
      "metadata": {
        "id": "4PwGOT4fpJTz",
        "colab_type": "code",
        "colab": {}
      },
      "source": [
        "sub_vocab = [b for b in ft_de.vocab]"
      ],
      "execution_count": null,
      "outputs": []
    },
    {
      "cell_type": "code",
      "metadata": {
        "id": "BsaRWHM-pJcM",
        "colab_type": "code",
        "colab": {}
      },
      "source": [
        "    de_own_ft = {} \n",
        "    for word in [k for k, v in sorted(de_voc_count.items(), key=lambda item: item[1],reverse=True)]:\n",
        "        try: de_own_ft[word] = ft_de.wv[word]\n",
        "        except:\n",
        "          print(word)\n",
        "\n",
        "    x_tgt = list(de_own_ft.values())\n",
        "    x_tgt /= np.linalg.norm(x_tgt, axis=1)[:, np.newaxis] + 1e-8\n",
        "    de_own_ft = dict(zip(list(de_own_ft.keys()),x_tgt))\n",
        "    pickle.dump(de_own_ft, open(path + '/embeddings/de_embed_trained.p', \"wb\" ))\n",
        "\n",
        "else:\n",
        "    de_own_ft = pickle.load( open(path + '/embeddings/de_embed_trained.p', \"rb\" ))\n",
        "    x_tgt = list(de_own_ft.values())\n",
        "    x_tgt /= np.linalg.norm(x_tgt, axis=1)[:, np.newaxis] + 1e-8\n",
        "    de_own_ft = dict(zip(list(de_own_ft.keys()),x_tgt))"
      ],
      "execution_count": null,
      "outputs": []
    },
    {
      "cell_type": "code",
      "metadata": {
        "id": "Px-zXuhuyoYE",
        "colab_type": "code",
        "colab": {
          "base_uri": "https://localhost:8080/",
          "height": 33
        },
        "outputId": "894b732d-70b3-4c2c-b100-63ea9c201b2d"
      },
      "source": [
        "cosine_similarity(de_own_ft['milch'],de_own_ft['joghurt'])"
      ],
      "execution_count": null,
      "outputs": [
        {
          "output_type": "execute_result",
          "data": {
            "text/plain": [
              "0.37362045"
            ]
          },
          "metadata": {
            "tags": []
          },
          "execution_count": 35
        }
      ]
    },
    {
      "cell_type": "markdown",
      "metadata": {
        "id": "LjZoE3ZtHD-E",
        "colab_type": "text"
      },
      "source": [
        "### Translation of most freq words"
      ]
    },
    {
      "cell_type": "code",
      "metadata": {
        "id": "YE6RHMDGDinA",
        "colab_type": "code",
        "colab": {}
      },
      "source": [
        "import re\n",
        "def prepro(line,rep_dict):\n",
        "    if isinstance(line,str):\n",
        "        text_str = ' '.join(str(t) for t in line.split())\n",
        "        text_str = text_str.lower()\n",
        "        for a,b in rep_dict.items():\n",
        "            text_str = text_str.replace(a,b)\n",
        "        text_str = re.sub('[^a-zäöüàáâéèêßœ]+', ' ', text_str)\n",
        "    else: \n",
        "        text_str = str(line)\n",
        "        print(line)\n",
        "    return text_str\n",
        "\n",
        "class vocab(object):\n",
        "    '''\n",
        "    takes the standardized dataframe and gives out vocab, with index, with word counts\n",
        "    the text in rows as list of string or list of token and\n",
        "    builds a subset of embedding including out ov vocabulary items\n",
        "    '''\n",
        "    def __init__(self, df_in = None):\n",
        "        self.df_in = df_in\n",
        "        self.lang = str(self.df_in['lang'].iloc[1])\n",
        "        self.df_in['text'] =  self.df_in['name'].fillna('unknown') + ' ' + \\\n",
        "                              self.df_in['categ'].fillna('unknown') + ' ' + \\\n",
        "                              self.df_in['words_from_url'].fillna('unknown') \n",
        "    \n",
        "    def get_list(self,preprocess=True,token=False,one_obj =False):\n",
        "        if preprocess:\n",
        "            list_str = [prepro(line,rep_dict) for line in self.df_in['text']]\n",
        "        else:\n",
        "            list_str = [line for line in self.df_in['text']]\n",
        "        if token:\n",
        "            list_str = [[word for word in line.split()] for line in list_str]\n",
        "        if one_obj:\n",
        "            temp_list = []\n",
        "            for line in list_str:\n",
        "                tokens = [word for word in line.split()]\n",
        "                temp_list.extend(tokens)\n",
        "            list_str = temp_list\n",
        "        return list_str\n",
        "\n",
        "    def get_vocab(self,index=False,count=False):\n",
        "        vocab = {}\n",
        "        i=1\n",
        "        for tok in self.get_list(one_obj=True):\n",
        "            if tok in vocab and count:\n",
        "                vocab[tok] += 1\n",
        "            else:\n",
        "                if count:\n",
        "                    vocab[tok] = 1\n",
        "                else:\n",
        "                    vocab[tok] = i\n",
        "                    i += 1\n",
        "        if index or count:\n",
        "            return {k: v for k, v in sorted(vocab.items(), key=lambda item: item[1],reverse=True)}\n",
        "        else: \n",
        "            return list(vocab.keys())"
      ],
      "execution_count": null,
      "outputs": []
    },
    {
      "cell_type": "code",
      "metadata": {
        "id": "1RsqIr8MDKN5",
        "colab_type": "code",
        "colab": {
          "base_uri": "https://localhost:8080/",
          "height": 156
        },
        "outputId": "e8fef80c-3276-44d6-9346-839494ea6041"
      },
      "source": [
        "import pandas as pd\n",
        "import numpy as np\n",
        "\n",
        "data_path = '/data/'#\n",
        "#file_path = 'fra/carrfour_trans_pred.csv'\n",
        "file_path = 'normalized/norm_fr.csv'\n",
        "file_path2 = 'normalized/norm_de.csv'\n",
        "file_path3 = 'at/norm_at.csv'\n",
        "#file_path = 'edeka_pred.csv'\n",
        "\n",
        "# french data\n",
        "df_fr = pd.read_csv(path+data_path+file_path,sep='|',index_col=False)\n",
        "\n",
        "# only already labeled\n",
        "df_fr = df_fr[df_fr['cc5'].isna()==False]\n",
        "df_fr = df_fr[df_fr['shop'].isin( ['carrefour','auchan'])]#,'banque_de_france'])]\n",
        "df_fr['cc5'] = df_fr['cc5'].apply(lambda x: '9999_Non-Food' if int(str(x)[0])>2 else x)\n",
        "print(len(df_fr))\n",
        "\n",
        "# german data\n",
        "df_de = pd.read_csv(path+data_path+file_path2,sep='|',index_col=False)\n",
        "# only already labeled\n",
        "df_de = df_de[df_de['cc5'].isna()==False]\n",
        "print(len(df_de))\n",
        "# austrian data\n",
        "df_at = pd.read_csv(path+data_path+file_path3,sep='|',index_col=False)\n",
        "# only already labeled\n",
        "df_at = df_at[df_at['cc5'].isna()==False]\n",
        "df_de = df_de.append(df_at)\n",
        "print(len(df_de))"
      ],
      "execution_count": null,
      "outputs": [
        {
          "output_type": "stream",
          "text": [
            "/usr/local/lib/python3.6/dist-packages/IPython/core/interactiveshell.py:2718: DtypeWarning: Columns (0,3,4,5,6,7,8,9,10,11,12,13,14,16,17,18,19) have mixed types.Specify dtype option on import or set low_memory=False.\n",
            "  interactivity=interactivity, compiler=compiler, result=result)\n"
          ],
          "name": "stderr"
        },
        {
          "output_type": "stream",
          "text": [
            "7923\n"
          ],
          "name": "stdout"
        },
        {
          "output_type": "stream",
          "text": [
            "/usr/local/lib/python3.6/dist-packages/IPython/core/interactiveshell.py:2718: DtypeWarning: Columns (5,8,17,18,98) have mixed types.Specify dtype option on import or set low_memory=False.\n",
            "  interactivity=interactivity, compiler=compiler, result=result)\n"
          ],
          "name": "stderr"
        },
        {
          "output_type": "stream",
          "text": [
            "21903\n",
            "23199\n"
          ],
          "name": "stdout"
        }
      ]
    },
    {
      "cell_type": "code",
      "metadata": {
        "id": "WaIms7jZEZGJ",
        "colab_type": "code",
        "colab": {}
      },
      "source": [
        "de_voc = vocab(df_in=df_de)\n",
        "#de_documents = de_voc.get_list(token=True)\n",
        "de_voc_count = de_voc.get_vocab(count=True)\n",
        "\n",
        "fr_voc = vocab(df_in=df_fr)\n",
        "#de_documents = de_voc.get_list(token=True)\n",
        "fr_voc_count = de_voc.get_vocab(count=True)"
      ],
      "execution_count": null,
      "outputs": []
    },
    {
      "cell_type": "code",
      "metadata": {
        "id": "svK78lLwFm9X",
        "colab_type": "code",
        "colab": {
          "base_uri": "https://localhost:8080/",
          "height": 34
        },
        "outputId": "b438c691-e6b4-4e2f-a466-9da2a0a42b0b"
      },
      "source": [
        "len(fr_voc_count)"
      ],
      "execution_count": null,
      "outputs": [
        {
          "output_type": "execute_result",
          "data": {
            "text/plain": [
              "13608"
            ]
          },
          "metadata": {
            "tags": []
          },
          "execution_count": 17
        }
      ]
    },
    {
      "cell_type": "code",
      "metadata": {
        "id": "-BnwwOrOHELi",
        "colab_type": "code",
        "colab": {
          "base_uri": "https://localhost:8080/",
          "height": 34
        },
        "outputId": "960551c0-1aa3-4d7d-8e8f-6c020a11043f"
      },
      "source": [
        "%%capture\n",
        "!pip install --upgrade pip\n",
        "!pip install --upgrade google-api-python-client\n",
        "import getpass\n",
        "APIKEY = getpass.getpass()"
      ],
      "execution_count": null,
      "outputs": [
        {
          "output_type": "stream",
          "text": [
            "··········\n"
          ],
          "name": "stdout"
        }
      ]
    },
    {
      "cell_type": "code",
      "metadata": {
        "id": "e79dYOn_NAPt",
        "colab_type": "code",
        "colab": {}
      },
      "source": [
        "## running Translate API\n",
        "from googleapiclient.discovery import build\n",
        "service = build('translate', 'v2', developerKey=APIKEY)"
      ],
      "execution_count": null,
      "outputs": []
    },
    {
      "cell_type": "code",
      "metadata": {
        "id": "jtq-dnluIScG",
        "colab_type": "code",
        "colab": {}
      },
      "source": [
        "import pickle\n",
        "trans_list  = pickle.load( open(path + '/data/de_2000_fr.p', \"rb\" ) ) #\n",
        "#pickle.dump(trans_list, open(path + '/data/de_2000_fr.p', \"wb\" ))\n",
        "\n",
        "def repla(w):\n",
        "    \"\"\" multi-replace by dict \"\"\"\n",
        "    for a,b in rep_dict.items():\n",
        "        w = w.replace(a,b).lower()\n",
        "    return w\n",
        "\n"
      ],
      "execution_count": null,
      "outputs": []
    },
    {
      "cell_type": "code",
      "metadata": {
        "id": "4Rjnr_OeIevD",
        "colab_type": "code",
        "colab": {
          "base_uri": "https://localhost:8080/",
          "height": 34
        },
        "outputId": "a0a7f80a-e91b-40d2-afa1-929d4d61774d"
      },
      "source": [
        "for w_de in list(de_voc_count.keys())[:5000]:\n",
        "    if w_de in trans_list.keys():\n",
        "        trans_list[w_de] = trans_list[w_de]\n",
        "    else:\n",
        "        w_fr = service.translations().list(source='de', target='fr', q=w_de).execute()\n",
        "        trans_list[w_de] = w_fr['translations'][0]['translatedText']\n",
        "\n",
        "len(trans_list)\n"
      ],
      "execution_count": null,
      "outputs": [
        {
          "output_type": "execute_result",
          "data": {
            "text/plain": [
              "5737"
            ]
          },
          "metadata": {
            "tags": []
          },
          "execution_count": 59
        }
      ]
    },
    {
      "cell_type": "code",
      "metadata": {
        "id": "E1oho8U3Gt-q",
        "colab_type": "code",
        "colab": {
          "base_uri": "https://localhost:8080/",
          "height": 34
        },
        "outputId": "2690190d-f292-4a67-c7c6-d88227fe1fba"
      },
      "source": [
        "trans_list_rev = {b:a for a,b in trans_list.items()}\n",
        "\n",
        "for w_fr in list(fr_voc_count.keys())[:5000]:\n",
        "    if w_fr not in trans_list_rev.keys():\n",
        "        w_de = service.translations().list(source='fr', target='de', q=w_fr).execute()\n",
        "        w_de = w_de['translations'][0]['translatedText']\n",
        "        if w_de not in trans_list.keys():\n",
        "            trans_list[w_de] = w_fr\n",
        "\n",
        "len(trans_list)"
      ],
      "execution_count": null,
      "outputs": [
        {
          "output_type": "execute_result",
          "data": {
            "text/plain": [
              "7200"
            ]
          },
          "metadata": {
            "tags": []
          },
          "execution_count": 62
        }
      ]
    },
    {
      "cell_type": "code",
      "metadata": {
        "id": "Qz6ikrs6NcsM",
        "colab_type": "code",
        "colab": {}
      },
      "source": [
        "import pickle\n",
        "\n",
        "pickle.dump(trans_list, open(path + '/data/de_5000_fr.p', \"wb\" ))\n"
      ],
      "execution_count": null,
      "outputs": []
    },
    {
      "cell_type": "code",
      "metadata": {
        "id": "STHPa8lQJy7T",
        "colab_type": "code",
        "colab": {}
      },
      "source": [
        "fr_muse_ext = pickle.load( open(path + '/embeddings/fr_slim_embed_ext.p', \"rb\" ) )\n",
        "de_muse_ext = pickle.load( open(path + '/embeddings/de_slim_embed_ext.p', \"rb\" ) )"
      ],
      "execution_count": null,
      "outputs": []
    },
    {
      "cell_type": "code",
      "metadata": {
        "id": "KT8wZ1-7NZU7",
        "colab_type": "code",
        "colab": {}
      },
      "source": [
        "for de_w,fr_w in trans_list.items():\n",
        "    fr_w = repla(fr_w)\n",
        "    de_w = repla(de_w)\n",
        "\n",
        "    if de_w in de_muse_ext:\n",
        "        de_emb = de_muse_ext[de_w]\n",
        "    elif de_w in fr_muse_ext:\n",
        "        de_emb = fr_muse_ext[de_w]\n",
        "    else:\n",
        "        de_emb = np.zeros(300)\n",
        "\n",
        "    if len(fr_w.split(' '))>1:\n",
        "            i=0\n",
        "            emb_fr = np.zeros(300)\n",
        "            #print(fr_w.split(' '))\n",
        "            for w in fr_w.split(' '):\n",
        "                w=repla(w)\n",
        "                if len(w)>2: \n",
        "                    try:\n",
        "                        emb = fr_git_embed[w] \n",
        "                        i +=1\n",
        "                        #print(w)\n",
        "                        emb_fr += emb\n",
        "                    except:\n",
        "                        next\n",
        "            if i>0:\n",
        "                emb_fr = emb_fr/i\n",
        "                #print(emb_fr.shape)\n",
        "                fr_emb = emb_fr\n",
        "    else:\n",
        "        if fr_w in fr_muse_ext:\n",
        "            fr_emb = fr_muse_ext[fr_w]\n",
        "        #elif fr_w in de_muse_ext:\n",
        "        #    fr_emb = de_muse_ext[fr_w]\n",
        "        else:\n",
        "            fr_emb = np.zeros(300)\n",
        "\n",
        "    fr_muse_ext[de_w] = fr_emb\n",
        "    de_muse_ext[fr_w] = de_emb\n"
      ],
      "execution_count": null,
      "outputs": []
    },
    {
      "cell_type": "code",
      "metadata": {
        "id": "N_abRR6tNReI",
        "colab_type": "code",
        "colab": {}
      },
      "source": [
        "pickle.dump(fr_muse_ext, open(path + '/embeddings/fr_slim_embed_ext_voc_share.p', \"wb\" ))\n",
        "pickle.dump(de_muse_ext, open(path + '/embeddings/de_slim_embed_ext_voc_share.p', \"wb\" ))\n"
      ],
      "execution_count": null,
      "outputs": []
    },
    {
      "cell_type": "markdown",
      "metadata": {
        "id": "6Bf-uaBumRZ0",
        "colab_type": "text"
      },
      "source": [
        "## French"
      ]
    },
    {
      "cell_type": "code",
      "metadata": {
        "id": "rvzvk7dqmAf9",
        "colab_type": "code",
        "colab": {
          "base_uri": "https://localhost:8080/",
          "height": 71
        },
        "outputId": "e76cc13b-7760-4d61-f759-d5fcdd5a2cbc"
      },
      "source": [
        "import pandas as pd\n",
        "import numpy as np\n",
        "\n",
        "data_path = '/data/'#\n",
        "file_path = 'normalized/norm_fr.csv'\n",
        "\n",
        "if True:\n",
        "# french data\n",
        "    df_fr = pd.read_csv(path+data_path+file_path,sep='|',index_col=False)\n",
        "    fr_voc = model_helper.vocab(df_in=df_fr)\n",
        "    documents_fr = fr_voc.get_list(token=True)\n",
        "    fr_voc_count = fr_voc.get_vocab(count=True)\n",
        "    len(documents_fr)"
      ],
      "execution_count": 7,
      "outputs": [
        {
          "output_type": "stream",
          "text": [
            "/usr/local/lib/python3.6/dist-packages/IPython/core/interactiveshell.py:2718: DtypeWarning: Columns (0,3,4,5,6,7,8,9,10,11,12,13,14,16,17,18,19) have mixed types.Specify dtype option on import or set low_memory=False.\n",
            "  interactivity=interactivity, compiler=compiler, result=result)\n"
          ],
          "name": "stderr"
        }
      ]
    },
    {
      "cell_type": "code",
      "metadata": {
        "id": "k9V6Uw6SBxAj",
        "colab_type": "code",
        "colab": {
          "base_uri": "https://localhost:8080/",
          "height": 34
        },
        "outputId": "cac4ab13-7b03-4176-fed3-05fc63549923"
      },
      "source": [
        "i=0\n",
        "for word in fr_voc_count.keys():\n",
        "    if word in fr_muse.keys():\n",
        "        i+=1\n",
        "print(i,len(fr_voc_count),i/len(fr_voc_count),len(df_fr))"
      ],
      "execution_count": 10,
      "outputs": [
        {
          "output_type": "stream",
          "text": [
            "41211 55047 0.7486511526513706 329149\n"
          ],
          "name": "stdout"
        }
      ]
    },
    {
      "cell_type": "markdown",
      "metadata": {
        "id": "J-HL27XLAVFo",
        "colab_type": "text"
      },
      "source": [
        "### W2V"
      ]
    },
    {
      "cell_type": "code",
      "metadata": {
        "id": "VAMCCs4BmYzy",
        "colab_type": "code",
        "colab": {
          "base_uri": "https://localhost:8080/"
        },
        "outputId": "25bcc22f-aec7-4db2-91d4-e25fd3d8a788"
      },
      "source": [
        "%%time\n",
        "if False:\n",
        "    w2v_fr = gensim.models.Word2Vec (documents_fr, size=150, window=10, min_count=2, workers=10)\n",
        "    w2v_fr.train(documents_fr,total_examples=len(documents_fr),epochs=10)\n",
        "\n",
        "    print(w2v_fr.wv.most_similar('thé'))\n",
        "\n",
        "    fr_emb_ord_w2v = {} \n",
        "    for word in [k for k, v in sorted(fr_voc_count.items(), key=lambda item: item[1],reverse=True)]:\n",
        "        try:\n",
        "            fr_emb_ord_w2v[word] = w2v_fr.wv[word]\n",
        "        except:\n",
        "            print(word)\n",
        "    x_tgt = list(de_emb_ord_w2v.values())\n",
        "    x_tgt /= np.linalg.norm(x_tgt, axis=1)[:, np.newaxis] + 1e-8\n",
        "    de_emb_ord_w2v = dict(zip(list(de_emb_ord_w2v.keys()),x_tgt))"
      ],
      "execution_count": null,
      "outputs": [
        {
          "output_type": "stream",
          "text": [
            "CPU times: user 4 µs, sys: 0 ns, total: 4 µs\n",
            "Wall time: 6.68 µs\n"
          ],
          "name": "stdout"
        }
      ]
    },
    {
      "cell_type": "code",
      "metadata": {
        "id": "vRucIuu3BwSy",
        "colab_type": "code",
        "colab": {}
      },
      "source": [
        ""
      ],
      "execution_count": null,
      "outputs": []
    },
    {
      "cell_type": "markdown",
      "metadata": {
        "id": "6DIoeYYpAYl7",
        "colab_type": "text"
      },
      "source": [
        "### FastText"
      ]
    },
    {
      "cell_type": "code",
      "metadata": {
        "id": "lx0RsMIPAX2y",
        "colab_type": "code",
        "colab": {
          "base_uri": "https://localhost:8080/",
          "height": 50
        },
        "outputId": "2562735a-2f98-4294-baa6-7277d5a07fc1"
      },
      "source": [
        "%%time\n",
        "from gensim.models import FastText\n",
        "import multiprocessing\n",
        "import pickle\n",
        "\n",
        "if False:\n",
        "    params = {'size': 300, 'window': 8, 'iter':20,'word_ngrams':0,'sg':1,'min_count':10,'sorted_vocab':1 ,\n",
        "              'workers': max(1, multiprocessing.cpu_count() - 1\n",
        "                            ), 'sample': 1e-3,}\n",
        "\n",
        "    ft_fr = FastText(**params)\n",
        "    ft_fr.build_vocab(documents_fr)\n",
        "    ft_fr.train(documents_fr, total_examples=ft_fr.corpus_count, epochs=20)\n",
        "\n",
        "    print(ft_fr.wv.most_similar('lait'))\n",
        "\n",
        "    fr_own_ft = {} \n",
        "    for word in [k for k, v in sorted(fr_voc_count.items(), key=lambda item: item[1],reverse=True)]:\n",
        "        try:\n",
        "            fr_emb_ord[word] = ft_fr.wv[word]\n",
        "        except:\n",
        "            print(word)\n",
        "\n",
        "    x_tgt = list(fr_own_ft.values())\n",
        "    x_tgt /= np.linalg.norm(x_tgt, axis=1)[:, np.newaxis] + 1e-8\n",
        "    fr_own_ft = dict(zip(list(fr_own_ft.keys()),x_tgt))\n",
        "    pickle.dump( fr_own_ft, open(path + '/embeddings/fr_embed_trained.p', \"wb\" ) )\n",
        "else:\n",
        "    fr_own_ft = pickle.load( open(path + '/embeddings/fr_embed_trained.p', \"rb\" ) )\n",
        "    x_tgt = list(fr_own_ft.values())\n",
        "    x_tgt /= np.linalg.norm(x_tgt, axis=1)[:, np.newaxis] + 1e-8\n",
        "    fr_own_ft = dict(zip(list(fr_own_ft.keys()),x_tgt))"
      ],
      "execution_count": null,
      "outputs": [
        {
          "output_type": "stream",
          "text": [
            "CPU times: user 360 ms, sys: 86.3 ms, total: 446 ms\n",
            "Wall time: 452 ms\n"
          ],
          "name": "stdout"
        }
      ]
    },
    {
      "cell_type": "code",
      "metadata": {
        "id": "PEQ7b6JlmFip",
        "colab_type": "code",
        "colab": {
          "base_uri": "https://localhost:8080/",
          "height": 33
        },
        "outputId": "542517a4-12f7-4b91-b16f-18b8b58d1e06"
      },
      "source": [
        "cosine_similarity(fr_emb_ord['lait'],fr_emb_ord['fromage'])"
      ],
      "execution_count": null,
      "outputs": [
        {
          "output_type": "execute_result",
          "data": {
            "text/plain": [
              "0.219518"
            ]
          },
          "metadata": {
            "tags": []
          },
          "execution_count": 40
        }
      ]
    },
    {
      "cell_type": "markdown",
      "metadata": {
        "id": "LOxV6JJUY10u",
        "colab_type": "text"
      },
      "source": [
        "# Align Embeddings"
      ]
    },
    {
      "cell_type": "code",
      "metadata": {
        "id": "tVoKT9ln_2FG",
        "colab_type": "code",
        "colab": {}
      },
      "source": [
        "%%capture\n",
        "!pip install POT"
      ],
      "execution_count": null,
      "outputs": []
    },
    {
      "cell_type": "markdown",
      "metadata": {
        "id": "RgkQh-FRHKHH",
        "colab_type": "text"
      },
      "source": [
        "## Extend Vocab of pretrained Muse by own trained using KNN"
      ]
    },
    {
      "cell_type": "code",
      "metadata": {
        "id": "yfYpXwlpHN-g",
        "colab_type": "code",
        "colab": {}
      },
      "source": [
        "def similar(word,embed,no=5):\n",
        "    ''' get the n closed neighbours for a word '''\n",
        "    mean =  np.array(embed[word])\n",
        "    limited = np.array(list(embed.values()))\n",
        "    dists = np.dot(limited, mean)\n",
        "    w2d = dict(zip(list(embed.keys()),list(dists)))\n",
        "    dist_milch = [(k,v) for k, v in sorted(w2d.items(), key=lambda item: item[1], reverse=True)]\n",
        "    return dist_milch[1:no+1]\n",
        "\n",
        "def similar_v(v,embed,no=5):\n",
        "    ''' get the n closed neighbours for a vector '''\n",
        "    limited = np.array(list(embed.values()))\n",
        "    dists = np.dot(limited, v)\n",
        "    w2d = dict(zip(list(embed.keys()),list(dists)))\n",
        "    dist_milch = [(k,v) for k, v in sorted(w2d.items(), key=lambda item: item[1], reverse=True)]\n",
        "    return dist_milch[1:no+1]\n",
        "  \n",
        "def shared_dict(embed_src,embed_tgt):\n",
        "    ''' words are in A and B dict'''\n",
        "    in_both_words = [w for w in embed_src if w in embed_tgt]\n",
        "    im_both_dict = {}\n",
        "    for w in in_both_words:\n",
        "        im_both_dict[w] = embed_src[w]\n",
        "    return im_both_dict\n",
        "\n",
        "def similar_both(word,embed_src,embed_tgt,im_both_dict,no=5):\n",
        "    ''' transfer vocab from one space to another by its neighbours '''\n",
        "    if word in embed_src:\n",
        "        mean =  np.array(embed_src[word])\n",
        "        limited = np.array(list(im_both_dict.values()))\n",
        "        dists = np.dot(limited, mean)\n",
        "        w2d = dict(zip(list(im_both_dict.keys()),list(dists)))\n",
        "        dist_milch = [[k,v] for k, v in sorted(w2d.items(), key=lambda item: item[1], reverse=True)]\n",
        "\n",
        "        new_vec = np.zeros(mean.shape[0])\n",
        "        v_sum = 0\n",
        "        for k,v in dist_milch[:no]:\n",
        "            new_vec += embed_tgt[k] * v\n",
        "            v_sum += v\n",
        "        new_vec = new_vec / v_sum\n",
        "        new_vec /= np.linalg.norm(new_vec)\n",
        "        return new_vec\n",
        "    else:\n",
        "        return np.zeros(300)\n",
        "\n",
        "def objective(X, Y, R, n=5000):\n",
        "    Xn, Yn = X[:n], Y[:n]\n",
        "    C = -np.dot(np.dot(Xn, R), Yn.T)\n",
        "    P = ot.sinkhorn(np.ones(n), np.ones(n), C, 0.025, stopThr=1e-3)\n",
        "    return 1000 * np.linalg.norm(np.dot(Xn, R) - np.dot(P, Yn)) / n\n",
        "\n",
        "\n",
        "def sqrt_eig(x):\n",
        "    U, s, VT = np.linalg.svd(x, full_matrices=False)\n",
        "    return np.dot(U, np.dot(np.diag(np.sqrt(s)), VT))\n",
        "\n",
        "\n",
        "def align(X, Y, R, lr=10., bsz=200, nepoch=5, niter=1000,\n",
        "          nmax=10000, reg=0.05, verbose=True):\n",
        "    for epoch in range(1, nepoch + 1):\n",
        "        for _it in range(1, niter + 1):\n",
        "            # sample mini-batch\n",
        "            xt = X[np.random.permutation(nmax)[:bsz], :]\n",
        "            yt = Y[np.random.permutation(nmax)[:bsz], :]\n",
        "            # compute OT on minibatch\n",
        "            C = -np.dot(np.dot(xt, R), yt.T)\n",
        "            P = ot.sinkhorn(np.ones(bsz), np.ones(bsz), C, reg, stopThr=1e-3)\n",
        "            # compute gradient\n",
        "            G = - np.dot(xt.T, np.dot(P, yt))\n",
        "            R -= lr / bsz * G\n",
        "            # project on orthogonal matrices\n",
        "            U, s, VT = np.linalg.svd(R)\n",
        "            R = np.dot(U, VT)\n",
        "        bsz *= 2\n",
        "        niter //= 4\n",
        "        if verbose:\n",
        "            print(\"epoch: %d  obj: %.3f\" % (epoch, objective(X, Y, R)))\n",
        "    return R\n",
        "\n",
        "# this function does not work\n",
        "def convex_init(X, Y, niter=100, reg=0.05, apply_sqrt=False):\n",
        "    n, d = X.shape\n",
        "    if apply_sqrt:\n",
        "        X, Y = sqrt_eig(X), sqrt_eig(Y)\n",
        "    K_X, K_Y = np.dot(X, X.T), np.dot(Y, Y.T)\n",
        "    K_Y *= np.linalg.norm(K_X) / np.linalg.norm(K_Y)\n",
        "    K2_X, K2_Y = np.dot(K_X, K_X), np.dot(K_Y, K_Y)\n",
        "    P = np.ones([n, n]) / float(n)\n",
        "    for it in range(1, niter + 1):\n",
        "        G = np.dot(P, K2_X) + np.dot(K2_Y, P) - 2 * np.dot(K_Y, np.dot(P, K_X))\n",
        "        #print(it,G,np.sum(np.isnan(G)))\n",
        "        q = ot.sinkhorn(np.ones(n), np.ones(n), G, reg, stopThr=1e-3)\n",
        "        #print(it,q,np.sum(np.isnan(q)))\n",
        "        alpha = 2.0 / float(2.0 + it)\n",
        "        P = alpha * q + (1.0 - alpha) * P\n",
        "        #print(it,sum(np.isnan(G)),sum(np.isnan(q)),sum(np.isnan(P)))\n",
        "    obj = np.linalg.norm(np.dot(P, K_X) - np.dot(K_Y, P))\n",
        "    #print(sum(np.isnan(X)),sum(np.isnan(Y)),sum(np.isnan(P)))\n",
        "    return procrustes(np.dot(P, X), Y).T\n",
        "\n",
        "def procrustes(X_src, Y_tgt):\n",
        "    U, s, V = np.linalg.svd(np.dot(Y_tgt.T, X_src))\n",
        "    return np.dot(U, V)\n"
      ],
      "execution_count": null,
      "outputs": []
    },
    {
      "cell_type": "markdown",
      "metadata": {
        "id": "k-kKXLnTHwq2",
        "colab_type": "text"
      },
      "source": [
        "### Out of Vocab words to include to Muse"
      ]
    },
    {
      "cell_type": "markdown",
      "metadata": {
        "id": "74sSRbcA-TyM",
        "colab_type": "text"
      },
      "source": [
        "How does it work?  \n",
        "* calculate a shared dict\n",
        "* take the n closest words from shared dict\n",
        "* calcluated the weighted average of those "
      ]
    },
    {
      "cell_type": "code",
      "metadata": {
        "id": "rlwg6cCPVcMk",
        "colab_type": "code",
        "colab": {}
      },
      "source": [
        "x_tgt = list(de_own_ft.values())\n",
        "x_tgt /= np.linalg.norm(x_tgt, axis=1)[:, np.newaxis] + 1e-8\n",
        "de_own_ft = dict(zip(list(de_own_ft.keys()),x_tgt))"
      ],
      "execution_count": null,
      "outputs": []
    },
    {
      "cell_type": "code",
      "metadata": {
        "id": "4qN-jzPRVogs",
        "colab_type": "code",
        "colab": {}
      },
      "source": [
        "x_tgt = list(fr_own_ft.values())\n",
        "x_tgt /= np.linalg.norm(x_tgt, axis=1)[:, np.newaxis] + 1e-8\n",
        "fr_own_ft = dict(zip(list(fr_own_ft.keys()),x_tgt))"
      ],
      "execution_count": null,
      "outputs": []
    },
    {
      "cell_type": "code",
      "metadata": {
        "id": "yTkupPhsHOP6",
        "colab_type": "code",
        "colab": {
          "base_uri": "https://localhost:8080/",
          "height": 55
        },
        "outputId": "f30da99e-0bd3-47fd-bc21-cc595550f7f1"
      },
      "source": [
        "word = 'suesses'\n",
        "\n",
        "im_both_dict = shared_dict(de_own_ft,de_muse)\n",
        "new_v = similar_both(word,de_own_ft,de_muse,im_both_dict,10)\n",
        "print(word,similar_v(new_v,de_muse))"
      ],
      "execution_count": null,
      "outputs": [
        {
          "output_type": "stream",
          "text": [
            "suesses [('salzigem', 0.8042585822582351), ('salzigen', 0.7964649717836925), ('salziges', 0.7862433539749346), ('salziger', 0.7816343457101059), ('soesses', 0.7373135381107807)]\n"
          ],
          "name": "stdout"
        }
      ]
    },
    {
      "cell_type": "markdown",
      "metadata": {
        "id": "VoHb1BDQIGPX",
        "colab_type": "text"
      },
      "source": [
        "### Append to Muse"
      ]
    },
    {
      "cell_type": "code",
      "metadata": {
        "id": "pDKprorBIGZZ",
        "colab_type": "code",
        "colab": {
          "base_uri": "https://localhost:8080/",
          "height": 54
        },
        "outputId": "3642df43-3541-4913-91b9-55b5aec3965f"
      },
      "source": [
        "%%time\n",
        "from tqdm import tqdm\n",
        "\n",
        "def emb_knn_align(own_ft,muse,voc_count,min_c=25,nn=5):\n",
        "\n",
        "    oov = []\n",
        "    for word,v in [(k,v) for k, v in sorted(voc_count.items(), key=lambda item: item[1],reverse=True) if v > min_c]:\n",
        "        if word not in muse:\n",
        "            oov.append(word)\n",
        "    print('ooV words:',len(oov),oov[1:15])\n",
        "\n",
        "    muse_ext = muse\n",
        "    in_both_dict = shared_dict(own_ft,muse)\n",
        "\n",
        "    for word in tqdm(oov):\n",
        "        if word in own_ft:\n",
        "            new_v = similar_both(word,own_ft,muse,in_both_dict,nn)\n",
        "            muse_ext[word] = new_v\n",
        "    return muse_ext\n"
      ],
      "execution_count": null,
      "outputs": [
        {
          "output_type": "stream",
          "text": [
            "CPU times: user 14 µs, sys: 0 ns, total: 14 µs\n",
            "Wall time: 16.9 µs\n"
          ],
          "name": "stdout"
        }
      ]
    },
    {
      "cell_type": "code",
      "metadata": {
        "id": "lt16yGlAHZLQ",
        "colab_type": "code",
        "colab": {
          "base_uri": "https://localhost:8080/",
          "height": 110
        },
        "outputId": "8d7ec8ee-26b6-4328-dddc-2eda3077e969"
      },
      "source": [
        "data_path = '/data/'#\n",
        "file_path = 'normalized/norm_fr.csv'\n",
        "\n",
        "if True:\n",
        "    # french data\n",
        "    df_fr = pd.read_csv(path+data_path+file_path,sep='|',index_col=False)\n",
        "    fr_voc = model_helper.vocab(df_in=df_fr)\n",
        "    fr_voc_count = fr_voc.get_vocab(count=True)\n",
        "\n",
        "    fr_muse_ext = emb_knn_align(fr_own_ft,fr_muse,fr_voc_count,min_c=10,nn=5)\n",
        "    pickle.dump(fr_muse_ext, open(path + '/embeddings/fr_slim_embed_ext.p', \"wb\" ))\n"
      ],
      "execution_count": null,
      "outputs": [
        {
          "output_type": "stream",
          "text": [
            "/usr/local/lib/python3.6/dist-packages/IPython/core/interactiveshell.py:2718: DtypeWarning: Columns (0,3,4,5,6,7,8,9,10,11,12,13,14,16,17,18,19) have mixed types.Specify dtype option on import or set low_memory=False.\n",
            "  interactivity=interactivity, compiler=compiler, result=result)\n",
            "  0%|          | 1/1708 [00:00<03:55,  7.26it/s]"
          ],
          "name": "stderr"
        },
        {
          "output_type": "stream",
          "text": [
            "ooV words: 1708 ['rafra', 'gumes', 'gerble', 'naturnes', 'chissante', 'multifruits', 'febreze', 'babybio', 'elseve', 'dermatologiquement', 'elastiquee', 'teaux', 'gerlinea', 'klorane']\n"
          ],
          "name": "stdout"
        },
        {
          "output_type": "stream",
          "text": [
            "100%|██████████| 1708/1708 [07:13<00:00,  3.94it/s]\n"
          ],
          "name": "stderr"
        }
      ]
    },
    {
      "cell_type": "code",
      "metadata": {
        "id": "ygaGX9yYXhvN",
        "colab_type": "code",
        "colab": {
          "base_uri": "https://localhost:8080/",
          "height": 110
        },
        "outputId": "31fa5065-c58f-4885-b7c4-0bfdea0d2765"
      },
      "source": [
        "data_path = '/data/'#\n",
        "file_path = 'normalized/norm_de.csv'\n",
        "\n",
        "if True:\n",
        "    # german data\n",
        "    df_de = pd.read_csv(path+data_path+file_path,sep='|',index_col=False)\n",
        "    de_voc = model_helper.vocab(df_in=df_de)\n",
        "    de_voc_count = de_voc.get_vocab(count=True)\n",
        "\n",
        "    de_muse_ext = emb_knn_align(de_own_ft,de_muse,de_voc_count,min_c=10,nn=5)\n",
        "    pickle.dump(de_muse_ext, open(path + '/embeddings/de_slim_embed_ext.p', \"wb\" ))\n"
      ],
      "execution_count": null,
      "outputs": [
        {
          "output_type": "stream",
          "text": [
            "/usr/local/lib/python3.6/dist-packages/IPython/core/interactiveshell.py:2718: DtypeWarning: Columns (5,8,17,18,98) have mixed types.Specify dtype option on import or set low_memory=False.\n",
            "  interactivity=interactivity, compiler=compiler, result=result)\n",
            "  0%|          | 0/8423 [00:00<?, ?it/s]"
          ],
          "name": "stderr"
        },
        {
          "output_type": "stream",
          "text": [
            "ooV words: 8423 ['eigth', 'nfuer', 'typename', 'productcontent', 'tiefkuehlkost', 'suessigkeiten', 'wuerzelgemuese', 'wuerste', 'gefluegel', 'meeresfruechte', 'suesses', 'zitrusfruechte', 'kuehlung', 'suesswaren']\n"
          ],
          "name": "stdout"
        },
        {
          "output_type": "stream",
          "text": [
            "100%|██████████| 8423/8423 [44:25<00:00,  3.16it/s]\n"
          ],
          "name": "stderr"
        }
      ]
    },
    {
      "cell_type": "markdown",
      "metadata": {
        "id": "CX2eQBEKyNNZ",
        "colab_type": "text"
      },
      "source": [
        "## Single language alignment with dictionary"
      ]
    },
    {
      "cell_type": "markdown",
      "metadata": {
        "id": "sWgES633pa7m",
        "colab_type": "text"
      },
      "source": [
        "Extend Muse embedding by rotation of own trained embedding"
      ]
    },
    {
      "cell_type": "code",
      "metadata": {
        "id": "zzYeyH0q3avk",
        "colab_type": "code",
        "colab": {}
      },
      "source": [
        "# sort embedding\n",
        "def order_dict(dic,voc_count,min_c=20):\n",
        "    dic_ord = {} \n",
        "    for word,v in [(k,v) for k, v in sorted(voc_count.items(), key=lambda item: item[1],reverse=True) if v > min_c]:\n",
        "        word = repla(word)\n",
        "        try:\n",
        "            dic_ord[word] = dic[word]\n",
        "        except:\n",
        "            pass\n",
        "    return dic_ord\n",
        "  \n",
        "def prep_align(tgt_dic,src_dic,translate=False):\n",
        "    # vocab own trained\n",
        "    w_tgt = list(tgt_dic.keys())\n",
        "    # embeddings own trained\n",
        "    x_tgt = np.array(list(tgt_dic.values()))\n",
        "    x_tgt /= np.linalg.norm(x_tgt, axis=1)[:, np.newaxis] + 1e-8\n",
        "\n",
        "    # vocab own trained\n",
        "    w_src = list(src_dic.keys())\n",
        "    # embeddings own trained\n",
        "    x_src = np.array(list(src_dic.values()))\n",
        "    x_src /= np.linalg.norm(x_src, axis=1)[:, np.newaxis] + 1e-8\n",
        "\n",
        "    # dictionary of words to dictionary of index\n",
        "    if translate:\n",
        "        src2trg = dict(zip([w_src.index(repla(a)) for a in de_fr_dict.keys()],[w_tgt.index(repla(b)) for b in de_fr_dict.values()]))\n",
        "    else:\n",
        "        src2trg = dict(zip([w_src.index(repla(a)) for a in de_fr_dict.keys()],[w_tgt.index(repla(b)) for b in de_fr_dict.keys()]))\n",
        "    return w_tgt, x_tgt, w_src, x_src, src2trg\n",
        "\n",
        "def run_alignment(x_tgt,x_src,lr,nepoch):\n",
        "    print(\"\\n*** Wasserstein Procrustes ***\\n\")\n",
        "    import math\n",
        "    import time\n",
        "    import ot\n",
        "\n",
        "    print(\"\\nComputing initial mapping with convex relaxation...\")\n",
        "    t0 = time.time()\n",
        "    R0 = convex_init(x_src[:2500], x_tgt[:2500], reg=0.01,niter=20, apply_sqrt=True)\n",
        "    print(\"Done [%03d sec]\" % math.floor(time.time() - t0))\n",
        "\n",
        "    print(\"\\nComputing mapping with Wasserstein Procrustes...\")\n",
        "    t0 = time.time()\n",
        "    R = align(x_src, x_tgt, R0.copy(),lr=lr,  bsz=200, nepoch=nepoch, niter=2500, nmax=10000, reg=0.01, verbose=True)\n",
        "    print(\"Done [%03d sec]\" % math.floor(time.time() - t0))\n",
        "    \n",
        "    x_src_ = x_src / np.linalg.norm(x_src, 2, 1).reshape([-1, 1])\n",
        "\n",
        "    # transform target with learned transformation matrix\n",
        "    x_tgt = np.dot(x_tgt, R.T)\n",
        "    x_tgt = x_tgt / np.linalg.norm(x_tgt, 2, 1).reshape([-1, 1])\n",
        "    return x_tgt,x_src"
      ],
      "execution_count": null,
      "outputs": []
    },
    {
      "cell_type": "code",
      "metadata": {
        "id": "3jCU0cm3x5fZ",
        "colab_type": "code",
        "colab": {}
      },
      "source": [
        "emb_src = de_muse\n",
        "emb_tgt = de_own_ft"
      ],
      "execution_count": null,
      "outputs": []
    },
    {
      "cell_type": "code",
      "metadata": {
        "id": "AJ4Gl0yxx6mJ",
        "colab_type": "code",
        "colab": {}
      },
      "source": [
        "similar=[]\n",
        "for de,fr in de_fr_dict.items():\n",
        "    fr = repla(fr)\n",
        "    de = repla(de)\n",
        "    similar.append(cosine_similarity(emb_src[de],emb_tgt[de]))\n",
        "np.mean(similar)"
      ],
      "execution_count": null,
      "outputs": []
    },
    {
      "cell_type": "code",
      "metadata": {
        "id": "OzfSC37CmkqG",
        "colab_type": "code",
        "colab": {}
      },
      "source": [
        "emb_tgt = order_dict(emb_tgt,de_voc_count)\n",
        "emb_src = order_dict(emb_src,de_voc_count)"
      ],
      "execution_count": null,
      "outputs": []
    },
    {
      "cell_type": "code",
      "metadata": {
        "id": "IojzzjPfo-fp",
        "colab_type": "code",
        "colab": {}
      },
      "source": [
        "w_tgt, x_tgt, w_src, x_src, src2trg = prep_align(de_own_ft,de_muse,translate=False)"
      ],
      "execution_count": null,
      "outputs": []
    },
    {
      "cell_type": "markdown",
      "metadata": {
        "id": "UI81WXreWV9L",
        "colab_type": "text"
      },
      "source": [
        "transform it!"
      ]
    },
    {
      "cell_type": "code",
      "metadata": {
        "id": "8NSCH54h0B57",
        "colab_type": "code",
        "colab": {
          "base_uri": "https://localhost:8080/",
          "height": 333
        },
        "outputId": "227a8952-89ee-4bfe-aaca-cf75eb38a159"
      },
      "source": [
        "x_tgt_trans , x_src_norm = run_alignment(x_tgt,x_src,1500,5)"
      ],
      "execution_count": null,
      "outputs": [
        {
          "output_type": "stream",
          "text": [
            "\n",
            "*** Wasserstein Procrustes ***\n",
            "\n",
            "\n",
            "Computing initial mapping with convex relaxation...\n",
            "Done [046 sec]\n",
            "\n",
            "Computing mapping with Wasserstein Procrustes...\n",
            "epoch: 1  obj: 10.990\n",
            "epoch: 2  obj: 10.793\n",
            "epoch: 3  obj: 10.592\n",
            "epoch: 4  obj: 10.460\n",
            "epoch: 5  obj: 10.415\n",
            "epoch: 6  obj: 10.407\n",
            "epoch: 7  obj: 10.407\n",
            "epoch: 8  obj: 10.407\n",
            "epoch: 9  obj: 10.407\n",
            "epoch: 10  obj: 10.407\n",
            "Done [706 sec]\n"
          ],
          "name": "stdout"
        }
      ]
    },
    {
      "cell_type": "code",
      "metadata": {
        "id": "OQYx-lPZWVJS",
        "colab_type": "code",
        "colab": {
          "base_uri": "https://localhost:8080/",
          "height": 33
        },
        "outputId": "f11fd226-9658-4c50-9b77-857958dd99d2"
      },
      "source": [
        "similar=[]\n",
        "for de,fr in de_fr_dict.items():\n",
        "    fr = repla(fr)\n",
        "    de = repla(de)\n",
        "    similar.append(cosine_similarity(x_tgt_trans[w_tgt.index(de)],x_src_norm[w_src.index(de)]))\n",
        "    #similar.append(cosine_similarity(de_muse[de],de_own_ft[de]))\n",
        "np.mean(similar)"
      ],
      "execution_count": null,
      "outputs": [
        {
          "output_type": "execute_result",
          "data": {
            "text/plain": [
              "0.205737190285347"
            ]
          },
          "metadata": {
            "tags": []
          },
          "execution_count": 169
        }
      ]
    },
    {
      "cell_type": "code",
      "metadata": {
        "id": "8zVuYRORWyFo",
        "colab_type": "code",
        "colab": {
          "base_uri": "https://localhost:8080/",
          "height": 183
        },
        "outputId": "9400569f-e623-445c-a908-86af5adf2769"
      },
      "source": [
        "de = 'kuchen'\n",
        "de_vec = x_tgt_trans[w_tgt.index(de)]\n",
        "similar_v(de_vec,de_own_ft,10)"
      ],
      "execution_count": null,
      "outputs": [
        {
          "output_type": "execute_result",
          "data": {
            "text/plain": [
              "[('torten', 4.3773546),\n",
              " ('teilchen', 3.922698),\n",
              " ('streuselkuchen', 3.8995883),\n",
              " ('kuchenrost', 3.8982143),\n",
              " ('marmorkuchen', 3.8810647),\n",
              " ('kuchenglasur', 3.6762817),\n",
              " ('gugelhupf', 3.5854821),\n",
              " ('plunder', 3.5825305),\n",
              " ('apfelkuchen', 3.5481796),\n",
              " ('blechkuchen', 3.5169294)]"
            ]
          },
          "metadata": {
            "tags": []
          },
          "execution_count": 171
        }
      ]
    },
    {
      "cell_type": "markdown",
      "metadata": {
        "id": "VIllWj48lsHt",
        "colab_type": "text"
      },
      "source": [
        "## Language alignment with dictionary"
      ]
    },
    {
      "cell_type": "markdown",
      "metadata": {
        "id": "suT3kGQ_l_fE",
        "colab_type": "text"
      },
      "source": [
        "Align Muse embedding by rotation of own trained embedding"
      ]
    },
    {
      "cell_type": "code",
      "metadata": {
        "id": "ilboYmNuldN1",
        "colab_type": "code",
        "colab": {}
      },
      "source": [
        "import ot"
      ],
      "execution_count": null,
      "outputs": []
    },
    {
      "cell_type": "code",
      "metadata": {
        "id": "H4GWau3Oxxmm",
        "colab_type": "code",
        "colab": {}
      },
      "source": [
        "emb_src = de_muse_ext\n",
        "emb_tgt = fr_muse_ext"
      ],
      "execution_count": null,
      "outputs": []
    },
    {
      "cell_type": "code",
      "metadata": {
        "id": "9yWL9Nlhl_wL",
        "colab_type": "code",
        "colab": {
          "base_uri": "https://localhost:8080/",
          "height": 35
        },
        "outputId": "b7e5afca-4240-4413-810e-abe2a3807460"
      },
      "source": [
        "similar=[]\n",
        "for de,fr in de_fr_dict.items():\n",
        "    fr = repla(fr)\n",
        "    de = repla(de)\n",
        "    similar.append(cosine_similarity(emb_src[de],emb_tgt[fr]))\n",
        "np.mean(similar)"
      ],
      "execution_count": null,
      "outputs": [
        {
          "output_type": "execute_result",
          "data": {
            "text/plain": [
              "0.5056989084314625"
            ]
          },
          "metadata": {
            "tags": []
          },
          "execution_count": 38
        }
      ]
    },
    {
      "cell_type": "code",
      "metadata": {
        "id": "ZTd6_iTpl_t5",
        "colab_type": "code",
        "colab": {}
      },
      "source": [
        "emb_tgt = order_dict(emb_tgt,fr_voc_count,1)\n",
        "emb_src = order_dict(emb_src,de_voc_count)"
      ],
      "execution_count": null,
      "outputs": []
    },
    {
      "cell_type": "code",
      "metadata": {
        "id": "NAq88RU3l_rn",
        "colab_type": "code",
        "colab": {}
      },
      "source": [
        "w_tgt, x_tgt, w_src, x_src, src2trg = prep_align(emb_tgt,emb_src,translate=True)"
      ],
      "execution_count": null,
      "outputs": []
    },
    {
      "cell_type": "code",
      "metadata": {
        "id": "53pfTQF4l_oR",
        "colab_type": "code",
        "colab": {
          "base_uri": "https://localhost:8080/",
          "height": 272
        },
        "outputId": "ce704ce2-35e1-4a75-eecf-67fd439b9320"
      },
      "source": [
        "x_tgt_trans , x_src_norm = run_alignment(x_tgt,x_src,500,5)"
      ],
      "execution_count": null,
      "outputs": [
        {
          "output_type": "stream",
          "text": [
            "\n",
            "*** Wasserstein Procrustes ***\n",
            "\n",
            "\n",
            "Computing initial mapping with convex relaxation...\n",
            "Done [049 sec]\n",
            "\n",
            "Computing mapping with Wasserstein Procrustes...\n",
            "epoch: 1  obj: 10.622\n",
            "epoch: 2  obj: 10.269\n",
            "epoch: 3  obj: 10.059\n",
            "epoch: 4  obj: 9.935\n",
            "epoch: 5  obj: 9.878\n",
            "Done [548 sec]\n"
          ],
          "name": "stdout"
        }
      ]
    },
    {
      "cell_type": "code",
      "metadata": {
        "id": "ymVNUd-Sxvpq",
        "colab_type": "code",
        "colab": {
          "base_uri": "https://localhost:8080/",
          "height": 35
        },
        "outputId": "8f57943b-5e77-44af-8157-78816b6e9aa8"
      },
      "source": [
        "similar=[]\n",
        "for de,fr in de_fr_dict.items():\n",
        "    fr = repla(fr)\n",
        "    de = repla(de)\n",
        "    similar.append(cosine_similarity(x_tgt_trans[w_tgt.index(fr)],x_src_norm[w_src.index(de)]))\n",
        "np.mean(similar)"
      ],
      "execution_count": null,
      "outputs": [
        {
          "output_type": "execute_result",
          "data": {
            "text/plain": [
              "0.5007437222840395"
            ]
          },
          "metadata": {
            "tags": []
          },
          "execution_count": 42
        }
      ]
    },
    {
      "cell_type": "code",
      "metadata": {
        "id": "BmnmBsd75O0m",
        "colab_type": "code",
        "colab": {}
      },
      "source": [
        "fr_muse_align = dict(zip(w_tgt,x_tgt_trans))\n",
        "pickle.dump(fr_muse_align, open(path + '/embeddings/fr_muse_align.p', \"wb\" ))"
      ],
      "execution_count": null,
      "outputs": []
    },
    {
      "cell_type": "code",
      "metadata": {
        "id": "v6OleY3fl5iq",
        "colab_type": "code",
        "colab": {
          "base_uri": "https://localhost:8080/",
          "height": 35
        },
        "outputId": "dd4c4954-eb6a-4590-be01-97cfad4f54c0"
      },
      "source": [
        "similar = []\n",
        "for de,fr in de_fr_dict.items():\n",
        "    fr = repla(fr)\n",
        "    de = repla(de)\n",
        "    similar.append(cosine_similarity(fr_muse_align[fr],de_muse_ext[de]))\n",
        "np.mean(similar)"
      ],
      "execution_count": null,
      "outputs": [
        {
          "output_type": "execute_result",
          "data": {
            "text/plain": [
              "0.5007437339080246"
            ]
          },
          "metadata": {
            "tags": []
          },
          "execution_count": 44
        }
      ]
    },
    {
      "cell_type": "markdown",
      "metadata": {
        "id": "qyZvGSW_90ou",
        "colab_type": "text"
      },
      "source": [
        "## Unsupervised Wasserstein Procrustes\n",
        "\n",
        "using the facebook fasttext code : https://github.com/facebookresearch/fastText/blob/master/alignment/unsup_align.py  \n",
        "Paper: https://arxiv.org/abs/1805.11222"
      ]
    },
    {
      "cell_type": "markdown",
      "metadata": {
        "id": "FZmJ1xhIiLaw",
        "colab_type": "text"
      },
      "source": [
        "if the trained embeddings are aligned the cosine disteance between word pairs should be close to 1"
      ]
    },
    {
      "cell_type": "code",
      "metadata": {
        "id": "hSscsOEN0L3h",
        "colab_type": "code",
        "colab": {}
      },
      "source": [
        "#de_own_ft = de_own_ft_w2v\n",
        "#fr_emb_ord = fr_emb_ord_w2v"
      ],
      "execution_count": null,
      "outputs": []
    },
    {
      "cell_type": "code",
      "metadata": {
        "id": "RN9gcr0LZbU5",
        "colab_type": "code",
        "colab": {
          "base_uri": "https://localhost:8080/",
          "height": 33
        },
        "outputId": "515bfffa-061f-42b3-f1f4-d88c5b7fdba3"
      },
      "source": [
        "similar=[]\n",
        "for de,fr in de_fr_dict.items():\n",
        "    fr = repla(fr)\n",
        "    de = repla(de)\n",
        "    similar.append(cosine_similarity(fr_emb_ord[fr],de_own_ft[de]))\n",
        "np.mean(similar)\n"
      ],
      "execution_count": null,
      "outputs": [
        {
          "output_type": "execute_result",
          "data": {
            "text/plain": [
              "0.009146323"
            ]
          },
          "metadata": {
            "tags": []
          },
          "execution_count": 220
        }
      ]
    },
    {
      "cell_type": "markdown",
      "metadata": {
        "id": "BKX6MFOGwUb-",
        "colab_type": "text"
      },
      "source": [
        "Funciton are taken from facebook code"
      ]
    },
    {
      "cell_type": "code",
      "metadata": {
        "id": "L1dqxgtrwUoa",
        "colab_type": "code",
        "colab": {}
      },
      "source": [
        "def objective(X, Y, R, n=5000):\n",
        "    Xn, Yn = X[:n], Y[:n]\n",
        "    C = -np.dot(np.dot(Xn, R), Yn.T)\n",
        "    P = ot.sinkhorn(np.ones(n), np.ones(n), C, 0.025, stopThr=1e-3)\n",
        "    return 1000 * np.linalg.norm(np.dot(Xn, R) - np.dot(P, Yn)) / n\n",
        "\n",
        "\n",
        "def sqrt_eig(x):\n",
        "    U, s, VT = np.linalg.svd(x, full_matrices=False)\n",
        "    return np.dot(U, np.dot(np.diag(np.sqrt(s)), VT))\n",
        "\n",
        "\n",
        "def align(X, Y, R, lr=10., bsz=200, nepoch=5, niter=1000,\n",
        "          nmax=10000, reg=0.05, verbose=True):\n",
        "    for epoch in range(1, nepoch + 1):\n",
        "        for _it in range(1, niter + 1):\n",
        "            # sample mini-batch\n",
        "            xt = X[np.random.permutation(nmax)[:bsz], :]\n",
        "            yt = Y[np.random.permutation(nmax)[:bsz], :]\n",
        "            # compute OT on minibatch\n",
        "            C = -np.dot(np.dot(xt, R), yt.T)\n",
        "            P = ot.sinkhorn(np.ones(bsz), np.ones(bsz), C, reg, stopThr=1e-3)\n",
        "            # compute gradient\n",
        "            G = - np.dot(xt.T, np.dot(P, yt))\n",
        "            R -= lr / bsz * G\n",
        "            # project on orthogonal matrices\n",
        "            U, s, VT = np.linalg.svd(R)\n",
        "            R = np.dot(U, VT)\n",
        "        bsz *= 2\n",
        "        niter //= 4\n",
        "        if verbose:\n",
        "            print(\"epoch: %d  obj: %.3f\" % (epoch, objective(X, Y, R)))\n",
        "    return R\n",
        "\n",
        "# this function does not work\n",
        "def convex_init(X, Y, niter=100, reg=0.05, apply_sqrt=False):\n",
        "    n, d = X.shape\n",
        "    if apply_sqrt:\n",
        "        X, Y = sqrt_eig(X), sqrt_eig(Y)\n",
        "    K_X, K_Y = np.dot(X, X.T), np.dot(Y, Y.T)\n",
        "    K_Y *= np.linalg.norm(K_X) / np.linalg.norm(K_Y)\n",
        "    K2_X, K2_Y = np.dot(K_X, K_X), np.dot(K_Y, K_Y)\n",
        "    P = np.ones([n, n]) / float(n)\n",
        "    for it in range(1, niter + 1):\n",
        "        G = np.dot(P, K2_X) + np.dot(K2_Y, P) - 2 * np.dot(K_Y, np.dot(P, K_X))\n",
        "        #print(it,G,np.sum(np.isnan(G)))\n",
        "        q = ot.sinkhorn(np.ones(n), np.ones(n), G, reg, stopThr=1e-3)\n",
        "        #print(it,q,np.sum(np.isnan(q)))\n",
        "        alpha = 2.0 / float(2.0 + it)\n",
        "        P = alpha * q + (1.0 - alpha) * P\n",
        "        #print(it,sum(np.isnan(G)),sum(np.isnan(q)),sum(np.isnan(P)))\n",
        "    obj = np.linalg.norm(np.dot(P, K_X) - np.dot(K_Y, P))\n",
        "    #print(sum(np.isnan(X)),sum(np.isnan(Y)),sum(np.isnan(P)))\n",
        "    return procrustes(np.dot(P, X), Y).T\n",
        "\n",
        "def procrustes(X_src, Y_tgt):\n",
        "    U, s, V = np.linalg.svd(np.dot(Y_tgt.T, X_src))\n",
        "    return np.dot(U, V)\n"
      ],
      "execution_count": null,
      "outputs": []
    },
    {
      "cell_type": "code",
      "metadata": {
        "id": "1hRldAglkPHb",
        "colab_type": "code",
        "colab": {
          "base_uri": "https://localhost:8080/",
          "height": 333
        },
        "outputId": "81765004-a3ae-48af-8511-4468b77d37c2"
      },
      "source": [
        "# vocab french\n",
        "w_tgt = list(fr_emb_ord.keys())\n",
        "# embeddings french\n",
        "x_tgt = np.array([fr_emb_ord[vec] for vec in w_tgt])\n",
        "x_tgt /= np.linalg.norm(x_tgt, axis=1)[:, np.newaxis] + 1e-8\n",
        "# vocab geman\n",
        "w_src = list(de_own_ft.keys())\n",
        "# embeddings german\n",
        "x_src = np.array([de_own_ft[vec] for vec in w_src])\n",
        "x_src /= np.linalg.norm(x_src, axis=1)[:, np.newaxis] + 1e-8\n",
        "\n",
        "# dictionary of words to dictionary of index\n",
        "src2trg = dict(zip([w_src.index(repla(a)) for a in de_fr_dict.keys()],[w_tgt.index(repla(b)) for b in de_fr_dict.values()]))\n",
        "\n",
        "print(\"\\n*** Wasserstein Procrustes ***\\n\")\n",
        "import math\n",
        "import time\n",
        "import ot\n",
        "\n",
        "print(\"\\nComputing initial mapping with convex relaxation...\")\n",
        "t0 = time.time()\n",
        "R0 = convex_init(x_src[:2000], x_tgt[:2000], reg=0.1,niter=50, apply_sqrt=True)\n",
        "print(\"Done [%03d sec]\" % math.floor(time.time() - t0))\n",
        "\n",
        "print(\"\\nComputing mapping with Wasserstein Procrustes...\")\n",
        "t0 = time.time()\n",
        "R = align(x_src, x_tgt, R0.copy(),lr=.01,  bsz=200, nepoch=10, niter=1000, nmax=10000, reg=0.1, verbose=True)\n",
        "print(\"Done [%03d sec]\" % math.floor(time.time() - t0))"
      ],
      "execution_count": null,
      "outputs": [
        {
          "output_type": "stream",
          "text": [
            "\n",
            "*** Wasserstein Procrustes ***\n",
            "\n",
            "\n",
            "Computing initial mapping with convex relaxation...\n",
            "Done [062 sec]\n",
            "\n",
            "Computing mapping with Wasserstein Procrustes...\n",
            "epoch: 1  obj: 11.504\n",
            "epoch: 2  obj: 11.503\n",
            "epoch: 3  obj: 11.503\n",
            "epoch: 4  obj: 11.503\n",
            "epoch: 5  obj: 11.503\n",
            "epoch: 6  obj: 11.503\n",
            "epoch: 7  obj: 11.503\n",
            "epoch: 8  obj: 11.503\n",
            "epoch: 9  obj: 11.503\n",
            "epoch: 10  obj: 11.503\n",
            "Done [084 sec]\n"
          ],
          "name": "stdout"
        }
      ]
    },
    {
      "cell_type": "code",
      "metadata": {
        "id": "FYni8bl-tSdO",
        "colab_type": "code",
        "colab": {}
      },
      "source": [
        "if True:\n",
        "    x_src_ = x_src / np.linalg.norm(x_src, 2, 1).reshape([-1, 1])\n",
        "    #save_vectors(args.output_src, x_src, w_src)\n",
        "output_tgt=''\n",
        "if True:\n",
        "    x_tgt_ = x_tgt / np.linalg.norm(x_tgt, 2, 1).reshape([-1, 1])\n",
        "    #save_vectors(args.output_tgt, np.dot(x_tgt, R.T), w_tgt)\n",
        "x_tgt_ = np.dot(x_tgt_, R.T)\n",
        "#x_src = np.dot(x_src, R.T)\n",
        "similar=[]\n",
        "for de,fr in de_fr_dict.items():\n",
        "    similar.append(cosine_similarity(x_tgt_[w_tgt.index(fr)],x_src_[w_src.index(de)]))\n",
        "np.mean(similar)\n"
      ],
      "execution_count": null,
      "outputs": []
    },
    {
      "cell_type": "markdown",
      "metadata": {
        "id": "jEW7PhffFu1J",
        "colab_type": "text"
      },
      "source": [
        "## take2\n"
      ]
    },
    {
      "cell_type": "code",
      "metadata": {
        "id": "HdIyVIfDFwob",
        "colab_type": "code",
        "colab": {}
      },
      "source": [
        "def smart_procrustes_align_gensim(base_embed, other_embed, words):\n",
        "    \"\"\"Procrustes align two gensim word2vec models (to allow for comparison between same word across models).\n",
        "    Code ported from HistWords <https://github.com/williamleif/histwords> by William Hamilton <wleif@stanford.edu>.\n",
        "      (With help from William. Thank you!)\n",
        "    First, intersect the vocabularies (see `intersection_align_gensim` documentation).\n",
        "    Then do the alignment on the other_embed model.\n",
        "    Replace the other_embed model's syn0 and syn0norm numpy matrices with the aligned version.\n",
        "    Return other_embed.\n",
        "    If `words` is set, intersect the two models' vocabulary with the vocabulary in words (see `intersection_align_gensim` documentation).\n",
        "    \"\"\"\n",
        "\n",
        "    # make sure vocabulary and indices are aligned\n",
        "    in_base_embed, in_other_embed = intersection_align_gensim(base_embed, other_embed, words=words)\n",
        "\n",
        "    # get the embedding matrices\n",
        "    base_vecs = np.array(list(in_base_embed.values()))\n",
        "    other_vecs = np.array(list(in_other_embed.values()))\n",
        "\n",
        "    # just a matrix dot product with numpy\n",
        "    m = other_vecs.T.dot(base_vecs) \n",
        "    # SVD method from numpy\n",
        "    u, _, v = np.linalg.svd(m)\n",
        "    # another matrix operation\n",
        "    ortho = u.dot(v) \n",
        "    # Replace original array with modified one\n",
        "    # i.e. multiplying the embedding matrix (syn0norm)by \"ortho\"\n",
        "    new_vec = np.array(list(other_embed.values())).dot(ortho)\n",
        "    new_vec /= np.linalg.norm(new_vec, axis=1)[:, np.newaxis] + 1e-8\n",
        "    other_embed =dict(zip(other_embed.keys(),new_vec))\n",
        "    return other_embed\n",
        "\t\n",
        "def intersection_align_gensim(m1,m2, words):\n",
        "    small_fr = {}\n",
        "    small_de = {}\n",
        "    for de,fr in words.items():\n",
        "        if de not in small_de.keys() and fr not in small_fr.keys() :\n",
        "            fr = repla(fr)\n",
        "            de = repla(de)\n",
        "            small_de[de] = m1[de]\n",
        "            small_fr[fr] = m2[fr]\n",
        "            if len(small_de.keys()) !=len(small_fr.keys()):\n",
        "                #print(m1[de],m2[fr])\n",
        "                break\n",
        "            #print(len(small_de.keys()),len(small_fr.keys()))\n",
        "\n",
        "    return (small_de,small_fr)"
      ],
      "execution_count": null,
      "outputs": []
    },
    {
      "cell_type": "code",
      "metadata": {
        "id": "EuKSPS90XPyW",
        "colab_type": "code",
        "colab": {
          "base_uri": "https://localhost:8080/",
          "height": 34
        },
        "outputId": "ceeb8a6c-5e0c-454e-9610-e243be01d819"
      },
      "source": [
        "de_fr_dict_ext = de_fr_dict\n",
        "de_fr_dict_ext.update(fr_de_db)\n",
        "len(de_fr_dict_ext.keys())"
      ],
      "execution_count": null,
      "outputs": [
        {
          "output_type": "execute_result",
          "data": {
            "text/plain": [
              "269"
            ]
          },
          "metadata": {
            "tags": []
          },
          "execution_count": 185
        }
      ]
    },
    {
      "cell_type": "code",
      "metadata": {
        "id": "Ok6lfSWvJil4",
        "colab_type": "code",
        "colab": {}
      },
      "source": [
        "fr_ft_alli = smart_procrustes_align_gensim(de_muse_ext,fr_muse_ext,de_fr_dict_ext)"
      ],
      "execution_count": null,
      "outputs": []
    },
    {
      "cell_type": "code",
      "metadata": {
        "id": "dSvWTt_eOebS",
        "colab_type": "code",
        "colab": {
          "base_uri": "https://localhost:8080/",
          "height": 34
        },
        "outputId": "ddeb8e75-70d7-42c3-a204-05a16c3a2425"
      },
      "source": [
        "similar = []\n",
        "for de,fr in de_fr_dict.items():\n",
        "    fr = repla(fr)\n",
        "    de = repla(de)\n",
        "    similar.append(cosine_similarity(fr_muse_ext[fr],de_muse_ext[de]))\n",
        "np.mean(similar)"
      ],
      "execution_count": null,
      "outputs": [
        {
          "output_type": "execute_result",
          "data": {
            "text/plain": [
              "0.4620076"
            ]
          },
          "metadata": {
            "tags": []
          },
          "execution_count": 187
        }
      ]
    },
    {
      "cell_type": "code",
      "metadata": {
        "id": "A5hlEa1eOqkZ",
        "colab_type": "code",
        "colab": {}
      },
      "source": [
        "pickle.dump(fr_ft_alli, open(path + '/embeddings/fr_muse_alli.p', \"wb\" ))"
      ],
      "execution_count": null,
      "outputs": []
    },
    {
      "cell_type": "markdown",
      "metadata": {
        "id": "Xhxsv-25nHhP",
        "colab_type": "text"
      },
      "source": [
        "## Align Supervised"
      ]
    },
    {
      "cell_type": "code",
      "metadata": {
        "id": "ZSMzDE1T8AD8",
        "colab_type": "code",
        "colab": {}
      },
      "source": [
        "def getknn(sc, x, y, k=10):\n",
        "    sidx = np.argpartition(sc, -k, axis=1)[:, -k:]\n",
        "    ytopk = y[sidx.flatten(), :]\n",
        "    ytopk = ytopk.reshape(sidx.shape[0], sidx.shape[1], y.shape[1])\n",
        "    f = np.sum(sc[np.arange(sc.shape[0])[:, None], sidx])\n",
        "    df = np.dot(ytopk.sum(1).T, x)\n",
        "    return f / k, df / k\n",
        "\n",
        "\n",
        "def rcsls(X_src, Y_tgt, Z_src, Z_tgt, R, knn=10):\n",
        "    X_trans = np.dot(X_src, R.T)\n",
        "    f = 2 * np.sum(X_trans * Y_tgt)\n",
        "    df = 2 * np.dot(Y_tgt.T, X_src)\n",
        "    fk0, dfk0 = getknn(np.dot(X_trans, Z_tgt.T), X_src, Z_tgt, knn)\n",
        "    fk1, dfk1 = getknn(np.dot(np.dot(Z_src, R.T), Y_tgt.T).T, Y_tgt, Z_src, knn)\n",
        "    f = f - fk0 -fk1\n",
        "    df = df - dfk0 - dfk1.T\n",
        "    return -f / X_src.shape[0], -df / X_src.shape[0]\n",
        "\n",
        "def proj_spectral(R):\n",
        "    U, s, V = np.linalg.svd(R)\n",
        "    s[s > 1] = 1\n",
        "    s[s < 0] = 0\n",
        "    return np.dot(U, np.dot(np.diag(s), V))\n",
        "\n",
        "def idx(words):\n",
        "    w2i = {}\n",
        "    for i, w in enumerate(words):\n",
        "        if w not in w2i:\n",
        "            w2i[w] = i\n",
        "    return w2i\n",
        "\n",
        "def select_vectors_from_pairs(x_src, y_tgt, pairs):\n",
        "    n = len(pairs)\n",
        "    d = x_src.shape[1]\n",
        "    x = np.zeros([n, d])\n",
        "    y = np.zeros([n, d])\n",
        "    for k, ij in enumerate(pairs):\n",
        "        i, j = ij\n",
        "        x[k, :] = x_src[i, :]\n",
        "        y[k, :] = y_tgt[j, :]\n",
        "    return x, y\n",
        "\n",
        "def compute_nn_accuracy(x_src, x_tgt, lexicon, bsz=100, lexicon_size=-1):\n",
        "    if lexicon_size < 0:\n",
        "        lexicon_size = len(lexicon)\n",
        "    idx_src = list(lexicon.keys())\n",
        "    acc = 0.0\n",
        "    x_src /= np.linalg.norm(x_src, axis=1)[:, np.newaxis] + 1e-8\n",
        "    x_tgt /= np.linalg.norm(x_tgt, axis=1)[:, np.newaxis] + 1e-8\n",
        "    for i in range(0, len(idx_src), bsz):\n",
        "        e = min(i + bsz, len(idx_src))\n",
        "        scores = np.dot(x_tgt, x_src[idx_src[i:e]].T)\n",
        "        pred = scores.argmax(axis=0)\n",
        "        for j in range(i, e):\n",
        "            if pred[j - i] == lexicon[idx_src[j]]:\n",
        "                acc += 1.0\n",
        "    return acc / lexicon_size\n",
        "\n",
        "def procrustes(X_src, Y_tgt):\n",
        "    U, s, V = np.linalg.svd(np.dot(Y_tgt.T, X_src))\n",
        "    return np.dot(U, V)"
      ],
      "execution_count": null,
      "outputs": []
    },
    {
      "cell_type": "code",
      "metadata": {
        "id": "w8h5pPAQPH56",
        "colab_type": "code",
        "colab": {
          "base_uri": "https://localhost:8080/",
          "height": 204
        },
        "outputId": "5599a006-1063-460b-b8c3-a8dddc506667"
      },
      "source": [
        "!wget https://dl.fbaipublicfiles.com/arrival/dictionaries/fr-de.0-5000.txt"
      ],
      "execution_count": null,
      "outputs": [
        {
          "output_type": "stream",
          "text": [
            "--2020-06-19 18:21:19--  https://dl.fbaipublicfiles.com/arrival/dictionaries/fr-de.0-5000.txt\n",
            "Resolving dl.fbaipublicfiles.com (dl.fbaipublicfiles.com)... 104.22.74.142, 104.22.75.142, 172.67.9.4, ...\n",
            "Connecting to dl.fbaipublicfiles.com (dl.fbaipublicfiles.com)|104.22.74.142|:443... connected.\n",
            "HTTP request sent, awaiting response... 200 OK\n",
            "Length: 86411 (84K) [text/x-c]\n",
            "Saving to: ‘fr-de.0-5000.txt’\n",
            "\n",
            "fr-de.0-5000.txt    100%[===================>]  84.39K   508KB/s    in 0.2s    \n",
            "\n",
            "2020-06-19 18:21:20 (508 KB/s) - ‘fr-de.0-5000.txt’ saved [86411/86411]\n",
            "\n"
          ],
          "name": "stdout"
        }
      ]
    },
    {
      "cell_type": "code",
      "metadata": {
        "id": "MmajqexiPZzm",
        "colab_type": "code",
        "colab": {
          "base_uri": "https://localhost:8080/",
          "height": 34
        },
        "outputId": "ea03b5fa-84bd-4937-f0ff-b6bbe92fe721"
      },
      "source": [
        "filename = 'fr-de.0-5000.txt'\n",
        "words_src= de_muse.keys()\n",
        "words_tgt= fr_muse.keys()\n",
        "fr_de_db = {}\n",
        "with open(filename) as fh:\n",
        "    for line in fh:\n",
        "        fr_w = line.split()[0]\n",
        "        de_w = line.split()[1]\n",
        "        fr_w = repla(fr_w)\n",
        "        de_w = repla(de_w)\n",
        "        if fr_w in words_src and de_w in words_tgt and fr_w in fr_voc_count.keys() and de_w in de_voc_count.keys():\n",
        "            if (fr_voc_count[fr_w] > 100 and de_voc_count[de_w] > 150):\n",
        "                #print(de_w)\n",
        "                fr_de_db[fr_w] = de_w\n",
        "\n",
        "print(len(fr_de_db))\n"
      ],
      "execution_count": null,
      "outputs": [
        {
          "output_type": "stream",
          "text": [
            "186\n"
          ],
          "name": "stdout"
        }
      ]
    },
    {
      "cell_type": "code",
      "metadata": {
        "id": "8nXPGz9lGeQR",
        "colab_type": "code",
        "colab": {
          "base_uri": "https://localhost:8080/",
          "height": 34
        },
        "outputId": "129f0f6e-89e3-4413-8e3e-ecd019bb8804"
      },
      "source": [
        "de_fr_dict_ext = de_fr_dict\n",
        "de_fr_dict_ext.update(fr_de_db)\n",
        "len(de_fr_dict_ext.keys())"
      ],
      "execution_count": null,
      "outputs": [
        {
          "output_type": "execute_result",
          "data": {
            "text/plain": [
              "269"
            ]
          },
          "metadata": {
            "tags": []
          },
          "execution_count": 160
        }
      ]
    },
    {
      "cell_type": "code",
      "metadata": {
        "id": "gCqEd5ZU0ba8",
        "colab_type": "code",
        "colab": {}
      },
      "source": [
        "de_s, fr_s = intersection_align_gensim(de_muse,fr_muse,de_fr_dict)"
      ],
      "execution_count": null,
      "outputs": []
    },
    {
      "cell_type": "code",
      "metadata": {
        "id": "48l4hwBy1C9r",
        "colab_type": "code",
        "colab": {
          "base_uri": "https://localhost:8080/",
          "height": 350
        },
        "outputId": "9b1412be-25b2-40aa-f8da-596a3f44d05b"
      },
      "source": [
        "###### MAIN ######\n",
        "# vocab french\n",
        "words_tgt = list(fr_s.keys())\n",
        "# embeddings french\n",
        "x_tgt = np.array([fr_s[vec] for vec in words_tgt])\n",
        "x_tgt /= np.linalg.norm(x_tgt, axis=1)[:, np.newaxis] + 1e-8\n",
        "# vocab geman\n",
        "words_src = list(de_s.keys())\n",
        "# embeddings german\n",
        "x_src = np.array([de_s[vec] for vec in words_src])\n",
        "x_src /= np.linalg.norm(x_src, axis=1)[:, np.newaxis] + 1e-8\n",
        "\n",
        "# dictionary of words to dictionary of index\n",
        "src2tgt = dict(zip([words_src.index(repla(a)) for a in de_fr_dict.keys()],[words_tgt.index(repla(b)) for b in de_fr_dict.values()]))\n",
        "lexicon_size = len(src2tgt)\n",
        "print(lexicon_size)\n",
        "\n",
        "# word --> vector indices\n",
        "idx_src = idx(words_src)\n",
        "idx_tgt = idx(words_tgt)\n",
        "\n",
        "# load word embeddings\n",
        "#words_tgt, x_tgt = load_vectors(params.tgt_emb, maxload=params.maxload, center=params.center)\n",
        "#words_src, x_src = load_vectors(params.src_emb, maxload=params.maxload, center=params.center)\n",
        "\n",
        "# load validation bilingual lexicon\n",
        "#src2tgt, lexicon_size = load_lexicon(params.dico_test, words_src, words_tgt)\n",
        "\n",
        "# word --> vector indices\n",
        "#idx_src = idx(words_src)\n",
        "#idx_tgt = idx(words_tgt)\n"
      ],
      "execution_count": null,
      "outputs": [
        {
          "output_type": "error",
          "ename": "ValueError",
          "evalue": "ignored",
          "traceback": [
            "\u001b[0;31m---------------------------------------------------------------------------\u001b[0m",
            "\u001b[0;31mValueError\u001b[0m                                Traceback (most recent call last)",
            "\u001b[0;32m<ipython-input-183-7fbcf1724018>\u001b[0m in \u001b[0;36m<module>\u001b[0;34m()\u001b[0m\n\u001b[1;32m     12\u001b[0m \u001b[0;34m\u001b[0m\u001b[0m\n\u001b[1;32m     13\u001b[0m \u001b[0;31m# dictionary of words to dictionary of index\u001b[0m\u001b[0;34m\u001b[0m\u001b[0;34m\u001b[0m\u001b[0;34m\u001b[0m\u001b[0m\n\u001b[0;32m---> 14\u001b[0;31m \u001b[0msrc2tgt\u001b[0m \u001b[0;34m=\u001b[0m \u001b[0mdict\u001b[0m\u001b[0;34m(\u001b[0m\u001b[0mzip\u001b[0m\u001b[0;34m(\u001b[0m\u001b[0;34m[\u001b[0m\u001b[0mwords_src\u001b[0m\u001b[0;34m.\u001b[0m\u001b[0mindex\u001b[0m\u001b[0;34m(\u001b[0m\u001b[0mrepla\u001b[0m\u001b[0;34m(\u001b[0m\u001b[0ma\u001b[0m\u001b[0;34m)\u001b[0m\u001b[0;34m)\u001b[0m \u001b[0;32mfor\u001b[0m \u001b[0ma\u001b[0m \u001b[0;32min\u001b[0m \u001b[0mde_fr_dict\u001b[0m\u001b[0;34m.\u001b[0m\u001b[0mkeys\u001b[0m\u001b[0;34m(\u001b[0m\u001b[0;34m)\u001b[0m\u001b[0;34m]\u001b[0m\u001b[0;34m,\u001b[0m\u001b[0;34m[\u001b[0m\u001b[0mwords_tgt\u001b[0m\u001b[0;34m.\u001b[0m\u001b[0mindex\u001b[0m\u001b[0;34m(\u001b[0m\u001b[0mrepla\u001b[0m\u001b[0;34m(\u001b[0m\u001b[0mb\u001b[0m\u001b[0;34m)\u001b[0m\u001b[0;34m)\u001b[0m \u001b[0;32mfor\u001b[0m \u001b[0mb\u001b[0m \u001b[0;32min\u001b[0m \u001b[0mde_fr_dict\u001b[0m\u001b[0;34m.\u001b[0m\u001b[0mvalues\u001b[0m\u001b[0;34m(\u001b[0m\u001b[0;34m)\u001b[0m\u001b[0;34m]\u001b[0m\u001b[0;34m)\u001b[0m\u001b[0;34m)\u001b[0m\u001b[0;34m\u001b[0m\u001b[0;34m\u001b[0m\u001b[0m\n\u001b[0m\u001b[1;32m     15\u001b[0m \u001b[0mlexicon_size\u001b[0m \u001b[0;34m=\u001b[0m \u001b[0mlen\u001b[0m\u001b[0;34m(\u001b[0m\u001b[0msrc2tgt\u001b[0m\u001b[0;34m)\u001b[0m\u001b[0;34m\u001b[0m\u001b[0;34m\u001b[0m\u001b[0m\n\u001b[1;32m     16\u001b[0m \u001b[0mprint\u001b[0m\u001b[0;34m(\u001b[0m\u001b[0mlexicon_size\u001b[0m\u001b[0;34m)\u001b[0m\u001b[0;34m\u001b[0m\u001b[0;34m\u001b[0m\u001b[0m\n",
            "\u001b[0;32m<ipython-input-183-7fbcf1724018>\u001b[0m in \u001b[0;36m<listcomp>\u001b[0;34m(.0)\u001b[0m\n\u001b[1;32m     12\u001b[0m \u001b[0;34m\u001b[0m\u001b[0m\n\u001b[1;32m     13\u001b[0m \u001b[0;31m# dictionary of words to dictionary of index\u001b[0m\u001b[0;34m\u001b[0m\u001b[0;34m\u001b[0m\u001b[0;34m\u001b[0m\u001b[0m\n\u001b[0;32m---> 14\u001b[0;31m \u001b[0msrc2tgt\u001b[0m \u001b[0;34m=\u001b[0m \u001b[0mdict\u001b[0m\u001b[0;34m(\u001b[0m\u001b[0mzip\u001b[0m\u001b[0;34m(\u001b[0m\u001b[0;34m[\u001b[0m\u001b[0mwords_src\u001b[0m\u001b[0;34m.\u001b[0m\u001b[0mindex\u001b[0m\u001b[0;34m(\u001b[0m\u001b[0mrepla\u001b[0m\u001b[0;34m(\u001b[0m\u001b[0ma\u001b[0m\u001b[0;34m)\u001b[0m\u001b[0;34m)\u001b[0m \u001b[0;32mfor\u001b[0m \u001b[0ma\u001b[0m \u001b[0;32min\u001b[0m \u001b[0mde_fr_dict\u001b[0m\u001b[0;34m.\u001b[0m\u001b[0mkeys\u001b[0m\u001b[0;34m(\u001b[0m\u001b[0;34m)\u001b[0m\u001b[0;34m]\u001b[0m\u001b[0;34m,\u001b[0m\u001b[0;34m[\u001b[0m\u001b[0mwords_tgt\u001b[0m\u001b[0;34m.\u001b[0m\u001b[0mindex\u001b[0m\u001b[0;34m(\u001b[0m\u001b[0mrepla\u001b[0m\u001b[0;34m(\u001b[0m\u001b[0mb\u001b[0m\u001b[0;34m)\u001b[0m\u001b[0;34m)\u001b[0m \u001b[0;32mfor\u001b[0m \u001b[0mb\u001b[0m \u001b[0;32min\u001b[0m \u001b[0mde_fr_dict\u001b[0m\u001b[0;34m.\u001b[0m\u001b[0mvalues\u001b[0m\u001b[0;34m(\u001b[0m\u001b[0;34m)\u001b[0m\u001b[0;34m]\u001b[0m\u001b[0;34m)\u001b[0m\u001b[0;34m)\u001b[0m\u001b[0;34m\u001b[0m\u001b[0;34m\u001b[0m\u001b[0m\n\u001b[0m\u001b[1;32m     15\u001b[0m \u001b[0mlexicon_size\u001b[0m \u001b[0;34m=\u001b[0m \u001b[0mlen\u001b[0m\u001b[0;34m(\u001b[0m\u001b[0msrc2tgt\u001b[0m\u001b[0;34m)\u001b[0m\u001b[0;34m\u001b[0m\u001b[0;34m\u001b[0m\u001b[0m\n\u001b[1;32m     16\u001b[0m \u001b[0mprint\u001b[0m\u001b[0;34m(\u001b[0m\u001b[0mlexicon_size\u001b[0m\u001b[0;34m)\u001b[0m\u001b[0;34m\u001b[0m\u001b[0;34m\u001b[0m\u001b[0m\n",
            "\u001b[0;31mValueError\u001b[0m: 'normal' is not in list"
          ]
        }
      ]
    },
    {
      "cell_type": "code",
      "metadata": {
        "id": "m-anywE3-1e0",
        "colab_type": "code",
        "colab": {}
      },
      "source": [
        "# load train bilingual lexicon\n",
        "\n",
        "#pairs = list(zip([w_src.index(a) for a in fr_de_db.keys()],[w_tgt.index(b) for b in fr_de_db.values()]))\n",
        "pairs = list(zip([words_src.index(repla(a)) for a in de_fr_dict.keys()],[words_tgt.index(repla(b)) for b in de_fr_dict.values()]))\n",
        "# selecting training vector  pairs\n",
        "X_src, Y_tgt = select_vectors_from_pairs(x_src, x_tgt, pairs)\n",
        "\n",
        "# adding negatives for RCSLS\n",
        "maxneg=500\n",
        "Z_src = x_src[:maxneg, :]\n",
        "Z_tgt = x_tgt[:maxneg, :]\n",
        "print(X_src.shape,Y_tgt.shape)\n",
        "print(Z_src.shape,Z_tgt.shape)"
      ],
      "execution_count": null,
      "outputs": []
    },
    {
      "cell_type": "code",
      "metadata": {
        "id": "njeg-DJ8MnHf",
        "colab_type": "code",
        "colab": {}
      },
      "source": [
        "def select_vectors_from_pairs(x_src, y_tgt, pairs):\n",
        "    n = len(pairs)\n",
        "    d = x_src.shape[1]\n",
        "    x = np.zeros([n, d])\n",
        "    y = np.zeros([n, d])\n",
        "    for k, ij in enumerate(pairs):\n",
        "        i, j = ij\n",
        "        print(k,i,j)\n",
        "        x[k, :] = x_src[i]\n",
        "        y[k, :] = y_tgt[j]\n",
        "    return x, y\n"
      ],
      "execution_count": null,
      "outputs": []
    },
    {
      "cell_type": "code",
      "metadata": {
        "id": "p1VMf8ODAiEl",
        "colab_type": "code",
        "colab": {}
      },
      "source": [
        "import sys\n",
        "# initialization:\n",
        "R = procrustes(X_src, Y_tgt)\n",
        "#nnacc = compute_nn_accuracy(np.dot(x_src, R.T), x_tgt, src2tgt, lexicon_size=lexicon_size)\n",
        "#print(\"[init -- Procrustes] NN: %.4f\"%(nnacc))\n",
        "sys.stdout.flush()"
      ],
      "execution_count": null,
      "outputs": []
    },
    {
      "cell_type": "code",
      "metadata": {
        "id": "-8EsILD9A0ul",
        "colab_type": "code",
        "colab": {
          "base_uri": "https://localhost:8080/",
          "height": 945
        },
        "outputId": "3c08c024-8518-460a-8038-fc583b103331"
      },
      "source": [
        "# optimization\n",
        "fold, Rold = 0, []\n",
        "niter, lr = 50 , 1\n",
        "sgd = True\n",
        "batchsize = 10000\n",
        "knn=20\n",
        "reg = 0\n",
        "model = ''\n",
        "\n",
        "for it in range(0, niter + 1):\n",
        "    if lr < 1e-4:\n",
        "        break\n",
        "\n",
        "    if sgd:\n",
        "        indices = np.random.choice(X_src.shape[0], size=batchsize, replace=True)\n",
        "        f, df = rcsls(X_src[indices, :], Y_tgt[indices, :], Z_src, Z_tgt, R, knn)\n",
        "    else:\n",
        "        f, df = rcsls(X_src, Y_tgt, Z_src, Z_tgt, R, knn)\n",
        "\n",
        "    if reg > 0:\n",
        "        R *= (1 - lr * reg)\n",
        "    R -= lr * df\n",
        "\n",
        "    if model == \"spectral\":\n",
        "        R = proj_spectral(R)\n",
        "\n",
        "    print(\"[it=%d] f = %.4f\" % (it, f))\n",
        "    sys.stdout.flush()\n",
        "\n",
        "    if f > fold and it > 0 and not sgd:\n",
        "        lr /= 2\n",
        "        f, R = fold, Rold\n",
        "\n",
        "    fold, Rold = f, R\n",
        "\n",
        "    #if (it > 0 and it % 10 == 0) or it == niter:\n",
        "        #nnacc = compute_nn_accuracy(np.dot(x_src, R.T), x_tgt, src2tgt, lexicon_size=lexicon_size)\n",
        "        #print(\"[it=%d] NN = %.4f - Coverage = %.4f\" % (it, nnacc, len(src2tgt) / lexicon_size))"
      ],
      "execution_count": null,
      "outputs": [
        {
          "output_type": "stream",
          "text": [
            "[it=0] f = -2.6214\n",
            "[it=1] f = -2.6457\n",
            "[it=2] f = -2.6768\n",
            "[it=3] f = -2.6986\n",
            "[it=4] f = -2.7206\n",
            "[it=5] f = -2.7448\n",
            "[it=6] f = -2.7754\n",
            "[it=7] f = -2.7966\n",
            "[it=8] f = -2.8267\n",
            "[it=9] f = -2.8573\n",
            "[it=10] f = -2.8795\n",
            "[it=11] f = -2.9011\n",
            "[it=12] f = -2.9347\n",
            "[it=13] f = -2.9526\n",
            "[it=14] f = -2.9829\n",
            "[it=15] f = -3.0087\n",
            "[it=16] f = -3.0316\n",
            "[it=17] f = -3.0587\n",
            "[it=18] f = -3.0917\n",
            "[it=19] f = -3.1132\n",
            "[it=20] f = -3.1388\n",
            "[it=21] f = -3.1625\n",
            "[it=22] f = -3.1896\n",
            "[it=23] f = -3.2143\n",
            "[it=24] f = -3.2431\n",
            "[it=25] f = -3.2705\n",
            "[it=26] f = -3.3010\n",
            "[it=27] f = -3.3191\n",
            "[it=28] f = -3.3503\n",
            "[it=29] f = -3.3687\n",
            "[it=30] f = -3.3929\n",
            "[it=31] f = -3.4231\n",
            "[it=32] f = -3.4533\n",
            "[it=33] f = -3.4768\n",
            "[it=34] f = -3.4997\n",
            "[it=35] f = -3.5358\n",
            "[it=36] f = -3.5499\n",
            "[it=37] f = -3.5765\n",
            "[it=38] f = -3.5972\n",
            "[it=39] f = -3.6292\n",
            "[it=40] f = -3.6617\n",
            "[it=41] f = -3.6801\n",
            "[it=42] f = -3.7077\n",
            "[it=43] f = -3.7396\n",
            "[it=44] f = -3.7532\n",
            "[it=45] f = -3.7852\n",
            "[it=46] f = -3.8137\n",
            "[it=47] f = -3.8316\n",
            "[it=48] f = -3.8642\n",
            "[it=49] f = -3.8822\n",
            "[it=50] f = -3.9067\n"
          ],
          "name": "stdout"
        }
      ]
    },
    {
      "cell_type": "code",
      "metadata": {
        "id": "oPI9SYFe-Su8",
        "colab_type": "code",
        "colab": {
          "base_uri": "https://localhost:8080/",
          "height": 225
        },
        "outputId": "9d833b02-79a9-4f01-df83-e3ee9b3bc1f8"
      },
      "source": [
        "x_tgt_t = np.dot(x_tgt, R.T)\n",
        "x_tgt_t /= np.linalg.norm(x_tgt_t, axis=1)[:, np.newaxis] + 1e-8\n",
        "\n",
        "\n",
        "nnacc = compute_nn_accuracy(x_src_t, x_tgt_t, src2tgt, lexicon_size=lexicon_size)\n",
        "print(\"[final] NN = %.4f - Coverage = %.4f\" % (nnacc, len(src2tgt) / lexicon_size))"
      ],
      "execution_count": null,
      "outputs": [
        {
          "output_type": "error",
          "ename": "NameError",
          "evalue": "ignored",
          "traceback": [
            "\u001b[0;31m---------------------------------------------------------------------------\u001b[0m",
            "\u001b[0;31mNameError\u001b[0m                                 Traceback (most recent call last)",
            "\u001b[0;32m<ipython-input-117-fb9cccf5d276>\u001b[0m in \u001b[0;36m<module>\u001b[0;34m()\u001b[0m\n\u001b[1;32m      3\u001b[0m \u001b[0;34m\u001b[0m\u001b[0m\n\u001b[1;32m      4\u001b[0m \u001b[0;34m\u001b[0m\u001b[0m\n\u001b[0;32m----> 5\u001b[0;31m \u001b[0mnnacc\u001b[0m \u001b[0;34m=\u001b[0m \u001b[0mcompute_nn_accuracy\u001b[0m\u001b[0;34m(\u001b[0m\u001b[0mx_src_t\u001b[0m\u001b[0;34m,\u001b[0m \u001b[0mx_tgt_t\u001b[0m\u001b[0;34m,\u001b[0m \u001b[0msrc2tgt\u001b[0m\u001b[0;34m,\u001b[0m \u001b[0mlexicon_size\u001b[0m\u001b[0;34m=\u001b[0m\u001b[0mlexicon_size\u001b[0m\u001b[0;34m)\u001b[0m\u001b[0;34m\u001b[0m\u001b[0;34m\u001b[0m\u001b[0m\n\u001b[0m\u001b[1;32m      6\u001b[0m \u001b[0mprint\u001b[0m\u001b[0;34m(\u001b[0m\u001b[0;34m\"[final] NN = %.4f - Coverage = %.4f\"\u001b[0m \u001b[0;34m%\u001b[0m \u001b[0;34m(\u001b[0m\u001b[0mnnacc\u001b[0m\u001b[0;34m,\u001b[0m \u001b[0mlen\u001b[0m\u001b[0;34m(\u001b[0m\u001b[0msrc2tgt\u001b[0m\u001b[0;34m)\u001b[0m \u001b[0;34m/\u001b[0m \u001b[0mlexicon_size\u001b[0m\u001b[0;34m)\u001b[0m\u001b[0;34m)\u001b[0m\u001b[0;34m\u001b[0m\u001b[0;34m\u001b[0m\u001b[0m\n",
            "\u001b[0;31mNameError\u001b[0m: name 'x_src_t' is not defined"
          ]
        }
      ]
    },
    {
      "cell_type": "code",
      "metadata": {
        "id": "NfIMgIhqU3Rz",
        "colab_type": "code",
        "colab": {}
      },
      "source": [
        "words_full = list(fr_muse.keys())\n",
        "# embeddings french\n",
        "x_full = np.array([fr_muse[vec] for vec in words_full])\n",
        "x_full /= np.linalg.norm(x_full, axis=1)[:, np.newaxis] + 1e-8\n",
        "\n",
        "x = np.dot(x_full, R.T)\n",
        "x /= np.linalg.norm(x, axis=1)[:, np.newaxis] + 1e-8\n",
        "\n"
      ],
      "execution_count": null,
      "outputs": []
    },
    {
      "cell_type": "code",
      "metadata": {
        "id": "CeXeT3ulJ4MA",
        "colab_type": "code",
        "colab": {
          "base_uri": "https://localhost:8080/",
          "height": 225
        },
        "outputId": "8c020e32-f9f4-44bb-ddb8-93adb688c105"
      },
      "source": [
        "similar=[]\n",
        "for de,fr in de_fr_dict.items():\n",
        "    fr = repla(fr)\n",
        "    de = repla(de)\n",
        "    similar.append(cosine_similarity(x[words_tgt.index(fr)],de_muse[words_src.index(de)]))\n",
        "np.mean(similar)\n"
      ],
      "execution_count": null,
      "outputs": [
        {
          "output_type": "error",
          "ename": "KeyError",
          "evalue": "ignored",
          "traceback": [
            "\u001b[0;31m---------------------------------------------------------------------------\u001b[0m",
            "\u001b[0;31mKeyError\u001b[0m                                  Traceback (most recent call last)",
            "\u001b[0;32m<ipython-input-130-7fefd59166e1>\u001b[0m in \u001b[0;36m<module>\u001b[0;34m()\u001b[0m\n\u001b[1;32m      3\u001b[0m     \u001b[0mfr\u001b[0m \u001b[0;34m=\u001b[0m \u001b[0mrepla\u001b[0m\u001b[0;34m(\u001b[0m\u001b[0mfr\u001b[0m\u001b[0;34m)\u001b[0m\u001b[0;34m\u001b[0m\u001b[0;34m\u001b[0m\u001b[0m\n\u001b[1;32m      4\u001b[0m     \u001b[0mde\u001b[0m \u001b[0;34m=\u001b[0m \u001b[0mrepla\u001b[0m\u001b[0;34m(\u001b[0m\u001b[0mde\u001b[0m\u001b[0;34m)\u001b[0m\u001b[0;34m\u001b[0m\u001b[0;34m\u001b[0m\u001b[0m\n\u001b[0;32m----> 5\u001b[0;31m     \u001b[0msimilar\u001b[0m\u001b[0;34m.\u001b[0m\u001b[0mappend\u001b[0m\u001b[0;34m(\u001b[0m\u001b[0mcosine_similarity\u001b[0m\u001b[0;34m(\u001b[0m\u001b[0mx\u001b[0m\u001b[0;34m[\u001b[0m\u001b[0mwords_tgt\u001b[0m\u001b[0;34m.\u001b[0m\u001b[0mindex\u001b[0m\u001b[0;34m(\u001b[0m\u001b[0mfr\u001b[0m\u001b[0;34m)\u001b[0m\u001b[0;34m]\u001b[0m\u001b[0;34m,\u001b[0m\u001b[0mde_muse\u001b[0m\u001b[0;34m[\u001b[0m\u001b[0mwords_src\u001b[0m\u001b[0;34m.\u001b[0m\u001b[0mindex\u001b[0m\u001b[0;34m(\u001b[0m\u001b[0mde\u001b[0m\u001b[0;34m)\u001b[0m\u001b[0;34m]\u001b[0m\u001b[0;34m)\u001b[0m\u001b[0;34m)\u001b[0m\u001b[0;34m\u001b[0m\u001b[0;34m\u001b[0m\u001b[0m\n\u001b[0m\u001b[1;32m      6\u001b[0m \u001b[0mnp\u001b[0m\u001b[0;34m.\u001b[0m\u001b[0mmean\u001b[0m\u001b[0;34m(\u001b[0m\u001b[0msimilar\u001b[0m\u001b[0;34m)\u001b[0m\u001b[0;34m\u001b[0m\u001b[0;34m\u001b[0m\u001b[0m\n",
            "\u001b[0;31mKeyError\u001b[0m: 0"
          ]
        }
      ]
    },
    {
      "cell_type": "code",
      "metadata": {
        "id": "_mKGGPbsV3vi",
        "colab_type": "code",
        "colab": {}
      },
      "source": [
        "if params.output != \"\":\n",
        "    print(\"Saving all aligned vectors at %s\" % params.output)\n",
        "    words_full, x_full = load_vectors(params.src_emb, maxload=-1, center=params.center, verbose=False)\n",
        "    x = np.dot(x_full, R.T)\n",
        "    x /= np.linalg.norm(x, axis=1)[:, np.newaxis] + 1e-8\n",
        "    save_vectors(params.output, x, words_full)\n",
        "    save_matrix(params.output + \"-mat\",  R)"
      ],
      "execution_count": null,
      "outputs": []
    },
    {
      "cell_type": "code",
      "metadata": {
        "id": "ih6g_DSLkVUx",
        "colab_type": "code",
        "colab": {}
      },
      "source": [
        ""
      ],
      "execution_count": null,
      "outputs": []
    },
    {
      "cell_type": "markdown",
      "metadata": {
        "id": "0NdNYqc0THej",
        "colab_type": "text"
      },
      "source": [
        "### Test new Embeddings"
      ]
    },
    {
      "cell_type": "markdown",
      "metadata": {
        "id": "12gYRQI9TLoy",
        "colab_type": "text"
      },
      "source": [
        "#### In Vocab"
      ]
    },
    {
      "cell_type": "code",
      "metadata": {
        "id": "R-_zDNH84BNg",
        "colab_type": "code",
        "colab": {
          "base_uri": "https://localhost:8080/",
          "height": 100
        },
        "outputId": "6a885bbf-13aa-4e0a-8f6c-2782e11cf5fb"
      },
      "source": [
        "similar('wurst',de_muse,5)"
      ],
      "execution_count": null,
      "outputs": [
        {
          "output_type": "execute_result",
          "data": {
            "text/plain": [
              "[('wurstbrot', 0.7768503),\n",
              " ('fleischwurst', 0.7504408),\n",
              " ('woerste', 0.7394904),\n",
              " ('wurstsuppe', 0.7378311),\n",
              " ('wurstbraet', 0.73757136)]"
            ]
          },
          "metadata": {
            "tags": []
          },
          "execution_count": 13
        }
      ]
    },
    {
      "cell_type": "code",
      "metadata": {
        "id": "XS0e0YaPSIss",
        "colab_type": "code",
        "colab": {
          "base_uri": "https://localhost:8080/",
          "height": 100
        },
        "outputId": "bac3302e-3a6f-4580-9411-2ac0be078292"
      },
      "source": [
        "similar('wurst',de_own_ft,5)"
      ],
      "execution_count": null,
      "outputs": [
        {
          "output_type": "execute_result",
          "data": {
            "text/plain": [
              "[('rorwurst', 22.397615),\n",
              " ('briihwurst', 21.794773),\n",
              " ('wurstsulz', 21.249077),\n",
              " ('bqik', 20.898455),\n",
              " ('wurst', 20.343674)]"
            ]
          },
          "metadata": {
            "tags": []
          },
          "execution_count": 14
        }
      ]
    },
    {
      "cell_type": "code",
      "metadata": {
        "id": "XwmIpGxvSI9k",
        "colab_type": "code",
        "colab": {
          "base_uri": "https://localhost:8080/",
          "height": 100
        },
        "outputId": "4190ba8c-f793-46c2-9266-89a143498438"
      },
      "source": [
        "similar('wurst',de_muse_ext,5)"
      ],
      "execution_count": null,
      "outputs": [
        {
          "output_type": "execute_result",
          "data": {
            "text/plain": [
              "[('kaesewurst', 0.8321126895329031),\n",
              " ('wurstaufschnitt', 0.8146291982446567),\n",
              " ('schinkenrotwurst', 0.7933772290902485),\n",
              " ('schinkenkrakauer', 0.7890030790415159),\n",
              " ('sommerwurst', 0.7848590018431179)]"
            ]
          },
          "metadata": {
            "tags": []
          },
          "execution_count": 15
        }
      ]
    },
    {
      "cell_type": "code",
      "metadata": {
        "id": "koIfb1Jrdiyy",
        "colab_type": "code",
        "colab": {
          "base_uri": "https://localhost:8080/",
          "height": 50
        },
        "outputId": "1844eb9c-eb9c-465d-db07-067ea949f0d7"
      },
      "source": [
        "word = 'pomme de terre'\n",
        "\n",
        "new_v = (fr_model['pomme'] +fr_model['de'] + fr_model['terre'] )/2\n",
        "print(new_v.shape)\n",
        "\n",
        "print(word,similar_v(new_v,de_model))"
      ],
      "execution_count": null,
      "outputs": [
        {
          "output_type": "stream",
          "text": [
            "(300,)\n",
            "pomme de terre [('gedoenstet', 0.5515273), ('geschmort', 0.550975), ('lan', 0.5491309), ('liquer', 0.54181695), ('pochiert', 0.5408294)]\n"
          ],
          "name": "stdout"
        }
      ]
    },
    {
      "cell_type": "code",
      "metadata": {
        "id": "0tUfVFqnfUHp",
        "colab_type": "code",
        "colab": {
          "base_uri": "https://localhost:8080/",
          "height": 33
        },
        "outputId": "a8cf2121-2908-48c8-8b5c-839341b2b529"
      },
      "source": [
        "fr = 'pomme'\n",
        "de = 'kartoffel'\n",
        "cosine_similarity(new_v ,de_model[de])"
      ],
      "execution_count": null,
      "outputs": [
        {
          "output_type": "execute_result",
          "data": {
            "text/plain": [
              "0.3890639"
            ]
          },
          "metadata": {
            "tags": []
          },
          "execution_count": 29
        }
      ]
    },
    {
      "cell_type": "code",
      "metadata": {
        "id": "_1Q7tdCO3oir",
        "colab_type": "code",
        "colab": {
          "base_uri": "https://localhost:8080/",
          "height": 53
        },
        "outputId": "36a730ea-efc6-4235-a834-9f6c5ad7354a"
      },
      "source": [
        "word = 'backfertig'\n",
        "\n",
        "im_both_dict = shared_dict(de_own_ft,de_model)\n",
        "new_v = similar_both(word,de_own_ft,de_model,im_both_dict,10)\n",
        "print(word,similar_v(new_v,de_model))"
      ],
      "execution_count": null,
      "outputs": [
        {
          "output_type": "stream",
          "text": [
            "backfertig [('backzutat', 0.722348684554837), ('backzutaten', 0.7066722221245566), ('backform', 0.6963554129300749), ('kartoffelchips', 0.694915798786746), ('pizzateig', 0.690639124621061)]\n"
          ],
          "name": "stdout"
        }
      ]
    },
    {
      "cell_type": "markdown",
      "metadata": {
        "id": "1f60irExTSZS",
        "colab_type": "text"
      },
      "source": [
        "#### Out of Vocab"
      ]
    },
    {
      "cell_type": "code",
      "metadata": {
        "id": "IC5NbP-8D4qP",
        "colab_type": "code",
        "colab": {
          "base_uri": "https://localhost:8080/",
          "height": 33
        },
        "outputId": "519e1e86-e413-4bfd-a5f7-ee2846d78985"
      },
      "source": [
        "ovv = pickle.load( open(path + '/embeddings/de_ooV.p', \"rb\" ) )\n",
        "\n",
        "ovv_to_emb = [w for w,cnt in  list(ovv.items()) if cnt>50]\n",
        "len(ovv_to_emb)"
      ],
      "execution_count": null,
      "outputs": [
        {
          "output_type": "execute_result",
          "data": {
            "text/plain": [
              "1652"
            ]
          },
          "metadata": {
            "tags": []
          },
          "execution_count": 17
        }
      ]
    },
    {
      "cell_type": "code",
      "metadata": {
        "id": "Mawwx_I-Tzz7",
        "colab_type": "code",
        "colab": {
          "base_uri": "https://localhost:8080/",
          "height": 33
        },
        "outputId": "734794ae-da75-40b0-b4ec-bcc15a65cbdc"
      },
      "source": [
        "ovv_to_emb[11:15]"
      ],
      "execution_count": null,
      "outputs": [
        {
          "output_type": "execute_result",
          "data": {
            "text/plain": [
              "['vorratsschrank', 'instantgerichte', 'ffnen', 'kochhilfen']"
            ]
          },
          "metadata": {
            "tags": []
          },
          "execution_count": 22
        }
      ]
    },
    {
      "cell_type": "code",
      "metadata": {
        "id": "u9tp7DmbTzwj",
        "colab_type": "code",
        "colab": {
          "base_uri": "https://localhost:8080/",
          "height": 278
        },
        "outputId": "a7ec81f0-2978-4422-9053-e67f5a05e092"
      },
      "source": [
        "similar('vorratsschrank',de_muse,5)"
      ],
      "execution_count": null,
      "outputs": [
        {
          "output_type": "error",
          "ename": "KeyError",
          "evalue": "ignored",
          "traceback": [
            "\u001b[0;31m---------------------------------------------------------------------------\u001b[0m",
            "\u001b[0;31mKeyError\u001b[0m                                  Traceback (most recent call last)",
            "\u001b[0;32m<ipython-input-29-a646d3efe59b>\u001b[0m in \u001b[0;36m<module>\u001b[0;34m()\u001b[0m\n\u001b[0;32m----> 1\u001b[0;31m \u001b[0msimilar\u001b[0m\u001b[0;34m(\u001b[0m\u001b[0;34m'vorratsschrank'\u001b[0m\u001b[0;34m,\u001b[0m\u001b[0mde_muse\u001b[0m\u001b[0;34m,\u001b[0m\u001b[0;36m5\u001b[0m\u001b[0;34m)\u001b[0m\u001b[0;34m\u001b[0m\u001b[0;34m\u001b[0m\u001b[0m\n\u001b[0m",
            "\u001b[0;32m<ipython-input-8-681ac38a6cb3>\u001b[0m in \u001b[0;36msimilar\u001b[0;34m(word, embed, no)\u001b[0m\n\u001b[1;32m      1\u001b[0m \u001b[0;32mdef\u001b[0m \u001b[0msimilar\u001b[0m\u001b[0;34m(\u001b[0m\u001b[0mword\u001b[0m\u001b[0;34m,\u001b[0m\u001b[0membed\u001b[0m\u001b[0;34m,\u001b[0m\u001b[0mno\u001b[0m\u001b[0;34m=\u001b[0m\u001b[0;36m5\u001b[0m\u001b[0;34m)\u001b[0m\u001b[0;34m:\u001b[0m\u001b[0;34m\u001b[0m\u001b[0;34m\u001b[0m\u001b[0m\n\u001b[0;32m----> 2\u001b[0;31m     \u001b[0mmean\u001b[0m \u001b[0;34m=\u001b[0m  \u001b[0mnp\u001b[0m\u001b[0;34m.\u001b[0m\u001b[0marray\u001b[0m\u001b[0;34m(\u001b[0m\u001b[0membed\u001b[0m\u001b[0;34m[\u001b[0m\u001b[0mword\u001b[0m\u001b[0;34m]\u001b[0m\u001b[0;34m)\u001b[0m\u001b[0;34m\u001b[0m\u001b[0;34m\u001b[0m\u001b[0m\n\u001b[0m\u001b[1;32m      3\u001b[0m     \u001b[0mlimited\u001b[0m \u001b[0;34m=\u001b[0m \u001b[0mnp\u001b[0m\u001b[0;34m.\u001b[0m\u001b[0marray\u001b[0m\u001b[0;34m(\u001b[0m\u001b[0mlist\u001b[0m\u001b[0;34m(\u001b[0m\u001b[0membed\u001b[0m\u001b[0;34m.\u001b[0m\u001b[0mvalues\u001b[0m\u001b[0;34m(\u001b[0m\u001b[0;34m)\u001b[0m\u001b[0;34m)\u001b[0m\u001b[0;34m)\u001b[0m\u001b[0;34m\u001b[0m\u001b[0;34m\u001b[0m\u001b[0m\n\u001b[1;32m      4\u001b[0m     \u001b[0mdists\u001b[0m \u001b[0;34m=\u001b[0m \u001b[0mnp\u001b[0m\u001b[0;34m.\u001b[0m\u001b[0mdot\u001b[0m\u001b[0;34m(\u001b[0m\u001b[0mlimited\u001b[0m\u001b[0;34m,\u001b[0m \u001b[0mmean\u001b[0m\u001b[0;34m)\u001b[0m\u001b[0;34m\u001b[0m\u001b[0;34m\u001b[0m\u001b[0m\n\u001b[1;32m      5\u001b[0m     \u001b[0mw2d\u001b[0m \u001b[0;34m=\u001b[0m \u001b[0mdict\u001b[0m\u001b[0;34m(\u001b[0m\u001b[0mzip\u001b[0m\u001b[0;34m(\u001b[0m\u001b[0mlist\u001b[0m\u001b[0;34m(\u001b[0m\u001b[0membed\u001b[0m\u001b[0;34m.\u001b[0m\u001b[0mkeys\u001b[0m\u001b[0;34m(\u001b[0m\u001b[0;34m)\u001b[0m\u001b[0;34m)\u001b[0m\u001b[0;34m,\u001b[0m\u001b[0mlist\u001b[0m\u001b[0;34m(\u001b[0m\u001b[0mdists\u001b[0m\u001b[0;34m)\u001b[0m\u001b[0;34m)\u001b[0m\u001b[0;34m)\u001b[0m\u001b[0;34m\u001b[0m\u001b[0;34m\u001b[0m\u001b[0m\n",
            "\u001b[0;31mKeyError\u001b[0m: 'vorratsschrank'"
          ]
        }
      ]
    },
    {
      "cell_type": "code",
      "metadata": {
        "id": "Vo7g6LCQUHH0",
        "colab_type": "code",
        "colab": {
          "base_uri": "https://localhost:8080/",
          "height": 100
        },
        "outputId": "388df33a-be19-485f-eab2-7aed04d92660"
      },
      "source": [
        "similar('instantgerichte',de_own_ft,5)"
      ],
      "execution_count": null,
      "outputs": [
        {
          "output_type": "execute_result",
          "data": {
            "text/plain": [
              "[('instantgerichte', 36.448486),\n",
              " ('kxey', 25.486507),\n",
              " ('bci', 24.919731),\n",
              " ('instantgelatine', 23.92138),\n",
              " ('pok', 23.387085)]"
            ]
          },
          "metadata": {
            "tags": []
          },
          "execution_count": 27
        }
      ]
    },
    {
      "cell_type": "code",
      "metadata": {
        "id": "zFBsMezPUHPy",
        "colab_type": "code",
        "colab": {
          "base_uri": "https://localhost:8080/",
          "height": 183
        },
        "outputId": "107d3a23-d116-4c56-928c-07452f4d4c67"
      },
      "source": [
        "similar('hund',de_muse_ext,10)"
      ],
      "execution_count": null,
      "outputs": [
        {
          "output_type": "execute_result",
          "data": {
            "text/plain": [
              "[('hundesnacks', 0.8330082140512194),\n",
              " ('hundesnack', 0.8293657795665598),\n",
              " ('hunde', 0.7618168828422787),\n",
              " ('hundes', 0.7617338501073201),\n",
              " ('katze', 0.7567193129512572),\n",
              " ('hunden', 0.707018349755564),\n",
              " ('hundebedarf', 0.7068084736316183),\n",
              " ('katzen', 0.6876648837708602),\n",
              " ('katzensnack', 0.6854314522589989),\n",
              " ('schwein', 0.6807642806359087)]"
            ]
          },
          "metadata": {
            "tags": []
          },
          "execution_count": 32
        }
      ]
    },
    {
      "cell_type": "markdown",
      "metadata": {
        "id": "w3_3Vd98UHqd",
        "colab_type": "text"
      },
      "source": [
        "Train"
      ]
    },
    {
      "cell_type": "code",
      "metadata": {
        "id": "Qlg1rOj21kSt",
        "colab_type": "code",
        "colab": {}
      },
      "source": [
        "ovv = pickle.load( open(path + '/embeddings/de_ooV.p', \"rb\" ) )\n",
        "list(ovv.keys())[:50]"
      ],
      "execution_count": null,
      "outputs": []
    },
    {
      "cell_type": "code",
      "metadata": {
        "id": "7EjoMOO1-EQI",
        "colab_type": "code",
        "colab": {
          "base_uri": "https://localhost:8080/",
          "height": 67
        },
        "outputId": "cde63390-6b8d-40a4-a816-8bd0aa30c700"
      },
      "source": [
        "%%time\n",
        "from tqdm import tqdm\n",
        "\n",
        "for word in tqdm(ovv_to_emb):\n",
        "    if word in de_own_ft:\n",
        "        new_v = similar_both(word,de_own_ft,de_model,im_both_dict,10)\n",
        "        de_model[word] = new_v\n",
        "\n",
        "pickle.dump(de_model, open(path + '/embeddings/de_slim_embed_ext.p', \"wb\" ))\n"
      ],
      "execution_count": null,
      "outputs": [
        {
          "output_type": "stream",
          "text": [
            "100%|██████████| 1652/1652 [08:45<00:00,  3.15it/s]"
          ],
          "name": "stderr"
        },
        {
          "output_type": "stream",
          "text": [
            "CPU times: user 10min 15s, sys: 7min 1s, total: 17min 17s\n",
            "Wall time: 8min 45s\n"
          ],
          "name": "stdout"
        },
        {
          "output_type": "stream",
          "text": [
            "\n"
          ],
          "name": "stderr"
        }
      ]
    },
    {
      "cell_type": "code",
      "metadata": {
        "id": "yjieskDCslWz",
        "colab_type": "code",
        "colab": {}
      },
      "source": [
        "x_tgt = list(de_own_ft.values())\n",
        "x_tgt /= np.linalg.norm(x_tgt, axis=1)[:, np.newaxis] + 1e-8\n",
        "de_own_ft = dict(zip(list(de_own_ft.keys()),x_tgt))"
      ],
      "execution_count": null,
      "outputs": []
    },
    {
      "cell_type": "code",
      "metadata": {
        "id": "tZZAe-GUrdNN",
        "colab_type": "code",
        "colab": {}
      },
      "source": [
        "dist_milch = [[k,v] for k, v in sorted(w2d.items(), key=lambda item: item[1], reverse=True)]"
      ],
      "execution_count": null,
      "outputs": []
    },
    {
      "cell_type": "code",
      "metadata": {
        "id": "k-4Y9YMDs4PE",
        "colab_type": "code",
        "colab": {
          "base_uri": "https://localhost:8080/",
          "height": 100
        },
        "outputId": "d6045851-83a7-4063-ad5a-f5a4bbf2574a"
      },
      "source": [
        "dist_milch[:5]"
      ],
      "execution_count": null,
      "outputs": [
        {
          "output_type": "execute_result",
          "data": {
            "text/plain": [
              "[['milch', 0.99993813],\n",
              " ['buttermilch', 0.7569093],\n",
              " ['milcheis', 0.7549504],\n",
              " ['milchfett', 0.74762744],\n",
              " ['milchcreme', 0.7416733]]"
            ]
          },
          "metadata": {
            "tags": []
          },
          "execution_count": 91
        }
      ]
    },
    {
      "cell_type": "code",
      "metadata": {
        "id": "oTWY1-YZorNS",
        "colab_type": "code",
        "colab": {}
      },
      "source": [
        "if not topn:\n",
        "    return dists\n",
        "best = matutils.argsort(dists, topn=topn + len(all_words), reverse=True)\n",
        "# ignore (don't return) words from the input\n",
        "result = [(self.index2word[sim], float(dists[sim])) for sim in best if sim not in all_words]\n",
        "return result[:topn]"
      ],
      "execution_count": null,
      "outputs": []
    },
    {
      "cell_type": "markdown",
      "metadata": {
        "id": "1dxe8THpcEwd",
        "colab_type": "text"
      },
      "source": [
        "# Visualisation"
      ]
    },
    {
      "cell_type": "code",
      "metadata": {
        "id": "T4GqvhxQNbs-",
        "colab_type": "code",
        "colab": {}
      },
      "source": [
        "%matplotlib inline\n",
        "import matplotlib.pyplot as plt\n",
        "plt.style.use('ggplot')\n",
        "\n",
        "from sklearn.decomposition import PCA"
      ],
      "execution_count": null,
      "outputs": []
    },
    {
      "cell_type": "code",
      "metadata": {
        "id": "rE2SSuHDYuO8",
        "colab_type": "code",
        "colab": {}
      },
      "source": [
        "#pickle.dump(fr_muse_align, open(path + '/embeddings/fr_muse_align.p', \"wb\" ))\n",
        "\n",
        "fr_muse_align = pickle.load( open(path + '/embeddings/fr_muse_align.p', \"rb\" ) )\n",
        "fr_own_ft = pickle.load( open(path + '/embeddings/fr_embed_trained.p', \"rb\" ) )\n",
        "de_own_ft = pickle.load( open(path + '/embeddings/de_embed_trained.p', \"rb\" ) )"
      ],
      "execution_count": null,
      "outputs": []
    },
    {
      "cell_type": "code",
      "metadata": {
        "id": "xc8fbr9vO-tz",
        "colab_type": "code",
        "colab": {}
      },
      "source": [
        "from sklearn.manifold import TSNE\n",
        "import matplotlib.pyplot as plt\n",
        "%matplotlib inline\n",
        "\n",
        "def tsne_plot(model_de,model_fr,model_fr2=None):\n",
        "    \"Creates and TSNE model and plots it\"\n",
        "\n",
        "    words_de =  [repla(w) for w in de_fr_dict.keys()]\n",
        "    words_fr =  [repla(w) for w in de_fr_dict.values()]\n",
        "    #words_fr2 =  [repla(w)+'_2' for w in de_fr_dict.values()]\n",
        "    embed_de =  [model_de[w] for w in words_de]\n",
        "    embed_fr =  [model_fr[w] for w in words_fr]\n",
        "    #embed_fr2 =  [model_fr2[w] for w in words_fr]\n",
        "    words = words_de + words_fr#+words_fr2\n",
        "    embed = embed_de+embed_fr#+embed_fr2\n",
        "    tsne_model = TSNE(perplexity=40, n_components=2, init='pca', n_iter=2500, random_state=23)\n",
        "    new_values = tsne_model.fit_transform(embed)\n",
        "\n",
        "    x = []\n",
        "    y = []\n",
        "    for value in new_values:\n",
        "        x.append(value[0])\n",
        "        y.append(value[1])\n",
        "        \n",
        "    plt.figure(figsize=(16, 16)) \n",
        "    for i in range(len(x)):\n",
        "        plt.scatter(x[i],y[i])\n",
        "        plt.annotate(words[i],\n",
        "                     xy=(x[i], y[i]),\n",
        "                     xytext=(5, 2),\n",
        "                     textcoords='offset points',\n",
        "                     ha='right',\n",
        "                     va='bottom')\n",
        "    plt.show()"
      ],
      "execution_count": null,
      "outputs": []
    },
    {
      "cell_type": "code",
      "metadata": {
        "id": "ppFuJmLmQ2VT",
        "colab_type": "code",
        "colab": {
          "base_uri": "https://localhost:8080/",
          "height": 918
        },
        "outputId": "a6b5eb76-b7ca-41f8-88c8-6724f5bb5b75"
      },
      "source": [
        "tsne_plot(de_own_ft,fr_ft_alli)"
      ],
      "execution_count": null,
      "outputs": [
        {
          "output_type": "display_data",
          "data": {
            "image/png": "[encoded data removed]",
            "text/plain": [
              "<Figure size 1152x1152 with 1 Axes>"
            ]
          },
          "metadata": {
            "tags": [],
            "needs_background": "light"
          }
        }
      ]
    },
    {
      "cell_type": "code",
      "metadata": {
        "id": "vvW651_xY3Pd",
        "colab_type": "code",
        "colab": {
          "base_uri": "https://localhost:8080/",
          "height": 918
        },
        "outputId": "d3641817-f3f3-488f-d8e0-80bb91698eec"
      },
      "source": [
        "tsne_plot(de_muse,fr_muse,fr_muse_align)"
      ],
      "execution_count": null,
      "outputs": [
        {
          "output_type": "display_data",
          "data": {
            "image/png": "[encoded data removed]",
            "text/plain": [
              "<Figure size 1152x1152 with 1 Axes>"
            ]
          },
          "metadata": {
            "tags": [],
            "needs_background": "light"
          }
        }
      ]
    },
    {
      "cell_type": "code",
      "metadata": {
        "id": "j6Jqaz6RTouh",
        "colab_type": "code",
        "colab": {
          "base_uri": "https://localhost:8080/",
          "height": 1000
        },
        "outputId": "995b68b7-402a-424f-e828-bd226c02788f"
      },
      "source": [
        " words_de =  [repla(w) for w in de_fr_dict.keys()]\n",
        "words_fr =  [repla(w) for w in de_fr_dict.values()]\n",
        "embed_de =  [de_muse[w] for w in words_de]\n",
        "embed_fr =  [fr_muse[w] for w in words_fr]\n",
        "words = words_de + words_fr\n",
        "embed = embed_de+embed_fr\n",
        "embed[:2]"
      ],
      "execution_count": null,
      "outputs": [
        {
          "output_type": "execute_result",
          "data": {
            "text/plain": [
              "[array([-5.500e-03,  6.590e-02,  8.730e-02, -4.080e-02,  2.600e-03,\n",
              "         4.410e-02, -1.100e-02, -1.007e-01,  1.202e-01, -6.500e-02,\n",
              "        -2.230e-02,  2.600e-03,  1.156e-01, -1.600e-03, -1.680e-02,\n",
              "        -1.650e-02,  6.360e-02, -7.040e-02, -2.560e-02, -9.600e-02,\n",
              "         8.300e-02,  4.040e-02, -1.100e-02,  5.040e-02,  5.020e-02,\n",
              "         6.260e-02,  1.730e-02, -7.650e-02,  3.750e-02,  2.580e-02,\n",
              "         2.210e-02, -3.340e-02,  1.860e-02,  1.075e-01,  5.310e-02,\n",
              "        -1.070e-02,  1.530e-02, -2.410e-02,  4.870e-02,  6.800e-03,\n",
              "         3.060e-02,  5.210e-02,  3.000e-02,  3.440e-02, -6.850e-02,\n",
              "         7.390e-02,  5.840e-02, -5.630e-02,  3.200e-03, -4.230e-02,\n",
              "         2.250e-02,  8.000e-04,  5.580e-02, -5.950e-02, -4.000e-04,\n",
              "        -2.670e-02,  1.780e-02,  1.310e-02, -1.930e-02, -8.120e-02,\n",
              "        -1.041e-01, -1.650e-01,  1.084e-01, -6.180e-02,  3.690e-02,\n",
              "        -1.051e-01, -1.199e-01, -6.800e-02, -5.040e-02, -4.770e-02,\n",
              "        -1.429e-01,  2.100e-03,  1.290e-02, -1.517e-01, -6.160e-02,\n",
              "        -8.610e-02, -3.600e-02, -2.190e-02, -8.300e-03, -6.860e-02,\n",
              "         4.250e-02, -7.910e-02, -6.100e-03,  1.800e-03,  7.330e-02,\n",
              "         6.660e-02,  4.960e-02,  6.490e-02,  9.070e-02,  8.140e-02,\n",
              "        -6.600e-03,  1.234e-01, -6.680e-02, -6.350e-02, -4.080e-02,\n",
              "         5.380e-02,  9.200e-03, -5.640e-02,  5.300e-02,  8.400e-02,\n",
              "        -1.328e-01, -5.450e-02, -6.320e-02, -5.550e-02, -8.450e-02,\n",
              "         7.410e-02, -1.400e-03,  2.570e-02, -1.332e-01,  1.010e-02,\n",
              "        -6.610e-02,  4.890e-02,  4.210e-02,  5.200e-02,  2.200e-02,\n",
              "         1.156e-01,  3.700e-03, -6.560e-02, -1.450e-02, -5.720e-02,\n",
              "         1.290e-02, -4.400e-02,  4.180e-02, -0.000e+00, -6.390e-02,\n",
              "        -5.240e-02,  1.520e-02, -1.500e-02, -1.200e-02, -5.610e-02,\n",
              "         5.610e-02,  1.260e-02, -9.740e-02, -4.500e-02,  1.240e-02,\n",
              "        -3.260e-02, -1.440e-02, -2.520e-02, -1.210e-02,  2.610e-02,\n",
              "        -3.180e-02,  2.040e-02, -1.910e-02,  2.440e-02, -1.700e-02,\n",
              "         5.870e-02, -4.900e-03,  1.800e-03, -9.100e-03, -1.930e-02,\n",
              "        -8.110e-02,  3.580e-02,  1.300e-03,  8.300e-03,  1.355e-01,\n",
              "         1.370e-02, -1.027e-01, -3.870e-02,  9.200e-03,  7.200e-03,\n",
              "        -8.340e-02,  1.000e-04, -8.070e-02,  2.370e-02, -3.300e-02,\n",
              "        -5.600e-02,  5.090e-02, -2.200e-03,  3.640e-02, -7.500e-02,\n",
              "        -5.410e-02, -4.000e-02,  1.036e-01, -5.660e-02,  4.090e-02,\n",
              "        -5.570e-02,  5.640e-02, -6.030e-02,  3.950e-02,  2.450e-02,\n",
              "        -1.800e-03,  6.660e-02,  3.540e-02,  2.570e-02, -1.530e-02,\n",
              "        -2.570e-02,  3.060e-02,  6.840e-02, -5.610e-02, -2.910e-02,\n",
              "        -7.870e-02, -1.310e-02, -2.410e-02, -4.560e-02, -9.100e-03,\n",
              "         3.620e-02,  2.960e-02, -3.690e-02, -3.080e-02,  3.930e-02,\n",
              "        -7.760e-02, -1.540e-02,  1.210e-02, -1.369e-01, -1.600e-03,\n",
              "         5.870e-02, -1.437e-01, -2.900e-03, -3.290e-02, -1.290e-02,\n",
              "        -5.750e-02, -8.040e-02, -7.460e-02,  4.080e-02, -5.800e-03,\n",
              "        -1.490e-02,  3.210e-02,  8.440e-02,  4.290e-02, -2.510e-02,\n",
              "         3.260e-02, -2.510e-02,  1.390e-01, -3.700e-03, -1.359e-01,\n",
              "        -3.200e-02, -4.010e-02, -1.700e-03, -3.700e-02,  6.660e-02,\n",
              "        -2.690e-02, -3.800e-02, -7.120e-02, -7.820e-02, -5.090e-02,\n",
              "        -4.890e-02, -1.077e-01,  7.100e-03,  1.560e-02, -4.330e-02,\n",
              "         1.910e-02,  6.710e-02,  5.700e-02,  2.800e-03, -2.640e-02,\n",
              "         1.067e-01,  7.360e-02, -1.640e-02,  4.200e-02,  1.200e-02,\n",
              "        -5.260e-02,  1.308e-01,  1.910e-02,  6.660e-02, -6.340e-02,\n",
              "         2.550e-02,  2.950e-02, -1.800e-02, -7.660e-02,  3.130e-02,\n",
              "         9.300e-03,  1.100e-02, -2.990e-02, -6.930e-02,  1.300e-02,\n",
              "         4.610e-02,  7.930e-02, -7.920e-02,  3.000e-03, -4.240e-02,\n",
              "         1.720e-02,  2.500e-03, -7.250e-02,  6.380e-02, -2.350e-02,\n",
              "         2.800e-03,  4.090e-02,  1.460e-02, -1.750e-02,  3.970e-02,\n",
              "         8.940e-02, -3.230e-02,  5.700e-02,  8.600e-03,  7.900e-03,\n",
              "         1.020e-02, -7.820e-02, -1.072e-01, -1.063e-01,  6.660e-02,\n",
              "         8.980e-02, -7.500e-03,  9.310e-02, -7.260e-02, -2.620e-02,\n",
              "         1.740e-02,  5.700e-03, -7.850e-02, -8.430e-02, -3.740e-02],\n",
              "       dtype=float32),\n",
              " array([-0.0512,  0.0117,  0.0128,  0.0737,  0.093 ,  0.0535,  0.0127,\n",
              "        -0.0514,  0.0497, -0.0006,  0.0016, -0.0285,  0.0301,  0.085 ,\n",
              "         0.0518,  0.0465,  0.0103,  0.0103,  0.0301, -0.0077,  0.0567,\n",
              "         0.0149,  0.0393, -0.0087,  0.0109,  0.0811, -0.0628, -0.0578,\n",
              "        -0.038 , -0.0122, -0.0369,  0.0293,  0.0533, -0.0546, -0.0359,\n",
              "         0.0279, -0.0325, -0.0495, -0.0325,  0.0358, -0.0553, -0.0795,\n",
              "        -0.0129, -0.0317, -0.0614,  0.0756, -0.0378,  0.0329, -0.0998,\n",
              "        -0.0619,  0.0272, -0.022 ,  0.1001, -0.0874, -0.0029,  0.0525,\n",
              "        -0.1129,  0.0811,  0.0072,  0.0059,  0.0059, -0.0769,  0.0425,\n",
              "        -0.0491, -0.0811,  0.0051, -0.0723, -0.103 , -0.0513, -0.0999,\n",
              "         0.0405,  0.0217, -0.0311, -0.2088, -0.0215,  0.04  ,  0.0505,\n",
              "        -0.038 ,  0.0332, -0.0226, -0.0156,  0.0568, -0.0513, -0.0896,\n",
              "         0.1096, -0.0304,  0.0794,  0.0028, -0.1011,  0.0009,  0.0116,\n",
              "         0.0777, -0.1404, -0.0232,  0.0629, -0.0243,  0.0174,  0.0441,\n",
              "         0.0236, -0.0419, -0.0933,  0.0388, -0.047 ,  0.0309,  0.0178,\n",
              "         0.0639, -0.0349,  0.0346,  0.0683,  0.0722,  0.0544, -0.005 ,\n",
              "         0.1098,  0.0834, -0.0225, -0.0669, -0.0627, -0.0581, -0.0138,\n",
              "         0.0173,  0.0213, -0.0706,  0.0099, -0.016 ,  0.0414, -0.0616,\n",
              "         0.0019,  0.0319, -0.0082,  0.0805,  0.0465, -0.0624, -0.0078,\n",
              "         0.0085, -0.0005, -0.0659,  0.0744,  0.044 ,  0.0776, -0.0126,\n",
              "         0.0183,  0.016 , -0.0059, -0.0037,  0.0032, -0.0312, -0.005 ,\n",
              "         0.0321, -0.0536, -0.0701, -0.0471,  0.0549, -0.0083, -0.0515,\n",
              "         0.0993, -0.1592,  0.0233,  0.0216, -0.0319,  0.0093,  0.0145,\n",
              "        -0.0299, -0.0597,  0.0161, -0.0003,  0.0452,  0.1278,  0.0083,\n",
              "        -0.1115, -0.0094, -0.0507,  0.0746,  0.0652, -0.0299, -0.0752,\n",
              "        -0.1019,  0.0101,  0.0497,  0.0112,  0.0613,  0.0701, -0.1039,\n",
              "         0.0288, -0.0195, -0.0094, -0.053 , -0.0378,  0.0699, -0.0281,\n",
              "        -0.0129, -0.0314,  0.0098,  0.1019, -0.0331,  0.0692, -0.0209,\n",
              "         0.032 ,  0.0015, -0.0182, -0.081 ,  0.0697, -0.0931,  0.0702,\n",
              "        -0.0502,  0.0041,  0.086 , -0.0941, -0.0068, -0.026 , -0.0282,\n",
              "        -0.0618,  0.0525, -0.0343, -0.1023, -0.026 ,  0.0358,  0.0406,\n",
              "         0.1388,  0.0584,  0.0226, -0.1617, -0.0079,  0.0948, -0.1225,\n",
              "         0.0211, -0.0808, -0.0225,  0.0637, -0.0504, -0.0284,  0.003 ,\n",
              "         0.1072,  0.0081,  0.033 , -0.0778, -0.0159, -0.0689,  0.0007,\n",
              "        -0.048 ,  0.0245, -0.0738, -0.0805,  0.0121, -0.0064,  0.0613,\n",
              "        -0.0471,  0.0604, -0.0727,  0.0726, -0.0851,  0.024 ,  0.0262,\n",
              "        -0.1313, -0.0112, -0.0775,  0.0707,  0.0603, -0.0081,  0.0381,\n",
              "         0.0827,  0.0258, -0.0324, -0.0046, -0.0634, -0.0611, -0.0202,\n",
              "         0.0525, -0.0949, -0.0105,  0.027 ,  0.0193,  0.0425,  0.0745,\n",
              "        -0.0192,  0.1063,  0.076 ,  0.0565,  0.0484, -0.033 , -0.0078,\n",
              "         0.1517,  0.0261, -0.0409, -0.0463, -0.0457,  0.0315,  0.0273,\n",
              "        -0.0325, -0.0522,  0.0441,  0.0873, -0.0325,  0.0614,  0.0665,\n",
              "        -0.0068,  0.0222, -0.0298, -0.0999, -0.0526, -0.0085],\n",
              "       dtype=float32)]"
            ]
          },
          "metadata": {
            "tags": []
          },
          "execution_count": 41
        }
      ]
    },
    {
      "cell_type": "code",
      "metadata": {
        "id": "a6kkyAYzUOgk",
        "colab_type": "code",
        "colab": {}
      },
      "source": [
        ""
      ],
      "execution_count": null,
      "outputs": []
    }
  ]
}