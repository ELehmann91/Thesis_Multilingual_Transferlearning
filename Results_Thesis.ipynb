{
  "nbformat": 4,
  "nbformat_minor": 0,
  "metadata": {
    "colab": {
      "name": "Results_Thesis.ipynb",
      "provenance": [],
      "collapsed_sections": [
        "cjj7J65SZxsE"
      ],
      "toc_visible": true,
      "machine_shape": "hm",
      "include_colab_link": true
    },
    "kernelspec": {
      "name": "python3",
      "display_name": "Python 3"
    },
    "accelerator": "GPU",
    "widgets": {
      "application/vnd.jupyter.widget-state+json": {
        "af80029152754f64971ad3298d72189d": {
          "model_module": "@jupyter-widgets/controls",
          "model_name": "HBoxModel",
          "state": {
            "_view_name": "HBoxView",
            "_dom_classes": [],
            "_model_name": "HBoxModel",
            "_view_module": "@jupyter-widgets/controls",
            "_model_module_version": "1.5.0",
            "_view_count": null,
            "_view_module_version": "1.5.0",
            "box_style": "",
            "layout": "IPY_MODEL_c6c12d42fbd645a1990b3801017412b3",
            "_model_module": "@jupyter-widgets/controls",
            "children": [
              "IPY_MODEL_4cb093f4d51d4621a600e816bf91ac79",
              "IPY_MODEL_e8d209adacb6434a9087c45c4cd8ba16"
            ]
          }
        },
        "c6c12d42fbd645a1990b3801017412b3": {
          "model_module": "@jupyter-widgets/base",
          "model_name": "LayoutModel",
          "state": {
            "_view_name": "LayoutView",
            "grid_template_rows": null,
            "right": null,
            "justify_content": null,
            "_view_module": "@jupyter-widgets/base",
            "overflow": null,
            "_model_module_version": "1.2.0",
            "_view_count": null,
            "flex_flow": null,
            "width": null,
            "min_width": null,
            "border": null,
            "align_items": null,
            "bottom": null,
            "_model_module": "@jupyter-widgets/base",
            "top": null,
            "grid_column": null,
            "overflow_y": null,
            "overflow_x": null,
            "grid_auto_flow": null,
            "grid_area": null,
            "grid_template_columns": null,
            "flex": null,
            "_model_name": "LayoutModel",
            "justify_items": null,
            "grid_row": null,
            "max_height": null,
            "align_content": null,
            "visibility": null,
            "align_self": null,
            "height": null,
            "min_height": null,
            "padding": null,
            "grid_auto_rows": null,
            "grid_gap": null,
            "max_width": null,
            "order": null,
            "_view_module_version": "1.2.0",
            "grid_template_areas": null,
            "object_position": null,
            "object_fit": null,
            "grid_auto_columns": null,
            "margin": null,
            "display": null,
            "left": null
          }
        },
        "4cb093f4d51d4621a600e816bf91ac79": {
          "model_module": "@jupyter-widgets/controls",
          "model_name": "FloatProgressModel",
          "state": {
            "_view_name": "ProgressView",
            "style": "IPY_MODEL_bd9352743ad34f148a3b6a3d1d1e8669",
            "_dom_classes": [],
            "description": "Downloading: 100%",
            "_model_name": "FloatProgressModel",
            "bar_style": "success",
            "max": 625,
            "_view_module": "@jupyter-widgets/controls",
            "_model_module_version": "1.5.0",
            "value": 625,
            "_view_count": null,
            "_view_module_version": "1.5.0",
            "orientation": "horizontal",
            "min": 0,
            "description_tooltip": null,
            "_model_module": "@jupyter-widgets/controls",
            "layout": "IPY_MODEL_fe440bca8195417cb2062524b9e3057b"
          }
        },
        "e8d209adacb6434a9087c45c4cd8ba16": {
          "model_module": "@jupyter-widgets/controls",
          "model_name": "HTMLModel",
          "state": {
            "_view_name": "HTMLView",
            "style": "IPY_MODEL_e40d04110ef844daa46685769b407887",
            "_dom_classes": [],
            "description": "",
            "_model_name": "HTMLModel",
            "placeholder": "​",
            "_view_module": "@jupyter-widgets/controls",
            "_model_module_version": "1.5.0",
            "value": " 625/625 [00:17&lt;00:00, 36.5B/s]",
            "_view_count": null,
            "_view_module_version": "1.5.0",
            "description_tooltip": null,
            "_model_module": "@jupyter-widgets/controls",
            "layout": "IPY_MODEL_15f60e2a22b04c1c9dd6e4986624455d"
          }
        },
        "bd9352743ad34f148a3b6a3d1d1e8669": {
          "model_module": "@jupyter-widgets/controls",
          "model_name": "ProgressStyleModel",
          "state": {
            "_view_name": "StyleView",
            "_model_name": "ProgressStyleModel",
            "description_width": "initial",
            "_view_module": "@jupyter-widgets/base",
            "_model_module_version": "1.5.0",
            "_view_count": null,
            "_view_module_version": "1.2.0",
            "bar_color": null,
            "_model_module": "@jupyter-widgets/controls"
          }
        },
        "fe440bca8195417cb2062524b9e3057b": {
          "model_module": "@jupyter-widgets/base",
          "model_name": "LayoutModel",
          "state": {
            "_view_name": "LayoutView",
            "grid_template_rows": null,
            "right": null,
            "justify_content": null,
            "_view_module": "@jupyter-widgets/base",
            "overflow": null,
            "_model_module_version": "1.2.0",
            "_view_count": null,
            "flex_flow": null,
            "width": null,
            "min_width": null,
            "border": null,
            "align_items": null,
            "bottom": null,
            "_model_module": "@jupyter-widgets/base",
            "top": null,
            "grid_column": null,
            "overflow_y": null,
            "overflow_x": null,
            "grid_auto_flow": null,
            "grid_area": null,
            "grid_template_columns": null,
            "flex": null,
            "_model_name": "LayoutModel",
            "justify_items": null,
            "grid_row": null,
            "max_height": null,
            "align_content": null,
            "visibility": null,
            "align_self": null,
            "height": null,
            "min_height": null,
            "padding": null,
            "grid_auto_rows": null,
            "grid_gap": null,
            "max_width": null,
            "order": null,
            "_view_module_version": "1.2.0",
            "grid_template_areas": null,
            "object_position": null,
            "object_fit": null,
            "grid_auto_columns": null,
            "margin": null,
            "display": null,
            "left": null
          }
        },
        "e40d04110ef844daa46685769b407887": {
          "model_module": "@jupyter-widgets/controls",
          "model_name": "DescriptionStyleModel",
          "state": {
            "_view_name": "StyleView",
            "_model_name": "DescriptionStyleModel",
            "description_width": "",
            "_view_module": "@jupyter-widgets/base",
            "_model_module_version": "1.5.0",
            "_view_count": null,
            "_view_module_version": "1.2.0",
            "_model_module": "@jupyter-widgets/controls"
          }
        },
        "15f60e2a22b04c1c9dd6e4986624455d": {
          "model_module": "@jupyter-widgets/base",
          "model_name": "LayoutModel",
          "state": {
            "_view_name": "LayoutView",
            "grid_template_rows": null,
            "right": null,
            "justify_content": null,
            "_view_module": "@jupyter-widgets/base",
            "overflow": null,
            "_model_module_version": "1.2.0",
            "_view_count": null,
            "flex_flow": null,
            "width": null,
            "min_width": null,
            "border": null,
            "align_items": null,
            "bottom": null,
            "_model_module": "@jupyter-widgets/base",
            "top": null,
            "grid_column": null,
            "overflow_y": null,
            "overflow_x": null,
            "grid_auto_flow": null,
            "grid_area": null,
            "grid_template_columns": null,
            "flex": null,
            "_model_name": "LayoutModel",
            "justify_items": null,
            "grid_row": null,
            "max_height": null,
            "align_content": null,
            "visibility": null,
            "align_self": null,
            "height": null,
            "min_height": null,
            "padding": null,
            "grid_auto_rows": null,
            "grid_gap": null,
            "max_width": null,
            "order": null,
            "_view_module_version": "1.2.0",
            "grid_template_areas": null,
            "object_position": null,
            "object_fit": null,
            "grid_auto_columns": null,
            "margin": null,
            "display": null,
            "left": null
          }
        },
        "7c96785e09f1440dacd8bc6b97d29331": {
          "model_module": "@jupyter-widgets/controls",
          "model_name": "HBoxModel",
          "state": {
            "_view_name": "HBoxView",
            "_dom_classes": [],
            "_model_name": "HBoxModel",
            "_view_module": "@jupyter-widgets/controls",
            "_model_module_version": "1.5.0",
            "_view_count": null,
            "_view_module_version": "1.5.0",
            "box_style": "",
            "layout": "IPY_MODEL_c4a5712230f74c8aaf519e9a64aecc80",
            "_model_module": "@jupyter-widgets/controls",
            "children": [
              "IPY_MODEL_32f08877c7354ebfa35f2a5eac39dc9c",
              "IPY_MODEL_301a79d1e9e44bef96fec96c6be96476"
            ]
          }
        },
        "c4a5712230f74c8aaf519e9a64aecc80": {
          "model_module": "@jupyter-widgets/base",
          "model_name": "LayoutModel",
          "state": {
            "_view_name": "LayoutView",
            "grid_template_rows": null,
            "right": null,
            "justify_content": null,
            "_view_module": "@jupyter-widgets/base",
            "overflow": null,
            "_model_module_version": "1.2.0",
            "_view_count": null,
            "flex_flow": null,
            "width": null,
            "min_width": null,
            "border": null,
            "align_items": null,
            "bottom": null,
            "_model_module": "@jupyter-widgets/base",
            "top": null,
            "grid_column": null,
            "overflow_y": null,
            "overflow_x": null,
            "grid_auto_flow": null,
            "grid_area": null,
            "grid_template_columns": null,
            "flex": null,
            "_model_name": "LayoutModel",
            "justify_items": null,
            "grid_row": null,
            "max_height": null,
            "align_content": null,
            "visibility": null,
            "align_self": null,
            "height": null,
            "min_height": null,
            "padding": null,
            "grid_auto_rows": null,
            "grid_gap": null,
            "max_width": null,
            "order": null,
            "_view_module_version": "1.2.0",
            "grid_template_areas": null,
            "object_position": null,
            "object_fit": null,
            "grid_auto_columns": null,
            "margin": null,
            "display": null,
            "left": null
          }
        },
        "32f08877c7354ebfa35f2a5eac39dc9c": {
          "model_module": "@jupyter-widgets/controls",
          "model_name": "FloatProgressModel",
          "state": {
            "_view_name": "ProgressView",
            "style": "IPY_MODEL_eb61858a0ae345f09f64b3130af36297",
            "_dom_classes": [],
            "description": "Downloading: 100%",
            "_model_name": "FloatProgressModel",
            "bar_style": "success",
            "max": 714314041,
            "_view_module": "@jupyter-widgets/controls",
            "_model_module_version": "1.5.0",
            "value": 714314041,
            "_view_count": null,
            "_view_module_version": "1.5.0",
            "orientation": "horizontal",
            "min": 0,
            "description_tooltip": null,
            "_model_module": "@jupyter-widgets/controls",
            "layout": "IPY_MODEL_dfab8f809f714e96af8dfbfe4b441a2d"
          }
        },
        "301a79d1e9e44bef96fec96c6be96476": {
          "model_module": "@jupyter-widgets/controls",
          "model_name": "HTMLModel",
          "state": {
            "_view_name": "HTMLView",
            "style": "IPY_MODEL_77297adfb9ed4cad85e71053223fe452",
            "_dom_classes": [],
            "description": "",
            "_model_name": "HTMLModel",
            "placeholder": "​",
            "_view_module": "@jupyter-widgets/controls",
            "_model_module_version": "1.5.0",
            "value": " 714M/714M [00:09&lt;00:00, 72.1MB/s]",
            "_view_count": null,
            "_view_module_version": "1.5.0",
            "description_tooltip": null,
            "_model_module": "@jupyter-widgets/controls",
            "layout": "IPY_MODEL_b3b5f94c453e43d39c6825a6082e1133"
          }
        },
        "eb61858a0ae345f09f64b3130af36297": {
          "model_module": "@jupyter-widgets/controls",
          "model_name": "ProgressStyleModel",
          "state": {
            "_view_name": "StyleView",
            "_model_name": "ProgressStyleModel",
            "description_width": "initial",
            "_view_module": "@jupyter-widgets/base",
            "_model_module_version": "1.5.0",
            "_view_count": null,
            "_view_module_version": "1.2.0",
            "bar_color": null,
            "_model_module": "@jupyter-widgets/controls"
          }
        },
        "dfab8f809f714e96af8dfbfe4b441a2d": {
          "model_module": "@jupyter-widgets/base",
          "model_name": "LayoutModel",
          "state": {
            "_view_name": "LayoutView",
            "grid_template_rows": null,
            "right": null,
            "justify_content": null,
            "_view_module": "@jupyter-widgets/base",
            "overflow": null,
            "_model_module_version": "1.2.0",
            "_view_count": null,
            "flex_flow": null,
            "width": null,
            "min_width": null,
            "border": null,
            "align_items": null,
            "bottom": null,
            "_model_module": "@jupyter-widgets/base",
            "top": null,
            "grid_column": null,
            "overflow_y": null,
            "overflow_x": null,
            "grid_auto_flow": null,
            "grid_area": null,
            "grid_template_columns": null,
            "flex": null,
            "_model_name": "LayoutModel",
            "justify_items": null,
            "grid_row": null,
            "max_height": null,
            "align_content": null,
            "visibility": null,
            "align_self": null,
            "height": null,
            "min_height": null,
            "padding": null,
            "grid_auto_rows": null,
            "grid_gap": null,
            "max_width": null,
            "order": null,
            "_view_module_version": "1.2.0",
            "grid_template_areas": null,
            "object_position": null,
            "object_fit": null,
            "grid_auto_columns": null,
            "margin": null,
            "display": null,
            "left": null
          }
        },
        "77297adfb9ed4cad85e71053223fe452": {
          "model_module": "@jupyter-widgets/controls",
          "model_name": "DescriptionStyleModel",
          "state": {
            "_view_name": "StyleView",
            "_model_name": "DescriptionStyleModel",
            "description_width": "",
            "_view_module": "@jupyter-widgets/base",
            "_model_module_version": "1.5.0",
            "_view_count": null,
            "_view_module_version": "1.2.0",
            "_model_module": "@jupyter-widgets/controls"
          }
        },
        "b3b5f94c453e43d39c6825a6082e1133": {
          "model_module": "@jupyter-widgets/base",
          "model_name": "LayoutModel",
          "state": {
            "_view_name": "LayoutView",
            "grid_template_rows": null,
            "right": null,
            "justify_content": null,
            "_view_module": "@jupyter-widgets/base",
            "overflow": null,
            "_model_module_version": "1.2.0",
            "_view_count": null,
            "flex_flow": null,
            "width": null,
            "min_width": null,
            "border": null,
            "align_items": null,
            "bottom": null,
            "_model_module": "@jupyter-widgets/base",
            "top": null,
            "grid_column": null,
            "overflow_y": null,
            "overflow_x": null,
            "grid_auto_flow": null,
            "grid_area": null,
            "grid_template_columns": null,
            "flex": null,
            "_model_name": "LayoutModel",
            "justify_items": null,
            "grid_row": null,
            "max_height": null,
            "align_content": null,
            "visibility": null,
            "align_self": null,
            "height": null,
            "min_height": null,
            "padding": null,
            "grid_auto_rows": null,
            "grid_gap": null,
            "max_width": null,
            "order": null,
            "_view_module_version": "1.2.0",
            "grid_template_areas": null,
            "object_position": null,
            "object_fit": null,
            "grid_auto_columns": null,
            "margin": null,
            "display": null,
            "left": null
          }
        },
        "50cc70636ea54dafaa2c3831b7350eb0": {
          "model_module": "@jupyter-widgets/controls",
          "model_name": "HBoxModel",
          "state": {
            "_view_name": "HBoxView",
            "_dom_classes": [],
            "_model_name": "HBoxModel",
            "_view_module": "@jupyter-widgets/controls",
            "_model_module_version": "1.5.0",
            "_view_count": null,
            "_view_module_version": "1.5.0",
            "box_style": "",
            "layout": "IPY_MODEL_830829b0f8314bde81462a2d0d3e0abf",
            "_model_module": "@jupyter-widgets/controls",
            "children": [
              "IPY_MODEL_12b4defd992b47648b4d3efc3a9032eb",
              "IPY_MODEL_4c50c8edf24b4b1697bbad673a65f895"
            ]
          }
        },
        "830829b0f8314bde81462a2d0d3e0abf": {
          "model_module": "@jupyter-widgets/base",
          "model_name": "LayoutModel",
          "state": {
            "_view_name": "LayoutView",
            "grid_template_rows": null,
            "right": null,
            "justify_content": null,
            "_view_module": "@jupyter-widgets/base",
            "overflow": null,
            "_model_module_version": "1.2.0",
            "_view_count": null,
            "flex_flow": null,
            "width": null,
            "min_width": null,
            "border": null,
            "align_items": null,
            "bottom": null,
            "_model_module": "@jupyter-widgets/base",
            "top": null,
            "grid_column": null,
            "overflow_y": null,
            "overflow_x": null,
            "grid_auto_flow": null,
            "grid_area": null,
            "grid_template_columns": null,
            "flex": null,
            "_model_name": "LayoutModel",
            "justify_items": null,
            "grid_row": null,
            "max_height": null,
            "align_content": null,
            "visibility": null,
            "align_self": null,
            "height": null,
            "min_height": null,
            "padding": null,
            "grid_auto_rows": null,
            "grid_gap": null,
            "max_width": null,
            "order": null,
            "_view_module_version": "1.2.0",
            "grid_template_areas": null,
            "object_position": null,
            "object_fit": null,
            "grid_auto_columns": null,
            "margin": null,
            "display": null,
            "left": null
          }
        },
        "12b4defd992b47648b4d3efc3a9032eb": {
          "model_module": "@jupyter-widgets/controls",
          "model_name": "FloatProgressModel",
          "state": {
            "_view_name": "ProgressView",
            "style": "IPY_MODEL_1e291550d5b5440dbf78a2aea6604a95",
            "_dom_classes": [],
            "description": "Downloading: 100%",
            "_model_name": "FloatProgressModel",
            "bar_style": "success",
            "max": 995526,
            "_view_module": "@jupyter-widgets/controls",
            "_model_module_version": "1.5.0",
            "value": 995526,
            "_view_count": null,
            "_view_module_version": "1.5.0",
            "orientation": "horizontal",
            "min": 0,
            "description_tooltip": null,
            "_model_module": "@jupyter-widgets/controls",
            "layout": "IPY_MODEL_60127105305d4c0db0585e0c6e449cb6"
          }
        },
        "4c50c8edf24b4b1697bbad673a65f895": {
          "model_module": "@jupyter-widgets/controls",
          "model_name": "HTMLModel",
          "state": {
            "_view_name": "HTMLView",
            "style": "IPY_MODEL_4a4b1ada02ed40d2b3144445d8da2364",
            "_dom_classes": [],
            "description": "",
            "_model_name": "HTMLModel",
            "placeholder": "​",
            "_view_module": "@jupyter-widgets/controls",
            "_model_module_version": "1.5.0",
            "value": " 996k/996k [00:01&lt;00:00, 822kB/s]",
            "_view_count": null,
            "_view_module_version": "1.5.0",
            "description_tooltip": null,
            "_model_module": "@jupyter-widgets/controls",
            "layout": "IPY_MODEL_999aa2eec5374324930384e21960c6f4"
          }
        },
        "1e291550d5b5440dbf78a2aea6604a95": {
          "model_module": "@jupyter-widgets/controls",
          "model_name": "ProgressStyleModel",
          "state": {
            "_view_name": "StyleView",
            "_model_name": "ProgressStyleModel",
            "description_width": "initial",
            "_view_module": "@jupyter-widgets/base",
            "_model_module_version": "1.5.0",
            "_view_count": null,
            "_view_module_version": "1.2.0",
            "bar_color": null,
            "_model_module": "@jupyter-widgets/controls"
          }
        },
        "60127105305d4c0db0585e0c6e449cb6": {
          "model_module": "@jupyter-widgets/base",
          "model_name": "LayoutModel",
          "state": {
            "_view_name": "LayoutView",
            "grid_template_rows": null,
            "right": null,
            "justify_content": null,
            "_view_module": "@jupyter-widgets/base",
            "overflow": null,
            "_model_module_version": "1.2.0",
            "_view_count": null,
            "flex_flow": null,
            "width": null,
            "min_width": null,
            "border": null,
            "align_items": null,
            "bottom": null,
            "_model_module": "@jupyter-widgets/base",
            "top": null,
            "grid_column": null,
            "overflow_y": null,
            "overflow_x": null,
            "grid_auto_flow": null,
            "grid_area": null,
            "grid_template_columns": null,
            "flex": null,
            "_model_name": "LayoutModel",
            "justify_items": null,
            "grid_row": null,
            "max_height": null,
            "align_content": null,
            "visibility": null,
            "align_self": null,
            "height": null,
            "min_height": null,
            "padding": null,
            "grid_auto_rows": null,
            "grid_gap": null,
            "max_width": null,
            "order": null,
            "_view_module_version": "1.2.0",
            "grid_template_areas": null,
            "object_position": null,
            "object_fit": null,
            "grid_auto_columns": null,
            "margin": null,
            "display": null,
            "left": null
          }
        },
        "4a4b1ada02ed40d2b3144445d8da2364": {
          "model_module": "@jupyter-widgets/controls",
          "model_name": "DescriptionStyleModel",
          "state": {
            "_view_name": "StyleView",
            "_model_name": "DescriptionStyleModel",
            "description_width": "",
            "_view_module": "@jupyter-widgets/base",
            "_model_module_version": "1.5.0",
            "_view_count": null,
            "_view_module_version": "1.2.0",
            "_model_module": "@jupyter-widgets/controls"
          }
        },
        "999aa2eec5374324930384e21960c6f4": {
          "model_module": "@jupyter-widgets/base",
          "model_name": "LayoutModel",
          "state": {
            "_view_name": "LayoutView",
            "grid_template_rows": null,
            "right": null,
            "justify_content": null,
            "_view_module": "@jupyter-widgets/base",
            "overflow": null,
            "_model_module_version": "1.2.0",
            "_view_count": null,
            "flex_flow": null,
            "width": null,
            "min_width": null,
            "border": null,
            "align_items": null,
            "bottom": null,
            "_model_module": "@jupyter-widgets/base",
            "top": null,
            "grid_column": null,
            "overflow_y": null,
            "overflow_x": null,
            "grid_auto_flow": null,
            "grid_area": null,
            "grid_template_columns": null,
            "flex": null,
            "_model_name": "LayoutModel",
            "justify_items": null,
            "grid_row": null,
            "max_height": null,
            "align_content": null,
            "visibility": null,
            "align_self": null,
            "height": null,
            "min_height": null,
            "padding": null,
            "grid_auto_rows": null,
            "grid_gap": null,
            "max_width": null,
            "order": null,
            "_view_module_version": "1.2.0",
            "grid_template_areas": null,
            "object_position": null,
            "object_fit": null,
            "grid_auto_columns": null,
            "margin": null,
            "display": null,
            "left": null
          }
        },
        "04dcea3c839c4807bc0b7806d2235aa1": {
          "model_module": "@jupyter-widgets/controls",
          "model_name": "HBoxModel",
          "state": {
            "_view_name": "HBoxView",
            "_dom_classes": [],
            "_model_name": "HBoxModel",
            "_view_module": "@jupyter-widgets/controls",
            "_model_module_version": "1.5.0",
            "_view_count": null,
            "_view_module_version": "1.5.0",
            "box_style": "",
            "layout": "IPY_MODEL_abbdcc188a7640d0b2c7e46658df1e1d",
            "_model_module": "@jupyter-widgets/controls",
            "children": [
              "IPY_MODEL_7da793c56546470cbacad9d84fe93258",
              "IPY_MODEL_a38386323c1642d986c6900de9f5ed19"
            ]
          }
        },
        "abbdcc188a7640d0b2c7e46658df1e1d": {
          "model_module": "@jupyter-widgets/base",
          "model_name": "LayoutModel",
          "state": {
            "_view_name": "LayoutView",
            "grid_template_rows": null,
            "right": null,
            "justify_content": null,
            "_view_module": "@jupyter-widgets/base",
            "overflow": null,
            "_model_module_version": "1.2.0",
            "_view_count": null,
            "flex_flow": null,
            "width": null,
            "min_width": null,
            "border": null,
            "align_items": null,
            "bottom": null,
            "_model_module": "@jupyter-widgets/base",
            "top": null,
            "grid_column": null,
            "overflow_y": null,
            "overflow_x": null,
            "grid_auto_flow": null,
            "grid_area": null,
            "grid_template_columns": null,
            "flex": null,
            "_model_name": "LayoutModel",
            "justify_items": null,
            "grid_row": null,
            "max_height": null,
            "align_content": null,
            "visibility": null,
            "align_self": null,
            "height": null,
            "min_height": null,
            "padding": null,
            "grid_auto_rows": null,
            "grid_gap": null,
            "max_width": null,
            "order": null,
            "_view_module_version": "1.2.0",
            "grid_template_areas": null,
            "object_position": null,
            "object_fit": null,
            "grid_auto_columns": null,
            "margin": null,
            "display": null,
            "left": null
          }
        },
        "7da793c56546470cbacad9d84fe93258": {
          "model_module": "@jupyter-widgets/controls",
          "model_name": "FloatProgressModel",
          "state": {
            "_view_name": "ProgressView",
            "style": "IPY_MODEL_1aafb71274094cf3bf7e2a6eb8d1b242",
            "_dom_classes": [],
            "description": "Downloading: 100%",
            "_model_name": "FloatProgressModel",
            "bar_style": "success",
            "max": 1083389348,
            "_view_module": "@jupyter-widgets/controls",
            "_model_module_version": "1.5.0",
            "value": 1083389348,
            "_view_count": null,
            "_view_module_version": "1.5.0",
            "orientation": "horizontal",
            "min": 0,
            "description_tooltip": null,
            "_model_module": "@jupyter-widgets/controls",
            "layout": "IPY_MODEL_7d12881d1adb4253906cefb82d70aee3"
          }
        },
        "a38386323c1642d986c6900de9f5ed19": {
          "model_module": "@jupyter-widgets/controls",
          "model_name": "HTMLModel",
          "state": {
            "_view_name": "HTMLView",
            "style": "IPY_MODEL_422f3b73fcb14180b734d8c72be4e431",
            "_dom_classes": [],
            "description": "",
            "_model_name": "HTMLModel",
            "placeholder": "​",
            "_view_module": "@jupyter-widgets/controls",
            "_model_module_version": "1.5.0",
            "value": " 1.08G/1.08G [00:54&lt;00:00, 19.8MB/s]",
            "_view_count": null,
            "_view_module_version": "1.5.0",
            "description_tooltip": null,
            "_model_module": "@jupyter-widgets/controls",
            "layout": "IPY_MODEL_43907ca2cb654a53aaea66435ce2f0f9"
          }
        },
        "1aafb71274094cf3bf7e2a6eb8d1b242": {
          "model_module": "@jupyter-widgets/controls",
          "model_name": "ProgressStyleModel",
          "state": {
            "_view_name": "StyleView",
            "_model_name": "ProgressStyleModel",
            "description_width": "initial",
            "_view_module": "@jupyter-widgets/base",
            "_model_module_version": "1.5.0",
            "_view_count": null,
            "_view_module_version": "1.2.0",
            "bar_color": null,
            "_model_module": "@jupyter-widgets/controls"
          }
        },
        "7d12881d1adb4253906cefb82d70aee3": {
          "model_module": "@jupyter-widgets/base",
          "model_name": "LayoutModel",
          "state": {
            "_view_name": "LayoutView",
            "grid_template_rows": null,
            "right": null,
            "justify_content": null,
            "_view_module": "@jupyter-widgets/base",
            "overflow": null,
            "_model_module_version": "1.2.0",
            "_view_count": null,
            "flex_flow": null,
            "width": null,
            "min_width": null,
            "border": null,
            "align_items": null,
            "bottom": null,
            "_model_module": "@jupyter-widgets/base",
            "top": null,
            "grid_column": null,
            "overflow_y": null,
            "overflow_x": null,
            "grid_auto_flow": null,
            "grid_area": null,
            "grid_template_columns": null,
            "flex": null,
            "_model_name": "LayoutModel",
            "justify_items": null,
            "grid_row": null,
            "max_height": null,
            "align_content": null,
            "visibility": null,
            "align_self": null,
            "height": null,
            "min_height": null,
            "padding": null,
            "grid_auto_rows": null,
            "grid_gap": null,
            "max_width": null,
            "order": null,
            "_view_module_version": "1.2.0",
            "grid_template_areas": null,
            "object_position": null,
            "object_fit": null,
            "grid_auto_columns": null,
            "margin": null,
            "display": null,
            "left": null
          }
        },
        "422f3b73fcb14180b734d8c72be4e431": {
          "model_module": "@jupyter-widgets/controls",
          "model_name": "DescriptionStyleModel",
          "state": {
            "_view_name": "StyleView",
            "_model_name": "DescriptionStyleModel",
            "description_width": "",
            "_view_module": "@jupyter-widgets/base",
            "_model_module_version": "1.5.0",
            "_view_count": null,
            "_view_module_version": "1.2.0",
            "_model_module": "@jupyter-widgets/controls"
          }
        },
        "43907ca2cb654a53aaea66435ce2f0f9": {
          "model_module": "@jupyter-widgets/base",
          "model_name": "LayoutModel",
          "state": {
            "_view_name": "LayoutView",
            "grid_template_rows": null,
            "right": null,
            "justify_content": null,
            "_view_module": "@jupyter-widgets/base",
            "overflow": null,
            "_model_module_version": "1.2.0",
            "_view_count": null,
            "flex_flow": null,
            "width": null,
            "min_width": null,
            "border": null,
            "align_items": null,
            "bottom": null,
            "_model_module": "@jupyter-widgets/base",
            "top": null,
            "grid_column": null,
            "overflow_y": null,
            "overflow_x": null,
            "grid_auto_flow": null,
            "grid_area": null,
            "grid_template_columns": null,
            "flex": null,
            "_model_name": "LayoutModel",
            "justify_items": null,
            "grid_row": null,
            "max_height": null,
            "align_content": null,
            "visibility": null,
            "align_self": null,
            "height": null,
            "min_height": null,
            "padding": null,
            "grid_auto_rows": null,
            "grid_gap": null,
            "max_width": null,
            "order": null,
            "_view_module_version": "1.2.0",
            "grid_template_areas": null,
            "object_position": null,
            "object_fit": null,
            "grid_auto_columns": null,
            "margin": null,
            "display": null,
            "left": null
          }
        }
      }
    }
  },
  "cells": [
    {
      "cell_type": "markdown",
      "metadata": {
        "id": "view-in-github",
        "colab_type": "text"
      },
      "source": [
        "<a href=\"https://colab.research.google.com/github/ELehmann91/Thesis_Multilingual_Transferlearning/blob/master/Results_Thesis.ipynb\" target=\"_parent\"><img src=\"https://colab.research.google.com/assets/colab-badge.svg\" alt=\"Open In Colab\"/></a>"
      ]
    },
    {
      "cell_type": "markdown",
      "metadata": {
        "id": "ru35-Xo1kmrW",
        "colab_type": "text"
      },
      "source": [
        "# Train script\n",
        "  \n",
        "using prewritten fuctions and standardized data"
      ]
    },
    {
      "cell_type": "code",
      "metadata": {
        "id": "b5sB703QrHaz",
        "colab_type": "code",
        "colab": {
          "base_uri": "https://localhost:8080/",
          "height": 122
        },
        "outputId": "e2ea6b4f-3b1c-4fe5-fdce-80ded649b211"
      },
      "source": [
        "import pandas as pd\n",
        "from google.colab import drive, files\n",
        "\n",
        "drive.mount('/content/gdrive')\n",
        "path ='/content/gdrive/My Drive/Thesis_ecb_ecoicop'"
      ],
      "execution_count": null,
      "outputs": [
        {
          "output_type": "stream",
          "text": [
            "Go to this URL in a browser: https://accounts.google.com/o/oauth2/auth?client_id=947318989803-6bn6qk8qdgf4n4g3pfee6491hc0brc4i.apps.googleusercontent.com&redirect_uri=urn%3aietf%3awg%3aoauth%3a2.0%3aoob&response_type=code&scope=email%20https%3a%2f%2fwww.googleapis.com%2fauth%2fdocs.test%20https%3a%2f%2fwww.googleapis.com%2fauth%2fdrive%20https%3a%2f%2fwww.googleapis.com%2fauth%2fdrive.photos.readonly%20https%3a%2f%2fwww.googleapis.com%2fauth%2fpeopleapi.readonly\n",
            "\n",
            "Enter your authorization code:\n",
            "··········\n",
            "Mounted at /content/gdrive\n"
          ],
          "name": "stdout"
        }
      ]
    },
    {
      "cell_type": "code",
      "metadata": {
        "id": "OaJUAJfPTnMR",
        "colab_type": "code",
        "colab": {}
      },
      "source": [
        "%%capture\n",
        "!pip install eli5\n",
        "!git clone 'https://github.com/ELehmann91/Thesis_Multilingual_Transferlearning'\n",
        "\n",
        "%cd Thesis_Multilingual_Transferlearning\n",
        "import labeler_cc5\n",
        "import coicop_model\n",
        "import model_helper\n",
        "import pandas as pd\n",
        "import numpy as np\n",
        "from tqdm import tqdm\n",
        "import io"
      ],
      "execution_count": null,
      "outputs": []
    },
    {
      "cell_type": "markdown",
      "metadata": {
        "id": "iupya9-dk4m0",
        "colab_type": "text"
      },
      "source": [
        "## Import Data\n",
        "  \n",
        "data in the normalized folder are splitted between languages (currently de fr & it) and share the same columns so they can be merged easily"
      ]
    },
    {
      "cell_type": "code",
      "metadata": {
        "id": "xvvxjN1mrrZW",
        "colab_type": "code",
        "colab": {
          "base_uri": "https://localhost:8080/",
          "height": 68
        },
        "outputId": "51f68a6f-676c-4928-8b2d-5da80f1c2c35"
      },
      "source": [
        "import pandas as pd\n",
        "import numpy as np\n",
        "\n",
        "data_path = '/data/'#\n",
        "#file_path = 'fra/carrfour_trans_pred.csv'\n",
        "file_path = 'normalized/norm_fr.csv'\n",
        "file_path2 = 'normalized/norm_de.csv'\n",
        "file_path3 = 'at/norm_at.csv'\n",
        "#file_path = 'edeka_pred.csv'\n",
        "\n",
        "# french data\n",
        "df_fr = pd.read_csv(path+data_path+file_path,sep='|',index_col=False)\n",
        "\n",
        "# only already labeled\n",
        "df_fr = df_fr[df_fr['cc5'].isna()==False]\n",
        "df_fr = df_fr[df_fr['shop'].isin( ['carrefour','auchan'])]#,'banque_de_france'])]\n",
        "df_fr['cc5'] = df_fr['cc5'].apply(lambda x: '9999_Non-Food' if int(str(x)[0])>2 else x)\n",
        "print(len(df_fr))\n",
        "\n",
        "# german data\n",
        "df_de = pd.read_csv(path+data_path+file_path2,sep='|',index_col=False)\n",
        "# only already labeled\n",
        "df_de = df_de[df_de['cc5'].isna()==False]\n",
        "print(len(df_de))\n",
        "# austrian data\n",
        "df_at = pd.read_csv(path+data_path+file_path3,sep='|',index_col=False)\n",
        "# only already labeled\n",
        "df_at = df_at[df_at['cc5'].isna()==False]\n",
        "df_de = df_de.append(df_at)\n",
        "print(len(df_de))"
      ],
      "execution_count": null,
      "outputs": [
        {
          "output_type": "stream",
          "text": [
            "7923\n",
            "21903\n",
            "23199\n"
          ],
          "name": "stdout"
        }
      ]
    },
    {
      "cell_type": "markdown",
      "metadata": {
        "id": "1ZH6sOjr2_no",
        "colab_type": "text"
      },
      "source": [
        "### Exclude non-food?"
      ]
    },
    {
      "cell_type": "code",
      "metadata": {
        "id": "g-40uLS9OAZw",
        "colab_type": "code",
        "colab": {
          "base_uri": "https://localhost:8080/",
          "height": 68
        },
        "outputId": "aa0c0cbd-1d8e-4192-81e7-aa3157614158"
      },
      "source": [
        "no_Classes = 75\n",
        "exclude_non_food = True\n",
        "if exclude_non_food:\n",
        "    df_fr = df_fr[df_fr['cc5']!='9999_Non-Food']\n",
        "    df_de = df_de[df_de['cc5']!='9999_Non-Food']\n",
        "    df_at = df_at[df_at['cc5']!='9999_Non-Food']\n",
        "    no_Classes = 74\n",
        "    print(len(df_fr))\n",
        "    print(len(df_de))\n",
        "    print(len(df_at))"
      ],
      "execution_count": null,
      "outputs": [
        {
          "output_type": "stream",
          "text": [
            "7225\n",
            "22064\n",
            "241\n"
          ],
          "name": "stdout"
        }
      ]
    },
    {
      "cell_type": "markdown",
      "metadata": {
        "id": "vswr191ClXi1",
        "colab_type": "text"
      },
      "source": [
        "decide which columns should be used for training"
      ]
    },
    {
      "cell_type": "code",
      "metadata": {
        "id": "n55A0HV-g95g",
        "colab_type": "code",
        "colab": {}
      },
      "source": [
        "var = 'name'\n",
        "#df_fr['text'] = df_fr[var].fillna('unknown') \n",
        "#df_de['text'] = df_de[var].fillna('unknown') \n",
        "#df_at['text'] = df_at[var].fillna('unknown') \n",
        "\n",
        "var1 = 'categ'\n",
        "var2 = 'words_from_url'\n",
        "#df_fr['text'] = df_fr[var1].fillna('unknown')  + ' <sep> ' + df_fr[var2].fillna('unknown') \n",
        "#df_de['text'] = df_de[var1].fillna('unknown')  + ' <sep> ' + df_de[var2].fillna('unknown') \n",
        "#df_at['text'] = df_at[var1].fillna('unknown')  + ' <sep> ' + df_at[var2].fillna('unknown') \n",
        "\n",
        "var1 = 'categ'\n",
        "var2 = 'words_from_url'\n",
        "var3 = 'name'\n",
        "df_fr['text'] = ' <fr> ' + df_fr[var1].fillna('unknown')  + ' <sep> ' + df_fr[var2].fillna('unknown')  + ' <sep> ' + df_fr[var3].fillna('unknown') \n",
        "df_de['text'] = ' <de> ' + df_de[var1].fillna('unknown')  + ' <sep> ' + df_de[var2].fillna('unknown')  + ' <sep> ' + df_de[var3].fillna('unknown') \n",
        "df_at['text'] = ' <de> ' + df_at[var1].fillna('unknown')  + ' <sep> ' + df_at[var2].fillna('unknown')  + ' <sep> ' + df_at[var3].fillna('unknown') \n",
        "\n",
        "#df_fr['text'] = ' <fr> ' + df_fr['name'] + ' <sep> ' + df_fr['categ'].fillna('unknown') + ' <sep> ' + df_fr['words_from_url'].fillna('unknown') + ' <sep> ' + df_fr['prod_desc'].fillna('unknown') \n",
        "#df_de['text'] = ' <de> ' + df_de['name'] + ' <sep> ' + df_de['categ'].fillna('unknown') + ' <sep> ' + df_de['words_from_url'].fillna('unknown') + ' <sep> ' + df_de['prod_desc'].fillna('unknown') \n",
        "#df_at['text'] = ' <de> ' + df_at['name'] + ' <sep> ' + df_at['categ'].fillna('unknown') + ' <sep> ' + df_at['words_from_url'].fillna('unknown') + ' <sep> ' + df_at['prod_desc'].fillna('unknown') \n"
      ],
      "execution_count": null,
      "outputs": []
    },
    {
      "cell_type": "code",
      "metadata": {
        "id": "ScESyOiJNwoQ",
        "colab_type": "code",
        "colab": {}
      },
      "source": [
        "import re\n",
        "rep_dict = {'.':' ',\n",
        "                        ',': ' ',\n",
        "                        '&': ' ',\n",
        "                        '-': ' ',\n",
        "                        '/': ' ',\n",
        "                        'ü': 'ue',\n",
        "                        'ä': 'ae',\n",
        "                        'ö': 'oe',\n",
        "                        'ß': 'ss',\n",
        "                        'ê': 'e',\n",
        "                        'é': 'e',\n",
        "                        'è': 'e',\n",
        "                        'â': 'a',\n",
        "                        'á': 'a',\n",
        "                        'à': 'a',\n",
        "                        'ô':'o',\n",
        "                        'œ': 'ae',\n",
        "                        '%': ' percent ',\n",
        "                        '1': ' one ',\n",
        "                        '2': ' two ',\n",
        "                        '3': ' three ',\n",
        "                        '4': ' four ',\n",
        "                        '5': ' five ',\n",
        "                        '6': ' six ',\n",
        "                        '7': ' seven ',\n",
        "                        '8': ' eigth ',\n",
        "                        '9': ' nine ',\n",
        "                        '0': ' zero ',\n",
        "                        ' l ':' liter ',\n",
        "                        ' ml ':' liter '\n",
        "                        }\n",
        "\n",
        "def prepro(line):\n",
        "    if isinstance(line,str):\n",
        "        text_str = ' '.join(str(t) for t in line.split())\n",
        "        text_str = text_str.lower()\n",
        "        for a,b in rep_dict.items():\n",
        "            text_str = text_str.replace(a,b)\n",
        "        text_str = re.sub('[^a-zäöüàáâéèêßœ<>]+', ' ', text_str)\n",
        "    else: \n",
        "        text_str = str(line)\n",
        "    return text_str"
      ],
      "execution_count": null,
      "outputs": []
    },
    {
      "cell_type": "code",
      "metadata": {
        "id": "1on_by8aNzmV",
        "colab_type": "code",
        "colab": {}
      },
      "source": [
        "df_fr['text'] = df_fr['text'].apply(lambda x:prepro(x))\n",
        "df_de['text'] = df_de['text'].apply(lambda x:prepro(x))\n",
        "df_at['text'] = df_at['text'].apply(lambda x:prepro(x))"
      ],
      "execution_count": null,
      "outputs": []
    },
    {
      "cell_type": "code",
      "metadata": {
        "id": "OUiw5fuU250I",
        "colab_type": "code",
        "colab": {
          "base_uri": "https://localhost:8080/",
          "height": 136
        },
        "outputId": "225fe0ab-3a4b-41a6-a9e2-6ac6f8397944"
      },
      "source": [
        "print('50% quantile no. of words per row french',np.quantile(df_fr['text'].apply(lambda x: len(str(x).split())),.50))\n",
        "print('50% quantile no. of words per row german',np.quantile(df_de['text'].apply(lambda x: len(str(x).split())),.50))\n",
        "print('50% quantile no. of words per row austrian',np.quantile(df_at['text'].apply(lambda x: len(str(x).split())),.50))\n",
        "\n",
        "print('95% quantile no. of words per row french',np.quantile(df_fr['text'].apply(lambda x: len(str(x).split())),.95))\n",
        "print('95% quantile no. of words per row german',np.quantile(df_de['text'].apply(lambda x: len(str(x).split())),.95))\n",
        "print('95% quantile no. of words per row austrian',np.quantile(df_at['text'].apply(lambda x: len(str(x).split())),.95))\n",
        "\n",
        "seq_len = int(max(np.quantile(df_fr['text'].apply(lambda x: len(str(x).split())),.95),np.quantile(df_de['text'].apply(lambda x: len(str(x).split())),.95)))\n",
        "print('seq_len',seq_len)"
      ],
      "execution_count": null,
      "outputs": [
        {
          "output_type": "stream",
          "text": [
            "50% quantile no. of words per row french 28.0\n",
            "50% quantile no. of words per row german 19.0\n",
            "50% quantile no. of words per row austrian 19.0\n",
            "95% quantile no. of words per row french 39.0\n",
            "95% quantile no. of words per row german 31.0\n",
            "95% quantile no. of words per row austrian 26.0\n",
            "seq_len 39\n"
          ],
          "name": "stdout"
        }
      ]
    },
    {
      "cell_type": "markdown",
      "metadata": {
        "id": "wPbed6wD3pXB",
        "colab_type": "text"
      },
      "source": [
        "### Split Train Test"
      ]
    },
    {
      "cell_type": "code",
      "metadata": {
        "id": "JvZmopEj259h",
        "colab_type": "code",
        "colab": {
          "base_uri": "https://localhost:8080/",
          "height": 51
        },
        "outputId": "fd48a5b6-e674-48a3-feba-6ae946280cd3"
      },
      "source": [
        "from sklearn.model_selection import train_test_split\n",
        "def split_train_abs(df):\n",
        "    X_train, X_val_test, y_train, y_val_test  = train_test_split(df['text'], df['cc5'], random_state=42, shuffle=True)\n",
        "    X_val, X_test, y_val, y_test = train_test_split(X_val_test , y_val_test, random_state=42)\n",
        "\n",
        "    return X_train, X_val, X_test, y_train, y_val, y_test\n",
        "\n",
        "X_train_de, X_val_de, X_test_de, y_train_de, y_val_de, y_test_de = split_train_abs(df_de)\n",
        "X_train_fr, X_val_fr, X_test_fr, y_train_fr, y_val_fr, y_test_fr = split_train_abs(df_fr)\n",
        "\n",
        "print('de',X_train_de.shape, X_val_de.shape, X_test_de.shape, y_train_de.shape, y_val_de.shape, y_test_de.shape )\n",
        "print('fr',X_train_fr.shape, X_val_fr.shape, X_test_fr.shape, y_train_fr.shape, y_val_fr.shape, y_test_fr.shape )"
      ],
      "execution_count": null,
      "outputs": [
        {
          "output_type": "stream",
          "text": [
            "de (16548,) (4137,) (1379,) (16548,) (4137,) (1379,)\n",
            "fr (5418,) (1355,) (452,) (5418,) (1355,) (452,)\n"
          ],
          "name": "stdout"
        }
      ]
    },
    {
      "cell_type": "code",
      "metadata": {
        "id": "g5t7nvAB6U7O",
        "colab_type": "code",
        "colab": {
          "base_uri": "https://localhost:8080/",
          "height": 34
        },
        "outputId": "a4092bff-f3cf-4b31-ec68-453d0b234b62"
      },
      "source": [
        "from tensorflow.keras.preprocessing.text import Tokenizer\n",
        "\n",
        "tokenizer_de = Tokenizer()\n",
        "tokenizer_de.fit_on_texts(X_train_de.append(X_val_de).append(X_test_de))\n",
        "vocab_size_de = len(tokenizer_de.word_index) + 1\n",
        "\n",
        "tokenizer_fr = Tokenizer()\n",
        "tokenizer_fr.fit_on_texts(X_train_fr.append(X_val_fr).append(X_test_fr))\n",
        "vocab_size_fr = len(tokenizer_fr.word_index) + 1\n",
        "\n",
        "tokenizer_de_fr = Tokenizer()\n",
        "tokenizer_de_fr.fit_on_texts(X_train_de.append(X_val_de).append(X_test_de).append(X_train_fr).append(X_val_fr).append(X_test_fr))\n",
        "\n",
        "vocab_size_de_fr = len(tokenizer_de_fr.word_index) + 1\n",
        "print(vocab_size_de,vocab_size_fr,vocab_size_de_fr)"
      ],
      "execution_count": null,
      "outputs": [
        {
          "output_type": "stream",
          "text": [
            "12969 3996 15624\n"
          ],
          "name": "stdout"
        }
      ]
    },
    {
      "cell_type": "markdown",
      "metadata": {
        "id": "kBPdY7e98jRw",
        "colab_type": "text"
      },
      "source": [
        "tokenize & pad"
      ]
    },
    {
      "cell_type": "code",
      "metadata": {
        "id": "NYz66JnJ5dNS",
        "colab_type": "code",
        "colab": {}
      },
      "source": [
        "from tensorflow.keras.preprocessing.sequence import pad_sequences\n",
        "#german\n",
        "X_train_tokens_de = tokenizer_de.texts_to_sequences(X_train_de)\n",
        "X_val_tokens_de = tokenizer_de.texts_to_sequences(X_val_de)\n",
        "X_test_tokens_de = tokenizer_de.texts_to_sequences(X_test_de)\n",
        "\n",
        "X_train_pad_de = pad_sequences(X_train_tokens_de,maxlen=seq_len, padding='post')\n",
        "X_val_pad_de = pad_sequences(X_val_tokens_de,maxlen=seq_len, padding='post')\n",
        "X_test_pad_de = pad_sequences(X_test_tokens_de,maxlen=seq_len, padding='post')\n",
        "\n",
        "#french\n",
        "X_train_tokens_fr = tokenizer_fr.texts_to_sequences(X_train_fr)\n",
        "X_val_tokens_fr = tokenizer_fr.texts_to_sequences(X_val_fr)\n",
        "X_test_tokens_fr = tokenizer_fr.texts_to_sequences(X_test_fr)\n",
        "\n",
        "X_train_pad_fr = pad_sequences(X_train_tokens_fr,maxlen=seq_len, padding='post')\n",
        "X_val_pad_fr = pad_sequences(X_val_tokens_fr,maxlen=seq_len, padding='post')\n",
        "X_test_pad_fr = pad_sequences(X_test_tokens_fr,maxlen=seq_len, padding='post')"
      ],
      "execution_count": null,
      "outputs": []
    },
    {
      "cell_type": "code",
      "metadata": {
        "id": "X22q8A2r8rmn",
        "colab_type": "code",
        "colab": {
          "base_uri": "https://localhost:8080/",
          "height": 187
        },
        "outputId": "d3a1e3a2-85db-4a83-bc6b-4891d868880b"
      },
      "source": [
        "import pickle\n",
        "french = True\n",
        "german = True\n",
        "\n",
        "embedding_dim = 300\n",
        "\n",
        "if french:\n",
        "    fr_git_embed = pickle.load( open(path + '/embeddings/fr_slim_embed_ext_voc_share.p', \"rb\" ) ) #fr_slim_embed_ext #fr_muse_align #fr_muse\n",
        "    #fr_model = KeyedVectors.load_word2vec_format('/content/gdrive/My Drive/Thesis_ecb_ecoicop/embeddings/wiki.fr.vec')\n",
        "if german:\n",
        "    de_git_embed = pickle.load( open(path + '/embeddings/de_slim_embed_ext_voc_share.p', \"rb\" ) ) #de_muse\n",
        "    #de_model = KeyedVectors.load_word2vec_format('/content/gdrive/My Drive/Thesis_ecb_ecoicop/embeddings/wiki.de.vec')\n",
        "\n",
        "v = np.zeros(300)\n",
        "v[0]=1\n",
        "fr_git_embed['<sep>'] = v\n",
        "de_git_embed['<sep>'] = v\n",
        "v[0]=0\n",
        "v[1]=1\n",
        "fr_git_embed['<fr>'] = v\n",
        "v[1]=-1\n",
        "de_git_embed['<de>'] = v\n",
        "\n",
        "print('de_git_embed',len(de_git_embed.keys()))\n",
        "print('fr_git_embed',len(fr_git_embed.keys()))\n",
        "\n",
        "X_train_emb_de = np.array(list(model_helper.text_to_embed(X_train_de, ['de' for a in X_train_de], de_git_embed, fr_git_embed, seq_len=seq_len)))\n",
        "X_val_emb_de = np.array(list(model_helper.text_to_embed(X_val_de, ['de' for a in X_val_de], de_git_embed, fr_git_embed, seq_len=seq_len)))\n",
        "X_test_emb_de = np.array(list(model_helper.text_to_embed(X_test_de, ['de' for a in X_test_de], de_git_embed, fr_git_embed, seq_len=seq_len)))\n",
        "\n",
        "X_train_emb_fr = np.array(list(model_helper.text_to_embed(X_train_fr, ['fr' for a in X_train_fr], de_git_embed, fr_git_embed, seq_len=seq_len)))\n",
        "X_val_emb_fr = np.array(list(model_helper.text_to_embed(X_val_fr, ['fr' for a in X_val_fr], de_git_embed, fr_git_embed, seq_len=seq_len)))\n",
        "X_test_emb_fr = np.array(list(model_helper.text_to_embed(X_test_fr, ['fr' for a in X_test_fr], de_git_embed, fr_git_embed, seq_len=seq_len)))\n",
        "\n",
        "print('de',X_train_emb_de.shape, X_val_emb_de.shape, X_test_emb_de.shape)\n",
        "print('fr',X_train_emb_fr.shape, X_val_emb_fr.shape, X_test_emb_fr.shape)"
      ],
      "execution_count": null,
      "outputs": [
        {
          "output_type": "stream",
          "text": [
            "778it [00:00, 7776.48it/s]"
          ],
          "name": "stderr"
        },
        {
          "output_type": "stream",
          "text": [
            "de_git_embed 66952\n",
            "fr_git_embed 47407\n"
          ],
          "name": "stdout"
        },
        {
          "output_type": "stream",
          "text": [
            "16548it [00:02, 5828.35it/s]\n",
            "4137it [00:00, 7826.11it/s]\n",
            "1379it [00:00, 7995.36it/s]\n",
            "5418it [00:00, 8133.08it/s]\n",
            "1355it [00:00, 8184.82it/s]\n",
            "452it [00:00, 8562.67it/s]"
          ],
          "name": "stderr"
        },
        {
          "output_type": "stream",
          "text": [
            "de (16548, 39, 300) (4137, 39, 300) (1379, 39, 300)\n",
            "fr (5418, 39, 300) (1355, 39, 300) (452, 39, 300)\n"
          ],
          "name": "stdout"
        },
        {
          "output_type": "stream",
          "text": [
            "\n"
          ],
          "name": "stderr"
        }
      ]
    },
    {
      "cell_type": "code",
      "metadata": {
        "id": "JjZke3ew9XYX",
        "colab_type": "code",
        "colab": {
          "base_uri": "https://localhost:8080/",
          "height": 51
        },
        "outputId": "b32461b2-842f-4339-b759-6e5f31e4cd9a"
      },
      "source": [
        "from sklearn.preprocessing import LabelEncoder\n",
        "import tensorflow as tf\n",
        "\n",
        "encoder = LabelEncoder()\n",
        "encoder.fit(df_de['cc5'])\n",
        "\n",
        "def encode_label(y_):\n",
        "    y__ = encoder.transform(y_)\n",
        "    y_enc =tf.keras.utils.to_categorical(y__, num_classes=no_Classes, dtype=\"float32\")\n",
        "    return y_enc\n",
        "\n",
        "y_train_enc_de = encode_label(y_train_de)\n",
        "y_val_enc_de = encode_label(y_val_de)\n",
        "y_test_enc_de = encode_label(y_test_de)\n",
        "\n",
        "y_train_enc_fr = encode_label(y_train_fr)\n",
        "y_val_enc_fr = encode_label(y_val_fr)\n",
        "y_test_enc_fr = encode_label(y_test_fr)\n",
        "\n",
        "print(y_train_enc_de.shape,y_val_enc_de.shape,y_test_enc_de.shape)\n",
        "print(y_train_enc_fr.shape,y_val_enc_fr.shape,y_test_enc_fr.shape)"
      ],
      "execution_count": null,
      "outputs": [
        {
          "output_type": "stream",
          "text": [
            "(16548, 74) (4137, 74) (1379, 74)\n",
            "(5418, 74) (1355, 74) (452, 74)\n"
          ],
          "name": "stdout"
        }
      ]
    },
    {
      "cell_type": "code",
      "metadata": {
        "id": "ZOG6Bc_RVe10",
        "colab_type": "code",
        "colab": {}
      },
      "source": [
        "def get_weigth_dict(y_train):\n",
        "    weights_dict = dict(zip(y_train.value_counts().index.tolist(),list(len(y_train) / ( len(y_train.unique())  * y_train.value_counts()))))\n",
        "\n",
        "    class_weight_dict = {}\n",
        "    for n,lab in enumerate(encoder.classes_):\n",
        "        try:\n",
        "            class_weight_dict[n] = weights_dict[lab]\n",
        "        except:\n",
        "            class_weight_dict[n] = 1\n",
        "    return class_weight_dict\n",
        "\n",
        "class_weight_dict_de = get_weigth_dict(y_train_de)\n",
        "class_weight_dict_fr = get_weigth_dict(y_train_fr)\n",
        "class_weight_dict_de_fr = get_weigth_dict(y_train_de.append(y_train_fr))"
      ],
      "execution_count": null,
      "outputs": []
    },
    {
      "cell_type": "code",
      "metadata": {
        "id": "so7nxPzl5dKd",
        "colab_type": "code",
        "colab": {}
      },
      "source": [
        "def get_embed_matrix(embed,tokenizer,vocab_size,embedding_dim):\n",
        "    embedding_matrix = np.zeros((vocab_size, embedding_dim))\n",
        "    for word,i in tokenizer.word_index.items():\n",
        "        try:\n",
        "            embedding_matrix[i] = embed[word]\n",
        "        except KeyError:\n",
        "            #next\n",
        "            embedding_matrix[i] = np.random.rand(embedding_dim)\n",
        "    return embedding_matrix\n",
        "\n",
        "embedding_matrix_de = get_embed_matrix(de_git_embed,tokenizer_de,vocab_size_de,embedding_dim)\n",
        "embedding_matrix_fr = get_embed_matrix(fr_git_embed,tokenizer_fr,vocab_size_fr,embedding_dim)\n",
        "\n",
        "combine_embed = de_git_embed\n",
        "combine_embed.update(fr_git_embed)\n",
        "embedding_matrix_de_fr = get_embed_matrix(combine_embed,tokenizer_de_fr,vocab_size_de_fr,embedding_dim)\n"
      ],
      "execution_count": null,
      "outputs": []
    },
    {
      "cell_type": "markdown",
      "metadata": {
        "id": "09DZu4q4nouv",
        "colab_type": "text"
      },
      "source": [
        "# Single Language Classifier German"
      ]
    },
    {
      "cell_type": "code",
      "metadata": {
        "id": "upNTfEpdntqV",
        "colab_type": "code",
        "colab": {}
      },
      "source": [
        "from sklearn.model_selection import train_test_split\n",
        "from sklearn.feature_extraction.text import CountVectorizer, TfidfTransformer, TfidfVectorizer\n",
        "from sklearn.metrics import accuracy_score, confusion_matrix, classification_report, balanced_accuracy_score\n",
        "from sklearn.linear_model import LogisticRegression"
      ],
      "execution_count": null,
      "outputs": []
    },
    {
      "cell_type": "code",
      "metadata": {
        "id": "E2q91oJWnttV",
        "colab_type": "code",
        "colab": {}
      },
      "source": [
        "def tf_idf_log_reg(X_train,y_train,X_test,y_test,no,weights_dict):\n",
        "    X_train = [str(x).replace('<','').replace('>','') for x in X_train[:no]]\n",
        "    y_train = y_train[:no]\n",
        "    X_test = [str(x).replace('<','').replace('>','') for x in X_test]\n",
        "    vectorizer  = TfidfVectorizer()\n",
        "    vectorizer.fit(X_train)\n",
        "    X_train_vec = vectorizer.transform(X_train)\n",
        "    X_test_vec  = vectorizer.transform(X_test)\n",
        "\n",
        "    logreg = LogisticRegression(C=1,max_iter=500, solver='newton-cg')#,class_weight=weights_dict)\n",
        "    logreg.fit(X_train_vec, y_train)\n",
        "\n",
        "    y_pred_train = logreg.predict(X_train_vec)\n",
        "    y_pred_test = logreg.predict(X_test_vec)\n",
        "\n",
        "    print('train obs.',no,'accuracy %s' % accuracy_score(y_pred_train, y_train))\n",
        "    print('train obs.',no,'b_accuracy %s' % balanced_accuracy_score(y_pred_train, y_train))\n",
        "    print('test obs.',no,'accuracy %s' % accuracy_score(y_pred_test, y_test))\n",
        "    print('test obs.',no,'b_accuracy %s' % balanced_accuracy_score(y_pred_test, y_test))\n",
        "    print()"
      ],
      "execution_count": null,
      "outputs": []
    },
    {
      "cell_type": "markdown",
      "metadata": {
        "id": "NNNe84VIOxHo",
        "colab_type": "text"
      },
      "source": [
        "##LogReg"
      ]
    },
    {
      "cell_type": "code",
      "metadata": {
        "id": "gsi7UOpeiGDL",
        "colab_type": "code",
        "colab": {
          "base_uri": "https://localhost:8080/",
          "height": 102
        },
        "outputId": "928ea861-8e28-4b51-edb3-66e6a843d296"
      },
      "source": [
        "tf_idf_log_reg(X_train_de,y_train_de,X_test_de,y_test_de,7500,class_weight_dict_de)"
      ],
      "execution_count": null,
      "outputs": [
        {
          "output_type": "stream",
          "text": [
            "train obs. 7500 accuracy 0.9456\n",
            "train obs. 7500 b_accuracy 0.9546481414559191\n",
            "test obs. 7500 accuracy 0.9202320522117476\n",
            "test obs. 7500 b_accuracy 0.9259442013681677\n",
            "\n"
          ],
          "name": "stdout"
        }
      ]
    },
    {
      "cell_type": "code",
      "metadata": {
        "id": "1IVDbZDzn4zv",
        "colab_type": "code",
        "colab": {
          "base_uri": "https://localhost:8080/",
          "height": 612
        },
        "outputId": "68580ea1-4a60-451a-f9b8-446cbd15845d"
      },
      "source": [
        "stra = False\n",
        "for obs in [250,500,1000,2000,5000,10000,15000]:\n",
        "    tf_idf_log_reg(X_train_de,y_train_de,X_test_de,y_test_de,obs,class_weight_dict_de)"
      ],
      "execution_count": null,
      "outputs": [
        {
          "output_type": "stream",
          "text": [
            "train obs. 250 accuracy 0.76\n",
            "train obs. 250 b_accuracy 0.9159412614675772\n",
            "test obs. 250 accuracy 0.4517766497461929\n",
            "test obs. 250 b_accuracy 0.745612749957794\n",
            "\n",
            "train obs. 500 accuracy 0.83\n",
            "train obs. 500 b_accuracy 0.9310036284467328\n",
            "test obs. 500 accuracy 0.6200145032632343\n",
            "test obs. 500 b_accuracy 0.8089549394473894\n",
            "\n",
            "train obs. 1000 accuracy 0.877\n",
            "train obs. 1000 b_accuracy 0.9266222096850557\n",
            "test obs. 1000 accuracy 0.7781000725163162\n",
            "test obs. 1000 b_accuracy 0.8242261230614653\n",
            "\n",
            "train obs. 2000 accuracy 0.903\n",
            "train obs. 2000 b_accuracy 0.9342202662072603\n",
            "test obs. 2000 accuracy 0.8462654097171863\n",
            "test obs. 2000 b_accuracy 0.8539742445884755\n",
            "\n",
            "train obs. 5000 accuracy 0.9376\n",
            "train obs. 5000 b_accuracy 0.950819442269889\n",
            "test obs. 5000 accuracy 0.9050036258158085\n",
            "test obs. 5000 b_accuracy 0.9104573312399569\n",
            "\n",
            "train obs. 10000 accuracy 0.9493\n",
            "train obs. 10000 b_accuracy 0.9530582434314318\n",
            "test obs. 10000 accuracy 0.9303843364757071\n",
            "test obs. 10000 b_accuracy 0.9299091047764143\n",
            "\n",
            "train obs. 15000 accuracy 0.9589333333333333\n",
            "train obs. 15000 b_accuracy 0.9586911290706933\n",
            "test obs. 15000 accuracy 0.943437273386512\n",
            "test obs. 15000 b_accuracy 0.9452056288100791\n",
            "\n"
          ],
          "name": "stdout"
        }
      ]
    },
    {
      "cell_type": "markdown",
      "metadata": {
        "id": "y7FiZZp6OvSB",
        "colab_type": "text"
      },
      "source": [
        "## NN"
      ]
    },
    {
      "cell_type": "code",
      "metadata": {
        "id": "JP1eMhccQBtE",
        "colab_type": "code",
        "colab": {}
      },
      "source": [
        "from tensorflow.keras.models import Model\n",
        "from tensorflow.keras.layers import Input, Dropout, Dense, Embedding, GlobalAveragePooling1D, GlobalMaxPooling1D,Concatenate,Embedding,BatchNormalization,Masking,Bidirectional,LSTM,Conv1D\n",
        "from tensorflow.keras.optimizers import Adam\n",
        "from tensorflow.keras.callbacks import EarlyStopping, ModelCheckpoint\n",
        "from tensorflow.keras.regularizers import l1_l2\n",
        "from keras.utils import np_utils\n",
        "from gensim.models import KeyedVectors\n",
        "import pickle\n",
        "import numpy as np"
      ],
      "execution_count": null,
      "outputs": []
    },
    {
      "cell_type": "code",
      "metadata": {
        "id": "T7KbLKMg634_",
        "colab_type": "code",
        "colab": {}
      },
      "source": [
        " def run_CNN(X_train_pad,y_train_enc,X_val_pad,y_val_enc,X_test_pad,y_test,vocab_size,embedding_matrix,class_weight_dict,no):\n",
        "    \n",
        "    dropout_rate=.5\n",
        "    lr = .005\n",
        "    opt = Adam(lr=lr, decay=lr/75)\n",
        "\n",
        "    input_layer = Input(shape = (seq_len,), dtype = 'float')\n",
        "    embedd_seq = Embedding(vocab_size, embedding_dim, weights = [embedding_matrix], input_length = seq_len, trainable = True, mask_zero=False)(input_layer)\n",
        "    conv_layer = Conv1D(filters=100,   kernel_size= 5,   padding='valid',  activation='relu', strides=1)(embedd_seq)\n",
        "    pool_layer = GlobalMaxPooling1D()(conv_layer)\n",
        "    #pool_layer = GlobalAveragePooling1D()(embedd_seq)\n",
        "    drop_layer = Dropout(dropout_rate)(pool_layer)\n",
        "    pred_layer = Dense(y_train_enc.shape[1], activation = 'softmax')(drop_layer) #, kernel_regularizer=l1_l2(0.001)\n",
        "\n",
        "    avg_pool_mod = Model(inputs = [input_layer], outputs = pred_layer)\n",
        "    avg_pool_mod.compile(optimizer = opt, loss = 'categorical_crossentropy', metrics = ['accuracy'])\n",
        "    early_stopping = EarlyStopping(patience = 5)\n",
        "\n",
        "    hist = avg_pool_mod.fit(x = X_train_pad[:no], y = y_train_enc[:no],\\\n",
        "                    validation_data = (X_val_pad, y_val_enc), \\\n",
        "                    epochs = 50, batch_size = 256, shuffle = True, class_weight = class_weight_dict, \\\n",
        "                    callbacks = [early_stopping])\n",
        "    \n",
        "    from sklearn.metrics import accuracy_score, confusion_matrix, classification_report\n",
        "    y_pred_test = avg_pool_mod.predict(X_test_pad)\n",
        "    y_pred_arg = y_pred_test.argmax(axis=1)\n",
        "    y_pred_test= [encoder.classes_[y] for y in y_pred_arg]\n",
        "\n",
        "    print('test obs.',no,'accuracy %s' % accuracy_score(y_pred_test, y_test))\n",
        "    print('test obs.',no,'b_accuracy %s' % balanced_accuracy_score(y_pred_test, y_test))\n"
      ],
      "execution_count": null,
      "outputs": []
    },
    {
      "cell_type": "code",
      "metadata": {
        "id": "LHsjtwzX64cp",
        "colab_type": "code",
        "colab": {}
      },
      "source": [
        "def run_RNN(X_train_pad,y_train_enc,X_val_pad,y_val_enc,X_test_pad,y_test,vocab_size,embedding_matrix,class_weight_dict,no):\n",
        "    dropout_rate=.5\n",
        "    lr = .005\n",
        "    opt = Adam(lr=lr, decay=lr/100)\n",
        "\n",
        "    input_layer = Input(shape = (seq_len,), dtype = 'int32')\n",
        "    embedd_seq = Embedding(vocab_size, embedding_dim, weights = [embedding_matrix], input_length = seq_len, trainable = True)(input_layer)\n",
        "    lstm_layer = Bidirectional(LSTM(128,activation = 'tanh',recurrent_activation = 'sigmoid', dropout = dropout_rate,recurrent_dropout = 0, unroll = False,use_bias = True))(embedd_seq)\n",
        "    drop_layer = Dropout(dropout_rate)(lstm_layer)\n",
        "    pred_layer = Dense(y_train_enc.shape[1], activation = 'softmax')(drop_layer) #, kernel_regularizer=l1_l2(0.001)\n",
        "\n",
        "    avg_pool_mod = Model(inputs = [input_layer], outputs = pred_layer)\n",
        "    avg_pool_mod.compile(optimizer = opt, loss = 'categorical_crossentropy', metrics = ['accuracy'])\n",
        "    early_stopping = EarlyStopping(patience = 5)\n",
        "\n",
        "    hist = avg_pool_mod.fit(x = X_train_pad[:no], y = y_train_enc[:no],\\\n",
        "                    validation_data = (X_val_pad, y_val_enc), \\\n",
        "                    epochs = 50, batch_size = 256, shuffle = True, class_weight = class_weight_dict, \\\n",
        "                    callbacks = [early_stopping])\n",
        "    \n",
        "    from sklearn.metrics import accuracy_score, confusion_matrix, classification_report\n",
        "    y_pred_test = avg_pool_mod.predict(X_test_pad)\n",
        "    y_pred_arg = y_pred_test.argmax(axis=1)\n",
        "    y_pred_test= [encoder.classes_[y] for y in y_pred_arg]\n",
        "\n",
        "    print('test obs.',no,'accuracy %s' % accuracy_score(y_pred_test, y_test))\n",
        "    print('test obs.',no,'b_accuracy %s' % balanced_accuracy_score(y_pred_test, y_test))\n",
        "    print()"
      ],
      "execution_count": null,
      "outputs": []
    },
    {
      "cell_type": "markdown",
      "metadata": {
        "id": "V1E-j4fIQJTa",
        "colab_type": "text"
      },
      "source": [
        "##CNN"
      ]
    },
    {
      "cell_type": "code",
      "metadata": {
        "id": "c3tEI_3HQNSJ",
        "colab_type": "code",
        "colab": {
          "base_uri": "https://localhost:8080/",
          "height": 1000
        },
        "outputId": "738dd03a-8092-417a-b49b-56310af40a69"
      },
      "source": [
        "for obs in [500,1000,2000,5000,10000,15000]:\n",
        "     run_CNN(X_train_pad_de,y_train_enc_de,X_val_pad_de,y_val_enc_de,X_test_pad_de,y_test_de,vocab_size_de,embedding_matrix_de,class_weight_dict_de,obs)\n"
      ],
      "execution_count": null,
      "outputs": [
        {
          "output_type": "stream",
          "text": [
            "Epoch 1/50\n",
            "2/2 [==============================] - 0s 226ms/step - loss: 4.7403 - accuracy: 0.0200 - val_loss: 4.2832 - val_accuracy: 0.0268\n",
            "Epoch 2/50\n",
            "2/2 [==============================] - 0s 65ms/step - loss: 4.5283 - accuracy: 0.0220 - val_loss: 4.3017 - val_accuracy: 4.8344e-04\n",
            "Epoch 3/50\n",
            "2/2 [==============================] - 0s 64ms/step - loss: 4.2381 - accuracy: 0.0260 - val_loss: 4.2790 - val_accuracy: 0.0073\n",
            "Epoch 4/50\n",
            "2/2 [==============================] - 0s 62ms/step - loss: 3.8283 - accuracy: 0.0420 - val_loss: 4.1660 - val_accuracy: 0.0201\n",
            "Epoch 5/50\n",
            "2/2 [==============================] - 0s 62ms/step - loss: 3.6708 - accuracy: 0.0720 - val_loss: 4.0772 - val_accuracy: 0.0181\n",
            "Epoch 6/50\n",
            "2/2 [==============================] - 0s 65ms/step - loss: 3.5575 - accuracy: 0.1100 - val_loss: 3.9934 - val_accuracy: 0.0578\n",
            "Epoch 7/50\n",
            "2/2 [==============================] - 0s 65ms/step - loss: 3.3297 - accuracy: 0.1160 - val_loss: 3.8868 - val_accuracy: 0.1020\n",
            "Epoch 8/50\n",
            "2/2 [==============================] - 0s 62ms/step - loss: 2.9778 - accuracy: 0.2080 - val_loss: 3.7294 - val_accuracy: 0.1641\n",
            "Epoch 9/50\n",
            "2/2 [==============================] - 0s 64ms/step - loss: 2.7179 - accuracy: 0.2760 - val_loss: 3.5724 - val_accuracy: 0.2045\n",
            "Epoch 10/50\n",
            "2/2 [==============================] - 0s 68ms/step - loss: 2.5121 - accuracy: 0.3540 - val_loss: 3.3940 - val_accuracy: 0.2768\n",
            "Epoch 11/50\n",
            "2/2 [==============================] - 0s 65ms/step - loss: 2.2539 - accuracy: 0.4480 - val_loss: 3.2120 - val_accuracy: 0.3389\n",
            "Epoch 12/50\n",
            "2/2 [==============================] - 0s 64ms/step - loss: 1.9666 - accuracy: 0.4680 - val_loss: 3.0184 - val_accuracy: 0.3959\n",
            "Epoch 13/50\n",
            "2/2 [==============================] - 0s 65ms/step - loss: 1.7569 - accuracy: 0.5580 - val_loss: 2.8024 - val_accuracy: 0.4453\n",
            "Epoch 14/50\n",
            "2/2 [==============================] - 0s 64ms/step - loss: 1.5247 - accuracy: 0.6200 - val_loss: 2.5992 - val_accuracy: 0.4919\n",
            "Epoch 15/50\n",
            "2/2 [==============================] - 0s 63ms/step - loss: 1.2765 - accuracy: 0.6820 - val_loss: 2.4010 - val_accuracy: 0.5395\n",
            "Epoch 16/50\n",
            "2/2 [==============================] - 0s 62ms/step - loss: 1.1038 - accuracy: 0.7120 - val_loss: 2.2479 - val_accuracy: 0.5695\n",
            "Epoch 17/50\n",
            "2/2 [==============================] - 0s 65ms/step - loss: 1.0253 - accuracy: 0.7720 - val_loss: 2.1247 - val_accuracy: 0.5917\n",
            "Epoch 18/50\n",
            "2/2 [==============================] - 0s 65ms/step - loss: 0.7699 - accuracy: 0.8380 - val_loss: 2.0066 - val_accuracy: 0.6106\n",
            "Epoch 19/50\n",
            "2/2 [==============================] - 0s 67ms/step - loss: 0.7485 - accuracy: 0.8340 - val_loss: 1.8886 - val_accuracy: 0.6536\n",
            "Epoch 20/50\n",
            "2/2 [==============================] - 0s 63ms/step - loss: 0.5959 - accuracy: 0.8560 - val_loss: 1.7936 - val_accuracy: 0.6633\n",
            "Epoch 21/50\n",
            "2/2 [==============================] - 0s 63ms/step - loss: 0.5154 - accuracy: 0.8780 - val_loss: 1.7231 - val_accuracy: 0.6763\n",
            "Epoch 22/50\n",
            "2/2 [==============================] - 0s 66ms/step - loss: 0.4181 - accuracy: 0.8840 - val_loss: 1.6629 - val_accuracy: 0.6995\n",
            "Epoch 23/50\n",
            "2/2 [==============================] - 0s 64ms/step - loss: 0.3823 - accuracy: 0.9200 - val_loss: 1.6103 - val_accuracy: 0.7124\n",
            "Epoch 24/50\n",
            "2/2 [==============================] - 0s 65ms/step - loss: 0.2988 - accuracy: 0.9180 - val_loss: 1.5687 - val_accuracy: 0.7312\n",
            "Epoch 25/50\n",
            "2/2 [==============================] - 0s 64ms/step - loss: 0.2688 - accuracy: 0.9440 - val_loss: 1.5358 - val_accuracy: 0.7399\n",
            "Epoch 26/50\n",
            "2/2 [==============================] - 0s 68ms/step - loss: 0.2526 - accuracy: 0.9640 - val_loss: 1.5152 - val_accuracy: 0.7375\n",
            "Epoch 27/50\n",
            "2/2 [==============================] - 0s 64ms/step - loss: 0.2192 - accuracy: 0.9680 - val_loss: 1.5048 - val_accuracy: 0.7382\n",
            "Epoch 28/50\n",
            "2/2 [==============================] - 0s 69ms/step - loss: 0.1656 - accuracy: 0.9740 - val_loss: 1.4936 - val_accuracy: 0.7387\n",
            "Epoch 29/50\n",
            "2/2 [==============================] - 0s 67ms/step - loss: 0.1829 - accuracy: 0.9680 - val_loss: 1.4841 - val_accuracy: 0.7464\n",
            "Epoch 30/50\n",
            "2/2 [==============================] - 0s 64ms/step - loss: 0.2150 - accuracy: 0.9680 - val_loss: 1.4808 - val_accuracy: 0.7510\n",
            "Epoch 31/50\n",
            "2/2 [==============================] - 0s 64ms/step - loss: 0.1328 - accuracy: 0.9700 - val_loss: 1.4784 - val_accuracy: 0.7534\n",
            "Epoch 32/50\n",
            "2/2 [==============================] - 0s 68ms/step - loss: 0.1109 - accuracy: 0.9780 - val_loss: 1.4785 - val_accuracy: 0.7493\n",
            "Epoch 33/50\n",
            "2/2 [==============================] - 0s 66ms/step - loss: 0.1469 - accuracy: 0.9660 - val_loss: 1.4816 - val_accuracy: 0.7455\n",
            "Epoch 34/50\n",
            "2/2 [==============================] - 0s 63ms/step - loss: 0.1031 - accuracy: 0.9720 - val_loss: 1.4894 - val_accuracy: 0.7409\n",
            "Epoch 35/50\n",
            "2/2 [==============================] - 0s 63ms/step - loss: 0.1268 - accuracy: 0.9800 - val_loss: 1.4943 - val_accuracy: 0.7457\n",
            "Epoch 36/50\n",
            "2/2 [==============================] - 0s 65ms/step - loss: 0.1033 - accuracy: 0.9820 - val_loss: 1.4994 - val_accuracy: 0.7476\n",
            "test obs. 500 accuracy 0.734590282813633\n",
            "test obs. 500 b_accuracy 0.7035312723726352\n",
            "Epoch 1/50\n",
            "4/4 [==============================] - 0s 111ms/step - loss: 4.7643 - accuracy: 0.0090 - val_loss: 4.2421 - val_accuracy: 0.0169\n",
            "Epoch 2/50\n",
            "4/4 [==============================] - 0s 46ms/step - loss: 4.3352 - accuracy: 0.0170 - val_loss: 4.0960 - val_accuracy: 0.0457\n",
            "Epoch 3/50\n",
            "4/4 [==============================] - 0s 46ms/step - loss: 3.9888 - accuracy: 0.0660 - val_loss: 3.8968 - val_accuracy: 0.1313\n",
            "Epoch 4/50\n",
            "4/4 [==============================] - 0s 46ms/step - loss: 3.7468 - accuracy: 0.1540 - val_loss: 3.6409 - val_accuracy: 0.2287\n",
            "Epoch 5/50\n",
            "4/4 [==============================] - 0s 45ms/step - loss: 3.4410 - accuracy: 0.1960 - val_loss: 3.3700 - val_accuracy: 0.2727\n",
            "Epoch 6/50\n",
            "4/4 [==============================] - 0s 44ms/step - loss: 2.9682 - accuracy: 0.2910 - val_loss: 2.9867 - val_accuracy: 0.3947\n",
            "Epoch 7/50\n",
            "4/4 [==============================] - 0s 46ms/step - loss: 2.6041 - accuracy: 0.3910 - val_loss: 2.6235 - val_accuracy: 0.4999\n",
            "Epoch 8/50\n",
            "4/4 [==============================] - 0s 46ms/step - loss: 2.1329 - accuracy: 0.4890 - val_loss: 2.2412 - val_accuracy: 0.5823\n",
            "Epoch 9/50\n",
            "4/4 [==============================] - 0s 45ms/step - loss: 1.7570 - accuracy: 0.5730 - val_loss: 1.9030 - val_accuracy: 0.6374\n",
            "Epoch 10/50\n",
            "4/4 [==============================] - 0s 46ms/step - loss: 1.4596 - accuracy: 0.6730 - val_loss: 1.6235 - val_accuracy: 0.6759\n",
            "Epoch 11/50\n",
            "4/4 [==============================] - 0s 45ms/step - loss: 1.1309 - accuracy: 0.7410 - val_loss: 1.3994 - val_accuracy: 0.7314\n",
            "Epoch 12/50\n",
            "4/4 [==============================] - 0s 48ms/step - loss: 0.8832 - accuracy: 0.7930 - val_loss: 1.2317 - val_accuracy: 0.7658\n",
            "Epoch 13/50\n",
            "4/4 [==============================] - 0s 43ms/step - loss: 0.6961 - accuracy: 0.8490 - val_loss: 1.0947 - val_accuracy: 0.7798\n",
            "Epoch 14/50\n",
            "4/4 [==============================] - 0s 45ms/step - loss: 0.5576 - accuracy: 0.8830 - val_loss: 1.0107 - val_accuracy: 0.7885\n",
            "Epoch 15/50\n",
            "4/4 [==============================] - 0s 46ms/step - loss: 0.4361 - accuracy: 0.9120 - val_loss: 0.9705 - val_accuracy: 0.7986\n",
            "Epoch 16/50\n",
            "4/4 [==============================] - 0s 47ms/step - loss: 0.3991 - accuracy: 0.9180 - val_loss: 0.9165 - val_accuracy: 0.8090\n",
            "Epoch 17/50\n",
            "4/4 [==============================] - 0s 47ms/step - loss: 0.3175 - accuracy: 0.9340 - val_loss: 0.8633 - val_accuracy: 0.8194\n",
            "Epoch 18/50\n",
            "4/4 [==============================] - 0s 46ms/step - loss: 0.2441 - accuracy: 0.9460 - val_loss: 0.8358 - val_accuracy: 0.8279\n",
            "Epoch 19/50\n",
            "4/4 [==============================] - 0s 45ms/step - loss: 0.1967 - accuracy: 0.9620 - val_loss: 0.8306 - val_accuracy: 0.8240\n",
            "Epoch 20/50\n",
            "4/4 [==============================] - 0s 45ms/step - loss: 0.1683 - accuracy: 0.9700 - val_loss: 0.8186 - val_accuracy: 0.8335\n",
            "Epoch 21/50\n",
            "4/4 [==============================] - 0s 48ms/step - loss: 0.1833 - accuracy: 0.9720 - val_loss: 0.8033 - val_accuracy: 0.8422\n",
            "Epoch 22/50\n",
            "4/4 [==============================] - 0s 46ms/step - loss: 0.1342 - accuracy: 0.9730 - val_loss: 0.7989 - val_accuracy: 0.8467\n",
            "Epoch 23/50\n",
            "4/4 [==============================] - 0s 46ms/step - loss: 0.1188 - accuracy: 0.9720 - val_loss: 0.8011 - val_accuracy: 0.8489\n",
            "Epoch 24/50\n",
            "4/4 [==============================] - 0s 45ms/step - loss: 0.1124 - accuracy: 0.9720 - val_loss: 0.7951 - val_accuracy: 0.8484\n",
            "Epoch 25/50\n",
            "4/4 [==============================] - 0s 45ms/step - loss: 0.1087 - accuracy: 0.9680 - val_loss: 0.7907 - val_accuracy: 0.8494\n",
            "Epoch 26/50\n",
            "4/4 [==============================] - 0s 49ms/step - loss: 0.0935 - accuracy: 0.9830 - val_loss: 0.7786 - val_accuracy: 0.8528\n",
            "Epoch 27/50\n",
            "4/4 [==============================] - 0s 46ms/step - loss: 0.0990 - accuracy: 0.9760 - val_loss: 0.7761 - val_accuracy: 0.8496\n",
            "Epoch 28/50\n",
            "4/4 [==============================] - 0s 46ms/step - loss: 0.0784 - accuracy: 0.9810 - val_loss: 0.7814 - val_accuracy: 0.8477\n",
            "Epoch 29/50\n",
            "4/4 [==============================] - 0s 45ms/step - loss: 0.0773 - accuracy: 0.9840 - val_loss: 0.7834 - val_accuracy: 0.8494\n",
            "Epoch 30/50\n",
            "4/4 [==============================] - 0s 46ms/step - loss: 0.0501 - accuracy: 0.9940 - val_loss: 0.7852 - val_accuracy: 0.8523\n",
            "Epoch 31/50\n",
            "4/4 [==============================] - 0s 46ms/step - loss: 0.0576 - accuracy: 0.9940 - val_loss: 0.7851 - val_accuracy: 0.8564\n",
            "Epoch 32/50\n",
            "4/4 [==============================] - 0s 45ms/step - loss: 0.0639 - accuracy: 0.9860 - val_loss: 0.7902 - val_accuracy: 0.8494\n",
            "test obs. 1000 accuracy 0.8353879622915156\n",
            "test obs. 1000 b_accuracy 0.7876377707870602\n",
            "Epoch 1/50\n",
            "8/8 [==============================] - 0s 60ms/step - loss: 4.8209 - accuracy: 0.0240 - val_loss: 4.1951 - val_accuracy: 0.0319\n",
            "Epoch 2/50\n",
            "8/8 [==============================] - 0s 36ms/step - loss: 4.1901 - accuracy: 0.0715 - val_loss: 3.9307 - val_accuracy: 0.1675\n",
            "Epoch 3/50\n",
            "8/8 [==============================] - 0s 36ms/step - loss: 3.6145 - accuracy: 0.1745 - val_loss: 3.2680 - val_accuracy: 0.3432\n",
            "Epoch 4/50\n",
            "8/8 [==============================] - 0s 36ms/step - loss: 2.9445 - accuracy: 0.3310 - val_loss: 2.5350 - val_accuracy: 0.4832\n",
            "Epoch 5/50\n",
            "8/8 [==============================] - 0s 38ms/step - loss: 2.1879 - accuracy: 0.5045 - val_loss: 1.8223 - val_accuracy: 0.6754\n",
            "Epoch 6/50\n",
            "8/8 [==============================] - 0s 37ms/step - loss: 1.6416 - accuracy: 0.6240 - val_loss: 1.3287 - val_accuracy: 0.7544\n",
            "Epoch 7/50\n",
            "8/8 [==============================] - 0s 35ms/step - loss: 1.2043 - accuracy: 0.7405 - val_loss: 1.0354 - val_accuracy: 0.7924\n",
            "Epoch 8/50\n",
            "8/8 [==============================] - 0s 36ms/step - loss: 0.9137 - accuracy: 0.7925 - val_loss: 0.8635 - val_accuracy: 0.8240\n",
            "Epoch 9/50\n",
            "8/8 [==============================] - 0s 35ms/step - loss: 0.6689 - accuracy: 0.8495 - val_loss: 0.7087 - val_accuracy: 0.8453\n",
            "Epoch 10/50\n",
            "8/8 [==============================] - 0s 36ms/step - loss: 0.5089 - accuracy: 0.8925 - val_loss: 0.6298 - val_accuracy: 0.8513\n",
            "Epoch 11/50\n",
            "8/8 [==============================] - 0s 37ms/step - loss: 0.4392 - accuracy: 0.9165 - val_loss: 0.5840 - val_accuracy: 0.8637\n",
            "Epoch 12/50\n",
            "8/8 [==============================] - 0s 35ms/step - loss: 0.2820 - accuracy: 0.9480 - val_loss: 0.5420 - val_accuracy: 0.8796\n",
            "Epoch 13/50\n",
            "8/8 [==============================] - 0s 36ms/step - loss: 0.2239 - accuracy: 0.9395 - val_loss: 0.5248 - val_accuracy: 0.8825\n",
            "Epoch 14/50\n",
            "8/8 [==============================] - 0s 36ms/step - loss: 0.2030 - accuracy: 0.9620 - val_loss: 0.5168 - val_accuracy: 0.8801\n",
            "Epoch 15/50\n",
            "8/8 [==============================] - 0s 37ms/step - loss: 0.1733 - accuracy: 0.9580 - val_loss: 0.5154 - val_accuracy: 0.8820\n",
            "Epoch 16/50\n",
            "8/8 [==============================] - 0s 38ms/step - loss: 0.1397 - accuracy: 0.9720 - val_loss: 0.5204 - val_accuracy: 0.8816\n",
            "Epoch 17/50\n",
            "8/8 [==============================] - 0s 36ms/step - loss: 0.1680 - accuracy: 0.9735 - val_loss: 0.5106 - val_accuracy: 0.8883\n",
            "Epoch 18/50\n",
            "8/8 [==============================] - 0s 38ms/step - loss: 0.1256 - accuracy: 0.9745 - val_loss: 0.5168 - val_accuracy: 0.8811\n",
            "Epoch 19/50\n",
            "8/8 [==============================] - 0s 36ms/step - loss: 0.0904 - accuracy: 0.9745 - val_loss: 0.5073 - val_accuracy: 0.8861\n",
            "Epoch 20/50\n",
            "8/8 [==============================] - 0s 37ms/step - loss: 0.0984 - accuracy: 0.9790 - val_loss: 0.5086 - val_accuracy: 0.8874\n",
            "Epoch 21/50\n",
            "8/8 [==============================] - 0s 36ms/step - loss: 0.0878 - accuracy: 0.9770 - val_loss: 0.5091 - val_accuracy: 0.8905\n",
            "Epoch 22/50\n",
            "8/8 [==============================] - 0s 37ms/step - loss: 0.0755 - accuracy: 0.9845 - val_loss: 0.5107 - val_accuracy: 0.8946\n",
            "Epoch 23/50\n",
            "8/8 [==============================] - 0s 37ms/step - loss: 0.0650 - accuracy: 0.9855 - val_loss: 0.5144 - val_accuracy: 0.8932\n",
            "Epoch 24/50\n",
            "8/8 [==============================] - 0s 37ms/step - loss: 0.0596 - accuracy: 0.9860 - val_loss: 0.5115 - val_accuracy: 0.8946\n",
            "test obs. 2000 accuracy 0.8745467730239304\n",
            "test obs. 2000 b_accuracy 0.7871150209262229\n",
            "Epoch 1/50\n",
            "20/20 [==============================] - 1s 39ms/step - loss: 4.3613 - accuracy: 0.0640 - val_loss: 3.5561 - val_accuracy: 0.3413\n",
            "Epoch 2/50\n",
            "20/20 [==============================] - 1s 31ms/step - loss: 3.1671 - accuracy: 0.3378 - val_loss: 1.9125 - val_accuracy: 0.6490\n",
            "Epoch 3/50\n",
            "20/20 [==============================] - 1s 32ms/step - loss: 1.8611 - accuracy: 0.5928 - val_loss: 0.9643 - val_accuracy: 0.8303\n",
            "Epoch 4/50\n",
            "20/20 [==============================] - 1s 30ms/step - loss: 1.1221 - accuracy: 0.7516 - val_loss: 0.6152 - val_accuracy: 0.8668\n",
            "Epoch 5/50\n",
            "20/20 [==============================] - 1s 31ms/step - loss: 0.7124 - accuracy: 0.8500 - val_loss: 0.4653 - val_accuracy: 0.8994\n",
            "Epoch 6/50\n",
            "20/20 [==============================] - 1s 31ms/step - loss: 0.4972 - accuracy: 0.8876 - val_loss: 0.4013 - val_accuracy: 0.9074\n",
            "Epoch 7/50\n",
            "20/20 [==============================] - 1s 30ms/step - loss: 0.3552 - accuracy: 0.9234 - val_loss: 0.3549 - val_accuracy: 0.9236\n",
            "Epoch 8/50\n",
            "20/20 [==============================] - 1s 31ms/step - loss: 0.2453 - accuracy: 0.9428 - val_loss: 0.3446 - val_accuracy: 0.9246\n",
            "Epoch 9/50\n",
            "20/20 [==============================] - 1s 31ms/step - loss: 0.2449 - accuracy: 0.9550 - val_loss: 0.3354 - val_accuracy: 0.9289\n",
            "Epoch 10/50\n",
            "20/20 [==============================] - 1s 32ms/step - loss: 0.1727 - accuracy: 0.9592 - val_loss: 0.3330 - val_accuracy: 0.9260\n",
            "Epoch 11/50\n",
            "20/20 [==============================] - 1s 31ms/step - loss: 0.1269 - accuracy: 0.9704 - val_loss: 0.3330 - val_accuracy: 0.9301\n",
            "Epoch 12/50\n",
            "20/20 [==============================] - 1s 30ms/step - loss: 0.1143 - accuracy: 0.9736 - val_loss: 0.3266 - val_accuracy: 0.9314\n",
            "Epoch 13/50\n",
            "20/20 [==============================] - 1s 32ms/step - loss: 0.1194 - accuracy: 0.9762 - val_loss: 0.3311 - val_accuracy: 0.9333\n",
            "Epoch 14/50\n",
            "20/20 [==============================] - 1s 30ms/step - loss: 0.1005 - accuracy: 0.9758 - val_loss: 0.3333 - val_accuracy: 0.9316\n",
            "Epoch 15/50\n",
            "20/20 [==============================] - 1s 32ms/step - loss: 0.0742 - accuracy: 0.9828 - val_loss: 0.3198 - val_accuracy: 0.9396\n",
            "Epoch 16/50\n",
            "20/20 [==============================] - 1s 31ms/step - loss: 0.0863 - accuracy: 0.9836 - val_loss: 0.3278 - val_accuracy: 0.9347\n",
            "Epoch 17/50\n",
            "20/20 [==============================] - 1s 31ms/step - loss: 0.0795 - accuracy: 0.9820 - val_loss: 0.3376 - val_accuracy: 0.9362\n",
            "Epoch 18/50\n",
            "20/20 [==============================] - 1s 32ms/step - loss: 0.0603 - accuracy: 0.9824 - val_loss: 0.3384 - val_accuracy: 0.9376\n",
            "Epoch 19/50\n",
            "20/20 [==============================] - 1s 30ms/step - loss: 0.0643 - accuracy: 0.9840 - val_loss: 0.3428 - val_accuracy: 0.9398\n",
            "Epoch 20/50\n",
            "20/20 [==============================] - 1s 31ms/step - loss: 0.0511 - accuracy: 0.9882 - val_loss: 0.3491 - val_accuracy: 0.9323\n",
            "test obs. 5000 accuracy 0.9253081943437274\n",
            "test obs. 5000 b_accuracy 0.8758849227122414\n",
            "Epoch 1/50\n",
            "40/40 [==============================] - 1s 32ms/step - loss: 3.8253 - accuracy: 0.1790 - val_loss: 1.8291 - val_accuracy: 0.6778\n",
            "Epoch 2/50\n",
            "40/40 [==============================] - 1s 29ms/step - loss: 1.6699 - accuracy: 0.6303 - val_loss: 0.6488 - val_accuracy: 0.8629\n",
            "Epoch 3/50\n",
            "40/40 [==============================] - 1s 29ms/step - loss: 0.8456 - accuracy: 0.8103 - val_loss: 0.3817 - val_accuracy: 0.9185\n",
            "Epoch 4/50\n",
            "40/40 [==============================] - 1s 29ms/step - loss: 0.5051 - accuracy: 0.8934 - val_loss: 0.3210 - val_accuracy: 0.9333\n",
            "Epoch 5/50\n",
            "40/40 [==============================] - 1s 29ms/step - loss: 0.3590 - accuracy: 0.9265 - val_loss: 0.2774 - val_accuracy: 0.9451\n",
            "Epoch 6/50\n",
            "40/40 [==============================] - 1s 29ms/step - loss: 0.2599 - accuracy: 0.9435 - val_loss: 0.2720 - val_accuracy: 0.9466\n",
            "Epoch 7/50\n",
            "40/40 [==============================] - 1s 29ms/step - loss: 0.1839 - accuracy: 0.9565 - val_loss: 0.2691 - val_accuracy: 0.9519\n",
            "Epoch 8/50\n",
            "40/40 [==============================] - 1s 30ms/step - loss: 0.1637 - accuracy: 0.9631 - val_loss: 0.2663 - val_accuracy: 0.9514\n",
            "Epoch 9/50\n",
            "40/40 [==============================] - 1s 29ms/step - loss: 0.1502 - accuracy: 0.9611 - val_loss: 0.2864 - val_accuracy: 0.9509\n",
            "Epoch 10/50\n",
            "40/40 [==============================] - 1s 30ms/step - loss: 0.1287 - accuracy: 0.9719 - val_loss: 0.2780 - val_accuracy: 0.9488\n",
            "Epoch 11/50\n",
            "40/40 [==============================] - 1s 29ms/step - loss: 0.1105 - accuracy: 0.9729 - val_loss: 0.2896 - val_accuracy: 0.9483\n",
            "Epoch 12/50\n",
            "40/40 [==============================] - 1s 29ms/step - loss: 0.0800 - accuracy: 0.9762 - val_loss: 0.2821 - val_accuracy: 0.9529\n",
            "Epoch 13/50\n",
            "40/40 [==============================] - 1s 30ms/step - loss: 0.0796 - accuracy: 0.9781 - val_loss: 0.2943 - val_accuracy: 0.9519\n",
            "test obs. 10000 accuracy 0.9550398839738942\n",
            "test obs. 10000 b_accuracy 0.9111822068812572\n",
            "Epoch 1/50\n",
            "59/59 [==============================] - 2s 31ms/step - loss: 3.1956 - accuracy: 0.3313 - val_loss: 0.9057 - val_accuracy: 0.8025\n",
            "Epoch 2/50\n",
            "59/59 [==============================] - 2s 28ms/step - loss: 0.9731 - accuracy: 0.7868 - val_loss: 0.3982 - val_accuracy: 0.9123\n",
            "Epoch 3/50\n",
            "59/59 [==============================] - 2s 28ms/step - loss: 0.4804 - accuracy: 0.8986 - val_loss: 0.2679 - val_accuracy: 0.9413\n",
            "Epoch 4/50\n",
            "59/59 [==============================] - 2s 29ms/step - loss: 0.2837 - accuracy: 0.9406 - val_loss: 0.2531 - val_accuracy: 0.9478\n",
            "Epoch 5/50\n",
            "59/59 [==============================] - 2s 29ms/step - loss: 0.2050 - accuracy: 0.9513 - val_loss: 0.2333 - val_accuracy: 0.9560\n",
            "Epoch 6/50\n",
            "59/59 [==============================] - 2s 28ms/step - loss: 0.1619 - accuracy: 0.9651 - val_loss: 0.2404 - val_accuracy: 0.9565\n",
            "Epoch 7/50\n",
            "59/59 [==============================] - 2s 28ms/step - loss: 0.1395 - accuracy: 0.9666 - val_loss: 0.2501 - val_accuracy: 0.9579\n",
            "Epoch 8/50\n",
            "59/59 [==============================] - 2s 29ms/step - loss: 0.0978 - accuracy: 0.9759 - val_loss: 0.2482 - val_accuracy: 0.9579\n",
            "Epoch 9/50\n",
            "59/59 [==============================] - 2s 28ms/step - loss: 0.0861 - accuracy: 0.9777 - val_loss: 0.2488 - val_accuracy: 0.9594\n",
            "Epoch 10/50\n",
            "59/59 [==============================] - 2s 28ms/step - loss: 0.0767 - accuracy: 0.9801 - val_loss: 0.2657 - val_accuracy: 0.9608\n",
            "test obs. 15000 accuracy 0.9651921682378535\n",
            "test obs. 15000 b_accuracy 0.9277009480418488\n"
          ],
          "name": "stdout"
        }
      ]
    },
    {
      "cell_type": "markdown",
      "metadata": {
        "id": "VV-P8u5Cnt1p",
        "colab_type": "text"
      },
      "source": [
        "## RNN"
      ]
    },
    {
      "cell_type": "code",
      "metadata": {
        "id": "VcY8yFVzijpx",
        "colab_type": "code",
        "colab": {
          "base_uri": "https://localhost:8080/",
          "height": 1000
        },
        "outputId": "48725434-ed19-447c-96be-c2552ce9e08d"
      },
      "source": [
        "for obs in [500,1000,2000,5000,10000,15000]:\n",
        "    run_RNN(X_train_pad_de,y_train_enc_de,X_val_pad_de,y_val_enc_de,X_test_pad_de,y_test_de,vocab_size_de,embedding_matrix_de,class_weight_dict_de,obs)"
      ],
      "execution_count": null,
      "outputs": [
        {
          "output_type": "stream",
          "text": [
            "Epoch 1/50\n",
            "2/2 [==============================] - 1s 471ms/step - loss: 4.3586 - accuracy: 0.0100 - val_loss: 4.2455 - val_accuracy: 0.0641\n",
            "Epoch 2/50\n",
            "2/2 [==============================] - 0s 87ms/step - loss: 4.2165 - accuracy: 0.0600 - val_loss: 4.1876 - val_accuracy: 0.0440\n",
            "Epoch 3/50\n",
            "2/2 [==============================] - 0s 87ms/step - loss: 4.0802 - accuracy: 0.0380 - val_loss: 4.2367 - val_accuracy: 0.0297\n",
            "Epoch 4/50\n",
            "2/2 [==============================] - 0s 88ms/step - loss: 3.9580 - accuracy: 0.0640 - val_loss: 3.9544 - val_accuracy: 0.0537\n",
            "Epoch 5/50\n",
            "2/2 [==============================] - 0s 90ms/step - loss: 3.7090 - accuracy: 0.1120 - val_loss: 3.9375 - val_accuracy: 0.0467\n",
            "Epoch 6/50\n",
            "2/2 [==============================] - 0s 91ms/step - loss: 3.4644 - accuracy: 0.0960 - val_loss: 3.7430 - val_accuracy: 0.0865\n",
            "Epoch 7/50\n",
            "2/2 [==============================] - 0s 91ms/step - loss: 3.1574 - accuracy: 0.1600 - val_loss: 3.5104 - val_accuracy: 0.1586\n",
            "Epoch 8/50\n",
            "2/2 [==============================] - 0s 88ms/step - loss: 2.8695 - accuracy: 0.2280 - val_loss: 3.3578 - val_accuracy: 0.1873\n",
            "Epoch 9/50\n",
            "2/2 [==============================] - 0s 89ms/step - loss: 2.5212 - accuracy: 0.2880 - val_loss: 3.0977 - val_accuracy: 0.2415\n",
            "Epoch 10/50\n",
            "2/2 [==============================] - 0s 89ms/step - loss: 2.1560 - accuracy: 0.4020 - val_loss: 2.7451 - val_accuracy: 0.3918\n",
            "Epoch 11/50\n",
            "2/2 [==============================] - 0s 97ms/step - loss: 1.8475 - accuracy: 0.5200 - val_loss: 2.5171 - val_accuracy: 0.4194\n",
            "Epoch 12/50\n",
            "2/2 [==============================] - 0s 89ms/step - loss: 1.4800 - accuracy: 0.6280 - val_loss: 2.2966 - val_accuracy: 0.4805\n",
            "Epoch 13/50\n",
            "2/2 [==============================] - 0s 90ms/step - loss: 1.2613 - accuracy: 0.6820 - val_loss: 2.0806 - val_accuracy: 0.5427\n",
            "Epoch 14/50\n",
            "2/2 [==============================] - 0s 88ms/step - loss: 0.9626 - accuracy: 0.7840 - val_loss: 1.9420 - val_accuracy: 0.5835\n",
            "Epoch 15/50\n",
            "2/2 [==============================] - 0s 92ms/step - loss: 0.8524 - accuracy: 0.8060 - val_loss: 1.9651 - val_accuracy: 0.5516\n",
            "Epoch 16/50\n",
            "2/2 [==============================] - 0s 91ms/step - loss: 0.6900 - accuracy: 0.8380 - val_loss: 1.6545 - val_accuracy: 0.6396\n",
            "Epoch 17/50\n",
            "2/2 [==============================] - 0s 89ms/step - loss: 0.5947 - accuracy: 0.8760 - val_loss: 1.5446 - val_accuracy: 0.6778\n",
            "Epoch 18/50\n",
            "2/2 [==============================] - 0s 86ms/step - loss: 0.4303 - accuracy: 0.9100 - val_loss: 1.6921 - val_accuracy: 0.6406\n",
            "Epoch 19/50\n",
            "2/2 [==============================] - 0s 88ms/step - loss: 0.3800 - accuracy: 0.9080 - val_loss: 1.7190 - val_accuracy: 0.6464\n",
            "Epoch 20/50\n",
            "2/2 [==============================] - 0s 91ms/step - loss: 0.3040 - accuracy: 0.9600 - val_loss: 1.5069 - val_accuracy: 0.6882\n",
            "Epoch 21/50\n",
            "2/2 [==============================] - 0s 91ms/step - loss: 0.2583 - accuracy: 0.9580 - val_loss: 1.4903 - val_accuracy: 0.6877\n",
            "Epoch 22/50\n",
            "2/2 [==============================] - 0s 86ms/step - loss: 0.1944 - accuracy: 0.9700 - val_loss: 1.4510 - val_accuracy: 0.7124\n",
            "Epoch 23/50\n",
            "2/2 [==============================] - 0s 86ms/step - loss: 0.1756 - accuracy: 0.9800 - val_loss: 1.4812 - val_accuracy: 0.7063\n",
            "Epoch 24/50\n",
            "2/2 [==============================] - 0s 87ms/step - loss: 0.1329 - accuracy: 0.9760 - val_loss: 1.5952 - val_accuracy: 0.6872\n",
            "Epoch 25/50\n",
            "2/2 [==============================] - 0s 89ms/step - loss: 0.1359 - accuracy: 0.9660 - val_loss: 1.6799 - val_accuracy: 0.6804\n",
            "Epoch 26/50\n",
            "2/2 [==============================] - 0s 93ms/step - loss: 0.1193 - accuracy: 0.9760 - val_loss: 1.6608 - val_accuracy: 0.6768\n",
            "Epoch 27/50\n",
            "2/2 [==============================] - 0s 89ms/step - loss: 0.0789 - accuracy: 0.9840 - val_loss: 1.6039 - val_accuracy: 0.6913\n",
            "test obs. 500 accuracy 0.6881798404641044\n",
            "test obs. 500 b_accuracy 0.6319024786994206\n",
            "\n",
            "Epoch 1/50\n",
            "4/4 [==============================] - 1s 203ms/step - loss: 4.3229 - accuracy: 0.0260 - val_loss: 4.1405 - val_accuracy: 0.0667\n",
            "Epoch 2/50\n",
            "4/4 [==============================] - 0s 88ms/step - loss: 4.1502 - accuracy: 0.0720 - val_loss: 3.9350 - val_accuracy: 0.0500\n",
            "Epoch 3/50\n",
            "4/4 [==============================] - 0s 60ms/step - loss: 3.9100 - accuracy: 0.0970 - val_loss: 3.6621 - val_accuracy: 0.1344\n",
            "Epoch 4/50\n",
            "4/4 [==============================] - 0s 63ms/step - loss: 3.6071 - accuracy: 0.1630 - val_loss: 3.4369 - val_accuracy: 0.1898\n",
            "Epoch 5/50\n",
            "4/4 [==============================] - 0s 63ms/step - loss: 2.9795 - accuracy: 0.2600 - val_loss: 2.7493 - val_accuracy: 0.4194\n",
            "Epoch 6/50\n",
            "4/4 [==============================] - 0s 62ms/step - loss: 2.3000 - accuracy: 0.4650 - val_loss: 2.1630 - val_accuracy: 0.5095\n",
            "Epoch 7/50\n",
            "4/4 [==============================] - 0s 62ms/step - loss: 1.8288 - accuracy: 0.5570 - val_loss: 1.7816 - val_accuracy: 0.5453\n",
            "Epoch 8/50\n",
            "4/4 [==============================] - 0s 62ms/step - loss: 1.4076 - accuracy: 0.6620 - val_loss: 1.4969 - val_accuracy: 0.6178\n",
            "Epoch 9/50\n",
            "4/4 [==============================] - 0s 62ms/step - loss: 1.0613 - accuracy: 0.7470 - val_loss: 1.2392 - val_accuracy: 0.6773\n",
            "Epoch 10/50\n",
            "4/4 [==============================] - 0s 60ms/step - loss: 0.8183 - accuracy: 0.8140 - val_loss: 1.1174 - val_accuracy: 0.7298\n",
            "Epoch 11/50\n",
            "4/4 [==============================] - 0s 62ms/step - loss: 0.6368 - accuracy: 0.8670 - val_loss: 1.1124 - val_accuracy: 0.7225\n",
            "Epoch 12/50\n",
            "4/4 [==============================] - 0s 62ms/step - loss: 0.4802 - accuracy: 0.8980 - val_loss: 1.0443 - val_accuracy: 0.7418\n",
            "Epoch 13/50\n",
            "4/4 [==============================] - 0s 62ms/step - loss: 0.3593 - accuracy: 0.9260 - val_loss: 0.9310 - val_accuracy: 0.7791\n",
            "Epoch 14/50\n",
            "4/4 [==============================] - 0s 60ms/step - loss: 0.2691 - accuracy: 0.9440 - val_loss: 0.8960 - val_accuracy: 0.7921\n",
            "Epoch 15/50\n",
            "4/4 [==============================] - 0s 64ms/step - loss: 0.2066 - accuracy: 0.9610 - val_loss: 0.8786 - val_accuracy: 0.7885\n",
            "Epoch 16/50\n",
            "4/4 [==============================] - 0s 60ms/step - loss: 0.1529 - accuracy: 0.9740 - val_loss: 0.8561 - val_accuracy: 0.8047\n",
            "Epoch 17/50\n",
            "4/4 [==============================] - 0s 61ms/step - loss: 0.1164 - accuracy: 0.9780 - val_loss: 0.8240 - val_accuracy: 0.8086\n",
            "Epoch 18/50\n",
            "4/4 [==============================] - 0s 62ms/step - loss: 0.1011 - accuracy: 0.9860 - val_loss: 0.8433 - val_accuracy: 0.8136\n",
            "Epoch 19/50\n",
            "4/4 [==============================] - 0s 62ms/step - loss: 0.0818 - accuracy: 0.9870 - val_loss: 0.8737 - val_accuracy: 0.8044\n",
            "Epoch 20/50\n",
            "4/4 [==============================] - 0s 60ms/step - loss: 0.0672 - accuracy: 0.9920 - val_loss: 0.8328 - val_accuracy: 0.8177\n",
            "Epoch 21/50\n",
            "4/4 [==============================] - 0s 61ms/step - loss: 0.0560 - accuracy: 0.9900 - val_loss: 0.8281 - val_accuracy: 0.8192\n",
            "Epoch 22/50\n",
            "4/4 [==============================] - 0s 62ms/step - loss: 0.0550 - accuracy: 0.9930 - val_loss: 0.8553 - val_accuracy: 0.8168\n",
            "test obs. 1000 accuracy 0.7933284989122552\n",
            "test obs. 1000 b_accuracy 0.7130219642542489\n",
            "\n",
            "Epoch 1/50\n",
            "8/8 [==============================] - 1s 118ms/step - loss: 4.4156 - accuracy: 0.0285 - val_loss: 3.9919 - val_accuracy: 0.1027\n",
            "Epoch 2/50\n",
            "8/8 [==============================] - 0s 48ms/step - loss: 4.0845 - accuracy: 0.1315 - val_loss: 3.4131 - val_accuracy: 0.2383\n",
            "Epoch 3/50\n",
            "8/8 [==============================] - 0s 47ms/step - loss: 3.2051 - accuracy: 0.3095 - val_loss: 2.3332 - val_accuracy: 0.5577\n",
            "Epoch 4/50\n",
            "8/8 [==============================] - 0s 47ms/step - loss: 2.1638 - accuracy: 0.5300 - val_loss: 1.5280 - val_accuracy: 0.6140\n",
            "Epoch 5/50\n",
            "8/8 [==============================] - 0s 48ms/step - loss: 1.4150 - accuracy: 0.6565 - val_loss: 0.9897 - val_accuracy: 0.7438\n",
            "Epoch 6/50\n",
            "8/8 [==============================] - 0s 47ms/step - loss: 0.9113 - accuracy: 0.8045 - val_loss: 0.7922 - val_accuracy: 0.8047\n",
            "Epoch 7/50\n",
            "8/8 [==============================] - 0s 49ms/step - loss: 0.6307 - accuracy: 0.8590 - val_loss: 0.6765 - val_accuracy: 0.8397\n",
            "Epoch 8/50\n",
            "8/8 [==============================] - 0s 46ms/step - loss: 0.4383 - accuracy: 0.9125 - val_loss: 0.5868 - val_accuracy: 0.8627\n",
            "Epoch 9/50\n",
            "8/8 [==============================] - 0s 48ms/step - loss: 0.3129 - accuracy: 0.9355 - val_loss: 0.5637 - val_accuracy: 0.8593\n",
            "Epoch 10/50\n",
            "8/8 [==============================] - 0s 47ms/step - loss: 0.2385 - accuracy: 0.9555 - val_loss: 0.5426 - val_accuracy: 0.8726\n",
            "Epoch 11/50\n",
            "8/8 [==============================] - 0s 48ms/step - loss: 0.1901 - accuracy: 0.9685 - val_loss: 0.5416 - val_accuracy: 0.8770\n",
            "Epoch 12/50\n",
            "8/8 [==============================] - 0s 47ms/step - loss: 0.1273 - accuracy: 0.9750 - val_loss: 0.5497 - val_accuracy: 0.8803\n",
            "Epoch 13/50\n",
            "8/8 [==============================] - 0s 47ms/step - loss: 0.0922 - accuracy: 0.9785 - val_loss: 0.5122 - val_accuracy: 0.8912\n",
            "Epoch 14/50\n",
            "8/8 [==============================] - 0s 47ms/step - loss: 0.0741 - accuracy: 0.9850 - val_loss: 0.5526 - val_accuracy: 0.8801\n",
            "Epoch 15/50\n",
            "8/8 [==============================] - 0s 47ms/step - loss: 0.0540 - accuracy: 0.9915 - val_loss: 0.5204 - val_accuracy: 0.8920\n",
            "Epoch 16/50\n",
            "8/8 [==============================] - 0s 48ms/step - loss: 0.0484 - accuracy: 0.9920 - val_loss: 0.5476 - val_accuracy: 0.8861\n",
            "Epoch 17/50\n",
            "8/8 [==============================] - 0s 47ms/step - loss: 0.0340 - accuracy: 0.9935 - val_loss: 0.5368 - val_accuracy: 0.8888\n",
            "Epoch 18/50\n",
            "8/8 [==============================] - 0s 47ms/step - loss: 0.0310 - accuracy: 0.9940 - val_loss: 0.5356 - val_accuracy: 0.8893\n",
            "test obs. 2000 accuracy 0.883248730964467\n",
            "test obs. 2000 b_accuracy 0.7961671167371757\n",
            "\n",
            "Epoch 1/50\n",
            "20/20 [==============================] - 1s 68ms/step - loss: 4.0346 - accuracy: 0.1068 - val_loss: 2.8512 - val_accuracy: 0.5153\n",
            "Epoch 2/50\n",
            "20/20 [==============================] - 1s 39ms/step - loss: 2.1062 - accuracy: 0.5738 - val_loss: 0.9643 - val_accuracy: 0.7479\n",
            "Epoch 3/50\n",
            "20/20 [==============================] - 1s 39ms/step - loss: 1.1176 - accuracy: 0.7576 - val_loss: 0.6064 - val_accuracy: 0.8564\n",
            "Epoch 4/50\n",
            "20/20 [==============================] - 1s 39ms/step - loss: 0.6567 - accuracy: 0.8596 - val_loss: 0.4357 - val_accuracy: 0.8907\n",
            "Epoch 5/50\n",
            "20/20 [==============================] - 1s 39ms/step - loss: 0.3878 - accuracy: 0.9192 - val_loss: 0.3986 - val_accuracy: 0.9023\n",
            "Epoch 6/50\n",
            "20/20 [==============================] - 1s 39ms/step - loss: 0.2630 - accuracy: 0.9492 - val_loss: 0.3932 - val_accuracy: 0.9098\n",
            "Epoch 7/50\n",
            "20/20 [==============================] - 1s 40ms/step - loss: 0.1529 - accuracy: 0.9654 - val_loss: 0.3305 - val_accuracy: 0.9253\n",
            "Epoch 8/50\n",
            "20/20 [==============================] - 1s 39ms/step - loss: 0.1174 - accuracy: 0.9780 - val_loss: 0.3281 - val_accuracy: 0.9239\n",
            "Epoch 9/50\n",
            "20/20 [==============================] - 1s 38ms/step - loss: 0.0704 - accuracy: 0.9870 - val_loss: 0.3337 - val_accuracy: 0.9268\n",
            "Epoch 10/50\n",
            "20/20 [==============================] - 1s 40ms/step - loss: 0.0539 - accuracy: 0.9890 - val_loss: 0.3217 - val_accuracy: 0.9350\n",
            "Epoch 11/50\n",
            "20/20 [==============================] - 1s 39ms/step - loss: 0.0355 - accuracy: 0.9922 - val_loss: 0.3383 - val_accuracy: 0.9270\n",
            "Epoch 12/50\n",
            "20/20 [==============================] - 1s 40ms/step - loss: 0.0323 - accuracy: 0.9918 - val_loss: 0.3304 - val_accuracy: 0.9343\n",
            "Epoch 13/50\n",
            "20/20 [==============================] - 1s 40ms/step - loss: 0.0259 - accuracy: 0.9942 - val_loss: 0.3564 - val_accuracy: 0.9304\n",
            "Epoch 14/50\n",
            "20/20 [==============================] - 1s 39ms/step - loss: 0.0194 - accuracy: 0.9958 - val_loss: 0.3509 - val_accuracy: 0.9311\n",
            "Epoch 15/50\n",
            "20/20 [==============================] - 1s 39ms/step - loss: 0.0185 - accuracy: 0.9952 - val_loss: 0.3397 - val_accuracy: 0.9328\n",
            "test obs. 5000 accuracy 0.9274836838288615\n",
            "test obs. 5000 b_accuracy 0.8498141786853094\n",
            "\n",
            "Epoch 1/50\n",
            "40/40 [==============================] - 2s 51ms/step - loss: 3.1884 - accuracy: 0.3124 - val_loss: 1.0349 - val_accuracy: 0.7595\n",
            "Epoch 2/50\n",
            "40/40 [==============================] - 1s 36ms/step - loss: 1.0428 - accuracy: 0.7727 - val_loss: 0.4928 - val_accuracy: 0.8840\n",
            "Epoch 3/50\n",
            "40/40 [==============================] - 1s 37ms/step - loss: 0.5010 - accuracy: 0.8955 - val_loss: 0.3581 - val_accuracy: 0.9173\n",
            "Epoch 4/50\n",
            "40/40 [==============================] - 1s 36ms/step - loss: 0.3054 - accuracy: 0.9352 - val_loss: 0.2601 - val_accuracy: 0.9439\n",
            "Epoch 5/50\n",
            "40/40 [==============================] - 1s 37ms/step - loss: 0.1702 - accuracy: 0.9657 - val_loss: 0.2637 - val_accuracy: 0.9401\n",
            "Epoch 6/50\n",
            "40/40 [==============================] - 1s 36ms/step - loss: 0.1233 - accuracy: 0.9758 - val_loss: 0.2599 - val_accuracy: 0.9480\n",
            "Epoch 7/50\n",
            "40/40 [==============================] - 1s 37ms/step - loss: 0.0697 - accuracy: 0.9839 - val_loss: 0.2562 - val_accuracy: 0.9475\n",
            "Epoch 8/50\n",
            "40/40 [==============================] - 1s 37ms/step - loss: 0.0499 - accuracy: 0.9876 - val_loss: 0.2643 - val_accuracy: 0.9478\n",
            "Epoch 9/50\n",
            "40/40 [==============================] - 2s 38ms/step - loss: 0.0440 - accuracy: 0.9901 - val_loss: 0.2896 - val_accuracy: 0.9473\n",
            "Epoch 10/50\n",
            "40/40 [==============================] - 1s 37ms/step - loss: 0.0991 - accuracy: 0.9803 - val_loss: 0.2525 - val_accuracy: 0.9502\n",
            "Epoch 11/50\n",
            "40/40 [==============================] - 1s 36ms/step - loss: 0.0422 - accuracy: 0.9910 - val_loss: 0.2679 - val_accuracy: 0.9519\n",
            "Epoch 12/50\n",
            "40/40 [==============================] - 1s 36ms/step - loss: 0.0330 - accuracy: 0.9917 - val_loss: 0.2804 - val_accuracy: 0.9524\n",
            "Epoch 13/50\n",
            "40/40 [==============================] - 1s 36ms/step - loss: 0.0231 - accuracy: 0.9940 - val_loss: 0.2746 - val_accuracy: 0.9517\n",
            "Epoch 14/50\n",
            "40/40 [==============================] - 1s 36ms/step - loss: 0.0188 - accuracy: 0.9948 - val_loss: 0.2829 - val_accuracy: 0.9531\n",
            "Epoch 15/50\n",
            "40/40 [==============================] - 1s 36ms/step - loss: 0.0159 - accuracy: 0.9956 - val_loss: 0.2878 - val_accuracy: 0.9536\n",
            "test obs. 10000 accuracy 0.9564902102973168\n",
            "test obs. 10000 b_accuracy 0.9161959634169503\n",
            "\n",
            "Epoch 1/50\n",
            "59/59 [==============================] - 3s 47ms/step - loss: 2.5190 - accuracy: 0.4409 - val_loss: 0.7330 - val_accuracy: 0.8001\n",
            "Epoch 2/50\n",
            "59/59 [==============================] - 2s 37ms/step - loss: 0.6747 - accuracy: 0.8559 - val_loss: 0.3410 - val_accuracy: 0.9115\n",
            "Epoch 3/50\n",
            "59/59 [==============================] - 2s 38ms/step - loss: 0.3279 - accuracy: 0.9295 - val_loss: 0.2622 - val_accuracy: 0.9425\n",
            "Epoch 4/50\n",
            "59/59 [==============================] - 2s 37ms/step - loss: 0.2198 - accuracy: 0.9532 - val_loss: 0.2342 - val_accuracy: 0.9517\n",
            "Epoch 5/50\n",
            "59/59 [==============================] - 2s 37ms/step - loss: 0.1362 - accuracy: 0.9703 - val_loss: 0.2550 - val_accuracy: 0.9432\n",
            "Epoch 6/50\n",
            "59/59 [==============================] - 2s 36ms/step - loss: 0.0729 - accuracy: 0.9829 - val_loss: 0.2298 - val_accuracy: 0.9567\n",
            "Epoch 7/50\n",
            "59/59 [==============================] - 2s 36ms/step - loss: 0.0531 - accuracy: 0.9866 - val_loss: 0.2128 - val_accuracy: 0.9625\n",
            "Epoch 8/50\n",
            "59/59 [==============================] - 2s 37ms/step - loss: 0.0595 - accuracy: 0.9859 - val_loss: 0.2332 - val_accuracy: 0.9601\n",
            "Epoch 9/50\n",
            "59/59 [==============================] - 2s 36ms/step - loss: 0.0505 - accuracy: 0.9891 - val_loss: 0.2390 - val_accuracy: 0.9572\n",
            "Epoch 10/50\n",
            "59/59 [==============================] - 2s 36ms/step - loss: 0.0403 - accuracy: 0.9909 - val_loss: 0.2503 - val_accuracy: 0.9570\n",
            "Epoch 11/50\n",
            "59/59 [==============================] - 2s 36ms/step - loss: 0.0337 - accuracy: 0.9913 - val_loss: 0.2380 - val_accuracy: 0.9625\n",
            "Epoch 12/50\n",
            "59/59 [==============================] - 2s 36ms/step - loss: 0.0275 - accuracy: 0.9919 - val_loss: 0.2514 - val_accuracy: 0.9618\n",
            "test obs. 15000 accuracy 0.9659173313995649\n",
            "test obs. 15000 b_accuracy 0.9509650300048361\n",
            "\n"
          ],
          "name": "stdout"
        }
      ]
    },
    {
      "cell_type": "markdown",
      "metadata": {
        "colab_type": "text",
        "id": "t6ZEVE7KRxxI"
      },
      "source": [
        "# Single Language Classifier French"
      ]
    },
    {
      "cell_type": "markdown",
      "metadata": {
        "colab_type": "text",
        "id": "wG6eoMcYRxxY"
      },
      "source": [
        "##LogReg"
      ]
    },
    {
      "cell_type": "code",
      "metadata": {
        "colab_type": "code",
        "id": "jtpfbZ1IRxxZ",
        "colab": {
          "base_uri": "https://localhost:8080/",
          "height": 442
        },
        "outputId": "98469058-c758-4d1e-c929-d6dab18b5ef2"
      },
      "source": [
        "stra = False\n",
        "for obs in [250,500,1000,2000,5000]:\n",
        "    tf_idf_log_reg(X_train_de,y_train_de,X_test_de,y_test_de,obs,class_weight_dict_de)"
      ],
      "execution_count": null,
      "outputs": [
        {
          "output_type": "stream",
          "text": [
            "train obs. 250 accuracy 0.76\n",
            "train obs. 250 b_accuracy 0.9159412614675772\n",
            "test obs. 250 accuracy 0.4517766497461929\n",
            "test obs. 250 b_accuracy 0.745612749957794\n",
            "\n",
            "train obs. 500 accuracy 0.83\n",
            "train obs. 500 b_accuracy 0.9310036284467328\n",
            "test obs. 500 accuracy 0.6200145032632343\n",
            "test obs. 500 b_accuracy 0.8089549394473894\n",
            "\n",
            "train obs. 1000 accuracy 0.877\n",
            "train obs. 1000 b_accuracy 0.9266222096850557\n",
            "test obs. 1000 accuracy 0.7781000725163162\n",
            "test obs. 1000 b_accuracy 0.8242261230614653\n",
            "\n",
            "train obs. 2000 accuracy 0.903\n",
            "train obs. 2000 b_accuracy 0.9342202662072603\n",
            "test obs. 2000 accuracy 0.8462654097171863\n",
            "test obs. 2000 b_accuracy 0.8539742445884755\n",
            "\n",
            "train obs. 5000 accuracy 0.9376\n",
            "train obs. 5000 b_accuracy 0.950819442269889\n",
            "test obs. 5000 accuracy 0.9050036258158085\n",
            "test obs. 5000 b_accuracy 0.9104573312399569\n",
            "\n"
          ],
          "name": "stdout"
        }
      ]
    },
    {
      "cell_type": "markdown",
      "metadata": {
        "colab_type": "text",
        "id": "uQOx-1YTRxxf"
      },
      "source": [
        "##CNN"
      ]
    },
    {
      "cell_type": "code",
      "metadata": {
        "colab_type": "code",
        "id": "nc-BPUUHRxxj",
        "colab": {
          "base_uri": "https://localhost:8080/",
          "height": 1000
        },
        "outputId": "17b82cab-729c-4245-9874-e2685a04653c"
      },
      "source": [
        "for obs in [500,1000,2000,5000]:\n",
        "     run_CNN(X_train_pad_fr,y_train_enc_fr,X_val_pad_fr,y_val_enc_fr,X_test_pad_fr,y_test_fr,vocab_size_fr,embedding_matrix_fr,class_weight_dict_fr,obs)\n"
      ],
      "execution_count": null,
      "outputs": [
        {
          "output_type": "stream",
          "text": [
            "Epoch 1/50\n",
            "2/2 [==============================] - 0s 93ms/step - loss: 5.0520 - accuracy: 0.0120 - val_loss: 4.4206 - val_accuracy: 0.0044\n",
            "Epoch 2/50\n",
            "2/2 [==============================] - 0s 34ms/step - loss: 4.7636 - accuracy: 0.0220 - val_loss: 4.2703 - val_accuracy: 0.0177\n",
            "Epoch 3/50\n",
            "2/2 [==============================] - 0s 34ms/step - loss: 4.4061 - accuracy: 0.0300 - val_loss: 4.1345 - val_accuracy: 0.0339\n",
            "Epoch 4/50\n",
            "2/2 [==============================] - 0s 34ms/step - loss: 4.1948 - accuracy: 0.0620 - val_loss: 4.0397 - val_accuracy: 0.0376\n",
            "Epoch 5/50\n",
            "2/2 [==============================] - 0s 34ms/step - loss: 3.9230 - accuracy: 0.1400 - val_loss: 3.9667 - val_accuracy: 0.1395\n",
            "Epoch 6/50\n",
            "2/2 [==============================] - 0s 35ms/step - loss: 3.6736 - accuracy: 0.1740 - val_loss: 3.8795 - val_accuracy: 0.1402\n",
            "Epoch 7/50\n",
            "2/2 [==============================] - 0s 34ms/step - loss: 3.3229 - accuracy: 0.1880 - val_loss: 3.7137 - val_accuracy: 0.1904\n",
            "Epoch 8/50\n",
            "2/2 [==============================] - 0s 36ms/step - loss: 3.0242 - accuracy: 0.2720 - val_loss: 3.5128 - val_accuracy: 0.2782\n",
            "Epoch 9/50\n",
            "2/2 [==============================] - 0s 35ms/step - loss: 2.7899 - accuracy: 0.3920 - val_loss: 3.2936 - val_accuracy: 0.3779\n",
            "Epoch 10/50\n",
            "2/2 [==============================] - 0s 36ms/step - loss: 2.3815 - accuracy: 0.4960 - val_loss: 3.0775 - val_accuracy: 0.4251\n",
            "Epoch 11/50\n",
            "2/2 [==============================] - 0s 36ms/step - loss: 2.0476 - accuracy: 0.5920 - val_loss: 2.8757 - val_accuracy: 0.4554\n",
            "Epoch 12/50\n",
            "2/2 [==============================] - 0s 33ms/step - loss: 1.7740 - accuracy: 0.6020 - val_loss: 2.6695 - val_accuracy: 0.5077\n",
            "Epoch 13/50\n",
            "2/2 [==============================] - 0s 35ms/step - loss: 1.5389 - accuracy: 0.6860 - val_loss: 2.4862 - val_accuracy: 0.5491\n",
            "Epoch 14/50\n",
            "2/2 [==============================] - 0s 34ms/step - loss: 1.3555 - accuracy: 0.7100 - val_loss: 2.3266 - val_accuracy: 0.5764\n",
            "Epoch 15/50\n",
            "2/2 [==============================] - 0s 38ms/step - loss: 1.0787 - accuracy: 0.7540 - val_loss: 2.1700 - val_accuracy: 0.6059\n",
            "Epoch 16/50\n",
            "2/2 [==============================] - 0s 34ms/step - loss: 0.8864 - accuracy: 0.8120 - val_loss: 2.0256 - val_accuracy: 0.6295\n",
            "Epoch 17/50\n",
            "2/2 [==============================] - 0s 35ms/step - loss: 0.7280 - accuracy: 0.8340 - val_loss: 1.8786 - val_accuracy: 0.6531\n",
            "Epoch 18/50\n",
            "2/2 [==============================] - 0s 37ms/step - loss: 0.6177 - accuracy: 0.8780 - val_loss: 1.7570 - val_accuracy: 0.6760\n",
            "Epoch 19/50\n",
            "2/2 [==============================] - 0s 35ms/step - loss: 0.5025 - accuracy: 0.9020 - val_loss: 1.6754 - val_accuracy: 0.6908\n",
            "Epoch 20/50\n",
            "2/2 [==============================] - 0s 35ms/step - loss: 0.4082 - accuracy: 0.8960 - val_loss: 1.6204 - val_accuracy: 0.6982\n",
            "Epoch 21/50\n",
            "2/2 [==============================] - 0s 35ms/step - loss: 0.3480 - accuracy: 0.9200 - val_loss: 1.5788 - val_accuracy: 0.6930\n",
            "Epoch 22/50\n",
            "2/2 [==============================] - 0s 35ms/step - loss: 0.2706 - accuracy: 0.9340 - val_loss: 1.5449 - val_accuracy: 0.6974\n",
            "Epoch 23/50\n",
            "2/2 [==============================] - 0s 34ms/step - loss: 0.2463 - accuracy: 0.9140 - val_loss: 1.5101 - val_accuracy: 0.7011\n",
            "Epoch 24/50\n",
            "2/2 [==============================] - 0s 34ms/step - loss: 0.1706 - accuracy: 0.9640 - val_loss: 1.4808 - val_accuracy: 0.7033\n",
            "Epoch 25/50\n",
            "2/2 [==============================] - 0s 38ms/step - loss: 0.1623 - accuracy: 0.9520 - val_loss: 1.4603 - val_accuracy: 0.7085\n",
            "Epoch 26/50\n",
            "2/2 [==============================] - 0s 35ms/step - loss: 0.1432 - accuracy: 0.9660 - val_loss: 1.4440 - val_accuracy: 0.7144\n",
            "Epoch 27/50\n",
            "2/2 [==============================] - 0s 34ms/step - loss: 0.1055 - accuracy: 0.9860 - val_loss: 1.4364 - val_accuracy: 0.7166\n",
            "Epoch 28/50\n",
            "2/2 [==============================] - 0s 34ms/step - loss: 0.0905 - accuracy: 0.9780 - val_loss: 1.4348 - val_accuracy: 0.7166\n",
            "Epoch 29/50\n",
            "2/2 [==============================] - 0s 35ms/step - loss: 0.0734 - accuracy: 0.9840 - val_loss: 1.4353 - val_accuracy: 0.7159\n",
            "Epoch 30/50\n",
            "2/2 [==============================] - 0s 35ms/step - loss: 0.0876 - accuracy: 0.9880 - val_loss: 1.4360 - val_accuracy: 0.7181\n",
            "Epoch 31/50\n",
            "2/2 [==============================] - 0s 36ms/step - loss: 0.0886 - accuracy: 0.9820 - val_loss: 1.4442 - val_accuracy: 0.7181\n",
            "Epoch 32/50\n",
            "2/2 [==============================] - 0s 35ms/step - loss: 0.0605 - accuracy: 0.9880 - val_loss: 1.4567 - val_accuracy: 0.7196\n",
            "Epoch 33/50\n",
            "2/2 [==============================] - 0s 36ms/step - loss: 0.0620 - accuracy: 0.9920 - val_loss: 1.4657 - val_accuracy: 0.7210\n",
            "test obs. 500 accuracy 0.672566371681416\n",
            "test obs. 500 b_accuracy 0.6386339532777006\n",
            "Epoch 1/50\n",
            "4/4 [==============================] - 0s 47ms/step - loss: 4.8821 - accuracy: 0.0150 - val_loss: 4.2262 - val_accuracy: 0.0517\n",
            "Epoch 2/50\n",
            "4/4 [==============================] - 0s 25ms/step - loss: 4.3932 - accuracy: 0.0320 - val_loss: 4.0588 - val_accuracy: 0.1476\n",
            "Epoch 3/50\n",
            "4/4 [==============================] - 0s 27ms/step - loss: 4.0589 - accuracy: 0.0950 - val_loss: 3.8949 - val_accuracy: 0.2531\n",
            "Epoch 4/50\n",
            "4/4 [==============================] - 0s 25ms/step - loss: 3.6732 - accuracy: 0.2040 - val_loss: 3.5615 - val_accuracy: 0.3321\n",
            "Epoch 5/50\n",
            "4/4 [==============================] - 0s 26ms/step - loss: 3.1668 - accuracy: 0.3390 - val_loss: 3.2026 - val_accuracy: 0.4148\n",
            "Epoch 6/50\n",
            "4/4 [==============================] - 0s 25ms/step - loss: 2.6153 - accuracy: 0.4330 - val_loss: 2.6980 - val_accuracy: 0.5255\n",
            "Epoch 7/50\n",
            "4/4 [==============================] - 0s 25ms/step - loss: 2.0611 - accuracy: 0.5760 - val_loss: 2.2323 - val_accuracy: 0.6059\n",
            "Epoch 8/50\n",
            "4/4 [==============================] - 0s 25ms/step - loss: 1.6911 - accuracy: 0.6390 - val_loss: 1.8764 - val_accuracy: 0.6561\n",
            "Epoch 9/50\n",
            "4/4 [==============================] - 0s 28ms/step - loss: 1.2178 - accuracy: 0.7220 - val_loss: 1.5507 - val_accuracy: 0.6863\n",
            "Epoch 10/50\n",
            "4/4 [==============================] - 0s 26ms/step - loss: 0.9758 - accuracy: 0.7660 - val_loss: 1.3390 - val_accuracy: 0.7159\n",
            "Epoch 11/50\n",
            "4/4 [==============================] - 0s 27ms/step - loss: 0.8090 - accuracy: 0.8050 - val_loss: 1.2235 - val_accuracy: 0.7328\n",
            "Epoch 12/50\n",
            "4/4 [==============================] - 0s 27ms/step - loss: 0.6280 - accuracy: 0.8440 - val_loss: 1.1543 - val_accuracy: 0.7424\n",
            "Epoch 13/50\n",
            "4/4 [==============================] - 0s 26ms/step - loss: 0.4174 - accuracy: 0.8910 - val_loss: 1.0808 - val_accuracy: 0.7594\n",
            "Epoch 14/50\n",
            "4/4 [==============================] - 0s 27ms/step - loss: 0.3587 - accuracy: 0.9060 - val_loss: 1.0422 - val_accuracy: 0.7705\n",
            "Epoch 15/50\n",
            "4/4 [==============================] - 0s 25ms/step - loss: 0.3006 - accuracy: 0.9200 - val_loss: 1.0107 - val_accuracy: 0.7727\n",
            "Epoch 16/50\n",
            "4/4 [==============================] - 0s 25ms/step - loss: 0.2208 - accuracy: 0.9350 - val_loss: 0.9935 - val_accuracy: 0.7734\n",
            "Epoch 17/50\n",
            "4/4 [==============================] - 0s 25ms/step - loss: 0.2118 - accuracy: 0.9360 - val_loss: 0.9797 - val_accuracy: 0.7756\n",
            "Epoch 18/50\n",
            "4/4 [==============================] - 0s 26ms/step - loss: 0.1819 - accuracy: 0.9550 - val_loss: 0.9715 - val_accuracy: 0.7808\n",
            "Epoch 19/50\n",
            "4/4 [==============================] - 0s 25ms/step - loss: 0.1578 - accuracy: 0.9550 - val_loss: 0.9694 - val_accuracy: 0.7860\n",
            "Epoch 20/50\n",
            "4/4 [==============================] - 0s 25ms/step - loss: 0.1329 - accuracy: 0.9670 - val_loss: 0.9783 - val_accuracy: 0.7830\n",
            "Epoch 21/50\n",
            "4/4 [==============================] - 0s 25ms/step - loss: 0.1379 - accuracy: 0.9560 - val_loss: 0.9835 - val_accuracy: 0.7801\n",
            "Epoch 22/50\n",
            "4/4 [==============================] - 0s 25ms/step - loss: 0.1147 - accuracy: 0.9680 - val_loss: 0.9833 - val_accuracy: 0.7808\n",
            "Epoch 23/50\n",
            "4/4 [==============================] - 0s 24ms/step - loss: 0.1049 - accuracy: 0.9690 - val_loss: 0.9777 - val_accuracy: 0.7889\n",
            "Epoch 24/50\n",
            "4/4 [==============================] - 0s 27ms/step - loss: 0.0933 - accuracy: 0.9760 - val_loss: 0.9798 - val_accuracy: 0.7845\n",
            "test obs. 1000 accuracy 0.7367256637168141\n",
            "test obs. 1000 b_accuracy 0.709570258801028\n",
            "Epoch 1/50\n",
            "8/8 [==============================] - 0s 34ms/step - loss: 4.6335 - accuracy: 0.0170 - val_loss: 4.0854 - val_accuracy: 0.1506\n",
            "Epoch 2/50\n",
            "8/8 [==============================] - 0s 22ms/step - loss: 4.0040 - accuracy: 0.1065 - val_loss: 3.6288 - val_accuracy: 0.3321\n",
            "Epoch 3/50\n",
            "8/8 [==============================] - 0s 21ms/step - loss: 3.3887 - accuracy: 0.3045 - val_loss: 2.7911 - val_accuracy: 0.5417\n",
            "Epoch 4/50\n",
            "8/8 [==============================] - 0s 21ms/step - loss: 2.4925 - accuracy: 0.5235 - val_loss: 1.8267 - val_accuracy: 0.6694\n",
            "Epoch 5/50\n",
            "8/8 [==============================] - 0s 21ms/step - loss: 1.6976 - accuracy: 0.6660 - val_loss: 1.2944 - val_accuracy: 0.7528\n",
            "Epoch 6/50\n",
            "8/8 [==============================] - 0s 21ms/step - loss: 1.1582 - accuracy: 0.7265 - val_loss: 0.9974 - val_accuracy: 0.7852\n",
            "Epoch 7/50\n",
            "8/8 [==============================] - 0s 21ms/step - loss: 0.8790 - accuracy: 0.7810 - val_loss: 0.8613 - val_accuracy: 0.8125\n",
            "Epoch 8/50\n",
            "8/8 [==============================] - 0s 20ms/step - loss: 0.6245 - accuracy: 0.8355 - val_loss: 0.7894 - val_accuracy: 0.8310\n",
            "Epoch 9/50\n",
            "8/8 [==============================] - 0s 20ms/step - loss: 0.4563 - accuracy: 0.8630 - val_loss: 0.7106 - val_accuracy: 0.8339\n",
            "Epoch 10/50\n",
            "8/8 [==============================] - 0s 21ms/step - loss: 0.3593 - accuracy: 0.8990 - val_loss: 0.6807 - val_accuracy: 0.8472\n",
            "Epoch 11/50\n",
            "8/8 [==============================] - 0s 20ms/step - loss: 0.2891 - accuracy: 0.9210 - val_loss: 0.6753 - val_accuracy: 0.8509\n",
            "Epoch 12/50\n",
            "8/8 [==============================] - 0s 20ms/step - loss: 0.2122 - accuracy: 0.9335 - val_loss: 0.6598 - val_accuracy: 0.8502\n",
            "Epoch 13/50\n",
            "8/8 [==============================] - 0s 22ms/step - loss: 0.1842 - accuracy: 0.9465 - val_loss: 0.6468 - val_accuracy: 0.8620\n",
            "Epoch 14/50\n",
            "8/8 [==============================] - 0s 20ms/step - loss: 0.1540 - accuracy: 0.9575 - val_loss: 0.6512 - val_accuracy: 0.8524\n",
            "Epoch 15/50\n",
            "8/8 [==============================] - 0s 20ms/step - loss: 0.1519 - accuracy: 0.9590 - val_loss: 0.6665 - val_accuracy: 0.8465\n",
            "Epoch 16/50\n",
            "8/8 [==============================] - 0s 21ms/step - loss: 0.1094 - accuracy: 0.9660 - val_loss: 0.6555 - val_accuracy: 0.8539\n",
            "Epoch 17/50\n",
            "8/8 [==============================] - 0s 20ms/step - loss: 0.0869 - accuracy: 0.9700 - val_loss: 0.6469 - val_accuracy: 0.8576\n",
            "Epoch 18/50\n",
            "8/8 [==============================] - 0s 22ms/step - loss: 0.0935 - accuracy: 0.9780 - val_loss: 0.6568 - val_accuracy: 0.8561\n",
            "test obs. 2000 accuracy 0.8163716814159292\n",
            "test obs. 2000 b_accuracy 0.8021930760626933\n",
            "Epoch 1/50\n",
            "20/20 [==============================] - 0s 22ms/step - loss: 4.1833 - accuracy: 0.1198 - val_loss: 3.1325 - val_accuracy: 0.5365\n",
            "Epoch 2/50\n",
            "20/20 [==============================] - 0s 18ms/step - loss: 2.4850 - accuracy: 0.5212 - val_loss: 1.2740 - val_accuracy: 0.7424\n",
            "Epoch 3/50\n",
            "20/20 [==============================] - 0s 18ms/step - loss: 1.2493 - accuracy: 0.7050 - val_loss: 0.8551 - val_accuracy: 0.8052\n",
            "Epoch 4/50\n",
            "20/20 [==============================] - 0s 18ms/step - loss: 0.7679 - accuracy: 0.7990 - val_loss: 0.6029 - val_accuracy: 0.8561\n",
            "Epoch 5/50\n",
            "20/20 [==============================] - 0s 18ms/step - loss: 0.4896 - accuracy: 0.8606 - val_loss: 0.4896 - val_accuracy: 0.8812\n",
            "Epoch 6/50\n",
            "20/20 [==============================] - 0s 18ms/step - loss: 0.3649 - accuracy: 0.9010 - val_loss: 0.4066 - val_accuracy: 0.8996\n",
            "Epoch 7/50\n",
            "20/20 [==============================] - 0s 18ms/step - loss: 0.2599 - accuracy: 0.9182 - val_loss: 0.3617 - val_accuracy: 0.9166\n",
            "Epoch 8/50\n",
            "20/20 [==============================] - 0s 18ms/step - loss: 0.2102 - accuracy: 0.9388 - val_loss: 0.3536 - val_accuracy: 0.9196\n",
            "Epoch 9/50\n",
            "20/20 [==============================] - 0s 18ms/step - loss: 0.1653 - accuracy: 0.9492 - val_loss: 0.3376 - val_accuracy: 0.9210\n",
            "Epoch 10/50\n",
            "20/20 [==============================] - 0s 18ms/step - loss: 0.1104 - accuracy: 0.9610 - val_loss: 0.3204 - val_accuracy: 0.9269\n",
            "Epoch 11/50\n",
            "20/20 [==============================] - 0s 19ms/step - loss: 0.1175 - accuracy: 0.9616 - val_loss: 0.3080 - val_accuracy: 0.9351\n",
            "Epoch 12/50\n",
            "20/20 [==============================] - 0s 18ms/step - loss: 0.0855 - accuracy: 0.9748 - val_loss: 0.3056 - val_accuracy: 0.9402\n",
            "Epoch 13/50\n",
            "20/20 [==============================] - 0s 18ms/step - loss: 0.0884 - accuracy: 0.9690 - val_loss: 0.3322 - val_accuracy: 0.9395\n",
            "Epoch 14/50\n",
            "20/20 [==============================] - 0s 18ms/step - loss: 0.0786 - accuracy: 0.9758 - val_loss: 0.3162 - val_accuracy: 0.9387\n",
            "Epoch 15/50\n",
            "20/20 [==============================] - 0s 18ms/step - loss: 0.0913 - accuracy: 0.9738 - val_loss: 0.3136 - val_accuracy: 0.9387\n",
            "Epoch 16/50\n",
            "20/20 [==============================] - 0s 18ms/step - loss: 0.0714 - accuracy: 0.9772 - val_loss: 0.3314 - val_accuracy: 0.9380\n",
            "Epoch 17/50\n",
            "20/20 [==============================] - 0s 18ms/step - loss: 0.0646 - accuracy: 0.9804 - val_loss: 0.3362 - val_accuracy: 0.9417\n",
            "test obs. 5000 accuracy 0.9424778761061947\n",
            "test obs. 5000 b_accuracy 0.9070852772958036\n"
          ],
          "name": "stdout"
        }
      ]
    },
    {
      "cell_type": "markdown",
      "metadata": {
        "colab_type": "text",
        "id": "Ak041rTCRxxl"
      },
      "source": [
        "## RNN"
      ]
    },
    {
      "cell_type": "code",
      "metadata": {
        "colab_type": "code",
        "id": "NWAf2EVxRxxn",
        "colab": {
          "base_uri": "https://localhost:8080/",
          "height": 1000
        },
        "outputId": "bc847ff8-7cee-4afe-9864-c1d001858b21"
      },
      "source": [
        "for obs in [500,1000,2000,5000]:\n",
        "     run_RNN(X_train_pad_fr,y_train_enc_fr,X_val_pad_fr,y_val_enc_fr,X_test_pad_fr,y_test_fr,vocab_size_fr,embedding_matrix_fr,class_weight_dict_fr,obs)\n"
      ],
      "execution_count": null,
      "outputs": [
        {
          "output_type": "stream",
          "text": [
            "Epoch 1/50\n",
            "2/2 [==============================] - 1s 340ms/step - loss: 4.6244 - accuracy: 0.0180 - val_loss: 4.2526 - val_accuracy: 0.0391\n",
            "Epoch 2/50\n",
            "2/2 [==============================] - 0s 48ms/step - loss: 4.5112 - accuracy: 0.0400 - val_loss: 4.2063 - val_accuracy: 0.0347\n",
            "Epoch 3/50\n",
            "2/2 [==============================] - 0s 46ms/step - loss: 4.4092 - accuracy: 0.0260 - val_loss: 4.1770 - val_accuracy: 0.0177\n",
            "Epoch 4/50\n",
            "2/2 [==============================] - 0s 46ms/step - loss: 4.2259 - accuracy: 0.0320 - val_loss: 4.0182 - val_accuracy: 0.0502\n",
            "Epoch 5/50\n",
            "2/2 [==============================] - 0s 47ms/step - loss: 3.8591 - accuracy: 0.0940 - val_loss: 3.7565 - val_accuracy: 0.0841\n",
            "Epoch 6/50\n",
            "2/2 [==============================] - 0s 46ms/step - loss: 3.4524 - accuracy: 0.1760 - val_loss: 3.3949 - val_accuracy: 0.2170\n",
            "Epoch 7/50\n",
            "2/2 [==============================] - 0s 47ms/step - loss: 3.0487 - accuracy: 0.2620 - val_loss: 3.2167 - val_accuracy: 0.2125\n",
            "Epoch 8/50\n",
            "2/2 [==============================] - 0s 45ms/step - loss: 2.7102 - accuracy: 0.3060 - val_loss: 2.9102 - val_accuracy: 0.3166\n",
            "Epoch 9/50\n",
            "2/2 [==============================] - 0s 47ms/step - loss: 2.2427 - accuracy: 0.4340 - val_loss: 2.6217 - val_accuracy: 0.3631\n",
            "Epoch 10/50\n",
            "2/2 [==============================] - 0s 46ms/step - loss: 1.8686 - accuracy: 0.5540 - val_loss: 2.4379 - val_accuracy: 0.4192\n",
            "Epoch 11/50\n",
            "2/2 [==============================] - 0s 46ms/step - loss: 1.4817 - accuracy: 0.6100 - val_loss: 2.2958 - val_accuracy: 0.4731\n",
            "Epoch 12/50\n",
            "2/2 [==============================] - 0s 45ms/step - loss: 1.1340 - accuracy: 0.6860 - val_loss: 2.1215 - val_accuracy: 0.5122\n",
            "Epoch 13/50\n",
            "2/2 [==============================] - 0s 49ms/step - loss: 0.9255 - accuracy: 0.7720 - val_loss: 1.9962 - val_accuracy: 0.5727\n",
            "Epoch 14/50\n",
            "2/2 [==============================] - 0s 46ms/step - loss: 0.7231 - accuracy: 0.8320 - val_loss: 2.0417 - val_accuracy: 0.5668\n",
            "Epoch 15/50\n",
            "2/2 [==============================] - 0s 46ms/step - loss: 0.5803 - accuracy: 0.8620 - val_loss: 1.9390 - val_accuracy: 0.5985\n",
            "Epoch 16/50\n",
            "2/2 [==============================] - 0s 45ms/step - loss: 0.4221 - accuracy: 0.9020 - val_loss: 1.9506 - val_accuracy: 0.6074\n",
            "Epoch 17/50\n",
            "2/2 [==============================] - 0s 46ms/step - loss: 0.3462 - accuracy: 0.9140 - val_loss: 1.8345 - val_accuracy: 0.6369\n",
            "Epoch 18/50\n",
            "2/2 [==============================] - 0s 47ms/step - loss: 0.2426 - accuracy: 0.9420 - val_loss: 1.7882 - val_accuracy: 0.6539\n",
            "Epoch 19/50\n",
            "2/2 [==============================] - 0s 45ms/step - loss: 0.2051 - accuracy: 0.9500 - val_loss: 1.8406 - val_accuracy: 0.6421\n",
            "Epoch 20/50\n",
            "2/2 [==============================] - 0s 47ms/step - loss: 0.1219 - accuracy: 0.9720 - val_loss: 1.8630 - val_accuracy: 0.6502\n",
            "Epoch 21/50\n",
            "2/2 [==============================] - 0s 48ms/step - loss: 0.0983 - accuracy: 0.9780 - val_loss: 1.8929 - val_accuracy: 0.6561\n",
            "Epoch 22/50\n",
            "2/2 [==============================] - 0s 49ms/step - loss: 0.0841 - accuracy: 0.9880 - val_loss: 1.9183 - val_accuracy: 0.6672\n",
            "Epoch 23/50\n",
            "2/2 [==============================] - 0s 48ms/step - loss: 0.0742 - accuracy: 0.9820 - val_loss: 1.9603 - val_accuracy: 0.6642\n",
            "test obs. 500 accuracy 0.6305309734513275\n",
            "test obs. 500 b_accuracy 0.6191047065721883\n",
            "\n",
            "Epoch 1/50\n",
            "4/4 [==============================] - 1s 175ms/step - loss: 4.4385 - accuracy: 0.0100 - val_loss: 4.2046 - val_accuracy: 0.0221\n",
            "Epoch 2/50\n",
            "4/4 [==============================] - 0s 35ms/step - loss: 4.2421 - accuracy: 0.0430 - val_loss: 3.9046 - val_accuracy: 0.0627\n",
            "Epoch 3/50\n",
            "4/4 [==============================] - 0s 35ms/step - loss: 3.8837 - accuracy: 0.0860 - val_loss: 3.6780 - val_accuracy: 0.1771\n",
            "Epoch 4/50\n",
            "4/4 [==============================] - 0s 35ms/step - loss: 3.3829 - accuracy: 0.1850 - val_loss: 3.0758 - val_accuracy: 0.2443\n",
            "Epoch 5/50\n",
            "4/4 [==============================] - 0s 34ms/step - loss: 2.7745 - accuracy: 0.3210 - val_loss: 2.3851 - val_accuracy: 0.4834\n",
            "Epoch 6/50\n",
            "4/4 [==============================] - 0s 35ms/step - loss: 2.1206 - accuracy: 0.5310 - val_loss: 1.8596 - val_accuracy: 0.5926\n",
            "Epoch 7/50\n",
            "4/4 [==============================] - 0s 36ms/step - loss: 1.5915 - accuracy: 0.6540 - val_loss: 1.5428 - val_accuracy: 0.6502\n",
            "Epoch 8/50\n",
            "4/4 [==============================] - 0s 34ms/step - loss: 1.1651 - accuracy: 0.7190 - val_loss: 1.4166 - val_accuracy: 0.6679\n",
            "Epoch 9/50\n",
            "4/4 [==============================] - 0s 36ms/step - loss: 0.9048 - accuracy: 0.7780 - val_loss: 1.3420 - val_accuracy: 0.6878\n",
            "Epoch 10/50\n",
            "4/4 [==============================] - 0s 36ms/step - loss: 0.6675 - accuracy: 0.8260 - val_loss: 1.2635 - val_accuracy: 0.6967\n",
            "Epoch 11/50\n",
            "4/4 [==============================] - 0s 35ms/step - loss: 0.5092 - accuracy: 0.8530 - val_loss: 1.2285 - val_accuracy: 0.7048\n",
            "Epoch 12/50\n",
            "4/4 [==============================] - 0s 35ms/step - loss: 0.4223 - accuracy: 0.8810 - val_loss: 1.2269 - val_accuracy: 0.7173\n",
            "Epoch 13/50\n",
            "4/4 [==============================] - 0s 35ms/step - loss: 0.2729 - accuracy: 0.9150 - val_loss: 1.2066 - val_accuracy: 0.7446\n",
            "Epoch 14/50\n",
            "4/4 [==============================] - 0s 34ms/step - loss: 0.2062 - accuracy: 0.9360 - val_loss: 1.2181 - val_accuracy: 0.7454\n",
            "Epoch 15/50\n",
            "4/4 [==============================] - 0s 35ms/step - loss: 0.1749 - accuracy: 0.9470 - val_loss: 1.2311 - val_accuracy: 0.7446\n",
            "Epoch 16/50\n",
            "4/4 [==============================] - 0s 35ms/step - loss: 0.1806 - accuracy: 0.9590 - val_loss: 1.2421 - val_accuracy: 0.7542\n",
            "Epoch 17/50\n",
            "4/4 [==============================] - 0s 35ms/step - loss: 0.1330 - accuracy: 0.9650 - val_loss: 1.3368 - val_accuracy: 0.7343\n",
            "Epoch 18/50\n",
            "4/4 [==============================] - 0s 34ms/step - loss: 0.1793 - accuracy: 0.9450 - val_loss: 1.2804 - val_accuracy: 0.7506\n",
            "test obs. 1000 accuracy 0.7190265486725663\n",
            "test obs. 1000 b_accuracy 0.6617529507529508\n",
            "\n",
            "Epoch 1/50\n",
            "8/8 [==============================] - 1s 100ms/step - loss: 4.3118 - accuracy: 0.0470 - val_loss: 4.0064 - val_accuracy: 0.1624\n",
            "Epoch 2/50\n",
            "8/8 [==============================] - 0s 28ms/step - loss: 3.7292 - accuracy: 0.2060 - val_loss: 2.8533 - val_accuracy: 0.4148\n",
            "Epoch 3/50\n",
            "8/8 [==============================] - 0s 28ms/step - loss: 2.7368 - accuracy: 0.4065 - val_loss: 1.9565 - val_accuracy: 0.5483\n",
            "Epoch 4/50\n",
            "8/8 [==============================] - 0s 29ms/step - loss: 1.8689 - accuracy: 0.5800 - val_loss: 1.3718 - val_accuracy: 0.6745\n",
            "Epoch 5/50\n",
            "8/8 [==============================] - 0s 29ms/step - loss: 1.2395 - accuracy: 0.6955 - val_loss: 1.1371 - val_accuracy: 0.7181\n",
            "Epoch 6/50\n",
            "8/8 [==============================] - 0s 29ms/step - loss: 0.8466 - accuracy: 0.7955 - val_loss: 1.0362 - val_accuracy: 0.7469\n",
            "Epoch 7/50\n",
            "8/8 [==============================] - 0s 29ms/step - loss: 0.5750 - accuracy: 0.8485 - val_loss: 0.9453 - val_accuracy: 0.7823\n",
            "Epoch 8/50\n",
            "8/8 [==============================] - 0s 28ms/step - loss: 0.4131 - accuracy: 0.8800 - val_loss: 0.9421 - val_accuracy: 0.7882\n",
            "Epoch 9/50\n",
            "8/8 [==============================] - 0s 30ms/step - loss: 0.2674 - accuracy: 0.9195 - val_loss: 0.9709 - val_accuracy: 0.7963\n",
            "Epoch 10/50\n",
            "8/8 [==============================] - 0s 29ms/step - loss: 0.1797 - accuracy: 0.9435 - val_loss: 1.0021 - val_accuracy: 0.7970\n",
            "Epoch 11/50\n",
            "8/8 [==============================] - 0s 29ms/step - loss: 0.1759 - accuracy: 0.9500 - val_loss: 1.0156 - val_accuracy: 0.7956\n",
            "Epoch 12/50\n",
            "8/8 [==============================] - 0s 28ms/step - loss: 0.1460 - accuracy: 0.9475 - val_loss: 1.0273 - val_accuracy: 0.7970\n",
            "Epoch 13/50\n",
            "8/8 [==============================] - 0s 29ms/step - loss: 0.1290 - accuracy: 0.9605 - val_loss: 1.0657 - val_accuracy: 0.8037\n",
            "test obs. 2000 accuracy 0.7632743362831859\n",
            "test obs. 2000 b_accuracy 0.7280337285385572\n",
            "\n",
            "Epoch 1/50\n",
            "20/20 [==============================] - 1s 54ms/step - loss: 3.8165 - accuracy: 0.1492 - val_loss: 2.2254 - val_accuracy: 0.5424\n",
            "Epoch 2/50\n",
            "20/20 [==============================] - 0s 25ms/step - loss: 1.9289 - accuracy: 0.5766 - val_loss: 1.0782 - val_accuracy: 0.7196\n",
            "Epoch 3/50\n",
            "20/20 [==============================] - 1s 25ms/step - loss: 1.0167 - accuracy: 0.7394 - val_loss: 0.7922 - val_accuracy: 0.7956\n",
            "Epoch 4/50\n",
            "20/20 [==============================] - 1s 25ms/step - loss: 0.6649 - accuracy: 0.8174 - val_loss: 0.6750 - val_accuracy: 0.8339\n",
            "Epoch 5/50\n",
            "20/20 [==============================] - 1s 25ms/step - loss: 0.4680 - accuracy: 0.8710 - val_loss: 0.6082 - val_accuracy: 0.8561\n",
            "Epoch 6/50\n",
            "20/20 [==============================] - 1s 25ms/step - loss: 0.3798 - accuracy: 0.8950 - val_loss: 0.5583 - val_accuracy: 0.8708\n",
            "Epoch 7/50\n",
            "20/20 [==============================] - 1s 25ms/step - loss: 0.2745 - accuracy: 0.9214 - val_loss: 0.6047 - val_accuracy: 0.8613\n",
            "Epoch 8/50\n",
            "20/20 [==============================] - 1s 25ms/step - loss: 0.2412 - accuracy: 0.9274 - val_loss: 0.5219 - val_accuracy: 0.8930\n",
            "Epoch 9/50\n",
            "20/20 [==============================] - 1s 25ms/step - loss: 0.1958 - accuracy: 0.9452 - val_loss: 0.5207 - val_accuracy: 0.8996\n",
            "Epoch 10/50\n",
            "20/20 [==============================] - 1s 25ms/step - loss: 0.1335 - accuracy: 0.9554 - val_loss: 0.5059 - val_accuracy: 0.9011\n",
            "Epoch 11/50\n",
            "20/20 [==============================] - 1s 25ms/step - loss: 0.1011 - accuracy: 0.9674 - val_loss: 0.5242 - val_accuracy: 0.9011\n",
            "Epoch 12/50\n",
            "20/20 [==============================] - 0s 25ms/step - loss: 0.1123 - accuracy: 0.9600 - val_loss: 0.5450 - val_accuracy: 0.8893\n",
            "Epoch 13/50\n",
            "20/20 [==============================] - 1s 25ms/step - loss: 0.1044 - accuracy: 0.9670 - val_loss: 0.5106 - val_accuracy: 0.9004\n",
            "Epoch 14/50\n",
            "20/20 [==============================] - 0s 25ms/step - loss: 0.0799 - accuracy: 0.9714 - val_loss: 0.4914 - val_accuracy: 0.9181\n",
            "Epoch 15/50\n",
            "20/20 [==============================] - 1s 25ms/step - loss: 0.0599 - accuracy: 0.9772 - val_loss: 0.4977 - val_accuracy: 0.9137\n",
            "Epoch 16/50\n",
            "20/20 [==============================] - 1s 25ms/step - loss: 0.0430 - accuracy: 0.9818 - val_loss: 0.4766 - val_accuracy: 0.9188\n",
            "Epoch 17/50\n",
            "20/20 [==============================] - 1s 25ms/step - loss: 0.0341 - accuracy: 0.9870 - val_loss: 0.4825 - val_accuracy: 0.9232\n",
            "Epoch 18/50\n",
            "20/20 [==============================] - 1s 25ms/step - loss: 0.0292 - accuracy: 0.9886 - val_loss: 0.4811 - val_accuracy: 0.9284\n",
            "Epoch 19/50\n",
            "20/20 [==============================] - 1s 25ms/step - loss: 0.0312 - accuracy: 0.9878 - val_loss: 0.4869 - val_accuracy: 0.9277\n",
            "Epoch 20/50\n",
            "20/20 [==============================] - 1s 25ms/step - loss: 0.0372 - accuracy: 0.9868 - val_loss: 0.4673 - val_accuracy: 0.9269\n",
            "Epoch 21/50\n",
            "20/20 [==============================] - 1s 25ms/step - loss: 0.0259 - accuracy: 0.9890 - val_loss: 0.5042 - val_accuracy: 0.9284\n",
            "Epoch 22/50\n",
            "20/20 [==============================] - 0s 25ms/step - loss: 0.0290 - accuracy: 0.9910 - val_loss: 0.5188 - val_accuracy: 0.9218\n",
            "Epoch 23/50\n",
            "20/20 [==============================] - 1s 26ms/step - loss: 0.0286 - accuracy: 0.9902 - val_loss: 0.5120 - val_accuracy: 0.9232\n",
            "Epoch 24/50\n",
            "20/20 [==============================] - 1s 25ms/step - loss: 0.0269 - accuracy: 0.9922 - val_loss: 0.5126 - val_accuracy: 0.9269\n",
            "Epoch 25/50\n",
            "20/20 [==============================] - 1s 25ms/step - loss: 0.0423 - accuracy: 0.9882 - val_loss: 0.4990 - val_accuracy: 0.9277\n",
            "test obs. 5000 accuracy 0.9269911504424779\n",
            "test obs. 5000 b_accuracy 0.8962534758688604\n",
            "\n"
          ],
          "name": "stdout"
        }
      ]
    },
    {
      "cell_type": "markdown",
      "metadata": {
        "id": "B6K49N-YR5bA",
        "colab_type": "text"
      },
      "source": [
        "# Multilingual Transfer"
      ]
    },
    {
      "cell_type": "markdown",
      "metadata": {
        "id": "dTxZorK9mM3F",
        "colab_type": "text"
      },
      "source": [
        "load embedings  \n",
        "we only load a \"slim\" version of the embeddings, which are a subset of the vocab (less than 5%) the time loading the embeddings decreases from 15 min to 7 sec and colab is capable of loading more than two languages (embedding)"
      ]
    },
    {
      "cell_type": "markdown",
      "metadata": {
        "id": "cjj7J65SZxsE",
        "colab_type": "text"
      },
      "source": [
        "### Co2"
      ]
    },
    {
      "cell_type": "code",
      "metadata": {
        "id": "tvdEBWzmZ2wC",
        "colab_type": "code",
        "colab": {
          "base_uri": "https://localhost:8080/"
        },
        "outputId": "c5ffc11b-a0d3-4f7d-b86c-c6612dfb7dec"
      },
      "source": [
        "!pip install experiment-impact-tracker"
      ],
      "execution_count": null,
      "outputs": [
        {
          "output_type": "stream",
          "text": [
            "Collecting experiment-impact-tracker\n",
            "\u001b[?25l  Downloading https://files.pythonhosted.org/packages/3c/ce/19d9b83a78998aaaf195af8217dc963004595156d3497c4f490dc7680d1e/experiment_impact_tracker-0.1.8-py2.py3-none-any.whl (10.5MB)\n",
            "\u001b[K     |████████████████████████████████| 10.5MB 2.8MB/s \n",
            "\u001b[?25hRequirement already satisfied: shapely in /usr/local/lib/python3.6/dist-packages (from experiment-impact-tracker) (1.7.0)\n",
            "Requirement already satisfied: pandas>0.25.0 in /usr/local/lib/python3.6/dist-packages (from experiment-impact-tracker) (1.0.4)\n",
            "Collecting deepdiff\n",
            "\u001b[?25l  Downloading https://files.pythonhosted.org/packages/eb/b0/26db3e57e286d95120bc653d59acc3bcfa90cb977be50d97c4d1c2ff65bf/deepdiff-4.3.2-py3-none-any.whl (48kB)\n",
            "\u001b[K     |████████████████████████████████| 51kB 6.3MB/s \n",
            "\u001b[?25hRequirement already satisfied: jinja2 in /usr/local/lib/python3.6/dist-packages (from experiment-impact-tracker) (2.11.2)\n",
            "Collecting arrow\n",
            "\u001b[?25l  Downloading https://files.pythonhosted.org/packages/36/cf/9e503ab3007c531a7d773e65261ae2c732f7663185bf7e5091c5ea852846/arrow-0.15.7-py2.py3-none-any.whl (48kB)\n",
            "\u001b[K     |████████████████████████████████| 51kB 6.7MB/s \n",
            "\u001b[?25hRequirement already satisfied: joblib in /usr/local/lib/python3.6/dist-packages (from experiment-impact-tracker) (0.15.1)\n",
            "Collecting pylatex\n",
            "\u001b[?25l  Downloading https://files.pythonhosted.org/packages/4b/87/6e903e31a7c07f12aa4b43a7b8fc06b006ef2c0d4214e85661b3da40bfd3/PyLaTeX-1.3.3.tar.gz (83kB)\n",
            "\u001b[K     |████████████████████████████████| 92kB 10.3MB/s \n",
            "\u001b[?25hRequirement already satisfied: psutil in /usr/local/lib/python3.6/dist-packages (from experiment-impact-tracker) (5.4.8)\n",
            "Requirement already satisfied: numpy in /usr/local/lib/python3.6/dist-packages (from experiment-impact-tracker) (1.18.5)\n",
            "Requirement already satisfied: geopy in /usr/local/lib/python3.6/dist-packages (from experiment-impact-tracker) (1.17.0)\n",
            "Collecting py-cpuinfo\n",
            "\u001b[?25l  Downloading https://files.pythonhosted.org/packages/07/92/82c67b9cc9a52adf031494e83fd0fd6261992a583d18cdbd5b6153eed7a1/py-cpuinfo-6.0.0.tar.gz (145kB)\n",
            "\u001b[K     |████████████████████████████████| 153kB 59.5MB/s \n",
            "\u001b[?25hRequirement already satisfied: matplotlib in /usr/local/lib/python3.6/dist-packages (from experiment-impact-tracker) (3.2.1)\n",
            "Collecting ujson\n",
            "\u001b[?25l  Downloading https://files.pythonhosted.org/packages/12/0a/35e07ebe48f0c2a23c316d92c2e26eade75e00a3df0758be57e7804bfbf0/ujson-3.0.0-cp36-cp36m-manylinux1_x86_64.whl (176kB)\n",
            "\u001b[K     |████████████████████████████████| 184kB 59.9MB/s \n",
            "\u001b[?25hRequirement already satisfied: seaborn in /usr/local/lib/python3.6/dist-packages (from experiment-impact-tracker) (0.10.1)\n",
            "Collecting progiter\n",
            "  Downloading https://files.pythonhosted.org/packages/41/6e/31d7e7e7c0ee2f458c438dbfe945d1786f8b5720a03bade5bb1be7c8ee1f/progiter-0.1.3-py3-none-any.whl\n",
            "Requirement already satisfied: scipy in /usr/local/lib/python3.6/dist-packages (from experiment-impact-tracker) (1.4.1)\n",
            "Requirement already satisfied: bs4 in /usr/local/lib/python3.6/dist-packages (from experiment-impact-tracker) (0.0.1)\n",
            "Requirement already satisfied: requests in /usr/local/lib/python3.6/dist-packages (from experiment-impact-tracker) (2.23.0)\n",
            "Collecting bootstrapped\n",
            "  Downloading https://files.pythonhosted.org/packages/b2/f7/beb22809fdc4781ae73d12c78e2cf14ae533ad9eec2fb84ec22e5b0b660c/bootstrapped-0.0.2.tar.gz\n",
            "Collecting geocoder\n",
            "\u001b[?25l  Downloading https://files.pythonhosted.org/packages/4f/6b/13166c909ad2f2d76b929a4227c952630ebaf0d729f6317eb09cbceccbab/geocoder-1.38.1-py2.py3-none-any.whl (98kB)\n",
            "\u001b[K     |████████████████████████████████| 102kB 10.7MB/s \n",
            "\u001b[?25hRequirement already satisfied: python-dateutil>=2.6.1 in /usr/local/lib/python3.6/dist-packages (from pandas>0.25.0->experiment-impact-tracker) (2.8.1)\n",
            "Requirement already satisfied: pytz>=2017.2 in /usr/local/lib/python3.6/dist-packages (from pandas>0.25.0->experiment-impact-tracker) (2018.9)\n",
            "Collecting ordered-set>=3.1.1\n",
            "  Downloading https://files.pythonhosted.org/packages/f5/ab/8252360bfe965bba31ec05112b3067bd129ce4800d89e0b85613bc6044f6/ordered-set-4.0.2.tar.gz\n",
            "Requirement already satisfied: MarkupSafe>=0.23 in /usr/local/lib/python3.6/dist-packages (from jinja2->experiment-impact-tracker) (1.1.1)\n",
            "Requirement already satisfied: geographiclib<2,>=1.49 in /usr/local/lib/python3.6/dist-packages (from geopy->experiment-impact-tracker) (1.50)\n",
            "Requirement already satisfied: pyparsing!=2.0.4,!=2.1.2,!=2.1.6,>=2.0.1 in /usr/local/lib/python3.6/dist-packages (from matplotlib->experiment-impact-tracker) (2.4.7)\n",
            "Requirement already satisfied: cycler>=0.10 in /usr/local/lib/python3.6/dist-packages (from matplotlib->experiment-impact-tracker) (0.10.0)\n",
            "Requirement already satisfied: kiwisolver>=1.0.1 in /usr/local/lib/python3.6/dist-packages (from matplotlib->experiment-impact-tracker) (1.2.0)\n",
            "Requirement already satisfied: beautifulsoup4 in /usr/local/lib/python3.6/dist-packages (from bs4->experiment-impact-tracker) (4.6.3)\n",
            "Requirement already satisfied: urllib3!=1.25.0,!=1.25.1,<1.26,>=1.21.1 in /usr/local/lib/python3.6/dist-packages (from requests->experiment-impact-tracker) (1.24.3)\n",
            "Requirement already satisfied: idna<3,>=2.5 in /usr/local/lib/python3.6/dist-packages (from requests->experiment-impact-tracker) (2.9)\n",
            "Requirement already satisfied: certifi>=2017.4.17 in /usr/local/lib/python3.6/dist-packages (from requests->experiment-impact-tracker) (2020.4.5.2)\n",
            "Requirement already satisfied: chardet<4,>=3.0.2 in /usr/local/lib/python3.6/dist-packages (from requests->experiment-impact-tracker) (3.0.4)\n",
            "Requirement already satisfied: future in /usr/local/lib/python3.6/dist-packages (from geocoder->experiment-impact-tracker) (0.16.0)\n",
            "Collecting ratelim\n",
            "  Downloading https://files.pythonhosted.org/packages/f2/98/7e6d147fd16a10a5f821db6e25f192265d6ecca3d82957a4fdd592cad49c/ratelim-0.1.6-py2.py3-none-any.whl\n",
            "Requirement already satisfied: six in /usr/local/lib/python3.6/dist-packages (from geocoder->experiment-impact-tracker) (1.12.0)\n",
            "Requirement already satisfied: click in /usr/local/lib/python3.6/dist-packages (from geocoder->experiment-impact-tracker) (7.1.2)\n",
            "Requirement already satisfied: decorator in /usr/local/lib/python3.6/dist-packages (from ratelim->geocoder->experiment-impact-tracker) (4.4.2)\n",
            "Building wheels for collected packages: pylatex, py-cpuinfo, bootstrapped, ordered-set\n",
            "  Building wheel for pylatex (setup.py) ... \u001b[?25l\u001b[?25hdone\n",
            "  Created wheel for pylatex: filename=PyLaTeX-1.3.3-cp36-none-any.whl size=42271 sha256=b780c6689e85122396469718f14095e6c8d44d2aeb74561d122757b63c07b818\n",
            "  Stored in directory: /root/.cache/pip/wheels/22/6c/a7/839041ff582d161a6fc0f3c14c28a16a397a045c7c5059d2bf\n",
            "  Building wheel for py-cpuinfo (setup.py) ... \u001b[?25l\u001b[?25hdone\n",
            "  Created wheel for py-cpuinfo: filename=py_cpuinfo-6.0.0-cp36-none-any.whl size=19782 sha256=5f252b22f1ae9856e34f6dc8ca72e8fbe180b4a431028eb8134067518f28694b\n",
            "  Stored in directory: /root/.cache/pip/wheels/1c/f3/3c/ddcb384c30323d66d842b42f93b6cd2cbdfd1b317237042372\n",
            "  Building wheel for bootstrapped (setup.py) ... \u001b[?25l\u001b[?25hdone\n",
            "  Created wheel for bootstrapped: filename=bootstrapped-0.0.2-py2.py3-none-any.whl size=13954 sha256=50bd376c4ec778a5b08366b7ef0146293f30e3546bea38e04888f33c84996f5d\n",
            "  Stored in directory: /root/.cache/pip/wheels/38/23/ee/3493dbb0019f511085117a962bfadb1f7d221e7b78761943a7\n",
            "  Building wheel for ordered-set (setup.py) ... \u001b[?25l\u001b[?25hdone\n",
            "  Created wheel for ordered-set: filename=ordered_set-4.0.2-py2.py3-none-any.whl size=8209 sha256=0f14ed34cf59bea626d8178c50ee4e7c62c2339d18c116f7a19bad72adc067ed\n",
            "  Stored in directory: /root/.cache/pip/wheels/e1/c6/9b/651d8a21d59b51a75ab9c070838f9231b8126421bc0569af47\n",
            "Successfully built pylatex py-cpuinfo bootstrapped ordered-set\n",
            "Installing collected packages: ordered-set, deepdiff, arrow, pylatex, py-cpuinfo, ujson, progiter, bootstrapped, ratelim, geocoder, experiment-impact-tracker\n",
            "Successfully installed arrow-0.15.7 bootstrapped-0.0.2 deepdiff-4.3.2 experiment-impact-tracker-0.1.8 geocoder-1.38.1 ordered-set-4.0.2 progiter-0.1.3 py-cpuinfo-6.0.0 pylatex-1.3.3 ratelim-0.1.6 ujson-3.0.0\n"
          ],
          "name": "stdout"
        }
      ]
    },
    {
      "cell_type": "code",
      "metadata": {
        "id": "PC4UpSJAi-hX",
        "colab_type": "code",
        "colab": {}
      },
      "source": [
        "!mkdir logs"
      ],
      "execution_count": null,
      "outputs": []
    },
    {
      "cell_type": "code",
      "metadata": {
        "id": "hJkzuCqSdObx",
        "colab_type": "code",
        "colab": {
          "base_uri": "https://localhost:8080/"
        },
        "outputId": "df449483-cb1f-4b52-df9d-b6bc08c6ad3e"
      },
      "source": [
        "from experiment_impact_tracker.compute_tracker import ImpactTracker\n",
        "tracker = ImpactTracker('logs')\n",
        "tracker.launch_impact_monitor()"
      ],
      "execution_count": null,
      "outputs": [
        {
          "output_type": "stream",
          "text": [
            "loading region bounding boxes for computing carbon emissions region, this may take a moment...\n",
            " 454/454... rate=317.44 Hz, eta=0:00:00, total=0:00:01, wall=16:12 UTC"
          ],
          "name": "stdout"
        },
        {
          "output_type": "stream",
          "text": [
            "experiment_impact_tracker.compute_tracker.ImpactTracker - WARNING - Gathering system info for reproducibility...\n"
          ],
          "name": "stderr"
        },
        {
          "output_type": "stream",
          "text": [
            "\n",
            "Done!\n"
          ],
          "name": "stdout"
        },
        {
          "output_type": "stream",
          "text": [
            "experiment_impact_tracker.compute_tracker.ImpactTracker - WARNING - Done initial setup and information gathering...\n",
            "experiment_impact_tracker.compute_tracker.ImpactTracker - WARNING - Starting process to monitor power\n"
          ],
          "name": "stderr"
        }
      ]
    },
    {
      "cell_type": "code",
      "metadata": {
        "id": "28Ix2--IdPHl",
        "colab_type": "code",
        "colab": {}
      },
      "source": [
        "info = tracker.get_latest_info_and_check_for_errors()"
      ],
      "execution_count": null,
      "outputs": []
    },
    {
      "cell_type": "code",
      "metadata": {
        "id": "loGzj3f2kXEz",
        "colab_type": "code",
        "colab": {
          "base_uri": "https://localhost:8080/"
        },
        "outputId": "a50482af-a58e-4985-ba4d-c10667366b4e"
      },
      "source": [
        "!ls logs/impacttracker"
      ],
      "execution_count": null,
      "outputs": [
        {
          "output_type": "stream",
          "text": [
            "data.json  impact_tracker_log.log  info.pkl\n"
          ],
          "name": "stdout"
        }
      ]
    },
    {
      "cell_type": "code",
      "metadata": {
        "id": "2sq9t9pIkgbh",
        "colab_type": "code",
        "colab": {}
      },
      "source": [
        "!cat logs/impacttracker/impact_tracker_log.log"
      ],
      "execution_count": null,
      "outputs": []
    },
    {
      "cell_type": "code",
      "metadata": {
        "id": "fdI06E6gn7OG",
        "colab_type": "code",
        "colab": {
          "base_uri": "https://localhost:8080/"
        },
        "outputId": "8ca7388f-99d9-4cab-b0d2-fe22dbf01b3a"
      },
      "source": [
        "!wget 'https://raw.githubusercontent.com/ELehmann91/Thesis_Multilingual_Transferlearning/master/data/model.json'"
      ],
      "execution_count": null,
      "outputs": [
        {
          "output_type": "stream",
          "text": [
            "--2020-06-21 16:12:08--  https://raw.githubusercontent.com/ELehmann91/Thesis_Multilingual_Transferlearning/master/data/model.json\n",
            "Resolving raw.githubusercontent.com (raw.githubusercontent.com)... 151.101.0.133, 151.101.64.133, 151.101.128.133, ...\n",
            "Connecting to raw.githubusercontent.com (raw.githubusercontent.com)|151.101.0.133|:443... connected.\n",
            "HTTP request sent, awaiting response... 200 OK\n",
            "Length: 804 [text/plain]\n",
            "Saving to: ‘model.json’\n",
            "\n",
            "\rmodel.json            0%[                    ]       0  --.-KB/s               \rmodel.json          100%[===================>]     804  --.-KB/s    in 0s      \n",
            "\n",
            "2020-06-21 16:12:08 (78.3 MB/s) - ‘model.json’ saved [804/804]\n",
            "\n"
          ],
          "name": "stdout"
        }
      ]
    },
    {
      "cell_type": "code",
      "metadata": {
        "id": "F1RelP60mbIu",
        "colab_type": "code",
        "colab": {
          "base_uri": "https://localhost:8080/"
        },
        "outputId": "1db162b6-7607-4e5c-8f73-6e651edb3943"
      },
      "source": [
        "!create-compute-appendix logs/ --site_spec model.json --output_dir logs/"
      ],
      "execution_count": null,
      "outputs": [
        {
          "output_type": "stream",
          "text": [
            "loading region bounding boxes for computing carbon emissions region, this may take a moment...\n",
            " 454/454... rate=709.05 Hz, eta=0:00:00, total=0:00:00, wall=16:12 UTC\n",
            "Done!\n",
            "/usr/local/lib/python3.6/dist-packages/statsmodels/tools/_testing.py:19: FutureWarning: pandas.util.testing is deprecated. Use the functions in the public API at pandas.testing instead.\n",
            "  import pandas.util.testing as tm\n",
            "/usr/local/bin/create-compute-appendix:37: FutureWarning: Passing a negative integer is deprecated in version 1.0 and will not be supported in future version. Instead, use None to not limit the column width.\n",
            "  pd.set_option('display.max_colwidth', -1)\n",
            "/usr/local/lib/python3.6/dist-packages/experiment_impact_tracker/data_utils.py:26: FutureWarning: pandas.io.json.json_normalize is deprecated, use pandas.json_normalize instead\n",
            "  return json_normalize(json_array, max_level=max_level), json_array\n",
            "Traceback (most recent call last):\n",
            "  File \"/usr/local/bin/create-compute-appendix\", line 425, in <module>\n",
            "    sys.exit(main(sys.argv[1:]))\n",
            "  File \"/usr/local/bin/create-compute-appendix\", line 421, in main\n",
            "    _recursive_create(all_log_dirs, args.output_dir, site_spec)\n",
            "  File \"/usr/local/bin/create-compute-appendix\", line 375, in _recursive_create\n",
            "    experiment_set_filters, only_summary_level=False, extra_files_processors=extra_files_processors)\n",
            "  File \"/usr/local/bin/create-compute-appendix\", line 181, in _aggregated_data_for_filterset\n",
            "    extracted_info = gather_additional_info(info, x)\n",
            "  File \"/usr/local/lib/python3.6/dist-packages/experiment_impact_tracker/utils.py\", line 101, in gather_additional_info\n",
            "    exp_len = datetime.timestamp(info[\"experiment_end\"]) - \\\n",
            "KeyError: 'experiment_end'\n"
          ],
          "name": "stdout"
        }
      ]
    },
    {
      "cell_type": "markdown",
      "metadata": {
        "id": "RffXXZigrgGL",
        "colab_type": "text"
      },
      "source": [
        ""
      ]
    },
    {
      "cell_type": "code",
      "metadata": {
        "id": "xFXurlup_V_U",
        "colab_type": "code",
        "colab": {
          "base_uri": "https://localhost:8080/"
        },
        "outputId": "d9066633-0483-4a8e-e45e-d0812714d19b"
      },
      "source": [
        "class_weight_calc = {}\n",
        "labels = df_train.cc5.value_counts().index.tolist()\n",
        "max_class = max(df_train.cc5.value_counts())\n",
        "for a,b in zip(labels,df_train.cc5.value_counts()):\n",
        "    class_weight_calc[a] = round(max_class / (b),2)\n",
        "\n",
        "#labels.append('9999_Non-Food')\n",
        "labels.sort()\n",
        "\n",
        "class_weight_dict = {}\n",
        "for n,lab in enumerate(labels):\n",
        "  class_weight_dict[n] = class_weight_calc[lab]\n"
      ],
      "execution_count": null,
      "outputs": [
        {
          "output_type": "error",
          "ename": "NameError",
          "evalue": "ignored",
          "traceback": [
            "\u001b[0;31m---------------------------------------------------------------------------\u001b[0m",
            "\u001b[0;31mNameError\u001b[0m                                 Traceback (most recent call last)",
            "\u001b[0;32m<ipython-input-36-d71ccb695334>\u001b[0m in \u001b[0;36m<module>\u001b[0;34m()\u001b[0m\n\u001b[1;32m      1\u001b[0m \u001b[0mclass_weight_calc\u001b[0m \u001b[0;34m=\u001b[0m \u001b[0;34m{\u001b[0m\u001b[0;34m}\u001b[0m\u001b[0;34m\u001b[0m\u001b[0;34m\u001b[0m\u001b[0m\n\u001b[0;32m----> 2\u001b[0;31m \u001b[0mlabels\u001b[0m \u001b[0;34m=\u001b[0m \u001b[0mdf_train\u001b[0m\u001b[0;34m.\u001b[0m\u001b[0mcc5\u001b[0m\u001b[0;34m.\u001b[0m\u001b[0mvalue_counts\u001b[0m\u001b[0;34m(\u001b[0m\u001b[0;34m)\u001b[0m\u001b[0;34m.\u001b[0m\u001b[0mindex\u001b[0m\u001b[0;34m.\u001b[0m\u001b[0mtolist\u001b[0m\u001b[0;34m(\u001b[0m\u001b[0;34m)\u001b[0m\u001b[0;34m\u001b[0m\u001b[0;34m\u001b[0m\u001b[0m\n\u001b[0m\u001b[1;32m      3\u001b[0m \u001b[0mmax_class\u001b[0m \u001b[0;34m=\u001b[0m \u001b[0mmax\u001b[0m\u001b[0;34m(\u001b[0m\u001b[0mdf_train\u001b[0m\u001b[0;34m.\u001b[0m\u001b[0mcc5\u001b[0m\u001b[0;34m.\u001b[0m\u001b[0mvalue_counts\u001b[0m\u001b[0;34m(\u001b[0m\u001b[0;34m)\u001b[0m\u001b[0;34m)\u001b[0m\u001b[0;34m\u001b[0m\u001b[0;34m\u001b[0m\u001b[0m\n\u001b[1;32m      4\u001b[0m \u001b[0;32mfor\u001b[0m \u001b[0ma\u001b[0m\u001b[0;34m,\u001b[0m\u001b[0mb\u001b[0m \u001b[0;32min\u001b[0m \u001b[0mzip\u001b[0m\u001b[0;34m(\u001b[0m\u001b[0mlabels\u001b[0m\u001b[0;34m,\u001b[0m\u001b[0mdf_train\u001b[0m\u001b[0;34m.\u001b[0m\u001b[0mcc5\u001b[0m\u001b[0;34m.\u001b[0m\u001b[0mvalue_counts\u001b[0m\u001b[0;34m(\u001b[0m\u001b[0;34m)\u001b[0m\u001b[0;34m)\u001b[0m\u001b[0;34m:\u001b[0m\u001b[0;34m\u001b[0m\u001b[0;34m\u001b[0m\u001b[0m\n\u001b[1;32m      5\u001b[0m     \u001b[0mclass_weight_calc\u001b[0m\u001b[0;34m[\u001b[0m\u001b[0ma\u001b[0m\u001b[0;34m]\u001b[0m \u001b[0;34m=\u001b[0m \u001b[0mround\u001b[0m\u001b[0;34m(\u001b[0m\u001b[0mmax_class\u001b[0m \u001b[0;34m/\u001b[0m \u001b[0;34m(\u001b[0m\u001b[0mb\u001b[0m\u001b[0;34m)\u001b[0m\u001b[0;34m,\u001b[0m\u001b[0;36m2\u001b[0m\u001b[0;34m)\u001b[0m\u001b[0;34m\u001b[0m\u001b[0;34m\u001b[0m\u001b[0m\n",
            "\u001b[0;31mNameError\u001b[0m: name 'df_train' is not defined"
          ]
        }
      ]
    },
    {
      "cell_type": "code",
      "metadata": {
        "id": "PDNhKOux5-_j",
        "colab_type": "code",
        "colab": {}
      },
      "source": [
        "weights_dict = dict(zip(df_train.cc5.value_counts().index.tolist(),list(len(df_train.cc5) / ( len(df_train.cc5.unique())  * df_train.cc5.value_counts()))))\n",
        "\n",
        "class_weight_dict = {}\n",
        "for n,lab in enumerate(encoder5.classes_):\n",
        "    try:\n",
        "        class_weight_dict[n] = weights_dict[lab]\n",
        "    except:\n",
        "        class_weight_dict[n] = 1"
      ],
      "execution_count": null,
      "outputs": []
    },
    {
      "cell_type": "markdown",
      "metadata": {
        "id": "cSKd2GyTQsEC",
        "colab_type": "text"
      },
      "source": [
        "## Pooling"
      ]
    },
    {
      "cell_type": "code",
      "metadata": {
        "id": "4zGvt_MZUHXT",
        "colab_type": "code",
        "colab": {
          "base_uri": "https://localhost:8080/",
          "height": 1000
        },
        "outputId": "f0bcb26a-c037-408f-c9c5-680782409b5e"
      },
      "source": [
        "import tensorflow as tf\n",
        "from tensorflow.keras.models import Model\n",
        "from tensorflow.keras.layers import Input, Dropout, Dense, Bidirectional,LSTM, GlobalAveragePooling1D, Concatenate,Conv1D,BatchNormalization,Add,Masking,GlobalMaxPooling1D\n",
        "from tensorflow.keras.optimizers import Adam\n",
        "from tensorflow.keras.callbacks import EarlyStopping, ModelCheckpoint, TensorBoard\n",
        "from keras.regularizers import l1,l2\n",
        "dropout_rate=.1\n",
        "\n",
        "input_layer = Input(shape = (seq_len,embedding_dim,), name='text_input')\n",
        "#mask_layer = Masking(mask_value=0.)(input_layer)\n",
        "pool_layer = GlobalAveragePooling1D(name='avg_pooling')(input_layer)\n",
        "#dens_layer = Dense(150, activation='linear', activity_regularizer=l1(0.001),name='dense')(pool_layer)\n",
        "drop_layer = Dropout(dropout_rate)(pool_layer)\n",
        "pred_layer_3 = Dense(no_Classes, activation = 'softmax', name='out')(drop_layer) \n",
        "\n",
        "de_avg_pool = Model(inputs = [input_layer], outputs = [pred_layer_3])\n",
        "\n",
        "lr = .03\n",
        "opt = Adam(lr=lr, decay=lr/100)\n",
        "\n",
        "de_avg_pool.compile(optimizer = opt, loss = ['categorical_crossentropy'], metrics = ['accuracy'])\n",
        "early_stopping = EarlyStopping(patience = 5)\n",
        "\n",
        "hist = de_avg_pool.fit(x = X_train_emb_de, y = y_train_enc_de,\\\n",
        "                validation_data = (X_val_emb_de, y_val_enc_de), \\\n",
        "                epochs = 100, batch_size = 256, shuffle = True, \\\n",
        "                class_weight = class_weight_dict_de, \\\n",
        "                callbacks = [early_stopping])"
      ],
      "execution_count": null,
      "outputs": [
        {
          "output_type": "stream",
          "text": [
            "Epoch 1/100\n",
            "65/65 [==============================] - 1s 12ms/step - loss: 3.8387 - accuracy: 0.3623 - val_loss: 3.2107 - val_accuracy: 0.5083\n",
            "Epoch 2/100\n",
            "65/65 [==============================] - 1s 9ms/step - loss: 3.0712 - accuracy: 0.5916 - val_loss: 2.6202 - val_accuracy: 0.6534\n",
            "Epoch 3/100\n",
            "65/65 [==============================] - 1s 10ms/step - loss: 2.5634 - accuracy: 0.6754 - val_loss: 2.1885 - val_accuracy: 0.6998\n",
            "Epoch 4/100\n",
            "65/65 [==============================] - 1s 9ms/step - loss: 2.1993 - accuracy: 0.7220 - val_loss: 1.9196 - val_accuracy: 0.7399\n",
            "Epoch 5/100\n",
            "65/65 [==============================] - 1s 9ms/step - loss: 1.9397 - accuracy: 0.7523 - val_loss: 1.6983 - val_accuracy: 0.7766\n",
            "Epoch 6/100\n",
            "65/65 [==============================] - 1s 10ms/step - loss: 1.7394 - accuracy: 0.7748 - val_loss: 1.5467 - val_accuracy: 0.7904\n",
            "Epoch 7/100\n",
            "65/65 [==============================] - 1s 9ms/step - loss: 1.5850 - accuracy: 0.7893 - val_loss: 1.4161 - val_accuracy: 0.8073\n",
            "Epoch 8/100\n",
            "65/65 [==============================] - 1s 10ms/step - loss: 1.4552 - accuracy: 0.8037 - val_loss: 1.3038 - val_accuracy: 0.8185\n",
            "Epoch 9/100\n",
            "65/65 [==============================] - 1s 10ms/step - loss: 1.3578 - accuracy: 0.8109 - val_loss: 1.2052 - val_accuracy: 0.8291\n",
            "Epoch 10/100\n",
            "65/65 [==============================] - 1s 9ms/step - loss: 1.2671 - accuracy: 0.8208 - val_loss: 1.1302 - val_accuracy: 0.8385\n",
            "Epoch 11/100\n",
            "65/65 [==============================] - 1s 10ms/step - loss: 1.1947 - accuracy: 0.8281 - val_loss: 1.0727 - val_accuracy: 0.8368\n",
            "Epoch 12/100\n",
            "65/65 [==============================] - 1s 10ms/step - loss: 1.1342 - accuracy: 0.8344 - val_loss: 1.0339 - val_accuracy: 0.8405\n",
            "Epoch 13/100\n",
            "65/65 [==============================] - 1s 9ms/step - loss: 1.0793 - accuracy: 0.8353 - val_loss: 0.9780 - val_accuracy: 0.8492\n",
            "Epoch 14/100\n",
            "65/65 [==============================] - 1s 9ms/step - loss: 1.0300 - accuracy: 0.8429 - val_loss: 0.9375 - val_accuracy: 0.8472\n",
            "Epoch 15/100\n",
            "65/65 [==============================] - 1s 9ms/step - loss: 0.9893 - accuracy: 0.8484 - val_loss: 0.9100 - val_accuracy: 0.8511\n",
            "Epoch 16/100\n",
            "65/65 [==============================] - 1s 9ms/step - loss: 0.9506 - accuracy: 0.8519 - val_loss: 0.8595 - val_accuracy: 0.8571\n",
            "Epoch 17/100\n",
            "65/65 [==============================] - 1s 9ms/step - loss: 0.9163 - accuracy: 0.8550 - val_loss: 0.8281 - val_accuracy: 0.8709\n",
            "Epoch 18/100\n",
            "65/65 [==============================] - 1s 9ms/step - loss: 0.8828 - accuracy: 0.8628 - val_loss: 0.8114 - val_accuracy: 0.8642\n",
            "Epoch 19/100\n",
            "65/65 [==============================] - 1s 9ms/step - loss: 0.8571 - accuracy: 0.8624 - val_loss: 0.7855 - val_accuracy: 0.8697\n",
            "Epoch 20/100\n",
            "65/65 [==============================] - 1s 10ms/step - loss: 0.8313 - accuracy: 0.8652 - val_loss: 0.7573 - val_accuracy: 0.8750\n",
            "Epoch 21/100\n",
            "65/65 [==============================] - 1s 9ms/step - loss: 0.8072 - accuracy: 0.8668 - val_loss: 0.7435 - val_accuracy: 0.8695\n",
            "Epoch 22/100\n",
            "65/65 [==============================] - 1s 9ms/step - loss: 0.7849 - accuracy: 0.8723 - val_loss: 0.7223 - val_accuracy: 0.8820\n",
            "Epoch 23/100\n",
            "65/65 [==============================] - 1s 9ms/step - loss: 0.7652 - accuracy: 0.8734 - val_loss: 0.7029 - val_accuracy: 0.8823\n",
            "Epoch 24/100\n",
            "65/65 [==============================] - 1s 9ms/step - loss: 0.7469 - accuracy: 0.8758 - val_loss: 0.6965 - val_accuracy: 0.8849\n",
            "Epoch 25/100\n",
            "65/65 [==============================] - 1s 9ms/step - loss: 0.7300 - accuracy: 0.8802 - val_loss: 0.6780 - val_accuracy: 0.8881\n",
            "Epoch 26/100\n",
            "65/65 [==============================] - 1s 9ms/step - loss: 0.7115 - accuracy: 0.8820 - val_loss: 0.6602 - val_accuracy: 0.8878\n",
            "Epoch 27/100\n",
            "65/65 [==============================] - 1s 9ms/step - loss: 0.6930 - accuracy: 0.8825 - val_loss: 0.6546 - val_accuracy: 0.8898\n",
            "Epoch 28/100\n",
            "65/65 [==============================] - 1s 9ms/step - loss: 0.6817 - accuracy: 0.8823 - val_loss: 0.6399 - val_accuracy: 0.8876\n",
            "Epoch 29/100\n",
            "65/65 [==============================] - 1s 10ms/step - loss: 0.6701 - accuracy: 0.8829 - val_loss: 0.6258 - val_accuracy: 0.8900\n",
            "Epoch 30/100\n",
            "65/65 [==============================] - 1s 9ms/step - loss: 0.6592 - accuracy: 0.8854 - val_loss: 0.6125 - val_accuracy: 0.8917\n",
            "Epoch 31/100\n",
            "65/65 [==============================] - 1s 9ms/step - loss: 0.6431 - accuracy: 0.8916 - val_loss: 0.6087 - val_accuracy: 0.8905\n",
            "Epoch 32/100\n",
            "65/65 [==============================] - 1s 9ms/step - loss: 0.6322 - accuracy: 0.8881 - val_loss: 0.5935 - val_accuracy: 0.8968\n",
            "Epoch 33/100\n",
            "65/65 [==============================] - 1s 9ms/step - loss: 0.6225 - accuracy: 0.8896 - val_loss: 0.5882 - val_accuracy: 0.8924\n",
            "Epoch 34/100\n",
            "65/65 [==============================] - 1s 9ms/step - loss: 0.6142 - accuracy: 0.8928 - val_loss: 0.5886 - val_accuracy: 0.8912\n",
            "Epoch 35/100\n",
            "65/65 [==============================] - 1s 9ms/step - loss: 0.6027 - accuracy: 0.8933 - val_loss: 0.5724 - val_accuracy: 0.8992\n",
            "Epoch 36/100\n",
            "65/65 [==============================] - 1s 9ms/step - loss: 0.5934 - accuracy: 0.8933 - val_loss: 0.5626 - val_accuracy: 0.9002\n",
            "Epoch 37/100\n",
            "65/65 [==============================] - 1s 9ms/step - loss: 0.5836 - accuracy: 0.8967 - val_loss: 0.5523 - val_accuracy: 0.8997\n",
            "Epoch 38/100\n",
            "65/65 [==============================] - 1s 10ms/step - loss: 0.5790 - accuracy: 0.8947 - val_loss: 0.5516 - val_accuracy: 0.9009\n",
            "Epoch 39/100\n",
            "65/65 [==============================] - 1s 9ms/step - loss: 0.5689 - accuracy: 0.8969 - val_loss: 0.5416 - val_accuracy: 0.9043\n",
            "Epoch 40/100\n",
            "65/65 [==============================] - 1s 9ms/step - loss: 0.5596 - accuracy: 0.8982 - val_loss: 0.5377 - val_accuracy: 0.9060\n",
            "Epoch 41/100\n",
            "65/65 [==============================] - 1s 9ms/step - loss: 0.5532 - accuracy: 0.8983 - val_loss: 0.5300 - val_accuracy: 0.9031\n",
            "Epoch 42/100\n",
            "65/65 [==============================] - 1s 9ms/step - loss: 0.5453 - accuracy: 0.9025 - val_loss: 0.5240 - val_accuracy: 0.9038\n",
            "Epoch 43/100\n",
            "65/65 [==============================] - 1s 9ms/step - loss: 0.5380 - accuracy: 0.8996 - val_loss: 0.5247 - val_accuracy: 0.8946\n",
            "Epoch 44/100\n",
            "65/65 [==============================] - 1s 9ms/step - loss: 0.5321 - accuracy: 0.9012 - val_loss: 0.5132 - val_accuracy: 0.9050\n",
            "Epoch 45/100\n",
            "65/65 [==============================] - 1s 9ms/step - loss: 0.5253 - accuracy: 0.9010 - val_loss: 0.5151 - val_accuracy: 0.9045\n",
            "Epoch 46/100\n",
            "65/65 [==============================] - 1s 9ms/step - loss: 0.5191 - accuracy: 0.9017 - val_loss: 0.5010 - val_accuracy: 0.9091\n",
            "Epoch 47/100\n",
            "65/65 [==============================] - 1s 10ms/step - loss: 0.5157 - accuracy: 0.9040 - val_loss: 0.5018 - val_accuracy: 0.9026\n",
            "Epoch 48/100\n",
            "65/65 [==============================] - 1s 9ms/step - loss: 0.5096 - accuracy: 0.9029 - val_loss: 0.4966 - val_accuracy: 0.9077\n",
            "Epoch 49/100\n",
            "65/65 [==============================] - 1s 9ms/step - loss: 0.5002 - accuracy: 0.9050 - val_loss: 0.4926 - val_accuracy: 0.9081\n",
            "Epoch 50/100\n",
            "65/65 [==============================] - 1s 9ms/step - loss: 0.4997 - accuracy: 0.9048 - val_loss: 0.4904 - val_accuracy: 0.9048\n",
            "Epoch 51/100\n",
            "65/65 [==============================] - 1s 9ms/step - loss: 0.4940 - accuracy: 0.9075 - val_loss: 0.4776 - val_accuracy: 0.9072\n",
            "Epoch 52/100\n",
            "65/65 [==============================] - 1s 9ms/step - loss: 0.4890 - accuracy: 0.9073 - val_loss: 0.4799 - val_accuracy: 0.9108\n",
            "Epoch 53/100\n",
            "65/65 [==============================] - 1s 9ms/step - loss: 0.4840 - accuracy: 0.9074 - val_loss: 0.4739 - val_accuracy: 0.9120\n",
            "Epoch 54/100\n",
            "65/65 [==============================] - 1s 9ms/step - loss: 0.4789 - accuracy: 0.9079 - val_loss: 0.4692 - val_accuracy: 0.9106\n",
            "Epoch 55/100\n",
            "65/65 [==============================] - 1s 9ms/step - loss: 0.4733 - accuracy: 0.9092 - val_loss: 0.4773 - val_accuracy: 0.9084\n",
            "Epoch 56/100\n",
            "65/65 [==============================] - 1s 9ms/step - loss: 0.4687 - accuracy: 0.9091 - val_loss: 0.4650 - val_accuracy: 0.9132\n",
            "Epoch 57/100\n",
            "65/65 [==============================] - 1s 9ms/step - loss: 0.4658 - accuracy: 0.9088 - val_loss: 0.4568 - val_accuracy: 0.9135\n",
            "Epoch 58/100\n",
            "65/65 [==============================] - 1s 9ms/step - loss: 0.4616 - accuracy: 0.9095 - val_loss: 0.4572 - val_accuracy: 0.9120\n",
            "Epoch 59/100\n",
            "65/65 [==============================] - 1s 9ms/step - loss: 0.4565 - accuracy: 0.9128 - val_loss: 0.4509 - val_accuracy: 0.9137\n",
            "Epoch 60/100\n",
            "65/65 [==============================] - 1s 9ms/step - loss: 0.4549 - accuracy: 0.9103 - val_loss: 0.4526 - val_accuracy: 0.9130\n",
            "Epoch 61/100\n",
            "65/65 [==============================] - 1s 9ms/step - loss: 0.4492 - accuracy: 0.9109 - val_loss: 0.4506 - val_accuracy: 0.9135\n",
            "Epoch 62/100\n",
            "65/65 [==============================] - 1s 9ms/step - loss: 0.4485 - accuracy: 0.9122 - val_loss: 0.4447 - val_accuracy: 0.9130\n",
            "Epoch 63/100\n",
            "65/65 [==============================] - 1s 9ms/step - loss: 0.4429 - accuracy: 0.9115 - val_loss: 0.4472 - val_accuracy: 0.9118\n",
            "Epoch 64/100\n",
            "65/65 [==============================] - 1s 9ms/step - loss: 0.4400 - accuracy: 0.9095 - val_loss: 0.4421 - val_accuracy: 0.9135\n",
            "Epoch 65/100\n",
            "65/65 [==============================] - 1s 9ms/step - loss: 0.4381 - accuracy: 0.9133 - val_loss: 0.4390 - val_accuracy: 0.9159\n",
            "Epoch 66/100\n",
            "65/65 [==============================] - 1s 10ms/step - loss: 0.4307 - accuracy: 0.9132 - val_loss: 0.4357 - val_accuracy: 0.9166\n",
            "Epoch 67/100\n",
            "65/65 [==============================] - 1s 9ms/step - loss: 0.4269 - accuracy: 0.9116 - val_loss: 0.4332 - val_accuracy: 0.9156\n",
            "Epoch 68/100\n",
            "65/65 [==============================] - 1s 9ms/step - loss: 0.4243 - accuracy: 0.9127 - val_loss: 0.4286 - val_accuracy: 0.9159\n",
            "Epoch 69/100\n",
            "65/65 [==============================] - 1s 9ms/step - loss: 0.4227 - accuracy: 0.9169 - val_loss: 0.4271 - val_accuracy: 0.9161\n",
            "Epoch 70/100\n",
            "65/65 [==============================] - 1s 9ms/step - loss: 0.4257 - accuracy: 0.9121 - val_loss: 0.4269 - val_accuracy: 0.9152\n",
            "Epoch 71/100\n",
            "65/65 [==============================] - 1s 9ms/step - loss: 0.4167 - accuracy: 0.9165 - val_loss: 0.4268 - val_accuracy: 0.9161\n",
            "Epoch 72/100\n",
            "65/65 [==============================] - 1s 9ms/step - loss: 0.4154 - accuracy: 0.9165 - val_loss: 0.4242 - val_accuracy: 0.9171\n",
            "Epoch 73/100\n",
            "65/65 [==============================] - 1s 9ms/step - loss: 0.4123 - accuracy: 0.9151 - val_loss: 0.4198 - val_accuracy: 0.9166\n",
            "Epoch 74/100\n",
            "65/65 [==============================] - 1s 9ms/step - loss: 0.4094 - accuracy: 0.9152 - val_loss: 0.4155 - val_accuracy: 0.9205\n",
            "Epoch 75/100\n",
            "65/65 [==============================] - 1s 9ms/step - loss: 0.4064 - accuracy: 0.9172 - val_loss: 0.4150 - val_accuracy: 0.9173\n",
            "Epoch 76/100\n",
            "65/65 [==============================] - 1s 10ms/step - loss: 0.4037 - accuracy: 0.9165 - val_loss: 0.4135 - val_accuracy: 0.9183\n",
            "Epoch 77/100\n",
            "65/65 [==============================] - 1s 9ms/step - loss: 0.4029 - accuracy: 0.9167 - val_loss: 0.4110 - val_accuracy: 0.9178\n",
            "Epoch 78/100\n",
            "65/65 [==============================] - 1s 9ms/step - loss: 0.4022 - accuracy: 0.9184 - val_loss: 0.4129 - val_accuracy: 0.9188\n",
            "Epoch 79/100\n",
            "65/65 [==============================] - 1s 9ms/step - loss: 0.3969 - accuracy: 0.9167 - val_loss: 0.4124 - val_accuracy: 0.9173\n",
            "Epoch 80/100\n",
            "65/65 [==============================] - 1s 9ms/step - loss: 0.3969 - accuracy: 0.9173 - val_loss: 0.4052 - val_accuracy: 0.9205\n",
            "Epoch 81/100\n",
            "65/65 [==============================] - 1s 9ms/step - loss: 0.3941 - accuracy: 0.9184 - val_loss: 0.4047 - val_accuracy: 0.9176\n",
            "Epoch 82/100\n",
            "65/65 [==============================] - 1s 9ms/step - loss: 0.3905 - accuracy: 0.9196 - val_loss: 0.4029 - val_accuracy: 0.9188\n",
            "Epoch 83/100\n",
            "65/65 [==============================] - 1s 9ms/step - loss: 0.3860 - accuracy: 0.9196 - val_loss: 0.4031 - val_accuracy: 0.9185\n",
            "Epoch 84/100\n",
            "65/65 [==============================] - 1s 9ms/step - loss: 0.3895 - accuracy: 0.9181 - val_loss: 0.4036 - val_accuracy: 0.9166\n",
            "Epoch 85/100\n",
            "65/65 [==============================] - 1s 9ms/step - loss: 0.3853 - accuracy: 0.9167 - val_loss: 0.3969 - val_accuracy: 0.9234\n",
            "Epoch 86/100\n",
            "65/65 [==============================] - 1s 9ms/step - loss: 0.3829 - accuracy: 0.9213 - val_loss: 0.3961 - val_accuracy: 0.9226\n",
            "Epoch 87/100\n",
            "65/65 [==============================] - 1s 9ms/step - loss: 0.3819 - accuracy: 0.9218 - val_loss: 0.3952 - val_accuracy: 0.9212\n",
            "Epoch 88/100\n",
            "65/65 [==============================] - 1s 9ms/step - loss: 0.3796 - accuracy: 0.9219 - val_loss: 0.3946 - val_accuracy: 0.9212\n",
            "Epoch 89/100\n",
            "65/65 [==============================] - 1s 9ms/step - loss: 0.3765 - accuracy: 0.9210 - val_loss: 0.3915 - val_accuracy: 0.9212\n",
            "Epoch 90/100\n",
            "65/65 [==============================] - 1s 9ms/step - loss: 0.3743 - accuracy: 0.9220 - val_loss: 0.3937 - val_accuracy: 0.9205\n",
            "Epoch 91/100\n",
            "65/65 [==============================] - 1s 9ms/step - loss: 0.3744 - accuracy: 0.9199 - val_loss: 0.3900 - val_accuracy: 0.9243\n",
            "Epoch 92/100\n",
            "65/65 [==============================] - 1s 9ms/step - loss: 0.3692 - accuracy: 0.9209 - val_loss: 0.3891 - val_accuracy: 0.9219\n",
            "Epoch 93/100\n",
            "65/65 [==============================] - 1s 9ms/step - loss: 0.3714 - accuracy: 0.9229 - val_loss: 0.3877 - val_accuracy: 0.9222\n",
            "Epoch 94/100\n",
            "65/65 [==============================] - 1s 9ms/step - loss: 0.3702 - accuracy: 0.9228 - val_loss: 0.3882 - val_accuracy: 0.9239\n",
            "Epoch 95/100\n",
            "65/65 [==============================] - 1s 9ms/step - loss: 0.3666 - accuracy: 0.9205 - val_loss: 0.3846 - val_accuracy: 0.9226\n",
            "Epoch 96/100\n",
            "65/65 [==============================] - 1s 9ms/step - loss: 0.3646 - accuracy: 0.9214 - val_loss: 0.3829 - val_accuracy: 0.9243\n",
            "Epoch 97/100\n",
            "65/65 [==============================] - 1s 9ms/step - loss: 0.3581 - accuracy: 0.9225 - val_loss: 0.3821 - val_accuracy: 0.9231\n",
            "Epoch 98/100\n",
            "65/65 [==============================] - 1s 9ms/step - loss: 0.3609 - accuracy: 0.9240 - val_loss: 0.3819 - val_accuracy: 0.9239\n",
            "Epoch 99/100\n",
            "65/65 [==============================] - 1s 9ms/step - loss: 0.3602 - accuracy: 0.9231 - val_loss: 0.3783 - val_accuracy: 0.9241\n",
            "Epoch 100/100\n",
            "65/65 [==============================] - 1s 9ms/step - loss: 0.3564 - accuracy: 0.9247 - val_loss: 0.3767 - val_accuracy: 0.9234\n"
          ],
          "name": "stdout"
        }
      ]
    },
    {
      "cell_type": "code",
      "metadata": {
        "id": "W3dRH7T9qyNb",
        "colab_type": "code",
        "colab": {
          "base_uri": "https://localhost:8080/",
          "height": 85
        },
        "outputId": "9b7f4a2f-fb2b-49de-8fc6-502dbfb506b3"
      },
      "source": [
        "import json\n",
        "from sklearn.metrics import accuracy_score, confusion_matrix, classification_report,balanced_accuracy_score,confusion_matrix\n",
        "import numpy as np\n",
        "\n",
        "def test_xy(X,y,string,model):\n",
        "    y_pred = model.predict([X])\n",
        "    y_pred_arg = y_pred.argmax(axis=1)\n",
        "    pred= [encoder.classes_[y] for y in y_pred_arg]\n",
        "    print('accuracy %s'% string,accuracy_score(pred,y))\n",
        "    print('b_accuracy %s'%  string,balanced_accuracy_score(pred, y))\n",
        "    #return pred, y\n",
        "\n",
        "#test_xy(X_test_emb_de,y_test_de,'together')\n",
        "test_xy(X_test_emb_de,y_test_de,'german',de_avg_pool)\n",
        "test_xy(X_test_emb_fr,y_test_fr,'french',de_avg_pool)\n",
        "#print(classification_report(y,pred))"
      ],
      "execution_count": null,
      "outputs": [
        {
          "output_type": "stream",
          "text": [
            "accuracy german 0.9260333575054387\n",
            "b_accuracy german 0.8910448143329549\n",
            "accuracy french 0.36504424778761063\n",
            "b_accuracy french 0.4336048812722913\n"
          ],
          "name": "stdout"
        }
      ]
    },
    {
      "cell_type": "markdown",
      "metadata": {
        "id": "Qm1x9GSS-aIW",
        "colab_type": "text"
      },
      "source": [
        "Prediction / Certainty Treshold"
      ]
    },
    {
      "cell_type": "code",
      "metadata": {
        "id": "N-69cpC97SWu",
        "colab_type": "code",
        "colab": {
          "base_uri": "https://localhost:8080/",
          "height": 119
        },
        "outputId": "e3e5a765-473b-425a-cd4f-03e4b8f85ca4"
      },
      "source": [
        "def test_xy(X,y,string,model,z,ret=False):\n",
        "    obs = len(X)\n",
        "    y_pred = model.predict([X])\n",
        "    y_pred_arg = y_pred.argmax(axis=1)\n",
        "    y_pred_max = y_pred.max(axis=1)\n",
        "    pred= [encoder.classes_[y] for y in y_pred_arg]\n",
        "    df_pred = pd.DataFrame(zip(X,pred,y,y_pred_max),columns=['embed','pred','y','y_pred_max'])\n",
        "    df_pred = df_pred[df_pred['y_pred_max']>z]\n",
        "    print('accuracy %s'% string,accuracy_score(df_pred['pred'],df_pred['y']))\n",
        "    print('b_accuracy %s'%  string,balanced_accuracy_score(df_pred['pred'],df_pred['y']))\n",
        "    print(len(df_pred),'of',len(X),int(len(df_pred)/len(X)*100),'%',len(df_pred.pred.unique()))\n",
        "    if ret:\n",
        "        return df_pred\n",
        "test_xy(X_test_emb_de,y_test_de,'german',de_avg_pool,.65)\n",
        "test_xy(X_train_emb_fr,y_train_fr,'french',de_avg_pool,.8)\n",
        "    #return pred, y"
      ],
      "execution_count": null,
      "outputs": [
        {
          "output_type": "stream",
          "text": [
            "accuracy german 0.9746606334841629\n",
            "b_accuracy german 0.959949154161793\n",
            "1105 of 1379 80 % 71\n",
            "accuracy french 0.5804274465691789\n",
            "b_accuracy french 0.6440567609710188\n",
            "1778 of 5418 32 % 38\n"
          ],
          "name": "stdout"
        }
      ]
    },
    {
      "cell_type": "markdown",
      "metadata": {
        "id": "BYl0oREB_DEd",
        "colab_type": "text"
      },
      "source": [
        "Accuracy for higher hirachies"
      ]
    },
    {
      "cell_type": "code",
      "metadata": {
        "id": "xiZ2S_iaAry2",
        "colab_type": "code",
        "colab": {
          "base_uri": "https://localhost:8080/",
          "height": 85
        },
        "outputId": "babef6fc-1d4b-4732-ebbd-6943d0c7b1e0"
      },
      "source": [
        "with open('coicop_5_4.txt') as json_file:#\n",
        "    coicop_5_4 = json.load(json_file)\n",
        "\n",
        "with open('coicop_5_3.txt') as json_file:#\n",
        "    coicop_5_3 = json.load(json_file)\n",
        "\n",
        "y_pred = de_avg_pool.predict([X_test_emb_fr])\n",
        "y_pred_arg = y_pred.argmax(axis=1)\n",
        "pred= [encoder.classes_[y] for y in y_pred_arg]\n",
        "\n",
        "y_pr_lab3 = [coicop_5_3[cc5] for cc5 in pred]\n",
        "y_pr_lab4 = [coicop_5_4[cc5] for cc5 in pred]\n",
        "y_lab3 = [coicop_5_3[cc5] for cc5 in y_test_fr]\n",
        "y_lab4 = [coicop_5_4[cc5] for cc5 in y_test_fr]\n",
        "print('accuracy %s'% accuracy_score(y_pr_lab3,y_lab3))\n",
        "print('b_accuracy %s'%  balanced_accuracy_score(y_pr_lab3, y_lab3))\n",
        "print('accuracy %s'% accuracy_score(y_pr_lab4,y_lab4))\n",
        "print('b_accuracy %s'%  balanced_accuracy_score(y_pr_lab4, y_lab4))\n",
        "#print(classification_report(y_lab4,y_pr_lab4))"
      ],
      "execution_count": null,
      "outputs": [
        {
          "output_type": "stream",
          "text": [
            "accuracy 0.8893805309734514\n",
            "b_accuracy 0.8502504450055884\n",
            "accuracy 0.5597345132743363\n",
            "b_accuracy 0.6232303557160626\n"
          ],
          "name": "stdout"
        }
      ]
    },
    {
      "cell_type": "code",
      "metadata": {
        "id": "J8L2OqDn3DZ0",
        "colab_type": "code",
        "colab": {
          "base_uri": "https://localhost:8080/",
          "height": 1000
        },
        "outputId": "d3f32c73-8e3f-4874-e888-4c063e52d2a4"
      },
      "source": [
        "from sklearn.metrics import confusion_matrix\n",
        "import seaborn as sn\n",
        "import pandas as pd\n",
        "import matplotlib.pyplot as plt\n",
        "%matplotlib inline  \n",
        "\n",
        "y_pred = de_avg_pool.predict([X_test_emb_fr])\n",
        "y_pred_arg = y_pred.argmax(axis=1)\n",
        "pred= [encoder.classes_[y] for y in y_pred_arg]\n",
        "\n",
        "y_pr_lab4 = [coicop_5_4[cc5] for cc5 in pred]\n",
        "y_lab4 = [coicop_5_4[cc5] for cc5 in y_test_fr]\n",
        "\n",
        "label = pd.Series(y_lab4).unique()\n",
        "label.sort()\n",
        "cm = confusion_matrix(y_lab4,y_pr_lab4,labels=label)#, normalize='true')\n",
        "\n",
        "df_cm = pd.DataFrame(cm, label,label)\n",
        "plt.figure(figsize=(15,15))\n",
        "sn.set(font_scale=.7) # for label size\n",
        "sn.heatmap(df_cm, annot=True, annot_kws={\"size\": 9}) # font size\n",
        "\n",
        "plt.show()"
      ],
      "execution_count": null,
      "outputs": [
        {
          "output_type": "display_data",
          "data": {
            "image/png": "[encoded data removed]",
            "text/plain": [
              "<Figure size 1080x1080 with 2 Axes>"
            ]
          },
          "metadata": {
            "tags": [],
            "needs_background": "light"
          }
        }
      ]
    },
    {
      "cell_type": "markdown",
      "metadata": {
        "id": "_FVqFByYZkAd",
        "colab_type": "text"
      },
      "source": [
        "## Transferlearning"
      ]
    },
    {
      "cell_type": "code",
      "metadata": {
        "id": "BRS98lLSeovB",
        "colab_type": "code",
        "colab": {
          "base_uri": "https://localhost:8080/",
          "height": 1000
        },
        "outputId": "bff29548-edc3-4c2a-e6be-fc8231c3f412"
      },
      "source": [
        "few_shot = 5000\n",
        "\n",
        "dropout_rate=.5\n",
        "lr = .05\n",
        "opt = Adam(lr=lr, decay=lr/100)\n",
        "inp = de_avg_pool.input\n",
        "\n",
        "# make a new softmax layer with num_classes neurons\n",
        "#dens_layer_1 = Dense(50, activation='relu',name='dense3')(de_avg_pool.get_layer('dense').output)\n",
        "drop_layer_1 = Dropout(dropout_rate)(de_avg_pool.layers[-3].output)\n",
        "out = Dense(no_Classes, activation = 'softmax', name='o3', kernel_regularizer=l1(0.0001))(drop_layer_1) \n",
        "\n",
        "# create a new network between inp and out\n",
        "model_new = Model(inp, out)\n",
        "\n",
        "# make all layers untrainable by freezing weights (except for last layer)\n",
        "for l, layer in enumerate(model_new.layers[:-2]):\n",
        "    layer.trainable = False\n",
        "\n",
        "# ensure the last layer is trainable/not frozen\n",
        "for l, layer in enumerate(model_new.layers[-2:]):\n",
        "    layer.trainable = True\n",
        "\n",
        "model_new.compile(optimizer = opt, loss = ['categorical_crossentropy'], metrics = ['accuracy'])\n",
        "early_stopping = EarlyStopping(patience = 5)\n",
        "model_new.fit(x = X_train_emb_fr[:few_shot], y = y_train_enc_fr[:few_shot],\\\n",
        "                validation_data = (X_val_emb_fr, y_val_enc_fr), \\\n",
        "                epochs = 100, batch_size = 2, shuffle = True, \\\n",
        "                class_weight = class_weight_dict_fr, \\\n",
        "                callbacks = [early_stopping])"
      ],
      "execution_count": null,
      "outputs": [
        {
          "output_type": "stream",
          "text": [
            "Epoch 1/100\n",
            "2500/2500 [==============================] - 7s 3ms/step - loss: 5.0438 - accuracy: 0.3174 - val_loss: 4.2520 - val_accuracy: 0.5705\n",
            "Epoch 2/100\n",
            "2500/2500 [==============================] - 7s 3ms/step - loss: 4.3655 - accuracy: 0.4562 - val_loss: 4.0109 - val_accuracy: 0.6081\n",
            "Epoch 3/100\n",
            "2500/2500 [==============================] - 7s 3ms/step - loss: 4.1089 - accuracy: 0.4926 - val_loss: 3.8540 - val_accuracy: 0.5904\n",
            "Epoch 4/100\n",
            "2500/2500 [==============================] - 7s 3ms/step - loss: 3.9893 - accuracy: 0.5066 - val_loss: 3.8272 - val_accuracy: 0.6199\n",
            "Epoch 5/100\n",
            "2500/2500 [==============================] - 7s 3ms/step - loss: 3.9028 - accuracy: 0.5218 - val_loss: 3.7404 - val_accuracy: 0.6376\n",
            "Epoch 6/100\n",
            "2500/2500 [==============================] - 7s 3ms/step - loss: 3.8537 - accuracy: 0.5274 - val_loss: 3.7297 - val_accuracy: 0.6111\n",
            "Epoch 7/100\n",
            "2500/2500 [==============================] - 7s 3ms/step - loss: 3.8157 - accuracy: 0.5372 - val_loss: 3.7004 - val_accuracy: 0.6236\n",
            "Epoch 8/100\n",
            "2500/2500 [==============================] - 7s 3ms/step - loss: 3.7919 - accuracy: 0.5378 - val_loss: 3.6786 - val_accuracy: 0.6369\n",
            "Epoch 9/100\n",
            "2500/2500 [==============================] - 8s 3ms/step - loss: 3.7410 - accuracy: 0.5380 - val_loss: 3.6621 - val_accuracy: 0.6487\n",
            "Epoch 10/100\n",
            "2500/2500 [==============================] - 7s 3ms/step - loss: 3.7332 - accuracy: 0.5460 - val_loss: 3.6529 - val_accuracy: 0.6288\n",
            "Epoch 11/100\n",
            "2500/2500 [==============================] - 7s 3ms/step - loss: 3.7111 - accuracy: 0.5372 - val_loss: 3.6352 - val_accuracy: 0.6339\n",
            "Epoch 12/100\n",
            "2500/2500 [==============================] - 7s 3ms/step - loss: 3.6871 - accuracy: 0.5534 - val_loss: 3.6327 - val_accuracy: 0.6428\n",
            "Epoch 13/100\n",
            "2500/2500 [==============================] - 7s 3ms/step - loss: 3.6949 - accuracy: 0.5462 - val_loss: 3.5985 - val_accuracy: 0.6369\n",
            "Epoch 14/100\n",
            "2500/2500 [==============================] - 7s 3ms/step - loss: 3.6835 - accuracy: 0.5440 - val_loss: 3.6001 - val_accuracy: 0.6531\n",
            "Epoch 15/100\n",
            "2500/2500 [==============================] - 7s 3ms/step - loss: 3.6583 - accuracy: 0.5484 - val_loss: 3.6013 - val_accuracy: 0.6376\n",
            "Epoch 16/100\n",
            "2500/2500 [==============================] - 7s 3ms/step - loss: 3.6611 - accuracy: 0.5464 - val_loss: 3.5947 - val_accuracy: 0.6458\n",
            "Epoch 17/100\n",
            "2500/2500 [==============================] - 7s 3ms/step - loss: 3.6445 - accuracy: 0.5438 - val_loss: 3.5928 - val_accuracy: 0.6509\n",
            "Epoch 18/100\n",
            "2500/2500 [==============================] - 7s 3ms/step - loss: 3.6476 - accuracy: 0.5444 - val_loss: 3.5844 - val_accuracy: 0.6539\n",
            "Epoch 19/100\n",
            "2500/2500 [==============================] - 7s 3ms/step - loss: 3.6285 - accuracy: 0.5446 - val_loss: 3.5998 - val_accuracy: 0.6435\n",
            "Epoch 20/100\n",
            "2500/2500 [==============================] - 7s 3ms/step - loss: 3.6396 - accuracy: 0.5384 - val_loss: 3.5834 - val_accuracy: 0.6399\n",
            "Epoch 21/100\n",
            "2500/2500 [==============================] - 7s 3ms/step - loss: 3.6203 - accuracy: 0.5446 - val_loss: 3.5762 - val_accuracy: 0.6421\n",
            "Epoch 22/100\n",
            "2500/2500 [==============================] - 7s 3ms/step - loss: 3.6213 - accuracy: 0.5586 - val_loss: 3.5762 - val_accuracy: 0.6362\n",
            "Epoch 23/100\n",
            "2500/2500 [==============================] - 7s 3ms/step - loss: 3.6086 - accuracy: 0.5498 - val_loss: 3.5645 - val_accuracy: 0.6376\n",
            "Epoch 24/100\n",
            "2500/2500 [==============================] - 7s 3ms/step - loss: 3.6223 - accuracy: 0.5514 - val_loss: 3.5498 - val_accuracy: 0.6487\n",
            "Epoch 25/100\n",
            "2500/2500 [==============================] - 7s 3ms/step - loss: 3.5959 - accuracy: 0.5516 - val_loss: 3.5476 - val_accuracy: 0.6524\n",
            "Epoch 26/100\n",
            "2500/2500 [==============================] - 7s 3ms/step - loss: 3.6054 - accuracy: 0.5508 - val_loss: 3.5466 - val_accuracy: 0.6509\n",
            "Epoch 27/100\n",
            "2500/2500 [==============================] - 7s 3ms/step - loss: 3.6025 - accuracy: 0.5526 - val_loss: 3.5509 - val_accuracy: 0.6465\n",
            "Epoch 28/100\n",
            "2500/2500 [==============================] - 7s 3ms/step - loss: 3.5989 - accuracy: 0.5526 - val_loss: 3.5511 - val_accuracy: 0.6435\n",
            "Epoch 29/100\n",
            "2500/2500 [==============================] - 7s 3ms/step - loss: 3.5892 - accuracy: 0.5518 - val_loss: 3.5410 - val_accuracy: 0.6450\n",
            "Epoch 30/100\n",
            "2500/2500 [==============================] - 7s 3ms/step - loss: 3.6029 - accuracy: 0.5404 - val_loss: 3.5483 - val_accuracy: 0.6480\n",
            "Epoch 31/100\n",
            "2500/2500 [==============================] - 7s 3ms/step - loss: 3.5975 - accuracy: 0.5494 - val_loss: 3.5360 - val_accuracy: 0.6494\n",
            "Epoch 32/100\n",
            "2500/2500 [==============================] - 7s 3ms/step - loss: 3.6055 - accuracy: 0.5520 - val_loss: 3.5451 - val_accuracy: 0.6472\n",
            "Epoch 33/100\n",
            "2500/2500 [==============================] - 7s 3ms/step - loss: 3.5964 - accuracy: 0.5436 - val_loss: 3.5352 - val_accuracy: 0.6458\n",
            "Epoch 34/100\n",
            "2500/2500 [==============================] - 8s 3ms/step - loss: 3.5881 - accuracy: 0.5480 - val_loss: 3.5315 - val_accuracy: 0.6472\n",
            "Epoch 35/100\n",
            "2500/2500 [==============================] - 9s 3ms/step - loss: 3.5799 - accuracy: 0.5460 - val_loss: 3.5245 - val_accuracy: 0.6450\n",
            "Epoch 36/100\n",
            "2500/2500 [==============================] - 7s 3ms/step - loss: 3.5721 - accuracy: 0.5536 - val_loss: 3.5282 - val_accuracy: 0.6450\n",
            "Epoch 37/100\n",
            "2500/2500 [==============================] - 7s 3ms/step - loss: 3.5761 - accuracy: 0.5554 - val_loss: 3.5300 - val_accuracy: 0.6509\n",
            "Epoch 38/100\n",
            "2500/2500 [==============================] - 7s 3ms/step - loss: 3.5659 - accuracy: 0.5538 - val_loss: 3.5296 - val_accuracy: 0.6480\n",
            "Epoch 39/100\n",
            "2500/2500 [==============================] - 7s 3ms/step - loss: 3.5817 - accuracy: 0.5506 - val_loss: 3.5212 - val_accuracy: 0.6517\n",
            "Epoch 40/100\n",
            "2500/2500 [==============================] - 7s 3ms/step - loss: 3.5777 - accuracy: 0.5538 - val_loss: 3.5256 - val_accuracy: 0.6458\n",
            "Epoch 41/100\n",
            "2500/2500 [==============================] - 7s 3ms/step - loss: 3.5897 - accuracy: 0.5522 - val_loss: 3.5223 - val_accuracy: 0.6465\n",
            "Epoch 42/100\n",
            "2500/2500 [==============================] - 7s 3ms/step - loss: 3.5733 - accuracy: 0.5586 - val_loss: 3.5205 - val_accuracy: 0.6443\n",
            "Epoch 43/100\n",
            "2500/2500 [==============================] - 7s 3ms/step - loss: 3.5673 - accuracy: 0.5486 - val_loss: 3.5249 - val_accuracy: 0.6502\n",
            "Epoch 44/100\n",
            "2500/2500 [==============================] - 7s 3ms/step - loss: 3.5753 - accuracy: 0.5482 - val_loss: 3.5272 - val_accuracy: 0.6494\n",
            "Epoch 45/100\n",
            "2500/2500 [==============================] - 7s 3ms/step - loss: 3.5613 - accuracy: 0.5448 - val_loss: 3.5220 - val_accuracy: 0.6443\n",
            "Epoch 46/100\n",
            "2500/2500 [==============================] - 7s 3ms/step - loss: 3.5821 - accuracy: 0.5452 - val_loss: 3.5138 - val_accuracy: 0.6502\n",
            "Epoch 47/100\n",
            "2500/2500 [==============================] - 7s 3ms/step - loss: 3.5773 - accuracy: 0.5502 - val_loss: 3.5144 - val_accuracy: 0.6539\n",
            "Epoch 48/100\n",
            "2500/2500 [==============================] - 7s 3ms/step - loss: 3.5600 - accuracy: 0.5532 - val_loss: 3.5201 - val_accuracy: 0.6487\n",
            "Epoch 49/100\n",
            "2500/2500 [==============================] - 7s 3ms/step - loss: 3.5613 - accuracy: 0.5548 - val_loss: 3.5189 - val_accuracy: 0.6443\n",
            "Epoch 50/100\n",
            "2500/2500 [==============================] - 8s 3ms/step - loss: 3.5567 - accuracy: 0.5450 - val_loss: 3.5154 - val_accuracy: 0.6480\n",
            "Epoch 51/100\n",
            "2500/2500 [==============================] - 7s 3ms/step - loss: 3.5544 - accuracy: 0.5474 - val_loss: 3.5168 - val_accuracy: 0.6480\n"
          ],
          "name": "stdout"
        },
        {
          "output_type": "execute_result",
          "data": {
            "text/plain": [
              "<tensorflow.python.keras.callbacks.History at 0x7f1e97ae8828>"
            ]
          },
          "metadata": {
            "tags": []
          },
          "execution_count": 76
        }
      ]
    },
    {
      "cell_type": "code",
      "metadata": {
        "id": "CiUvZ67RtYdi",
        "colab_type": "code",
        "colab": {
          "base_uri": "https://localhost:8080/",
          "height": 119
        },
        "outputId": "10dbb6b3-3a27-46a4-eff0-110ed87f25ca"
      },
      "source": [
        "test_xy(X_test_emb_de,y_test_de,'german',model_new,0)\n",
        "test_xy(X_test_emb_fr,y_test_fr,'french',model_new,0)"
      ],
      "execution_count": null,
      "outputs": [
        {
          "output_type": "stream",
          "text": [
            "accuracy german 0.11530094271211022\n",
            "b_accuracy german 0.22278410519151745\n",
            "1379 of 1379 100 % 16\n",
            "accuracy french 0.23008849557522124\n",
            "b_accuracy french 0.38031330797349094\n",
            "452 of 452 100 % 22\n"
          ],
          "name": "stdout"
        }
      ]
    },
    {
      "cell_type": "code",
      "metadata": {
        "id": "771mi_iCz_bs",
        "colab_type": "code",
        "colab": {
          "base_uri": "https://localhost:8080/",
          "height": 1000
        },
        "outputId": "2c943b99-0e18-41af-de96-1b0e6d0576da"
      },
      "source": [
        "from sklearn.metrics import confusion_matrix\n",
        "import seaborn as sn\n",
        "import pandas as pd\n",
        "import matplotlib.pyplot as plt\n",
        "%matplotlib inline  \n",
        "\n",
        "y_pred = model_new.predict([X_test_emb_fr])\n",
        "y_pred_arg = y_pred.argmax(axis=1)\n",
        "pred= [encoder.classes_[y] for y in y_pred_arg]\n",
        "\n",
        "y_pr_lab4 = [coicop_5_4[cc5] for cc5 in pred]\n",
        "y_lab4 = [coicop_5_4[cc5] for cc5 in y_test_fr]\n",
        "print('accuracy %s'% accuracy_score(y_pr_lab4,y_lab4))\n",
        "print('b_accuracy %s'%  balanced_accuracy_score(y_pr_lab4, y_lab4))\n",
        "\n",
        "label = pd.Series(y_test_fr).unique()\n",
        "label.sort()\n",
        "cm = confusion_matrix(y_test_fr,pred,labels=label)#, normalize='true')\n",
        "\n",
        "df_cm = pd.DataFrame(cm, label,label)\n",
        "plt.figure(figsize=(15,15))\n",
        "sn.set(font_scale=.7) # for label size\n",
        "sn.heatmap(df_cm, annot=True, annot_kws={\"size\": 9}) # font size\n",
        "\n",
        "plt.show()"
      ],
      "execution_count": null,
      "outputs": [
        {
          "output_type": "stream",
          "text": [
            "accuracy 0.8230088495575221\n",
            "b_accuracy 0.8181828785920955\n"
          ],
          "name": "stdout"
        },
        {
          "output_type": "display_data",
          "data": {
            "image/png": "[encoded data removed]",
            "text/plain": [
              "<Figure size 1080x1080 with 2 Axes>"
            ]
          },
          "metadata": {
            "tags": [],
            "needs_background": "light"
          }
        }
      ]
    },
    {
      "cell_type": "code",
      "metadata": {
        "id": "HZNTUwp4oGKQ",
        "colab_type": "code",
        "colab": {}
      },
      "source": [
        "test_xy(X_test_emb_de,y_test_de,'german',de_avg_pool_2)\n",
        "test_xy(X_test_emb_fr,y_test_fr,'french',de_avg_pool_2)"
      ],
      "execution_count": null,
      "outputs": []
    },
    {
      "cell_type": "code",
      "metadata": {
        "id": "IO2e65uFcFqh",
        "colab_type": "code",
        "colab": {}
      },
      "source": [
        "#print(classification_report(pred, df_acc['cc5']))"
      ],
      "execution_count": null,
      "outputs": []
    },
    {
      "cell_type": "markdown",
      "metadata": {
        "id": "-alnrBeUhh9M",
        "colab_type": "text"
      },
      "source": [
        "2D trial"
      ]
    },
    {
      "cell_type": "code",
      "metadata": {
        "id": "G0aMETWFnrKA",
        "colab_type": "code",
        "colab": {}
      },
      "source": [
        "class text_to_embed(object):\n",
        "    '''\n",
        "    takes text and embeddingmodel as input and outputs sequence of embeddings\n",
        "    '''\n",
        "    def __init__(self\n",
        "                 , text = None\n",
        "                 , embed_de = None\n",
        "                 , embed_fr = None\n",
        "                 , seq_len = None\n",
        "                 , rep_dict = rep_dict\n",
        "                 , embedding_dim=300):\n",
        "                 \n",
        "        self.text = text\n",
        "        self.embed_de = embed_de\n",
        "        self.embed_fr = embed_fr\n",
        "        self.seq_len = seq_len\n",
        "        self.embedding_dim = embedding_dim\n",
        "\n",
        "    def t2s(self,line):\n",
        "        sen_embed = np.zeros((self.embedding_dim,self.seq_len))\n",
        "        words = line.split()\n",
        "        for w in range(0,self.seq_len):\n",
        "            try: \n",
        "                emb_fr = self.embed_fr[words[w]]\n",
        "                emb_de = self.embed_de[words[w]]\n",
        "                \n",
        "            except:\n",
        "                emb_de = np.zeros(embedding_dim)\n",
        "                emb_fr = np.zeros(embedding_dim)\n",
        "            #try: \n",
        "            #    emb_fr = self.embed_fr[words[w]]\n",
        "            #except:\n",
        "            #    emb_fr = np.zeros(embedding_dim)\n",
        "\n",
        "            emb_de = np.expand_dims(emb_de, axis=0)\n",
        "            emb_fr = np.expand_dims(emb_fr, axis=0)\n",
        "\n",
        "            if w == 0 :\n",
        "                sen_embed_de = emb_de\n",
        "                sen_embed_fr = emb_fr\n",
        "            else:\n",
        "                sen_embed_de = np.concatenate([sen_embed_de,emb_de],axis=0)\n",
        "                sen_embed_fr = np.concatenate([sen_embed_fr,emb_fr],axis=0)\n",
        "\n",
        "        sen_emb = np.stack([sen_embed_de,sen_embed_fr],axis=0)\n",
        "        return sen_emb #np.array(tokens)\n",
        "\n",
        "    def t2s_old(self,line):\n",
        "        #tokens = []\n",
        "        sen_embed = np.zeros((self.embedding_dim,self.seq_len))\n",
        "        words = line.split()\n",
        "        for w in range(0,self.seq_len):\n",
        "            try: \n",
        "              if la == 'de':\n",
        "                  emb = self.embed_de[words[w]]\n",
        "              elif la == 'fr':\n",
        "                  emb = self.embed_fr[words[w]]\n",
        "              else:\n",
        "                  print(la)\n",
        "                  emb = np.zeros(self.embedding_dim)\n",
        "            except:\n",
        "                emb = np.zeros(self.embedding_dim)\n",
        "            #tokens.append(tok)\n",
        "            sen_embed[:,w] = emb\n",
        "\n",
        "        sen_embed = np.swapaxes(sen_embed,0,1)\n",
        "        return sen_embed #np.array(tokens)\n",
        "\n",
        "    def __iter__(self):\n",
        "        for line in tqdm(self.text):\n",
        "            line = self.t2s(line)\n",
        "            yield line"
      ],
      "execution_count": null,
      "outputs": []
    },
    {
      "cell_type": "code",
      "metadata": {
        "id": "tK7NG-6DovR1",
        "colab_type": "code",
        "colab": {
          "base_uri": "https://localhost:8080/",
          "height": 119
        },
        "outputId": "aa2f9d79-1479-415c-fa10-dde2e02982c7"
      },
      "source": [
        "X_train_emb_de = np.array(list(text_to_embed(X_train_de,  de_git_embed, fr_git_embed, seq_len=seq_len)))\n",
        "X_val_emb_de = np.array(list(text_to_embed(X_val_de, de_git_embed, fr_git_embed, seq_len=seq_len)))\n",
        "X_test_emb_de = np.array(list(text_to_embed(X_test_de, de_git_embed, fr_git_embed, seq_len=seq_len)))\n",
        "\n",
        "X_train_emb_fr = np.array(list(text_to_embed(X_train_fr, de_git_embed, fr_git_embed, seq_len=seq_len)))\n",
        "X_val_emb_fr = np.array(list(text_to_embed(X_val_fr, de_git_embed, fr_git_embed, seq_len=seq_len)))\n",
        "X_test_emb_fr = np.array(list(text_to_embed(X_test_fr, de_git_embed, fr_git_embed, seq_len=seq_len)))"
      ],
      "execution_count": null,
      "outputs": [
        {
          "output_type": "stream",
          "text": [
            "100%|██████████| 16548/16548 [00:16<00:00, 976.32it/s]\n",
            "100%|██████████| 4137/4137 [00:03<00:00, 1152.38it/s]\n",
            "100%|██████████| 1379/1379 [00:01<00:00, 1145.95it/s]\n",
            "100%|██████████| 5418/5418 [00:04<00:00, 1213.12it/s]\n",
            "100%|██████████| 1355/1355 [00:01<00:00, 1213.65it/s]\n",
            "100%|██████████| 452/452 [00:00<00:00, 1134.44it/s]\n"
          ],
          "name": "stderr"
        }
      ]
    },
    {
      "cell_type": "code",
      "metadata": {
        "id": "l9l9t7lkXE_h",
        "colab_type": "code",
        "colab": {
          "base_uri": "https://localhost:8080/",
          "height": 51
        },
        "outputId": "9a418444-32f9-497c-966a-d7ffc6cc2abe"
      },
      "source": [
        "print('de',X_train_emb_de.shape, X_val_emb_de.shape, X_test_emb_de.shape)\n",
        "print('fr',X_train_emb_fr.shape, X_val_emb_fr.shape, X_test_emb_fr.shape)"
      ],
      "execution_count": null,
      "outputs": [
        {
          "output_type": "stream",
          "text": [
            "de (16548, 2, 39, 300) (4137, 2, 39, 300) (1379, 2, 39, 300)\n",
            "fr (5418, 2, 39, 300) (1355, 2, 39, 300) (452, 2, 39, 300)\n"
          ],
          "name": "stdout"
        }
      ]
    },
    {
      "cell_type": "code",
      "metadata": {
        "id": "t61BbGrZXEvX",
        "colab_type": "code",
        "colab": {
          "base_uri": "https://localhost:8080/",
          "height": 1000
        },
        "outputId": "9afe884c-676b-4ba3-e253-63dcb3b22e5a"
      },
      "source": [
        "from tensorflow.keras.layers import Input,Conv2D,MaxPooling2D,GlobalAveragePooling2D,Dropout,Flatten,AveragePooling2D\n",
        "dropout_rate=.60\n",
        "\n",
        "input_layer = Input(shape = (2,seq_len,embedding_dim,), name='text_input')\n",
        "pool_layer = AveragePooling2D(pool_size=(2, 1),name='avg_pooling2')(input_layer)\n",
        "#conv_layer = Conv2D(150, kernel_size=(10, 3), activation='relu', padding=\"same\")(input_layer)\n",
        "pool_layer = AveragePooling2D(pool_size=(1, 5),name='avg_pooling3')(pool_layer)\n",
        "#conv_layer = Conv2D(50, kernel_size=(3, 3), activation='relu', padding=\"same\")(conv_layer)\n",
        "#conv_layer = AveragePooling2D(pool_size=(1, 3),name='avg_pooling3')(conv_layer)\n",
        "#mask_layer = Masking(mask_value=0.)(input_layer)\n",
        "#pool_layer = AveragePooling2D(pool_size=(2, 1),name='avg_pooling')(conv_layer)\n",
        "pool_layer = Flatten()(pool_layer)\n",
        "#pool_layer = GlobalAveragePooling2D(name='avg_pooling')(pool_layer)\n",
        "dens_layer = Dense(150, activation='relu',name='dense')(pool_layer)\n",
        "drop_layer = Dropout(dropout_rate)(pool_layer)\n",
        "pred_layer_3 = Dense(no_Classes, activation = 'softmax', name='out')(drop_layer) \n",
        "\n",
        "de_avg_pool = Model(inputs = [input_layer], outputs = [pred_layer_3])\n",
        "\n",
        "lr = .005\n",
        "opt = Adam(lr=lr, decay=lr/200)\n",
        "de_avg_pool.summary()\n",
        "de_avg_pool.compile(optimizer = opt, loss = ['categorical_crossentropy'], metrics = ['accuracy'])\n",
        "early_stopping = EarlyStopping(patience = 5)\n",
        "\n",
        "hist = de_avg_pool.fit(x = X_train_emb_de, y = y_train_enc_de,\\\n",
        "                validation_data = (X_val_emb_de, y_val_enc_de), \\\n",
        "                epochs = 100, batch_size = 256, shuffle = True, \\\n",
        "                class_weight = class_weight_dict_de, \\\n",
        "                callbacks = [early_stopping])"
      ],
      "execution_count": null,
      "outputs": [
        {
          "output_type": "stream",
          "text": [
            "Model: \"model_3\"\n",
            "_________________________________________________________________\n",
            "Layer (type)                 Output Shape              Param #   \n",
            "=================================================================\n",
            "text_input (InputLayer)      [(None, 2, 39, 300)]      0         \n",
            "_________________________________________________________________\n",
            "avg_pooling2 (AveragePooling (None, 1, 39, 300)        0         \n",
            "_________________________________________________________________\n",
            "avg_pooling3 (AveragePooling (None, 1, 7, 300)         0         \n",
            "_________________________________________________________________\n",
            "flatten_3 (Flatten)          (None, 2100)              0         \n",
            "_________________________________________________________________\n",
            "dropout_4 (Dropout)          (None, 2100)              0         \n",
            "_________________________________________________________________\n",
            "out (Dense)                  (None, 74)                155474    \n",
            "=================================================================\n",
            "Total params: 155,474\n",
            "Trainable params: 155,474\n",
            "Non-trainable params: 0\n",
            "_________________________________________________________________\n",
            "Epoch 1/100\n",
            "65/65 [==============================] - 2s 25ms/step - loss: 3.6632 - accuracy: 0.3765 - val_loss: 2.8335 - val_accuracy: 0.5644\n",
            "Epoch 2/100\n",
            "65/65 [==============================] - 1s 23ms/step - loss: 2.6933 - accuracy: 0.6073 - val_loss: 2.1639 - val_accuracy: 0.6974\n",
            "Epoch 3/100\n",
            "65/65 [==============================] - 1s 22ms/step - loss: 2.0983 - accuracy: 0.7037 - val_loss: 1.7299 - val_accuracy: 0.7677\n",
            "Epoch 4/100\n",
            "65/65 [==============================] - 2s 27ms/step - loss: 1.7079 - accuracy: 0.7615 - val_loss: 1.4439 - val_accuracy: 0.7984\n",
            "Epoch 5/100\n",
            "65/65 [==============================] - 1s 22ms/step - loss: 1.4402 - accuracy: 0.7880 - val_loss: 1.2406 - val_accuracy: 0.8250\n",
            "Epoch 6/100\n",
            "65/65 [==============================] - 1s 23ms/step - loss: 1.2516 - accuracy: 0.8122 - val_loss: 1.0865 - val_accuracy: 0.8397\n",
            "Epoch 7/100\n",
            "65/65 [==============================] - 2s 23ms/step - loss: 1.1020 - accuracy: 0.8275 - val_loss: 0.9663 - val_accuracy: 0.8494\n",
            "Epoch 8/100\n",
            "65/65 [==============================] - 1s 22ms/step - loss: 0.9928 - accuracy: 0.8424 - val_loss: 0.8801 - val_accuracy: 0.8550\n",
            "Epoch 9/100\n",
            "65/65 [==============================] - 1s 23ms/step - loss: 0.9063 - accuracy: 0.8504 - val_loss: 0.8145 - val_accuracy: 0.8615\n",
            "Epoch 10/100\n",
            "65/65 [==============================] - 1s 23ms/step - loss: 0.8367 - accuracy: 0.8576 - val_loss: 0.7568 - val_accuracy: 0.8724\n",
            "Epoch 11/100\n",
            "65/65 [==============================] - 1s 22ms/step - loss: 0.7820 - accuracy: 0.8652 - val_loss: 0.7076 - val_accuracy: 0.8787\n",
            "Epoch 12/100\n",
            "65/65 [==============================] - 1s 23ms/step - loss: 0.7277 - accuracy: 0.8679 - val_loss: 0.6644 - val_accuracy: 0.8770\n",
            "Epoch 13/100\n",
            "65/65 [==============================] - 1s 22ms/step - loss: 0.6912 - accuracy: 0.8715 - val_loss: 0.6302 - val_accuracy: 0.8903\n",
            "Epoch 14/100\n",
            "65/65 [==============================] - 1s 22ms/step - loss: 0.6535 - accuracy: 0.8809 - val_loss: 0.5997 - val_accuracy: 0.8912\n",
            "Epoch 15/100\n",
            "65/65 [==============================] - 1s 22ms/step - loss: 0.6150 - accuracy: 0.8820 - val_loss: 0.5748 - val_accuracy: 0.8953\n",
            "Epoch 16/100\n",
            "65/65 [==============================] - 1s 22ms/step - loss: 0.5907 - accuracy: 0.8876 - val_loss: 0.5480 - val_accuracy: 0.9031\n",
            "Epoch 17/100\n",
            "65/65 [==============================] - 1s 22ms/step - loss: 0.5670 - accuracy: 0.8922 - val_loss: 0.5313 - val_accuracy: 0.9023\n",
            "Epoch 18/100\n",
            "65/65 [==============================] - 1s 22ms/step - loss: 0.5395 - accuracy: 0.8933 - val_loss: 0.5116 - val_accuracy: 0.9067\n",
            "Epoch 19/100\n",
            "65/65 [==============================] - 1s 21ms/step - loss: 0.5227 - accuracy: 0.8938 - val_loss: 0.4913 - val_accuracy: 0.9110\n",
            "Epoch 20/100\n",
            "65/65 [==============================] - 1s 22ms/step - loss: 0.5065 - accuracy: 0.8989 - val_loss: 0.4820 - val_accuracy: 0.9096\n",
            "Epoch 21/100\n",
            "65/65 [==============================] - 1s 22ms/step - loss: 0.4845 - accuracy: 0.9008 - val_loss: 0.4659 - val_accuracy: 0.9139\n",
            "Epoch 22/100\n",
            "65/65 [==============================] - 1s 21ms/step - loss: 0.4742 - accuracy: 0.9020 - val_loss: 0.4579 - val_accuracy: 0.9142\n",
            "Epoch 23/100\n",
            "65/65 [==============================] - 1s 22ms/step - loss: 0.4591 - accuracy: 0.9061 - val_loss: 0.4431 - val_accuracy: 0.9200\n",
            "Epoch 24/100\n",
            "65/65 [==============================] - 1s 22ms/step - loss: 0.4505 - accuracy: 0.9043 - val_loss: 0.4344 - val_accuracy: 0.9212\n",
            "Epoch 25/100\n",
            "65/65 [==============================] - 1s 22ms/step - loss: 0.4372 - accuracy: 0.9081 - val_loss: 0.4244 - val_accuracy: 0.9185\n",
            "Epoch 26/100\n",
            "65/65 [==============================] - 1s 21ms/step - loss: 0.4236 - accuracy: 0.9086 - val_loss: 0.4154 - val_accuracy: 0.9217\n",
            "Epoch 27/100\n",
            "65/65 [==============================] - 1s 21ms/step - loss: 0.4156 - accuracy: 0.9101 - val_loss: 0.4062 - val_accuracy: 0.9241\n",
            "Epoch 28/100\n",
            "65/65 [==============================] - 1s 22ms/step - loss: 0.4054 - accuracy: 0.9124 - val_loss: 0.3984 - val_accuracy: 0.9246\n",
            "Epoch 29/100\n",
            "65/65 [==============================] - 1s 22ms/step - loss: 0.3952 - accuracy: 0.9141 - val_loss: 0.3938 - val_accuracy: 0.9234\n",
            "Epoch 30/100\n",
            "65/65 [==============================] - 1s 21ms/step - loss: 0.3861 - accuracy: 0.9148 - val_loss: 0.3893 - val_accuracy: 0.9251\n",
            "Epoch 31/100\n",
            "65/65 [==============================] - 1s 22ms/step - loss: 0.3794 - accuracy: 0.9132 - val_loss: 0.3778 - val_accuracy: 0.9268\n",
            "Epoch 32/100\n",
            "65/65 [==============================] - 1s 22ms/step - loss: 0.3702 - accuracy: 0.9157 - val_loss: 0.3726 - val_accuracy: 0.9275\n",
            "Epoch 33/100\n",
            "65/65 [==============================] - 1s 22ms/step - loss: 0.3637 - accuracy: 0.9155 - val_loss: 0.3672 - val_accuracy: 0.9285\n",
            "Epoch 34/100\n",
            "65/65 [==============================] - 1s 22ms/step - loss: 0.3539 - accuracy: 0.9191 - val_loss: 0.3608 - val_accuracy: 0.9289\n",
            "Epoch 35/100\n",
            "65/65 [==============================] - 1s 22ms/step - loss: 0.3472 - accuracy: 0.9204 - val_loss: 0.3575 - val_accuracy: 0.9294\n",
            "Epoch 36/100\n",
            "65/65 [==============================] - 2s 25ms/step - loss: 0.3457 - accuracy: 0.9190 - val_loss: 0.3521 - val_accuracy: 0.9285\n",
            "Epoch 37/100\n",
            "65/65 [==============================] - 2s 23ms/step - loss: 0.3395 - accuracy: 0.9202 - val_loss: 0.3484 - val_accuracy: 0.9285\n",
            "Epoch 38/100\n",
            "65/65 [==============================] - 1s 22ms/step - loss: 0.3291 - accuracy: 0.9236 - val_loss: 0.3436 - val_accuracy: 0.9292\n",
            "Epoch 39/100\n",
            "65/65 [==============================] - 1s 22ms/step - loss: 0.3283 - accuracy: 0.9219 - val_loss: 0.3412 - val_accuracy: 0.9316\n",
            "Epoch 40/100\n",
            "65/65 [==============================] - 1s 21ms/step - loss: 0.3205 - accuracy: 0.9223 - val_loss: 0.3386 - val_accuracy: 0.9294\n",
            "Epoch 41/100\n",
            "65/65 [==============================] - 1s 22ms/step - loss: 0.3235 - accuracy: 0.9222 - val_loss: 0.3352 - val_accuracy: 0.9285\n",
            "Epoch 42/100\n",
            "65/65 [==============================] - 1s 22ms/step - loss: 0.3112 - accuracy: 0.9249 - val_loss: 0.3318 - val_accuracy: 0.9301\n",
            "Epoch 43/100\n",
            "65/65 [==============================] - 1s 22ms/step - loss: 0.3042 - accuracy: 0.9266 - val_loss: 0.3277 - val_accuracy: 0.9306\n",
            "Epoch 44/100\n",
            "65/65 [==============================] - 1s 21ms/step - loss: 0.3057 - accuracy: 0.9281 - val_loss: 0.3235 - val_accuracy: 0.9311\n",
            "Epoch 45/100\n",
            "65/65 [==============================] - 1s 21ms/step - loss: 0.2973 - accuracy: 0.9265 - val_loss: 0.3217 - val_accuracy: 0.9345\n",
            "Epoch 46/100\n",
            "65/65 [==============================] - 1s 22ms/step - loss: 0.2936 - accuracy: 0.9282 - val_loss: 0.3193 - val_accuracy: 0.9318\n",
            "Epoch 47/100\n",
            "65/65 [==============================] - 1s 21ms/step - loss: 0.2929 - accuracy: 0.9267 - val_loss: 0.3159 - val_accuracy: 0.9326\n",
            "Epoch 48/100\n",
            "65/65 [==============================] - 1s 22ms/step - loss: 0.2881 - accuracy: 0.9274 - val_loss: 0.3147 - val_accuracy: 0.9340\n",
            "Epoch 49/100\n",
            "65/65 [==============================] - 1s 21ms/step - loss: 0.2861 - accuracy: 0.9278 - val_loss: 0.3126 - val_accuracy: 0.9335\n",
            "Epoch 50/100\n",
            "65/65 [==============================] - 1s 21ms/step - loss: 0.2879 - accuracy: 0.9265 - val_loss: 0.3088 - val_accuracy: 0.9328\n",
            "Epoch 51/100\n",
            "65/65 [==============================] - 1s 22ms/step - loss: 0.2755 - accuracy: 0.9313 - val_loss: 0.3057 - val_accuracy: 0.9340\n",
            "Epoch 52/100\n",
            "65/65 [==============================] - 1s 22ms/step - loss: 0.2750 - accuracy: 0.9307 - val_loss: 0.3053 - val_accuracy: 0.9335\n",
            "Epoch 53/100\n",
            "65/65 [==============================] - 1s 22ms/step - loss: 0.2707 - accuracy: 0.9310 - val_loss: 0.3033 - val_accuracy: 0.9321\n",
            "Epoch 54/100\n",
            "65/65 [==============================] - 1s 21ms/step - loss: 0.2676 - accuracy: 0.9332 - val_loss: 0.3007 - val_accuracy: 0.9347\n",
            "Epoch 55/100\n",
            "65/65 [==============================] - 1s 23ms/step - loss: 0.2683 - accuracy: 0.9272 - val_loss: 0.2972 - val_accuracy: 0.9347\n",
            "Epoch 56/100\n",
            "65/65 [==============================] - 2s 23ms/step - loss: 0.2597 - accuracy: 0.9339 - val_loss: 0.2974 - val_accuracy: 0.9362\n",
            "Epoch 57/100\n",
            "65/65 [==============================] - 1s 22ms/step - loss: 0.2587 - accuracy: 0.9330 - val_loss: 0.2962 - val_accuracy: 0.9350\n",
            "Epoch 58/100\n",
            "65/65 [==============================] - 1s 22ms/step - loss: 0.2599 - accuracy: 0.9354 - val_loss: 0.2949 - val_accuracy: 0.9362\n",
            "Epoch 59/100\n",
            "65/65 [==============================] - 1s 22ms/step - loss: 0.2559 - accuracy: 0.9334 - val_loss: 0.2932 - val_accuracy: 0.9362\n",
            "Epoch 60/100\n",
            "65/65 [==============================] - 1s 22ms/step - loss: 0.2565 - accuracy: 0.9325 - val_loss: 0.2924 - val_accuracy: 0.9352\n",
            "Epoch 61/100\n",
            "65/65 [==============================] - 1s 22ms/step - loss: 0.2503 - accuracy: 0.9357 - val_loss: 0.2893 - val_accuracy: 0.9369\n",
            "Epoch 62/100\n",
            "65/65 [==============================] - 1s 22ms/step - loss: 0.2503 - accuracy: 0.9331 - val_loss: 0.2878 - val_accuracy: 0.9359\n",
            "Epoch 63/100\n",
            "65/65 [==============================] - 1s 22ms/step - loss: 0.2467 - accuracy: 0.9352 - val_loss: 0.2880 - val_accuracy: 0.9347\n",
            "Epoch 64/100\n",
            "65/65 [==============================] - 1s 22ms/step - loss: 0.2430 - accuracy: 0.9341 - val_loss: 0.2857 - val_accuracy: 0.9362\n",
            "Epoch 65/100\n",
            "65/65 [==============================] - 1s 22ms/step - loss: 0.2420 - accuracy: 0.9351 - val_loss: 0.2845 - val_accuracy: 0.9345\n",
            "Epoch 66/100\n",
            "65/65 [==============================] - 1s 22ms/step - loss: 0.2350 - accuracy: 0.9371 - val_loss: 0.2821 - val_accuracy: 0.9359\n",
            "Epoch 67/100\n",
            "65/65 [==============================] - 1s 22ms/step - loss: 0.2440 - accuracy: 0.9338 - val_loss: 0.2815 - val_accuracy: 0.9369\n",
            "Epoch 68/100\n",
            "65/65 [==============================] - 1s 22ms/step - loss: 0.2361 - accuracy: 0.9341 - val_loss: 0.2806 - val_accuracy: 0.9367\n",
            "Epoch 69/100\n",
            "65/65 [==============================] - 1s 22ms/step - loss: 0.2316 - accuracy: 0.9359 - val_loss: 0.2800 - val_accuracy: 0.9355\n",
            "Epoch 70/100\n",
            "65/65 [==============================] - 1s 21ms/step - loss: 0.2307 - accuracy: 0.9393 - val_loss: 0.2802 - val_accuracy: 0.9347\n",
            "Epoch 71/100\n",
            "65/65 [==============================] - 1s 21ms/step - loss: 0.2370 - accuracy: 0.9353 - val_loss: 0.2786 - val_accuracy: 0.9367\n",
            "Epoch 72/100\n",
            "65/65 [==============================] - 1s 21ms/step - loss: 0.2300 - accuracy: 0.9378 - val_loss: 0.2746 - val_accuracy: 0.9372\n",
            "Epoch 73/100\n",
            "65/65 [==============================] - 1s 21ms/step - loss: 0.2320 - accuracy: 0.9361 - val_loss: 0.2797 - val_accuracy: 0.9347\n",
            "Epoch 74/100\n",
            "65/65 [==============================] - 1s 22ms/step - loss: 0.2244 - accuracy: 0.9367 - val_loss: 0.2752 - val_accuracy: 0.9367\n",
            "Epoch 75/100\n",
            "65/65 [==============================] - 1s 21ms/step - loss: 0.2236 - accuracy: 0.9428 - val_loss: 0.2744 - val_accuracy: 0.9372\n",
            "Epoch 76/100\n",
            "65/65 [==============================] - 1s 21ms/step - loss: 0.2226 - accuracy: 0.9385 - val_loss: 0.2722 - val_accuracy: 0.9372\n",
            "Epoch 77/100\n",
            "65/65 [==============================] - 1s 21ms/step - loss: 0.2262 - accuracy: 0.9379 - val_loss: 0.2709 - val_accuracy: 0.9374\n",
            "Epoch 78/100\n",
            "65/65 [==============================] - 1s 22ms/step - loss: 0.2198 - accuracy: 0.9382 - val_loss: 0.2686 - val_accuracy: 0.9374\n",
            "Epoch 79/100\n",
            "65/65 [==============================] - 1s 22ms/step - loss: 0.2176 - accuracy: 0.9411 - val_loss: 0.2714 - val_accuracy: 0.9367\n",
            "Epoch 80/100\n",
            "65/65 [==============================] - 1s 21ms/step - loss: 0.2165 - accuracy: 0.9378 - val_loss: 0.2720 - val_accuracy: 0.9350\n",
            "Epoch 81/100\n",
            "65/65 [==============================] - 1s 21ms/step - loss: 0.2100 - accuracy: 0.9401 - val_loss: 0.2694 - val_accuracy: 0.9367\n",
            "Epoch 82/100\n",
            "65/65 [==============================] - 1s 22ms/step - loss: 0.2097 - accuracy: 0.9424 - val_loss: 0.2690 - val_accuracy: 0.9369\n",
            "Epoch 83/100\n",
            "65/65 [==============================] - 2s 28ms/step - loss: 0.2126 - accuracy: 0.9406 - val_loss: 0.2685 - val_accuracy: 0.9379\n",
            "Epoch 84/100\n",
            "65/65 [==============================] - 1s 22ms/step - loss: 0.2126 - accuracy: 0.9403 - val_loss: 0.2660 - val_accuracy: 0.9376\n",
            "Epoch 85/100\n",
            "65/65 [==============================] - 1s 22ms/step - loss: 0.2160 - accuracy: 0.9412 - val_loss: 0.2684 - val_accuracy: 0.9359\n",
            "Epoch 86/100\n",
            "65/65 [==============================] - 1s 22ms/step - loss: 0.2122 - accuracy: 0.9400 - val_loss: 0.2646 - val_accuracy: 0.9388\n",
            "Epoch 87/100\n",
            "65/65 [==============================] - 1s 22ms/step - loss: 0.2126 - accuracy: 0.9401 - val_loss: 0.2662 - val_accuracy: 0.9367\n",
            "Epoch 88/100\n",
            "65/65 [==============================] - 1s 21ms/step - loss: 0.2057 - accuracy: 0.9407 - val_loss: 0.2656 - val_accuracy: 0.9381\n",
            "Epoch 89/100\n",
            "65/65 [==============================] - 1s 21ms/step - loss: 0.2077 - accuracy: 0.9396 - val_loss: 0.2633 - val_accuracy: 0.9391\n",
            "Epoch 90/100\n",
            "65/65 [==============================] - 1s 21ms/step - loss: 0.2042 - accuracy: 0.9411 - val_loss: 0.2632 - val_accuracy: 0.9396\n",
            "Epoch 91/100\n",
            "65/65 [==============================] - 1s 21ms/step - loss: 0.2030 - accuracy: 0.9422 - val_loss: 0.2655 - val_accuracy: 0.9374\n",
            "Epoch 92/100\n",
            "65/65 [==============================] - 1s 21ms/step - loss: 0.2037 - accuracy: 0.9401 - val_loss: 0.2648 - val_accuracy: 0.9381\n",
            "Epoch 93/100\n",
            "65/65 [==============================] - 1s 22ms/step - loss: 0.2043 - accuracy: 0.9398 - val_loss: 0.2620 - val_accuracy: 0.9388\n",
            "Epoch 94/100\n",
            "65/65 [==============================] - 1s 22ms/step - loss: 0.1985 - accuracy: 0.9428 - val_loss: 0.2627 - val_accuracy: 0.9379\n",
            "Epoch 95/100\n",
            "65/65 [==============================] - 1s 22ms/step - loss: 0.2003 - accuracy: 0.9412 - val_loss: 0.2606 - val_accuracy: 0.9384\n",
            "Epoch 96/100\n",
            "65/65 [==============================] - 1s 22ms/step - loss: 0.2012 - accuracy: 0.9415 - val_loss: 0.2583 - val_accuracy: 0.9384\n",
            "Epoch 97/100\n",
            "65/65 [==============================] - 1s 22ms/step - loss: 0.1991 - accuracy: 0.9419 - val_loss: 0.2605 - val_accuracy: 0.9388\n",
            "Epoch 98/100\n",
            "65/65 [==============================] - 1s 21ms/step - loss: 0.1970 - accuracy: 0.9424 - val_loss: 0.2598 - val_accuracy: 0.9376\n",
            "Epoch 99/100\n",
            "65/65 [==============================] - 1s 21ms/step - loss: 0.1951 - accuracy: 0.9406 - val_loss: 0.2605 - val_accuracy: 0.9396\n",
            "Epoch 100/100\n",
            "65/65 [==============================] - 1s 21ms/step - loss: 0.1986 - accuracy: 0.9422 - val_loss: 0.2577 - val_accuracy: 0.9391\n"
          ],
          "name": "stdout"
        }
      ]
    },
    {
      "cell_type": "code",
      "metadata": {
        "id": "YV1nqSl1XEr2",
        "colab_type": "code",
        "colab": {
          "base_uri": "https://localhost:8080/",
          "height": 85
        },
        "outputId": "beca28c9-2af7-43de-98a9-e1fe2bf8daf6"
      },
      "source": [
        "import json\n",
        "from sklearn.metrics import accuracy_score, confusion_matrix, classification_report,balanced_accuracy_score,confusion_matrix\n",
        "import numpy as np\n",
        "\n",
        "def test_xy(X,y,string,model):\n",
        "    y_pred = model.predict([X])\n",
        "    y_pred_arg = y_pred.argmax(axis=1)\n",
        "    pred= [encoder.classes_[y] for y in y_pred_arg]\n",
        "    print('accuracy %s'% string,accuracy_score(pred,y))\n",
        "    print('b_accuracy %s'%  string,balanced_accuracy_score(pred, y))\n",
        "    #return pred, y\n",
        "\n",
        "#test_xy(X_test_emb_de,y_test_de,'together')\n",
        "test_xy(X_test_emb_de,y_test_de,'german',de_avg_pool)\n",
        "test_xy(X_test_emb_fr,y_test_fr,'french',de_avg_pool)\n",
        "#print(classification_report(y,pred))"
      ],
      "execution_count": null,
      "outputs": [
        {
          "output_type": "stream",
          "text": [
            "accuracy german 0.9448875997099347\n",
            "b_accuracy german 0.9182864977317509\n",
            "accuracy french 0.3252212389380531\n",
            "b_accuracy french 0.36125857686998997\n"
          ],
          "name": "stdout"
        }
      ]
    },
    {
      "cell_type": "markdown",
      "metadata": {
        "id": "-zESsGd7UHiw",
        "colab_type": "text"
      },
      "source": [
        "# Multilingual Training"
      ]
    },
    {
      "cell_type": "markdown",
      "metadata": {
        "id": "tmpt9P4RQxqn",
        "colab_type": "text"
      },
      "source": [
        "## CNN"
      ]
    },
    {
      "cell_type": "code",
      "metadata": {
        "id": "150UxiyYfHBn",
        "colab_type": "code",
        "colab": {}
      },
      "source": [
        "X_train_emb =  np.concatenate((X_train_emb_de, X_train_emb_fr))\n",
        "y_train_enc =  np.concatenate((y_train_enc_de, y_train_enc_fr))\n",
        "X_val_emb =  np.concatenate((X_val_emb_de, X_val_emb_fr))\n",
        "y_val_enc =  np.concatenate((y_val_enc_de, y_val_enc_fr))"
      ],
      "execution_count": null,
      "outputs": []
    },
    {
      "cell_type": "code",
      "metadata": {
        "id": "vVr10pC0E_Js",
        "colab_type": "code",
        "colab": {
          "base_uri": "https://localhost:8080/",
          "height": 765
        },
        "outputId": "9ae06ff9-8634-4a8d-c2bd-291abdb94874"
      },
      "source": [
        "import tensorflow as tf\n",
        "from tensorflow.keras.models import Model\n",
        "from tensorflow.keras.layers import Input, Dropout, Dense, Bidirectional, GlobalAveragePooling1D, Concatenate,LSTM,BatchNormalization,Add,Masking,GlobalMaxPooling1D,Conv1D\n",
        "from tensorflow.keras.optimizers import Adam\n",
        "from tensorflow.keras.callbacks import EarlyStopping, ModelCheckpoint, TensorBoard\n",
        "\n",
        "dropout_rate=.7\n",
        "\n",
        "input_imbd_1 = Input(shape = (seq_len,embedding_dim,), name='text_input')\n",
        "mask_layer = Masking(mask_value=0.)(input_imbd_1)\n",
        "conv_layer = Conv1D(filters=300,   kernel_size= 10,   padding='valid',  activation='relu', strides=1)(input_imbd_1)\n",
        "conv_layer2 = Conv1D(filters=100,   kernel_size= 5,   padding='valid',  activation='relu', strides=2)(input_imbd_1)\n",
        "#lstm_layer_1 = Bidirectional(LSTM(128,activation = 'tanh',recurrent_activation = 'sigmoid', dropout = dropout_rate,recurrent_dropout = 0, unroll = False,use_bias = True))(conv_layer)\n",
        "lstm_layer_1 = GlobalAveragePooling1D()(conv_layer)\n",
        "#lstm_layer_1 = GlobalMaxPooling1D()(conv_layer)\n",
        "dens_layer_1 = Dense(100, activation='relu')(lstm_layer_1)\n",
        "drop_layer_1 = Dropout(dropout_rate)(dens_layer_1)\n",
        "pred_layer_3 = Dense(74, activation = 'softmax', name='o3')(drop_layer_1) \n",
        "\n",
        "de_cnn_avg = Model(inputs = [input_imbd_1], outputs = [pred_layer_3])\n",
        "\n",
        "lr = .001\n",
        "opt = Adam(lr=lr, decay=lr/100)\n",
        "\n",
        "de_cnn_avg.compile(optimizer = opt, loss = ['categorical_crossentropy'], metrics = ['accuracy'])\n",
        "early_stopping = EarlyStopping(patience = 5)\n",
        "de_cnn_avg.summary()\n",
        "hist = de_cnn_avg.fit(x = X_train_emb, y = y_train_enc,\\\n",
        "                validation_data = (X_val_emb, y_val_enc), \\\n",
        "                epochs = 150, batch_size = 64, shuffle = True, \\\n",
        "                class_weight = class_weight_dict_de_fr, \\\n",
        "                callbacks = [early_stopping])"
      ],
      "execution_count": null,
      "outputs": [
        {
          "output_type": "stream",
          "text": [
            "Model: \"model_6\"\n",
            "_________________________________________________________________\n",
            "Layer (type)                 Output Shape              Param #   \n",
            "=================================================================\n",
            "text_input (InputLayer)      [(None, 39, 300)]         0         \n",
            "_________________________________________________________________\n",
            "conv1d_2 (Conv1D)            (None, 30, 300)           900300    \n",
            "_________________________________________________________________\n",
            "global_average_pooling1d_1 ( (None, 300)               0         \n",
            "_________________________________________________________________\n",
            "dense_1 (Dense)              (None, 100)               30100     \n",
            "_________________________________________________________________\n",
            "dropout_6 (Dropout)          (None, 100)               0         \n",
            "_________________________________________________________________\n",
            "o3 (Dense)                   (None, 74)                7474      \n",
            "=================================================================\n",
            "Total params: 937,874\n",
            "Trainable params: 937,874\n",
            "Non-trainable params: 0\n",
            "_________________________________________________________________\n",
            "Epoch 1/150\n",
            "287/287 [==============================] - 2s 8ms/step - loss: 3.8973 - accuracy: 0.0904 - val_loss: 3.2590 - val_accuracy: 0.2966\n",
            "Epoch 2/150\n",
            "287/287 [==============================] - 2s 7ms/step - loss: 3.0772 - accuracy: 0.2140 - val_loss: 2.4607 - val_accuracy: 0.4618\n",
            "Epoch 3/150\n",
            "287/287 [==============================] - 2s 7ms/step - loss: 2.4684 - accuracy: 0.3165 - val_loss: 2.0463 - val_accuracy: 0.5322\n",
            "Epoch 4/150\n",
            "287/287 [==============================] - 2s 7ms/step - loss: 2.0671 - accuracy: 0.3916 - val_loss: 1.8252 - val_accuracy: 0.5841\n",
            "Epoch 5/150\n",
            "287/287 [==============================] - 2s 7ms/step - loss: 1.7935 - accuracy: 0.4454 - val_loss: 1.6874 - val_accuracy: 0.6227\n",
            "Epoch 6/150\n",
            "287/287 [==============================] - 2s 7ms/step - loss: 1.6152 - accuracy: 0.5006 - val_loss: 1.5642 - val_accuracy: 0.6615\n",
            "Epoch 7/150\n",
            "287/287 [==============================] - 2s 6ms/step - loss: 1.4624 - accuracy: 0.5392 - val_loss: 1.4705 - val_accuracy: 0.6788\n",
            "Epoch 8/150\n",
            "287/287 [==============================] - 2s 6ms/step - loss: 1.3761 - accuracy: 0.5704 - val_loss: 1.5089 - val_accuracy: 0.6723\n",
            "Epoch 9/150\n",
            "287/287 [==============================] - 2s 6ms/step - loss: 1.2516 - accuracy: 0.5968 - val_loss: 1.5256 - val_accuracy: 0.6994\n",
            "Epoch 10/150\n",
            "287/287 [==============================] - 2s 6ms/step - loss: 1.1876 - accuracy: 0.6151 - val_loss: 1.4961 - val_accuracy: 0.7139\n",
            "Epoch 11/150\n",
            "287/287 [==============================] - 2s 6ms/step - loss: 1.0963 - accuracy: 0.6458 - val_loss: 1.5201 - val_accuracy: 0.7229\n",
            "Epoch 12/150\n",
            "287/287 [==============================] - 2s 7ms/step - loss: 1.0545 - accuracy: 0.6598 - val_loss: 1.4900 - val_accuracy: 0.7343\n"
          ],
          "name": "stdout"
        }
      ]
    },
    {
      "cell_type": "code",
      "metadata": {
        "id": "6RcuXJqptjaw",
        "colab_type": "code",
        "colab": {
          "base_uri": "https://localhost:8080/",
          "height": 85
        },
        "outputId": "aede6492-d3a1-4145-f5b0-ae76974ac00d"
      },
      "source": [
        "import json\n",
        "from sklearn.metrics import accuracy_score, confusion_matrix, classification_report\n",
        "import numpy as np\n",
        "\n",
        "def test_xy(X,y,string):\n",
        "    y_pred = de_cnn_avg.predict([X])\n",
        "    y_pred_arg = y_pred.argmax(axis=1)\n",
        "    pred= [encoder.classes_[y] for y in y_pred_arg]\n",
        "    print('accuracy %s'% string,accuracy_score(pred,y))\n",
        "    print('b_accuracy %s'%  string,balanced_accuracy_score(pred, y))\n",
        "\n",
        "test_xy(X_test_emb_de,y_test_de,'german')\n",
        "test_xy(X_test_emb_fr,y_test_fr,'french')\n",
        "#print(classification_report(pred, df_test['cc5']))"
      ],
      "execution_count": null,
      "outputs": [
        {
          "output_type": "stream",
          "text": [
            "accuracy german 0.8651196519216824\n",
            "b_accuracy german 0.7954322955422489\n",
            "accuracy french 0.32964601769911506\n",
            "b_accuracy french 0.4953441312279283\n"
          ],
          "name": "stdout"
        }
      ]
    },
    {
      "cell_type": "code",
      "metadata": {
        "id": "6bS3ubY5wzeF",
        "colab_type": "code",
        "colab": {}
      },
      "source": [
        "#de_avg_pool\n",
        "#de_cnn_avg"
      ],
      "execution_count": null,
      "outputs": []
    },
    {
      "cell_type": "code",
      "metadata": {
        "id": "D72ZY7jzaPaS",
        "colab_type": "code",
        "colab": {}
      },
      "source": [
        "# Save the model\n",
        "#de_cnn_avg.save(path+'/model/de_fr_mod_cc5.h5')"
      ],
      "execution_count": null,
      "outputs": []
    },
    {
      "cell_type": "markdown",
      "metadata": {
        "id": "_DYOFTWRwvRq",
        "colab_type": "text"
      },
      "source": [
        "## CNN with training embedding ayer"
      ]
    },
    {
      "cell_type": "code",
      "metadata": {
        "id": "lwzAk6ISOHSm",
        "colab_type": "code",
        "colab": {}
      },
      "source": [
        "X_train_pad =  np.concatenate((X_train_pad_de[3000:9000], X_train_pad_fr[:6000]))\n",
        "y_train_enc =  np.concatenate((y_train_enc_de[3000:9000], y_train_enc_fr[:6000]))\n",
        "X_val_pad =  np.concatenate((X_val_pad_de, X_val_pad_fr))\n",
        "y_val_enc =  np.concatenate((y_val_enc_de, y_val_enc_fr))"
      ],
      "execution_count": null,
      "outputs": []
    },
    {
      "cell_type": "code",
      "metadata": {
        "id": "p0m56K1rHIv6",
        "colab_type": "code",
        "colab": {
          "base_uri": "https://localhost:8080/",
          "height": 1000
        },
        "outputId": "57cd5340-5c06-43c6-a43a-7c7d8d200b17"
      },
      "source": [
        "\n",
        "\n",
        "dropout_rate=.6\n",
        "lr = .001\n",
        "opt = Adam(lr=lr, decay=lr/100)\n",
        "\n",
        "input_layer = Input(shape = (seq_len,), dtype = 'float')\n",
        "embedd_seq = Embedding(vocab_size_de_fr, embedding_dim, weights = [embedding_matrix_de_fr], input_length = seq_len, trainable = True, mask_zero=False)(input_layer)\n",
        "conv_layer = Conv1D(filters=100,   kernel_size= 5,   padding='valid',  activation='relu', strides=1)(embedd_seq)\n",
        "pool_layer = GlobalMaxPooling1D(name='max_pool')(conv_layer)\n",
        "#pool_layer = GlobalAveragePooling1D(name='avg_pooling')(conv_layer)\n",
        "dens_layer = Dense(150, activation='tanh',name='dense')(pool_layer)\n",
        "drop_layer = Dropout(dropout_rate)(dens_layer)\n",
        "pred_layer = Dense(y_train_enc.shape[1], activation = 'softmax')(drop_layer) #, kernel_regularizer=l1_l2(0.001)\n",
        "\n",
        "cnn_max_pool_mod = Model(inputs = [input_layer], outputs = pred_layer)\n",
        "cnn_max_pool_mod.compile(optimizer = opt, loss = 'categorical_crossentropy', metrics = ['accuracy'])\n",
        "#print(Ftext_pool.summary())\n",
        "early_stopping = EarlyStopping(patience = 5)\n",
        "\n",
        "hist = cnn_max_pool_mod.fit(x = X_train_pad, y = y_train_enc,\\\n",
        "                validation_data = (X_val_pad, y_val_enc), \\\n",
        "                epochs = 50, batch_size = 256, shuffle = True, class_weight = class_weight_dict_de_fr, \\\n",
        "                callbacks = [early_stopping])\n",
        "\n",
        "from sklearn.metrics import accuracy_score, confusion_matrix, classification_report\n",
        "y_pred_t_de = cnn_max_pool_mod.predict(X_test_pad_de)\n",
        "y_pred_arg = y_pred_t_de.argmax(axis=1)\n",
        "y_pred_t_de= [encoder.classes_[y] for y in y_pred_arg]\n",
        "\n",
        "y_pred_t_fr = cnn_max_pool_mod.predict(X_test_pad_fr)\n",
        "y_pred_arg = y_pred_t_fr.argmax(axis=1)\n",
        "y_pred_t_fr= [encoder.classes_[y] for y in y_pred_arg]\n",
        "\n",
        "print('train obs.','accuracy %s' % accuracy_score(y_pred_t_de, y_test_de))\n",
        "print('train obs.','b_accuracy %s' % balanced_accuracy_score(y_pred_t_de, y_test_de))\n",
        "print('train obs.','accuracy %s' % accuracy_score(y_pred_t_fr, y_test_fr))\n",
        "print('train obs.','b_accuracy %s' % balanced_accuracy_score(y_pred_t_fr, y_test_fr))\n"
      ],
      "execution_count": null,
      "outputs": [
        {
          "output_type": "stream",
          "text": [
            "Epoch 1/50\n",
            "45/45 [==============================] - 2s 36ms/step - loss: 4.0271 - accuracy: 0.0871 - val_loss: 3.6397 - val_accuracy: 0.2114\n",
            "Epoch 2/50\n",
            "45/45 [==============================] - 1s 33ms/step - loss: 3.2884 - accuracy: 0.2600 - val_loss: 2.8588 - val_accuracy: 0.4701\n",
            "Epoch 3/50\n",
            "45/45 [==============================] - 1s 33ms/step - loss: 2.5216 - accuracy: 0.4463 - val_loss: 2.0027 - val_accuracy: 0.6342\n",
            "Epoch 4/50\n",
            "45/45 [==============================] - 1s 33ms/step - loss: 1.8970 - accuracy: 0.5856 - val_loss: 1.4224 - val_accuracy: 0.7303\n",
            "Epoch 5/50\n",
            "45/45 [==============================] - 1s 33ms/step - loss: 1.4836 - accuracy: 0.6651 - val_loss: 1.0739 - val_accuracy: 0.7802\n",
            "Epoch 6/50\n",
            "45/45 [==============================] - 1s 33ms/step - loss: 1.2079 - accuracy: 0.7278 - val_loss: 0.8566 - val_accuracy: 0.8214\n",
            "Epoch 7/50\n",
            "45/45 [==============================] - 1s 33ms/step - loss: 1.0086 - accuracy: 0.7673 - val_loss: 0.7117 - val_accuracy: 0.8472\n",
            "Epoch 8/50\n",
            "45/45 [==============================] - 1s 33ms/step - loss: 0.8659 - accuracy: 0.8023 - val_loss: 0.6125 - val_accuracy: 0.8636\n",
            "Epoch 9/50\n",
            "45/45 [==============================] - 1s 33ms/step - loss: 0.7342 - accuracy: 0.8305 - val_loss: 0.5325 - val_accuracy: 0.8864\n",
            "Epoch 10/50\n",
            "45/45 [==============================] - 1s 33ms/step - loss: 0.6570 - accuracy: 0.8483 - val_loss: 0.4818 - val_accuracy: 0.8915\n",
            "Epoch 11/50\n",
            "45/45 [==============================] - 1s 33ms/step - loss: 0.5779 - accuracy: 0.8627 - val_loss: 0.4391 - val_accuracy: 0.9028\n",
            "Epoch 12/50\n",
            "45/45 [==============================] - 2s 33ms/step - loss: 0.5055 - accuracy: 0.8813 - val_loss: 0.4061 - val_accuracy: 0.9101\n",
            "Epoch 13/50\n",
            "45/45 [==============================] - 1s 33ms/step - loss: 0.4435 - accuracy: 0.8983 - val_loss: 0.3780 - val_accuracy: 0.9141\n",
            "Epoch 14/50\n",
            "45/45 [==============================] - 1s 33ms/step - loss: 0.3960 - accuracy: 0.9094 - val_loss: 0.3576 - val_accuracy: 0.9172\n",
            "Epoch 15/50\n",
            "45/45 [==============================] - 1s 33ms/step - loss: 0.3695 - accuracy: 0.9131 - val_loss: 0.3455 - val_accuracy: 0.9197\n",
            "Epoch 16/50\n",
            "45/45 [==============================] - 1s 33ms/step - loss: 0.3231 - accuracy: 0.9255 - val_loss: 0.3220 - val_accuracy: 0.9275\n",
            "Epoch 17/50\n",
            "45/45 [==============================] - 1s 33ms/step - loss: 0.3030 - accuracy: 0.9298 - val_loss: 0.3148 - val_accuracy: 0.9286\n",
            "Epoch 18/50\n",
            "45/45 [==============================] - 2s 34ms/step - loss: 0.2804 - accuracy: 0.9339 - val_loss: 0.3048 - val_accuracy: 0.9315\n",
            "Epoch 19/50\n",
            "45/45 [==============================] - 2s 34ms/step - loss: 0.2649 - accuracy: 0.9373 - val_loss: 0.2987 - val_accuracy: 0.9341\n",
            "Epoch 20/50\n",
            "45/45 [==============================] - 1s 33ms/step - loss: 0.2428 - accuracy: 0.9439 - val_loss: 0.2906 - val_accuracy: 0.9355\n",
            "Epoch 21/50\n",
            "45/45 [==============================] - 1s 33ms/step - loss: 0.2241 - accuracy: 0.9482 - val_loss: 0.2853 - val_accuracy: 0.9361\n",
            "Epoch 22/50\n",
            "45/45 [==============================] - 2s 34ms/step - loss: 0.2014 - accuracy: 0.9550 - val_loss: 0.2803 - val_accuracy: 0.9370\n",
            "Epoch 23/50\n",
            "45/45 [==============================] - 1s 33ms/step - loss: 0.1984 - accuracy: 0.9524 - val_loss: 0.2782 - val_accuracy: 0.9394\n",
            "Epoch 24/50\n",
            "45/45 [==============================] - 1s 33ms/step - loss: 0.1722 - accuracy: 0.9611 - val_loss: 0.2759 - val_accuracy: 0.9405\n",
            "Epoch 25/50\n",
            "45/45 [==============================] - 2s 34ms/step - loss: 0.1719 - accuracy: 0.9616 - val_loss: 0.2682 - val_accuracy: 0.9426\n",
            "Epoch 26/50\n",
            "45/45 [==============================] - 1s 33ms/step - loss: 0.1637 - accuracy: 0.9621 - val_loss: 0.2645 - val_accuracy: 0.9441\n",
            "Epoch 27/50\n",
            "45/45 [==============================] - 2s 34ms/step - loss: 0.1541 - accuracy: 0.9637 - val_loss: 0.2639 - val_accuracy: 0.9446\n",
            "Epoch 28/50\n",
            "45/45 [==============================] - 2s 33ms/step - loss: 0.1445 - accuracy: 0.9674 - val_loss: 0.2647 - val_accuracy: 0.9468\n",
            "Epoch 29/50\n",
            "45/45 [==============================] - 2s 33ms/step - loss: 0.1389 - accuracy: 0.9691 - val_loss: 0.2631 - val_accuracy: 0.9454\n",
            "Epoch 30/50\n",
            "45/45 [==============================] - 2s 34ms/step - loss: 0.1250 - accuracy: 0.9707 - val_loss: 0.2656 - val_accuracy: 0.9474\n",
            "Epoch 31/50\n",
            "45/45 [==============================] - 2s 33ms/step - loss: 0.1292 - accuracy: 0.9686 - val_loss: 0.2645 - val_accuracy: 0.9470\n",
            "Epoch 32/50\n",
            "45/45 [==============================] - 2s 34ms/step - loss: 0.1158 - accuracy: 0.9727 - val_loss: 0.2682 - val_accuracy: 0.9461\n",
            "Epoch 33/50\n",
            "45/45 [==============================] - 1s 33ms/step - loss: 0.1097 - accuracy: 0.9736 - val_loss: 0.2678 - val_accuracy: 0.9474\n",
            "Epoch 34/50\n",
            "45/45 [==============================] - 2s 34ms/step - loss: 0.1070 - accuracy: 0.9751 - val_loss: 0.2656 - val_accuracy: 0.9479\n",
            "train obs. accuracy 0.9470630891950689\n",
            "train obs. b_accuracy 0.9276593256248342\n",
            "train obs. accuracy 0.9491150442477876\n",
            "train obs. b_accuracy 0.9493920053171324\n"
          ],
          "name": "stdout"
        }
      ]
    },
    {
      "cell_type": "markdown",
      "metadata": {
        "id": "kAXozVg99eLK",
        "colab_type": "text"
      },
      "source": [
        "## CNN Zero Shot with training embedding layer"
      ]
    },
    {
      "cell_type": "code",
      "metadata": {
        "id": "lW59y8D69kbX",
        "colab_type": "code",
        "colab": {
          "base_uri": "https://localhost:8080/",
          "height": 969
        },
        "outputId": "5edd03ff-19a8-4a6a-ac70-d0e3036c218c"
      },
      "source": [
        "dropout_rate=.7\n",
        "lr = .001\n",
        "opt = Adam(lr=lr, decay=lr/100)\n",
        "\n",
        "input_layer = Input(shape = (seq_len,), dtype = 'float')\n",
        "embedd_seq = Embedding(vocab_size_de_fr, embedding_dim, weights = [embedding_matrix_de_fr], input_length = seq_len, trainable = True, mask_zero=False)(input_layer)\n",
        "conv_layer = Conv1D(filters=150,   kernel_size= 7,   padding='valid',  activation='relu', strides=1)(embedd_seq)\n",
        "pool_layer = GlobalMaxPooling1D(name='max_pool')(conv_layer)\n",
        "drop_layer = Dropout(dropout_rate)(pool_layer)\n",
        "pred_layer = Dense(y_train_enc.shape[1], activation = 'softmax')(drop_layer) #, kernel_regularizer=l1_l2(0.001)\n",
        "\n",
        "cnn_max_pool_mod = Model(inputs = [input_layer], outputs = pred_layer)\n",
        "cnn_max_pool_mod.compile(optimizer = opt, loss = 'categorical_crossentropy', metrics = ['accuracy'])\n",
        "#print(Ftext_pool.summary())\n",
        "early_stopping = EarlyStopping(patience = 5)\n",
        "\n",
        "hist = cnn_max_pool_mod.fit(x = X_train_pad_de, y = y_train_enc_de,\\\n",
        "                validation_data = (X_val_pad_de, y_val_enc_de), \\\n",
        "                epochs = 50, batch_size = 256, shuffle = True, class_weight = class_weight_dict_de_fr, \\\n",
        "                callbacks = [early_stopping])\n",
        "\n",
        "from sklearn.metrics import accuracy_score, confusion_matrix, classification_report\n",
        "y_pred_t_de = cnn_max_pool_mod.predict(X_test_pad_de)\n",
        "y_pred_arg = y_pred_t_de.argmax(axis=1)\n",
        "y_pred_t_de= [encoder.classes_[y] for y in y_pred_arg]\n",
        "\n",
        "y_pred_t_fr = cnn_max_pool_mod.predict(X_test_pad_fr)\n",
        "y_pred_arg = y_pred_t_fr.argmax(axis=1)\n",
        "y_pred_t_fr= [encoder.classes_[y] for y in y_pred_arg]\n",
        "\n",
        "print('train obs.','accuracy %s' % accuracy_score(y_pred_t_de, y_test_de))\n",
        "print('train obs.','b_accuracy %s' % balanced_accuracy_score(y_pred_t_de, y_test_de))\n",
        "print('train obs.','accuracy %s' % accuracy_score(y_pred_t_fr, y_test_fr))\n",
        "print('train obs.','b_accuracy %s' % balanced_accuracy_score(y_pred_t_fr, y_test_fr))"
      ],
      "execution_count": null,
      "outputs": [
        {
          "output_type": "stream",
          "text": [
            "Epoch 1/50\n",
            "65/65 [==============================] - 2s 37ms/step - loss: 4.1416 - accuracy: 0.0645 - val_loss: 3.6488 - val_accuracy: 0.3316\n",
            "Epoch 2/50\n",
            "65/65 [==============================] - 2s 33ms/step - loss: 3.3337 - accuracy: 0.2572 - val_loss: 2.4957 - val_accuracy: 0.6065\n",
            "Epoch 3/50\n",
            "65/65 [==============================] - 2s 32ms/step - loss: 2.2705 - accuracy: 0.4740 - val_loss: 1.3859 - val_accuracy: 0.7462\n",
            "Epoch 4/50\n",
            "65/65 [==============================] - 2s 33ms/step - loss: 1.4824 - accuracy: 0.6468 - val_loss: 0.8018 - val_accuracy: 0.8709\n",
            "Epoch 5/50\n",
            "65/65 [==============================] - 2s 33ms/step - loss: 1.0349 - accuracy: 0.7571 - val_loss: 0.5378 - val_accuracy: 0.8968\n",
            "Epoch 6/50\n",
            "65/65 [==============================] - 2s 34ms/step - loss: 0.7671 - accuracy: 0.8223 - val_loss: 0.4021 - val_accuracy: 0.9239\n",
            "Epoch 7/50\n",
            "65/65 [==============================] - 2s 33ms/step - loss: 0.5967 - accuracy: 0.8630 - val_loss: 0.3333 - val_accuracy: 0.9335\n",
            "Epoch 8/50\n",
            "65/65 [==============================] - 2s 32ms/step - loss: 0.4864 - accuracy: 0.8900 - val_loss: 0.2922 - val_accuracy: 0.9415\n",
            "Epoch 9/50\n",
            "65/65 [==============================] - 2s 33ms/step - loss: 0.4105 - accuracy: 0.9085 - val_loss: 0.2619 - val_accuracy: 0.9461\n",
            "Epoch 10/50\n",
            "65/65 [==============================] - 2s 32ms/step - loss: 0.3395 - accuracy: 0.9216 - val_loss: 0.2411 - val_accuracy: 0.9488\n",
            "Epoch 11/50\n",
            "65/65 [==============================] - 2s 32ms/step - loss: 0.2881 - accuracy: 0.9309 - val_loss: 0.2261 - val_accuracy: 0.9529\n",
            "Epoch 12/50\n",
            "65/65 [==============================] - 2s 33ms/step - loss: 0.2578 - accuracy: 0.9413 - val_loss: 0.2130 - val_accuracy: 0.9553\n",
            "Epoch 13/50\n",
            "65/65 [==============================] - 2s 32ms/step - loss: 0.2105 - accuracy: 0.9500 - val_loss: 0.2005 - val_accuracy: 0.9579\n",
            "Epoch 14/50\n",
            "65/65 [==============================] - 2s 32ms/step - loss: 0.1911 - accuracy: 0.9552 - val_loss: 0.1932 - val_accuracy: 0.9575\n",
            "Epoch 15/50\n",
            "65/65 [==============================] - 2s 33ms/step - loss: 0.1729 - accuracy: 0.9597 - val_loss: 0.1836 - val_accuracy: 0.9611\n",
            "Epoch 16/50\n",
            "65/65 [==============================] - 2s 33ms/step - loss: 0.1565 - accuracy: 0.9636 - val_loss: 0.1814 - val_accuracy: 0.9620\n",
            "Epoch 17/50\n",
            "65/65 [==============================] - 2s 33ms/step - loss: 0.1380 - accuracy: 0.9683 - val_loss: 0.1777 - val_accuracy: 0.9623\n",
            "Epoch 18/50\n",
            "65/65 [==============================] - 2s 33ms/step - loss: 0.1273 - accuracy: 0.9698 - val_loss: 0.1770 - val_accuracy: 0.9628\n",
            "Epoch 19/50\n",
            "65/65 [==============================] - 2s 33ms/step - loss: 0.1180 - accuracy: 0.9725 - val_loss: 0.1735 - val_accuracy: 0.9650\n",
            "Epoch 20/50\n",
            "65/65 [==============================] - 2s 33ms/step - loss: 0.1066 - accuracy: 0.9761 - val_loss: 0.1736 - val_accuracy: 0.9642\n",
            "Epoch 21/50\n",
            "65/65 [==============================] - 2s 33ms/step - loss: 0.1023 - accuracy: 0.9758 - val_loss: 0.1717 - val_accuracy: 0.9662\n",
            "Epoch 22/50\n",
            "65/65 [==============================] - 2s 32ms/step - loss: 0.0989 - accuracy: 0.9775 - val_loss: 0.1727 - val_accuracy: 0.9669\n",
            "Epoch 23/50\n",
            "65/65 [==============================] - 2s 33ms/step - loss: 0.0881 - accuracy: 0.9786 - val_loss: 0.1729 - val_accuracy: 0.9671\n",
            "Epoch 24/50\n",
            "65/65 [==============================] - 2s 32ms/step - loss: 0.0837 - accuracy: 0.9804 - val_loss: 0.1759 - val_accuracy: 0.9654\n",
            "Epoch 25/50\n",
            "65/65 [==============================] - 2s 32ms/step - loss: 0.0778 - accuracy: 0.9816 - val_loss: 0.1727 - val_accuracy: 0.9676\n",
            "Epoch 26/50\n",
            "65/65 [==============================] - 2s 33ms/step - loss: 0.0738 - accuracy: 0.9825 - val_loss: 0.1749 - val_accuracy: 0.9659\n",
            "train obs. accuracy 0.9702683103698332\n",
            "train obs. b_accuracy 0.9491928759475402\n",
            "train obs. accuracy 0.015486725663716814\n",
            "train obs. b_accuracy 0.04586776859504132\n"
          ],
          "name": "stdout"
        }
      ]
    },
    {
      "cell_type": "code",
      "metadata": {
        "id": "e8kTGbhi9lNm",
        "colab_type": "code",
        "colab": {}
      },
      "source": [
        ""
      ],
      "execution_count": null,
      "outputs": []
    },
    {
      "cell_type": "markdown",
      "metadata": {
        "id": "cYthFWd4lUTf",
        "colab_type": "text"
      },
      "source": [
        "# Bert"
      ]
    },
    {
      "cell_type": "code",
      "metadata": {
        "id": "PGTYK6s5nUcQ",
        "colab_type": "code",
        "colab": {}
      },
      "source": [
        "%%capture\n",
        "!pip install ktrain"
      ],
      "execution_count": null,
      "outputs": []
    },
    {
      "cell_type": "code",
      "metadata": {
        "id": "bac0n_MGu0el",
        "colab_type": "code",
        "colab": {}
      },
      "source": [
        "class_names_ = df_de['cc5'].unique()\n",
        "class_names_.sort()"
      ],
      "execution_count": null,
      "outputs": []
    },
    {
      "cell_type": "code",
      "metadata": {
        "id": "BNuN8eXD6eNP",
        "colab_type": "code",
        "colab": {}
      },
      "source": [
        "#run_CNN(X_train_pad_de,y_train_enc_de,X_val_pad_de,y_val_enc_de,X_test_pad_de,y_test_de,vocab_size_de,embedding_matrix_de,class_weight_dict_de,obs)\n"
      ],
      "execution_count": null,
      "outputs": []
    },
    {
      "cell_type": "code",
      "metadata": {
        "id": "wrsYuXhnCTBx",
        "colab_type": "code",
        "colab": {
          "base_uri": "https://localhost:8080/",
          "height": 85
        },
        "outputId": "a905c129-f3ee-4226-c044-da10a223a172"
      },
      "source": [
        "var1 = 'categ'\n",
        "var2 = 'words_from_url'\n",
        "var3 = 'name'\n",
        "df_fr['text'] = 'fr ' + df_fr[var1].fillna('unknown')  + ' . ' + df_fr[var2].fillna('unknown')  + ' . ' + df_fr[var3].fillna('unknown') \n",
        "df_de['text'] = 'de ' + df_de[var1].fillna('unknown')  + ' . ' + df_de[var2].fillna('unknown')  + ' . ' + df_de[var3].fillna('unknown') \n",
        "df_at['text'] = 'de ' + df_at[var1].fillna('unknown')  + ' . ' + df_at[var2].fillna('unknown')  + ' . ' + df_at[var3].fillna('unknown') \n",
        "\n",
        "from sklearn.model_selection import train_test_split\n",
        "def split_train_abs(df):\n",
        "    X_train, X_val_test, y_train, y_val_test  = train_test_split(df['text'], df['cc5'], random_state=42, shuffle=True)\n",
        "    X_val, X_test, y_val, y_test = train_test_split(X_val_test , y_val_test, random_state=42)\n",
        "\n",
        "    return X_train, X_val, X_test, y_train, y_val, y_test\n",
        "\n",
        "X_train_de, X_val_de, X_test_de, y_train_de, y_val_de, y_test_de = split_train_abs(df_de)\n",
        "X_train_fr, X_val_fr, X_test_fr, y_train_fr, y_val_fr, y_test_fr = split_train_abs(df_fr)\n",
        "\n",
        "print('de',X_train_de.shape, X_val_de.shape, X_test_de.shape, y_train_de.shape, y_val_de.shape, y_test_de.shape )\n",
        "print('fr',X_train_fr.shape, X_val_fr.shape, X_test_fr.shape, y_train_fr.shape, y_val_fr.shape, y_test_fr.shape )\n",
        "\n",
        "X_train_de = [str(sen) for sen in X_train_de]\n",
        "X_val_de = [str(sen) for sen in X_val_de]\n",
        "X_test_de = [str(sen) for sen in X_test_de]\n",
        "\n",
        "y_train_de = [str(sen) for sen in y_train_de]\n",
        "y_val_de = [str(sen) for sen in y_val_de]\n",
        "y_test_de = [str(sen) for sen in y_test_de]\n",
        "\n",
        "X_train_fr = [str(sen) for sen in X_train_fr]\n",
        "X_val_fr = [str(sen) for sen in X_val_fr]\n",
        "X_test_fr = [str(sen) for sen in X_test_fr]\n",
        "\n",
        "from sklearn.preprocessing import LabelEncoder\n",
        "import tensorflow as tf\n",
        "\n",
        "encoder = LabelEncoder()\n",
        "encoder.fit(df_de['cc5'])\n",
        "\n",
        "def encode_label(y_):\n",
        "    y__ = encoder.transform(y_)\n",
        "    #y_enc =tf.keras.utils.to_categorical(y__, num_classes=no_Classes, dtype=\"float32\")\n",
        "    return y__\n",
        "\n",
        "y_train_enc_de = encode_label(y_train_de)\n",
        "y_val_enc_de = encode_label(y_val_de)\n",
        "y_test_enc_de = encode_label(y_test_de)\n",
        "\n",
        "y_train_enc_fr = encode_label(y_train_fr)\n",
        "y_val_enc_fr = encode_label(y_val_fr)\n",
        "y_test_enc_fr = encode_label(y_test_fr)\n",
        "\n",
        "print(y_train_enc_de.shape,y_val_enc_de.shape,y_test_enc_de.shape)\n",
        "print(y_train_enc_fr.shape,y_val_enc_fr.shape,y_test_enc_fr.shape)"
      ],
      "execution_count": null,
      "outputs": [
        {
          "output_type": "stream",
          "text": [
            "de (16548,) (4137,) (1379,) (16548,) (4137,) (1379,)\n",
            "fr (5418,) (1355,) (452,) (5418,) (1355,) (452,)\n",
            "(16548,) (4137,) (1379,)\n",
            "(5418,) (1355,) (452,)\n"
          ],
          "name": "stdout"
        }
      ]
    },
    {
      "cell_type": "code",
      "metadata": {
        "id": "TkAMEHNclUgH",
        "colab_type": "code",
        "colab": {
          "base_uri": "https://localhost:8080/",
          "height": 292
        },
        "outputId": "545d8c5a-3b1b-4a4b-db09-ba7190531431"
      },
      "source": [
        "import ktrain\n",
        "from ktrain import text\n",
        "MODEL_NAME = 'xlm-roberta-large'#'bert-base-multilingual-cased'\n",
        "t = text.Transformer(MODEL_NAME, maxlen=60, class_names=class_names_)\n",
        "\n",
        "trn = t.preprocess_train(X_train_de, y_train_de)\n",
        "val = t.preprocess_test(X_val_de, y_val_de)\n",
        "#test = t.preprocess_test(X_test_de, y_test_enc_de)\n",
        "model = t.get_classifier()\n",
        "learner = ktrain.get_learner(model, train_data=trn, val_data=val, batch_size=6)\n"
      ],
      "execution_count": null,
      "outputs": [
        {
          "output_type": "stream",
          "text": [
            "preprocessing train...\n",
            "language: de\n",
            "train sequence lengths:\n",
            "\tmean : 19\n",
            "\t95percentile : 30\n",
            "\t99percentile : 33\n"
          ],
          "name": "stdout"
        },
        {
          "output_type": "stream",
          "text": [
            "/usr/local/lib/python3.6/dist-packages/ktrain/text/preprocessor.py:519: UserWarning: class_names argument was ignored, as they were extracted from string labels in dataset\n",
            "  if self.get_classes(): warnings.warn('class_names argument was ignored, as they were extracted from string labels in dataset')\n"
          ],
          "name": "stderr"
        },
        {
          "output_type": "display_data",
          "data": {
            "text/html": [
              ""
            ],
            "text/plain": [
              "<IPython.core.display.HTML object>"
            ]
          },
          "metadata": {
            "tags": []
          }
        },
        {
          "output_type": "stream",
          "text": [
            "Is Multi-Label? False\n",
            "preprocessing test...\n",
            "language: de\n",
            "test sequence lengths:\n",
            "\tmean : 19\n",
            "\t95percentile : 30\n",
            "\t99percentile : 33\n"
          ],
          "name": "stdout"
        },
        {
          "output_type": "display_data",
          "data": {
            "text/html": [
              ""
            ],
            "text/plain": [
              "<IPython.core.display.HTML object>"
            ]
          },
          "metadata": {
            "tags": []
          }
        }
      ]
    },
    {
      "cell_type": "code",
      "metadata": {
        "id": "Hw0clG3J9VPL",
        "colab_type": "code",
        "colab": {
          "base_uri": "https://localhost:8080/",
          "height": 85
        },
        "outputId": "ec188587-0ce7-48dd-a2b8-9c9b08f7b6d8"
      },
      "source": [
        "learner.lr_find()\n",
        "learner.lr_plot()"
      ],
      "execution_count": null,
      "outputs": [
        {
          "output_type": "stream",
          "text": [
            "simulating training for different learning rates... this may take a few moments...\n",
            "Train for 2758 steps\n",
            "Epoch 1/1024\n",
            " 490/2758 [====>.........................] - ETA: 12:38:13 - loss: 4.1394 - accuracy: 0.0646"
          ],
          "name": "stdout"
        }
      ]
    },
    {
      "cell_type": "code",
      "metadata": {
        "id": "1Qmg8zlaH829",
        "colab_type": "code",
        "colab": {
          "base_uri": "https://localhost:8080/",
          "height": 221
        },
        "outputId": "c03c3985-b897-4b59-af0c-db80c8a38d7f"
      },
      "source": [
        "learner.fit(5e-5, 5)"
      ],
      "execution_count": null,
      "outputs": [
        {
          "output_type": "stream",
          "text": [
            "Train for 2758 steps, validate for 130 steps\n",
            "Epoch 1/5\n",
            "2758/2758 [==============================] - 747s 271ms/step - loss: 3.9799 - accuracy: 0.0537 - val_loss: 3.9709 - val_accuracy: 0.0512\n",
            "Epoch 2/5\n",
            "2758/2758 [==============================] - 744s 270ms/step - loss: 3.9777 - accuracy: 0.0532 - val_loss: 3.9703 - val_accuracy: 0.0546\n",
            "Epoch 3/5\n",
            "2758/2758 [==============================] - 744s 270ms/step - loss: 3.9772 - accuracy: 0.0520 - val_loss: 3.9716 - val_accuracy: 0.0512\n",
            "Epoch 4/5\n",
            "2758/2758 [==============================] - 744s 270ms/step - loss: 3.9759 - accuracy: 0.0534 - val_loss: 3.9696 - val_accuracy: 0.0546\n",
            "Epoch 5/5\n",
            "2758/2758 [==============================] - 744s 270ms/step - loss: 3.9765 - accuracy: 0.0551 - val_loss: 3.9724 - val_accuracy: 0.0546\n"
          ],
          "name": "stdout"
        },
        {
          "output_type": "execute_result",
          "data": {
            "text/plain": [
              "<tensorflow.python.keras.callbacks.History at 0x7f7940b99208>"
            ]
          },
          "metadata": {
            "tags": []
          },
          "execution_count": 30
        }
      ]
    },
    {
      "cell_type": "code",
      "metadata": {
        "id": "SLIznHW57aZU",
        "colab_type": "code",
        "colab": {}
      },
      "source": [
        "%%capture\n",
        "!pip install simpletransformers"
      ],
      "execution_count": null,
      "outputs": []
    },
    {
      "cell_type": "code",
      "metadata": {
        "id": "NCdV1iATlUjD",
        "colab_type": "code",
        "colab": {
          "base_uri": "https://localhost:8080/",
          "height": 367
        },
        "outputId": "9ad4fea4-5855-4313-f224-292de49760d0"
      },
      "source": [
        "from simpletransformers.classification import ClassificationModel\n",
        "from simpletransformers.classification import MultiLabelClassificationModel\n",
        "import pandas as pd\n",
        "import logging\n",
        "\n",
        "\n",
        "logging.basicConfig(level=logging.INFO)\n",
        "transformers_logger = logging.getLogger(\"transformers\")\n",
        "transformers_logger.setLevel(logging.WARNING)\n",
        "\n",
        "\n",
        "train_data = pd.DataFrame(list(zip(X_train_de,y_train_de)), columns =['text','y'])\n",
        "eval_df = pd.DataFrame(list(zip(X_val_de,y_val_de)), columns =['text','y'])\n",
        "test_df = pd.DataFrame(list(zip(X_test_de,y_test_de)), columns =['text','y'])\n",
        "\n",
        " \n",
        "# Train and Evaluation data needs to be in a Pandas Dataframe of two columns. The first column is the text with type str, and the second column is the label with type int.\n",
        "#train_data = [['Example sentence belonging to class 1', 1], ['Example sentence belonging to class 0', 0]]\n",
        "#train_df = pd.DataFrame(train_data)\n",
        "\n",
        "#eval_data = [['Example eval sentence belonging to class 1', 1], ['Example eval sentence belonging to class 0', 0]]\n",
        "#eval_df = pd.DataFrame(eval_data)\n",
        "\n",
        "# Create a ClassificationModel\n",
        "model = ClassificationModel('XLM,', 'XLM-RoBERTa') # You can set class weights by using the optional weight argument\n",
        "\n",
        "# Train the model\n",
        "model.train_model(train_df)\n",
        "\n",
        "# Evaluate the model\n",
        "result, model_outputs, wrong_predictions = model.eval_model(eval_df)"
      ],
      "execution_count": null,
      "outputs": [
        {
          "output_type": "error",
          "ename": "ModuleNotFoundError",
          "evalue": "ignored",
          "traceback": [
            "\u001b[0;31m---------------------------------------------------------------------------\u001b[0m",
            "\u001b[0;31mModuleNotFoundError\u001b[0m                       Traceback (most recent call last)",
            "\u001b[0;32m<ipython-input-4-76b33facf0fa>\u001b[0m in \u001b[0;36m<module>\u001b[0;34m()\u001b[0m\n\u001b[0;32m----> 1\u001b[0;31m \u001b[0;32mfrom\u001b[0m \u001b[0msimpletransformers\u001b[0m\u001b[0;34m.\u001b[0m\u001b[0mclassification\u001b[0m \u001b[0;32mimport\u001b[0m \u001b[0mClassificationModel\u001b[0m\u001b[0;34m\u001b[0m\u001b[0;34m\u001b[0m\u001b[0m\n\u001b[0m\u001b[1;32m      2\u001b[0m \u001b[0;32mfrom\u001b[0m \u001b[0msimpletransformers\u001b[0m\u001b[0;34m.\u001b[0m\u001b[0mclassification\u001b[0m \u001b[0;32mimport\u001b[0m \u001b[0mMultiLabelClassificationModel\u001b[0m\u001b[0;34m\u001b[0m\u001b[0;34m\u001b[0m\u001b[0m\n\u001b[1;32m      3\u001b[0m \u001b[0;32mimport\u001b[0m \u001b[0mpandas\u001b[0m \u001b[0;32mas\u001b[0m \u001b[0mpd\u001b[0m\u001b[0;34m\u001b[0m\u001b[0;34m\u001b[0m\u001b[0m\n\u001b[1;32m      4\u001b[0m \u001b[0;32mimport\u001b[0m \u001b[0mlogging\u001b[0m\u001b[0;34m\u001b[0m\u001b[0;34m\u001b[0m\u001b[0m\n\u001b[1;32m      5\u001b[0m \u001b[0;34m\u001b[0m\u001b[0m\n",
            "\u001b[0;31mModuleNotFoundError\u001b[0m: No module named 'simpletransformers'",
            "",
            "\u001b[0;31m---------------------------------------------------------------------------\u001b[0;32m\nNOTE: If your import is failing due to a missing package, you can\nmanually install dependencies using either !pip or !apt.\n\nTo view examples of installing some common dependencies, click the\n\"Open Examples\" button below.\n\u001b[0;31m---------------------------------------------------------------------------\u001b[0m\n"
          ]
        }
      ]
    },
    {
      "cell_type": "markdown",
      "metadata": {
        "id": "cwqzwcyQ3t_Z",
        "colab_type": "text"
      },
      "source": [
        "get the french"
      ]
    },
    {
      "cell_type": "code",
      "metadata": {
        "id": "jnTHX7GJ8HVR",
        "colab_type": "code",
        "colab": {}
      },
      "source": [
        "len(class_names)\n",
        "Y_FRENCH.shape"
      ],
      "execution_count": null,
      "outputs": []
    },
    {
      "cell_type": "code",
      "metadata": {
        "id": "JoCTIP6a3wgY",
        "colab_type": "code",
        "colab": {}
      },
      "source": [
        "X_FRENCH = list(df_fr['text'])\n",
        "Y_FRENCH = encode_label(df_fr['cc5'],encoder5)\n",
        "\n",
        "test = t.preprocess_test(X_FRENCH, Y_FRENCH)\n",
        "learner.validate(val_data=test, class_names=t.get_classes())"
      ],
      "execution_count": null,
      "outputs": []
    },
    {
      "cell_type": "code",
      "metadata": {
        "id": "WRp7ewNBlUmj",
        "colab_type": "code",
        "colab": {}
      },
      "source": [
        "reloaded_predictor = ktrain.get_predictor(learner.model, preproc=preproc)\n",
        "reloaded_predictor.predict(X_test[4])"
      ],
      "execution_count": null,
      "outputs": []
    },
    {
      "cell_type": "markdown",
      "metadata": {
        "id": "vkE07ik3xmWB",
        "colab_type": "text"
      },
      "source": [
        ""
      ]
    },
    {
      "cell_type": "code",
      "metadata": {
        "id": "XPknKZ3kmYJ7",
        "colab_type": "code",
        "colab": {}
      },
      "source": [
        "!pip install transformers\n",
        "!pip install tensorflow==2.1.0"
      ],
      "execution_count": null,
      "outputs": []
    },
    {
      "cell_type": "code",
      "metadata": {
        "id": "f1AtuawmqvKw",
        "colab_type": "code",
        "colab": {
          "base_uri": "https://localhost:8080/",
          "height": 34
        },
        "outputId": "7e8c78e6-766b-478d-fc69-62dba061d91c"
      },
      "source": [
        "import torch\n",
        "import tensorflow as tf\n",
        "from transformers import AutoModel, AutoTokenizer, BertTokenizer\n",
        "\n",
        "torch.set_grad_enabled(False)"
      ],
      "execution_count": null,
      "outputs": [
        {
          "output_type": "execute_result",
          "data": {
            "text/plain": [
              "<torch.autograd.grad_mode.set_grad_enabled at 0x7fd9edccf198>"
            ]
          },
          "metadata": {
            "tags": []
          },
          "execution_count": 11
        }
      ]
    },
    {
      "cell_type": "code",
      "metadata": {
        "id": "lze_FoM3rboE",
        "colab_type": "code",
        "colab": {
          "base_uri": "https://localhost:8080/",
          "height": 164,
          "referenced_widgets": [
            "af80029152754f64971ad3298d72189d",
            "c6c12d42fbd645a1990b3801017412b3",
            "4cb093f4d51d4621a600e816bf91ac79",
            "e8d209adacb6434a9087c45c4cd8ba16",
            "bd9352743ad34f148a3b6a3d1d1e8669",
            "fe440bca8195417cb2062524b9e3057b",
            "e40d04110ef844daa46685769b407887",
            "15f60e2a22b04c1c9dd6e4986624455d",
            "7c96785e09f1440dacd8bc6b97d29331",
            "c4a5712230f74c8aaf519e9a64aecc80",
            "32f08877c7354ebfa35f2a5eac39dc9c",
            "301a79d1e9e44bef96fec96c6be96476",
            "eb61858a0ae345f09f64b3130af36297",
            "dfab8f809f714e96af8dfbfe4b441a2d",
            "77297adfb9ed4cad85e71053223fe452",
            "b3b5f94c453e43d39c6825a6082e1133",
            "50cc70636ea54dafaa2c3831b7350eb0",
            "830829b0f8314bde81462a2d0d3e0abf",
            "12b4defd992b47648b4d3efc3a9032eb",
            "4c50c8edf24b4b1697bbad673a65f895",
            "1e291550d5b5440dbf78a2aea6604a95",
            "60127105305d4c0db0585e0c6e449cb6",
            "4a4b1ada02ed40d2b3144445d8da2364",
            "999aa2eec5374324930384e21960c6f4"
          ]
        },
        "outputId": "8c6913da-4448-443b-c2f3-033422851342"
      },
      "source": [
        "# Store the model we want to use\n",
        "MODEL_NAME = \"bert-base-multilingual-cased\"\n",
        "\n",
        "# We need to create the model and tokenizer\n",
        "model = AutoModel.from_pretrained(MODEL_NAME)\n",
        "tokenizer = AutoTokenizer.from_pretrained(MODEL_NAME)"
      ],
      "execution_count": null,
      "outputs": [
        {
          "output_type": "display_data",
          "data": {
            "application/vnd.jupyter.widget-view+json": {
              "model_id": "af80029152754f64971ad3298d72189d",
              "version_minor": 0,
              "version_major": 2
            },
            "text/plain": [
              "HBox(children=(FloatProgress(value=0.0, description='Downloading', max=625.0, style=ProgressStyle(description_…"
            ]
          },
          "metadata": {
            "tags": []
          }
        },
        {
          "output_type": "stream",
          "text": [
            "\n"
          ],
          "name": "stdout"
        },
        {
          "output_type": "display_data",
          "data": {
            "application/vnd.jupyter.widget-view+json": {
              "model_id": "7c96785e09f1440dacd8bc6b97d29331",
              "version_minor": 0,
              "version_major": 2
            },
            "text/plain": [
              "HBox(children=(FloatProgress(value=0.0, description='Downloading', max=714314041.0, style=ProgressStyle(descri…"
            ]
          },
          "metadata": {
            "tags": []
          }
        },
        {
          "output_type": "stream",
          "text": [
            "\n"
          ],
          "name": "stdout"
        },
        {
          "output_type": "display_data",
          "data": {
            "application/vnd.jupyter.widget-view+json": {
              "model_id": "50cc70636ea54dafaa2c3831b7350eb0",
              "version_minor": 0,
              "version_major": 2
            },
            "text/plain": [
              "HBox(children=(FloatProgress(value=0.0, description='Downloading', max=995526.0, style=ProgressStyle(descripti…"
            ]
          },
          "metadata": {
            "tags": []
          }
        },
        {
          "output_type": "stream",
          "text": [
            "\n"
          ],
          "name": "stdout"
        }
      ]
    },
    {
      "cell_type": "code",
      "metadata": {
        "id": "EME7uTGWrceM",
        "colab_type": "code",
        "colab": {
          "base_uri": "https://localhost:8080/",
          "height": 66,
          "referenced_widgets": [
            "04dcea3c839c4807bc0b7806d2235aa1",
            "abbdcc188a7640d0b2c7e46658df1e1d",
            "7da793c56546470cbacad9d84fe93258",
            "a38386323c1642d986c6900de9f5ed19",
            "1aafb71274094cf3bf7e2a6eb8d1b242",
            "7d12881d1adb4253906cefb82d70aee3",
            "422f3b73fcb14180b734d8c72be4e431",
            "43907ca2cb654a53aaea66435ce2f0f9"
          ]
        },
        "outputId": "8bab33bc-cc64-4c4f-d80a-4b3f15ca94fe"
      },
      "source": [
        "from transformers import (TFBertForSequenceClassification, \n",
        "                          BertTokenizer,\n",
        "                          TFRobertaForSequenceClassification, \n",
        "                          RobertaTokenizer)\n",
        "\n",
        "bert_model = TFBertForSequenceClassification.from_pretrained(\"bert-base-multilingual-cased\")\n",
        "bert_tokenizer = BertTokenizer.from_pretrained(\"bert-base-multilingual-cased\")\n",
        "\n",
        "#roberta_model = TFRobertaForSequenceClassification.from_pretrained(\"roberta-base\")\n",
        "#roberta_tokenizer = RobertaTokenizer.from_pretrained(\"roberta-base\")"
      ],
      "execution_count": null,
      "outputs": [
        {
          "output_type": "display_data",
          "data": {
            "application/vnd.jupyter.widget-view+json": {
              "model_id": "04dcea3c839c4807bc0b7806d2235aa1",
              "version_minor": 0,
              "version_major": 2
            },
            "text/plain": [
              "HBox(children=(FloatProgress(value=0.0, description='Downloading', max=1083389348.0, style=ProgressStyle(descr…"
            ]
          },
          "metadata": {
            "tags": []
          }
        },
        {
          "output_type": "stream",
          "text": [
            "\n"
          ],
          "name": "stdout"
        }
      ]
    },
    {
      "cell_type": "code",
      "metadata": {
        "id": "PLznIZuYtlI1",
        "colab_type": "code",
        "colab": {
          "base_uri": "https://localhost:8080/",
          "height": 34
        },
        "outputId": "a00e5b62-2608-4251-ddfd-c9189536f50d"
      },
      "source": [
        "sequence = \"Systolic arrays are cool. This 🐳 is cool too.\"\n",
        "\n",
        "bert_tokenized_sequence = bert_tokenizer.tokenize(sequence)\n",
        "\n",
        "print(\"BERT:\", bert_tokenized_sequence)"
      ],
      "execution_count": null,
      "outputs": [
        {
          "output_type": "stream",
          "text": [
            "BERT: ['Syst', '##oli', '##c', 'array', '##s', 'are', 'cool', '.', 'This', '[UNK]', 'is', 'cool', 'too', '.']\n"
          ],
          "name": "stdout"
        }
      ]
    },
    {
      "cell_type": "code",
      "metadata": {
        "id": "OKi3lvCmtrZf",
        "colab_type": "code",
        "colab": {}
      },
      "source": [
        "\n",
        "encoded_bert_sequence = bert_tokenizer.encode(list(X_train_de), add_special_tokens=True, max_length=128)\n",
        "\n"
      ],
      "execution_count": null,
      "outputs": []
    },
    {
      "cell_type": "code",
      "metadata": {
        "id": "6OXvSBM6v9XQ",
        "colab_type": "code",
        "colab": {}
      },
      "source": [
        "df_train = pd.DataFrame(zip(X_train_de , y_train_de),columns=['text','cc5'])\n",
        "df_train = pd.DataFrame(zip(X_train_de , y_train_de),columns=['text','cc5'])\n",
        "df_train = pd.DataFrame(zip(X_train_de , y_train_de),columns=['text','cc5'])"
      ],
      "execution_count": null,
      "outputs": []
    },
    {
      "cell_type": "code",
      "metadata": {
        "id": "hnxnKgVgvY7p",
        "colab_type": "code",
        "colab": {
          "base_uri": "https://localhost:8080/",
          "height": 340
        },
        "outputId": "760ff273-3746-48f4-ca70-c76398d51a33"
      },
      "source": [
        "encoded_bert_sequence = bert_tokenizer.encode(list(X_train_de), add_special_tokens=True, max_length=64)\n",
        "\n",
        "tf_train = tf.data.Dataset.from_tensor_slices((encoded_bert_sequence, df_train['cc5'].values))"
      ],
      "execution_count": null,
      "outputs": [
        {
          "output_type": "error",
          "ename": "ValueError",
          "evalue": "ignored",
          "traceback": [
            "\u001b[0;31m---------------------------------------------------------------------------\u001b[0m",
            "\u001b[0;31mValueError\u001b[0m                                Traceback (most recent call last)",
            "\u001b[0;32m<ipython-input-39-9f3230d4332d>\u001b[0m in \u001b[0;36m<module>\u001b[0;34m()\u001b[0m\n\u001b[1;32m      1\u001b[0m \u001b[0mencoded_bert_sequence\u001b[0m \u001b[0;34m=\u001b[0m \u001b[0mbert_tokenizer\u001b[0m\u001b[0;34m.\u001b[0m\u001b[0mencode\u001b[0m\u001b[0;34m(\u001b[0m\u001b[0mlist\u001b[0m\u001b[0;34m(\u001b[0m\u001b[0mX_train_de\u001b[0m\u001b[0;34m)\u001b[0m\u001b[0;34m,\u001b[0m \u001b[0madd_special_tokens\u001b[0m\u001b[0;34m=\u001b[0m\u001b[0;32mTrue\u001b[0m\u001b[0;34m,\u001b[0m \u001b[0mmax_length\u001b[0m\u001b[0;34m=\u001b[0m\u001b[0;36m64\u001b[0m\u001b[0;34m)\u001b[0m\u001b[0;34m\u001b[0m\u001b[0;34m\u001b[0m\u001b[0m\n\u001b[1;32m      2\u001b[0m \u001b[0;34m\u001b[0m\u001b[0m\n\u001b[0;32m----> 3\u001b[0;31m \u001b[0mtf_train\u001b[0m \u001b[0;34m=\u001b[0m \u001b[0mtf\u001b[0m\u001b[0;34m.\u001b[0m\u001b[0mdata\u001b[0m\u001b[0;34m.\u001b[0m\u001b[0mDataset\u001b[0m\u001b[0;34m.\u001b[0m\u001b[0mfrom_tensor_slices\u001b[0m\u001b[0;34m(\u001b[0m\u001b[0;34m(\u001b[0m\u001b[0mencoded_bert_sequence\u001b[0m\u001b[0;34m,\u001b[0m \u001b[0mdf_train\u001b[0m\u001b[0;34m[\u001b[0m\u001b[0;34m'cc5'\u001b[0m\u001b[0;34m]\u001b[0m\u001b[0;34m.\u001b[0m\u001b[0mvalues\u001b[0m\u001b[0;34m)\u001b[0m\u001b[0;34m)\u001b[0m\u001b[0;34m\u001b[0m\u001b[0;34m\u001b[0m\u001b[0m\n\u001b[0m",
            "\u001b[0;32m/usr/local/lib/python3.6/dist-packages/tensorflow_core/python/data/ops/dataset_ops.py\u001b[0m in \u001b[0;36mfrom_tensor_slices\u001b[0;34m(tensors)\u001b[0m\n\u001b[1;32m    642\u001b[0m       \u001b[0mDataset\u001b[0m\u001b[0;34m:\u001b[0m \u001b[0mA\u001b[0m\u001b[0;31m \u001b[0m\u001b[0;31m`\u001b[0m\u001b[0mDataset\u001b[0m\u001b[0;31m`\u001b[0m\u001b[0;34m.\u001b[0m\u001b[0;34m\u001b[0m\u001b[0;34m\u001b[0m\u001b[0m\n\u001b[1;32m    643\u001b[0m     \"\"\"\n\u001b[0;32m--> 644\u001b[0;31m     \u001b[0;32mreturn\u001b[0m \u001b[0mTensorSliceDataset\u001b[0m\u001b[0;34m(\u001b[0m\u001b[0mtensors\u001b[0m\u001b[0;34m)\u001b[0m\u001b[0;34m\u001b[0m\u001b[0;34m\u001b[0m\u001b[0m\n\u001b[0m\u001b[1;32m    645\u001b[0m \u001b[0;34m\u001b[0m\u001b[0m\n\u001b[1;32m    646\u001b[0m   \u001b[0;32mclass\u001b[0m \u001b[0m_GeneratorState\u001b[0m\u001b[0;34m(\u001b[0m\u001b[0mobject\u001b[0m\u001b[0;34m)\u001b[0m\u001b[0;34m:\u001b[0m\u001b[0;34m\u001b[0m\u001b[0;34m\u001b[0m\u001b[0m\n",
            "\u001b[0;32m/usr/local/lib/python3.6/dist-packages/tensorflow_core/python/data/ops/dataset_ops.py\u001b[0m in \u001b[0;36m__init__\u001b[0;34m(self, element)\u001b[0m\n\u001b[1;32m   2792\u001b[0m     \u001b[0;32mfor\u001b[0m \u001b[0mt\u001b[0m \u001b[0;32min\u001b[0m \u001b[0mself\u001b[0m\u001b[0;34m.\u001b[0m\u001b[0m_tensors\u001b[0m\u001b[0;34m[\u001b[0m\u001b[0;36m1\u001b[0m\u001b[0;34m:\u001b[0m\u001b[0;34m]\u001b[0m\u001b[0;34m:\u001b[0m\u001b[0;34m\u001b[0m\u001b[0;34m\u001b[0m\u001b[0m\n\u001b[1;32m   2793\u001b[0m       batch_dim.assert_is_compatible_with(tensor_shape.Dimension(\n\u001b[0;32m-> 2794\u001b[0;31m           tensor_shape.dimension_value(t.get_shape()[0])))\n\u001b[0m\u001b[1;32m   2795\u001b[0m \u001b[0;34m\u001b[0m\u001b[0m\n\u001b[1;32m   2796\u001b[0m     variant_tensor = gen_dataset_ops.tensor_slice_dataset(\n",
            "\u001b[0;32m/usr/local/lib/python3.6/dist-packages/tensorflow_core/python/framework/tensor_shape.py\u001b[0m in \u001b[0;36massert_is_compatible_with\u001b[0;34m(self, other)\u001b[0m\n\u001b[1;32m    274\u001b[0m     \u001b[0;32mif\u001b[0m \u001b[0;32mnot\u001b[0m \u001b[0mself\u001b[0m\u001b[0;34m.\u001b[0m\u001b[0mis_compatible_with\u001b[0m\u001b[0;34m(\u001b[0m\u001b[0mother\u001b[0m\u001b[0;34m)\u001b[0m\u001b[0;34m:\u001b[0m\u001b[0;34m\u001b[0m\u001b[0;34m\u001b[0m\u001b[0m\n\u001b[1;32m    275\u001b[0m       raise ValueError(\"Dimensions %s and %s are not compatible\" %\n\u001b[0;32m--> 276\u001b[0;31m                        (self, other))\n\u001b[0m\u001b[1;32m    277\u001b[0m \u001b[0;34m\u001b[0m\u001b[0m\n\u001b[1;32m    278\u001b[0m   \u001b[0;32mdef\u001b[0m \u001b[0mmerge_with\u001b[0m\u001b[0;34m(\u001b[0m\u001b[0mself\u001b[0m\u001b[0;34m,\u001b[0m \u001b[0mother\u001b[0m\u001b[0;34m)\u001b[0m\u001b[0;34m:\u001b[0m\u001b[0;34m\u001b[0m\u001b[0;34m\u001b[0m\u001b[0m\n",
            "\u001b[0;31mValueError\u001b[0m: Dimensions 64 and 16548 are not compatible"
          ]
        }
      ]
    },
    {
      "cell_type": "code",
      "metadata": {
        "id": "IYNnPNCpvJKA",
        "colab_type": "code",
        "colab": {
          "base_uri": "https://localhost:8080/",
          "height": 340
        },
        "outputId": "275d520d-630e-4d9d-b343-acf5a34fb0b1"
      },
      "source": [
        "from transformers import glue_convert_examples_to_features\n",
        "\n",
        "bert_train_dataset = glue_convert_examples_to_features(tf_train, bert_tokenizer, 64, 'mrpc')"
      ],
      "execution_count": null,
      "outputs": [
        {
          "output_type": "error",
          "ename": "TypeError",
          "evalue": "ignored",
          "traceback": [
            "\u001b[0;31m---------------------------------------------------------------------------\u001b[0m",
            "\u001b[0;31mTypeError\u001b[0m                                 Traceback (most recent call last)",
            "\u001b[0;32m<ipython-input-38-fedb15a68f5d>\u001b[0m in \u001b[0;36m<module>\u001b[0;34m()\u001b[0m\n\u001b[1;32m      1\u001b[0m \u001b[0;32mfrom\u001b[0m \u001b[0mtransformers\u001b[0m \u001b[0;32mimport\u001b[0m \u001b[0mglue_convert_examples_to_features\u001b[0m\u001b[0;34m\u001b[0m\u001b[0;34m\u001b[0m\u001b[0m\n\u001b[1;32m      2\u001b[0m \u001b[0;34m\u001b[0m\u001b[0m\n\u001b[0;32m----> 3\u001b[0;31m \u001b[0mbert_train_dataset\u001b[0m \u001b[0;34m=\u001b[0m \u001b[0mglue_convert_examples_to_features\u001b[0m\u001b[0;34m(\u001b[0m\u001b[0mtf_train\u001b[0m\u001b[0;34m,\u001b[0m \u001b[0mbert_tokenizer\u001b[0m\u001b[0;34m,\u001b[0m \u001b[0;36m64\u001b[0m\u001b[0;34m,\u001b[0m \u001b[0;34m'mrpc'\u001b[0m\u001b[0;34m)\u001b[0m\u001b[0;34m\u001b[0m\u001b[0;34m\u001b[0m\u001b[0m\n\u001b[0m",
            "\u001b[0;32m/usr/local/lib/python3.6/dist-packages/transformers/data/processors/glue.py\u001b[0m in \u001b[0;36mglue_convert_examples_to_features\u001b[0;34m(examples, tokenizer, max_length, task, label_list, output_mode)\u001b[0m\n\u001b[1;32m     60\u001b[0m         \u001b[0;32mif\u001b[0m \u001b[0mtask\u001b[0m \u001b[0;32mis\u001b[0m \u001b[0;32mNone\u001b[0m\u001b[0;34m:\u001b[0m\u001b[0;34m\u001b[0m\u001b[0;34m\u001b[0m\u001b[0m\n\u001b[1;32m     61\u001b[0m             \u001b[0;32mraise\u001b[0m \u001b[0mValueError\u001b[0m\u001b[0;34m(\u001b[0m\u001b[0;34m\"When calling glue_convert_examples_to_features from TF, the task parameter is required.\"\u001b[0m\u001b[0;34m)\u001b[0m\u001b[0;34m\u001b[0m\u001b[0;34m\u001b[0m\u001b[0m\n\u001b[0;32m---> 62\u001b[0;31m         \u001b[0;32mreturn\u001b[0m \u001b[0m_tf_glue_convert_examples_to_features\u001b[0m\u001b[0;34m(\u001b[0m\u001b[0mexamples\u001b[0m\u001b[0;34m,\u001b[0m \u001b[0mtokenizer\u001b[0m\u001b[0;34m,\u001b[0m \u001b[0mmax_length\u001b[0m\u001b[0;34m=\u001b[0m\u001b[0mmax_length\u001b[0m\u001b[0;34m,\u001b[0m \u001b[0mtask\u001b[0m\u001b[0;34m=\u001b[0m\u001b[0mtask\u001b[0m\u001b[0;34m)\u001b[0m\u001b[0;34m\u001b[0m\u001b[0;34m\u001b[0m\u001b[0m\n\u001b[0m\u001b[1;32m     63\u001b[0m     return _glue_convert_examples_to_features(\n\u001b[1;32m     64\u001b[0m         \u001b[0mexamples\u001b[0m\u001b[0;34m,\u001b[0m \u001b[0mtokenizer\u001b[0m\u001b[0;34m,\u001b[0m \u001b[0mmax_length\u001b[0m\u001b[0;34m=\u001b[0m\u001b[0mmax_length\u001b[0m\u001b[0;34m,\u001b[0m \u001b[0mtask\u001b[0m\u001b[0;34m=\u001b[0m\u001b[0mtask\u001b[0m\u001b[0;34m,\u001b[0m \u001b[0mlabel_list\u001b[0m\u001b[0;34m=\u001b[0m\u001b[0mlabel_list\u001b[0m\u001b[0;34m,\u001b[0m \u001b[0moutput_mode\u001b[0m\u001b[0;34m=\u001b[0m\u001b[0moutput_mode\u001b[0m\u001b[0;34m\u001b[0m\u001b[0;34m\u001b[0m\u001b[0m\n",
            "\u001b[0;32m/usr/local/lib/python3.6/dist-packages/transformers/data/processors/glue.py\u001b[0m in \u001b[0;36m_tf_glue_convert_examples_to_features\u001b[0;34m(examples, tokenizer, task, max_length)\u001b[0m\n\u001b[1;32m     77\u001b[0m         \"\"\"\n\u001b[1;32m     78\u001b[0m         \u001b[0mprocessor\u001b[0m \u001b[0;34m=\u001b[0m \u001b[0mglue_processors\u001b[0m\u001b[0;34m[\u001b[0m\u001b[0mtask\u001b[0m\u001b[0;34m]\u001b[0m\u001b[0;34m(\u001b[0m\u001b[0;34m)\u001b[0m\u001b[0;34m\u001b[0m\u001b[0;34m\u001b[0m\u001b[0m\n\u001b[0;32m---> 79\u001b[0;31m         \u001b[0mexamples\u001b[0m \u001b[0;34m=\u001b[0m \u001b[0;34m[\u001b[0m\u001b[0mprocessor\u001b[0m\u001b[0;34m.\u001b[0m\u001b[0mtfds_map\u001b[0m\u001b[0;34m(\u001b[0m\u001b[0mprocessor\u001b[0m\u001b[0;34m.\u001b[0m\u001b[0mget_example_from_tensor_dict\u001b[0m\u001b[0;34m(\u001b[0m\u001b[0mexample\u001b[0m\u001b[0;34m)\u001b[0m\u001b[0;34m)\u001b[0m \u001b[0;32mfor\u001b[0m \u001b[0mexample\u001b[0m \u001b[0;32min\u001b[0m \u001b[0mexamples\u001b[0m\u001b[0;34m]\u001b[0m\u001b[0;34m\u001b[0m\u001b[0;34m\u001b[0m\u001b[0m\n\u001b[0m\u001b[1;32m     80\u001b[0m         \u001b[0mfeatures\u001b[0m \u001b[0;34m=\u001b[0m \u001b[0mglue_convert_examples_to_features\u001b[0m\u001b[0;34m(\u001b[0m\u001b[0mexamples\u001b[0m\u001b[0;34m,\u001b[0m \u001b[0mtokenizer\u001b[0m\u001b[0;34m,\u001b[0m \u001b[0mmax_length\u001b[0m\u001b[0;34m=\u001b[0m\u001b[0mmax_length\u001b[0m\u001b[0;34m,\u001b[0m \u001b[0mtask\u001b[0m\u001b[0;34m=\u001b[0m\u001b[0mtask\u001b[0m\u001b[0;34m)\u001b[0m\u001b[0;34m\u001b[0m\u001b[0;34m\u001b[0m\u001b[0m\n\u001b[1;32m     81\u001b[0m \u001b[0;34m\u001b[0m\u001b[0m\n",
            "\u001b[0;32m/usr/local/lib/python3.6/dist-packages/transformers/data/processors/glue.py\u001b[0m in \u001b[0;36m<listcomp>\u001b[0;34m(.0)\u001b[0m\n\u001b[1;32m     77\u001b[0m         \"\"\"\n\u001b[1;32m     78\u001b[0m         \u001b[0mprocessor\u001b[0m \u001b[0;34m=\u001b[0m \u001b[0mglue_processors\u001b[0m\u001b[0;34m[\u001b[0m\u001b[0mtask\u001b[0m\u001b[0;34m]\u001b[0m\u001b[0;34m(\u001b[0m\u001b[0;34m)\u001b[0m\u001b[0;34m\u001b[0m\u001b[0;34m\u001b[0m\u001b[0m\n\u001b[0;32m---> 79\u001b[0;31m         \u001b[0mexamples\u001b[0m \u001b[0;34m=\u001b[0m \u001b[0;34m[\u001b[0m\u001b[0mprocessor\u001b[0m\u001b[0;34m.\u001b[0m\u001b[0mtfds_map\u001b[0m\u001b[0;34m(\u001b[0m\u001b[0mprocessor\u001b[0m\u001b[0;34m.\u001b[0m\u001b[0mget_example_from_tensor_dict\u001b[0m\u001b[0;34m(\u001b[0m\u001b[0mexample\u001b[0m\u001b[0;34m)\u001b[0m\u001b[0;34m)\u001b[0m \u001b[0;32mfor\u001b[0m \u001b[0mexample\u001b[0m \u001b[0;32min\u001b[0m \u001b[0mexamples\u001b[0m\u001b[0;34m]\u001b[0m\u001b[0;34m\u001b[0m\u001b[0;34m\u001b[0m\u001b[0m\n\u001b[0m\u001b[1;32m     80\u001b[0m         \u001b[0mfeatures\u001b[0m \u001b[0;34m=\u001b[0m \u001b[0mglue_convert_examples_to_features\u001b[0m\u001b[0;34m(\u001b[0m\u001b[0mexamples\u001b[0m\u001b[0;34m,\u001b[0m \u001b[0mtokenizer\u001b[0m\u001b[0;34m,\u001b[0m \u001b[0mmax_length\u001b[0m\u001b[0;34m=\u001b[0m\u001b[0mmax_length\u001b[0m\u001b[0;34m,\u001b[0m \u001b[0mtask\u001b[0m\u001b[0;34m=\u001b[0m\u001b[0mtask\u001b[0m\u001b[0;34m)\u001b[0m\u001b[0;34m\u001b[0m\u001b[0;34m\u001b[0m\u001b[0m\n\u001b[1;32m     81\u001b[0m \u001b[0;34m\u001b[0m\u001b[0m\n",
            "\u001b[0;32m/usr/local/lib/python3.6/dist-packages/transformers/data/processors/glue.py\u001b[0m in \u001b[0;36mget_example_from_tensor_dict\u001b[0;34m(self, tensor_dict)\u001b[0m\n\u001b[1;32m    168\u001b[0m         \u001b[0;34m\"\"\"See base class.\"\"\"\u001b[0m\u001b[0;34m\u001b[0m\u001b[0;34m\u001b[0m\u001b[0m\n\u001b[1;32m    169\u001b[0m         return InputExample(\n\u001b[0;32m--> 170\u001b[0;31m             \u001b[0mtensor_dict\u001b[0m\u001b[0;34m[\u001b[0m\u001b[0;34m\"idx\"\u001b[0m\u001b[0;34m]\u001b[0m\u001b[0;34m.\u001b[0m\u001b[0mnumpy\u001b[0m\u001b[0;34m(\u001b[0m\u001b[0;34m)\u001b[0m\u001b[0;34m,\u001b[0m\u001b[0;34m\u001b[0m\u001b[0;34m\u001b[0m\u001b[0m\n\u001b[0m\u001b[1;32m    171\u001b[0m             \u001b[0mtensor_dict\u001b[0m\u001b[0;34m[\u001b[0m\u001b[0;34m\"sentence1\"\u001b[0m\u001b[0;34m]\u001b[0m\u001b[0;34m.\u001b[0m\u001b[0mnumpy\u001b[0m\u001b[0;34m(\u001b[0m\u001b[0;34m)\u001b[0m\u001b[0;34m.\u001b[0m\u001b[0mdecode\u001b[0m\u001b[0;34m(\u001b[0m\u001b[0;34m\"utf-8\"\u001b[0m\u001b[0;34m)\u001b[0m\u001b[0;34m,\u001b[0m\u001b[0;34m\u001b[0m\u001b[0;34m\u001b[0m\u001b[0m\n\u001b[1;32m    172\u001b[0m             \u001b[0mtensor_dict\u001b[0m\u001b[0;34m[\u001b[0m\u001b[0;34m\"sentence2\"\u001b[0m\u001b[0;34m]\u001b[0m\u001b[0;34m.\u001b[0m\u001b[0mnumpy\u001b[0m\u001b[0;34m(\u001b[0m\u001b[0;34m)\u001b[0m\u001b[0;34m.\u001b[0m\u001b[0mdecode\u001b[0m\u001b[0;34m(\u001b[0m\u001b[0;34m\"utf-8\"\u001b[0m\u001b[0;34m)\u001b[0m\u001b[0;34m,\u001b[0m\u001b[0;34m\u001b[0m\u001b[0;34m\u001b[0m\u001b[0m\n",
            "\u001b[0;31mTypeError\u001b[0m: tuple indices must be integers or slices, not str"
          ]
        }
      ]
    },
    {
      "cell_type": "code",
      "metadata": {
        "id": "MT_oTop7t6H6",
        "colab_type": "code",
        "colab": {}
      },
      "source": [
        "optimizer = tf.keras.optimizers.Adam(learning_rate=3e-5, epsilon=1e-08, clipnorm=1.0)\n",
        "loss = tf.keras.losses.SparseCategoricalCrossentropy(from_logits=True)\n",
        "metric = tf.keras.metrics.SparseCategoricalAccuracy('accuracy')\n",
        "\n",
        "bert_model.compile(optimizer=optimizer, loss=loss, metrics=[metric])\n"
      ],
      "execution_count": null,
      "outputs": []
    },
    {
      "cell_type": "code",
      "metadata": {
        "id": "EpxrVm2qu2xX",
        "colab_type": "code",
        "colab": {}
      },
      "source": [
        "print(\"Fine-tuning BERT on MRPC\")\n",
        "bert_history = bert_model.fit(bert_train_dataset, epochs=3, validation_data=bert_validation_dataset)\n"
      ],
      "execution_count": null,
      "outputs": []
    },
    {
      "cell_type": "code",
      "metadata": {
        "id": "k6FoO9u0vEZ-",
        "colab_type": "code",
        "colab": {}
      },
      "source": [
        "print(\"Evaluating the BERT model\")\n",
        "bert_model.evaluate(bert_validation_dataset)\n"
      ],
      "execution_count": null,
      "outputs": []
    },
    {
      "cell_type": "code",
      "metadata": {
        "id": "TLcNppbvvErA",
        "colab_type": "code",
        "colab": {}
      },
      "source": [
        ""
      ],
      "execution_count": null,
      "outputs": []
    }
  ]
}